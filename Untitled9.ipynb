{
 "cells": [
  {
   "cell_type": "code",
   "execution_count": 195,
   "id": "cdbd965f",
   "metadata": {},
   "outputs": [],
   "source": [
    "import sys\n",
    "import math\n",
    "# write your answer here\n",
    "#print (\"Enter the number integers\")\n",
    "#p=int(input())\n",
    "#lst=[]\n",
    "\n",
    "#for i in range(0 p)\n",
    "   # q =int(input())\n",
    "    #lst.append(q)\n",
    "lst1=[]\n",
    "def PrintIndexes(arr, N):\n",
    "    \n",
    "    for i in range(N):\n",
    "        currSubSum = 0\n",
    "  \n",
    "        for j in range(i, N):\n",
    "            arr1=arr[i:j+1]\n",
    "\n",
    "            currSubSum=sum(arr1)\n",
    "            lst1.append(currSubSum)\n",
    "\n",
    "    return(lst1)\n",
    "\n",
    "\n",
    "            \n",
    "            \n",
    "\n",
    "\n",
    "           "
   ]
  },
  {
   "cell_type": "code",
   "execution_count": 171,
   "id": "6c6ec5ab",
   "metadata": {},
   "outputs": [],
   "source": [
    "def squareofele(N):\n",
    "    sqrlst=[]\n",
    "    for i in range(1,N+1):\n",
    "        square=i*i\n",
    "        sqrlst.append(square)\n",
    "    return(sqrlst)\n",
    "        "
   ]
  },
  {
   "cell_type": "code",
   "execution_count": 172,
   "id": "f2f32d31",
   "metadata": {},
   "outputs": [],
   "source": [
    "arr =[1,4,2,3]\n",
    "count=0\n",
    "\n",
    "lst=[]\n",
    "N=len(arr)"
   ]
  },
  {
   "cell_type": "code",
   "execution_count": 196,
   "id": "cf4cec4c",
   "metadata": {},
   "outputs": [],
   "source": [
    "contain=PrintIndexes(arr,N)"
   ]
  },
  {
   "cell_type": "code",
   "execution_count": 197,
   "id": "ae19dcb9",
   "metadata": {},
   "outputs": [
    {
     "data": {
      "text/plain": [
       "[1, 5, 7, 10, 4, 6, 9, 2, 5, 3]"
      ]
     },
     "execution_count": 197,
     "metadata": {},
     "output_type": "execute_result"
    }
   ],
   "source": [
    "contain"
   ]
  },
  {
   "cell_type": "code",
   "execution_count": 175,
   "id": "bee02485",
   "metadata": {},
   "outputs": [],
   "source": [
    "a=squareofele(4)"
   ]
  },
  {
   "cell_type": "code",
   "execution_count": 189,
   "id": "c5def946",
   "metadata": {},
   "outputs": [
    {
     "data": {
      "text/plain": [
       "10"
      ]
     },
     "execution_count": 189,
     "metadata": {},
     "output_type": "execute_result"
    }
   ],
   "source": [
    "len(contain)"
   ]
  },
  {
   "cell_type": "code",
   "execution_count": 176,
   "id": "252626ad",
   "metadata": {},
   "outputs": [
    {
     "data": {
      "text/plain": [
       "[1, 4, 9, 16]"
      ]
     },
     "execution_count": 176,
     "metadata": {},
     "output_type": "execute_result"
    }
   ],
   "source": [
    "a"
   ]
  },
  {
   "cell_type": "code",
   "execution_count": 204,
   "id": "54a25089",
   "metadata": {},
   "outputs": [
    {
     "name": "stdout",
     "output_type": "stream",
     "text": [
      "10\n",
      "3\n"
     ]
    }
   ],
   "source": [
    " \n",
    "i=0\n",
    "count=0\n",
    "Q = len(contain)\n",
    "print(Q)\n",
    "for i in range(0,Q): \n",
    "    if contain[i] in a:\n",
    "        count+=1\n",
    "print(count)\n",
    "        \n",
    "    \n",
    "\n",
    "            \n",
    "    "
   ]
  },
  {
   "cell_type": "code",
   "execution_count": 169,
   "id": "66747b0a",
   "metadata": {
    "scrolled": false
   },
   "outputs": [
    {
     "data": {
      "text/plain": [
       "<function __main__.contain(contain)>"
      ]
     },
     "execution_count": 169,
     "metadata": {},
     "output_type": "execute_result"
    }
   ],
   "source": [
    "contain"
   ]
  },
  {
   "cell_type": "code",
   "execution_count": null,
   "id": "944301b4",
   "metadata": {},
   "outputs": [],
   "source": []
  }
 ],
 "metadata": {
  "kernelspec": {
   "display_name": "Python 3",
   "language": "python",
   "name": "python3"
  },
  "language_info": {
   "codemirror_mode": {
    "name": "ipython",
    "version": 3
   },
   "file_extension": ".py",
   "mimetype": "text/x-python",
   "name": "python",
   "nbconvert_exporter": "python",
   "pygments_lexer": "ipython3",
   "version": "3.8.8"
  }
 },
 "nbformat": 4,
 "nbformat_minor": 5
}
