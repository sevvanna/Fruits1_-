{
 "cells": [
  {
   "cell_type": "code",
   "execution_count": 1,
   "id": "025b3021",
   "metadata": {},
   "outputs": [],
   "source": [
    "class AdjacencyListGraph:\n",
    "    def __init__(self, num_vertices):\n",
    "        self._num_vertices = num_vertices\n",
    "\n",
    "        self.adjacency_list = []\n",
    "\n",
    "        for vertex in range(0, self.num_vertices):\n",
    "            self.adjacency_list.append([])\n"
   ]
  },
  {
   "cell_type": "code",
   "execution_count": 3,
   "id": "7ce8e75b",
   "metadata": {},
   "outputs": [],
   "source": [
    "    def __str__(self):\n",
    "\n",
    "        adj_string = f'The Adjacency List Representation of the Graph:\\n\\n'\n",
    "\n",
    "        for vertex in range(0, self.num_vertices):\n",
    "            adj_string += f'Adjacency List for vertex {vertex} :: '\n",
    "\n",
    "            adj_list = self.adjacency_list[vertex]\n",
    "            adj_string += ' => '.join([f'{vert}' for vert in adj_list])\n",
    "\n",
    "            adj_string += '\\n\\n'\n"
   ]
  },
  {
   "cell_type": "code",
   "execution_count": 4,
   "id": "06cfe96d",
   "metadata": {},
   "outputs": [],
   "source": [
    "    def add_edge(self, v, w):\n",
    "        self.adjacency_list[v].append(w)\n",
    "        self.adjacency_list[w].append(v)\n"
   ]
  },
  {
   "cell_type": "code",
   "execution_count": null,
   "id": "2806c539",
   "metadata": {},
   "outputs": [],
   "source": [
    "class PathTraversal:\n",
    "    def __init__(self, graph, source):\n",
    "        self.graph = graph\n",
    "        self.source = source\n",
    "\n",
    "        n = self.graph.num_vertices\n",
    "\n",
    "        self.marked = []\n",
    "        self.marked = [False for vertex in range(0, n)]\n",
    "        \n",
    "        e = n * (n-1) // 2\n",
    "        self.edge_to = []\n",
    "        self.edge_to = [-1 for edge_to in range(0, e)]\n",
    "        \n",
    "    # More code follows\n"
   ]
  },
  {
   "cell_type": "code",
   "execution_count": null,
   "id": "4389338e",
   "metadata": {},
   "outputs": [],
   "source": [
    "    def path_to(self, vertex):\n",
    "        if not self.has_path_to(vertex):\n",
    "            return None\n",
    "\n",
    "        # Use a stack to store vertices on the path\n",
    "        path_stack = []\n",
    "        vert = vertex\n",
    "\n",
    "        while vert != self.source:\n",
    "            path_stack.append(vert)\n",
    "            vert = self.edge_to[vert]\n",
    "\n",
    "        path_stack.append(self.source)\n",
    "\n",
    "        path_vertices = []\n",
    "        size = len(path_stack)\n",
    "\n",
    "        for i in range(0, size):\n",
    "            path_vertices.append(path_stack.pop())\n",
    "\n",
    "        self.print_path(vertex, path_vertices)\n"
   ]
  }
 ],
 "metadata": {
  "kernelspec": {
   "display_name": "Python 3 (ipykernel)",
   "language": "python",
   "name": "python3"
  },
  "language_info": {
   "codemirror_mode": {
    "name": "ipython",
    "version": 3
   },
   "file_extension": ".py",
   "mimetype": "text/x-python",
   "name": "python",
   "nbconvert_exporter": "python",
   "pygments_lexer": "ipython3",
   "version": "3.9.13"
  }
 },
 "nbformat": 4,
 "nbformat_minor": 5
}
