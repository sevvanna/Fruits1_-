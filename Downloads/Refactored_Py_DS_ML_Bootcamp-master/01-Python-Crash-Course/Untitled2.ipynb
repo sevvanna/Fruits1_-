{
 "cells": [
  {
   "cell_type": "code",
   "execution_count": 4,
   "id": "7a0143c2",
   "metadata": {},
   "outputs": [],
   "source": [
    "class Node:\n",
    "    def __init__(self, data):\n",
    "        self.data = data\n",
    "        self.next = None\n"
   ]
  },
  {
   "cell_type": "code",
   "execution_count": 5,
   "id": "014fb3e8",
   "metadata": {},
   "outputs": [],
   "source": [
    "class LinkedList:\n",
    "    def __init__(self):\n",
    "        self.head = None\n",
    "        self.tail = None\n",
    "        \n",
    "    def add_first_node_to_the_list(self, node_obj):\n",
    "        assert self.head is None, \"Invalid list\"\n",
    "        assert self.tail is None, \"Invalid list\"\n",
    "        self.head = node_obj\n",
    "        self.tail = node_obj\n",
    "        \n",
    "    def add_node_in_the_end(self,node_obj):\n",
    "        assert self.tail, \"Invalid list\"\n",
    "        self.tail.next = node_obj\n",
    "        self.tail = node_obj\n",
    "        \n",
    "    def show_list(self):\n",
    "        print(\"The linked list elements are: \")\n",
    "        node = self.head\n",
    "        while node is not None:\n",
    "            print(node.data, end=\" \")\n",
    "            node = node.next\n",
    "            \n",
    "            \n",
    "\n",
    "\n",
    "            \n",
    "\n"
   ]
  },
  {
   "cell_type": "code",
   "execution_count": 7,
   "id": "c93f9eaf",
   "metadata": {},
   "outputs": [
    {
     "name": "stdout",
     "output_type": "stream",
     "text": [
      "\n",
      "Finding a number in the linked list: \n"
     ]
    },
    {
     "ename": "AttributeError",
     "evalue": "'LinkedList' object has no attribute 'find'",
     "output_type": "error",
     "traceback": [
      "\u001b[1;31m---------------------------------------------------------------------------\u001b[0m",
      "\u001b[1;31mAttributeError\u001b[0m                            Traceback (most recent call last)",
      "\u001b[1;32m<ipython-input-7-b2e2fb8e3e46>\u001b[0m in \u001b[0;36m<module>\u001b[1;34m\u001b[0m\n\u001b[0;32m      8\u001b[0m \u001b[0msingle_list\u001b[0m\u001b[1;33m.\u001b[0m\u001b[0madd_node_in_the_end\u001b[0m\u001b[1;33m(\u001b[0m\u001b[0mNode\u001b[0m\u001b[1;33m(\u001b[0m\u001b[1;36m12\u001b[0m\u001b[1;33m)\u001b[0m\u001b[1;33m)\u001b[0m\u001b[1;33m\u001b[0m\u001b[1;33m\u001b[0m\u001b[0m\n\u001b[0;32m      9\u001b[0m \u001b[0mprint\u001b[0m\u001b[1;33m(\u001b[0m\u001b[1;34m\"\\nFinding a number in the linked list: \"\u001b[0m\u001b[1;33m)\u001b[0m\u001b[1;33m\u001b[0m\u001b[1;33m\u001b[0m\u001b[0m\n\u001b[1;32m---> 10\u001b[1;33m \u001b[1;32mif\u001b[0m \u001b[0msingle_list\u001b[0m\u001b[1;33m.\u001b[0m\u001b[0mfind\u001b[0m\u001b[1;33m(\u001b[0m\u001b[1;36m25\u001b[0m\u001b[1;33m)\u001b[0m\u001b[1;33m:\u001b[0m\u001b[1;33m\u001b[0m\u001b[1;33m\u001b[0m\u001b[0m\n\u001b[0m\u001b[0;32m     11\u001b[0m     \u001b[0mprint\u001b[0m\u001b[1;33m(\u001b[0m\u001b[1;34m\"The searched number is available in the linked list\"\u001b[0m\u001b[1;33m)\u001b[0m\u001b[1;33m\u001b[0m\u001b[1;33m\u001b[0m\u001b[0m\n\u001b[0;32m     12\u001b[0m \u001b[1;32melse\u001b[0m\u001b[1;33m:\u001b[0m\u001b[1;33m\u001b[0m\u001b[1;33m\u001b[0m\u001b[0m\n",
      "\u001b[1;31mAttributeError\u001b[0m: 'LinkedList' object has no attribute 'find'"
     ]
    }
   ],
   "source": [
    "single_list = LinkedList()\n",
    "single_list.add_first_node_to_the_list(Node(3))\n",
    "single_list.add_node_in_the_end(Node(2))\n",
    "single_list.add_node_in_the_end(Node(4))\n",
    "single_list.add_node_in_the_end(Node(7))\n",
    "single_list.add_node_in_the_end(Node(5))\n",
    "single_list.add_node_in_the_end(Node(12))\n",
    "print(\"\\nFinding a number in the linked list: \")\n",
    "if single_list.find(25):\n",
    "    print(\"The searched number is available in the linked list\")\n",
    "else: \n",
    "    print(\"The searched number is not available in the linked list\")\n",
    "    \n",
    "single_list.sort_list()\n",
    "print(\"Linked List after completing the sorting: \")\n",
    "single_list.show_list()\n"
   ]
  },
  {
   "cell_type": "code",
   "execution_count": 9,
   "id": "d7f48bfe",
   "metadata": {},
   "outputs": [
    {
     "name": "stdout",
     "output_type": "stream",
     "text": [
      "The linked list elements are: \n",
      "3 2 4 7 5 12 "
     ]
    }
   ],
   "source": [
    "single_list = LinkedList()\n",
    "single_list.add_first_node_to_the_list(Node(3))\n",
    "single_list.add_node_in_the_end(Node(2))\n",
    "single_list.add_node_in_the_end(Node(4))\n",
    "single_list.add_node_in_the_end(Node(7))\n",
    "single_list.add_node_in_the_end(Node(5))\n",
    "single_list.add_node_in_the_end(Node(12))\n",
    "single_list.show_list()\n",
    "\n",
    "\n"
   ]
  },
  {
   "cell_type": "code",
   "execution_count": null,
   "id": "f9072821",
   "metadata": {},
   "outputs": [],
   "source": []
  }
 ],
 "metadata": {
  "kernelspec": {
   "display_name": "Python 3",
   "language": "python",
   "name": "python3"
  },
  "language_info": {
   "codemirror_mode": {
    "name": "ipython",
    "version": 3
   },
   "file_extension": ".py",
   "mimetype": "text/x-python",
   "name": "python",
   "nbconvert_exporter": "python",
   "pygments_lexer": "ipython3",
   "version": "3.8.8"
  }
 },
 "nbformat": 4,
 "nbformat_minor": 5
}
