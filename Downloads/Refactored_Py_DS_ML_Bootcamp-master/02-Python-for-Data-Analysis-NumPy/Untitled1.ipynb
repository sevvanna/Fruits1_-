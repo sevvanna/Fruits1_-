{
 "cells": [
  {
   "cell_type": "code",
   "execution_count": 1,
   "id": "5e096306",
   "metadata": {},
   "outputs": [],
   "source": [
    "import time\n",
    "import random\n",
    "import csv\n",
    "\n",
    "# This class will help in creating song object\n",
    "# It conatins information related to song such as id, name and duration\n",
    "class Song:\n",
    "    def __init__(self, song_id, song_name, song_length):\n",
    "        self.song_id = song_id\n",
    "        self.song_name = song_name\n",
    "        self.song_length = song_length\n",
    "        \n",
    "    def __str__(self):\n",
    "        return str({'song_id':self.song_id, \n",
    "                    'song_name':self.song_name, \n",
    "                    'song_length':self.song_length})"
   ]
  },
  {
   "cell_type": "code",
   "execution_count": null,
   "id": "3593abd1",
   "metadata": {},
   "outputs": [],
   "source": [
    "class ListNode:\n",
    "    def __init__(self, song:Song):\n",
    "        self.song = song\n",
    "        self.next = None\n",
    "        \n",
    "    def __str__(self):\n",
    "        return str(self.song)\n",
    "    \n",
    "\n",
    "# Linked list class that will be used to do the various operations\n",
    "# Insert, create, delete, traversal of the linked list\\\n",
    "# Few other operation such as \n",
    "# a. deletion of song, \n",
    "# b. sorting a linked list based on song \n",
    "# c. randomly picking a song for playing\n",
    "\n",
    "class LinkedList:\n",
    "    def __init__(self):\n",
    "        self.head_node = None\n",
    "        self.count = 0\n",
    "    \n",
    "    # Traversing the linked lists\n",
    "    def traversal(self):\n",
    "        if self.head_node is None:\n",
    "            return\n",
    "        \n",
    "        temp_node = self.head_node\n",
    "        \n",
    "        while(temp_node != None):\n",
    "            print(temp_node.song)\n",
    "            time.sleep(2)\n",
    "            temp_node = temp_node.next\n",
    "        \n",
    "        time.sleep(2)\n",
    "        \n",
    "        return"
   ]
  }
 ],
 "metadata": {
  "kernelspec": {
   "display_name": "Python 3",
   "language": "python",
   "name": "python3"
  },
  "language_info": {
   "codemirror_mode": {
    "name": "ipython",
    "version": 3
   },
   "file_extension": ".py",
   "mimetype": "text/x-python",
   "name": "python",
   "nbconvert_exporter": "python",
   "pygments_lexer": "ipython3",
   "version": "3.8.8"
  }
 },
 "nbformat": 4,
 "nbformat_minor": 5
}
