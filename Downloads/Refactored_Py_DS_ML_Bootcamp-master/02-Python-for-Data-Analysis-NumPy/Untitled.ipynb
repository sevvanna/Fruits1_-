{
 "cells": [
  {
   "cell_type": "code",
   "execution_count": 1,
   "id": "2730acac",
   "metadata": {},
   "outputs": [],
   "source": [
    "class Song:\n",
    "    def __init__(self, song_id, song_name, song_length):\n",
    "        self.song_id = song_id\n",
    "        self.song_name = song_name\n",
    "        self.song_length = song_length\n",
    "        \n",
    "    def __str__(self):\n",
    "        return str({'song_id':self.song_id, \n",
    "                    'song_name':self.song_name, \n",
    "                    'song_length':self.song_length})\n",
    "        \n",
    "\n"
   ]
  },
  {
   "cell_type": "code",
   "execution_count": 2,
   "id": "b7197efb",
   "metadata": {},
   "outputs": [],
   "source": [
    "class ListNode:\n",
    "    def __init__(self, song:Song):\n",
    "        self.song = song\n",
    "        self.next = None\n",
    "        \n",
    "    def __str__(self):\n",
    "        return str(self.song)\n",
    "    "
   ]
  },
  {
   "cell_type": "code",
   "execution_count": null,
   "id": "fd4af01d",
   "metadata": {},
   "outputs": [],
   "source": [
    "class LinkedList:\n",
    "    def __init__(self):\n",
    "        self.head_node = None\n",
    "        self.count = 0\n",
    "    \n",
    "    # Traversing the linked lists\n",
    "    def traversal(self):\n",
    "        if self.head_node is None:\n",
    "            return\n",
    "        \n",
    "        temp_node = self.head_node\n",
    "        \n",
    "        while(temp_node != None):\n",
    "            print(temp_node.song)\n",
    "            time.sleep(2)\n",
    "            temp_node = temp_node.next\n",
    "        \n",
    "        time.sleep(2)\n",
    "        \n",
    "        return\n",
    "    \n",
    "    # insertion of the node in the beginning of the linked lists\n",
    "    def insert_at_start(self, node):\n",
    "        if self.head_node is None:\n",
    "            self.head_node = node\n",
    "            self.count = self.count + 1\n",
    "            return True\n",
    "        \n",
    "        node.next = self.head_node\n",
    "        self.head_node = node\n",
    "        \n",
    "        return True\n"
   ]
  }
 ],
 "metadata": {
  "kernelspec": {
   "display_name": "Python 3",
   "language": "python",
   "name": "python3"
  },
  "language_info": {
   "codemirror_mode": {
    "name": "ipython",
    "version": 3
   },
   "file_extension": ".py",
   "mimetype": "text/x-python",
   "name": "python",
   "nbconvert_exporter": "python",
   "pygments_lexer": "ipython3",
   "version": "3.8.8"
  }
 },
 "nbformat": 4,
 "nbformat_minor": 5
}
