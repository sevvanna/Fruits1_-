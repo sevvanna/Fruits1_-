{
  "cells": [
    {
      "cell_type": "markdown",
      "id": "18bafff9",
      "metadata": {
        "id": "18bafff9"
      },
      "source": [
        "# Machine Learning Module - Unsupervised Learning"
      ]
    },
    {
      "cell_type": "markdown",
      "id": "cd81092d",
      "metadata": {
        "id": "cd81092d"
      },
      "source": [
        "## Business Context"
      ]
    },
    {
      "cell_type": "markdown",
      "id": "5c26e284",
      "metadata": {
        "id": "5c26e284"
      },
      "source": [
        "* A key challenge for Mobile App businesses is to analyze the trend in the market to increase their sales/usage.\n",
        "*We have access to the user's demographic characteristics, geo-location, and mobile device properties. This grouping can be done by applying different criteria like user’s data, their age group, phone brand compatibility and so on. \n",
        "*The machine learning clustering algorithms can provide an analytical method to cluster user segments with similar interests/habits.This will help App/mobile providers better understand and interact with their subscribers."
      ]
    },
    {
      "cell_type": "markdown",
      "id": "f1f8bdb4",
      "metadata": {
        "id": "f1f8bdb4"
      },
      "source": [
        "## Project Objective\n",
        "We will be clustering the users into groups by selected features that significantly distinguish different brands from each other and understand which factors are responsible for making the clusters"
      ]
    },
    {
      "cell_type": "markdown",
      "id": "3ca85c09",
      "metadata": {
        "id": "3ca85c09"
      },
      "source": [
        "## Data Description\n",
        "\n",
        "* events.csv - Event data has an event id, location detail (lat/long), and timestamp, when the user is using an app on his device\n",
        "\n",
        "* gender_age.csv - Details of users age & gender\n",
        " \n",
        "* phone_device.csv - Device ids, brand, and models name. Here the brands names are in Chinese, you can convert it to english using google for better understanding but we will not do it here.\n",
        "\n",
        "Few important conversions are as listed below:\n",
        "\n",
        "* 三星 samsung\n",
        "\n",
        "* 天语 Ktouch\n",
        "\n",
        "* 海信 hisense\n",
        "\n",
        "* 联想 lenovo\n",
        "\n",
        "* 爱派尔 ipair\n",
        "\n",
        "* 一加 oneplus\n",
        "\n",
        "* 诺基亚 nokia\n",
        "\n",
        "* 华硕 asus\n",
        "\n",
        "* 夏新 panosonic\n",
        "\n",
        "* 锤子 hammer"
      ]
    },
    {
      "cell_type": "markdown",
      "id": "43ca11bf",
      "metadata": {
        "id": "43ca11bf"
      },
      "source": [
        "### 1. Load the required libraries and read the dataset."
      ]
    },
    {
      "cell_type": "code",
      "execution_count": null,
      "id": "0a07a98b",
      "metadata": {
        "id": "0a07a98b"
      },
      "outputs": [],
      "source": [
        "import numpy as np\n",
        "import pandas as pd\n",
        "import seaborn as sns\n",
        "import matplotlib.pyplot as plt\n",
        "import warnings\n",
        "warnings.filterwarnings('ignore')\n",
        "\n",
        "from sklearn.preprocessing import LabelEncoder, MinMaxScaler\n",
        "from sklearn.decomposition import PCA\n",
        "from sklearn.cluster import KMeans\n",
        "from scipy.cluster.hierarchy import linkage, dendrogram, fcluster\n",
        "from sklearn.cluster import AgglomerativeClustering\n",
        "from sklearn.metrics import silhouette_score"
      ]
    },
    {
      "cell_type": "code",
      "source": [
        "from google.colab import drive\n",
        "drive.mount('/content/gdrive')"
      ],
      "metadata": {
        "colab": {
          "base_uri": "https://localhost:8080/"
        },
        "id": "nxsVvgd5MXSi",
        "outputId": "ef23672e-924f-4bd4-8215-e9275f29d3bf"
      },
      "id": "nxsVvgd5MXSi",
      "execution_count": null,
      "outputs": [
        {
          "output_type": "stream",
          "name": "stdout",
          "text": [
            "Drive already mounted at /content/gdrive; to attempt to forcibly remount, call drive.mount(\"/content/gdrive\", force_remount=True).\n"
          ]
        }
      ]
    },
    {
      "cell_type": "code",
      "source": [
        "events= pd.read_csv('/content/gdrive/My Drive/events.csv',encoding='utf-8')"
      ],
      "metadata": {
        "id": "rIw8d0GhMhHy"
      },
      "id": "rIw8d0GhMhHy",
      "execution_count": null,
      "outputs": []
    },
    {
      "cell_type": "code",
      "source": [
        "Age= pd.read_csv('/content/gdrive/My Drive/gender_age.csv',encoding='utf-8')"
      ],
      "metadata": {
        "id": "RQ2CPEwJMhFn"
      },
      "id": "RQ2CPEwJMhFn",
      "execution_count": null,
      "outputs": []
    },
    {
      "cell_type": "code",
      "source": [
        "phone_brand= pd.read_csv('/content/gdrive/My Drive/phone_device.csv',encoding='utf-8')"
      ],
      "metadata": {
        "id": "L5grdRnHMg6Q"
      },
      "id": "L5grdRnHMg6Q",
      "execution_count": null,
      "outputs": []
    },
    {
      "cell_type": "markdown",
      "id": "3cc732e4",
      "metadata": {
        "id": "3cc732e4"
      },
      "source": [
        "### 2. Check the first few samples, shape, info of the data and try to familiarize yourself with different features"
      ]
    },
    {
      "cell_type": "code",
      "execution_count": null,
      "id": "802c58fe",
      "metadata": {
        "id": "802c58fe",
        "outputId": "beb8f0cd-6f4f-4e15-a1b5-b9a77aa6bd56",
        "colab": {
          "base_uri": "https://localhost:8080/",
          "height": 143
        }
      },
      "outputs": [
        {
          "output_type": "execute_result",
          "data": {
            "text/plain": [
              "   event_id            device_id            timestamp  longitude  latitude\n",
              "0         1    29182687948017175  2016-05-01 00:55:25     121.38     31.24\n",
              "1         2 -6401643145415154744  2016-05-01 00:54:12     103.65     30.97\n",
              "2         3 -4833982096941402721  2016-05-01 00:08:05     106.60     29.70"
            ],
            "text/html": [
              "\n",
              "  <div id=\"df-4c449dab-b03c-4b37-908a-dc34f2424e16\">\n",
              "    <div class=\"colab-df-container\">\n",
              "      <div>\n",
              "<style scoped>\n",
              "    .dataframe tbody tr th:only-of-type {\n",
              "        vertical-align: middle;\n",
              "    }\n",
              "\n",
              "    .dataframe tbody tr th {\n",
              "        vertical-align: top;\n",
              "    }\n",
              "\n",
              "    .dataframe thead th {\n",
              "        text-align: right;\n",
              "    }\n",
              "</style>\n",
              "<table border=\"1\" class=\"dataframe\">\n",
              "  <thead>\n",
              "    <tr style=\"text-align: right;\">\n",
              "      <th></th>\n",
              "      <th>event_id</th>\n",
              "      <th>device_id</th>\n",
              "      <th>timestamp</th>\n",
              "      <th>longitude</th>\n",
              "      <th>latitude</th>\n",
              "    </tr>\n",
              "  </thead>\n",
              "  <tbody>\n",
              "    <tr>\n",
              "      <th>0</th>\n",
              "      <td>1</td>\n",
              "      <td>29182687948017175</td>\n",
              "      <td>2016-05-01 00:55:25</td>\n",
              "      <td>121.38</td>\n",
              "      <td>31.24</td>\n",
              "    </tr>\n",
              "    <tr>\n",
              "      <th>1</th>\n",
              "      <td>2</td>\n",
              "      <td>-6401643145415154744</td>\n",
              "      <td>2016-05-01 00:54:12</td>\n",
              "      <td>103.65</td>\n",
              "      <td>30.97</td>\n",
              "    </tr>\n",
              "    <tr>\n",
              "      <th>2</th>\n",
              "      <td>3</td>\n",
              "      <td>-4833982096941402721</td>\n",
              "      <td>2016-05-01 00:08:05</td>\n",
              "      <td>106.60</td>\n",
              "      <td>29.70</td>\n",
              "    </tr>\n",
              "  </tbody>\n",
              "</table>\n",
              "</div>\n",
              "      <button class=\"colab-df-convert\" onclick=\"convertToInteractive('df-4c449dab-b03c-4b37-908a-dc34f2424e16')\"\n",
              "              title=\"Convert this dataframe to an interactive table.\"\n",
              "              style=\"display:none;\">\n",
              "        \n",
              "  <svg xmlns=\"http://www.w3.org/2000/svg\" height=\"24px\"viewBox=\"0 0 24 24\"\n",
              "       width=\"24px\">\n",
              "    <path d=\"M0 0h24v24H0V0z\" fill=\"none\"/>\n",
              "    <path d=\"M18.56 5.44l.94 2.06.94-2.06 2.06-.94-2.06-.94-.94-2.06-.94 2.06-2.06.94zm-11 1L8.5 8.5l.94-2.06 2.06-.94-2.06-.94L8.5 2.5l-.94 2.06-2.06.94zm10 10l.94 2.06.94-2.06 2.06-.94-2.06-.94-.94-2.06-.94 2.06-2.06.94z\"/><path d=\"M17.41 7.96l-1.37-1.37c-.4-.4-.92-.59-1.43-.59-.52 0-1.04.2-1.43.59L10.3 9.45l-7.72 7.72c-.78.78-.78 2.05 0 2.83L4 21.41c.39.39.9.59 1.41.59.51 0 1.02-.2 1.41-.59l7.78-7.78 2.81-2.81c.8-.78.8-2.07 0-2.86zM5.41 20L4 18.59l7.72-7.72 1.47 1.35L5.41 20z\"/>\n",
              "  </svg>\n",
              "      </button>\n",
              "      \n",
              "  <style>\n",
              "    .colab-df-container {\n",
              "      display:flex;\n",
              "      flex-wrap:wrap;\n",
              "      gap: 12px;\n",
              "    }\n",
              "\n",
              "    .colab-df-convert {\n",
              "      background-color: #E8F0FE;\n",
              "      border: none;\n",
              "      border-radius: 50%;\n",
              "      cursor: pointer;\n",
              "      display: none;\n",
              "      fill: #1967D2;\n",
              "      height: 32px;\n",
              "      padding: 0 0 0 0;\n",
              "      width: 32px;\n",
              "    }\n",
              "\n",
              "    .colab-df-convert:hover {\n",
              "      background-color: #E2EBFA;\n",
              "      box-shadow: 0px 1px 2px rgba(60, 64, 67, 0.3), 0px 1px 3px 1px rgba(60, 64, 67, 0.15);\n",
              "      fill: #174EA6;\n",
              "    }\n",
              "\n",
              "    [theme=dark] .colab-df-convert {\n",
              "      background-color: #3B4455;\n",
              "      fill: #D2E3FC;\n",
              "    }\n",
              "\n",
              "    [theme=dark] .colab-df-convert:hover {\n",
              "      background-color: #434B5C;\n",
              "      box-shadow: 0px 1px 3px 1px rgba(0, 0, 0, 0.15);\n",
              "      filter: drop-shadow(0px 1px 2px rgba(0, 0, 0, 0.3));\n",
              "      fill: #FFFFFF;\n",
              "    }\n",
              "  </style>\n",
              "\n",
              "      <script>\n",
              "        const buttonEl =\n",
              "          document.querySelector('#df-4c449dab-b03c-4b37-908a-dc34f2424e16 button.colab-df-convert');\n",
              "        buttonEl.style.display =\n",
              "          google.colab.kernel.accessAllowed ? 'block' : 'none';\n",
              "\n",
              "        async function convertToInteractive(key) {\n",
              "          const element = document.querySelector('#df-4c449dab-b03c-4b37-908a-dc34f2424e16');\n",
              "          const dataTable =\n",
              "            await google.colab.kernel.invokeFunction('convertToInteractive',\n",
              "                                                     [key], {});\n",
              "          if (!dataTable) return;\n",
              "\n",
              "          const docLinkHtml = 'Like what you see? Visit the ' +\n",
              "            '<a target=\"_blank\" href=https://colab.research.google.com/notebooks/data_table.ipynb>data table notebook</a>'\n",
              "            + ' to learn more about interactive tables.';\n",
              "          element.innerHTML = '';\n",
              "          dataTable['output_type'] = 'display_data';\n",
              "          await google.colab.output.renderOutput(dataTable, element);\n",
              "          const docLink = document.createElement('div');\n",
              "          docLink.innerHTML = docLinkHtml;\n",
              "          element.appendChild(docLink);\n",
              "        }\n",
              "      </script>\n",
              "    </div>\n",
              "  </div>\n",
              "  "
            ]
          },
          "metadata": {},
          "execution_count": 39
        }
      ],
      "source": [
        "## lets check first few samples\n",
        "events.head(3)"
      ]
    },
    {
      "cell_type": "code",
      "execution_count": null,
      "id": "00f49266",
      "metadata": {
        "id": "00f49266",
        "outputId": "a2710ac8-b953-43e5-c0e3-8dbc8462ee5c",
        "colab": {
          "base_uri": "https://localhost:8080/"
        }
      },
      "outputs": [
        {
          "output_type": "execute_result",
          "data": {
            "text/plain": [
              "(3252950, 5)"
            ]
          },
          "metadata": {},
          "execution_count": 40
        }
      ],
      "source": [
        "## lets check the shape of the dataset\n",
        "events.shape"
      ]
    },
    {
      "cell_type": "code",
      "source": [
        "events.info()"
      ],
      "metadata": {
        "colab": {
          "base_uri": "https://localhost:8080/"
        },
        "id": "FkJjw4q2M8nh",
        "outputId": "7e4abc57-b051-42cf-ebff-b2904ae614f5"
      },
      "id": "FkJjw4q2M8nh",
      "execution_count": null,
      "outputs": [
        {
          "output_type": "stream",
          "name": "stdout",
          "text": [
            "<class 'pandas.core.frame.DataFrame'>\n",
            "RangeIndex: 3252950 entries, 0 to 3252949\n",
            "Data columns (total 5 columns):\n",
            " #   Column     Dtype  \n",
            "---  ------     -----  \n",
            " 0   event_id   int64  \n",
            " 1   device_id  int64  \n",
            " 2   timestamp  object \n",
            " 3   longitude  float64\n",
            " 4   latitude   float64\n",
            "dtypes: float64(2), int64(2), object(1)\n",
            "memory usage: 124.1+ MB\n"
          ]
        }
      ]
    },
    {
      "cell_type": "code",
      "source": [
        "Age.head(3)\n"
      ],
      "metadata": {
        "colab": {
          "base_uri": "https://localhost:8080/",
          "height": 143
        },
        "id": "OOs5N_uEM8Vc",
        "outputId": "9dfe7460-c0fc-498d-97ff-103f814f5d9c"
      },
      "id": "OOs5N_uEM8Vc",
      "execution_count": null,
      "outputs": [
        {
          "output_type": "execute_result",
          "data": {
            "text/plain": [
              "             device_id gender  age   group\n",
              "0 -8076087639492063270      M   35  M32-38\n",
              "1 -2897161552818060146      M   35  M32-38\n",
              "2 -8260683887967679142      M   35  M32-38"
            ],
            "text/html": [
              "\n",
              "  <div id=\"df-67b5122c-e31d-4028-9f84-0a590440bc29\">\n",
              "    <div class=\"colab-df-container\">\n",
              "      <div>\n",
              "<style scoped>\n",
              "    .dataframe tbody tr th:only-of-type {\n",
              "        vertical-align: middle;\n",
              "    }\n",
              "\n",
              "    .dataframe tbody tr th {\n",
              "        vertical-align: top;\n",
              "    }\n",
              "\n",
              "    .dataframe thead th {\n",
              "        text-align: right;\n",
              "    }\n",
              "</style>\n",
              "<table border=\"1\" class=\"dataframe\">\n",
              "  <thead>\n",
              "    <tr style=\"text-align: right;\">\n",
              "      <th></th>\n",
              "      <th>device_id</th>\n",
              "      <th>gender</th>\n",
              "      <th>age</th>\n",
              "      <th>group</th>\n",
              "    </tr>\n",
              "  </thead>\n",
              "  <tbody>\n",
              "    <tr>\n",
              "      <th>0</th>\n",
              "      <td>-8076087639492063270</td>\n",
              "      <td>M</td>\n",
              "      <td>35</td>\n",
              "      <td>M32-38</td>\n",
              "    </tr>\n",
              "    <tr>\n",
              "      <th>1</th>\n",
              "      <td>-2897161552818060146</td>\n",
              "      <td>M</td>\n",
              "      <td>35</td>\n",
              "      <td>M32-38</td>\n",
              "    </tr>\n",
              "    <tr>\n",
              "      <th>2</th>\n",
              "      <td>-8260683887967679142</td>\n",
              "      <td>M</td>\n",
              "      <td>35</td>\n",
              "      <td>M32-38</td>\n",
              "    </tr>\n",
              "  </tbody>\n",
              "</table>\n",
              "</div>\n",
              "      <button class=\"colab-df-convert\" onclick=\"convertToInteractive('df-67b5122c-e31d-4028-9f84-0a590440bc29')\"\n",
              "              title=\"Convert this dataframe to an interactive table.\"\n",
              "              style=\"display:none;\">\n",
              "        \n",
              "  <svg xmlns=\"http://www.w3.org/2000/svg\" height=\"24px\"viewBox=\"0 0 24 24\"\n",
              "       width=\"24px\">\n",
              "    <path d=\"M0 0h24v24H0V0z\" fill=\"none\"/>\n",
              "    <path d=\"M18.56 5.44l.94 2.06.94-2.06 2.06-.94-2.06-.94-.94-2.06-.94 2.06-2.06.94zm-11 1L8.5 8.5l.94-2.06 2.06-.94-2.06-.94L8.5 2.5l-.94 2.06-2.06.94zm10 10l.94 2.06.94-2.06 2.06-.94-2.06-.94-.94-2.06-.94 2.06-2.06.94z\"/><path d=\"M17.41 7.96l-1.37-1.37c-.4-.4-.92-.59-1.43-.59-.52 0-1.04.2-1.43.59L10.3 9.45l-7.72 7.72c-.78.78-.78 2.05 0 2.83L4 21.41c.39.39.9.59 1.41.59.51 0 1.02-.2 1.41-.59l7.78-7.78 2.81-2.81c.8-.78.8-2.07 0-2.86zM5.41 20L4 18.59l7.72-7.72 1.47 1.35L5.41 20z\"/>\n",
              "  </svg>\n",
              "      </button>\n",
              "      \n",
              "  <style>\n",
              "    .colab-df-container {\n",
              "      display:flex;\n",
              "      flex-wrap:wrap;\n",
              "      gap: 12px;\n",
              "    }\n",
              "\n",
              "    .colab-df-convert {\n",
              "      background-color: #E8F0FE;\n",
              "      border: none;\n",
              "      border-radius: 50%;\n",
              "      cursor: pointer;\n",
              "      display: none;\n",
              "      fill: #1967D2;\n",
              "      height: 32px;\n",
              "      padding: 0 0 0 0;\n",
              "      width: 32px;\n",
              "    }\n",
              "\n",
              "    .colab-df-convert:hover {\n",
              "      background-color: #E2EBFA;\n",
              "      box-shadow: 0px 1px 2px rgba(60, 64, 67, 0.3), 0px 1px 3px 1px rgba(60, 64, 67, 0.15);\n",
              "      fill: #174EA6;\n",
              "    }\n",
              "\n",
              "    [theme=dark] .colab-df-convert {\n",
              "      background-color: #3B4455;\n",
              "      fill: #D2E3FC;\n",
              "    }\n",
              "\n",
              "    [theme=dark] .colab-df-convert:hover {\n",
              "      background-color: #434B5C;\n",
              "      box-shadow: 0px 1px 3px 1px rgba(0, 0, 0, 0.15);\n",
              "      filter: drop-shadow(0px 1px 2px rgba(0, 0, 0, 0.3));\n",
              "      fill: #FFFFFF;\n",
              "    }\n",
              "  </style>\n",
              "\n",
              "      <script>\n",
              "        const buttonEl =\n",
              "          document.querySelector('#df-67b5122c-e31d-4028-9f84-0a590440bc29 button.colab-df-convert');\n",
              "        buttonEl.style.display =\n",
              "          google.colab.kernel.accessAllowed ? 'block' : 'none';\n",
              "\n",
              "        async function convertToInteractive(key) {\n",
              "          const element = document.querySelector('#df-67b5122c-e31d-4028-9f84-0a590440bc29');\n",
              "          const dataTable =\n",
              "            await google.colab.kernel.invokeFunction('convertToInteractive',\n",
              "                                                     [key], {});\n",
              "          if (!dataTable) return;\n",
              "\n",
              "          const docLinkHtml = 'Like what you see? Visit the ' +\n",
              "            '<a target=\"_blank\" href=https://colab.research.google.com/notebooks/data_table.ipynb>data table notebook</a>'\n",
              "            + ' to learn more about interactive tables.';\n",
              "          element.innerHTML = '';\n",
              "          dataTable['output_type'] = 'display_data';\n",
              "          await google.colab.output.renderOutput(dataTable, element);\n",
              "          const docLink = document.createElement('div');\n",
              "          docLink.innerHTML = docLinkHtml;\n",
              "          element.appendChild(docLink);\n",
              "        }\n",
              "      </script>\n",
              "    </div>\n",
              "  </div>\n",
              "  "
            ]
          },
          "metadata": {},
          "execution_count": 42
        }
      ]
    },
    {
      "cell_type": "code",
      "source": [
        "Age.shape"
      ],
      "metadata": {
        "colab": {
          "base_uri": "https://localhost:8080/"
        },
        "id": "yrWbz3DwM8P4",
        "outputId": "1e007b48-27cb-4cc2-c3d9-229bcf3c75b7"
      },
      "id": "yrWbz3DwM8P4",
      "execution_count": null,
      "outputs": [
        {
          "output_type": "execute_result",
          "data": {
            "text/plain": [
              "(74645, 4)"
            ]
          },
          "metadata": {},
          "execution_count": 43
        }
      ]
    },
    {
      "cell_type": "code",
      "source": [
        "Age.info()"
      ],
      "metadata": {
        "colab": {
          "base_uri": "https://localhost:8080/"
        },
        "id": "yNuyXskZM64v",
        "outputId": "1a51032d-6bb7-4e69-a187-b802b90cc127"
      },
      "id": "yNuyXskZM64v",
      "execution_count": null,
      "outputs": [
        {
          "output_type": "stream",
          "name": "stdout",
          "text": [
            "<class 'pandas.core.frame.DataFrame'>\n",
            "RangeIndex: 74645 entries, 0 to 74644\n",
            "Data columns (total 4 columns):\n",
            " #   Column     Non-Null Count  Dtype \n",
            "---  ------     --------------  ----- \n",
            " 0   device_id  74645 non-null  int64 \n",
            " 1   gender     74645 non-null  object\n",
            " 2   age        74645 non-null  int64 \n",
            " 3   group      74645 non-null  object\n",
            "dtypes: int64(2), object(2)\n",
            "memory usage: 2.3+ MB\n"
          ]
        }
      ]
    },
    {
      "cell_type": "code",
      "source": [
        "phone_brand.head(3)"
      ],
      "metadata": {
        "colab": {
          "base_uri": "https://localhost:8080/",
          "height": 143
        },
        "id": "88BVHiUeM62I",
        "outputId": "9eb116a4-d162-4011-da2e-939b66fb7b5a"
      },
      "id": "88BVHiUeM62I",
      "execution_count": null,
      "outputs": [
        {
          "output_type": "execute_result",
          "data": {
            "text/plain": [
              "             device_id phone_brand device_model\n",
              "0 -8890648629457979026          小米           红米\n",
              "1  1277779817574759137          小米         MI 2\n",
              "2  5137427614288105724          三星    Galaxy S4"
            ],
            "text/html": [
              "\n",
              "  <div id=\"df-0d0d4728-5ba1-42ce-a556-60ee9c24fc2d\">\n",
              "    <div class=\"colab-df-container\">\n",
              "      <div>\n",
              "<style scoped>\n",
              "    .dataframe tbody tr th:only-of-type {\n",
              "        vertical-align: middle;\n",
              "    }\n",
              "\n",
              "    .dataframe tbody tr th {\n",
              "        vertical-align: top;\n",
              "    }\n",
              "\n",
              "    .dataframe thead th {\n",
              "        text-align: right;\n",
              "    }\n",
              "</style>\n",
              "<table border=\"1\" class=\"dataframe\">\n",
              "  <thead>\n",
              "    <tr style=\"text-align: right;\">\n",
              "      <th></th>\n",
              "      <th>device_id</th>\n",
              "      <th>phone_brand</th>\n",
              "      <th>device_model</th>\n",
              "    </tr>\n",
              "  </thead>\n",
              "  <tbody>\n",
              "    <tr>\n",
              "      <th>0</th>\n",
              "      <td>-8890648629457979026</td>\n",
              "      <td>小米</td>\n",
              "      <td>红米</td>\n",
              "    </tr>\n",
              "    <tr>\n",
              "      <th>1</th>\n",
              "      <td>1277779817574759137</td>\n",
              "      <td>小米</td>\n",
              "      <td>MI 2</td>\n",
              "    </tr>\n",
              "    <tr>\n",
              "      <th>2</th>\n",
              "      <td>5137427614288105724</td>\n",
              "      <td>三星</td>\n",
              "      <td>Galaxy S4</td>\n",
              "    </tr>\n",
              "  </tbody>\n",
              "</table>\n",
              "</div>\n",
              "      <button class=\"colab-df-convert\" onclick=\"convertToInteractive('df-0d0d4728-5ba1-42ce-a556-60ee9c24fc2d')\"\n",
              "              title=\"Convert this dataframe to an interactive table.\"\n",
              "              style=\"display:none;\">\n",
              "        \n",
              "  <svg xmlns=\"http://www.w3.org/2000/svg\" height=\"24px\"viewBox=\"0 0 24 24\"\n",
              "       width=\"24px\">\n",
              "    <path d=\"M0 0h24v24H0V0z\" fill=\"none\"/>\n",
              "    <path d=\"M18.56 5.44l.94 2.06.94-2.06 2.06-.94-2.06-.94-.94-2.06-.94 2.06-2.06.94zm-11 1L8.5 8.5l.94-2.06 2.06-.94-2.06-.94L8.5 2.5l-.94 2.06-2.06.94zm10 10l.94 2.06.94-2.06 2.06-.94-2.06-.94-.94-2.06-.94 2.06-2.06.94z\"/><path d=\"M17.41 7.96l-1.37-1.37c-.4-.4-.92-.59-1.43-.59-.52 0-1.04.2-1.43.59L10.3 9.45l-7.72 7.72c-.78.78-.78 2.05 0 2.83L4 21.41c.39.39.9.59 1.41.59.51 0 1.02-.2 1.41-.59l7.78-7.78 2.81-2.81c.8-.78.8-2.07 0-2.86zM5.41 20L4 18.59l7.72-7.72 1.47 1.35L5.41 20z\"/>\n",
              "  </svg>\n",
              "      </button>\n",
              "      \n",
              "  <style>\n",
              "    .colab-df-container {\n",
              "      display:flex;\n",
              "      flex-wrap:wrap;\n",
              "      gap: 12px;\n",
              "    }\n",
              "\n",
              "    .colab-df-convert {\n",
              "      background-color: #E8F0FE;\n",
              "      border: none;\n",
              "      border-radius: 50%;\n",
              "      cursor: pointer;\n",
              "      display: none;\n",
              "      fill: #1967D2;\n",
              "      height: 32px;\n",
              "      padding: 0 0 0 0;\n",
              "      width: 32px;\n",
              "    }\n",
              "\n",
              "    .colab-df-convert:hover {\n",
              "      background-color: #E2EBFA;\n",
              "      box-shadow: 0px 1px 2px rgba(60, 64, 67, 0.3), 0px 1px 3px 1px rgba(60, 64, 67, 0.15);\n",
              "      fill: #174EA6;\n",
              "    }\n",
              "\n",
              "    [theme=dark] .colab-df-convert {\n",
              "      background-color: #3B4455;\n",
              "      fill: #D2E3FC;\n",
              "    }\n",
              "\n",
              "    [theme=dark] .colab-df-convert:hover {\n",
              "      background-color: #434B5C;\n",
              "      box-shadow: 0px 1px 3px 1px rgba(0, 0, 0, 0.15);\n",
              "      filter: drop-shadow(0px 1px 2px rgba(0, 0, 0, 0.3));\n",
              "      fill: #FFFFFF;\n",
              "    }\n",
              "  </style>\n",
              "\n",
              "      <script>\n",
              "        const buttonEl =\n",
              "          document.querySelector('#df-0d0d4728-5ba1-42ce-a556-60ee9c24fc2d button.colab-df-convert');\n",
              "        buttonEl.style.display =\n",
              "          google.colab.kernel.accessAllowed ? 'block' : 'none';\n",
              "\n",
              "        async function convertToInteractive(key) {\n",
              "          const element = document.querySelector('#df-0d0d4728-5ba1-42ce-a556-60ee9c24fc2d');\n",
              "          const dataTable =\n",
              "            await google.colab.kernel.invokeFunction('convertToInteractive',\n",
              "                                                     [key], {});\n",
              "          if (!dataTable) return;\n",
              "\n",
              "          const docLinkHtml = 'Like what you see? Visit the ' +\n",
              "            '<a target=\"_blank\" href=https://colab.research.google.com/notebooks/data_table.ipynb>data table notebook</a>'\n",
              "            + ' to learn more about interactive tables.';\n",
              "          element.innerHTML = '';\n",
              "          dataTable['output_type'] = 'display_data';\n",
              "          await google.colab.output.renderOutput(dataTable, element);\n",
              "          const docLink = document.createElement('div');\n",
              "          docLink.innerHTML = docLinkHtml;\n",
              "          element.appendChild(docLink);\n",
              "        }\n",
              "      </script>\n",
              "    </div>\n",
              "  </div>\n",
              "  "
            ]
          },
          "metadata": {},
          "execution_count": 45
        }
      ]
    },
    {
      "cell_type": "code",
      "source": [
        "phone_brand.shape"
      ],
      "metadata": {
        "colab": {
          "base_uri": "https://localhost:8080/"
        },
        "id": "yxgUBwhnM6uQ",
        "outputId": "4b3410ed-3505-4d5c-ef3b-35e9acc72b3d"
      },
      "id": "yxgUBwhnM6uQ",
      "execution_count": null,
      "outputs": [
        {
          "output_type": "execute_result",
          "data": {
            "text/plain": [
              "(187245, 3)"
            ]
          },
          "metadata": {},
          "execution_count": 46
        }
      ]
    },
    {
      "cell_type": "code",
      "source": [
        "phone_brand.info()"
      ],
      "metadata": {
        "colab": {
          "base_uri": "https://localhost:8080/"
        },
        "id": "XjpDKUfeM6rh",
        "outputId": "ce3eacf4-51db-417f-c4b4-a9b39c7980cd"
      },
      "id": "XjpDKUfeM6rh",
      "execution_count": null,
      "outputs": [
        {
          "output_type": "stream",
          "name": "stdout",
          "text": [
            "<class 'pandas.core.frame.DataFrame'>\n",
            "RangeIndex: 187245 entries, 0 to 187244\n",
            "Data columns (total 3 columns):\n",
            " #   Column        Non-Null Count   Dtype \n",
            "---  ------        --------------   ----- \n",
            " 0   device_id     187245 non-null  int64 \n",
            " 1   phone_brand   187245 non-null  object\n",
            " 2   device_model  187245 non-null  object\n",
            "dtypes: int64(1), object(2)\n",
            "memory usage: 4.3+ MB\n"
          ]
        }
      ]
    },
    {
      "cell_type": "markdown",
      "metadata": {
        "id": "OSWqVTesun1l"
      },
      "source": [
        "Here in Phone Brand data, phone brand & model name is in chinease/different language. We can google it to convert in engish or use any translation API to learn performing language translation. If you are doing manually through google. For simplicity, we will not do anything here for our use case. We will use it as given. \n",
        "\n",
        "Few important conversion are as listed below-\n",
        "\n",
        "三星 samsung\n",
        "\n",
        "天语 Ktouch\n",
        "\n",
        "海信 hisense\n",
        "\n",
        "联想 lenovo\n",
        "\n",
        "爱派尔 ipair\n",
        "\n",
        "一加 oneplus\n",
        "\n",
        "诺基亚 nokia\n",
        "\n",
        "华硕 asus\n",
        "\n",
        "夏新 panosonic\n",
        "\n",
        "锤子 hammer"
      ],
      "id": "OSWqVTesun1l"
    },
    {
      "cell_type": "markdown",
      "metadata": {
        "id": "UgL84hPRk9FV"
      },
      "source": [
        "### Exploratory Data Analysis (EDA)"
      ],
      "id": "UgL84hPRk9FV"
    },
    {
      "cell_type": "markdown",
      "metadata": {
        "id": "OJj5r7rpun2L"
      },
      "source": [
        "Data preparation is the process of cleaning and transforming raw data before building the models\n",
        "You should always explore all the data points and try building your initial hypothesis to see if that factor/variable can help you in solving your main problem statement/your goal\n",
        "\n",
        "Here we analyze the data with the following steps:\n",
        "1. Check if there are any duplicate records in the dataset? If any drop them.\n",
        "2. Merge the data into a single dataframe\n",
        "3. Check if there is any missing data and handle the same accordingly.\n",
        "4. Perform data visualization on the dataset to gain some basic insights about the data in hand.\n",
        "5. Study summary statistics and mention your findings\n",
        "6. Convert string features (phone_brand, device_model, etc.) into categories and make them numerical.\n",
        "7. Standardize the data to bring relevant features into a scale\n",
        "8. Drop irrelevant columns like 'timestamp','event_id','device_id' etc from the dataset.\n"
      ],
      "id": "OJj5r7rpun2L"
    },
    {
      "cell_type": "markdown",
      "id": "c85b7d3c",
      "metadata": {
        "id": "c85b7d3c"
      },
      "source": [
        "### 3. Check if there are any duplicate records in the dataset? If any drop them"
      ]
    },
    {
      "cell_type": "code",
      "execution_count": null,
      "id": "db302da7",
      "metadata": {
        "id": "db302da7",
        "outputId": "843e027e-ac97-409a-bc7f-b5531667b27c",
        "colab": {
          "base_uri": "https://localhost:8080/"
        }
      },
      "outputs": [
        {
          "output_type": "stream",
          "name": "stdout",
          "text": [
            "Number of Unique Phone Device:  186716\n",
            "Total Number of Devices in Phone Data:  187245\n",
            "Number of Duplicate Devices:  529\n"
          ]
        }
      ],
      "source": [
        "#check duplicates in device id & clean it\n",
        "phone_devices_unique=np.unique(phone_brand['device_id'].values)\n",
        "print(\"Number of Unique Phone Device: \",len(phone_devices_unique))\n",
        "print(\"Total Number of Devices in Phone Data: \",phone_brand.shape[0])\n",
        "print(\"Number of Duplicate Devices: \",phone_brand.shape[0]-len(phone_devices_unique))"
      ]
    },
    {
      "cell_type": "code",
      "execution_count": null,
      "id": "969c1e85",
      "metadata": {
        "id": "969c1e85",
        "colab": {
          "base_uri": "https://localhost:8080/"
        },
        "outputId": "ee814c9c-eef0-4168-ee9c-3892c97509cd"
      },
      "outputs": [
        {
          "output_type": "execute_result",
          "data": {
            "text/plain": [
              "186716"
            ]
          },
          "metadata": {},
          "execution_count": 49
        }
      ],
      "source": [
        "#remove duplicates\n",
        "phone_brand = phone_brand.drop_duplicates('device_id', keep='first')\n",
        "phone_brand.shape[0]"
      ]
    },
    {
      "cell_type": "markdown",
      "source": [
        "### 4. Merge the data together into a single dataframe"
      ],
      "metadata": {
        "id": "VYj_kM6U9yvz"
      },
      "id": "VYj_kM6U9yvz"
    },
    {
      "cell_type": "code",
      "execution_count": null,
      "id": "324f8c4d",
      "metadata": {
        "id": "324f8c4d"
      },
      "outputs": [],
      "source": [
        "#Merge all data together. We can do it all together but better do one by one and learn new dimensions of data\n",
        "labelled_data = (events.merge(phone_brand, how='left', on='device_id')\n",
        "                            .merge(Age, how='left', on='device_id')\n",
        "                            )"
      ]
    },
    {
      "cell_type": "code",
      "metadata": {
        "id": "rIzXhykCun1v",
        "colab": {
          "base_uri": "https://localhost:8080/",
          "height": 112
        },
        "outputId": "b40f39b4-68a0-4849-8174-dbc835719028"
      },
      "source": [
        "# Check new data frame look\n",
        "labelled_data.head(2)"
      ],
      "execution_count": null,
      "outputs": [
        {
          "output_type": "execute_result",
          "data": {
            "text/plain": [
              "   event_id            device_id            timestamp  longitude  latitude  \\\n",
              "0         1    29182687948017175  2016-05-01 00:55:25     121.38     31.24   \n",
              "1         2 -6401643145415154744  2016-05-01 00:54:12     103.65     30.97   \n",
              "\n",
              "  phone_brand        device_model gender   age group  \n",
              "0          小米              红米note      M  46.0  M39+  \n",
              "1          三星  Galaxy Grand Prime    NaN   NaN   NaN  "
            ],
            "text/html": [
              "\n",
              "  <div id=\"df-94f7f799-69e2-472e-9988-34b9e407d14a\">\n",
              "    <div class=\"colab-df-container\">\n",
              "      <div>\n",
              "<style scoped>\n",
              "    .dataframe tbody tr th:only-of-type {\n",
              "        vertical-align: middle;\n",
              "    }\n",
              "\n",
              "    .dataframe tbody tr th {\n",
              "        vertical-align: top;\n",
              "    }\n",
              "\n",
              "    .dataframe thead th {\n",
              "        text-align: right;\n",
              "    }\n",
              "</style>\n",
              "<table border=\"1\" class=\"dataframe\">\n",
              "  <thead>\n",
              "    <tr style=\"text-align: right;\">\n",
              "      <th></th>\n",
              "      <th>event_id</th>\n",
              "      <th>device_id</th>\n",
              "      <th>timestamp</th>\n",
              "      <th>longitude</th>\n",
              "      <th>latitude</th>\n",
              "      <th>phone_brand</th>\n",
              "      <th>device_model</th>\n",
              "      <th>gender</th>\n",
              "      <th>age</th>\n",
              "      <th>group</th>\n",
              "    </tr>\n",
              "  </thead>\n",
              "  <tbody>\n",
              "    <tr>\n",
              "      <th>0</th>\n",
              "      <td>1</td>\n",
              "      <td>29182687948017175</td>\n",
              "      <td>2016-05-01 00:55:25</td>\n",
              "      <td>121.38</td>\n",
              "      <td>31.24</td>\n",
              "      <td>小米</td>\n",
              "      <td>红米note</td>\n",
              "      <td>M</td>\n",
              "      <td>46.0</td>\n",
              "      <td>M39+</td>\n",
              "    </tr>\n",
              "    <tr>\n",
              "      <th>1</th>\n",
              "      <td>2</td>\n",
              "      <td>-6401643145415154744</td>\n",
              "      <td>2016-05-01 00:54:12</td>\n",
              "      <td>103.65</td>\n",
              "      <td>30.97</td>\n",
              "      <td>三星</td>\n",
              "      <td>Galaxy Grand Prime</td>\n",
              "      <td>NaN</td>\n",
              "      <td>NaN</td>\n",
              "      <td>NaN</td>\n",
              "    </tr>\n",
              "  </tbody>\n",
              "</table>\n",
              "</div>\n",
              "      <button class=\"colab-df-convert\" onclick=\"convertToInteractive('df-94f7f799-69e2-472e-9988-34b9e407d14a')\"\n",
              "              title=\"Convert this dataframe to an interactive table.\"\n",
              "              style=\"display:none;\">\n",
              "        \n",
              "  <svg xmlns=\"http://www.w3.org/2000/svg\" height=\"24px\"viewBox=\"0 0 24 24\"\n",
              "       width=\"24px\">\n",
              "    <path d=\"M0 0h24v24H0V0z\" fill=\"none\"/>\n",
              "    <path d=\"M18.56 5.44l.94 2.06.94-2.06 2.06-.94-2.06-.94-.94-2.06-.94 2.06-2.06.94zm-11 1L8.5 8.5l.94-2.06 2.06-.94-2.06-.94L8.5 2.5l-.94 2.06-2.06.94zm10 10l.94 2.06.94-2.06 2.06-.94-2.06-.94-.94-2.06-.94 2.06-2.06.94z\"/><path d=\"M17.41 7.96l-1.37-1.37c-.4-.4-.92-.59-1.43-.59-.52 0-1.04.2-1.43.59L10.3 9.45l-7.72 7.72c-.78.78-.78 2.05 0 2.83L4 21.41c.39.39.9.59 1.41.59.51 0 1.02-.2 1.41-.59l7.78-7.78 2.81-2.81c.8-.78.8-2.07 0-2.86zM5.41 20L4 18.59l7.72-7.72 1.47 1.35L5.41 20z\"/>\n",
              "  </svg>\n",
              "      </button>\n",
              "      \n",
              "  <style>\n",
              "    .colab-df-container {\n",
              "      display:flex;\n",
              "      flex-wrap:wrap;\n",
              "      gap: 12px;\n",
              "    }\n",
              "\n",
              "    .colab-df-convert {\n",
              "      background-color: #E8F0FE;\n",
              "      border: none;\n",
              "      border-radius: 50%;\n",
              "      cursor: pointer;\n",
              "      display: none;\n",
              "      fill: #1967D2;\n",
              "      height: 32px;\n",
              "      padding: 0 0 0 0;\n",
              "      width: 32px;\n",
              "    }\n",
              "\n",
              "    .colab-df-convert:hover {\n",
              "      background-color: #E2EBFA;\n",
              "      box-shadow: 0px 1px 2px rgba(60, 64, 67, 0.3), 0px 1px 3px 1px rgba(60, 64, 67, 0.15);\n",
              "      fill: #174EA6;\n",
              "    }\n",
              "\n",
              "    [theme=dark] .colab-df-convert {\n",
              "      background-color: #3B4455;\n",
              "      fill: #D2E3FC;\n",
              "    }\n",
              "\n",
              "    [theme=dark] .colab-df-convert:hover {\n",
              "      background-color: #434B5C;\n",
              "      box-shadow: 0px 1px 3px 1px rgba(0, 0, 0, 0.15);\n",
              "      filter: drop-shadow(0px 1px 2px rgba(0, 0, 0, 0.3));\n",
              "      fill: #FFFFFF;\n",
              "    }\n",
              "  </style>\n",
              "\n",
              "      <script>\n",
              "        const buttonEl =\n",
              "          document.querySelector('#df-94f7f799-69e2-472e-9988-34b9e407d14a button.colab-df-convert');\n",
              "        buttonEl.style.display =\n",
              "          google.colab.kernel.accessAllowed ? 'block' : 'none';\n",
              "\n",
              "        async function convertToInteractive(key) {\n",
              "          const element = document.querySelector('#df-94f7f799-69e2-472e-9988-34b9e407d14a');\n",
              "          const dataTable =\n",
              "            await google.colab.kernel.invokeFunction('convertToInteractive',\n",
              "                                                     [key], {});\n",
              "          if (!dataTable) return;\n",
              "\n",
              "          const docLinkHtml = 'Like what you see? Visit the ' +\n",
              "            '<a target=\"_blank\" href=https://colab.research.google.com/notebooks/data_table.ipynb>data table notebook</a>'\n",
              "            + ' to learn more about interactive tables.';\n",
              "          element.innerHTML = '';\n",
              "          dataTable['output_type'] = 'display_data';\n",
              "          await google.colab.output.renderOutput(dataTable, element);\n",
              "          const docLink = document.createElement('div');\n",
              "          docLink.innerHTML = docLinkHtml;\n",
              "          element.appendChild(docLink);\n",
              "        }\n",
              "      </script>\n",
              "    </div>\n",
              "  </div>\n",
              "  "
            ]
          },
          "metadata": {},
          "execution_count": 51
        }
      ],
      "id": "rIzXhykCun1v"
    },
    {
      "cell_type": "code",
      "metadata": {
        "id": "sODtr82eun18",
        "colab": {
          "base_uri": "https://localhost:8080/"
        },
        "outputId": "e9236d7c-fc02-4aa5-ec2c-c903eb0b9efe"
      },
      "source": [
        "# let's analyze timestamp data\n",
        "event_time=labelled_data['timestamp'].values\n",
        "print(\"Event Start: \",np.min(event_time))\n",
        "print(\"Event End: \",np.max(event_time))"
      ],
      "execution_count": null,
      "outputs": [
        {
          "output_type": "stream",
          "name": "stdout",
          "text": [
            "Event Start:  2016-04-30 23:52:24\n",
            "Event End:  2016-05-08 00:00:08\n"
          ]
        }
      ],
      "id": "sODtr82eun18"
    },
    {
      "cell_type": "markdown",
      "metadata": {
        "id": "1_cSJOKEun1_"
      },
      "source": [
        "*The Events Data provided is for a period of 7 Days Starting from 30th April 2016 mid-night to starting of 8th May 2016"
      ],
      "id": "1_cSJOKEun1_"
    },
    {
      "cell_type": "code",
      "metadata": {
        "id": "c9Ur5w0qSemH",
        "colab": {
          "base_uri": "https://localhost:8080/"
        },
        "outputId": "96ebc89f-0f73-4e4f-ab1e-5c88c6ea8c92"
      },
      "source": [
        "labelled_data.shape"
      ],
      "execution_count": null,
      "outputs": [
        {
          "output_type": "execute_result",
          "data": {
            "text/plain": [
              "(3252950, 10)"
            ]
          },
          "metadata": {},
          "execution_count": 53
        }
      ],
      "id": "c9Ur5w0qSemH"
    },
    {
      "cell_type": "markdown",
      "source": [
        "### 5. Check for missing values in each column of the dataset? If it exists, handle them accordingly."
      ],
      "metadata": {
        "id": "a7H8pPTW9_KK"
      },
      "id": "a7H8pPTW9_KK"
    },
    {
      "cell_type": "code",
      "source": [
        "labelled_data.isna().sum()"
      ],
      "metadata": {
        "colab": {
          "base_uri": "https://localhost:8080/"
        },
        "id": "b7gdXZD0g0Y9",
        "outputId": "34c6f6bf-254d-4f22-c8e7-a0fc8bc96f45"
      },
      "id": "b7gdXZD0g0Y9",
      "execution_count": null,
      "outputs": [
        {
          "output_type": "execute_result",
          "data": {
            "text/plain": [
              "event_id              0\n",
              "device_id             0\n",
              "timestamp             0\n",
              "longitude             0\n",
              "latitude              0\n",
              "phone_brand       92533\n",
              "device_model      92533\n",
              "gender          2037355\n",
              "age             2037355\n",
              "group           2037355\n",
              "dtype: int64"
            ]
          },
          "metadata": {},
          "execution_count": 54
        }
      ]
    },
    {
      "cell_type": "code",
      "source": [
        "percent_missing = labelled_data.isnull().sum() * 100 / len(labelled_data)\n",
        "missing_value_df = pd.DataFrame({'column_name': labelled_data.columns,\n",
        "                                 'percent_missing': percent_missing})\n",
        "missing_value_df"
      ],
      "metadata": {
        "colab": {
          "base_uri": "https://localhost:8080/",
          "height": 363
        },
        "id": "moUGlFL7hq73",
        "outputId": "3455fe9e-101d-4a74-f1c5-9d7fe424adc8"
      },
      "id": "moUGlFL7hq73",
      "execution_count": null,
      "outputs": [
        {
          "output_type": "execute_result",
          "data": {
            "text/plain": [
              "               column_name  percent_missing\n",
              "event_id          event_id         0.000000\n",
              "device_id        device_id         0.000000\n",
              "timestamp        timestamp         0.000000\n",
              "longitude        longitude         0.000000\n",
              "latitude          latitude         0.000000\n",
              "phone_brand    phone_brand         2.844587\n",
              "device_model  device_model         2.844587\n",
              "gender              gender        62.630996\n",
              "age                    age        62.630996\n",
              "group                group        62.630996"
            ],
            "text/html": [
              "\n",
              "  <div id=\"df-9d25d82d-5aec-47f7-8e44-29f227f9747f\">\n",
              "    <div class=\"colab-df-container\">\n",
              "      <div>\n",
              "<style scoped>\n",
              "    .dataframe tbody tr th:only-of-type {\n",
              "        vertical-align: middle;\n",
              "    }\n",
              "\n",
              "    .dataframe tbody tr th {\n",
              "        vertical-align: top;\n",
              "    }\n",
              "\n",
              "    .dataframe thead th {\n",
              "        text-align: right;\n",
              "    }\n",
              "</style>\n",
              "<table border=\"1\" class=\"dataframe\">\n",
              "  <thead>\n",
              "    <tr style=\"text-align: right;\">\n",
              "      <th></th>\n",
              "      <th>column_name</th>\n",
              "      <th>percent_missing</th>\n",
              "    </tr>\n",
              "  </thead>\n",
              "  <tbody>\n",
              "    <tr>\n",
              "      <th>event_id</th>\n",
              "      <td>event_id</td>\n",
              "      <td>0.000000</td>\n",
              "    </tr>\n",
              "    <tr>\n",
              "      <th>device_id</th>\n",
              "      <td>device_id</td>\n",
              "      <td>0.000000</td>\n",
              "    </tr>\n",
              "    <tr>\n",
              "      <th>timestamp</th>\n",
              "      <td>timestamp</td>\n",
              "      <td>0.000000</td>\n",
              "    </tr>\n",
              "    <tr>\n",
              "      <th>longitude</th>\n",
              "      <td>longitude</td>\n",
              "      <td>0.000000</td>\n",
              "    </tr>\n",
              "    <tr>\n",
              "      <th>latitude</th>\n",
              "      <td>latitude</td>\n",
              "      <td>0.000000</td>\n",
              "    </tr>\n",
              "    <tr>\n",
              "      <th>phone_brand</th>\n",
              "      <td>phone_brand</td>\n",
              "      <td>2.844587</td>\n",
              "    </tr>\n",
              "    <tr>\n",
              "      <th>device_model</th>\n",
              "      <td>device_model</td>\n",
              "      <td>2.844587</td>\n",
              "    </tr>\n",
              "    <tr>\n",
              "      <th>gender</th>\n",
              "      <td>gender</td>\n",
              "      <td>62.630996</td>\n",
              "    </tr>\n",
              "    <tr>\n",
              "      <th>age</th>\n",
              "      <td>age</td>\n",
              "      <td>62.630996</td>\n",
              "    </tr>\n",
              "    <tr>\n",
              "      <th>group</th>\n",
              "      <td>group</td>\n",
              "      <td>62.630996</td>\n",
              "    </tr>\n",
              "  </tbody>\n",
              "</table>\n",
              "</div>\n",
              "      <button class=\"colab-df-convert\" onclick=\"convertToInteractive('df-9d25d82d-5aec-47f7-8e44-29f227f9747f')\"\n",
              "              title=\"Convert this dataframe to an interactive table.\"\n",
              "              style=\"display:none;\">\n",
              "        \n",
              "  <svg xmlns=\"http://www.w3.org/2000/svg\" height=\"24px\"viewBox=\"0 0 24 24\"\n",
              "       width=\"24px\">\n",
              "    <path d=\"M0 0h24v24H0V0z\" fill=\"none\"/>\n",
              "    <path d=\"M18.56 5.44l.94 2.06.94-2.06 2.06-.94-2.06-.94-.94-2.06-.94 2.06-2.06.94zm-11 1L8.5 8.5l.94-2.06 2.06-.94-2.06-.94L8.5 2.5l-.94 2.06-2.06.94zm10 10l.94 2.06.94-2.06 2.06-.94-2.06-.94-.94-2.06-.94 2.06-2.06.94z\"/><path d=\"M17.41 7.96l-1.37-1.37c-.4-.4-.92-.59-1.43-.59-.52 0-1.04.2-1.43.59L10.3 9.45l-7.72 7.72c-.78.78-.78 2.05 0 2.83L4 21.41c.39.39.9.59 1.41.59.51 0 1.02-.2 1.41-.59l7.78-7.78 2.81-2.81c.8-.78.8-2.07 0-2.86zM5.41 20L4 18.59l7.72-7.72 1.47 1.35L5.41 20z\"/>\n",
              "  </svg>\n",
              "      </button>\n",
              "      \n",
              "  <style>\n",
              "    .colab-df-container {\n",
              "      display:flex;\n",
              "      flex-wrap:wrap;\n",
              "      gap: 12px;\n",
              "    }\n",
              "\n",
              "    .colab-df-convert {\n",
              "      background-color: #E8F0FE;\n",
              "      border: none;\n",
              "      border-radius: 50%;\n",
              "      cursor: pointer;\n",
              "      display: none;\n",
              "      fill: #1967D2;\n",
              "      height: 32px;\n",
              "      padding: 0 0 0 0;\n",
              "      width: 32px;\n",
              "    }\n",
              "\n",
              "    .colab-df-convert:hover {\n",
              "      background-color: #E2EBFA;\n",
              "      box-shadow: 0px 1px 2px rgba(60, 64, 67, 0.3), 0px 1px 3px 1px rgba(60, 64, 67, 0.15);\n",
              "      fill: #174EA6;\n",
              "    }\n",
              "\n",
              "    [theme=dark] .colab-df-convert {\n",
              "      background-color: #3B4455;\n",
              "      fill: #D2E3FC;\n",
              "    }\n",
              "\n",
              "    [theme=dark] .colab-df-convert:hover {\n",
              "      background-color: #434B5C;\n",
              "      box-shadow: 0px 1px 3px 1px rgba(0, 0, 0, 0.15);\n",
              "      filter: drop-shadow(0px 1px 2px rgba(0, 0, 0, 0.3));\n",
              "      fill: #FFFFFF;\n",
              "    }\n",
              "  </style>\n",
              "\n",
              "      <script>\n",
              "        const buttonEl =\n",
              "          document.querySelector('#df-9d25d82d-5aec-47f7-8e44-29f227f9747f button.colab-df-convert');\n",
              "        buttonEl.style.display =\n",
              "          google.colab.kernel.accessAllowed ? 'block' : 'none';\n",
              "\n",
              "        async function convertToInteractive(key) {\n",
              "          const element = document.querySelector('#df-9d25d82d-5aec-47f7-8e44-29f227f9747f');\n",
              "          const dataTable =\n",
              "            await google.colab.kernel.invokeFunction('convertToInteractive',\n",
              "                                                     [key], {});\n",
              "          if (!dataTable) return;\n",
              "\n",
              "          const docLinkHtml = 'Like what you see? Visit the ' +\n",
              "            '<a target=\"_blank\" href=https://colab.research.google.com/notebooks/data_table.ipynb>data table notebook</a>'\n",
              "            + ' to learn more about interactive tables.';\n",
              "          element.innerHTML = '';\n",
              "          dataTable['output_type'] = 'display_data';\n",
              "          await google.colab.output.renderOutput(dataTable, element);\n",
              "          const docLink = document.createElement('div');\n",
              "          docLink.innerHTML = docLinkHtml;\n",
              "          element.appendChild(docLink);\n",
              "        }\n",
              "      </script>\n",
              "    </div>\n",
              "  </div>\n",
              "  "
            ]
          },
          "metadata": {},
          "execution_count": 55
        }
      ]
    },
    {
      "cell_type": "markdown",
      "source": [
        "### 6. Check the statistical summary for the numerical and categorical columns and write your findings."
      ],
      "metadata": {
        "id": "B7HkP34_-uVb"
      },
      "id": "B7HkP34_-uVb"
    },
    {
      "cell_type": "markdown",
      "source": [
        "Since we see more than 60% of the data has null values we drop these rows, since these are one of the vital features, we wouldn't want to handle the missing values since it might affect the final prediction."
      ],
      "metadata": {
        "id": "P_y_SETtiIWi"
      },
      "id": "P_y_SETtiIWi"
    },
    {
      "cell_type": "code",
      "metadata": {
        "id": "eNCbV6jQSXEg",
        "colab": {
          "base_uri": "https://localhost:8080/"
        },
        "outputId": "7e08e872-2c04-47d0-f05e-d8f0b4b0f666"
      },
      "source": [
        "df = labelled_data.dropna()\n",
        "df.shape"
      ],
      "execution_count": null,
      "outputs": [
        {
          "output_type": "execute_result",
          "data": {
            "text/plain": [
              "(1215595, 10)"
            ]
          },
          "metadata": {},
          "execution_count": 56
        }
      ],
      "id": "eNCbV6jQSXEg"
    },
    {
      "cell_type": "markdown",
      "metadata": {
        "id": "9KVcJMVAun2c"
      },
      "source": [
        "* In our dataset, we have both numerical and categorical variables. We check for summary statistics of all the variables\n",
        "\n",
        "1. For numerical variables, use .describe()\n",
        "2. For categorical variables, use .describe(include=object) "
      ],
      "id": "9KVcJMVAun2c"
    },
    {
      "cell_type": "code",
      "source": [
        "df.describe()"
      ],
      "metadata": {
        "colab": {
          "base_uri": "https://localhost:8080/",
          "height": 300
        },
        "id": "GTFClObLKPW4",
        "outputId": "5350afbf-d6d0-4e2b-8d24-816390ee362b"
      },
      "id": "GTFClObLKPW4",
      "execution_count": null,
      "outputs": [
        {
          "output_type": "execute_result",
          "data": {
            "text/plain": [
              "           event_id     device_id     longitude      latitude           age\n",
              "count  1.215595e+06  1.215595e+06  1.215595e+06  1.215595e+06  1.215595e+06\n",
              "mean   1.626676e+06 -3.115914e+16  7.839399e+01  2.182756e+01  3.350031e+01\n",
              "std    9.396637e+05  5.322373e+18  5.381238e+01  1.564825e+01  9.745486e+00\n",
              "min    1.000000e+00 -9.222957e+18 -1.800000e+02 -3.380000e+01  1.100000e+01\n",
              "25%    8.123210e+05 -4.672948e+18  0.000000e+00  0.000000e+00  2.700000e+01\n",
              "50%    1.627312e+06 -1.188460e+17  1.127500e+02  2.857000e+01  3.100000e+01\n",
              "75%    2.440382e+06  4.631837e+18  1.171700e+02  3.401000e+01  3.900000e+01\n",
              "max    3.252948e+06  9.220915e+18  1.511800e+02  5.364000e+01  8.900000e+01"
            ],
            "text/html": [
              "\n",
              "  <div id=\"df-cec3d510-5b4a-4ed3-b988-5e9ae49dcc4b\">\n",
              "    <div class=\"colab-df-container\">\n",
              "      <div>\n",
              "<style scoped>\n",
              "    .dataframe tbody tr th:only-of-type {\n",
              "        vertical-align: middle;\n",
              "    }\n",
              "\n",
              "    .dataframe tbody tr th {\n",
              "        vertical-align: top;\n",
              "    }\n",
              "\n",
              "    .dataframe thead th {\n",
              "        text-align: right;\n",
              "    }\n",
              "</style>\n",
              "<table border=\"1\" class=\"dataframe\">\n",
              "  <thead>\n",
              "    <tr style=\"text-align: right;\">\n",
              "      <th></th>\n",
              "      <th>event_id</th>\n",
              "      <th>device_id</th>\n",
              "      <th>longitude</th>\n",
              "      <th>latitude</th>\n",
              "      <th>age</th>\n",
              "    </tr>\n",
              "  </thead>\n",
              "  <tbody>\n",
              "    <tr>\n",
              "      <th>count</th>\n",
              "      <td>1.215595e+06</td>\n",
              "      <td>1.215595e+06</td>\n",
              "      <td>1.215595e+06</td>\n",
              "      <td>1.215595e+06</td>\n",
              "      <td>1.215595e+06</td>\n",
              "    </tr>\n",
              "    <tr>\n",
              "      <th>mean</th>\n",
              "      <td>1.626676e+06</td>\n",
              "      <td>-3.115914e+16</td>\n",
              "      <td>7.839399e+01</td>\n",
              "      <td>2.182756e+01</td>\n",
              "      <td>3.350031e+01</td>\n",
              "    </tr>\n",
              "    <tr>\n",
              "      <th>std</th>\n",
              "      <td>9.396637e+05</td>\n",
              "      <td>5.322373e+18</td>\n",
              "      <td>5.381238e+01</td>\n",
              "      <td>1.564825e+01</td>\n",
              "      <td>9.745486e+00</td>\n",
              "    </tr>\n",
              "    <tr>\n",
              "      <th>min</th>\n",
              "      <td>1.000000e+00</td>\n",
              "      <td>-9.222957e+18</td>\n",
              "      <td>-1.800000e+02</td>\n",
              "      <td>-3.380000e+01</td>\n",
              "      <td>1.100000e+01</td>\n",
              "    </tr>\n",
              "    <tr>\n",
              "      <th>25%</th>\n",
              "      <td>8.123210e+05</td>\n",
              "      <td>-4.672948e+18</td>\n",
              "      <td>0.000000e+00</td>\n",
              "      <td>0.000000e+00</td>\n",
              "      <td>2.700000e+01</td>\n",
              "    </tr>\n",
              "    <tr>\n",
              "      <th>50%</th>\n",
              "      <td>1.627312e+06</td>\n",
              "      <td>-1.188460e+17</td>\n",
              "      <td>1.127500e+02</td>\n",
              "      <td>2.857000e+01</td>\n",
              "      <td>3.100000e+01</td>\n",
              "    </tr>\n",
              "    <tr>\n",
              "      <th>75%</th>\n",
              "      <td>2.440382e+06</td>\n",
              "      <td>4.631837e+18</td>\n",
              "      <td>1.171700e+02</td>\n",
              "      <td>3.401000e+01</td>\n",
              "      <td>3.900000e+01</td>\n",
              "    </tr>\n",
              "    <tr>\n",
              "      <th>max</th>\n",
              "      <td>3.252948e+06</td>\n",
              "      <td>9.220915e+18</td>\n",
              "      <td>1.511800e+02</td>\n",
              "      <td>5.364000e+01</td>\n",
              "      <td>8.900000e+01</td>\n",
              "    </tr>\n",
              "  </tbody>\n",
              "</table>\n",
              "</div>\n",
              "      <button class=\"colab-df-convert\" onclick=\"convertToInteractive('df-cec3d510-5b4a-4ed3-b988-5e9ae49dcc4b')\"\n",
              "              title=\"Convert this dataframe to an interactive table.\"\n",
              "              style=\"display:none;\">\n",
              "        \n",
              "  <svg xmlns=\"http://www.w3.org/2000/svg\" height=\"24px\"viewBox=\"0 0 24 24\"\n",
              "       width=\"24px\">\n",
              "    <path d=\"M0 0h24v24H0V0z\" fill=\"none\"/>\n",
              "    <path d=\"M18.56 5.44l.94 2.06.94-2.06 2.06-.94-2.06-.94-.94-2.06-.94 2.06-2.06.94zm-11 1L8.5 8.5l.94-2.06 2.06-.94-2.06-.94L8.5 2.5l-.94 2.06-2.06.94zm10 10l.94 2.06.94-2.06 2.06-.94-2.06-.94-.94-2.06-.94 2.06-2.06.94z\"/><path d=\"M17.41 7.96l-1.37-1.37c-.4-.4-.92-.59-1.43-.59-.52 0-1.04.2-1.43.59L10.3 9.45l-7.72 7.72c-.78.78-.78 2.05 0 2.83L4 21.41c.39.39.9.59 1.41.59.51 0 1.02-.2 1.41-.59l7.78-7.78 2.81-2.81c.8-.78.8-2.07 0-2.86zM5.41 20L4 18.59l7.72-7.72 1.47 1.35L5.41 20z\"/>\n",
              "  </svg>\n",
              "      </button>\n",
              "      \n",
              "  <style>\n",
              "    .colab-df-container {\n",
              "      display:flex;\n",
              "      flex-wrap:wrap;\n",
              "      gap: 12px;\n",
              "    }\n",
              "\n",
              "    .colab-df-convert {\n",
              "      background-color: #E8F0FE;\n",
              "      border: none;\n",
              "      border-radius: 50%;\n",
              "      cursor: pointer;\n",
              "      display: none;\n",
              "      fill: #1967D2;\n",
              "      height: 32px;\n",
              "      padding: 0 0 0 0;\n",
              "      width: 32px;\n",
              "    }\n",
              "\n",
              "    .colab-df-convert:hover {\n",
              "      background-color: #E2EBFA;\n",
              "      box-shadow: 0px 1px 2px rgba(60, 64, 67, 0.3), 0px 1px 3px 1px rgba(60, 64, 67, 0.15);\n",
              "      fill: #174EA6;\n",
              "    }\n",
              "\n",
              "    [theme=dark] .colab-df-convert {\n",
              "      background-color: #3B4455;\n",
              "      fill: #D2E3FC;\n",
              "    }\n",
              "\n",
              "    [theme=dark] .colab-df-convert:hover {\n",
              "      background-color: #434B5C;\n",
              "      box-shadow: 0px 1px 3px 1px rgba(0, 0, 0, 0.15);\n",
              "      filter: drop-shadow(0px 1px 2px rgba(0, 0, 0, 0.3));\n",
              "      fill: #FFFFFF;\n",
              "    }\n",
              "  </style>\n",
              "\n",
              "      <script>\n",
              "        const buttonEl =\n",
              "          document.querySelector('#df-cec3d510-5b4a-4ed3-b988-5e9ae49dcc4b button.colab-df-convert');\n",
              "        buttonEl.style.display =\n",
              "          google.colab.kernel.accessAllowed ? 'block' : 'none';\n",
              "\n",
              "        async function convertToInteractive(key) {\n",
              "          const element = document.querySelector('#df-cec3d510-5b4a-4ed3-b988-5e9ae49dcc4b');\n",
              "          const dataTable =\n",
              "            await google.colab.kernel.invokeFunction('convertToInteractive',\n",
              "                                                     [key], {});\n",
              "          if (!dataTable) return;\n",
              "\n",
              "          const docLinkHtml = 'Like what you see? Visit the ' +\n",
              "            '<a target=\"_blank\" href=https://colab.research.google.com/notebooks/data_table.ipynb>data table notebook</a>'\n",
              "            + ' to learn more about interactive tables.';\n",
              "          element.innerHTML = '';\n",
              "          dataTable['output_type'] = 'display_data';\n",
              "          await google.colab.output.renderOutput(dataTable, element);\n",
              "          const docLink = document.createElement('div');\n",
              "          docLink.innerHTML = docLinkHtml;\n",
              "          element.appendChild(docLink);\n",
              "        }\n",
              "      </script>\n",
              "    </div>\n",
              "  </div>\n",
              "  "
            ]
          },
          "metadata": {},
          "execution_count": 57
        }
      ]
    },
    {
      "cell_type": "markdown",
      "source": [
        "### 7. Perform the data visualization on the dataset to gain some basic insights about the data."
      ],
      "metadata": {
        "id": "cPnP0Jo5-Kkz"
      },
      "id": "cPnP0Jo5-Kkz"
    },
    {
      "cell_type": "code",
      "metadata": {
        "id": "oznh2fqbun2M",
        "colab": {
          "base_uri": "https://localhost:8080/",
          "height": 310
        },
        "outputId": "b93ec0a2-b478-4abd-f6d1-084309edb8df"
      },
      "source": [
        "df.group.value_counts().sort_index(ascending=False).plot(kind='bar')"
      ],
      "execution_count": null,
      "outputs": [
        {
          "output_type": "execute_result",
          "data": {
            "text/plain": [
              "<matplotlib.axes._subplots.AxesSubplot at 0x7fbfd65f4f10>"
            ]
          },
          "metadata": {},
          "execution_count": 58
        },
        {
          "output_type": "display_data",
          "data": {
            "text/plain": [
              "<Figure size 432x288 with 1 Axes>"
            ],
            "image/png": "[encoded data removed]"
          },
          "metadata": {
            "needs_background": "light"
          }
        }
      ],
      "id": "oznh2fqbun2M"
    },
    {
      "cell_type": "markdown",
      "metadata": {
        "id": "3TFd_Anmun2O"
      },
      "source": [
        "* Male gender age group is more than Female gender age group"
      ],
      "id": "3TFd_Anmun2O"
    },
    {
      "cell_type": "markdown",
      "metadata": {
        "id": "rjn4xECXun2P"
      },
      "source": [
        "* Lets explore proportion of male & female in data set"
      ],
      "id": "rjn4xECXun2P"
    },
    {
      "cell_type": "code",
      "metadata": {
        "id": "gd8S42shun2P",
        "colab": {
          "base_uri": "https://localhost:8080/",
          "height": 264
        },
        "outputId": "46cf1a0b-8b00-4247-8783-852b17d38848"
      },
      "source": [
        "gender_dict = df['gender'].value_counts()\n",
        "gender_labels=['Male','Female']\n",
        "male_percentage=(gender_dict['M']*100)//df.shape[0]\n",
        "female_percentage=(gender_dict['F']*100)//df.shape[0]\n",
        "sizes=[male_percentage,female_percentage]\n",
        "fig1, ax1 = plt.subplots()\n",
        "ax1.pie(sizes, labels=gender_labels, autopct='%1.1f%%',\n",
        "        shadow=True, startangle=90)\n",
        "ax1.axis('equal')\n",
        "plt.title('Gender Percentage')\n",
        "plt.show()"
      ],
      "execution_count": null,
      "outputs": [
        {
          "output_type": "display_data",
          "data": {
            "text/plain": [
              "<Figure size 432x288 with 1 Axes>"
            ],
            "image/png": "[encoded data removed]"
          },
          "metadata": {}
        }
      ],
      "id": "gd8S42shun2P"
    },
    {
      "cell_type": "markdown",
      "metadata": {
        "id": "c1DipR4Bun2S"
      },
      "source": [
        "*Gender representATION Is not Balanced. 2/3rd are Males"
      ],
      "id": "c1DipR4Bun2S"
    },
    {
      "cell_type": "markdown",
      "metadata": {
        "id": "XAXwHPoZun2T"
      },
      "source": [
        "* Lets check there age distribution"
      ],
      "id": "XAXwHPoZun2T"
    },
    {
      "cell_type": "code",
      "metadata": {
        "id": "EvkOt_I5un2T",
        "colab": {
          "base_uri": "https://localhost:8080/",
          "height": 729
        },
        "outputId": "78db7609-817f-4f1b-c552-48edf49aa708"
      },
      "source": [
        "sns.FacetGrid(df, hue=\"gender\", size=10).map(sns.distplot, \"age\").add_legend();\n",
        "plt.show()"
      ],
      "execution_count": null,
      "outputs": [
        {
          "output_type": "display_data",
          "data": {
            "text/plain": [
              "<Figure size 764.625x720 with 1 Axes>"
            ],
            "image/png": "[encoded data removed]"
          },
          "metadata": {
            "needs_background": "light"
          }
        }
      ],
      "id": "EvkOt_I5un2T"
    },
    {
      "cell_type": "markdown",
      "metadata": {
        "id": "X1eYmARiun2W"
      },
      "source": [
        "* Mostly overlap in the Number of Male and Female in age group below 46/47 but number of female are slightly more than Male in the age group above 46"
      ],
      "id": "X1eYmARiun2W"
    },
    {
      "cell_type": "code",
      "metadata": {
        "id": "MF2CUPs0un2c",
        "colab": {
          "base_uri": "https://localhost:8080/",
          "height": 323
        },
        "outputId": "167a736d-c375-4e44-b6cc-144e3563b412"
      },
      "source": [
        "#see distribution of gender & age(Group) column again\n",
        "plt.title('Group Counts Plot')\n",
        "plt.xlabel('Group')\n",
        "plt.ylabel('Count of People Belonging to Group')\n",
        "df['group'].value_counts().plot.bar()\n",
        "plt.show()"
      ],
      "execution_count": null,
      "outputs": [
        {
          "output_type": "display_data",
          "data": {
            "text/plain": [
              "<Figure size 432x288 with 1 Axes>"
            ],
            "image/png": "[encoded data removed]"
          },
          "metadata": {
            "needs_background": "light"
          }
        }
      ],
      "id": "MF2CUPs0un2c"
    },
    {
      "cell_type": "code",
      "metadata": {
        "id": "7FLiBX5iun2j",
        "colab": {
          "base_uri": "https://localhost:8080/",
          "height": 281
        },
        "outputId": "a4fb3eeb-8259-45b3-c525-f039b283c6e7"
      },
      "source": [
        "df.gender.value_counts().plot(kind='bar')\n",
        "#Expected as per original proportion. Good to go..."
      ],
      "execution_count": null,
      "outputs": [
        {
          "output_type": "execute_result",
          "data": {
            "text/plain": [
              "<matplotlib.axes._subplots.AxesSubplot at 0x7fbfd735edd0>"
            ]
          },
          "metadata": {},
          "execution_count": 62
        },
        {
          "output_type": "display_data",
          "data": {
            "text/plain": [
              "<Figure size 432x288 with 1 Axes>"
            ],
            "image/png": "[encoded data removed]"
          },
          "metadata": {
            "needs_background": "light"
          }
        }
      ],
      "id": "7FLiBX5iun2j"
    },
    {
      "cell_type": "code",
      "source": [
        "df.info()"
      ],
      "metadata": {
        "colab": {
          "base_uri": "https://localhost:8080/"
        },
        "id": "zDaSKmBBLpGm",
        "outputId": "28345a6a-6d01-4424-ef0f-be6595401787"
      },
      "id": "zDaSKmBBLpGm",
      "execution_count": null,
      "outputs": [
        {
          "output_type": "stream",
          "name": "stdout",
          "text": [
            "<class 'pandas.core.frame.DataFrame'>\n",
            "Int64Index: 1215595 entries, 0 to 3252947\n",
            "Data columns (total 10 columns):\n",
            " #   Column        Non-Null Count    Dtype  \n",
            "---  ------        --------------    -----  \n",
            " 0   event_id      1215595 non-null  int64  \n",
            " 1   device_id     1215595 non-null  int64  \n",
            " 2   timestamp     1215595 non-null  object \n",
            " 3   longitude     1215595 non-null  float64\n",
            " 4   latitude      1215595 non-null  float64\n",
            " 5   phone_brand   1215595 non-null  object \n",
            " 6   device_model  1215595 non-null  object \n",
            " 7   gender        1215595 non-null  object \n",
            " 8   age           1215595 non-null  float64\n",
            " 9   group         1215595 non-null  object \n",
            "dtypes: float64(3), int64(2), object(5)\n",
            "memory usage: 102.0+ MB\n"
          ]
        }
      ]
    },
    {
      "cell_type": "markdown",
      "source": [
        "### 8. Encode the categorical variables in the dataset."
      ],
      "metadata": {
        "id": "loUheDMr-61c"
      },
      "id": "loUheDMr-61c"
    },
    {
      "cell_type": "code",
      "metadata": {
        "id": "xKAvNF28un2q"
      },
      "source": [
        "#lets convert the category data as numeric encoder\n",
        "from sklearn.preprocessing import LabelEncoder\n",
        "# creating instance of labelencoder\n",
        "labelencoder = LabelEncoder()\n",
        "#dff = df.copy()\n",
        "df['phone_brand_Cat'] = labelencoder.fit_transform(df['phone_brand'])\n",
        "df['device_model_Cat'] = labelencoder.fit_transform(df['device_model'])"
      ],
      "execution_count": null,
      "outputs": [],
      "id": "xKAvNF28un2q"
    },
    {
      "cell_type": "code",
      "metadata": {
        "id": "YbgxR8dTTqbK",
        "colab": {
          "base_uri": "https://localhost:8080/",
          "height": 112
        },
        "outputId": "d42b0dca-1953-4aaa-9443-b4ac1dd1a3ff"
      },
      "source": [
        "\n",
        "df = pd.get_dummies(df, columns=[\"gender\"], prefix=[\"Type_is\"] )\n",
        "\n",
        "df.head(2)"
      ],
      "execution_count": null,
      "outputs": [
        {
          "output_type": "execute_result",
          "data": {
            "text/plain": [
              "   event_id            device_id            timestamp  longitude  latitude  \\\n",
              "0         1    29182687948017175  2016-05-01 00:55:25     121.38     31.24   \n",
              "2         3 -4833982096941402721  2016-05-01 00:08:05     106.60     29.70   \n",
              "\n",
              "  phone_brand device_model   age group  phone_brand_Cat  device_model_Cat  \\\n",
              "0          小米       红米note  46.0  M39+               34               864   \n",
              "2          魅族      MX4 Pro  47.0  M39+               87               419   \n",
              "\n",
              "   Type_is_F  Type_is_M  \n",
              "0          0          1  \n",
              "2          0          1  "
            ],
            "text/html": [
              "\n",
              "  <div id=\"df-9d634419-18b4-4afb-b5cb-82b374ed82fe\">\n",
              "    <div class=\"colab-df-container\">\n",
              "      <div>\n",
              "<style scoped>\n",
              "    .dataframe tbody tr th:only-of-type {\n",
              "        vertical-align: middle;\n",
              "    }\n",
              "\n",
              "    .dataframe tbody tr th {\n",
              "        vertical-align: top;\n",
              "    }\n",
              "\n",
              "    .dataframe thead th {\n",
              "        text-align: right;\n",
              "    }\n",
              "</style>\n",
              "<table border=\"1\" class=\"dataframe\">\n",
              "  <thead>\n",
              "    <tr style=\"text-align: right;\">\n",
              "      <th></th>\n",
              "      <th>event_id</th>\n",
              "      <th>device_id</th>\n",
              "      <th>timestamp</th>\n",
              "      <th>longitude</th>\n",
              "      <th>latitude</th>\n",
              "      <th>phone_brand</th>\n",
              "      <th>device_model</th>\n",
              "      <th>age</th>\n",
              "      <th>group</th>\n",
              "      <th>phone_brand_Cat</th>\n",
              "      <th>device_model_Cat</th>\n",
              "      <th>Type_is_F</th>\n",
              "      <th>Type_is_M</th>\n",
              "    </tr>\n",
              "  </thead>\n",
              "  <tbody>\n",
              "    <tr>\n",
              "      <th>0</th>\n",
              "      <td>1</td>\n",
              "      <td>29182687948017175</td>\n",
              "      <td>2016-05-01 00:55:25</td>\n",
              "      <td>121.38</td>\n",
              "      <td>31.24</td>\n",
              "      <td>小米</td>\n",
              "      <td>红米note</td>\n",
              "      <td>46.0</td>\n",
              "      <td>M39+</td>\n",
              "      <td>34</td>\n",
              "      <td>864</td>\n",
              "      <td>0</td>\n",
              "      <td>1</td>\n",
              "    </tr>\n",
              "    <tr>\n",
              "      <th>2</th>\n",
              "      <td>3</td>\n",
              "      <td>-4833982096941402721</td>\n",
              "      <td>2016-05-01 00:08:05</td>\n",
              "      <td>106.60</td>\n",
              "      <td>29.70</td>\n",
              "      <td>魅族</td>\n",
              "      <td>MX4 Pro</td>\n",
              "      <td>47.0</td>\n",
              "      <td>M39+</td>\n",
              "      <td>87</td>\n",
              "      <td>419</td>\n",
              "      <td>0</td>\n",
              "      <td>1</td>\n",
              "    </tr>\n",
              "  </tbody>\n",
              "</table>\n",
              "</div>\n",
              "      <button class=\"colab-df-convert\" onclick=\"convertToInteractive('df-9d634419-18b4-4afb-b5cb-82b374ed82fe')\"\n",
              "              title=\"Convert this dataframe to an interactive table.\"\n",
              "              style=\"display:none;\">\n",
              "        \n",
              "  <svg xmlns=\"http://www.w3.org/2000/svg\" height=\"24px\"viewBox=\"0 0 24 24\"\n",
              "       width=\"24px\">\n",
              "    <path d=\"M0 0h24v24H0V0z\" fill=\"none\"/>\n",
              "    <path d=\"M18.56 5.44l.94 2.06.94-2.06 2.06-.94-2.06-.94-.94-2.06-.94 2.06-2.06.94zm-11 1L8.5 8.5l.94-2.06 2.06-.94-2.06-.94L8.5 2.5l-.94 2.06-2.06.94zm10 10l.94 2.06.94-2.06 2.06-.94-2.06-.94-.94-2.06-.94 2.06-2.06.94z\"/><path d=\"M17.41 7.96l-1.37-1.37c-.4-.4-.92-.59-1.43-.59-.52 0-1.04.2-1.43.59L10.3 9.45l-7.72 7.72c-.78.78-.78 2.05 0 2.83L4 21.41c.39.39.9.59 1.41.59.51 0 1.02-.2 1.41-.59l7.78-7.78 2.81-2.81c.8-.78.8-2.07 0-2.86zM5.41 20L4 18.59l7.72-7.72 1.47 1.35L5.41 20z\"/>\n",
              "  </svg>\n",
              "      </button>\n",
              "      \n",
              "  <style>\n",
              "    .colab-df-container {\n",
              "      display:flex;\n",
              "      flex-wrap:wrap;\n",
              "      gap: 12px;\n",
              "    }\n",
              "\n",
              "    .colab-df-convert {\n",
              "      background-color: #E8F0FE;\n",
              "      border: none;\n",
              "      border-radius: 50%;\n",
              "      cursor: pointer;\n",
              "      display: none;\n",
              "      fill: #1967D2;\n",
              "      height: 32px;\n",
              "      padding: 0 0 0 0;\n",
              "      width: 32px;\n",
              "    }\n",
              "\n",
              "    .colab-df-convert:hover {\n",
              "      background-color: #E2EBFA;\n",
              "      box-shadow: 0px 1px 2px rgba(60, 64, 67, 0.3), 0px 1px 3px 1px rgba(60, 64, 67, 0.15);\n",
              "      fill: #174EA6;\n",
              "    }\n",
              "\n",
              "    [theme=dark] .colab-df-convert {\n",
              "      background-color: #3B4455;\n",
              "      fill: #D2E3FC;\n",
              "    }\n",
              "\n",
              "    [theme=dark] .colab-df-convert:hover {\n",
              "      background-color: #434B5C;\n",
              "      box-shadow: 0px 1px 3px 1px rgba(0, 0, 0, 0.15);\n",
              "      filter: drop-shadow(0px 1px 2px rgba(0, 0, 0, 0.3));\n",
              "      fill: #FFFFFF;\n",
              "    }\n",
              "  </style>\n",
              "\n",
              "      <script>\n",
              "        const buttonEl =\n",
              "          document.querySelector('#df-9d634419-18b4-4afb-b5cb-82b374ed82fe button.colab-df-convert');\n",
              "        buttonEl.style.display =\n",
              "          google.colab.kernel.accessAllowed ? 'block' : 'none';\n",
              "\n",
              "        async function convertToInteractive(key) {\n",
              "          const element = document.querySelector('#df-9d634419-18b4-4afb-b5cb-82b374ed82fe');\n",
              "          const dataTable =\n",
              "            await google.colab.kernel.invokeFunction('convertToInteractive',\n",
              "                                                     [key], {});\n",
              "          if (!dataTable) return;\n",
              "\n",
              "          const docLinkHtml = 'Like what you see? Visit the ' +\n",
              "            '<a target=\"_blank\" href=https://colab.research.google.com/notebooks/data_table.ipynb>data table notebook</a>'\n",
              "            + ' to learn more about interactive tables.';\n",
              "          element.innerHTML = '';\n",
              "          dataTable['output_type'] = 'display_data';\n",
              "          await google.colab.output.renderOutput(dataTable, element);\n",
              "          const docLink = document.createElement('div');\n",
              "          docLink.innerHTML = docLinkHtml;\n",
              "          element.appendChild(docLink);\n",
              "        }\n",
              "      </script>\n",
              "    </div>\n",
              "  </div>\n",
              "  "
            ]
          },
          "metadata": {},
          "execution_count": 65
        }
      ],
      "id": "YbgxR8dTTqbK"
    },
    {
      "cell_type": "markdown",
      "source": [
        "### 9. Drop irrelevant columns like 'timestamp','event_id','device_id' etc from the dataset."
      ],
      "metadata": {
        "id": "O10a63Xc_RXL"
      },
      "id": "O10a63Xc_RXL"
    },
    {
      "cell_type": "code",
      "metadata": {
        "id": "77xSn0Youn2t"
      },
      "source": [
        "#Let's drop original identity data as that will not help in our analysis\n",
        "dff= df.drop(['group','phone_brand','device_model','timestamp','event_id','device_id'],axis=1)"
      ],
      "execution_count": null,
      "outputs": [],
      "id": "77xSn0Youn2t"
    },
    {
      "cell_type": "code",
      "metadata": {
        "id": "miOD7isSun2x",
        "colab": {
          "base_uri": "https://localhost:8080/",
          "height": 143
        },
        "outputId": "dd3ea9c3-6415-405c-82d5-617753c7f285"
      },
      "source": [
        "dff.head(3)"
      ],
      "execution_count": null,
      "outputs": [
        {
          "output_type": "execute_result",
          "data": {
            "text/plain": [
              "   longitude  latitude   age  phone_brand_Cat  device_model_Cat  Type_is_F  \\\n",
              "0     121.38     31.24  46.0               34               864          0   \n",
              "2     106.60     29.70  47.0               87               419          0   \n",
              "3     104.27     23.28  30.0                8               744          0   \n",
              "\n",
              "   Type_is_M  \n",
              "0          1  \n",
              "2          1  \n",
              "3          1  "
            ],
            "text/html": [
              "\n",
              "  <div id=\"df-1daa3fb2-869c-4d4e-badf-9434145cc4da\">\n",
              "    <div class=\"colab-df-container\">\n",
              "      <div>\n",
              "<style scoped>\n",
              "    .dataframe tbody tr th:only-of-type {\n",
              "        vertical-align: middle;\n",
              "    }\n",
              "\n",
              "    .dataframe tbody tr th {\n",
              "        vertical-align: top;\n",
              "    }\n",
              "\n",
              "    .dataframe thead th {\n",
              "        text-align: right;\n",
              "    }\n",
              "</style>\n",
              "<table border=\"1\" class=\"dataframe\">\n",
              "  <thead>\n",
              "    <tr style=\"text-align: right;\">\n",
              "      <th></th>\n",
              "      <th>longitude</th>\n",
              "      <th>latitude</th>\n",
              "      <th>age</th>\n",
              "      <th>phone_brand_Cat</th>\n",
              "      <th>device_model_Cat</th>\n",
              "      <th>Type_is_F</th>\n",
              "      <th>Type_is_M</th>\n",
              "    </tr>\n",
              "  </thead>\n",
              "  <tbody>\n",
              "    <tr>\n",
              "      <th>0</th>\n",
              "      <td>121.38</td>\n",
              "      <td>31.24</td>\n",
              "      <td>46.0</td>\n",
              "      <td>34</td>\n",
              "      <td>864</td>\n",
              "      <td>0</td>\n",
              "      <td>1</td>\n",
              "    </tr>\n",
              "    <tr>\n",
              "      <th>2</th>\n",
              "      <td>106.60</td>\n",
              "      <td>29.70</td>\n",
              "      <td>47.0</td>\n",
              "      <td>87</td>\n",
              "      <td>419</td>\n",
              "      <td>0</td>\n",
              "      <td>1</td>\n",
              "    </tr>\n",
              "    <tr>\n",
              "      <th>3</th>\n",
              "      <td>104.27</td>\n",
              "      <td>23.28</td>\n",
              "      <td>30.0</td>\n",
              "      <td>8</td>\n",
              "      <td>744</td>\n",
              "      <td>0</td>\n",
              "      <td>1</td>\n",
              "    </tr>\n",
              "  </tbody>\n",
              "</table>\n",
              "</div>\n",
              "      <button class=\"colab-df-convert\" onclick=\"convertToInteractive('df-1daa3fb2-869c-4d4e-badf-9434145cc4da')\"\n",
              "              title=\"Convert this dataframe to an interactive table.\"\n",
              "              style=\"display:none;\">\n",
              "        \n",
              "  <svg xmlns=\"http://www.w3.org/2000/svg\" height=\"24px\"viewBox=\"0 0 24 24\"\n",
              "       width=\"24px\">\n",
              "    <path d=\"M0 0h24v24H0V0z\" fill=\"none\"/>\n",
              "    <path d=\"M18.56 5.44l.94 2.06.94-2.06 2.06-.94-2.06-.94-.94-2.06-.94 2.06-2.06.94zm-11 1L8.5 8.5l.94-2.06 2.06-.94-2.06-.94L8.5 2.5l-.94 2.06-2.06.94zm10 10l.94 2.06.94-2.06 2.06-.94-2.06-.94-.94-2.06-.94 2.06-2.06.94z\"/><path d=\"M17.41 7.96l-1.37-1.37c-.4-.4-.92-.59-1.43-.59-.52 0-1.04.2-1.43.59L10.3 9.45l-7.72 7.72c-.78.78-.78 2.05 0 2.83L4 21.41c.39.39.9.59 1.41.59.51 0 1.02-.2 1.41-.59l7.78-7.78 2.81-2.81c.8-.78.8-2.07 0-2.86zM5.41 20L4 18.59l7.72-7.72 1.47 1.35L5.41 20z\"/>\n",
              "  </svg>\n",
              "      </button>\n",
              "      \n",
              "  <style>\n",
              "    .colab-df-container {\n",
              "      display:flex;\n",
              "      flex-wrap:wrap;\n",
              "      gap: 12px;\n",
              "    }\n",
              "\n",
              "    .colab-df-convert {\n",
              "      background-color: #E8F0FE;\n",
              "      border: none;\n",
              "      border-radius: 50%;\n",
              "      cursor: pointer;\n",
              "      display: none;\n",
              "      fill: #1967D2;\n",
              "      height: 32px;\n",
              "      padding: 0 0 0 0;\n",
              "      width: 32px;\n",
              "    }\n",
              "\n",
              "    .colab-df-convert:hover {\n",
              "      background-color: #E2EBFA;\n",
              "      box-shadow: 0px 1px 2px rgba(60, 64, 67, 0.3), 0px 1px 3px 1px rgba(60, 64, 67, 0.15);\n",
              "      fill: #174EA6;\n",
              "    }\n",
              "\n",
              "    [theme=dark] .colab-df-convert {\n",
              "      background-color: #3B4455;\n",
              "      fill: #D2E3FC;\n",
              "    }\n",
              "\n",
              "    [theme=dark] .colab-df-convert:hover {\n",
              "      background-color: #434B5C;\n",
              "      box-shadow: 0px 1px 3px 1px rgba(0, 0, 0, 0.15);\n",
              "      filter: drop-shadow(0px 1px 2px rgba(0, 0, 0, 0.3));\n",
              "      fill: #FFFFFF;\n",
              "    }\n",
              "  </style>\n",
              "\n",
              "      <script>\n",
              "        const buttonEl =\n",
              "          document.querySelector('#df-1daa3fb2-869c-4d4e-badf-9434145cc4da button.colab-df-convert');\n",
              "        buttonEl.style.display =\n",
              "          google.colab.kernel.accessAllowed ? 'block' : 'none';\n",
              "\n",
              "        async function convertToInteractive(key) {\n",
              "          const element = document.querySelector('#df-1daa3fb2-869c-4d4e-badf-9434145cc4da');\n",
              "          const dataTable =\n",
              "            await google.colab.kernel.invokeFunction('convertToInteractive',\n",
              "                                                     [key], {});\n",
              "          if (!dataTable) return;\n",
              "\n",
              "          const docLinkHtml = 'Like what you see? Visit the ' +\n",
              "            '<a target=\"_blank\" href=https://colab.research.google.com/notebooks/data_table.ipynb>data table notebook</a>'\n",
              "            + ' to learn more about interactive tables.';\n",
              "          element.innerHTML = '';\n",
              "          dataTable['output_type'] = 'display_data';\n",
              "          await google.colab.output.renderOutput(dataTable, element);\n",
              "          const docLink = document.createElement('div');\n",
              "          docLink.innerHTML = docLinkHtml;\n",
              "          element.appendChild(docLink);\n",
              "        }\n",
              "      </script>\n",
              "    </div>\n",
              "  </div>\n",
              "  "
            ]
          },
          "metadata": {},
          "execution_count": 67
        }
      ],
      "id": "miOD7isSun2x"
    },
    {
      "cell_type": "markdown",
      "source": [
        "### 10. Standardize the data, so that the values are within a particular range."
      ],
      "metadata": {
        "id": "LqjAs-b2Cvl_"
      },
      "id": "LqjAs-b2Cvl_"
    },
    {
      "cell_type": "markdown",
      "metadata": {
        "id": "CLr43rYlun26"
      },
      "source": [
        "Feature scaling is a technique to standardize the independent features present in the data in a fixed range. If feature scaling is not done, then a machine learning algorithm tends to weigh greater values, higher and consider smaller values as the lower values, regardless of the unit of the values.\n",
        "\n",
        "The two most discuss scaling methods are normalization and standardization.\n",
        "\n",
        "- Normalization: It should be used if there are any predefined assumptions of the model. In this approach, the data is scaled to a fixed range - usually 0 to 1\n",
        "- Standardization: It is used when we are dealing with multiple variables together. In this technique, the features will be rescaled so that they’ll have the properties of a standard normal distribution with (mean = 0 and sd = 1)"
      ],
      "id": "CLr43rYlun26"
    },
    {
      "cell_type": "code",
      "source": [
        "## Tranforming the data using minmax scaling approach so that the values range will be 1.\n",
        "\n",
        "mm = MinMaxScaler()\n",
        "\n",
        "dff.iloc[:,:] = mm.fit_transform(dff.iloc[:,:])\n",
        "dff.head()"
      ],
      "metadata": {
        "colab": {
          "base_uri": "https://localhost:8080/",
          "height": 206
        },
        "id": "AQxKlZVlhWn8",
        "outputId": "3cce7cec-9db4-490d-d0e1-388d5c86671e"
      },
      "id": "AQxKlZVlhWn8",
      "execution_count": null,
      "outputs": [
        {
          "output_type": "execute_result",
          "data": {
            "text/plain": [
              "   longitude  latitude       age  phone_brand_Cat  device_model_Cat  \\\n",
              "0   0.910019  0.743824  0.448718         0.386364          0.934054   \n",
              "2   0.865390  0.726212  0.461538         0.988636          0.452973   \n",
              "3   0.858355  0.652790  0.243590         0.090909          0.804324   \n",
              "4   0.893411  0.714318  0.217949         0.909091          0.888649   \n",
              "5   0.543511  0.386551  0.102564         0.238636          0.457297   \n",
              "\n",
              "   Type_is_F  Type_is_M  \n",
              "0        0.0        1.0  \n",
              "2        0.0        1.0  \n",
              "3        0.0        1.0  \n",
              "4        1.0        0.0  \n",
              "5        0.0        1.0  "
            ],
            "text/html": [
              "\n",
              "  <div id=\"df-5dae68e3-c1d7-41bf-b53a-555d22c51288\">\n",
              "    <div class=\"colab-df-container\">\n",
              "      <div>\n",
              "<style scoped>\n",
              "    .dataframe tbody tr th:only-of-type {\n",
              "        vertical-align: middle;\n",
              "    }\n",
              "\n",
              "    .dataframe tbody tr th {\n",
              "        vertical-align: top;\n",
              "    }\n",
              "\n",
              "    .dataframe thead th {\n",
              "        text-align: right;\n",
              "    }\n",
              "</style>\n",
              "<table border=\"1\" class=\"dataframe\">\n",
              "  <thead>\n",
              "    <tr style=\"text-align: right;\">\n",
              "      <th></th>\n",
              "      <th>longitude</th>\n",
              "      <th>latitude</th>\n",
              "      <th>age</th>\n",
              "      <th>phone_brand_Cat</th>\n",
              "      <th>device_model_Cat</th>\n",
              "      <th>Type_is_F</th>\n",
              "      <th>Type_is_M</th>\n",
              "    </tr>\n",
              "  </thead>\n",
              "  <tbody>\n",
              "    <tr>\n",
              "      <th>0</th>\n",
              "      <td>0.910019</td>\n",
              "      <td>0.743824</td>\n",
              "      <td>0.448718</td>\n",
              "      <td>0.386364</td>\n",
              "      <td>0.934054</td>\n",
              "      <td>0.0</td>\n",
              "      <td>1.0</td>\n",
              "    </tr>\n",
              "    <tr>\n",
              "      <th>2</th>\n",
              "      <td>0.865390</td>\n",
              "      <td>0.726212</td>\n",
              "      <td>0.461538</td>\n",
              "      <td>0.988636</td>\n",
              "      <td>0.452973</td>\n",
              "      <td>0.0</td>\n",
              "      <td>1.0</td>\n",
              "    </tr>\n",
              "    <tr>\n",
              "      <th>3</th>\n",
              "      <td>0.858355</td>\n",
              "      <td>0.652790</td>\n",
              "      <td>0.243590</td>\n",
              "      <td>0.090909</td>\n",
              "      <td>0.804324</td>\n",
              "      <td>0.0</td>\n",
              "      <td>1.0</td>\n",
              "    </tr>\n",
              "    <tr>\n",
              "      <th>4</th>\n",
              "      <td>0.893411</td>\n",
              "      <td>0.714318</td>\n",
              "      <td>0.217949</td>\n",
              "      <td>0.909091</td>\n",
              "      <td>0.888649</td>\n",
              "      <td>1.0</td>\n",
              "      <td>0.0</td>\n",
              "    </tr>\n",
              "    <tr>\n",
              "      <th>5</th>\n",
              "      <td>0.543511</td>\n",
              "      <td>0.386551</td>\n",
              "      <td>0.102564</td>\n",
              "      <td>0.238636</td>\n",
              "      <td>0.457297</td>\n",
              "      <td>0.0</td>\n",
              "      <td>1.0</td>\n",
              "    </tr>\n",
              "  </tbody>\n",
              "</table>\n",
              "</div>\n",
              "      <button class=\"colab-df-convert\" onclick=\"convertToInteractive('df-5dae68e3-c1d7-41bf-b53a-555d22c51288')\"\n",
              "              title=\"Convert this dataframe to an interactive table.\"\n",
              "              style=\"display:none;\">\n",
              "        \n",
              "  <svg xmlns=\"http://www.w3.org/2000/svg\" height=\"24px\"viewBox=\"0 0 24 24\"\n",
              "       width=\"24px\">\n",
              "    <path d=\"M0 0h24v24H0V0z\" fill=\"none\"/>\n",
              "    <path d=\"M18.56 5.44l.94 2.06.94-2.06 2.06-.94-2.06-.94-.94-2.06-.94 2.06-2.06.94zm-11 1L8.5 8.5l.94-2.06 2.06-.94-2.06-.94L8.5 2.5l-.94 2.06-2.06.94zm10 10l.94 2.06.94-2.06 2.06-.94-2.06-.94-.94-2.06-.94 2.06-2.06.94z\"/><path d=\"M17.41 7.96l-1.37-1.37c-.4-.4-.92-.59-1.43-.59-.52 0-1.04.2-1.43.59L10.3 9.45l-7.72 7.72c-.78.78-.78 2.05 0 2.83L4 21.41c.39.39.9.59 1.41.59.51 0 1.02-.2 1.41-.59l7.78-7.78 2.81-2.81c.8-.78.8-2.07 0-2.86zM5.41 20L4 18.59l7.72-7.72 1.47 1.35L5.41 20z\"/>\n",
              "  </svg>\n",
              "      </button>\n",
              "      \n",
              "  <style>\n",
              "    .colab-df-container {\n",
              "      display:flex;\n",
              "      flex-wrap:wrap;\n",
              "      gap: 12px;\n",
              "    }\n",
              "\n",
              "    .colab-df-convert {\n",
              "      background-color: #E8F0FE;\n",
              "      border: none;\n",
              "      border-radius: 50%;\n",
              "      cursor: pointer;\n",
              "      display: none;\n",
              "      fill: #1967D2;\n",
              "      height: 32px;\n",
              "      padding: 0 0 0 0;\n",
              "      width: 32px;\n",
              "    }\n",
              "\n",
              "    .colab-df-convert:hover {\n",
              "      background-color: #E2EBFA;\n",
              "      box-shadow: 0px 1px 2px rgba(60, 64, 67, 0.3), 0px 1px 3px 1px rgba(60, 64, 67, 0.15);\n",
              "      fill: #174EA6;\n",
              "    }\n",
              "\n",
              "    [theme=dark] .colab-df-convert {\n",
              "      background-color: #3B4455;\n",
              "      fill: #D2E3FC;\n",
              "    }\n",
              "\n",
              "    [theme=dark] .colab-df-convert:hover {\n",
              "      background-color: #434B5C;\n",
              "      box-shadow: 0px 1px 3px 1px rgba(0, 0, 0, 0.15);\n",
              "      filter: drop-shadow(0px 1px 2px rgba(0, 0, 0, 0.3));\n",
              "      fill: #FFFFFF;\n",
              "    }\n",
              "  </style>\n",
              "\n",
              "      <script>\n",
              "        const buttonEl =\n",
              "          document.querySelector('#df-5dae68e3-c1d7-41bf-b53a-555d22c51288 button.colab-df-convert');\n",
              "        buttonEl.style.display =\n",
              "          google.colab.kernel.accessAllowed ? 'block' : 'none';\n",
              "\n",
              "        async function convertToInteractive(key) {\n",
              "          const element = document.querySelector('#df-5dae68e3-c1d7-41bf-b53a-555d22c51288');\n",
              "          const dataTable =\n",
              "            await google.colab.kernel.invokeFunction('convertToInteractive',\n",
              "                                                     [key], {});\n",
              "          if (!dataTable) return;\n",
              "\n",
              "          const docLinkHtml = 'Like what you see? Visit the ' +\n",
              "            '<a target=\"_blank\" href=https://colab.research.google.com/notebooks/data_table.ipynb>data table notebook</a>'\n",
              "            + ' to learn more about interactive tables.';\n",
              "          element.innerHTML = '';\n",
              "          dataTable['output_type'] = 'display_data';\n",
              "          await google.colab.output.renderOutput(dataTable, element);\n",
              "          const docLink = document.createElement('div');\n",
              "          docLink.innerHTML = docLinkHtml;\n",
              "          element.appendChild(docLink);\n",
              "        }\n",
              "      </script>\n",
              "    </div>\n",
              "  </div>\n",
              "  "
            ]
          },
          "metadata": {},
          "execution_count": 36
        }
      ]
    },
    {
      "cell_type": "markdown",
      "metadata": {
        "id": "eSomyRzsg2RF"
      },
      "source": [
        "### 11. Apply PCA on the above dataset and determine the number of PCA components to be used so that 90-95% of the variance in data is explained by the same. "
      ],
      "id": "eSomyRzsg2RF"
    },
    {
      "cell_type": "code",
      "execution_count": null,
      "metadata": {
        "outputId": "693a40cc-7970-41cf-fe73-14447c1f7800",
        "scrolled": true,
        "colab": {
          "base_uri": "https://localhost:8080/"
        },
        "id": "O8gr2V_Vg2RG"
      },
      "outputs": [
        {
          "output_type": "execute_result",
          "data": {
            "text/plain": [
              "array([[ 2.64019642e-02,  2.76096392e-02,  7.40951003e-05,\n",
              "        -3.93688846e-03,  3.90910601e-03, -4.10418649e-03,\n",
              "         4.10418649e-03],\n",
              "       [ 2.76096392e-02,  3.20266496e-02,  5.44614019e-04,\n",
              "        -4.44469904e-03,  3.85907152e-03, -2.92907801e-03,\n",
              "         2.92907801e-03],\n",
              "       [ 7.40951003e-05,  5.44614019e-04,  1.56105340e-02,\n",
              "        -4.15056352e-05, -4.12122708e-04,  1.93748638e-03,\n",
              "        -1.93748638e-03],\n",
              "       [-3.93688846e-03, -4.44469904e-03, -4.15056352e-05,\n",
              "         7.76754964e-02,  1.01662320e-02, -6.36442868e-03,\n",
              "         6.36442868e-03],\n",
              "       [ 3.90910601e-03,  3.85907152e-03, -4.12122708e-04,\n",
              "         1.01662320e-02,  8.47765419e-02, -4.98452906e-03,\n",
              "         4.98452906e-03],\n",
              "       [-4.10418649e-03, -2.92907801e-03,  1.93748638e-03,\n",
              "        -6.36442868e-03, -4.98452906e-03,  2.05473977e-01,\n",
              "        -2.05473977e-01],\n",
              "       [ 4.10418649e-03,  2.92907801e-03, -1.93748638e-03,\n",
              "         6.36442868e-03,  4.98452906e-03, -2.05473977e-01,\n",
              "         2.05473977e-01]])"
            ]
          },
          "metadata": {},
          "execution_count": 37
        }
      ],
      "source": [
        "## step1: Calculate the covariance matrix.\n",
        "cov_matrix = np.cov(dff.T)\n",
        "cov_matrix"
      ],
      "id": "O8gr2V_Vg2RG"
    },
    {
      "cell_type": "code",
      "execution_count": null,
      "metadata": {
        "outputId": "e7e2e65f-6af1-497e-92b5-8c07dc147c95",
        "scrolled": true,
        "colab": {
          "base_uri": "https://localhost:8080/"
        },
        "id": "qoT6fHbQg2RG"
      },
      "outputs": [
        {
          "output_type": "stream",
          "name": "stdout",
          "text": [
            "eigein vals: \n",
            " [4.11514968e-01 9.16425442e-02 7.41779423e-02 5.30663697e-02\n",
            " 1.55885534e-02 1.44876255e-03 1.95196309e-34]\n",
            "\n",
            "\n",
            "eigein vectors \n",
            " [[ 1.58667894e-02 -1.96167625e-02 -2.83472646e-01  6.06104798e-01\n",
            "   2.46291216e-02 -7.42318710e-01  1.60214600e-17]\n",
            " [ 1.19624652e-02 -1.77593276e-02 -3.11434056e-01  6.73824553e-01\n",
            "  -4.09827739e-03  6.69696955e-01 -2.97930725e-17]\n",
            " [-6.92212202e-03  3.37364598e-03 -1.98151179e-04  1.49953892e-02\n",
            "  -9.99635562e-01 -2.10842186e-02  1.53857738e-16]\n",
            " [ 2.72851738e-02 -5.65770180e-01  7.53755350e-01  3.33173948e-01\n",
            "   2.75387066e-03 -1.76962153e-04 -1.72999818e-17]\n",
            " [ 2.27448216e-02 -8.23398757e-01 -5.04484056e-01 -2.58718305e-01\n",
            "  -6.78962266e-03  3.42589652e-03 -2.37184001e-17]\n",
            " [-7.06503864e-01 -2.45662129e-02  6.15706226e-04  1.47061810e-02\n",
            "   5.08282429e-03 -2.51091873e-03  7.07106781e-01]\n",
            " [ 7.06503864e-01  2.45662129e-02 -6.15706226e-04 -1.47061810e-02\n",
            "  -5.08282429e-03  2.51091873e-03  7.07106781e-01]]\n"
          ]
        }
      ],
      "source": [
        "## step2: Calculate the eigen values and eigen vectors.\n",
        "eig_vals, eig_vectors = np.linalg.eig(cov_matrix)\n",
        "print('eigein vals:','\\n',eig_vals)\n",
        "print('\\n')\n",
        "print('eigein vectors','\\n',eig_vectors)"
      ],
      "id": "qoT6fHbQg2RG"
    },
    {
      "cell_type": "code",
      "execution_count": null,
      "metadata": {
        "outputId": "9f134be7-5c00-45fa-afe2-c17562e98086",
        "colab": {
          "base_uri": "https://localhost:8080/"
        },
        "id": "CmbhVvudg2RH"
      },
      "outputs": [
        {
          "output_type": "stream",
          "name": "stdout",
          "text": [
            "Explained Variance:  [63.56040940149861, 14.1546190923742, 11.457129739756136, 8.19634872381557, 2.407724898362223, 0.2237681441932825, 3.0148981892183346e-32]\n",
            "Cummulative Variance Explained:  [ 63.5604094   77.71502849  89.17215823  97.36850696  99.77623186\n",
            " 100.         100.        ]\n"
          ]
        }
      ],
      "source": [
        "## step3: Scree plot.\n",
        "total = sum(eig_vals)\n",
        "var_exp = [(i/total)*100 for i in sorted(eig_vals,reverse=True)]\n",
        "cum_var_exp = np.cumsum(var_exp)\n",
        "print('Explained Variance: ',var_exp)\n",
        "print('Cummulative Variance Explained: ',cum_var_exp)"
      ],
      "id": "CmbhVvudg2RH"
    },
    {
      "cell_type": "code",
      "execution_count": null,
      "metadata": {
        "outputId": "bb1ba7cc-acb8-473a-b448-5c035f337bf7",
        "scrolled": true,
        "colab": {
          "base_uri": "https://localhost:8080/",
          "height": 295
        },
        "id": "NTjFHaRog2RH"
      },
      "outputs": [
        {
          "output_type": "display_data",
          "data": {
            "text/plain": [
              "<Figure size 432x288 with 1 Axes>"
            ],
            "image/png": "[encoded data removed]"
          },
          "metadata": {
            "needs_background": "light"
          }
        }
      ],
      "source": [
        "## Scree plot.\n",
        "plt.bar(range(7),var_exp,align='center',color='lightgreen',edgecolor='black',label='Explained Variance')\n",
        "plt.step(range(7),cum_var_exp,where='mid',color='red',label='Cummulative Explained Variance')\n",
        "plt.xlabel('Principal Components')\n",
        "plt.ylabel('Explianed Variance ratio')\n",
        "plt.title('Scree Plot')\n",
        "plt.legend(loc='best')\n",
        "plt.show()"
      ],
      "id": "NTjFHaRog2RH"
    },
    {
      "cell_type": "markdown",
      "metadata": {
        "id": "ab4HrbQcg2RH"
      },
      "source": [
        "- We can observe from the above scree plot the first 3 principal components are explaining the about 90-95% of the variation, So we can choose optimal number of principal components as 3."
      ],
      "id": "ab4HrbQcg2RH"
    },
    {
      "cell_type": "markdown",
      "metadata": {
        "id": "sFD9GDcZldcU"
      },
      "source": [
        "### 12. Apply K-means clustering and segment the data (You may use original data or PCA transformed data)\n",
        " a. Find the optimal K Value using elbow plot for KMeans clustering.\n",
        "\n",
        " b. Build a Kmeans clustering model using the obtained optimal K value from the elbow plot.\n",
        " \n",
        " c. Compute silhoutte score for evaluating the quality of the Kmeans clustering technique."
      ],
      "id": "sFD9GDcZldcU"
    },
    {
      "cell_type": "markdown",
      "metadata": {
        "id": "cZ8QKbM-un20"
      },
      "source": [
        "Centroid-based clustering algorithms cluster the data into non-hierarchical clusters. Such algorithms are efficient but sensitive to initial conditions and outliers. K-means is the most widely-used centroid-based clustering algorithm"
      ],
      "id": "cZ8QKbM-un20"
    },
    {
      "cell_type": "markdown",
      "metadata": {
        "id": "oG-sBZCGhEr_"
      },
      "source": [
        "### Taking a sample of data for building the clustering model to avoid compuation issues"
      ],
      "id": "oG-sBZCGhEr_"
    },
    {
      "cell_type": "code",
      "source": [
        "## Using the dimensions obtainted from the PCA to apply clustering.(i.e, 3)\n",
        "pca = PCA(n_components=3)\n",
        "\n",
        "pca_df = pd.DataFrame(pca.fit_transform(dff),columns=['PC1','PC2','PC3'])\n",
        "pca_df.head()"
      ],
      "metadata": {
        "colab": {
          "base_uri": "https://localhost:8080/",
          "height": 206
        },
        "id": "iYA-XwuZk49t",
        "outputId": "8656ff47-6db3-4c03-9c78-24b7cd2605ae"
      },
      "id": "iYA-XwuZk49t",
      "execution_count": null,
      "outputs": [
        {
          "output_type": "execute_result",
          "data": {
            "text/plain": [
              "        PC1       PC2       PC3\n",
              "0 -0.418477 -0.248723 -0.159310\n",
              "1 -0.422960 -0.192118  0.555487\n",
              "2 -0.406976  0.027194 -0.273527\n",
              "3  0.980320 -0.556141  0.272778\n",
              "4 -0.395909  0.239784  0.185086"
            ],
            "text/html": [
              "\n",
              "  <div id=\"df-4818fbb1-0fba-4aba-9361-1f139c981c35\">\n",
              "    <div class=\"colab-df-container\">\n",
              "      <div>\n",
              "<style scoped>\n",
              "    .dataframe tbody tr th:only-of-type {\n",
              "        vertical-align: middle;\n",
              "    }\n",
              "\n",
              "    .dataframe tbody tr th {\n",
              "        vertical-align: top;\n",
              "    }\n",
              "\n",
              "    .dataframe thead th {\n",
              "        text-align: right;\n",
              "    }\n",
              "</style>\n",
              "<table border=\"1\" class=\"dataframe\">\n",
              "  <thead>\n",
              "    <tr style=\"text-align: right;\">\n",
              "      <th></th>\n",
              "      <th>PC1</th>\n",
              "      <th>PC2</th>\n",
              "      <th>PC3</th>\n",
              "    </tr>\n",
              "  </thead>\n",
              "  <tbody>\n",
              "    <tr>\n",
              "      <th>0</th>\n",
              "      <td>-0.418477</td>\n",
              "      <td>-0.248723</td>\n",
              "      <td>-0.159310</td>\n",
              "    </tr>\n",
              "    <tr>\n",
              "      <th>1</th>\n",
              "      <td>-0.422960</td>\n",
              "      <td>-0.192118</td>\n",
              "      <td>0.555487</td>\n",
              "    </tr>\n",
              "    <tr>\n",
              "      <th>2</th>\n",
              "      <td>-0.406976</td>\n",
              "      <td>0.027194</td>\n",
              "      <td>-0.273527</td>\n",
              "    </tr>\n",
              "    <tr>\n",
              "      <th>3</th>\n",
              "      <td>0.980320</td>\n",
              "      <td>-0.556141</td>\n",
              "      <td>0.272778</td>\n",
              "    </tr>\n",
              "    <tr>\n",
              "      <th>4</th>\n",
              "      <td>-0.395909</td>\n",
              "      <td>0.239784</td>\n",
              "      <td>0.185086</td>\n",
              "    </tr>\n",
              "  </tbody>\n",
              "</table>\n",
              "</div>\n",
              "      <button class=\"colab-df-convert\" onclick=\"convertToInteractive('df-4818fbb1-0fba-4aba-9361-1f139c981c35')\"\n",
              "              title=\"Convert this dataframe to an interactive table.\"\n",
              "              style=\"display:none;\">\n",
              "        \n",
              "  <svg xmlns=\"http://www.w3.org/2000/svg\" height=\"24px\"viewBox=\"0 0 24 24\"\n",
              "       width=\"24px\">\n",
              "    <path d=\"M0 0h24v24H0V0z\" fill=\"none\"/>\n",
              "    <path d=\"M18.56 5.44l.94 2.06.94-2.06 2.06-.94-2.06-.94-.94-2.06-.94 2.06-2.06.94zm-11 1L8.5 8.5l.94-2.06 2.06-.94-2.06-.94L8.5 2.5l-.94 2.06-2.06.94zm10 10l.94 2.06.94-2.06 2.06-.94-2.06-.94-.94-2.06-.94 2.06-2.06.94z\"/><path d=\"M17.41 7.96l-1.37-1.37c-.4-.4-.92-.59-1.43-.59-.52 0-1.04.2-1.43.59L10.3 9.45l-7.72 7.72c-.78.78-.78 2.05 0 2.83L4 21.41c.39.39.9.59 1.41.59.51 0 1.02-.2 1.41-.59l7.78-7.78 2.81-2.81c.8-.78.8-2.07 0-2.86zM5.41 20L4 18.59l7.72-7.72 1.47 1.35L5.41 20z\"/>\n",
              "  </svg>\n",
              "      </button>\n",
              "      \n",
              "  <style>\n",
              "    .colab-df-container {\n",
              "      display:flex;\n",
              "      flex-wrap:wrap;\n",
              "      gap: 12px;\n",
              "    }\n",
              "\n",
              "    .colab-df-convert {\n",
              "      background-color: #E8F0FE;\n",
              "      border: none;\n",
              "      border-radius: 50%;\n",
              "      cursor: pointer;\n",
              "      display: none;\n",
              "      fill: #1967D2;\n",
              "      height: 32px;\n",
              "      padding: 0 0 0 0;\n",
              "      width: 32px;\n",
              "    }\n",
              "\n",
              "    .colab-df-convert:hover {\n",
              "      background-color: #E2EBFA;\n",
              "      box-shadow: 0px 1px 2px rgba(60, 64, 67, 0.3), 0px 1px 3px 1px rgba(60, 64, 67, 0.15);\n",
              "      fill: #174EA6;\n",
              "    }\n",
              "\n",
              "    [theme=dark] .colab-df-convert {\n",
              "      background-color: #3B4455;\n",
              "      fill: #D2E3FC;\n",
              "    }\n",
              "\n",
              "    [theme=dark] .colab-df-convert:hover {\n",
              "      background-color: #434B5C;\n",
              "      box-shadow: 0px 1px 3px 1px rgba(0, 0, 0, 0.15);\n",
              "      filter: drop-shadow(0px 1px 2px rgba(0, 0, 0, 0.3));\n",
              "      fill: #FFFFFF;\n",
              "    }\n",
              "  </style>\n",
              "\n",
              "      <script>\n",
              "        const buttonEl =\n",
              "          document.querySelector('#df-4818fbb1-0fba-4aba-9361-1f139c981c35 button.colab-df-convert');\n",
              "        buttonEl.style.display =\n",
              "          google.colab.kernel.accessAllowed ? 'block' : 'none';\n",
              "\n",
              "        async function convertToInteractive(key) {\n",
              "          const element = document.querySelector('#df-4818fbb1-0fba-4aba-9361-1f139c981c35');\n",
              "          const dataTable =\n",
              "            await google.colab.kernel.invokeFunction('convertToInteractive',\n",
              "                                                     [key], {});\n",
              "          if (!dataTable) return;\n",
              "\n",
              "          const docLinkHtml = 'Like what you see? Visit the ' +\n",
              "            '<a target=\"_blank\" href=https://colab.research.google.com/notebooks/data_table.ipynb>data table notebook</a>'\n",
              "            + ' to learn more about interactive tables.';\n",
              "          element.innerHTML = '';\n",
              "          dataTable['output_type'] = 'display_data';\n",
              "          await google.colab.output.renderOutput(dataTable, element);\n",
              "          const docLink = document.createElement('div');\n",
              "          docLink.innerHTML = docLinkHtml;\n",
              "          element.appendChild(docLink);\n",
              "        }\n",
              "      </script>\n",
              "    </div>\n",
              "  </div>\n",
              "  "
            ]
          },
          "metadata": {},
          "execution_count": 41
        }
      ]
    },
    {
      "cell_type": "markdown",
      "metadata": {
        "id": "I1k4ZTbflSmr"
      },
      "source": [
        "#### Kmeans clustering (using the PCA tranformed data)"
      ],
      "id": "I1k4ZTbflSmr"
    },
    {
      "cell_type": "code",
      "execution_count": null,
      "metadata": {
        "id": "KSfLuU8KlSmr"
      },
      "outputs": [],
      "source": [
        "## finding optimal K value by KMeans clustering using Elbow plot.\n",
        "cluster_errors = []\n",
        "cluster_range = range(2,6)\n",
        "for num_clusters in cluster_range:\n",
        "    clusters = KMeans(num_clusters,random_state=100)\n",
        "    clusters.fit(pca_df)\n",
        "    cluster_errors.append(clusters.inertia_)"
      ],
      "id": "KSfLuU8KlSmr"
    },
    {
      "cell_type": "code",
      "execution_count": null,
      "metadata": {
        "id": "u8GdiMGPlSmr"
      },
      "outputs": [],
      "source": [
        "## creataing a dataframe of number of clusters and cluster errors.\n",
        "cluster_df = pd.DataFrame({'num_clusters':cluster_range,'cluster_errors':cluster_errors})"
      ],
      "id": "u8GdiMGPlSmr"
    },
    {
      "cell_type": "code",
      "execution_count": null,
      "metadata": {
        "outputId": "755f2ada-5847-4697-cf22-3555b71d3c12",
        "colab": {
          "base_uri": "https://localhost:8080/",
          "height": 320
        },
        "id": "unKxwROrmbLr"
      },
      "outputs": [
        {
          "output_type": "display_data",
          "data": {
            "text/plain": [
              "<Figure size 1080x360 with 1 Axes>"
            ],
            "image/png": "[encoded data removed]"
          },
          "metadata": {
            "needs_background": "light"
          }
        }
      ],
      "source": [
        "## Elbow plot.\n",
        "plt.figure(figsize=[15,5])\n",
        "plt.plot(cluster_df['num_clusters'],cluster_df['cluster_errors'],marker='o',color='b')\n",
        "plt.show()"
      ],
      "id": "unKxwROrmbLr"
    },
    {
      "cell_type": "markdown",
      "metadata": {
        "id": "Tn67sRz1mbLt"
      },
      "source": [
        "- From the above elbow plot we can see at the cluster K=4, the inertia significantly decreases . Hence we can select our optimal clusters as K=4."
      ],
      "id": "Tn67sRz1mbLt"
    },
    {
      "cell_type": "code",
      "execution_count": null,
      "metadata": {
        "outputId": "026e02b3-7189-4f7f-baac-c3d5b67fce89",
        "colab": {
          "base_uri": "https://localhost:8080/"
        },
        "id": "VWTAhMzHmbLt"
      },
      "outputs": [
        {
          "output_type": "execute_result",
          "data": {
            "text/plain": [
              "KMeans(n_clusters=4, random_state=100)"
            ]
          },
          "metadata": {},
          "execution_count": 45
        }
      ],
      "source": [
        "## Applying KMeans clustering for the optimal number of clusters obtained above.\n",
        "kmeans = KMeans(n_clusters=4, random_state=100)\n",
        "kmeans.fit(pca_df)"
      ],
      "id": "VWTAhMzHmbLt"
    },
    {
      "cell_type": "code",
      "execution_count": null,
      "metadata": {
        "id": "DZCdW1GFmrzV"
      },
      "outputs": [],
      "source": [
        "## creating a dataframe of the labels.\n",
        "label = pd.DataFrame(kmeans.labels_,columns=['Label'])"
      ],
      "id": "DZCdW1GFmrzV"
    },
    {
      "cell_type": "code",
      "execution_count": null,
      "metadata": {
        "outputId": "cb6baad8-c327-42d7-d2e4-b0ff1b2af0a0",
        "colab": {
          "base_uri": "https://localhost:8080/",
          "height": 206
        },
        "id": "H9uU40kfmrzW"
      },
      "outputs": [
        {
          "output_type": "execute_result",
          "data": {
            "text/plain": [
              "        PC1       PC2       PC3  Label\n",
              "0 -0.418477 -0.248723 -0.159310      2\n",
              "1 -0.422960 -0.192118  0.555487      3\n",
              "2 -0.406976  0.027194 -0.273527      2\n",
              "3  0.980320 -0.556141  0.272778      1\n",
              "4 -0.395909  0.239784  0.185086      0"
            ],
            "text/html": [
              "\n",
              "  <div id=\"df-8e035628-2624-49e1-85cc-dd926b6b8317\">\n",
              "    <div class=\"colab-df-container\">\n",
              "      <div>\n",
              "<style scoped>\n",
              "    .dataframe tbody tr th:only-of-type {\n",
              "        vertical-align: middle;\n",
              "    }\n",
              "\n",
              "    .dataframe tbody tr th {\n",
              "        vertical-align: top;\n",
              "    }\n",
              "\n",
              "    .dataframe thead th {\n",
              "        text-align: right;\n",
              "    }\n",
              "</style>\n",
              "<table border=\"1\" class=\"dataframe\">\n",
              "  <thead>\n",
              "    <tr style=\"text-align: right;\">\n",
              "      <th></th>\n",
              "      <th>PC1</th>\n",
              "      <th>PC2</th>\n",
              "      <th>PC3</th>\n",
              "      <th>Label</th>\n",
              "    </tr>\n",
              "  </thead>\n",
              "  <tbody>\n",
              "    <tr>\n",
              "      <th>0</th>\n",
              "      <td>-0.418477</td>\n",
              "      <td>-0.248723</td>\n",
              "      <td>-0.159310</td>\n",
              "      <td>2</td>\n",
              "    </tr>\n",
              "    <tr>\n",
              "      <th>1</th>\n",
              "      <td>-0.422960</td>\n",
              "      <td>-0.192118</td>\n",
              "      <td>0.555487</td>\n",
              "      <td>3</td>\n",
              "    </tr>\n",
              "    <tr>\n",
              "      <th>2</th>\n",
              "      <td>-0.406976</td>\n",
              "      <td>0.027194</td>\n",
              "      <td>-0.273527</td>\n",
              "      <td>2</td>\n",
              "    </tr>\n",
              "    <tr>\n",
              "      <th>3</th>\n",
              "      <td>0.980320</td>\n",
              "      <td>-0.556141</td>\n",
              "      <td>0.272778</td>\n",
              "      <td>1</td>\n",
              "    </tr>\n",
              "    <tr>\n",
              "      <th>4</th>\n",
              "      <td>-0.395909</td>\n",
              "      <td>0.239784</td>\n",
              "      <td>0.185086</td>\n",
              "      <td>0</td>\n",
              "    </tr>\n",
              "  </tbody>\n",
              "</table>\n",
              "</div>\n",
              "      <button class=\"colab-df-convert\" onclick=\"convertToInteractive('df-8e035628-2624-49e1-85cc-dd926b6b8317')\"\n",
              "              title=\"Convert this dataframe to an interactive table.\"\n",
              "              style=\"display:none;\">\n",
              "        \n",
              "  <svg xmlns=\"http://www.w3.org/2000/svg\" height=\"24px\"viewBox=\"0 0 24 24\"\n",
              "       width=\"24px\">\n",
              "    <path d=\"M0 0h24v24H0V0z\" fill=\"none\"/>\n",
              "    <path d=\"M18.56 5.44l.94 2.06.94-2.06 2.06-.94-2.06-.94-.94-2.06-.94 2.06-2.06.94zm-11 1L8.5 8.5l.94-2.06 2.06-.94-2.06-.94L8.5 2.5l-.94 2.06-2.06.94zm10 10l.94 2.06.94-2.06 2.06-.94-2.06-.94-.94-2.06-.94 2.06-2.06.94z\"/><path d=\"M17.41 7.96l-1.37-1.37c-.4-.4-.92-.59-1.43-.59-.52 0-1.04.2-1.43.59L10.3 9.45l-7.72 7.72c-.78.78-.78 2.05 0 2.83L4 21.41c.39.39.9.59 1.41.59.51 0 1.02-.2 1.41-.59l7.78-7.78 2.81-2.81c.8-.78.8-2.07 0-2.86zM5.41 20L4 18.59l7.72-7.72 1.47 1.35L5.41 20z\"/>\n",
              "  </svg>\n",
              "      </button>\n",
              "      \n",
              "  <style>\n",
              "    .colab-df-container {\n",
              "      display:flex;\n",
              "      flex-wrap:wrap;\n",
              "      gap: 12px;\n",
              "    }\n",
              "\n",
              "    .colab-df-convert {\n",
              "      background-color: #E8F0FE;\n",
              "      border: none;\n",
              "      border-radius: 50%;\n",
              "      cursor: pointer;\n",
              "      display: none;\n",
              "      fill: #1967D2;\n",
              "      height: 32px;\n",
              "      padding: 0 0 0 0;\n",
              "      width: 32px;\n",
              "    }\n",
              "\n",
              "    .colab-df-convert:hover {\n",
              "      background-color: #E2EBFA;\n",
              "      box-shadow: 0px 1px 2px rgba(60, 64, 67, 0.3), 0px 1px 3px 1px rgba(60, 64, 67, 0.15);\n",
              "      fill: #174EA6;\n",
              "    }\n",
              "\n",
              "    [theme=dark] .colab-df-convert {\n",
              "      background-color: #3B4455;\n",
              "      fill: #D2E3FC;\n",
              "    }\n",
              "\n",
              "    [theme=dark] .colab-df-convert:hover {\n",
              "      background-color: #434B5C;\n",
              "      box-shadow: 0px 1px 3px 1px rgba(0, 0, 0, 0.15);\n",
              "      filter: drop-shadow(0px 1px 2px rgba(0, 0, 0, 0.3));\n",
              "      fill: #FFFFFF;\n",
              "    }\n",
              "  </style>\n",
              "\n",
              "      <script>\n",
              "        const buttonEl =\n",
              "          document.querySelector('#df-8e035628-2624-49e1-85cc-dd926b6b8317 button.colab-df-convert');\n",
              "        buttonEl.style.display =\n",
              "          google.colab.kernel.accessAllowed ? 'block' : 'none';\n",
              "\n",
              "        async function convertToInteractive(key) {\n",
              "          const element = document.querySelector('#df-8e035628-2624-49e1-85cc-dd926b6b8317');\n",
              "          const dataTable =\n",
              "            await google.colab.kernel.invokeFunction('convertToInteractive',\n",
              "                                                     [key], {});\n",
              "          if (!dataTable) return;\n",
              "\n",
              "          const docLinkHtml = 'Like what you see? Visit the ' +\n",
              "            '<a target=\"_blank\" href=https://colab.research.google.com/notebooks/data_table.ipynb>data table notebook</a>'\n",
              "            + ' to learn more about interactive tables.';\n",
              "          element.innerHTML = '';\n",
              "          dataTable['output_type'] = 'display_data';\n",
              "          await google.colab.output.renderOutput(dataTable, element);\n",
              "          const docLink = document.createElement('div');\n",
              "          docLink.innerHTML = docLinkHtml;\n",
              "          element.appendChild(docLink);\n",
              "        }\n",
              "      </script>\n",
              "    </div>\n",
              "  </div>\n",
              "  "
            ]
          },
          "metadata": {},
          "execution_count": 47
        }
      ],
      "source": [
        "## joining the label dataframe to the pca_df dataframe.\n",
        "kmeans_df = pca_df.join(label)\n",
        "kmeans_df.head()"
      ],
      "id": "H9uU40kfmrzW"
    },
    {
      "cell_type": "code",
      "execution_count": null,
      "metadata": {
        "outputId": "117e11b8-d677-4e8d-9251-2db4d2ea3bc8",
        "colab": {
          "base_uri": "https://localhost:8080/"
        },
        "id": "V5UUJbA-mrzW"
      },
      "outputs": [
        {
          "output_type": "execute_result",
          "data": {
            "text/plain": [
              "2    391504\n",
              "1    351292\n",
              "0    335277\n",
              "3    137522\n",
              "Name: Label, dtype: int64"
            ]
          },
          "metadata": {},
          "execution_count": 48
        }
      ],
      "source": [
        "kmeans_df['Label'].value_counts()"
      ],
      "id": "V5UUJbA-mrzW"
    },
    {
      "cell_type": "code",
      "source": [],
      "metadata": {
        "id": "jV2YwqGw_E6I"
      },
      "id": "jV2YwqGw_E6I",
      "execution_count": null,
      "outputs": []
    },
    {
      "cell_type": "code",
      "source": [
        "pca_df_1 = pca_df.sample(n=50000)\n",
        "## reseting the index\n",
        "pca_df_1.reset_index(inplace=True,drop=True)\n",
        "\n",
        "## finding optimal clusters through silhoutte score\n",
        "from sklearn.metrics import silhouette_score\n",
        "\n",
        "for i in range(2,7):\n",
        "  kmeans = KMeans(i,random_state=100)\n",
        "  kmeans.fit(pca_df_1)\n",
        "  labels = kmeans.predict(pca_df_1)\n",
        "  print(i,silhouette_score(pca_df_1,labels))"
      ],
      "metadata": {
        "colab": {
          "base_uri": "https://localhost:8080/"
        },
        "id": "UnuNshUs7TMo",
        "outputId": "79c7e734-0c69-468d-8413-61df90b3a778"
      },
      "id": "UnuNshUs7TMo",
      "execution_count": null,
      "outputs": [
        {
          "output_type": "stream",
          "name": "stdout",
          "text": [
            "2 0.6734111665713742\n",
            "3 0.5263538302859997\n",
            "4 0.6055916611088723\n",
            "5 0.5480644083291009\n",
            "6 0.57342937744279\n"
          ]
        }
      ]
    },
    {
      "cell_type": "markdown",
      "metadata": {
        "id": "-kGteA-0un3B"
      },
      "source": [
        "We build our models using the silhouette score method. The silhouette is a method of interpretation and validation of consistency within clusters of data.\n",
        "We do not know how many clusters give the most useful results. So, we create the clusters varying K, from 3 to 6 and then decide the optimum number of clusters (K) with the help of the silhouette score"
      ],
      "id": "-kGteA-0un3B"
    },
    {
      "cell_type": "markdown",
      "metadata": {
        "id": "Y9c3x4Mqun3E"
      },
      "source": [
        "* The optimum value for K is associated with the high value of the 'silhouette score'. From the above output it can be seen that, for K = 2, and K=4 the silhouette score is highest. Thus, we will try to build the clusters with K = 2 "
      ],
      "id": "Y9c3x4Mqun3E"
    },
    {
      "cell_type": "markdown",
      "id": "1fd81c2f",
      "metadata": {
        "id": "1fd81c2f"
      },
      "source": [
        "### 13. Apply Agglomerative clustering and segement the data.  (You may use original data or PCA transformed data)\n",
        "- a. Find the optimal K Value using dendrogram for Agglomerative clustering.\n",
        "- b. Build a Agglomerative clustering model using the obtained optimal K value from observed from dendrogram.\n",
        "- c. Compute silhoutte score for evaluating the quality of the Agglomerative clustering technique.\n",
        "\n",
        "(Hint: Take a sample of the dataset for agglomerative clustering)"
      ]
    },
    {
      "cell_type": "markdown",
      "id": "b9b3c042",
      "metadata": {
        "id": "b9b3c042"
      },
      "source": [
        "#### Agglomerative clustering (using original data)"
      ]
    },
    {
      "cell_type": "code",
      "execution_count": null,
      "id": "0aa26079",
      "metadata": {
        "id": "0aa26079"
      },
      "outputs": [],
      "source": [
        "## Let us use the dfc2 for this (a copy of the cleaned dataset after encoding and data standardization)"
      ]
    },
    {
      "cell_type": "code",
      "execution_count": null,
      "id": "d9141fda",
      "metadata": {
        "id": "d9141fda"
      },
      "outputs": [],
      "source": [
        "## Since dataset is huge plotting dendrogram might be time consuming.\n",
        "## Let us take a sample of the dataset. (since the dataset is huge around 2 lakh rows, let take a sample)"
      ]
    },
    {
      "cell_type": "code",
      "source": [
        "dff.head()"
      ],
      "metadata": {
        "colab": {
          "base_uri": "https://localhost:8080/",
          "height": 206
        },
        "id": "dSMfsVu9EOiP",
        "outputId": "75fbb8c6-1e85-406a-b885-9c08a9b316d0"
      },
      "id": "dSMfsVu9EOiP",
      "execution_count": null,
      "outputs": [
        {
          "output_type": "execute_result",
          "data": {
            "text/plain": [
              "   longitude  latitude       age  phone_brand_Cat  device_model_Cat  \\\n",
              "0   0.910019  0.743824  0.448718         0.386364          0.934054   \n",
              "2   0.865390  0.726212  0.461538         0.988636          0.452973   \n",
              "3   0.858355  0.652790  0.243590         0.090909          0.804324   \n",
              "4   0.893411  0.714318  0.217949         0.909091          0.888649   \n",
              "5   0.543511  0.386551  0.102564         0.238636          0.457297   \n",
              "\n",
              "   Type_is_F  Type_is_M  \n",
              "0        0.0        1.0  \n",
              "2        0.0        1.0  \n",
              "3        0.0        1.0  \n",
              "4        1.0        0.0  \n",
              "5        0.0        1.0  "
            ],
            "text/html": [
              "\n",
              "  <div id=\"df-2d8067f0-a682-43aa-910e-1a300113382b\">\n",
              "    <div class=\"colab-df-container\">\n",
              "      <div>\n",
              "<style scoped>\n",
              "    .dataframe tbody tr th:only-of-type {\n",
              "        vertical-align: middle;\n",
              "    }\n",
              "\n",
              "    .dataframe tbody tr th {\n",
              "        vertical-align: top;\n",
              "    }\n",
              "\n",
              "    .dataframe thead th {\n",
              "        text-align: right;\n",
              "    }\n",
              "</style>\n",
              "<table border=\"1\" class=\"dataframe\">\n",
              "  <thead>\n",
              "    <tr style=\"text-align: right;\">\n",
              "      <th></th>\n",
              "      <th>longitude</th>\n",
              "      <th>latitude</th>\n",
              "      <th>age</th>\n",
              "      <th>phone_brand_Cat</th>\n",
              "      <th>device_model_Cat</th>\n",
              "      <th>Type_is_F</th>\n",
              "      <th>Type_is_M</th>\n",
              "    </tr>\n",
              "  </thead>\n",
              "  <tbody>\n",
              "    <tr>\n",
              "      <th>0</th>\n",
              "      <td>0.910019</td>\n",
              "      <td>0.743824</td>\n",
              "      <td>0.448718</td>\n",
              "      <td>0.386364</td>\n",
              "      <td>0.934054</td>\n",
              "      <td>0.0</td>\n",
              "      <td>1.0</td>\n",
              "    </tr>\n",
              "    <tr>\n",
              "      <th>2</th>\n",
              "      <td>0.865390</td>\n",
              "      <td>0.726212</td>\n",
              "      <td>0.461538</td>\n",
              "      <td>0.988636</td>\n",
              "      <td>0.452973</td>\n",
              "      <td>0.0</td>\n",
              "      <td>1.0</td>\n",
              "    </tr>\n",
              "    <tr>\n",
              "      <th>3</th>\n",
              "      <td>0.858355</td>\n",
              "      <td>0.652790</td>\n",
              "      <td>0.243590</td>\n",
              "      <td>0.090909</td>\n",
              "      <td>0.804324</td>\n",
              "      <td>0.0</td>\n",
              "      <td>1.0</td>\n",
              "    </tr>\n",
              "    <tr>\n",
              "      <th>4</th>\n",
              "      <td>0.893411</td>\n",
              "      <td>0.714318</td>\n",
              "      <td>0.217949</td>\n",
              "      <td>0.909091</td>\n",
              "      <td>0.888649</td>\n",
              "      <td>1.0</td>\n",
              "      <td>0.0</td>\n",
              "    </tr>\n",
              "    <tr>\n",
              "      <th>5</th>\n",
              "      <td>0.543511</td>\n",
              "      <td>0.386551</td>\n",
              "      <td>0.102564</td>\n",
              "      <td>0.238636</td>\n",
              "      <td>0.457297</td>\n",
              "      <td>0.0</td>\n",
              "      <td>1.0</td>\n",
              "    </tr>\n",
              "  </tbody>\n",
              "</table>\n",
              "</div>\n",
              "      <button class=\"colab-df-convert\" onclick=\"convertToInteractive('df-2d8067f0-a682-43aa-910e-1a300113382b')\"\n",
              "              title=\"Convert this dataframe to an interactive table.\"\n",
              "              style=\"display:none;\">\n",
              "        \n",
              "  <svg xmlns=\"http://www.w3.org/2000/svg\" height=\"24px\"viewBox=\"0 0 24 24\"\n",
              "       width=\"24px\">\n",
              "    <path d=\"M0 0h24v24H0V0z\" fill=\"none\"/>\n",
              "    <path d=\"M18.56 5.44l.94 2.06.94-2.06 2.06-.94-2.06-.94-.94-2.06-.94 2.06-2.06.94zm-11 1L8.5 8.5l.94-2.06 2.06-.94-2.06-.94L8.5 2.5l-.94 2.06-2.06.94zm10 10l.94 2.06.94-2.06 2.06-.94-2.06-.94-.94-2.06-.94 2.06-2.06.94z\"/><path d=\"M17.41 7.96l-1.37-1.37c-.4-.4-.92-.59-1.43-.59-.52 0-1.04.2-1.43.59L10.3 9.45l-7.72 7.72c-.78.78-.78 2.05 0 2.83L4 21.41c.39.39.9.59 1.41.59.51 0 1.02-.2 1.41-.59l7.78-7.78 2.81-2.81c.8-.78.8-2.07 0-2.86zM5.41 20L4 18.59l7.72-7.72 1.47 1.35L5.41 20z\"/>\n",
              "  </svg>\n",
              "      </button>\n",
              "      \n",
              "  <style>\n",
              "    .colab-df-container {\n",
              "      display:flex;\n",
              "      flex-wrap:wrap;\n",
              "      gap: 12px;\n",
              "    }\n",
              "\n",
              "    .colab-df-convert {\n",
              "      background-color: #E8F0FE;\n",
              "      border: none;\n",
              "      border-radius: 50%;\n",
              "      cursor: pointer;\n",
              "      display: none;\n",
              "      fill: #1967D2;\n",
              "      height: 32px;\n",
              "      padding: 0 0 0 0;\n",
              "      width: 32px;\n",
              "    }\n",
              "\n",
              "    .colab-df-convert:hover {\n",
              "      background-color: #E2EBFA;\n",
              "      box-shadow: 0px 1px 2px rgba(60, 64, 67, 0.3), 0px 1px 3px 1px rgba(60, 64, 67, 0.15);\n",
              "      fill: #174EA6;\n",
              "    }\n",
              "\n",
              "    [theme=dark] .colab-df-convert {\n",
              "      background-color: #3B4455;\n",
              "      fill: #D2E3FC;\n",
              "    }\n",
              "\n",
              "    [theme=dark] .colab-df-convert:hover {\n",
              "      background-color: #434B5C;\n",
              "      box-shadow: 0px 1px 3px 1px rgba(0, 0, 0, 0.15);\n",
              "      filter: drop-shadow(0px 1px 2px rgba(0, 0, 0, 0.3));\n",
              "      fill: #FFFFFF;\n",
              "    }\n",
              "  </style>\n",
              "\n",
              "      <script>\n",
              "        const buttonEl =\n",
              "          document.querySelector('#df-2d8067f0-a682-43aa-910e-1a300113382b button.colab-df-convert');\n",
              "        buttonEl.style.display =\n",
              "          google.colab.kernel.accessAllowed ? 'block' : 'none';\n",
              "\n",
              "        async function convertToInteractive(key) {\n",
              "          const element = document.querySelector('#df-2d8067f0-a682-43aa-910e-1a300113382b');\n",
              "          const dataTable =\n",
              "            await google.colab.kernel.invokeFunction('convertToInteractive',\n",
              "                                                     [key], {});\n",
              "          if (!dataTable) return;\n",
              "\n",
              "          const docLinkHtml = 'Like what you see? Visit the ' +\n",
              "            '<a target=\"_blank\" href=https://colab.research.google.com/notebooks/data_table.ipynb>data table notebook</a>'\n",
              "            + ' to learn more about interactive tables.';\n",
              "          element.innerHTML = '';\n",
              "          dataTable['output_type'] = 'display_data';\n",
              "          await google.colab.output.renderOutput(dataTable, element);\n",
              "          const docLink = document.createElement('div');\n",
              "          docLink.innerHTML = docLinkHtml;\n",
              "          element.appendChild(docLink);\n",
              "        }\n",
              "      </script>\n",
              "    </div>\n",
              "  </div>\n",
              "  "
            ]
          },
          "metadata": {},
          "execution_count": 52
        }
      ]
    },
    {
      "cell_type": "code",
      "execution_count": null,
      "id": "95e97a8b",
      "metadata": {
        "id": "95e97a8b"
      },
      "outputs": [],
      "source": [
        "## Taking a sample of 50K rows from the dff dataframe using random sampling technique provided by pandas \n",
        " \n",
        "dff_2 = dff.sample(n=30000)\n",
        "\n",
        "## reseting the index\n",
        "dff_2.reset_index(inplace=True,drop=True)"
      ]
    },
    {
      "cell_type": "code",
      "execution_count": null,
      "id": "2850723c",
      "metadata": {
        "id": "2850723c",
        "outputId": "7768f216-2e28-480b-a61b-6fee6db27823",
        "colab": {
          "base_uri": "https://localhost:8080/",
          "height": 175
        }
      },
      "outputs": [
        {
          "output_type": "execute_result",
          "data": {
            "text/plain": [
              "   longitude  latitude       age  phone_brand_Cat  device_model_Cat  \\\n",
              "0   0.543511  0.386551  0.205128         0.159091          0.969730   \n",
              "1   0.907965  0.745197  0.384615         0.909091          0.887568   \n",
              "2   0.907784  0.740050  0.115385         0.113636          0.337297   \n",
              "3   0.878646  0.786940  0.474359         0.090909          0.744865   \n",
              "\n",
              "   Type_is_F  Type_is_M  \n",
              "0        0.0        1.0  \n",
              "1        1.0        0.0  \n",
              "2        0.0        1.0  \n",
              "3        1.0        0.0  "
            ],
            "text/html": [
              "\n",
              "  <div id=\"df-2d83c9f6-b263-4270-af08-c09a46361da5\">\n",
              "    <div class=\"colab-df-container\">\n",
              "      <div>\n",
              "<style scoped>\n",
              "    .dataframe tbody tr th:only-of-type {\n",
              "        vertical-align: middle;\n",
              "    }\n",
              "\n",
              "    .dataframe tbody tr th {\n",
              "        vertical-align: top;\n",
              "    }\n",
              "\n",
              "    .dataframe thead th {\n",
              "        text-align: right;\n",
              "    }\n",
              "</style>\n",
              "<table border=\"1\" class=\"dataframe\">\n",
              "  <thead>\n",
              "    <tr style=\"text-align: right;\">\n",
              "      <th></th>\n",
              "      <th>longitude</th>\n",
              "      <th>latitude</th>\n",
              "      <th>age</th>\n",
              "      <th>phone_brand_Cat</th>\n",
              "      <th>device_model_Cat</th>\n",
              "      <th>Type_is_F</th>\n",
              "      <th>Type_is_M</th>\n",
              "    </tr>\n",
              "  </thead>\n",
              "  <tbody>\n",
              "    <tr>\n",
              "      <th>0</th>\n",
              "      <td>0.543511</td>\n",
              "      <td>0.386551</td>\n",
              "      <td>0.205128</td>\n",
              "      <td>0.159091</td>\n",
              "      <td>0.969730</td>\n",
              "      <td>0.0</td>\n",
              "      <td>1.0</td>\n",
              "    </tr>\n",
              "    <tr>\n",
              "      <th>1</th>\n",
              "      <td>0.907965</td>\n",
              "      <td>0.745197</td>\n",
              "      <td>0.384615</td>\n",
              "      <td>0.909091</td>\n",
              "      <td>0.887568</td>\n",
              "      <td>1.0</td>\n",
              "      <td>0.0</td>\n",
              "    </tr>\n",
              "    <tr>\n",
              "      <th>2</th>\n",
              "      <td>0.907784</td>\n",
              "      <td>0.740050</td>\n",
              "      <td>0.115385</td>\n",
              "      <td>0.113636</td>\n",
              "      <td>0.337297</td>\n",
              "      <td>0.0</td>\n",
              "      <td>1.0</td>\n",
              "    </tr>\n",
              "    <tr>\n",
              "      <th>3</th>\n",
              "      <td>0.878646</td>\n",
              "      <td>0.786940</td>\n",
              "      <td>0.474359</td>\n",
              "      <td>0.090909</td>\n",
              "      <td>0.744865</td>\n",
              "      <td>1.0</td>\n",
              "      <td>0.0</td>\n",
              "    </tr>\n",
              "  </tbody>\n",
              "</table>\n",
              "</div>\n",
              "      <button class=\"colab-df-convert\" onclick=\"convertToInteractive('df-2d83c9f6-b263-4270-af08-c09a46361da5')\"\n",
              "              title=\"Convert this dataframe to an interactive table.\"\n",
              "              style=\"display:none;\">\n",
              "        \n",
              "  <svg xmlns=\"http://www.w3.org/2000/svg\" height=\"24px\"viewBox=\"0 0 24 24\"\n",
              "       width=\"24px\">\n",
              "    <path d=\"M0 0h24v24H0V0z\" fill=\"none\"/>\n",
              "    <path d=\"M18.56 5.44l.94 2.06.94-2.06 2.06-.94-2.06-.94-.94-2.06-.94 2.06-2.06.94zm-11 1L8.5 8.5l.94-2.06 2.06-.94-2.06-.94L8.5 2.5l-.94 2.06-2.06.94zm10 10l.94 2.06.94-2.06 2.06-.94-2.06-.94-.94-2.06-.94 2.06-2.06.94z\"/><path d=\"M17.41 7.96l-1.37-1.37c-.4-.4-.92-.59-1.43-.59-.52 0-1.04.2-1.43.59L10.3 9.45l-7.72 7.72c-.78.78-.78 2.05 0 2.83L4 21.41c.39.39.9.59 1.41.59.51 0 1.02-.2 1.41-.59l7.78-7.78 2.81-2.81c.8-.78.8-2.07 0-2.86zM5.41 20L4 18.59l7.72-7.72 1.47 1.35L5.41 20z\"/>\n",
              "  </svg>\n",
              "      </button>\n",
              "      \n",
              "  <style>\n",
              "    .colab-df-container {\n",
              "      display:flex;\n",
              "      flex-wrap:wrap;\n",
              "      gap: 12px;\n",
              "    }\n",
              "\n",
              "    .colab-df-convert {\n",
              "      background-color: #E8F0FE;\n",
              "      border: none;\n",
              "      border-radius: 50%;\n",
              "      cursor: pointer;\n",
              "      display: none;\n",
              "      fill: #1967D2;\n",
              "      height: 32px;\n",
              "      padding: 0 0 0 0;\n",
              "      width: 32px;\n",
              "    }\n",
              "\n",
              "    .colab-df-convert:hover {\n",
              "      background-color: #E2EBFA;\n",
              "      box-shadow: 0px 1px 2px rgba(60, 64, 67, 0.3), 0px 1px 3px 1px rgba(60, 64, 67, 0.15);\n",
              "      fill: #174EA6;\n",
              "    }\n",
              "\n",
              "    [theme=dark] .colab-df-convert {\n",
              "      background-color: #3B4455;\n",
              "      fill: #D2E3FC;\n",
              "    }\n",
              "\n",
              "    [theme=dark] .colab-df-convert:hover {\n",
              "      background-color: #434B5C;\n",
              "      box-shadow: 0px 1px 3px 1px rgba(0, 0, 0, 0.15);\n",
              "      filter: drop-shadow(0px 1px 2px rgba(0, 0, 0, 0.3));\n",
              "      fill: #FFFFFF;\n",
              "    }\n",
              "  </style>\n",
              "\n",
              "      <script>\n",
              "        const buttonEl =\n",
              "          document.querySelector('#df-2d83c9f6-b263-4270-af08-c09a46361da5 button.colab-df-convert');\n",
              "        buttonEl.style.display =\n",
              "          google.colab.kernel.accessAllowed ? 'block' : 'none';\n",
              "\n",
              "        async function convertToInteractive(key) {\n",
              "          const element = document.querySelector('#df-2d83c9f6-b263-4270-af08-c09a46361da5');\n",
              "          const dataTable =\n",
              "            await google.colab.kernel.invokeFunction('convertToInteractive',\n",
              "                                                     [key], {});\n",
              "          if (!dataTable) return;\n",
              "\n",
              "          const docLinkHtml = 'Like what you see? Visit the ' +\n",
              "            '<a target=\"_blank\" href=https://colab.research.google.com/notebooks/data_table.ipynb>data table notebook</a>'\n",
              "            + ' to learn more about interactive tables.';\n",
              "          element.innerHTML = '';\n",
              "          dataTable['output_type'] = 'display_data';\n",
              "          await google.colab.output.renderOutput(dataTable, element);\n",
              "          const docLink = document.createElement('div');\n",
              "          docLink.innerHTML = docLinkHtml;\n",
              "          element.appendChild(docLink);\n",
              "        }\n",
              "      </script>\n",
              "    </div>\n",
              "  </div>\n",
              "  "
            ]
          },
          "metadata": {},
          "execution_count": 54
        }
      ],
      "source": [
        "dff_2.head(4)"
      ]
    },
    {
      "cell_type": "markdown",
      "id": "4428887b",
      "metadata": {
        "id": "4428887b"
      },
      "source": [
        "#### Dendrogram"
      ]
    },
    {
      "cell_type": "code",
      "execution_count": null,
      "id": "933308ae",
      "metadata": {
        "id": "933308ae",
        "outputId": "cd97e765-de86-42c2-b3aa-c2dae53baf5d",
        "colab": {
          "base_uri": "https://localhost:8080/",
          "height": 340
        }
      },
      "outputs": [
        {
          "output_type": "display_data",
          "data": {
            "text/plain": [
              "<Figure size 1296x360 with 1 Axes>"
            ],
            "image/png": "[encoded data removed]"
          },
          "metadata": {
            "needs_background": "light"
          }
        }
      ],
      "source": [
        "plt.figure(figsize=[18,5])\n",
        "merg = linkage(dff_2, method='ward')\n",
        "dendrogram(merg, leaf_rotation=90,)\n",
        "plt.xlabel('Datapoints')\n",
        "plt.ylabel('Euclidean distance')\n",
        "plt.show()"
      ]
    },
    {
      "cell_type": "markdown",
      "id": "fc55380b",
      "metadata": {
        "id": "fc55380b"
      },
      "source": [
        "- We look for the largest distance that we can vertically observe without crossing any horizontal line.\n",
        "- We can observe from the above dendrogram that we can choose optimal clusters has 2."
      ]
    },
    {
      "cell_type": "code",
      "execution_count": null,
      "id": "6ff15e9e",
      "metadata": {
        "id": "6ff15e9e"
      },
      "outputs": [],
      "source": [
        "## Building hierarchical clustering model using the optimal clusters as 2\n",
        "hie_cluster = AgglomerativeClustering(n_clusters=2, affinity='euclidean',\n",
        "                                     linkage='ward')\n",
        "hie_cluster_model = hie_cluster.fit(dff_2)"
      ]
    },
    {
      "cell_type": "code",
      "execution_count": null,
      "id": "a2a95a1a",
      "metadata": {
        "id": "a2a95a1a",
        "outputId": "ccd76346-bd51-4484-be59-5fa095550d4a",
        "colab": {
          "base_uri": "https://localhost:8080/",
          "height": 206
        }
      },
      "outputs": [
        {
          "output_type": "execute_result",
          "data": {
            "text/plain": [
              "   Labels\n",
              "0       0\n",
              "1       1\n",
              "2       0\n",
              "3       1\n",
              "4       1"
            ],
            "text/html": [
              "\n",
              "  <div id=\"df-1c2b5237-cef6-4641-a122-a43d0a161c92\">\n",
              "    <div class=\"colab-df-container\">\n",
              "      <div>\n",
              "<style scoped>\n",
              "    .dataframe tbody tr th:only-of-type {\n",
              "        vertical-align: middle;\n",
              "    }\n",
              "\n",
              "    .dataframe tbody tr th {\n",
              "        vertical-align: top;\n",
              "    }\n",
              "\n",
              "    .dataframe thead th {\n",
              "        text-align: right;\n",
              "    }\n",
              "</style>\n",
              "<table border=\"1\" class=\"dataframe\">\n",
              "  <thead>\n",
              "    <tr style=\"text-align: right;\">\n",
              "      <th></th>\n",
              "      <th>Labels</th>\n",
              "    </tr>\n",
              "  </thead>\n",
              "  <tbody>\n",
              "    <tr>\n",
              "      <th>0</th>\n",
              "      <td>0</td>\n",
              "    </tr>\n",
              "    <tr>\n",
              "      <th>1</th>\n",
              "      <td>1</td>\n",
              "    </tr>\n",
              "    <tr>\n",
              "      <th>2</th>\n",
              "      <td>0</td>\n",
              "    </tr>\n",
              "    <tr>\n",
              "      <th>3</th>\n",
              "      <td>1</td>\n",
              "    </tr>\n",
              "    <tr>\n",
              "      <th>4</th>\n",
              "      <td>1</td>\n",
              "    </tr>\n",
              "  </tbody>\n",
              "</table>\n",
              "</div>\n",
              "      <button class=\"colab-df-convert\" onclick=\"convertToInteractive('df-1c2b5237-cef6-4641-a122-a43d0a161c92')\"\n",
              "              title=\"Convert this dataframe to an interactive table.\"\n",
              "              style=\"display:none;\">\n",
              "        \n",
              "  <svg xmlns=\"http://www.w3.org/2000/svg\" height=\"24px\"viewBox=\"0 0 24 24\"\n",
              "       width=\"24px\">\n",
              "    <path d=\"M0 0h24v24H0V0z\" fill=\"none\"/>\n",
              "    <path d=\"M18.56 5.44l.94 2.06.94-2.06 2.06-.94-2.06-.94-.94-2.06-.94 2.06-2.06.94zm-11 1L8.5 8.5l.94-2.06 2.06-.94-2.06-.94L8.5 2.5l-.94 2.06-2.06.94zm10 10l.94 2.06.94-2.06 2.06-.94-2.06-.94-.94-2.06-.94 2.06-2.06.94z\"/><path d=\"M17.41 7.96l-1.37-1.37c-.4-.4-.92-.59-1.43-.59-.52 0-1.04.2-1.43.59L10.3 9.45l-7.72 7.72c-.78.78-.78 2.05 0 2.83L4 21.41c.39.39.9.59 1.41.59.51 0 1.02-.2 1.41-.59l7.78-7.78 2.81-2.81c.8-.78.8-2.07 0-2.86zM5.41 20L4 18.59l7.72-7.72 1.47 1.35L5.41 20z\"/>\n",
              "  </svg>\n",
              "      </button>\n",
              "      \n",
              "  <style>\n",
              "    .colab-df-container {\n",
              "      display:flex;\n",
              "      flex-wrap:wrap;\n",
              "      gap: 12px;\n",
              "    }\n",
              "\n",
              "    .colab-df-convert {\n",
              "      background-color: #E8F0FE;\n",
              "      border: none;\n",
              "      border-radius: 50%;\n",
              "      cursor: pointer;\n",
              "      display: none;\n",
              "      fill: #1967D2;\n",
              "      height: 32px;\n",
              "      padding: 0 0 0 0;\n",
              "      width: 32px;\n",
              "    }\n",
              "\n",
              "    .colab-df-convert:hover {\n",
              "      background-color: #E2EBFA;\n",
              "      box-shadow: 0px 1px 2px rgba(60, 64, 67, 0.3), 0px 1px 3px 1px rgba(60, 64, 67, 0.15);\n",
              "      fill: #174EA6;\n",
              "    }\n",
              "\n",
              "    [theme=dark] .colab-df-convert {\n",
              "      background-color: #3B4455;\n",
              "      fill: #D2E3FC;\n",
              "    }\n",
              "\n",
              "    [theme=dark] .colab-df-convert:hover {\n",
              "      background-color: #434B5C;\n",
              "      box-shadow: 0px 1px 3px 1px rgba(0, 0, 0, 0.15);\n",
              "      filter: drop-shadow(0px 1px 2px rgba(0, 0, 0, 0.3));\n",
              "      fill: #FFFFFF;\n",
              "    }\n",
              "  </style>\n",
              "\n",
              "      <script>\n",
              "        const buttonEl =\n",
              "          document.querySelector('#df-1c2b5237-cef6-4641-a122-a43d0a161c92 button.colab-df-convert');\n",
              "        buttonEl.style.display =\n",
              "          google.colab.kernel.accessAllowed ? 'block' : 'none';\n",
              "\n",
              "        async function convertToInteractive(key) {\n",
              "          const element = document.querySelector('#df-1c2b5237-cef6-4641-a122-a43d0a161c92');\n",
              "          const dataTable =\n",
              "            await google.colab.kernel.invokeFunction('convertToInteractive',\n",
              "                                                     [key], {});\n",
              "          if (!dataTable) return;\n",
              "\n",
              "          const docLinkHtml = 'Like what you see? Visit the ' +\n",
              "            '<a target=\"_blank\" href=https://colab.research.google.com/notebooks/data_table.ipynb>data table notebook</a>'\n",
              "            + ' to learn more about interactive tables.';\n",
              "          element.innerHTML = '';\n",
              "          dataTable['output_type'] = 'display_data';\n",
              "          await google.colab.output.renderOutput(dataTable, element);\n",
              "          const docLink = document.createElement('div');\n",
              "          docLink.innerHTML = docLinkHtml;\n",
              "          element.appendChild(docLink);\n",
              "        }\n",
              "      </script>\n",
              "    </div>\n",
              "  </div>\n",
              "  "
            ]
          },
          "metadata": {},
          "execution_count": 64
        }
      ],
      "source": [
        "## Creating a dataframe of the labels\n",
        "df_label1 = pd.DataFrame(hie_cluster_model.labels_,columns=['Labels'])\n",
        "df_label1.head(5)"
      ]
    },
    {
      "cell_type": "code",
      "execution_count": null,
      "id": "fde8b538",
      "metadata": {
        "id": "fde8b538",
        "outputId": "025e04f8-8d04-4dd1-b398-a8cf5ea1ad65",
        "colab": {
          "base_uri": "https://localhost:8080/",
          "height": 206
        }
      },
      "outputs": [
        {
          "output_type": "execute_result",
          "data": {
            "text/plain": [
              "   longitude  latitude       age  phone_brand_Cat  device_model_Cat  \\\n",
              "0   0.543511  0.386551  0.205128         0.159091          0.969730   \n",
              "1   0.907965  0.745197  0.384615         0.909091          0.887568   \n",
              "2   0.907784  0.740050  0.115385         0.113636          0.337297   \n",
              "3   0.878646  0.786940  0.474359         0.090909          0.744865   \n",
              "4   0.888822  0.739593  0.256410         0.090909          0.742703   \n",
              "\n",
              "   Type_is_F  Type_is_M  Labels  \n",
              "0        0.0        1.0       0  \n",
              "1        1.0        0.0       1  \n",
              "2        0.0        1.0       0  \n",
              "3        1.0        0.0       1  \n",
              "4        1.0        0.0       1  "
            ],
            "text/html": [
              "\n",
              "  <div id=\"df-851160b0-d83b-4bc3-b118-6ed45c521713\">\n",
              "    <div class=\"colab-df-container\">\n",
              "      <div>\n",
              "<style scoped>\n",
              "    .dataframe tbody tr th:only-of-type {\n",
              "        vertical-align: middle;\n",
              "    }\n",
              "\n",
              "    .dataframe tbody tr th {\n",
              "        vertical-align: top;\n",
              "    }\n",
              "\n",
              "    .dataframe thead th {\n",
              "        text-align: right;\n",
              "    }\n",
              "</style>\n",
              "<table border=\"1\" class=\"dataframe\">\n",
              "  <thead>\n",
              "    <tr style=\"text-align: right;\">\n",
              "      <th></th>\n",
              "      <th>longitude</th>\n",
              "      <th>latitude</th>\n",
              "      <th>age</th>\n",
              "      <th>phone_brand_Cat</th>\n",
              "      <th>device_model_Cat</th>\n",
              "      <th>Type_is_F</th>\n",
              "      <th>Type_is_M</th>\n",
              "      <th>Labels</th>\n",
              "    </tr>\n",
              "  </thead>\n",
              "  <tbody>\n",
              "    <tr>\n",
              "      <th>0</th>\n",
              "      <td>0.543511</td>\n",
              "      <td>0.386551</td>\n",
              "      <td>0.205128</td>\n",
              "      <td>0.159091</td>\n",
              "      <td>0.969730</td>\n",
              "      <td>0.0</td>\n",
              "      <td>1.0</td>\n",
              "      <td>0</td>\n",
              "    </tr>\n",
              "    <tr>\n",
              "      <th>1</th>\n",
              "      <td>0.907965</td>\n",
              "      <td>0.745197</td>\n",
              "      <td>0.384615</td>\n",
              "      <td>0.909091</td>\n",
              "      <td>0.887568</td>\n",
              "      <td>1.0</td>\n",
              "      <td>0.0</td>\n",
              "      <td>1</td>\n",
              "    </tr>\n",
              "    <tr>\n",
              "      <th>2</th>\n",
              "      <td>0.907784</td>\n",
              "      <td>0.740050</td>\n",
              "      <td>0.115385</td>\n",
              "      <td>0.113636</td>\n",
              "      <td>0.337297</td>\n",
              "      <td>0.0</td>\n",
              "      <td>1.0</td>\n",
              "      <td>0</td>\n",
              "    </tr>\n",
              "    <tr>\n",
              "      <th>3</th>\n",
              "      <td>0.878646</td>\n",
              "      <td>0.786940</td>\n",
              "      <td>0.474359</td>\n",
              "      <td>0.090909</td>\n",
              "      <td>0.744865</td>\n",
              "      <td>1.0</td>\n",
              "      <td>0.0</td>\n",
              "      <td>1</td>\n",
              "    </tr>\n",
              "    <tr>\n",
              "      <th>4</th>\n",
              "      <td>0.888822</td>\n",
              "      <td>0.739593</td>\n",
              "      <td>0.256410</td>\n",
              "      <td>0.090909</td>\n",
              "      <td>0.742703</td>\n",
              "      <td>1.0</td>\n",
              "      <td>0.0</td>\n",
              "      <td>1</td>\n",
              "    </tr>\n",
              "  </tbody>\n",
              "</table>\n",
              "</div>\n",
              "      <button class=\"colab-df-convert\" onclick=\"convertToInteractive('df-851160b0-d83b-4bc3-b118-6ed45c521713')\"\n",
              "              title=\"Convert this dataframe to an interactive table.\"\n",
              "              style=\"display:none;\">\n",
              "        \n",
              "  <svg xmlns=\"http://www.w3.org/2000/svg\" height=\"24px\"viewBox=\"0 0 24 24\"\n",
              "       width=\"24px\">\n",
              "    <path d=\"M0 0h24v24H0V0z\" fill=\"none\"/>\n",
              "    <path d=\"M18.56 5.44l.94 2.06.94-2.06 2.06-.94-2.06-.94-.94-2.06-.94 2.06-2.06.94zm-11 1L8.5 8.5l.94-2.06 2.06-.94-2.06-.94L8.5 2.5l-.94 2.06-2.06.94zm10 10l.94 2.06.94-2.06 2.06-.94-2.06-.94-.94-2.06-.94 2.06-2.06.94z\"/><path d=\"M17.41 7.96l-1.37-1.37c-.4-.4-.92-.59-1.43-.59-.52 0-1.04.2-1.43.59L10.3 9.45l-7.72 7.72c-.78.78-.78 2.05 0 2.83L4 21.41c.39.39.9.59 1.41.59.51 0 1.02-.2 1.41-.59l7.78-7.78 2.81-2.81c.8-.78.8-2.07 0-2.86zM5.41 20L4 18.59l7.72-7.72 1.47 1.35L5.41 20z\"/>\n",
              "  </svg>\n",
              "      </button>\n",
              "      \n",
              "  <style>\n",
              "    .colab-df-container {\n",
              "      display:flex;\n",
              "      flex-wrap:wrap;\n",
              "      gap: 12px;\n",
              "    }\n",
              "\n",
              "    .colab-df-convert {\n",
              "      background-color: #E8F0FE;\n",
              "      border: none;\n",
              "      border-radius: 50%;\n",
              "      cursor: pointer;\n",
              "      display: none;\n",
              "      fill: #1967D2;\n",
              "      height: 32px;\n",
              "      padding: 0 0 0 0;\n",
              "      width: 32px;\n",
              "    }\n",
              "\n",
              "    .colab-df-convert:hover {\n",
              "      background-color: #E2EBFA;\n",
              "      box-shadow: 0px 1px 2px rgba(60, 64, 67, 0.3), 0px 1px 3px 1px rgba(60, 64, 67, 0.15);\n",
              "      fill: #174EA6;\n",
              "    }\n",
              "\n",
              "    [theme=dark] .colab-df-convert {\n",
              "      background-color: #3B4455;\n",
              "      fill: #D2E3FC;\n",
              "    }\n",
              "\n",
              "    [theme=dark] .colab-df-convert:hover {\n",
              "      background-color: #434B5C;\n",
              "      box-shadow: 0px 1px 3px 1px rgba(0, 0, 0, 0.15);\n",
              "      filter: drop-shadow(0px 1px 2px rgba(0, 0, 0, 0.3));\n",
              "      fill: #FFFFFF;\n",
              "    }\n",
              "  </style>\n",
              "\n",
              "      <script>\n",
              "        const buttonEl =\n",
              "          document.querySelector('#df-851160b0-d83b-4bc3-b118-6ed45c521713 button.colab-df-convert');\n",
              "        buttonEl.style.display =\n",
              "          google.colab.kernel.accessAllowed ? 'block' : 'none';\n",
              "\n",
              "        async function convertToInteractive(key) {\n",
              "          const element = document.querySelector('#df-851160b0-d83b-4bc3-b118-6ed45c521713');\n",
              "          const dataTable =\n",
              "            await google.colab.kernel.invokeFunction('convertToInteractive',\n",
              "                                                     [key], {});\n",
              "          if (!dataTable) return;\n",
              "\n",
              "          const docLinkHtml = 'Like what you see? Visit the ' +\n",
              "            '<a target=\"_blank\" href=https://colab.research.google.com/notebooks/data_table.ipynb>data table notebook</a>'\n",
              "            + ' to learn more about interactive tables.';\n",
              "          element.innerHTML = '';\n",
              "          dataTable['output_type'] = 'display_data';\n",
              "          await google.colab.output.renderOutput(dataTable, element);\n",
              "          const docLink = document.createElement('div');\n",
              "          docLink.innerHTML = docLinkHtml;\n",
              "          element.appendChild(docLink);\n",
              "        }\n",
              "      </script>\n",
              "    </div>\n",
              "  </div>\n",
              "  "
            ]
          },
          "metadata": {},
          "execution_count": 65
        }
      ],
      "source": [
        "## joining the label dataframe with unscaled initial cleaned dataframe.(dfc1)\n",
        "\n",
        "df_hier = dff_2.join(df_label1)\n",
        "df_hier.head()"
      ]
    },
    {
      "cell_type": "code",
      "execution_count": null,
      "id": "e2e4c136",
      "metadata": {
        "id": "e2e4c136",
        "outputId": "6bbd3a70-13b1-4ff9-ebbb-153d594ccda0",
        "colab": {
          "base_uri": "https://localhost:8080/"
        }
      },
      "outputs": [
        {
          "output_type": "stream",
          "name": "stdout",
          "text": [
            "2 0.6000955296699574\n",
            "3 0.459806875620219\n",
            "4 0.389643267204589\n",
            "5 0.4495907099999998\n",
            "6 0.3974970054959757\n"
          ]
        }
      ],
      "source": [
        "for i in range(2,7):\n",
        "    hier = AgglomerativeClustering(n_clusters=i)\n",
        "    hier = hier.fit(dff_2)\n",
        "    labels = hier.fit_predict(dff_2)\n",
        "    print(i,silhouette_score(dff_2,labels))"
      ]
    },
    {
      "cell_type": "markdown",
      "id": "14cd27e7",
      "metadata": {
        "id": "14cd27e7"
      },
      "source": [
        "- We can observe from the silhouette scores for the agglomerative clustering with 2 clusters is higher compared to the rest. "
      ]
    },
    {
      "cell_type": "markdown",
      "metadata": {
        "id": "Kv3Wd7PBLJOe"
      },
      "source": [
        "### 14. Perform cluster analysis by doing bivariate analysis between cluster label and different features and write your conclusion on the results."
      ],
      "id": "Kv3Wd7PBLJOe"
    },
    {
      "cell_type": "code",
      "execution_count": null,
      "metadata": {
        "outputId": "d9654c14-06a5-41ca-b680-282589fbdd12",
        "colab": {
          "base_uri": "https://localhost:8080/"
        },
        "id": "W90HZ8c2LJOh"
      },
      "outputs": [
        {
          "output_type": "execute_result",
          "data": {
            "text/plain": [
              "array([0, 1])"
            ]
          },
          "metadata": {},
          "execution_count": 66
        }
      ],
      "source": [
        "df_hier['Labels'].unique()"
      ],
      "id": "W90HZ8c2LJOh"
    },
    {
      "cell_type": "code",
      "execution_count": null,
      "metadata": {
        "scrolled": true,
        "outputId": "d955e9f8-a0cd-4eef-8510-45ff8f8653fa",
        "colab": {
          "base_uri": "https://localhost:8080/",
          "height": 248
        },
        "id": "4Cv3hBkwLJOi"
      },
      "outputs": [
        {
          "output_type": "display_data",
          "data": {
            "text/plain": [
              "<Figure size 432x288 with 1 Axes>"
            ],
            "image/png": "[encoded data removed]"
          },
          "metadata": {}
        }
      ],
      "source": [
        "df_hier['Labels'].value_counts().plot(kind='pie',autopct='%0.1f')\n",
        "plt.show()"
      ],
      "id": "4Cv3hBkwLJOi"
    },
    {
      "cell_type": "markdown",
      "metadata": {
        "id": "i1HEDnBkLJOi"
      },
      "source": [
        "- We can observe that the clusters formed are imbalanced. There are more number of records assigned to cluster 0 than that of cluster 1."
      ],
      "id": "i1HEDnBkLJOi"
    },
    {
      "cell_type": "code",
      "source": [
        "df.head()"
      ],
      "metadata": {
        "colab": {
          "base_uri": "https://localhost:8080/",
          "height": 206
        },
        "id": "zy7j5QR4NiIW",
        "outputId": "c1995811-dab7-4c54-f32b-577c74ea3191"
      },
      "id": "zy7j5QR4NiIW",
      "execution_count": null,
      "outputs": [
        {
          "output_type": "execute_result",
          "data": {
            "text/plain": [
              "   event_id            device_id            timestamp  longitude  latitude  \\\n",
              "0         1    29182687948017175  2016-05-01 00:55:25     121.38     31.24   \n",
              "2         3 -4833982096941402721  2016-05-01 00:08:05     106.60     29.70   \n",
              "3         4 -6815121365017318426  2016-05-01 00:06:40     104.27     23.28   \n",
              "4         5 -5373797595892518570  2016-05-01 00:07:18     115.88     28.66   \n",
              "5         6  1476664663289716375  2016-05-01 00:27:21       0.00      0.00   \n",
              "\n",
              "  phone_brand device_model   age   group  phone_brand_Cat  device_model_Cat  \\\n",
              "0          小米       红米note  46.0    M39+               34               864   \n",
              "2          魅族      MX4 Pro  47.0    M39+               87               419   \n",
              "3        vivo          Y27  30.0  M29-31                8               744   \n",
              "4          酷派         大神F2  28.0  F27-28               80               822   \n",
              "5          华为       Mate 7  19.0    M22-               21               423   \n",
              "\n",
              "   Type_is_F  Type_is_M  \n",
              "0          0          1  \n",
              "2          0          1  \n",
              "3          0          1  \n",
              "4          1          0  \n",
              "5          0          1  "
            ],
            "text/html": [
              "\n",
              "  <div id=\"df-e2b2b192-5116-40ed-af4f-1006d61d0b3b\">\n",
              "    <div class=\"colab-df-container\">\n",
              "      <div>\n",
              "<style scoped>\n",
              "    .dataframe tbody tr th:only-of-type {\n",
              "        vertical-align: middle;\n",
              "    }\n",
              "\n",
              "    .dataframe tbody tr th {\n",
              "        vertical-align: top;\n",
              "    }\n",
              "\n",
              "    .dataframe thead th {\n",
              "        text-align: right;\n",
              "    }\n",
              "</style>\n",
              "<table border=\"1\" class=\"dataframe\">\n",
              "  <thead>\n",
              "    <tr style=\"text-align: right;\">\n",
              "      <th></th>\n",
              "      <th>event_id</th>\n",
              "      <th>device_id</th>\n",
              "      <th>timestamp</th>\n",
              "      <th>longitude</th>\n",
              "      <th>latitude</th>\n",
              "      <th>phone_brand</th>\n",
              "      <th>device_model</th>\n",
              "      <th>age</th>\n",
              "      <th>group</th>\n",
              "      <th>phone_brand_Cat</th>\n",
              "      <th>device_model_Cat</th>\n",
              "      <th>Type_is_F</th>\n",
              "      <th>Type_is_M</th>\n",
              "    </tr>\n",
              "  </thead>\n",
              "  <tbody>\n",
              "    <tr>\n",
              "      <th>0</th>\n",
              "      <td>1</td>\n",
              "      <td>29182687948017175</td>\n",
              "      <td>2016-05-01 00:55:25</td>\n",
              "      <td>121.38</td>\n",
              "      <td>31.24</td>\n",
              "      <td>小米</td>\n",
              "      <td>红米note</td>\n",
              "      <td>46.0</td>\n",
              "      <td>M39+</td>\n",
              "      <td>34</td>\n",
              "      <td>864</td>\n",
              "      <td>0</td>\n",
              "      <td>1</td>\n",
              "    </tr>\n",
              "    <tr>\n",
              "      <th>2</th>\n",
              "      <td>3</td>\n",
              "      <td>-4833982096941402721</td>\n",
              "      <td>2016-05-01 00:08:05</td>\n",
              "      <td>106.60</td>\n",
              "      <td>29.70</td>\n",
              "      <td>魅族</td>\n",
              "      <td>MX4 Pro</td>\n",
              "      <td>47.0</td>\n",
              "      <td>M39+</td>\n",
              "      <td>87</td>\n",
              "      <td>419</td>\n",
              "      <td>0</td>\n",
              "      <td>1</td>\n",
              "    </tr>\n",
              "    <tr>\n",
              "      <th>3</th>\n",
              "      <td>4</td>\n",
              "      <td>-6815121365017318426</td>\n",
              "      <td>2016-05-01 00:06:40</td>\n",
              "      <td>104.27</td>\n",
              "      <td>23.28</td>\n",
              "      <td>vivo</td>\n",
              "      <td>Y27</td>\n",
              "      <td>30.0</td>\n",
              "      <td>M29-31</td>\n",
              "      <td>8</td>\n",
              "      <td>744</td>\n",
              "      <td>0</td>\n",
              "      <td>1</td>\n",
              "    </tr>\n",
              "    <tr>\n",
              "      <th>4</th>\n",
              "      <td>5</td>\n",
              "      <td>-5373797595892518570</td>\n",
              "      <td>2016-05-01 00:07:18</td>\n",
              "      <td>115.88</td>\n",
              "      <td>28.66</td>\n",
              "      <td>酷派</td>\n",
              "      <td>大神F2</td>\n",
              "      <td>28.0</td>\n",
              "      <td>F27-28</td>\n",
              "      <td>80</td>\n",
              "      <td>822</td>\n",
              "      <td>1</td>\n",
              "      <td>0</td>\n",
              "    </tr>\n",
              "    <tr>\n",
              "      <th>5</th>\n",
              "      <td>6</td>\n",
              "      <td>1476664663289716375</td>\n",
              "      <td>2016-05-01 00:27:21</td>\n",
              "      <td>0.00</td>\n",
              "      <td>0.00</td>\n",
              "      <td>华为</td>\n",
              "      <td>Mate 7</td>\n",
              "      <td>19.0</td>\n",
              "      <td>M22-</td>\n",
              "      <td>21</td>\n",
              "      <td>423</td>\n",
              "      <td>0</td>\n",
              "      <td>1</td>\n",
              "    </tr>\n",
              "  </tbody>\n",
              "</table>\n",
              "</div>\n",
              "      <button class=\"colab-df-convert\" onclick=\"convertToInteractive('df-e2b2b192-5116-40ed-af4f-1006d61d0b3b')\"\n",
              "              title=\"Convert this dataframe to an interactive table.\"\n",
              "              style=\"display:none;\">\n",
              "        \n",
              "  <svg xmlns=\"http://www.w3.org/2000/svg\" height=\"24px\"viewBox=\"0 0 24 24\"\n",
              "       width=\"24px\">\n",
              "    <path d=\"M0 0h24v24H0V0z\" fill=\"none\"/>\n",
              "    <path d=\"M18.56 5.44l.94 2.06.94-2.06 2.06-.94-2.06-.94-.94-2.06-.94 2.06-2.06.94zm-11 1L8.5 8.5l.94-2.06 2.06-.94-2.06-.94L8.5 2.5l-.94 2.06-2.06.94zm10 10l.94 2.06.94-2.06 2.06-.94-2.06-.94-.94-2.06-.94 2.06-2.06.94z\"/><path d=\"M17.41 7.96l-1.37-1.37c-.4-.4-.92-.59-1.43-.59-.52 0-1.04.2-1.43.59L10.3 9.45l-7.72 7.72c-.78.78-.78 2.05 0 2.83L4 21.41c.39.39.9.59 1.41.59.51 0 1.02-.2 1.41-.59l7.78-7.78 2.81-2.81c.8-.78.8-2.07 0-2.86zM5.41 20L4 18.59l7.72-7.72 1.47 1.35L5.41 20z\"/>\n",
              "  </svg>\n",
              "      </button>\n",
              "      \n",
              "  <style>\n",
              "    .colab-df-container {\n",
              "      display:flex;\n",
              "      flex-wrap:wrap;\n",
              "      gap: 12px;\n",
              "    }\n",
              "\n",
              "    .colab-df-convert {\n",
              "      background-color: #E8F0FE;\n",
              "      border: none;\n",
              "      border-radius: 50%;\n",
              "      cursor: pointer;\n",
              "      display: none;\n",
              "      fill: #1967D2;\n",
              "      height: 32px;\n",
              "      padding: 0 0 0 0;\n",
              "      width: 32px;\n",
              "    }\n",
              "\n",
              "    .colab-df-convert:hover {\n",
              "      background-color: #E2EBFA;\n",
              "      box-shadow: 0px 1px 2px rgba(60, 64, 67, 0.3), 0px 1px 3px 1px rgba(60, 64, 67, 0.15);\n",
              "      fill: #174EA6;\n",
              "    }\n",
              "\n",
              "    [theme=dark] .colab-df-convert {\n",
              "      background-color: #3B4455;\n",
              "      fill: #D2E3FC;\n",
              "    }\n",
              "\n",
              "    [theme=dark] .colab-df-convert:hover {\n",
              "      background-color: #434B5C;\n",
              "      box-shadow: 0px 1px 3px 1px rgba(0, 0, 0, 0.15);\n",
              "      filter: drop-shadow(0px 1px 2px rgba(0, 0, 0, 0.3));\n",
              "      fill: #FFFFFF;\n",
              "    }\n",
              "  </style>\n",
              "\n",
              "      <script>\n",
              "        const buttonEl =\n",
              "          document.querySelector('#df-e2b2b192-5116-40ed-af4f-1006d61d0b3b button.colab-df-convert');\n",
              "        buttonEl.style.display =\n",
              "          google.colab.kernel.accessAllowed ? 'block' : 'none';\n",
              "\n",
              "        async function convertToInteractive(key) {\n",
              "          const element = document.querySelector('#df-e2b2b192-5116-40ed-af4f-1006d61d0b3b');\n",
              "          const dataTable =\n",
              "            await google.colab.kernel.invokeFunction('convertToInteractive',\n",
              "                                                     [key], {});\n",
              "          if (!dataTable) return;\n",
              "\n",
              "          const docLinkHtml = 'Like what you see? Visit the ' +\n",
              "            '<a target=\"_blank\" href=https://colab.research.google.com/notebooks/data_table.ipynb>data table notebook</a>'\n",
              "            + ' to learn more about interactive tables.';\n",
              "          element.innerHTML = '';\n",
              "          dataTable['output_type'] = 'display_data';\n",
              "          await google.colab.output.renderOutput(dataTable, element);\n",
              "          const docLink = document.createElement('div');\n",
              "          docLink.innerHTML = docLinkHtml;\n",
              "          element.appendChild(docLink);\n",
              "        }\n",
              "      </script>\n",
              "    </div>\n",
              "  </div>\n",
              "  "
            ]
          },
          "metadata": {},
          "execution_count": 69
        }
      ]
    },
    {
      "cell_type": "code",
      "execution_count": null,
      "metadata": {
        "outputId": "c161e720-0ad4-44b7-c428-3a1e60353fd9",
        "colab": {
          "base_uri": "https://localhost:8080/",
          "height": 282
        },
        "id": "_T9zF8I9LJOi"
      },
      "outputs": [
        {
          "output_type": "display_data",
          "data": {
            "text/plain": [
              "<Figure size 432x288 with 1 Axes>"
            ],
            "image/png": "[encoded data removed]"
          },
          "metadata": {
            "needs_background": "light"
          }
        }
      ],
      "source": [
        "## Lets check the age distribution of the different clusters.\n",
        "sns.kdeplot(dff['age'],hue='Labels',data=df_hier)\n",
        "plt.show()"
      ],
      "id": "_T9zF8I9LJOi"
    },
    {
      "cell_type": "markdown",
      "id": "a44cba8a",
      "metadata": {
        "id": "a44cba8a"
      },
      "source": [
        "- The distribution of the age for different clusters is almost same, since there are more number of observations assigned to the cluster 0."
      ]
    },
    {
      "cell_type": "markdown",
      "id": "43228a45",
      "metadata": {
        "id": "43228a45"
      },
      "source": [
        "- In this project, we have attempted to implement and apply PCA on the Mobile User Demographics dataset and we selected 3 PCA compoments, which explains 90-95% of the variance in the data.\n",
        "- Also, we have used the PCA dimensions to cluster the data and segment the similar data in to clusters using KMeans clustering.\n",
        "- We have used Kmeans clustering algorithm to cluster the data, First we chose the optimal K value with the help of elbow plot used obtained K value from elbow plot to build a kmeans clustering model.\n",
        "- We have computed the silhoutte score for the different K values and evaluated the goodness of the clustering technique used.\n",
        "- We took the sample of the data and did agglomerative clustering using the original data and plotted dendrogram and analyzed the optimal number of classes and built a agglomerative clustering model using the obtained K value and evaluated the model using silhoutte score.\n",
        "- In this dataset, we had less number of features, further we can ask the company to collect some more demographic information about the users.\n",
        "- By collecting more features, the customer segmentation/clustering of similar customers into groups will be more effective and we can infer more out of the clusters formed and will able to give suggestions to the company based on the analysis that will help the business to target the right customers and stand in the market for longer and make high revenue. "
      ]
    },
    {
      "cell_type": "markdown",
      "id": "bff2fa31",
      "metadata": {
        "id": "bff2fa31"
      },
      "source": [
        "### Happy Learning :)"
      ]
    }
  ],
  "metadata": {
    "colab": {
      "collapsed_sections": [
        "bff2fa31"
      ],
      "provenance": []
    },
    "kernelspec": {
      "display_name": "Python 3 (ipykernel)",
      "language": "python",
      "name": "python3"
    },
    "language_info": {
      "codemirror_mode": {
        "name": "ipython",
        "version": 3
      },
      "file_extension": ".py",
      "mimetype": "text/x-python",
      "name": "python",
      "nbconvert_exporter": "python",
      "pygments_lexer": "ipython3",
      "version": "3.9.7"
    },
    "gpuClass": "standard"
  },
  "nbformat": 4,
  "nbformat_minor": 5
}