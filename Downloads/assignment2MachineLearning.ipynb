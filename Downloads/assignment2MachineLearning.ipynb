{
 "cells": [
  {
   "cell_type": "code",
   "execution_count": 212,
   "metadata": {},
   "outputs": [
    {
     "name": "stdout",
     "output_type": "stream",
     "text": [
      "Requirement already satisfied: mysql-connector-python in c:\\users\\thenu\\anaconda3\\lib\\site-packages (8.0.30)\n",
      "Requirement already satisfied: protobuf<=3.20.1,>=3.11.0 in c:\\users\\thenu\\anaconda3\\lib\\site-packages (from mysql-connector-python) (3.20.1)\n",
      "Note: you may need to restart the kernel to use updated packages.\n"
     ]
    }
   ],
   "source": [
    "%pip install mysql-connector-python\n",
    "import pandas as pd\n",
    "import numpy as np\n",
    "import seaborn as sns\n",
    "import matplotlib.pyplot as plt \n",
    "%matplotlib inline\n",
    "from sklearn.preprocessing import LabelEncoder,StandardScaler\n",
    "\n",
    "from sklearn.preprocessing import StandardScaler\n",
    "from sklearn.decomposition import PCA\n",
    "from sklearn.model_selection import train_test_split\n",
    "\n",
    "import warnings\n",
    "warnings.filterwarnings('ignore')\n",
    "from sklearn.cluster import KMeans\n",
    "from sklearn.metrics import silhouette_score\n",
    "from sklearn.preprocessing import StandardScaler\n",
    "from scipy import stats\n",
    "\n",
    "from scipy.stats import zscore\n",
    "from scipy.spatial import distance\n",
    "from scipy.cluster.hierarchy import linkage, dendrogram, fcluster\n",
    "from sklearn.cluster import AgglomerativeClustering\n"
   ]
  },
  {
   "cell_type": "code",
   "execution_count": 213,
   "metadata": {},
   "outputs": [
    {
     "data": {
      "text/html": [
       "<div>\n",
       "<style scoped>\n",
       "    .dataframe tbody tr th:only-of-type {\n",
       "        vertical-align: middle;\n",
       "    }\n",
       "\n",
       "    .dataframe tbody tr th {\n",
       "        vertical-align: top;\n",
       "    }\n",
       "\n",
       "    .dataframe thead th {\n",
       "        text-align: right;\n",
       "    }\n",
       "</style>\n",
       "<table border=\"1\" class=\"dataframe\">\n",
       "  <thead>\n",
       "    <tr style=\"text-align: right;\">\n",
       "      <th></th>\n",
       "      <th>event_id</th>\n",
       "      <th>device_id</th>\n",
       "      <th>timestamp</th>\n",
       "      <th>longitude</th>\n",
       "      <th>latitude</th>\n",
       "    </tr>\n",
       "  </thead>\n",
       "  <tbody>\n",
       "    <tr>\n",
       "      <th>0</th>\n",
       "      <td>1</td>\n",
       "      <td>29182687948017175</td>\n",
       "      <td>2016-05-01 00:55:25</td>\n",
       "      <td>121.38</td>\n",
       "      <td>31.24</td>\n",
       "    </tr>\n",
       "    <tr>\n",
       "      <th>1</th>\n",
       "      <td>2</td>\n",
       "      <td>-6401643145415154744</td>\n",
       "      <td>2016-05-01 00:54:12</td>\n",
       "      <td>103.65</td>\n",
       "      <td>30.97</td>\n",
       "    </tr>\n",
       "    <tr>\n",
       "      <th>2</th>\n",
       "      <td>3</td>\n",
       "      <td>-4833982096941402721</td>\n",
       "      <td>2016-05-01 00:08:05</td>\n",
       "      <td>106.60</td>\n",
       "      <td>29.70</td>\n",
       "    </tr>\n",
       "    <tr>\n",
       "      <th>3</th>\n",
       "      <td>4</td>\n",
       "      <td>-6815121365017318426</td>\n",
       "      <td>2016-05-01 00:06:40</td>\n",
       "      <td>104.27</td>\n",
       "      <td>23.28</td>\n",
       "    </tr>\n",
       "    <tr>\n",
       "      <th>4</th>\n",
       "      <td>5</td>\n",
       "      <td>-5373797595892518570</td>\n",
       "      <td>2016-05-01 00:07:18</td>\n",
       "      <td>115.88</td>\n",
       "      <td>28.66</td>\n",
       "    </tr>\n",
       "  </tbody>\n",
       "</table>\n",
       "</div>"
      ],
      "text/plain": [
       "   event_id            device_id            timestamp  longitude  latitude\n",
       "0         1    29182687948017175  2016-05-01 00:55:25     121.38     31.24\n",
       "1         2 -6401643145415154744  2016-05-01 00:54:12     103.65     30.97\n",
       "2         3 -4833982096941402721  2016-05-01 00:08:05     106.60     29.70\n",
       "3         4 -6815121365017318426  2016-05-01 00:06:40     104.27     23.28\n",
       "4         5 -5373797595892518570  2016-05-01 00:07:18     115.88     28.66"
      ]
     },
     "execution_count": 213,
     "metadata": {},
     "output_type": "execute_result"
    }
   ],
   "source": [
    "#1. Import the required libraries and load the data\n",
    "# Load the required libraries and read the dataset.\n",
    "#   Check the first few samples, shape, info of the data and try to familiarize yourself with different \n",
    "\n",
    "df = pd.read_csv('C://pro9//Copy of events.csv')\n",
    "df.head()\n",
    "\n",
    "\n"
   ]
  },
  {
   "cell_type": "code",
   "execution_count": 214,
   "metadata": {},
   "outputs": [],
   "source": [
    "dfe=df.dropna()"
   ]
  },
  {
   "cell_type": "code",
   "execution_count": 215,
   "metadata": {},
   "outputs": [],
   "source": [
    "\n",
    "df1 = pd.read_csv('C://pro9//Copy of gender_age.csv')\n",
    "df1.head()\n",
    "dfg=df1.dropna()"
   ]
  },
  {
   "cell_type": "code",
   "execution_count": 216,
   "metadata": {},
   "outputs": [],
   "source": [
    "df2 = pd.read_csv('C://pro9//Copy of phone_device.csv')\n",
    "df2.head()\n",
    "dfp=df2.dropna()"
   ]
  },
  {
   "cell_type": "code",
   "execution_count": 217,
   "metadata": {},
   "outputs": [
    {
     "data": {
      "text/plain": [
       "(3252950, 5)"
      ]
     },
     "execution_count": 217,
     "metadata": {},
     "output_type": "execute_result"
    }
   ],
   "source": [
    "dfe.shape"
   ]
  },
  {
   "cell_type": "code",
   "execution_count": 218,
   "metadata": {},
   "outputs": [
    {
     "data": {
      "text/plain": [
       "(74645, 4)"
      ]
     },
     "execution_count": 218,
     "metadata": {},
     "output_type": "execute_result"
    }
   ],
   "source": [
    "dfg.shape"
   ]
  },
  {
   "cell_type": "code",
   "execution_count": 219,
   "metadata": {},
   "outputs": [
    {
     "data": {
      "text/plain": [
       "(187245, 3)"
      ]
     },
     "execution_count": 219,
     "metadata": {},
     "output_type": "execute_result"
    }
   ],
   "source": [
    "dfp.shape"
   ]
  },
  {
   "cell_type": "code",
   "execution_count": 220,
   "metadata": {},
   "outputs": [
    {
     "data": {
      "text/html": [
       "<div>\n",
       "<style scoped>\n",
       "    .dataframe tbody tr th:only-of-type {\n",
       "        vertical-align: middle;\n",
       "    }\n",
       "\n",
       "    .dataframe tbody tr th {\n",
       "        vertical-align: top;\n",
       "    }\n",
       "\n",
       "    .dataframe thead th {\n",
       "        text-align: right;\n",
       "    }\n",
       "</style>\n",
       "<table border=\"1\" class=\"dataframe\">\n",
       "  <thead>\n",
       "    <tr style=\"text-align: right;\">\n",
       "      <th></th>\n",
       "      <th>event_id</th>\n",
       "      <th>device_id</th>\n",
       "      <th>timestamp</th>\n",
       "      <th>longitude</th>\n",
       "      <th>latitude</th>\n",
       "    </tr>\n",
       "  </thead>\n",
       "  <tbody>\n",
       "  </tbody>\n",
       "</table>\n",
       "</div>"
      ],
      "text/plain": [
       "Empty DataFrame\n",
       "Columns: [event_id, device_id, timestamp, longitude, latitude]\n",
       "Index: []"
      ]
     },
     "execution_count": 220,
     "metadata": {},
     "output_type": "execute_result"
    }
   ],
   "source": [
    "#2. Data cleansing and Exploratory data analysis: [ Score: 8 point\n",
    "# Check if there are any duplicate records in the dataset? If any drop th\n",
    "\n",
    "def check_duplicate(dfe):\n",
    "    duplicate=dfe[dfe.duplicated()]\n",
    "    return duplicate\n",
    "\n",
    "duplicate=check_duplicate(dfe)\n",
    "duplicate"
   ]
  },
  {
   "cell_type": "code",
   "execution_count": 221,
   "metadata": {},
   "outputs": [
    {
     "data": {
      "text/html": [
       "<div>\n",
       "<style scoped>\n",
       "    .dataframe tbody tr th:only-of-type {\n",
       "        vertical-align: middle;\n",
       "    }\n",
       "\n",
       "    .dataframe tbody tr th {\n",
       "        vertical-align: top;\n",
       "    }\n",
       "\n",
       "    .dataframe thead th {\n",
       "        text-align: right;\n",
       "    }\n",
       "</style>\n",
       "<table border=\"1\" class=\"dataframe\">\n",
       "  <thead>\n",
       "    <tr style=\"text-align: right;\">\n",
       "      <th></th>\n",
       "      <th>device_id</th>\n",
       "      <th>gender</th>\n",
       "      <th>age</th>\n",
       "      <th>group</th>\n",
       "    </tr>\n",
       "  </thead>\n",
       "  <tbody>\n",
       "  </tbody>\n",
       "</table>\n",
       "</div>"
      ],
      "text/plain": [
       "Empty DataFrame\n",
       "Columns: [device_id, gender, age, group]\n",
       "Index: []"
      ]
     },
     "execution_count": 221,
     "metadata": {},
     "output_type": "execute_result"
    }
   ],
   "source": [
    "\n",
    "def check_duplicate(dfg):\n",
    "    duplicate=dfg[dfg.duplicated()]\n",
    "    return duplicate\n",
    "\n",
    "duplicate=check_duplicate(dfg)\n",
    "duplicate"
   ]
  },
  {
   "cell_type": "code",
   "execution_count": 222,
   "metadata": {},
   "outputs": [
    {
     "data": {
      "text/html": [
       "<div>\n",
       "<style scoped>\n",
       "    .dataframe tbody tr th:only-of-type {\n",
       "        vertical-align: middle;\n",
       "    }\n",
       "\n",
       "    .dataframe tbody tr th {\n",
       "        vertical-align: top;\n",
       "    }\n",
       "\n",
       "    .dataframe thead th {\n",
       "        text-align: right;\n",
       "    }\n",
       "</style>\n",
       "<table border=\"1\" class=\"dataframe\">\n",
       "  <thead>\n",
       "    <tr style=\"text-align: right;\">\n",
       "      <th></th>\n",
       "      <th>device_id</th>\n",
       "      <th>phone_brand</th>\n",
       "      <th>device_model</th>\n",
       "    </tr>\n",
       "  </thead>\n",
       "  <tbody>\n",
       "    <tr>\n",
       "      <th>0</th>\n",
       "      <td>-8890648629457979026</td>\n",
       "      <td>小米</td>\n",
       "      <td>红米</td>\n",
       "    </tr>\n",
       "    <tr>\n",
       "      <th>1</th>\n",
       "      <td>1277779817574759137</td>\n",
       "      <td>小米</td>\n",
       "      <td>MI 2</td>\n",
       "    </tr>\n",
       "    <tr>\n",
       "      <th>2</th>\n",
       "      <td>5137427614288105724</td>\n",
       "      <td>三星</td>\n",
       "      <td>Galaxy S4</td>\n",
       "    </tr>\n",
       "    <tr>\n",
       "      <th>3</th>\n",
       "      <td>3669464369358936369</td>\n",
       "      <td>SUGAR</td>\n",
       "      <td>时尚手机</td>\n",
       "    </tr>\n",
       "    <tr>\n",
       "      <th>4</th>\n",
       "      <td>-5019277647504317457</td>\n",
       "      <td>三星</td>\n",
       "      <td>Galaxy Note 2</td>\n",
       "    </tr>\n",
       "    <tr>\n",
       "      <th>...</th>\n",
       "      <td>...</td>\n",
       "      <td>...</td>\n",
       "      <td>...</td>\n",
       "    </tr>\n",
       "    <tr>\n",
       "      <th>187239</th>\n",
       "      <td>3210973037848940984</td>\n",
       "      <td>小米</td>\n",
       "      <td>MI 2S</td>\n",
       "    </tr>\n",
       "    <tr>\n",
       "      <th>187240</th>\n",
       "      <td>7979541072208733273</td>\n",
       "      <td>小米</td>\n",
       "      <td>MI 4</td>\n",
       "    </tr>\n",
       "    <tr>\n",
       "      <th>187241</th>\n",
       "      <td>-187404680852357705</td>\n",
       "      <td>小米</td>\n",
       "      <td>红米2</td>\n",
       "    </tr>\n",
       "    <tr>\n",
       "      <th>187242</th>\n",
       "      <td>-2718274279595622821</td>\n",
       "      <td>小米</td>\n",
       "      <td>MI 3</td>\n",
       "    </tr>\n",
       "    <tr>\n",
       "      <th>187243</th>\n",
       "      <td>3098391762071677791</td>\n",
       "      <td>vivo</td>\n",
       "      <td>X1</td>\n",
       "    </tr>\n",
       "  </tbody>\n",
       "</table>\n",
       "<p>186722 rows × 3 columns</p>\n",
       "</div>"
      ],
      "text/plain": [
       "                  device_id phone_brand   device_model\n",
       "0      -8890648629457979026          小米             红米\n",
       "1       1277779817574759137          小米           MI 2\n",
       "2       5137427614288105724          三星      Galaxy S4\n",
       "3       3669464369358936369       SUGAR           时尚手机\n",
       "4      -5019277647504317457          三星  Galaxy Note 2\n",
       "...                     ...         ...            ...\n",
       "187239  3210973037848940984          小米          MI 2S\n",
       "187240  7979541072208733273          小米           MI 4\n",
       "187241  -187404680852357705          小米            红米2\n",
       "187242 -2718274279595622821          小米           MI 3\n",
       "187243  3098391762071677791        vivo             X1\n",
       "\n",
       "[186722 rows x 3 columns]"
      ]
     },
     "metadata": {},
     "output_type": "display_data"
    }
   ],
   "source": [
    "\n",
    "def check_duplicate(dfp):\n",
    "    duplicate=dfp[dfp.duplicated()]\n",
    "    return duplicate\n",
    "\n",
    "duplicate=check_duplicate(dfp)\n",
    "duplicate\n",
    "dropped_duplicate=dfp.drop_duplicates()\n",
    "display(dropped_duplicate)\n",
    "\n",
    "\n"
   ]
  },
  {
   "cell_type": "code",
   "execution_count": 223,
   "metadata": {},
   "outputs": [
    {
     "data": {
      "text/html": [
       "<div>\n",
       "<style scoped>\n",
       "    .dataframe tbody tr th:only-of-type {\n",
       "        vertical-align: middle;\n",
       "    }\n",
       "\n",
       "    .dataframe tbody tr th {\n",
       "        vertical-align: top;\n",
       "    }\n",
       "\n",
       "    .dataframe thead th {\n",
       "        text-align: right;\n",
       "    }\n",
       "</style>\n",
       "<table border=\"1\" class=\"dataframe\">\n",
       "  <thead>\n",
       "    <tr style=\"text-align: right;\">\n",
       "      <th></th>\n",
       "      <th>event_id</th>\n",
       "      <th>device_id</th>\n",
       "      <th>timestamp</th>\n",
       "      <th>longitude</th>\n",
       "      <th>latitude</th>\n",
       "      <th>device_id</th>\n",
       "      <th>gender</th>\n",
       "      <th>age</th>\n",
       "      <th>group</th>\n",
       "      <th>device_id</th>\n",
       "      <th>phone_brand</th>\n",
       "      <th>device_model</th>\n",
       "    </tr>\n",
       "  </thead>\n",
       "  <tbody>\n",
       "    <tr>\n",
       "      <th>0</th>\n",
       "      <td>1</td>\n",
       "      <td>29182687948017175</td>\n",
       "      <td>2016-05-01 00:55:25</td>\n",
       "      <td>121.38</td>\n",
       "      <td>31.24</td>\n",
       "      <td>-8.076088e+18</td>\n",
       "      <td>M</td>\n",
       "      <td>35.0</td>\n",
       "      <td>M32-38</td>\n",
       "      <td>-8.890649e+18</td>\n",
       "      <td>小米</td>\n",
       "      <td>红米</td>\n",
       "    </tr>\n",
       "    <tr>\n",
       "      <th>1</th>\n",
       "      <td>2</td>\n",
       "      <td>-6401643145415154744</td>\n",
       "      <td>2016-05-01 00:54:12</td>\n",
       "      <td>103.65</td>\n",
       "      <td>30.97</td>\n",
       "      <td>-2.897162e+18</td>\n",
       "      <td>M</td>\n",
       "      <td>35.0</td>\n",
       "      <td>M32-38</td>\n",
       "      <td>1.277780e+18</td>\n",
       "      <td>小米</td>\n",
       "      <td>MI 2</td>\n",
       "    </tr>\n",
       "    <tr>\n",
       "      <th>2</th>\n",
       "      <td>3</td>\n",
       "      <td>-4833982096941402721</td>\n",
       "      <td>2016-05-01 00:08:05</td>\n",
       "      <td>106.60</td>\n",
       "      <td>29.70</td>\n",
       "      <td>-8.260684e+18</td>\n",
       "      <td>M</td>\n",
       "      <td>35.0</td>\n",
       "      <td>M32-38</td>\n",
       "      <td>5.137428e+18</td>\n",
       "      <td>三星</td>\n",
       "      <td>Galaxy S4</td>\n",
       "    </tr>\n",
       "    <tr>\n",
       "      <th>3</th>\n",
       "      <td>4</td>\n",
       "      <td>-6815121365017318426</td>\n",
       "      <td>2016-05-01 00:06:40</td>\n",
       "      <td>104.27</td>\n",
       "      <td>23.28</td>\n",
       "      <td>-4.938849e+18</td>\n",
       "      <td>M</td>\n",
       "      <td>30.0</td>\n",
       "      <td>M29-31</td>\n",
       "      <td>3.669464e+18</td>\n",
       "      <td>SUGAR</td>\n",
       "      <td>时尚手机</td>\n",
       "    </tr>\n",
       "    <tr>\n",
       "      <th>4</th>\n",
       "      <td>5</td>\n",
       "      <td>-5373797595892518570</td>\n",
       "      <td>2016-05-01 00:07:18</td>\n",
       "      <td>115.88</td>\n",
       "      <td>28.66</td>\n",
       "      <td>2.451335e+17</td>\n",
       "      <td>M</td>\n",
       "      <td>30.0</td>\n",
       "      <td>M29-31</td>\n",
       "      <td>-5.019278e+18</td>\n",
       "      <td>三星</td>\n",
       "      <td>Galaxy Note 2</td>\n",
       "    </tr>\n",
       "    <tr>\n",
       "      <th>...</th>\n",
       "      <td>...</td>\n",
       "      <td>...</td>\n",
       "      <td>...</td>\n",
       "      <td>...</td>\n",
       "      <td>...</td>\n",
       "      <td>...</td>\n",
       "      <td>...</td>\n",
       "      <td>...</td>\n",
       "      <td>...</td>\n",
       "      <td>...</td>\n",
       "      <td>...</td>\n",
       "      <td>...</td>\n",
       "    </tr>\n",
       "    <tr>\n",
       "      <th>3252945</th>\n",
       "      <td>3252946</td>\n",
       "      <td>-8995272658520685777</td>\n",
       "      <td>2016-05-07 23:14:17</td>\n",
       "      <td>0.00</td>\n",
       "      <td>0.00</td>\n",
       "      <td>NaN</td>\n",
       "      <td>NaN</td>\n",
       "      <td>NaN</td>\n",
       "      <td>NaN</td>\n",
       "      <td>NaN</td>\n",
       "      <td>NaN</td>\n",
       "      <td>NaN</td>\n",
       "    </tr>\n",
       "    <tr>\n",
       "      <th>3252946</th>\n",
       "      <td>3252947</td>\n",
       "      <td>6790350461641275817</td>\n",
       "      <td>2016-05-07 23:14:08</td>\n",
       "      <td>120.65</td>\n",
       "      <td>27.78</td>\n",
       "      <td>NaN</td>\n",
       "      <td>NaN</td>\n",
       "      <td>NaN</td>\n",
       "      <td>NaN</td>\n",
       "      <td>NaN</td>\n",
       "      <td>NaN</td>\n",
       "      <td>NaN</td>\n",
       "    </tr>\n",
       "    <tr>\n",
       "      <th>3252947</th>\n",
       "      <td>3252948</td>\n",
       "      <td>7111660304904287709</td>\n",
       "      <td>2016-05-07 23:35:33</td>\n",
       "      <td>121.40</td>\n",
       "      <td>31.18</td>\n",
       "      <td>NaN</td>\n",
       "      <td>NaN</td>\n",
       "      <td>NaN</td>\n",
       "      <td>NaN</td>\n",
       "      <td>NaN</td>\n",
       "      <td>NaN</td>\n",
       "      <td>NaN</td>\n",
       "    </tr>\n",
       "    <tr>\n",
       "      <th>3252948</th>\n",
       "      <td>3252949</td>\n",
       "      <td>2786044170600788970</td>\n",
       "      <td>2016-05-07 23:36:03</td>\n",
       "      <td>111.19</td>\n",
       "      <td>31.29</td>\n",
       "      <td>NaN</td>\n",
       "      <td>NaN</td>\n",
       "      <td>NaN</td>\n",
       "      <td>NaN</td>\n",
       "      <td>NaN</td>\n",
       "      <td>NaN</td>\n",
       "      <td>NaN</td>\n",
       "    </tr>\n",
       "    <tr>\n",
       "      <th>3252949</th>\n",
       "      <td>3252950</td>\n",
       "      <td>3315513013457872370</td>\n",
       "      <td>2016-05-07 23:20:08</td>\n",
       "      <td>112.99</td>\n",
       "      <td>28.23</td>\n",
       "      <td>NaN</td>\n",
       "      <td>NaN</td>\n",
       "      <td>NaN</td>\n",
       "      <td>NaN</td>\n",
       "      <td>NaN</td>\n",
       "      <td>NaN</td>\n",
       "      <td>NaN</td>\n",
       "    </tr>\n",
       "  </tbody>\n",
       "</table>\n",
       "<p>3252950 rows × 12 columns</p>\n",
       "</div>"
      ],
      "text/plain": [
       "         event_id            device_id            timestamp  longitude  \\\n",
       "0               1    29182687948017175  2016-05-01 00:55:25     121.38   \n",
       "1               2 -6401643145415154744  2016-05-01 00:54:12     103.65   \n",
       "2               3 -4833982096941402721  2016-05-01 00:08:05     106.60   \n",
       "3               4 -6815121365017318426  2016-05-01 00:06:40     104.27   \n",
       "4               5 -5373797595892518570  2016-05-01 00:07:18     115.88   \n",
       "...           ...                  ...                  ...        ...   \n",
       "3252945   3252946 -8995272658520685777  2016-05-07 23:14:17       0.00   \n",
       "3252946   3252947  6790350461641275817  2016-05-07 23:14:08     120.65   \n",
       "3252947   3252948  7111660304904287709  2016-05-07 23:35:33     121.40   \n",
       "3252948   3252949  2786044170600788970  2016-05-07 23:36:03     111.19   \n",
       "3252949   3252950  3315513013457872370  2016-05-07 23:20:08     112.99   \n",
       "\n",
       "         latitude     device_id gender   age   group     device_id  \\\n",
       "0           31.24 -8.076088e+18      M  35.0  M32-38 -8.890649e+18   \n",
       "1           30.97 -2.897162e+18      M  35.0  M32-38  1.277780e+18   \n",
       "2           29.70 -8.260684e+18      M  35.0  M32-38  5.137428e+18   \n",
       "3           23.28 -4.938849e+18      M  30.0  M29-31  3.669464e+18   \n",
       "4           28.66  2.451335e+17      M  30.0  M29-31 -5.019278e+18   \n",
       "...           ...           ...    ...   ...     ...           ...   \n",
       "3252945      0.00           NaN    NaN   NaN     NaN           NaN   \n",
       "3252946     27.78           NaN    NaN   NaN     NaN           NaN   \n",
       "3252947     31.18           NaN    NaN   NaN     NaN           NaN   \n",
       "3252948     31.29           NaN    NaN   NaN     NaN           NaN   \n",
       "3252949     28.23           NaN    NaN   NaN     NaN           NaN   \n",
       "\n",
       "        phone_brand   device_model  \n",
       "0                小米             红米  \n",
       "1                小米           MI 2  \n",
       "2                三星      Galaxy S4  \n",
       "3             SUGAR           时尚手机  \n",
       "4                三星  Galaxy Note 2  \n",
       "...             ...            ...  \n",
       "3252945         NaN            NaN  \n",
       "3252946         NaN            NaN  \n",
       "3252947         NaN            NaN  \n",
       "3252948         NaN            NaN  \n",
       "3252949         NaN            NaN  \n",
       "\n",
       "[3252950 rows x 12 columns]"
      ]
     },
     "metadata": {},
     "output_type": "display_data"
    }
   ],
   "source": [
    " #Merge the data into a single frame\n",
    "df_Original = pd.concat([dfe,dfg, dfp], axis=1, sort=False) \n",
    "dfc = df_Original.copy(deep=True) \n",
    "display(dfc)\n"
   ]
  },
  {
   "cell_type": "code",
   "execution_count": 224,
   "metadata": {},
   "outputs": [
    {
     "name": "stdout",
     "output_type": "stream",
     "text": [
      "percentage of missing data of dataframe \n",
      " event_id         0.000000\n",
      "device_id        0.000000\n",
      "timestamp        0.000000\n",
      "longitude        0.000000\n",
      "latitude         0.000000\n",
      "device_id       97.705314\n",
      "gender          97.705314\n",
      "age             97.705314\n",
      "group           97.705314\n",
      "device_id       94.243840\n",
      "phone_brand     94.243840\n",
      "device_model    94.243840\n",
      "dtype: float64\n"
     ]
    }
   ],
   "source": [
    "# Check for missing values in each column of the dataset? If it exists, handle them accordingly.\n",
    "def check_missing_values(dfc):\n",
    "    '''Function to check the missing data percentage'''\n",
    "    print(\"percentage of missing data of dataframe \\n\",dfc.isnull().sum()/len(dfc)*100)\n",
    "    \n",
    "check_missing_values(dfc)"
   ]
  },
  {
   "cell_type": "code",
   "execution_count": 225,
   "metadata": {},
   "outputs": [
    {
     "data": {
      "text/html": [
       "<div>\n",
       "<style scoped>\n",
       "    .dataframe tbody tr th:only-of-type {\n",
       "        vertical-align: middle;\n",
       "    }\n",
       "\n",
       "    .dataframe tbody tr th {\n",
       "        vertical-align: top;\n",
       "    }\n",
       "\n",
       "    .dataframe thead th {\n",
       "        text-align: right;\n",
       "    }\n",
       "</style>\n",
       "<table border=\"1\" class=\"dataframe\">\n",
       "  <thead>\n",
       "    <tr style=\"text-align: right;\">\n",
       "      <th></th>\n",
       "      <th>event_id</th>\n",
       "      <th>device_id</th>\n",
       "      <th>timestamp</th>\n",
       "      <th>longitude</th>\n",
       "      <th>latitude</th>\n",
       "      <th>device_id</th>\n",
       "      <th>gender</th>\n",
       "      <th>age</th>\n",
       "      <th>group</th>\n",
       "      <th>device_id</th>\n",
       "      <th>phone_brand</th>\n",
       "      <th>device_model</th>\n",
       "    </tr>\n",
       "  </thead>\n",
       "  <tbody>\n",
       "    <tr>\n",
       "      <th>0</th>\n",
       "      <td>1</td>\n",
       "      <td>29182687948017175</td>\n",
       "      <td>2016-05-01 00:55:25</td>\n",
       "      <td>121.38</td>\n",
       "      <td>31.24</td>\n",
       "      <td>-8.076088e+18</td>\n",
       "      <td>M</td>\n",
       "      <td>35.0</td>\n",
       "      <td>M32-38</td>\n",
       "      <td>-8.890649e+18</td>\n",
       "      <td>小米</td>\n",
       "      <td>红米</td>\n",
       "    </tr>\n",
       "    <tr>\n",
       "      <th>1</th>\n",
       "      <td>2</td>\n",
       "      <td>-6401643145415154744</td>\n",
       "      <td>2016-05-01 00:54:12</td>\n",
       "      <td>103.65</td>\n",
       "      <td>30.97</td>\n",
       "      <td>-2.897162e+18</td>\n",
       "      <td>M</td>\n",
       "      <td>35.0</td>\n",
       "      <td>M32-38</td>\n",
       "      <td>1.277780e+18</td>\n",
       "      <td>小米</td>\n",
       "      <td>MI 2</td>\n",
       "    </tr>\n",
       "    <tr>\n",
       "      <th>2</th>\n",
       "      <td>3</td>\n",
       "      <td>-4833982096941402721</td>\n",
       "      <td>2016-05-01 00:08:05</td>\n",
       "      <td>106.60</td>\n",
       "      <td>29.70</td>\n",
       "      <td>-8.260684e+18</td>\n",
       "      <td>M</td>\n",
       "      <td>35.0</td>\n",
       "      <td>M32-38</td>\n",
       "      <td>5.137428e+18</td>\n",
       "      <td>三星</td>\n",
       "      <td>Galaxy S4</td>\n",
       "    </tr>\n",
       "    <tr>\n",
       "      <th>3</th>\n",
       "      <td>4</td>\n",
       "      <td>-6815121365017318426</td>\n",
       "      <td>2016-05-01 00:06:40</td>\n",
       "      <td>104.27</td>\n",
       "      <td>23.28</td>\n",
       "      <td>-4.938849e+18</td>\n",
       "      <td>M</td>\n",
       "      <td>30.0</td>\n",
       "      <td>M29-31</td>\n",
       "      <td>3.669464e+18</td>\n",
       "      <td>SUGAR</td>\n",
       "      <td>时尚手机</td>\n",
       "    </tr>\n",
       "    <tr>\n",
       "      <th>4</th>\n",
       "      <td>5</td>\n",
       "      <td>-5373797595892518570</td>\n",
       "      <td>2016-05-01 00:07:18</td>\n",
       "      <td>115.88</td>\n",
       "      <td>28.66</td>\n",
       "      <td>2.451335e+17</td>\n",
       "      <td>M</td>\n",
       "      <td>30.0</td>\n",
       "      <td>M29-31</td>\n",
       "      <td>-5.019278e+18</td>\n",
       "      <td>三星</td>\n",
       "      <td>Galaxy Note 2</td>\n",
       "    </tr>\n",
       "    <tr>\n",
       "      <th>...</th>\n",
       "      <td>...</td>\n",
       "      <td>...</td>\n",
       "      <td>...</td>\n",
       "      <td>...</td>\n",
       "      <td>...</td>\n",
       "      <td>...</td>\n",
       "      <td>...</td>\n",
       "      <td>...</td>\n",
       "      <td>...</td>\n",
       "      <td>...</td>\n",
       "      <td>...</td>\n",
       "      <td>...</td>\n",
       "    </tr>\n",
       "    <tr>\n",
       "      <th>74640</th>\n",
       "      <td>74641</td>\n",
       "      <td>1010133130683997222</td>\n",
       "      <td>2016-05-07 07:14:59</td>\n",
       "      <td>0.00</td>\n",
       "      <td>0.00</td>\n",
       "      <td>4.682032e+18</td>\n",
       "      <td>M</td>\n",
       "      <td>30.0</td>\n",
       "      <td>M29-31</td>\n",
       "      <td>3.897626e+18</td>\n",
       "      <td>华为</td>\n",
       "      <td>Mate 7</td>\n",
       "    </tr>\n",
       "    <tr>\n",
       "      <th>74641</th>\n",
       "      <td>74642</td>\n",
       "      <td>1010133130683997222</td>\n",
       "      <td>2016-05-07 07:14:59</td>\n",
       "      <td>0.00</td>\n",
       "      <td>0.00</td>\n",
       "      <td>-9.178704e+18</td>\n",
       "      <td>M</td>\n",
       "      <td>30.0</td>\n",
       "      <td>M29-31</td>\n",
       "      <td>4.343519e+18</td>\n",
       "      <td>三星</td>\n",
       "      <td>Galaxy Grand Neo Plus</td>\n",
       "    </tr>\n",
       "    <tr>\n",
       "      <th>74642</th>\n",
       "      <td>74643</td>\n",
       "      <td>-89387568144446444</td>\n",
       "      <td>2016-05-07 07:15:22</td>\n",
       "      <td>113.52</td>\n",
       "      <td>22.23</td>\n",
       "      <td>1.809465e+17</td>\n",
       "      <td>M</td>\n",
       "      <td>20.0</td>\n",
       "      <td>M22-</td>\n",
       "      <td>4.869092e+18</td>\n",
       "      <td>华为</td>\n",
       "      <td>Y511-U00</td>\n",
       "    </tr>\n",
       "    <tr>\n",
       "      <th>74643</th>\n",
       "      <td>74644</td>\n",
       "      <td>5720604578351855317</td>\n",
       "      <td>2016-05-07 07:19:20</td>\n",
       "      <td>121.37</td>\n",
       "      <td>31.25</td>\n",
       "      <td>1.390702e+18</td>\n",
       "      <td>M</td>\n",
       "      <td>37.0</td>\n",
       "      <td>M32-38</td>\n",
       "      <td>6.818014e+18</td>\n",
       "      <td>三星</td>\n",
       "      <td>Galaxy S3</td>\n",
       "    </tr>\n",
       "    <tr>\n",
       "      <th>74644</th>\n",
       "      <td>74645</td>\n",
       "      <td>2905362259416474453</td>\n",
       "      <td>2016-05-07 07:20:04</td>\n",
       "      <td>123.57</td>\n",
       "      <td>41.91</td>\n",
       "      <td>8.918101e+16</td>\n",
       "      <td>M</td>\n",
       "      <td>25.0</td>\n",
       "      <td>M23-26</td>\n",
       "      <td>1.672771e+18</td>\n",
       "      <td>小米</td>\n",
       "      <td>红米1S</td>\n",
       "    </tr>\n",
       "  </tbody>\n",
       "</table>\n",
       "<p>74645 rows × 12 columns</p>\n",
       "</div>"
      ],
      "text/plain": [
       "       event_id            device_id            timestamp  longitude  \\\n",
       "0             1    29182687948017175  2016-05-01 00:55:25     121.38   \n",
       "1             2 -6401643145415154744  2016-05-01 00:54:12     103.65   \n",
       "2             3 -4833982096941402721  2016-05-01 00:08:05     106.60   \n",
       "3             4 -6815121365017318426  2016-05-01 00:06:40     104.27   \n",
       "4             5 -5373797595892518570  2016-05-01 00:07:18     115.88   \n",
       "...         ...                  ...                  ...        ...   \n",
       "74640     74641  1010133130683997222  2016-05-07 07:14:59       0.00   \n",
       "74641     74642  1010133130683997222  2016-05-07 07:14:59       0.00   \n",
       "74642     74643   -89387568144446444  2016-05-07 07:15:22     113.52   \n",
       "74643     74644  5720604578351855317  2016-05-07 07:19:20     121.37   \n",
       "74644     74645  2905362259416474453  2016-05-07 07:20:04     123.57   \n",
       "\n",
       "       latitude     device_id gender   age   group     device_id phone_brand  \\\n",
       "0         31.24 -8.076088e+18      M  35.0  M32-38 -8.890649e+18          小米   \n",
       "1         30.97 -2.897162e+18      M  35.0  M32-38  1.277780e+18          小米   \n",
       "2         29.70 -8.260684e+18      M  35.0  M32-38  5.137428e+18          三星   \n",
       "3         23.28 -4.938849e+18      M  30.0  M29-31  3.669464e+18       SUGAR   \n",
       "4         28.66  2.451335e+17      M  30.0  M29-31 -5.019278e+18          三星   \n",
       "...         ...           ...    ...   ...     ...           ...         ...   \n",
       "74640      0.00  4.682032e+18      M  30.0  M29-31  3.897626e+18          华为   \n",
       "74641      0.00 -9.178704e+18      M  30.0  M29-31  4.343519e+18          三星   \n",
       "74642     22.23  1.809465e+17      M  20.0    M22-  4.869092e+18          华为   \n",
       "74643     31.25  1.390702e+18      M  37.0  M32-38  6.818014e+18          三星   \n",
       "74644     41.91  8.918101e+16      M  25.0  M23-26  1.672771e+18          小米   \n",
       "\n",
       "                device_model  \n",
       "0                         红米  \n",
       "1                       MI 2  \n",
       "2                  Galaxy S4  \n",
       "3                       时尚手机  \n",
       "4              Galaxy Note 2  \n",
       "...                      ...  \n",
       "74640                 Mate 7  \n",
       "74641  Galaxy Grand Neo Plus  \n",
       "74642               Y511-U00  \n",
       "74643              Galaxy S3  \n",
       "74644                   红米1S  \n",
       "\n",
       "[74645 rows x 12 columns]"
      ]
     },
     "execution_count": 225,
     "metadata": {},
     "output_type": "execute_result"
    }
   ],
   "source": [
    "dfc.dropna()"
   ]
  },
  {
   "cell_type": "code",
   "execution_count": 226,
   "metadata": {},
   "outputs": [],
   "source": [
    "dfcr=dfc.dropna()"
   ]
  },
  {
   "cell_type": "code",
   "execution_count": 227,
   "metadata": {},
   "outputs": [
    {
     "data": {
      "text/html": [
       "<div>\n",
       "<style scoped>\n",
       "    .dataframe tbody tr th:only-of-type {\n",
       "        vertical-align: middle;\n",
       "    }\n",
       "\n",
       "    .dataframe tbody tr th {\n",
       "        vertical-align: top;\n",
       "    }\n",
       "\n",
       "    .dataframe thead th {\n",
       "        text-align: right;\n",
       "    }\n",
       "</style>\n",
       "<table border=\"1\" class=\"dataframe\">\n",
       "  <thead>\n",
       "    <tr style=\"text-align: right;\">\n",
       "      <th></th>\n",
       "      <th>event_id</th>\n",
       "      <th>device_id</th>\n",
       "      <th>timestamp</th>\n",
       "      <th>longitude</th>\n",
       "      <th>latitude</th>\n",
       "      <th>device_id</th>\n",
       "      <th>gender</th>\n",
       "      <th>age</th>\n",
       "      <th>group</th>\n",
       "      <th>device_id</th>\n",
       "      <th>phone_brand</th>\n",
       "      <th>device_model</th>\n",
       "    </tr>\n",
       "  </thead>\n",
       "  <tbody>\n",
       "    <tr>\n",
       "      <th>0</th>\n",
       "      <td>1</td>\n",
       "      <td>29182687948017175</td>\n",
       "      <td>2016-05-01 00:55:25</td>\n",
       "      <td>121.38</td>\n",
       "      <td>31.24</td>\n",
       "      <td>-8.076088e+18</td>\n",
       "      <td>M</td>\n",
       "      <td>35.0</td>\n",
       "      <td>M32-38</td>\n",
       "      <td>-8.890649e+18</td>\n",
       "      <td>小米</td>\n",
       "      <td>红米</td>\n",
       "    </tr>\n",
       "    <tr>\n",
       "      <th>1</th>\n",
       "      <td>2</td>\n",
       "      <td>-6401643145415154744</td>\n",
       "      <td>2016-05-01 00:54:12</td>\n",
       "      <td>103.65</td>\n",
       "      <td>30.97</td>\n",
       "      <td>-2.897162e+18</td>\n",
       "      <td>M</td>\n",
       "      <td>35.0</td>\n",
       "      <td>M32-38</td>\n",
       "      <td>1.277780e+18</td>\n",
       "      <td>小米</td>\n",
       "      <td>MI 2</td>\n",
       "    </tr>\n",
       "    <tr>\n",
       "      <th>2</th>\n",
       "      <td>3</td>\n",
       "      <td>-4833982096941402721</td>\n",
       "      <td>2016-05-01 00:08:05</td>\n",
       "      <td>106.60</td>\n",
       "      <td>29.70</td>\n",
       "      <td>-8.260684e+18</td>\n",
       "      <td>M</td>\n",
       "      <td>35.0</td>\n",
       "      <td>M32-38</td>\n",
       "      <td>5.137428e+18</td>\n",
       "      <td>三星</td>\n",
       "      <td>Galaxy S4</td>\n",
       "    </tr>\n",
       "    <tr>\n",
       "      <th>3</th>\n",
       "      <td>4</td>\n",
       "      <td>-6815121365017318426</td>\n",
       "      <td>2016-05-01 00:06:40</td>\n",
       "      <td>104.27</td>\n",
       "      <td>23.28</td>\n",
       "      <td>-4.938849e+18</td>\n",
       "      <td>M</td>\n",
       "      <td>30.0</td>\n",
       "      <td>M29-31</td>\n",
       "      <td>3.669464e+18</td>\n",
       "      <td>SUGAR</td>\n",
       "      <td>时尚手机</td>\n",
       "    </tr>\n",
       "    <tr>\n",
       "      <th>4</th>\n",
       "      <td>5</td>\n",
       "      <td>-5373797595892518570</td>\n",
       "      <td>2016-05-01 00:07:18</td>\n",
       "      <td>115.88</td>\n",
       "      <td>28.66</td>\n",
       "      <td>2.451335e+17</td>\n",
       "      <td>M</td>\n",
       "      <td>30.0</td>\n",
       "      <td>M29-31</td>\n",
       "      <td>-5.019278e+18</td>\n",
       "      <td>三星</td>\n",
       "      <td>Galaxy Note 2</td>\n",
       "    </tr>\n",
       "    <tr>\n",
       "      <th>...</th>\n",
       "      <td>...</td>\n",
       "      <td>...</td>\n",
       "      <td>...</td>\n",
       "      <td>...</td>\n",
       "      <td>...</td>\n",
       "      <td>...</td>\n",
       "      <td>...</td>\n",
       "      <td>...</td>\n",
       "      <td>...</td>\n",
       "      <td>...</td>\n",
       "      <td>...</td>\n",
       "      <td>...</td>\n",
       "    </tr>\n",
       "    <tr>\n",
       "      <th>74640</th>\n",
       "      <td>74641</td>\n",
       "      <td>1010133130683997222</td>\n",
       "      <td>2016-05-07 07:14:59</td>\n",
       "      <td>0.00</td>\n",
       "      <td>0.00</td>\n",
       "      <td>4.682032e+18</td>\n",
       "      <td>M</td>\n",
       "      <td>30.0</td>\n",
       "      <td>M29-31</td>\n",
       "      <td>3.897626e+18</td>\n",
       "      <td>华为</td>\n",
       "      <td>Mate 7</td>\n",
       "    </tr>\n",
       "    <tr>\n",
       "      <th>74641</th>\n",
       "      <td>74642</td>\n",
       "      <td>1010133130683997222</td>\n",
       "      <td>2016-05-07 07:14:59</td>\n",
       "      <td>0.00</td>\n",
       "      <td>0.00</td>\n",
       "      <td>-9.178704e+18</td>\n",
       "      <td>M</td>\n",
       "      <td>30.0</td>\n",
       "      <td>M29-31</td>\n",
       "      <td>4.343519e+18</td>\n",
       "      <td>三星</td>\n",
       "      <td>Galaxy Grand Neo Plus</td>\n",
       "    </tr>\n",
       "    <tr>\n",
       "      <th>74642</th>\n",
       "      <td>74643</td>\n",
       "      <td>-89387568144446444</td>\n",
       "      <td>2016-05-07 07:15:22</td>\n",
       "      <td>113.52</td>\n",
       "      <td>22.23</td>\n",
       "      <td>1.809465e+17</td>\n",
       "      <td>M</td>\n",
       "      <td>20.0</td>\n",
       "      <td>M22-</td>\n",
       "      <td>4.869092e+18</td>\n",
       "      <td>华为</td>\n",
       "      <td>Y511-U00</td>\n",
       "    </tr>\n",
       "    <tr>\n",
       "      <th>74643</th>\n",
       "      <td>74644</td>\n",
       "      <td>5720604578351855317</td>\n",
       "      <td>2016-05-07 07:19:20</td>\n",
       "      <td>121.37</td>\n",
       "      <td>31.25</td>\n",
       "      <td>1.390702e+18</td>\n",
       "      <td>M</td>\n",
       "      <td>37.0</td>\n",
       "      <td>M32-38</td>\n",
       "      <td>6.818014e+18</td>\n",
       "      <td>三星</td>\n",
       "      <td>Galaxy S3</td>\n",
       "    </tr>\n",
       "    <tr>\n",
       "      <th>74644</th>\n",
       "      <td>74645</td>\n",
       "      <td>2905362259416474453</td>\n",
       "      <td>2016-05-07 07:20:04</td>\n",
       "      <td>123.57</td>\n",
       "      <td>41.91</td>\n",
       "      <td>8.918101e+16</td>\n",
       "      <td>M</td>\n",
       "      <td>25.0</td>\n",
       "      <td>M23-26</td>\n",
       "      <td>1.672771e+18</td>\n",
       "      <td>小米</td>\n",
       "      <td>红米1S</td>\n",
       "    </tr>\n",
       "  </tbody>\n",
       "</table>\n",
       "<p>74645 rows × 12 columns</p>\n",
       "</div>"
      ],
      "text/plain": [
       "       event_id            device_id            timestamp  longitude  \\\n",
       "0             1    29182687948017175  2016-05-01 00:55:25     121.38   \n",
       "1             2 -6401643145415154744  2016-05-01 00:54:12     103.65   \n",
       "2             3 -4833982096941402721  2016-05-01 00:08:05     106.60   \n",
       "3             4 -6815121365017318426  2016-05-01 00:06:40     104.27   \n",
       "4             5 -5373797595892518570  2016-05-01 00:07:18     115.88   \n",
       "...         ...                  ...                  ...        ...   \n",
       "74640     74641  1010133130683997222  2016-05-07 07:14:59       0.00   \n",
       "74641     74642  1010133130683997222  2016-05-07 07:14:59       0.00   \n",
       "74642     74643   -89387568144446444  2016-05-07 07:15:22     113.52   \n",
       "74643     74644  5720604578351855317  2016-05-07 07:19:20     121.37   \n",
       "74644     74645  2905362259416474453  2016-05-07 07:20:04     123.57   \n",
       "\n",
       "       latitude     device_id gender   age   group     device_id phone_brand  \\\n",
       "0         31.24 -8.076088e+18      M  35.0  M32-38 -8.890649e+18          小米   \n",
       "1         30.97 -2.897162e+18      M  35.0  M32-38  1.277780e+18          小米   \n",
       "2         29.70 -8.260684e+18      M  35.0  M32-38  5.137428e+18          三星   \n",
       "3         23.28 -4.938849e+18      M  30.0  M29-31  3.669464e+18       SUGAR   \n",
       "4         28.66  2.451335e+17      M  30.0  M29-31 -5.019278e+18          三星   \n",
       "...         ...           ...    ...   ...     ...           ...         ...   \n",
       "74640      0.00  4.682032e+18      M  30.0  M29-31  3.897626e+18          华为   \n",
       "74641      0.00 -9.178704e+18      M  30.0  M29-31  4.343519e+18          三星   \n",
       "74642     22.23  1.809465e+17      M  20.0    M22-  4.869092e+18          华为   \n",
       "74643     31.25  1.390702e+18      M  37.0  M32-38  6.818014e+18          三星   \n",
       "74644     41.91  8.918101e+16      M  25.0  M23-26  1.672771e+18          小米   \n",
       "\n",
       "                device_model  \n",
       "0                         红米  \n",
       "1                       MI 2  \n",
       "2                  Galaxy S4  \n",
       "3                       时尚手机  \n",
       "4              Galaxy Note 2  \n",
       "...                      ...  \n",
       "74640                 Mate 7  \n",
       "74641  Galaxy Grand Neo Plus  \n",
       "74642               Y511-U00  \n",
       "74643              Galaxy S3  \n",
       "74644                   红米1S  \n",
       "\n",
       "[74645 rows x 12 columns]"
      ]
     },
     "execution_count": 227,
     "metadata": {},
     "output_type": "execute_result"
    }
   ],
   "source": [
    "dfcr"
   ]
  },
  {
   "cell_type": "code",
   "execution_count": 228,
   "metadata": {},
   "outputs": [
    {
     "data": {
      "text/html": [
       "<div>\n",
       "<style scoped>\n",
       "    .dataframe tbody tr th:only-of-type {\n",
       "        vertical-align: middle;\n",
       "    }\n",
       "\n",
       "    .dataframe tbody tr th {\n",
       "        vertical-align: top;\n",
       "    }\n",
       "\n",
       "    .dataframe thead th {\n",
       "        text-align: right;\n",
       "    }\n",
       "</style>\n",
       "<table border=\"1\" class=\"dataframe\">\n",
       "  <thead>\n",
       "    <tr style=\"text-align: right;\">\n",
       "      <th></th>\n",
       "      <th>count</th>\n",
       "      <th>mean</th>\n",
       "      <th>std</th>\n",
       "      <th>min</th>\n",
       "      <th>25%</th>\n",
       "      <th>50%</th>\n",
       "      <th>75%</th>\n",
       "      <th>max</th>\n",
       "    </tr>\n",
       "  </thead>\n",
       "  <tbody>\n",
       "    <tr>\n",
       "      <th>event_id</th>\n",
       "      <td>74645.0</td>\n",
       "      <td>3.732300e+04</td>\n",
       "      <td>2.154830e+04</td>\n",
       "      <td>1.000000e+00</td>\n",
       "      <td>1.866200e+04</td>\n",
       "      <td>3.732300e+04</td>\n",
       "      <td>5.598400e+04</td>\n",
       "      <td>7.464500e+04</td>\n",
       "    </tr>\n",
       "    <tr>\n",
       "      <th>device_id</th>\n",
       "      <td>74645.0</td>\n",
       "      <td>-2.732475e+16</td>\n",
       "      <td>5.314602e+18</td>\n",
       "      <td>-9.222957e+18</td>\n",
       "      <td>-4.642346e+18</td>\n",
       "      <td>-3.265095e+16</td>\n",
       "      <td>4.558960e+18</td>\n",
       "      <td>9.222356e+18</td>\n",
       "    </tr>\n",
       "    <tr>\n",
       "      <th>longitude</th>\n",
       "      <td>74645.0</td>\n",
       "      <td>7.798991e+01</td>\n",
       "      <td>5.403641e+01</td>\n",
       "      <td>-1.800000e+02</td>\n",
       "      <td>0.000000e+00</td>\n",
       "      <td>1.129800e+02</td>\n",
       "      <td>1.171800e+02</td>\n",
       "      <td>1.510800e+02</td>\n",
       "    </tr>\n",
       "    <tr>\n",
       "      <th>latitude</th>\n",
       "      <td>74645.0</td>\n",
       "      <td>2.163688e+01</td>\n",
       "      <td>1.568057e+01</td>\n",
       "      <td>-3.398000e+01</td>\n",
       "      <td>0.000000e+00</td>\n",
       "      <td>2.799000e+01</td>\n",
       "      <td>3.400000e+01</td>\n",
       "      <td>5.364000e+01</td>\n",
       "    </tr>\n",
       "    <tr>\n",
       "      <th>device_id</th>\n",
       "      <td>74645.0</td>\n",
       "      <td>-7.491354e+14</td>\n",
       "      <td>5.327150e+18</td>\n",
       "      <td>-9.223067e+18</td>\n",
       "      <td>-4.617367e+18</td>\n",
       "      <td>-1.841362e+16</td>\n",
       "      <td>4.636656e+18</td>\n",
       "      <td>9.222849e+18</td>\n",
       "    </tr>\n",
       "    <tr>\n",
       "      <th>age</th>\n",
       "      <td>74645.0</td>\n",
       "      <td>3.141034e+01</td>\n",
       "      <td>9.868735e+00</td>\n",
       "      <td>1.000000e+00</td>\n",
       "      <td>2.500000e+01</td>\n",
       "      <td>2.900000e+01</td>\n",
       "      <td>3.600000e+01</td>\n",
       "      <td>9.600000e+01</td>\n",
       "    </tr>\n",
       "    <tr>\n",
       "      <th>device_id</th>\n",
       "      <td>74645.0</td>\n",
       "      <td>-1.956859e+15</td>\n",
       "      <td>5.318897e+18</td>\n",
       "      <td>-9.223322e+18</td>\n",
       "      <td>-4.618471e+18</td>\n",
       "      <td>-1.602022e+16</td>\n",
       "      <td>4.608598e+18</td>\n",
       "      <td>9.222779e+18</td>\n",
       "    </tr>\n",
       "  </tbody>\n",
       "</table>\n",
       "</div>"
      ],
      "text/plain": [
       "             count          mean           std           min           25%  \\\n",
       "event_id   74645.0  3.732300e+04  2.154830e+04  1.000000e+00  1.866200e+04   \n",
       "device_id  74645.0 -2.732475e+16  5.314602e+18 -9.222957e+18 -4.642346e+18   \n",
       "longitude  74645.0  7.798991e+01  5.403641e+01 -1.800000e+02  0.000000e+00   \n",
       "latitude   74645.0  2.163688e+01  1.568057e+01 -3.398000e+01  0.000000e+00   \n",
       "device_id  74645.0 -7.491354e+14  5.327150e+18 -9.223067e+18 -4.617367e+18   \n",
       "age        74645.0  3.141034e+01  9.868735e+00  1.000000e+00  2.500000e+01   \n",
       "device_id  74645.0 -1.956859e+15  5.318897e+18 -9.223322e+18 -4.618471e+18   \n",
       "\n",
       "                    50%           75%           max  \n",
       "event_id   3.732300e+04  5.598400e+04  7.464500e+04  \n",
       "device_id -3.265095e+16  4.558960e+18  9.222356e+18  \n",
       "longitude  1.129800e+02  1.171800e+02  1.510800e+02  \n",
       "latitude   2.799000e+01  3.400000e+01  5.364000e+01  \n",
       "device_id -1.841362e+16  4.636656e+18  9.222849e+18  \n",
       "age        2.900000e+01  3.600000e+01  9.600000e+01  \n",
       "device_id -1.602022e+16  4.608598e+18  9.222779e+18  "
      ]
     },
     "execution_count": 228,
     "metadata": {},
     "output_type": "execute_result"
    }
   ],
   "source": [
    "## Let us check the statistical summary of the numerical variables\n",
    "dfcr.select_dtypes(include=np.number).describe().T"
   ]
  },
  {
   "cell_type": "code",
   "execution_count": 229,
   "metadata": {},
   "outputs": [
    {
     "data": {
      "text/html": [
       "<div>\n",
       "<style scoped>\n",
       "    .dataframe tbody tr th:only-of-type {\n",
       "        vertical-align: middle;\n",
       "    }\n",
       "\n",
       "    .dataframe tbody tr th {\n",
       "        vertical-align: top;\n",
       "    }\n",
       "\n",
       "    .dataframe thead th {\n",
       "        text-align: right;\n",
       "    }\n",
       "</style>\n",
       "<table border=\"1\" class=\"dataframe\">\n",
       "  <thead>\n",
       "    <tr style=\"text-align: right;\">\n",
       "      <th></th>\n",
       "      <th>timestamp</th>\n",
       "      <th>gender</th>\n",
       "      <th>group</th>\n",
       "      <th>phone_brand</th>\n",
       "      <th>device_model</th>\n",
       "    </tr>\n",
       "  </thead>\n",
       "  <tbody>\n",
       "    <tr>\n",
       "      <th>count</th>\n",
       "      <td>74645</td>\n",
       "      <td>74645</td>\n",
       "      <td>74645</td>\n",
       "      <td>74645</td>\n",
       "      <td>74645</td>\n",
       "    </tr>\n",
       "    <tr>\n",
       "      <th>unique</th>\n",
       "      <td>69895</td>\n",
       "      <td>2</td>\n",
       "      <td>12</td>\n",
       "      <td>115</td>\n",
       "      <td>1435</td>\n",
       "    </tr>\n",
       "    <tr>\n",
       "      <th>top</th>\n",
       "      <td>2016-05-05 20:59:56</td>\n",
       "      <td>M</td>\n",
       "      <td>M23-26</td>\n",
       "      <td>小米</td>\n",
       "      <td>红米note</td>\n",
       "    </tr>\n",
       "    <tr>\n",
       "      <th>freq</th>\n",
       "      <td>4</td>\n",
       "      <td>47904</td>\n",
       "      <td>9605</td>\n",
       "      <td>17310</td>\n",
       "      <td>2936</td>\n",
       "    </tr>\n",
       "  </tbody>\n",
       "</table>\n",
       "</div>"
      ],
      "text/plain": [
       "                  timestamp gender   group phone_brand device_model\n",
       "count                 74645  74645   74645       74645        74645\n",
       "unique                69895      2      12         115         1435\n",
       "top     2016-05-05 20:59:56      M  M23-26          小米       红米note\n",
       "freq                      4  47904    9605       17310         2936"
      ]
     },
     "execution_count": 229,
     "metadata": {},
     "output_type": "execute_result"
    }
   ],
   "source": [
    "## Let us check the statistical summary of the categorical variables\n",
    "dfcr.describe(include = 'all')\n",
    "dfcr.select_dtypes(include='O').describe()"
   ]
  },
  {
   "cell_type": "code",
   "execution_count": 230,
   "metadata": {},
   "outputs": [
    {
     "data": {
      "image/png": "[encoded data removed]",
      "text/plain": [
       "<Figure size 432x288 with 2 Axes>"
      ]
     },
     "metadata": {
      "needs_background": "light"
     },
     "output_type": "display_data"
    }
   ],
   "source": [
    " #Perform the data visualization on the dataset to gain some basic insights \n",
    "sns.heatmap(dfc.corr(),annot=True,cmap='viridis')\n",
    "plt.show()"
   ]
  },
  {
   "cell_type": "code",
   "execution_count": 231,
   "metadata": {},
   "outputs": [
    {
     "data": {
      "text/plain": [
       "event_id          int64\n",
       "device_id         int64\n",
       "timestamp        object\n",
       "longitude       float64\n",
       "latitude        float64\n",
       "device_id       float64\n",
       "gender           object\n",
       "age             float64\n",
       "group            object\n",
       "device_id       float64\n",
       "phone_brand      object\n",
       "device_model     object\n",
       "dtype: object"
      ]
     },
     "execution_count": 231,
     "metadata": {},
     "output_type": "execute_result"
    }
   ],
   "source": [
    "dfcr.dtypes\n"
   ]
  },
  {
   "cell_type": "code",
   "execution_count": 232,
   "metadata": {},
   "outputs": [
    {
     "data": {
      "image/png": "[encoded data removed]",
      "text/plain": [
       "<Figure size 432x288 with 1 Axes>"
      ]
     },
     "metadata": {
      "needs_background": "light"
     },
     "output_type": "display_data"
    }
   ],
   "source": [
    "sns.histplot(df1['gender'])\n",
    "plt.show()"
   ]
  },
  {
   "cell_type": "code",
   "execution_count": 233,
   "metadata": {},
   "outputs": [
    {
     "data": {
      "image/png": "[encoded data removed]",
      "text/plain": [
       "<Figure size 432x288 with 1 Axes>"
      ]
     },
     "metadata": {
      "needs_background": "light"
     },
     "output_type": "display_data"
    }
   ],
   "source": [
    "sns.boxplot(df1['gender'],df1['age'])\n",
    "plt.show()"
   ]
  },
  {
   "cell_type": "code",
   "execution_count": 234,
   "metadata": {},
   "outputs": [],
   "source": [
    "dfcr.drop('event_id',axis=1,inplace=True)"
   ]
  },
  {
   "cell_type": "code",
   "execution_count": 235,
   "metadata": {},
   "outputs": [],
   "source": [
    "dfcr.drop('device_id',axis=1,inplace=True)"
   ]
  },
  {
   "cell_type": "code",
   "execution_count": 236,
   "metadata": {},
   "outputs": [
    {
     "data": {
      "text/plain": [
       "None"
      ]
     },
     "metadata": {},
     "output_type": "display_data"
    }
   ],
   "source": [
    "x=dfcr.drop('timestamp',axis=1,inplace=True)\n",
    "display(x)"
   ]
  },
  {
   "cell_type": "code",
   "execution_count": 237,
   "metadata": {},
   "outputs": [
    {
     "data": {
      "text/plain": [
       "Index(['longitude', 'latitude', 'gender', 'age', 'group', 'phone_brand',\n",
       "       'device_model'],\n",
       "      dtype='object')"
      ]
     },
     "execution_count": 237,
     "metadata": {},
     "output_type": "execute_result"
    }
   ],
   "source": [
    "dfcr.columns"
   ]
  },
  {
   "cell_type": "code",
   "execution_count": 238,
   "metadata": {},
   "outputs": [],
   "source": [
    "dfcr.drop('gender',axis=1,inplace=True)"
   ]
  },
  {
   "cell_type": "code",
   "execution_count": 239,
   "metadata": {},
   "outputs": [],
   "source": [
    "dfcr.drop('phone_brand',axis=1,inplace=True)"
   ]
  },
  {
   "cell_type": "code",
   "execution_count": 240,
   "metadata": {},
   "outputs": [],
   "source": [
    "dfcr.drop('device_model',axis=1,inplace=True)"
   ]
  },
  {
   "cell_type": "code",
   "execution_count": 241,
   "metadata": {},
   "outputs": [],
   "source": [
    "dfcr.drop('group',axis=1,inplace=True)"
   ]
  },
  {
   "cell_type": "code",
   "execution_count": 242,
   "metadata": {},
   "outputs": [
    {
     "data": {
      "text/html": [
       "<div>\n",
       "<style scoped>\n",
       "    .dataframe tbody tr th:only-of-type {\n",
       "        vertical-align: middle;\n",
       "    }\n",
       "\n",
       "    .dataframe tbody tr th {\n",
       "        vertical-align: top;\n",
       "    }\n",
       "\n",
       "    .dataframe thead th {\n",
       "        text-align: right;\n",
       "    }\n",
       "</style>\n",
       "<table border=\"1\" class=\"dataframe\">\n",
       "  <thead>\n",
       "    <tr style=\"text-align: right;\">\n",
       "      <th></th>\n",
       "      <th>longitude</th>\n",
       "      <th>latitude</th>\n",
       "      <th>age</th>\n",
       "    </tr>\n",
       "  </thead>\n",
       "  <tbody>\n",
       "    <tr>\n",
       "      <th>0</th>\n",
       "      <td>121.38</td>\n",
       "      <td>31.24</td>\n",
       "      <td>35.0</td>\n",
       "    </tr>\n",
       "    <tr>\n",
       "      <th>1</th>\n",
       "      <td>103.65</td>\n",
       "      <td>30.97</td>\n",
       "      <td>35.0</td>\n",
       "    </tr>\n",
       "    <tr>\n",
       "      <th>2</th>\n",
       "      <td>106.60</td>\n",
       "      <td>29.70</td>\n",
       "      <td>35.0</td>\n",
       "    </tr>\n",
       "    <tr>\n",
       "      <th>3</th>\n",
       "      <td>104.27</td>\n",
       "      <td>23.28</td>\n",
       "      <td>30.0</td>\n",
       "    </tr>\n",
       "    <tr>\n",
       "      <th>4</th>\n",
       "      <td>115.88</td>\n",
       "      <td>28.66</td>\n",
       "      <td>30.0</td>\n",
       "    </tr>\n",
       "    <tr>\n",
       "      <th>...</th>\n",
       "      <td>...</td>\n",
       "      <td>...</td>\n",
       "      <td>...</td>\n",
       "    </tr>\n",
       "    <tr>\n",
       "      <th>74640</th>\n",
       "      <td>0.00</td>\n",
       "      <td>0.00</td>\n",
       "      <td>30.0</td>\n",
       "    </tr>\n",
       "    <tr>\n",
       "      <th>74641</th>\n",
       "      <td>0.00</td>\n",
       "      <td>0.00</td>\n",
       "      <td>30.0</td>\n",
       "    </tr>\n",
       "    <tr>\n",
       "      <th>74642</th>\n",
       "      <td>113.52</td>\n",
       "      <td>22.23</td>\n",
       "      <td>20.0</td>\n",
       "    </tr>\n",
       "    <tr>\n",
       "      <th>74643</th>\n",
       "      <td>121.37</td>\n",
       "      <td>31.25</td>\n",
       "      <td>37.0</td>\n",
       "    </tr>\n",
       "    <tr>\n",
       "      <th>74644</th>\n",
       "      <td>123.57</td>\n",
       "      <td>41.91</td>\n",
       "      <td>25.0</td>\n",
       "    </tr>\n",
       "  </tbody>\n",
       "</table>\n",
       "<p>74645 rows × 3 columns</p>\n",
       "</div>"
      ],
      "text/plain": [
       "       longitude  latitude   age\n",
       "0         121.38     31.24  35.0\n",
       "1         103.65     30.97  35.0\n",
       "2         106.60     29.70  35.0\n",
       "3         104.27     23.28  30.0\n",
       "4         115.88     28.66  30.0\n",
       "...          ...       ...   ...\n",
       "74640       0.00      0.00  30.0\n",
       "74641       0.00      0.00  30.0\n",
       "74642     113.52     22.23  20.0\n",
       "74643     121.37     31.25  37.0\n",
       "74644     123.57     41.91  25.0\n",
       "\n",
       "[74645 rows x 3 columns]"
      ]
     },
     "execution_count": 242,
     "metadata": {},
     "output_type": "execute_result"
    }
   ],
   "source": [
    "dfcr"
   ]
  },
  {
   "cell_type": "code",
   "execution_count": 243,
   "metadata": {},
   "outputs": [
    {
     "data": {
      "text/plain": [
       "longitude    0\n",
       "latitude     0\n",
       "age          0\n",
       "dtype: int64"
      ]
     },
     "execution_count": 243,
     "metadata": {},
     "output_type": "execute_result"
    }
   ],
   "source": [
    "## Lets recheck the missing values\n",
    "dfcr.isnull().sum()"
   ]
  },
  {
   "attachments": {},
   "cell_type": "markdown",
   "metadata": {},
   "source": []
  },
  {
   "cell_type": "code",
   "execution_count": 244,
   "metadata": {},
   "outputs": [],
   "source": [
    "#Encode the categorical variables in the dataset.\n",
    "#   Drop irrelevant columns like 'timestamp','event_id','device_id' etc from the dataset.e\n",
    "object_type_variables = [i for i in dfcr.columns if dfcr.dtypes[i] == object]\n",
    "object_type_variables \n",
    "\n",
    "\n",
    "le = LabelEncoder()\n",
    "def encoder(dfc):\n",
    "    for i in object_type_variables:\n",
    "        q = le.fit_transform(dfcr[i].astype(str))  \n",
    "        dfcr[i] = q                               \n",
    "        dfcr[i] = dfcr[i].astype(int)\n",
    "encoder(dfcr)        \n",
    "\n"
   ]
  },
  {
   "cell_type": "code",
   "execution_count": 245,
   "metadata": {},
   "outputs": [
    {
     "name": "stdout",
     "output_type": "stream",
     "text": [
      "<mysql.connector.connection_cext.CMySQLConnection object at 0x000001ED9AAEBAF0>\n"
     ]
    }
   ],
   "source": [
    "import mysql.connector\n",
    "mydb= mysql.connector.connect(\n",
    "    host=\"localhost\",\n",
    "    user=\"root\",\n",
    "    passwd=\"Yuva@2022\"\n",
    "    )\n",
    "print(mydb)"
   ]
  },
  {
   "cell_type": "code",
   "execution_count": 246,
   "metadata": {},
   "outputs": [
    {
     "name": "stdout",
     "output_type": "stream",
     "text": [
      "<mysql.connector.connection_cext.CMySQLConnection object at 0x000001ED9AAC8E80>\n"
     ]
    }
   ],
   "source": [
    "import mysql.connector\n",
    "mydb= mysql.connector.connect(\n",
    "    host=\"localhost\",\n",
    "    user=\"Thenmozhi\",\n",
    "    passwd=\"Yuva@2022\"\n",
    "    )\n",
    "print(mydb)"
   ]
  },
  {
   "cell_type": "code",
   "execution_count": 247,
   "metadata": {},
   "outputs": [
    {
     "name": "stdout",
     "output_type": "stream",
     "text": [
      "<mysql.connector.connection_cext.CMySQLConnection object at 0x000001ED9AAEBFD0>\n"
     ]
    }
   ],
   "source": [
    "import mysql.connector\n",
    "mydb= mysql.connector.connect(\n",
    "    host=\"localhost\",\n",
    "    user=\"Thenmozhi\",\n",
    "    passwd=\"Yuva@2022\",\n",
    "    database=\"customerchurn\"\n",
    "    )\n",
    "print(mydb)"
   ]
  },
  {
   "cell_type": "code",
   "execution_count": 248,
   "metadata": {},
   "outputs": [
    {
     "data": {
      "text/html": [
       "<div>\n",
       "<style scoped>\n",
       "    .dataframe tbody tr th:only-of-type {\n",
       "        vertical-align: middle;\n",
       "    }\n",
       "\n",
       "    .dataframe tbody tr th {\n",
       "        vertical-align: top;\n",
       "    }\n",
       "\n",
       "    .dataframe thead th {\n",
       "        text-align: right;\n",
       "    }\n",
       "</style>\n",
       "<table border=\"1\" class=\"dataframe\">\n",
       "  <thead>\n",
       "    <tr style=\"text-align: right;\">\n",
       "      <th></th>\n",
       "      <th>longitude</th>\n",
       "      <th>latitude</th>\n",
       "      <th>age</th>\n",
       "    </tr>\n",
       "  </thead>\n",
       "  <tbody>\n",
       "    <tr>\n",
       "      <th>0</th>\n",
       "      <td>0.802984</td>\n",
       "      <td>0.612426</td>\n",
       "      <td>0.363743</td>\n",
       "    </tr>\n",
       "    <tr>\n",
       "      <th>1</th>\n",
       "      <td>0.474870</td>\n",
       "      <td>0.595207</td>\n",
       "      <td>0.363743</td>\n",
       "    </tr>\n",
       "  </tbody>\n",
       "</table>\n",
       "</div>"
      ],
      "text/plain": [
       "   longitude  latitude       age\n",
       "0   0.802984  0.612426  0.363743\n",
       "1   0.474870  0.595207  0.363743"
      ]
     },
     "execution_count": 248,
     "metadata": {},
     "output_type": "execute_result"
    }
   ],
   "source": [
    "## standardizing the data using standard scalar\n",
    "from pandas import DataFrame\n",
    "ss = StandardScaler()\n",
    "X_scaled = ss.fit_transform(dfcr)\n",
    "\n",
    "X_scaled = pd.DataFrame(X_scaled,columns=dfcr.columns)\n",
    "X_scaled.head(2)"
   ]
  },
  {
   "cell_type": "code",
   "execution_count": 249,
   "metadata": {},
   "outputs": [
    {
     "data": {
      "text/html": [
       "<div>\n",
       "<style scoped>\n",
       "    .dataframe tbody tr th:only-of-type {\n",
       "        vertical-align: middle;\n",
       "    }\n",
       "\n",
       "    .dataframe tbody tr th {\n",
       "        vertical-align: top;\n",
       "    }\n",
       "\n",
       "    .dataframe thead th {\n",
       "        text-align: right;\n",
       "    }\n",
       "</style>\n",
       "<table border=\"1\" class=\"dataframe\">\n",
       "  <thead>\n",
       "    <tr style=\"text-align: right;\">\n",
       "      <th></th>\n",
       "      <th>longitude</th>\n",
       "      <th>latitude</th>\n",
       "      <th>age</th>\n",
       "    </tr>\n",
       "  </thead>\n",
       "  <tbody>\n",
       "    <tr>\n",
       "      <th>0</th>\n",
       "      <td>121.38</td>\n",
       "      <td>31.24</td>\n",
       "      <td>35.0</td>\n",
       "    </tr>\n",
       "    <tr>\n",
       "      <th>1</th>\n",
       "      <td>103.65</td>\n",
       "      <td>30.97</td>\n",
       "      <td>35.0</td>\n",
       "    </tr>\n",
       "    <tr>\n",
       "      <th>2</th>\n",
       "      <td>106.60</td>\n",
       "      <td>29.70</td>\n",
       "      <td>35.0</td>\n",
       "    </tr>\n",
       "    <tr>\n",
       "      <th>3</th>\n",
       "      <td>104.27</td>\n",
       "      <td>23.28</td>\n",
       "      <td>30.0</td>\n",
       "    </tr>\n",
       "    <tr>\n",
       "      <th>4</th>\n",
       "      <td>115.88</td>\n",
       "      <td>28.66</td>\n",
       "      <td>30.0</td>\n",
       "    </tr>\n",
       "    <tr>\n",
       "      <th>...</th>\n",
       "      <td>...</td>\n",
       "      <td>...</td>\n",
       "      <td>...</td>\n",
       "    </tr>\n",
       "    <tr>\n",
       "      <th>74640</th>\n",
       "      <td>0.00</td>\n",
       "      <td>0.00</td>\n",
       "      <td>30.0</td>\n",
       "    </tr>\n",
       "    <tr>\n",
       "      <th>74641</th>\n",
       "      <td>0.00</td>\n",
       "      <td>0.00</td>\n",
       "      <td>30.0</td>\n",
       "    </tr>\n",
       "    <tr>\n",
       "      <th>74642</th>\n",
       "      <td>113.52</td>\n",
       "      <td>22.23</td>\n",
       "      <td>20.0</td>\n",
       "    </tr>\n",
       "    <tr>\n",
       "      <th>74643</th>\n",
       "      <td>121.37</td>\n",
       "      <td>31.25</td>\n",
       "      <td>37.0</td>\n",
       "    </tr>\n",
       "    <tr>\n",
       "      <th>74644</th>\n",
       "      <td>123.57</td>\n",
       "      <td>41.91</td>\n",
       "      <td>25.0</td>\n",
       "    </tr>\n",
       "  </tbody>\n",
       "</table>\n",
       "<p>74645 rows × 3 columns</p>\n",
       "</div>"
      ],
      "text/plain": [
       "       longitude  latitude   age\n",
       "0         121.38     31.24  35.0\n",
       "1         103.65     30.97  35.0\n",
       "2         106.60     29.70  35.0\n",
       "3         104.27     23.28  30.0\n",
       "4         115.88     28.66  30.0\n",
       "...          ...       ...   ...\n",
       "74640       0.00      0.00  30.0\n",
       "74641       0.00      0.00  30.0\n",
       "74642     113.52     22.23  20.0\n",
       "74643     121.37     31.25  37.0\n",
       "74644     123.57     41.91  25.0\n",
       "\n",
       "[74645 rows x 3 columns]"
      ]
     },
     "execution_count": 249,
     "metadata": {},
     "output_type": "execute_result"
    }
   ],
   "source": [
    "dfcr"
   ]
  },
  {
   "cell_type": "markdown",
   "metadata": {},
   "source": []
  },
  {
   "cell_type": "code",
   "execution_count": 251,
   "metadata": {},
   "outputs": [
    {
     "name": "stdout",
     "output_type": "stream",
     "text": [
      "Covariance matrix \n",
      " [[ 1.00001340e+00  9.46588624e-01 -1.26823894e-03]\n",
      " [ 9.46588624e-01  1.00001340e+00 -4.86519333e-04]\n",
      " [-1.26823894e-03 -4.86519333e-04  1.00001340e+00]]\n"
     ]
    }
   ],
   "source": [
    "cov_matrix = np.cov(X_scaled.T)\n",
    "print('Covariance matrix','\\n',cov_matrix)"
   ]
  },
  {
   "cell_type": "code",
   "execution_count": 252,
   "metadata": {},
   "outputs": [],
   "source": [
    "eig_vals, eig_vecs = np.linalg.eig(cov_matrix)"
   ]
  },
  {
   "cell_type": "code",
   "execution_count": 253,
   "metadata": {},
   "outputs": [
    {
     "name": "stdout",
     "output_type": "stream",
     "text": [
      "Variance Explained:  [64.88591898587678, 33.333289878115146, 1.7807911360080722]\n",
      "Cummulative Variance Explained:  [ 64.88591899  98.21920886 100.        ]\n"
     ]
    }
   ],
   "source": [
    "total = sum(eig_vals)\n",
    "var_exp = [ (i/total)*100  for i in sorted(eig_vals,reverse=True)]\n",
    "cum_var_exp = np.cumsum(var_exp)\n",
    "print('Variance Explained: ',var_exp)\n",
    "print('Cummulative Variance Explained: ',cum_var_exp)"
   ]
  },
  {
   "cell_type": "code",
   "execution_count": 254,
   "metadata": {},
   "outputs": [
    {
     "data": {
      "text/plain": [
       "<seaborn.axisgrid.PairGrid at 0x1ed9aaebe80>"
      ]
     },
     "execution_count": 254,
     "metadata": {},
     "output_type": "execute_result"
    },
    {
     "data": {
      "image/png": "[encoded data removed]",
      "text/plain": [
       "<Figure size 540x540 with 12 Axes>"
      ]
     },
     "metadata": {
      "needs_background": "light"
     },
     "output_type": "display_data"
    }
   ],
   "source": [
    "sns.pairplot(dfcr, diag_kind='kde') "
   ]
  },
  {
   "cell_type": "markdown",
   "metadata": {},
   "source": []
  },
  {
   "cell_type": "markdown",
   "metadata": {},
   "source": []
  },
  {
   "cell_type": "code",
   "execution_count": 255,
   "metadata": {},
   "outputs": [
    {
     "data": {
      "image/png": "[encoded data removed]",
      "text/plain": [
       "<Figure size 432x288 with 1 Axes>"
      ]
     },
     "metadata": {
      "needs_background": "light"
     },
     "output_type": "display_data"
    }
   ],
   "source": [
    "plt.bar(range(3),var_exp, align='center',color='lightgreen',edgecolor='black',label='Indiviual Explained Varinace')\n",
    "plt.step(range(3), cum_var_exp, where='mid',color='red',label='Cummulative explained Variance')\n",
    "plt.legend(loc = 'best')\n",
    "plt.ylabel('Explained Variance Ratio')\n",
    "plt.xlabel('Principal Components')\n",
    "plt.tight_layout()\n",
    "plt.show()"
   ]
  },
  {
   "cell_type": "code",
   "execution_count": 256,
   "metadata": {},
   "outputs": [],
   "source": [
    "## Lets create a copy of the original dataframe and name the copy as df_scaled\n",
    "df_scaled = dfcr.copy()"
   ]
  },
  {
   "cell_type": "code",
   "execution_count": 257,
   "metadata": {},
   "outputs": [],
   "source": [
    "## Standardize the data using standard scalar\n",
    "ss = StandardScaler()\n",
    "\n",
    "df_scaled.iloc[:,:] = ss.fit_transform(df_scaled.iloc[:,:])"
   ]
  },
  {
   "cell_type": "code",
   "execution_count": 258,
   "metadata": {},
   "outputs": [
    {
     "data": {
      "text/html": [
       "<div>\n",
       "<style scoped>\n",
       "    .dataframe tbody tr th:only-of-type {\n",
       "        vertical-align: middle;\n",
       "    }\n",
       "\n",
       "    .dataframe tbody tr th {\n",
       "        vertical-align: top;\n",
       "    }\n",
       "\n",
       "    .dataframe thead th {\n",
       "        text-align: right;\n",
       "    }\n",
       "</style>\n",
       "<table border=\"1\" class=\"dataframe\">\n",
       "  <thead>\n",
       "    <tr style=\"text-align: right;\">\n",
       "      <th></th>\n",
       "      <th>longitude</th>\n",
       "      <th>latitude</th>\n",
       "      <th>age</th>\n",
       "    </tr>\n",
       "  </thead>\n",
       "  <tbody>\n",
       "    <tr>\n",
       "      <th>0</th>\n",
       "      <td>0.802984</td>\n",
       "      <td>0.612426</td>\n",
       "      <td>0.363743</td>\n",
       "    </tr>\n",
       "    <tr>\n",
       "      <th>1</th>\n",
       "      <td>0.474870</td>\n",
       "      <td>0.595207</td>\n",
       "      <td>0.363743</td>\n",
       "    </tr>\n",
       "  </tbody>\n",
       "</table>\n",
       "</div>"
      ],
      "text/plain": [
       "   longitude  latitude       age\n",
       "0   0.802984  0.612426  0.363743\n",
       "1   0.474870  0.595207  0.363743"
      ]
     },
     "execution_count": 258,
     "metadata": {},
     "output_type": "execute_result"
    }
   ],
   "source": [
    "df_scaled.head(2)"
   ]
  },
  {
   "cell_type": "code",
   "execution_count": 259,
   "metadata": {},
   "outputs": [
    {
     "data": {
      "text/html": [
       "<div>\n",
       "<style scoped>\n",
       "    .dataframe tbody tr th:only-of-type {\n",
       "        vertical-align: middle;\n",
       "    }\n",
       "\n",
       "    .dataframe tbody tr th {\n",
       "        vertical-align: top;\n",
       "    }\n",
       "\n",
       "    .dataframe thead th {\n",
       "        text-align: right;\n",
       "    }\n",
       "</style>\n",
       "<table border=\"1\" class=\"dataframe\">\n",
       "  <thead>\n",
       "    <tr style=\"text-align: right;\">\n",
       "      <th></th>\n",
       "      <th>num_clusters</th>\n",
       "      <th>cluster_errors</th>\n",
       "    </tr>\n",
       "  </thead>\n",
       "  <tbody>\n",
       "    <tr>\n",
       "      <th>0</th>\n",
       "      <td>1</td>\n",
       "      <td>223935.000000</td>\n",
       "    </tr>\n",
       "    <tr>\n",
       "      <th>1</th>\n",
       "      <td>2</td>\n",
       "      <td>83373.911684</td>\n",
       "    </tr>\n",
       "    <tr>\n",
       "      <th>2</th>\n",
       "      <td>3</td>\n",
       "      <td>49887.369824</td>\n",
       "    </tr>\n",
       "    <tr>\n",
       "      <th>3</th>\n",
       "      <td>4</td>\n",
       "      <td>34494.399015</td>\n",
       "    </tr>\n",
       "    <tr>\n",
       "      <th>4</th>\n",
       "      <td>5</td>\n",
       "      <td>26463.144690</td>\n",
       "    </tr>\n",
       "    <tr>\n",
       "      <th>5</th>\n",
       "      <td>6</td>\n",
       "      <td>22659.197763</td>\n",
       "    </tr>\n",
       "    <tr>\n",
       "      <th>6</th>\n",
       "      <td>7</td>\n",
       "      <td>18894.039926</td>\n",
       "    </tr>\n",
       "    <tr>\n",
       "      <th>7</th>\n",
       "      <td>8</td>\n",
       "      <td>16325.895334</td>\n",
       "    </tr>\n",
       "    <tr>\n",
       "      <th>8</th>\n",
       "      <td>9</td>\n",
       "      <td>14399.152061</td>\n",
       "    </tr>\n",
       "    <tr>\n",
       "      <th>9</th>\n",
       "      <td>10</td>\n",
       "      <td>12562.556448</td>\n",
       "    </tr>\n",
       "    <tr>\n",
       "      <th>10</th>\n",
       "      <td>11</td>\n",
       "      <td>11336.208568</td>\n",
       "    </tr>\n",
       "    <tr>\n",
       "      <th>11</th>\n",
       "      <td>12</td>\n",
       "      <td>10448.670558</td>\n",
       "    </tr>\n",
       "    <tr>\n",
       "      <th>12</th>\n",
       "      <td>13</td>\n",
       "      <td>9494.103013</td>\n",
       "    </tr>\n",
       "    <tr>\n",
       "      <th>13</th>\n",
       "      <td>14</td>\n",
       "      <td>8818.269798</td>\n",
       "    </tr>\n",
       "  </tbody>\n",
       "</table>\n",
       "</div>"
      ],
      "text/plain": [
       "    num_clusters  cluster_errors\n",
       "0              1   223935.000000\n",
       "1              2    83373.911684\n",
       "2              3    49887.369824\n",
       "3              4    34494.399015\n",
       "4              5    26463.144690\n",
       "5              6    22659.197763\n",
       "6              7    18894.039926\n",
       "7              8    16325.895334\n",
       "8              9    14399.152061\n",
       "9             10    12562.556448\n",
       "10            11    11336.208568\n",
       "11            12    10448.670558\n",
       "12            13     9494.103013\n",
       "13            14     8818.269798"
      ]
     },
     "execution_count": 259,
     "metadata": {},
     "output_type": "execute_result"
    }
   ],
   "source": [
    "cluster_range = range(1,15)\n",
    "cluster_errors = []\n",
    "\n",
    "for num_clusters in cluster_range:\n",
    "   \n",
    "    clusters = KMeans(num_clusters, n_init=10)\n",
    "    clusters.fit(df_scaled)\n",
    "    \n",
    "    labels = clusters.labels_\n",
    "    centroids = clusters.cluster_centers_\n",
    "    \n",
    "    cluster_errors.append(clusters.inertia_)\n",
    "\n",
    "clusters_df = pd.DataFrame({'num_clusters':cluster_range, \n",
    "                           'cluster_errors':cluster_errors})\n",
    "\n",
    "clusters_df"
   ]
  },
  {
   "cell_type": "code",
   "execution_count": 260,
   "metadata": {},
   "outputs": [
    {
     "data": {
      "image/png": "[encoded data removed]",
      "text/plain": [
       "<Figure size 864x432 with 1 Axes>"
      ]
     },
     "metadata": {
      "needs_background": "light"
     },
     "output_type": "display_data"
    }
   ],
   "source": [
    "plt.figure(figsize=[12,6])\n",
    "plt.plot(clusters_df['num_clusters'],clusters_df['cluster_errors'],marker='o',color='b')\n",
    "plt.show()"
   ]
  },
  {
   "cell_type": "code",
   "execution_count": 261,
   "metadata": {},
   "outputs": [
    {
     "data": {
      "text/plain": [
       "KMeans(n_clusters=3, n_init=15, random_state=2345)"
      ]
     },
     "execution_count": 261,
     "metadata": {},
     "output_type": "execute_result"
    }
   ],
   "source": [
    "kmeans = KMeans(n_clusters=3, n_init=15, random_state=2345)\n",
    "kmeans.fit(df_scaled)"
   ]
  },
  {
   "cell_type": "code",
   "execution_count": 262,
   "metadata": {},
   "outputs": [
    {
     "data": {
      "text/plain": [
       "array([1, 1, 1, ..., 1, 1, 1])"
      ]
     },
     "execution_count": 262,
     "metadata": {},
     "output_type": "execute_result"
    }
   ],
   "source": [
    "## obtained labels from kmeans clustering\n",
    "kmeans.labels_"
   ]
  },
  {
   "cell_type": "code",
   "execution_count": 263,
   "metadata": {},
   "outputs": [
    {
     "data": {
      "text/html": [
       "<div>\n",
       "<style scoped>\n",
       "    .dataframe tbody tr th:only-of-type {\n",
       "        vertical-align: middle;\n",
       "    }\n",
       "\n",
       "    .dataframe tbody tr th {\n",
       "        vertical-align: top;\n",
       "    }\n",
       "\n",
       "    .dataframe thead th {\n",
       "        text-align: right;\n",
       "    }\n",
       "</style>\n",
       "<table border=\"1\" class=\"dataframe\">\n",
       "  <thead>\n",
       "    <tr style=\"text-align: right;\">\n",
       "      <th></th>\n",
       "      <th>Labels</th>\n",
       "    </tr>\n",
       "  </thead>\n",
       "  <tbody>\n",
       "    <tr>\n",
       "      <th>0</th>\n",
       "      <td>1</td>\n",
       "    </tr>\n",
       "    <tr>\n",
       "      <th>1</th>\n",
       "      <td>1</td>\n",
       "    </tr>\n",
       "    <tr>\n",
       "      <th>2</th>\n",
       "      <td>1</td>\n",
       "    </tr>\n",
       "    <tr>\n",
       "      <th>3</th>\n",
       "      <td>1</td>\n",
       "    </tr>\n",
       "    <tr>\n",
       "      <th>4</th>\n",
       "      <td>1</td>\n",
       "    </tr>\n",
       "  </tbody>\n",
       "</table>\n",
       "</div>"
      ],
      "text/plain": [
       "   Labels\n",
       "0       1\n",
       "1       1\n",
       "2       1\n",
       "3       1\n",
       "4       1"
      ]
     },
     "execution_count": 263,
     "metadata": {},
     "output_type": "execute_result"
    }
   ],
   "source": [
    "df_labels = pd.DataFrame(kmeans.labels_, columns=list(['Labels']))\n",
    "\n",
    "df_labels.head(5)"
   ]
  },
  {
   "cell_type": "code",
   "execution_count": 264,
   "metadata": {},
   "outputs": [],
   "source": [
    "df_labels['Labels'] = df_labels['Labels'].astype('category')"
   ]
  },
  {
   "cell_type": "code",
   "execution_count": 265,
   "metadata": {},
   "outputs": [
    {
     "data": {
      "text/html": [
       "<div>\n",
       "<style scoped>\n",
       "    .dataframe tbody tr th:only-of-type {\n",
       "        vertical-align: middle;\n",
       "    }\n",
       "\n",
       "    .dataframe tbody tr th {\n",
       "        vertical-align: top;\n",
       "    }\n",
       "\n",
       "    .dataframe thead th {\n",
       "        text-align: right;\n",
       "    }\n",
       "</style>\n",
       "<table border=\"1\" class=\"dataframe\">\n",
       "  <thead>\n",
       "    <tr style=\"text-align: right;\">\n",
       "      <th></th>\n",
       "      <th>longitude</th>\n",
       "      <th>latitude</th>\n",
       "      <th>age</th>\n",
       "      <th>Labels</th>\n",
       "    </tr>\n",
       "  </thead>\n",
       "  <tbody>\n",
       "    <tr>\n",
       "      <th>0</th>\n",
       "      <td>121.38</td>\n",
       "      <td>31.24</td>\n",
       "      <td>35.0</td>\n",
       "      <td>1</td>\n",
       "    </tr>\n",
       "    <tr>\n",
       "      <th>1</th>\n",
       "      <td>103.65</td>\n",
       "      <td>30.97</td>\n",
       "      <td>35.0</td>\n",
       "      <td>1</td>\n",
       "    </tr>\n",
       "    <tr>\n",
       "      <th>2</th>\n",
       "      <td>106.60</td>\n",
       "      <td>29.70</td>\n",
       "      <td>35.0</td>\n",
       "      <td>1</td>\n",
       "    </tr>\n",
       "    <tr>\n",
       "      <th>3</th>\n",
       "      <td>104.27</td>\n",
       "      <td>23.28</td>\n",
       "      <td>30.0</td>\n",
       "      <td>1</td>\n",
       "    </tr>\n",
       "    <tr>\n",
       "      <th>4</th>\n",
       "      <td>115.88</td>\n",
       "      <td>28.66</td>\n",
       "      <td>30.0</td>\n",
       "      <td>1</td>\n",
       "    </tr>\n",
       "  </tbody>\n",
       "</table>\n",
       "</div>"
      ],
      "text/plain": [
       "   longitude  latitude   age Labels\n",
       "0     121.38     31.24  35.0      1\n",
       "1     103.65     30.97  35.0      1\n",
       "2     106.60     29.70  35.0      1\n",
       "3     104.27     23.28  30.0      1\n",
       "4     115.88     28.66  30.0      1"
      ]
     },
     "execution_count": 265,
     "metadata": {},
     "output_type": "execute_result"
    }
   ],
   "source": [
    "df_kmeans = dfcr.join(df_labels)\n",
    "\n",
    "df_kmeans.head()"
   ]
  },
  {
   "cell_type": "code",
   "execution_count": 266,
   "metadata": {},
   "outputs": [
    {
     "data": {
      "text/plain": [
       "1    40012\n",
       "2    23736\n",
       "0    10897\n",
       "Name: Labels, dtype: int64"
      ]
     },
     "execution_count": 266,
     "metadata": {},
     "output_type": "execute_result"
    }
   ],
   "source": [
    "df_kmeans['Labels'].value_counts()"
   ]
  },
  {
   "cell_type": "code",
   "execution_count": 267,
   "metadata": {},
   "outputs": [
    {
     "data": {
      "image/png": "[encoded data removed]",
      "text/plain": [
       "<Figure size 432x288 with 1 Axes>"
      ]
     },
     "metadata": {
      "needs_background": "light"
     },
     "output_type": "display_data"
    }
   ],
   "source": [
    "sns.scatterplot(df_kmeans['latitude'],df_kmeans['longitude'],hue='age',data=df_kmeans)\n",
    "plt.show()"
   ]
  },
  {
   "cell_type": "code",
   "execution_count": 270,
   "metadata": {},
   "outputs": [],
   "source": [
    "\n",
    "kmeans_score = []\n",
    "\n",
    "for i in range(2,15):\n",
    "    kmeans = KMeans(n_clusters=i)\n",
    "    kmeans = kmeans.fit(df_scaled)\n",
    "    labels = kmeans.predict(df_scaled)\n",
    "    print(i,silhouette_score(df_scaled,labels))"
   ]
  },
  {
   "cell_type": "code",
   "execution_count": null,
   "metadata": {},
   "outputs": [],
   "source": []
  },
  {
   "cell_type": "code",
   "execution_count": null,
   "metadata": {},
   "outputs": [],
   "source": [
    "plt.figure(figsize=[18,7])\n",
    "merg = linkage(df_scaled, method='ward')\n",
    "dendrogram(merg, leaf_rotation=90,)\n",
    "plt.xlabel('Datapoints')\n",
    "plt.ylabel('Euclidean distance')\n",
    "plt.show()"
   ]
  },
  {
   "cell_type": "code",
   "execution_count": null,
   "metadata": {},
   "outputs": [],
   "source": [
    "hie_cluster = AgglomerativeClustering(n_clusters=4, affinity='euclidean',\n",
    "                                     linkage='ward')\n",
    "\n",
    "hie_cluster_model = hie_cluster.fit(df_scaled)"
   ]
  },
  {
   "cell_type": "code",
   "execution_count": null,
   "metadata": {},
   "outputs": [],
   "source": []
  },
  {
   "cell_type": "code",
   "execution_count": null,
   "metadata": {},
   "outputs": [],
   "source": [
    "## Creating a dataframe of the labels\n",
    "\n",
    "df_label1 = pd.DataFrame(hie_cluster_model.labels_,columns=['Labels'])\n",
    "df_label1.head(2)"
   ]
  },
  {
   "cell_type": "code",
   "execution_count": 269,
   "metadata": {},
   "outputs": [
    {
     "ename": "NameError",
     "evalue": "name 'df_label1' is not defined",
     "output_type": "error",
     "traceback": [
      "\u001b[1;31m---------------------------------------------------------------------------\u001b[0m",
      "\u001b[1;31mNameError\u001b[0m                                 Traceback (most recent call last)",
      "\u001b[1;32m<ipython-input-269-3463ea2c920a>\u001b[0m in \u001b[0;36m<module>\u001b[1;34m\u001b[0m\n\u001b[0;32m      1\u001b[0m \u001b[1;31m## joining the label dataframe with unscaled initial dataframe.(df)\u001b[0m\u001b[1;33m\u001b[0m\u001b[1;33m\u001b[0m\u001b[1;33m\u001b[0m\u001b[0m\n\u001b[0;32m      2\u001b[0m \u001b[1;33m\u001b[0m\u001b[0m\n\u001b[1;32m----> 3\u001b[1;33m \u001b[0mdf_hier\u001b[0m \u001b[1;33m=\u001b[0m \u001b[0mdf\u001b[0m\u001b[1;33m.\u001b[0m\u001b[0mjoin\u001b[0m\u001b[1;33m(\u001b[0m\u001b[0mdf_label1\u001b[0m\u001b[1;33m)\u001b[0m\u001b[1;33m\u001b[0m\u001b[1;33m\u001b[0m\u001b[0m\n\u001b[0m\u001b[0;32m      4\u001b[0m \u001b[0mdf_hier\u001b[0m\u001b[1;33m.\u001b[0m\u001b[0mhead\u001b[0m\u001b[1;33m(\u001b[0m\u001b[1;33m)\u001b[0m\u001b[1;33m\u001b[0m\u001b[1;33m\u001b[0m\u001b[0m\n\u001b[0;32m      5\u001b[0m \u001b[1;33m\u001b[0m\u001b[0m\n",
      "\u001b[1;31mNameError\u001b[0m: name 'df_label1' is not defined"
     ]
    }
   ],
   "source": [
    "## joining the label dataframe with unscaled initial dataframe.(df)\n",
    "\n",
    "df_hier = df.join(df_label1)\n",
    "df_hier.head()\n",
    "\n"
   ]
  },
  {
   "cell_type": "code",
   "execution_count": null,
   "metadata": {},
   "outputs": [],
   "source": [
    "plt.title('K-Means Classes')\n",
    "sns.scatterplot(x='latitude',y='longitude',hue='age',data=df_kmeans,palette='bright')\n",
    "plt.show()\n",
    "\n",
    "plt.title('Hierarchical Classes')\n",
    "sns.scatterplot(x='latitude',y='longitude',hue='age',data=df_hier,palette='bright')\n",
    "plt.show()"
   ]
  }
 ],
 "metadata": {
  "kernelspec": {
   "display_name": "base",
   "language": "python",
   "name": "python3"
  },
  "language_info": {
   "codemirror_mode": {
    "name": "ipython",
    "version": 3
   },
   "file_extension": ".py",
   "mimetype": "text/x-python",
   "name": "python",
   "nbconvert_exporter": "python",
   "pygments_lexer": "ipython3",
   "version": "3.8.8"
  },
  "orig_nbformat": 4,
  "vscode": {
   "interpreter": {
    "hash": "39ac83c075303fbbc6721f2ceb34b2baa5f89f41c4ede0f39f638cc7cb1fddc4"
   }
  }
 },
 "nbformat": 4,
 "nbformat_minor": 2
}
