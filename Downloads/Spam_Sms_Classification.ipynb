{
  "nbformat": 4,
  "nbformat_minor": 0,
  "metadata": {
    "colab": {
      "provenance": [],
      "collapsed_sections": []
    },
    "kernelspec": {
      "name": "python3",
      "display_name": "Python 3"
    }
  },
  "cells": [
    {
      "cell_type": "markdown",
      "metadata": {
        "id": "Hbln1O8gBEih"
      },
      "source": [
        "![GL logo.png](data:image/png;base64,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)\n",
        "\n",
        "Proprietary content. © Great Learning. All Rights Reserved. Unauthorized use or distribution prohibited."
      ]
    },
    {
      "cell_type": "markdown",
      "metadata": {
        "id": "Q91KqmCRu64D"
      },
      "source": [
        "# Spam SMS Classification\n",
        "\n",
        "## Domain\n",
        "SMS, Text Data\n",
        "\n",
        "## Business Context\n",
        "The SMS spam is a growing problem considering availability of cheap sms packages offered by various telecom service companies. SMS spam filtering is a relatively new task which inherits many issues and solutions from email spam filtering. The SMS Spam Collection is a set of SMS tagged messages that have been collected for SMS Spam research. It contains one set of SMS messages in English of 5,574 messages, tagged according to ham (legitimate) or spam.\n",
        " \n",
        "## Objective\n",
        "Given a text message and label whether a sms is a spam message, can you train a model using LSTM that allows you to correctly predict a new sms as spam or ham. \n",
        "\n"
      ]
    },
    {
      "cell_type": "markdown",
      "metadata": {
        "id": "b0Qw0vEHBUvm"
      },
      "source": [
        "### Package version\n",
        "- tensorflow==2.3.0\n",
        "- matplotlib==3.2.1\n",
        "- h5py==2.10.0\n",
        "- google==2.0.3"
      ]
    },
    {
      "cell_type": "markdown",
      "metadata": {
        "id": "yapdCjMwFl02"
      },
      "source": [
        "## Table of Content\n",
        "\n",
        "1. Import Libraries\n",
        "\n",
        "2. Setting options\n",
        "\n",
        "3. Read Data\n",
        "\n",
        "4. Data Analysis and Preparation\n",
        "\n",
        "5. Text Preprocessing\n",
        "\n",
        "6. Model Building\n",
        "\n",
        "7. Conclusion and Interpretation"
      ]
    },
    {
      "cell_type": "markdown",
      "metadata": {
        "id": "mSnjdKmpG82x"
      },
      "source": [
        "## 1. Import Libraries"
      ]
    },
    {
      "cell_type": "markdown",
      "metadata": {
        "id": "8z2Z7-OAs8QG"
      },
      "source": [
        "Let us start by mounting the drive"
      ]
    },
    {
      "cell_type": "code",
      "metadata": {
        "id": "REFUdThmpz_d",
        "colab": {
          "base_uri": "https://localhost:8080/"
        },
        "outputId": "4004ec17-78d0-4700-9871-c9ab3f876279"
      },
      "source": [
        "from google.colab import drive\n",
        "drive.mount('/content/drive')"
      ],
      "execution_count": null,
      "outputs": [
        {
          "output_type": "stream",
          "name": "stdout",
          "text": [
            "Drive already mounted at /content/drive; to attempt to forcibly remount, call drive.mount(\"/content/drive\", force_remount=True).\n"
          ]
        }
      ]
    },
    {
      "cell_type": "markdown",
      "metadata": {
        "id": "ucnevGLoyKf_"
      },
      "source": [
        "Let us check for the version of installed tensorflow."
      ]
    },
    {
      "cell_type": "code",
      "metadata": {
        "id": "W5as47YxyJVk",
        "colab": {
          "base_uri": "https://localhost:8080/"
        },
        "outputId": "efb2f2a7-54b9-4ce9-e75e-f5a9de365c33"
      },
      "source": [
        "# used to supress display of warnings\n",
        "import warnings\n",
        "\n",
        "# os is used to provide a way of using operating system dependent functionality\n",
        "# We use it for setting working folder\n",
        "import os\n",
        "\n",
        "# Pandas is used for data manipulation and analysis\n",
        "import pandas as pd \n",
        "\n",
        "# Numpy is used for large, multi-dimensional arrays and matrices, along with mathematical operators on these arrays\n",
        "import numpy as np\n",
        "\n",
        "# Matplotlib is a data visualization library for 2D plots of arrays, built on NumPy arrays \n",
        "# and designed to work with the broader SciPy stack\n",
        "import matplotlib.pyplot as plt\n",
        "%matplotlib inline\n",
        "from matplotlib import pyplot\n",
        "from sklearn.model_selection import train_test_split\n",
        "\n",
        "# Seaborn is based on matplotlib, which aids in drawing attractive and informative statistical graphics.\n",
        "import seaborn as sns\n",
        "import tensorflow \n",
        "print(tensorflow.__version__)\n",
        "\n",
        "\n",
        "from keras.models import Model\n",
        "from keras.layers import LSTM, Activation, Dense, Dropout, Input, Embedding\n",
        "from tensorflow.keras.optimizers import RMSprop, SGD, Adam\n",
        "from tensorflow.keras.preprocessing.text import Tokenizer\n",
        "from tensorflow.keras.preprocessing import sequence\n",
        "from tensorflow.keras.utils import to_categorical\n",
        "from tensorflow.keras.callbacks import EarlyStopping\n",
        "%matplotlib inline"
      ],
      "execution_count": null,
      "outputs": [
        {
          "output_type": "stream",
          "name": "stdout",
          "text": [
            "2.8.2\n"
          ]
        }
      ]
    },
    {
      "cell_type": "markdown",
      "metadata": {
        "id": "MRj03V7AHAYe"
      },
      "source": [
        "## 2. Setting Options"
      ]
    },
    {
      "cell_type": "code",
      "metadata": {
        "id": "qCKU7-YkHDq3"
      },
      "source": [
        "# suppress display of warnings\n",
        "warnings.filterwarnings('ignore')\n",
        "\n",
        "# display all dataframe columns\n",
        "pd.options.display.max_columns = None\n",
        "\n",
        "# to set the limit to 3 decimals\n",
        "pd.options.display.float_format = '{:.7f}'.format\n",
        "\n",
        "# display all dataframe rows\n",
        "pd.options.display.max_rows = None"
      ],
      "execution_count": null,
      "outputs": []
    },
    {
      "cell_type": "markdown",
      "metadata": {
        "id": "ufAqcNVCHIut"
      },
      "source": [
        "## 3. Read Data"
      ]
    },
    {
      "cell_type": "markdown",
      "metadata": {
        "id": "8lsux2ZwyTTR"
      },
      "source": [
        "Let us now, load the image files that is available in two separate folders"
      ]
    },
    {
      "cell_type": "code",
      "metadata": {
        "id": "0l_gy2vbeMmp"
      },
      "source": [
        "data = pd.read_csv('/content/drive/My Drive/sms_spam_data.csv', encoding= 'latin-1')"
      ],
      "execution_count": null,
      "outputs": []
    },
    {
      "cell_type": "code",
      "metadata": {
        "id": "F1D-zXv-g1uj",
        "colab": {
          "base_uri": "https://localhost:8080/",
          "height": 206
        },
        "outputId": "779fefff-7a85-4841-a714-eb007eb01b4d"
      },
      "source": [
        "data.head()"
      ],
      "execution_count": null,
      "outputs": [
        {
          "output_type": "execute_result",
          "data": {
            "text/plain": [
              "     v1                                                 v2 Unnamed: 2  \\\n",
              "0   ham  Go until jurong point, crazy.. Available only ...        NaN   \n",
              "1   ham                      Ok lar... Joking wif u oni...        NaN   \n",
              "2  spam  Free entry in 2 a wkly comp to win FA Cup fina...        NaN   \n",
              "3   ham  U dun say so early hor... U c already then say...        NaN   \n",
              "4   ham  Nah I don't think he goes to usf, he lives aro...        NaN   \n",
              "\n",
              "  Unnamed: 3 Unnamed: 4  \n",
              "0        NaN        NaN  \n",
              "1        NaN        NaN  \n",
              "2        NaN        NaN  \n",
              "3        NaN        NaN  \n",
              "4        NaN        NaN  "
            ],
            "text/html": [
              "\n",
              "  <div id=\"df-19d8c22a-0cd3-4629-b262-fe2d9c02f331\">\n",
              "    <div class=\"colab-df-container\">\n",
              "      <div>\n",
              "<style scoped>\n",
              "    .dataframe tbody tr th:only-of-type {\n",
              "        vertical-align: middle;\n",
              "    }\n",
              "\n",
              "    .dataframe tbody tr th {\n",
              "        vertical-align: top;\n",
              "    }\n",
              "\n",
              "    .dataframe thead th {\n",
              "        text-align: right;\n",
              "    }\n",
              "</style>\n",
              "<table border=\"1\" class=\"dataframe\">\n",
              "  <thead>\n",
              "    <tr style=\"text-align: right;\">\n",
              "      <th></th>\n",
              "      <th>v1</th>\n",
              "      <th>v2</th>\n",
              "      <th>Unnamed: 2</th>\n",
              "      <th>Unnamed: 3</th>\n",
              "      <th>Unnamed: 4</th>\n",
              "    </tr>\n",
              "  </thead>\n",
              "  <tbody>\n",
              "    <tr>\n",
              "      <th>0</th>\n",
              "      <td>ham</td>\n",
              "      <td>Go until jurong point, crazy.. Available only ...</td>\n",
              "      <td>NaN</td>\n",
              "      <td>NaN</td>\n",
              "      <td>NaN</td>\n",
              "    </tr>\n",
              "    <tr>\n",
              "      <th>1</th>\n",
              "      <td>ham</td>\n",
              "      <td>Ok lar... Joking wif u oni...</td>\n",
              "      <td>NaN</td>\n",
              "      <td>NaN</td>\n",
              "      <td>NaN</td>\n",
              "    </tr>\n",
              "    <tr>\n",
              "      <th>2</th>\n",
              "      <td>spam</td>\n",
              "      <td>Free entry in 2 a wkly comp to win FA Cup fina...</td>\n",
              "      <td>NaN</td>\n",
              "      <td>NaN</td>\n",
              "      <td>NaN</td>\n",
              "    </tr>\n",
              "    <tr>\n",
              "      <th>3</th>\n",
              "      <td>ham</td>\n",
              "      <td>U dun say so early hor... U c already then say...</td>\n",
              "      <td>NaN</td>\n",
              "      <td>NaN</td>\n",
              "      <td>NaN</td>\n",
              "    </tr>\n",
              "    <tr>\n",
              "      <th>4</th>\n",
              "      <td>ham</td>\n",
              "      <td>Nah I don't think he goes to usf, he lives aro...</td>\n",
              "      <td>NaN</td>\n",
              "      <td>NaN</td>\n",
              "      <td>NaN</td>\n",
              "    </tr>\n",
              "  </tbody>\n",
              "</table>\n",
              "</div>\n",
              "      <button class=\"colab-df-convert\" onclick=\"convertToInteractive('df-19d8c22a-0cd3-4629-b262-fe2d9c02f331')\"\n",
              "              title=\"Convert this dataframe to an interactive table.\"\n",
              "              style=\"display:none;\">\n",
              "        \n",
              "  <svg xmlns=\"http://www.w3.org/2000/svg\" height=\"24px\"viewBox=\"0 0 24 24\"\n",
              "       width=\"24px\">\n",
              "    <path d=\"M0 0h24v24H0V0z\" fill=\"none\"/>\n",
              "    <path d=\"M18.56 5.44l.94 2.06.94-2.06 2.06-.94-2.06-.94-.94-2.06-.94 2.06-2.06.94zm-11 1L8.5 8.5l.94-2.06 2.06-.94-2.06-.94L8.5 2.5l-.94 2.06-2.06.94zm10 10l.94 2.06.94-2.06 2.06-.94-2.06-.94-.94-2.06-.94 2.06-2.06.94z\"/><path d=\"M17.41 7.96l-1.37-1.37c-.4-.4-.92-.59-1.43-.59-.52 0-1.04.2-1.43.59L10.3 9.45l-7.72 7.72c-.78.78-.78 2.05 0 2.83L4 21.41c.39.39.9.59 1.41.59.51 0 1.02-.2 1.41-.59l7.78-7.78 2.81-2.81c.8-.78.8-2.07 0-2.86zM5.41 20L4 18.59l7.72-7.72 1.47 1.35L5.41 20z\"/>\n",
              "  </svg>\n",
              "      </button>\n",
              "      \n",
              "  <style>\n",
              "    .colab-df-container {\n",
              "      display:flex;\n",
              "      flex-wrap:wrap;\n",
              "      gap: 12px;\n",
              "    }\n",
              "\n",
              "    .colab-df-convert {\n",
              "      background-color: #E8F0FE;\n",
              "      border: none;\n",
              "      border-radius: 50%;\n",
              "      cursor: pointer;\n",
              "      display: none;\n",
              "      fill: #1967D2;\n",
              "      height: 32px;\n",
              "      padding: 0 0 0 0;\n",
              "      width: 32px;\n",
              "    }\n",
              "\n",
              "    .colab-df-convert:hover {\n",
              "      background-color: #E2EBFA;\n",
              "      box-shadow: 0px 1px 2px rgba(60, 64, 67, 0.3), 0px 1px 3px 1px rgba(60, 64, 67, 0.15);\n",
              "      fill: #174EA6;\n",
              "    }\n",
              "\n",
              "    [theme=dark] .colab-df-convert {\n",
              "      background-color: #3B4455;\n",
              "      fill: #D2E3FC;\n",
              "    }\n",
              "\n",
              "    [theme=dark] .colab-df-convert:hover {\n",
              "      background-color: #434B5C;\n",
              "      box-shadow: 0px 1px 3px 1px rgba(0, 0, 0, 0.15);\n",
              "      filter: drop-shadow(0px 1px 2px rgba(0, 0, 0, 0.3));\n",
              "      fill: #FFFFFF;\n",
              "    }\n",
              "  </style>\n",
              "\n",
              "      <script>\n",
              "        const buttonEl =\n",
              "          document.querySelector('#df-19d8c22a-0cd3-4629-b262-fe2d9c02f331 button.colab-df-convert');\n",
              "        buttonEl.style.display =\n",
              "          google.colab.kernel.accessAllowed ? 'block' : 'none';\n",
              "\n",
              "        async function convertToInteractive(key) {\n",
              "          const element = document.querySelector('#df-19d8c22a-0cd3-4629-b262-fe2d9c02f331');\n",
              "          const dataTable =\n",
              "            await google.colab.kernel.invokeFunction('convertToInteractive',\n",
              "                                                     [key], {});\n",
              "          if (!dataTable) return;\n",
              "\n",
              "          const docLinkHtml = 'Like what you see? Visit the ' +\n",
              "            '<a target=\"_blank\" href=https://colab.research.google.com/notebooks/data_table.ipynb>data table notebook</a>'\n",
              "            + ' to learn more about interactive tables.';\n",
              "          element.innerHTML = '';\n",
              "          dataTable['output_type'] = 'display_data';\n",
              "          await google.colab.output.renderOutput(dataTable, element);\n",
              "          const docLink = document.createElement('div');\n",
              "          docLink.innerHTML = docLinkHtml;\n",
              "          element.appendChild(docLink);\n",
              "        }\n",
              "      </script>\n",
              "    </div>\n",
              "  </div>\n",
              "  "
            ]
          },
          "metadata": {},
          "execution_count": 8
        }
      ]
    },
    {
      "cell_type": "markdown",
      "metadata": {
        "id": "QxUwAWJHwGby"
      },
      "source": [
        "### Checking frequncy distribution of two classes"
      ]
    },
    {
      "cell_type": "code",
      "metadata": {
        "id": "AldVGuGSwOo2",
        "colab": {
          "base_uri": "https://localhost:8080/"
        },
        "outputId": "3a58fc07-82b9-46c5-b568-827e2a05b38b"
      },
      "source": [
        "pd.value_counts(data['v1'])"
      ],
      "execution_count": null,
      "outputs": [
        {
          "output_type": "execute_result",
          "data": {
            "text/plain": [
              "ham     4825\n",
              "spam     747\n",
              "Name: v1, dtype: int64"
            ]
          },
          "metadata": {},
          "execution_count": 9
        }
      ]
    },
    {
      "cell_type": "code",
      "metadata": {
        "id": "xafbQSfmY4KK",
        "colab": {
          "base_uri": "https://localhost:8080/",
          "height": 301
        },
        "outputId": "8f55b6fc-bf4c-44bc-cd94-e12aed87457d"
      },
      "source": [
        "pd.value_counts(data['v1']).plot(kind = 'bar')"
      ],
      "execution_count": null,
      "outputs": [
        {
          "output_type": "execute_result",
          "data": {
            "text/plain": [
              "<matplotlib.axes._subplots.AxesSubplot at 0x7ff3a33e2b90>"
            ]
          },
          "metadata": {},
          "execution_count": 10
        },
        {
          "output_type": "display_data",
          "data": {
            "text/plain": [
              "<Figure size 432x288 with 1 Axes>"
            ],
            "image/png": "[encoded data removed]"
          },
          "metadata": {
            "needs_background": "light"
          }
        }
      ]
    },
    {
      "cell_type": "code",
      "metadata": {
        "id": "1wSayihEJAE9",
        "colab": {
          "base_uri": "https://localhost:8080/",
          "height": 264
        },
        "outputId": "820cc739-6270-40a2-ba2a-5873b34ad9b4"
      },
      "source": [
        "data['v1'].value_counts().plot(kind = 'pie',  autopct='%1.0f%%')\n",
        "plt.title('Pie chart')\n",
        "plt.ylabel('')\n",
        "plt.show()"
      ],
      "execution_count": null,
      "outputs": [
        {
          "output_type": "display_data",
          "data": {
            "text/plain": [
              "<Figure size 432x288 with 1 Axes>"
            ],
            "image/png": "[encoded data removed]"
          },
          "metadata": {}
        }
      ]
    },
    {
      "cell_type": "markdown",
      "metadata": {
        "id": "qcq9QzORxTjR"
      },
      "source": [
        "#### Class is quite imbalanced and total number of samples is also less"
      ]
    },
    {
      "cell_type": "markdown",
      "metadata": {
        "id": "vF82QoNLxCjp"
      },
      "source": [
        "## 4. Data Analysis and Preparation"
      ]
    },
    {
      "cell_type": "markdown",
      "metadata": {
        "id": "YhmMfWNmZHkh"
      },
      "source": [
        "Drop the columns that are not required for the model building"
      ]
    },
    {
      "cell_type": "code",
      "metadata": {
        "id": "Tg9nPFqNkxXj",
        "colab": {
          "base_uri": "https://localhost:8080/"
        },
        "outputId": "d87b0ffe-09d1-4119-8e63-1ff9571303fe"
      },
      "source": [
        "data.drop(['Unnamed: 2', 'Unnamed: 3', 'Unnamed: 4'],axis=1,inplace=True)\n",
        "data.info()"
      ],
      "execution_count": null,
      "outputs": [
        {
          "output_type": "stream",
          "name": "stdout",
          "text": [
            "<class 'pandas.core.frame.DataFrame'>\n",
            "RangeIndex: 5572 entries, 0 to 5571\n",
            "Data columns (total 2 columns):\n",
            " #   Column  Non-Null Count  Dtype \n",
            "---  ------  --------------  ----- \n",
            " 0   v1      5572 non-null   object\n",
            " 1   v2      5572 non-null   object\n",
            "dtypes: object(2)\n",
            "memory usage: 87.2+ KB\n"
          ]
        }
      ]
    },
    {
      "cell_type": "code",
      "metadata": {
        "id": "Fnic4bdCblw7"
      },
      "source": [
        "data['v1'].replace('ham',0, inplace = True)\n",
        "data['v1'].replace('spam',1, inplace = True)"
      ],
      "execution_count": null,
      "outputs": []
    },
    {
      "cell_type": "code",
      "metadata": {
        "id": "2KaInimMdPMw"
      },
      "source": [
        "data.rename(columns={\"v1\":\"Label\",\"v2\":\"Message\"},inplace=True)"
      ],
      "execution_count": null,
      "outputs": []
    },
    {
      "cell_type": "code",
      "metadata": {
        "id": "hwoxIgHu9aBT",
        "colab": {
          "base_uri": "https://localhost:8080/"
        },
        "outputId": "43b7ee02-8c77-4c7a-e797-077d817389d7"
      },
      "source": [
        "data.info()"
      ],
      "execution_count": null,
      "outputs": [
        {
          "output_type": "stream",
          "name": "stdout",
          "text": [
            "<class 'pandas.core.frame.DataFrame'>\n",
            "RangeIndex: 5572 entries, 0 to 5571\n",
            "Data columns (total 2 columns):\n",
            " #   Column   Non-Null Count  Dtype \n",
            "---  ------   --------------  ----- \n",
            " 0   Label    5572 non-null   int64 \n",
            " 1   Message  5572 non-null   object\n",
            "dtypes: int64(1), object(1)\n",
            "memory usage: 87.2+ KB\n"
          ]
        }
      ]
    },
    {
      "cell_type": "markdown",
      "metadata": {
        "id": "8vynigH-dHfd"
      },
      "source": [
        "## 5. Text Preprocessing"
      ]
    },
    {
      "cell_type": "code",
      "metadata": {
        "id": "dtOJc_u-ggCM",
        "colab": {
          "base_uri": "https://localhost:8080/",
          "height": 206
        },
        "outputId": "f91fe4b0-ca52-40bc-eb2e-5c6d9dc0eb86"
      },
      "source": [
        "data['message_len'] = data['Message'].apply(len)\n",
        "data.head()"
      ],
      "execution_count": null,
      "outputs": [
        {
          "output_type": "execute_result",
          "data": {
            "text/plain": [
              "   Label                                            Message  message_len\n",
              "0      0  Go until jurong point, crazy.. Available only ...          111\n",
              "1      0                      Ok lar... Joking wif u oni...           29\n",
              "2      1  Free entry in 2 a wkly comp to win FA Cup fina...          155\n",
              "3      0  U dun say so early hor... U c already then say...           49\n",
              "4      0  Nah I don't think he goes to usf, he lives aro...           61"
            ],
            "text/html": [
              "\n",
              "  <div id=\"df-4afa8ded-b03e-450d-978f-148d2edf6a4b\">\n",
              "    <div class=\"colab-df-container\">\n",
              "      <div>\n",
              "<style scoped>\n",
              "    .dataframe tbody tr th:only-of-type {\n",
              "        vertical-align: middle;\n",
              "    }\n",
              "\n",
              "    .dataframe tbody tr th {\n",
              "        vertical-align: top;\n",
              "    }\n",
              "\n",
              "    .dataframe thead th {\n",
              "        text-align: right;\n",
              "    }\n",
              "</style>\n",
              "<table border=\"1\" class=\"dataframe\">\n",
              "  <thead>\n",
              "    <tr style=\"text-align: right;\">\n",
              "      <th></th>\n",
              "      <th>Label</th>\n",
              "      <th>Message</th>\n",
              "      <th>message_len</th>\n",
              "    </tr>\n",
              "  </thead>\n",
              "  <tbody>\n",
              "    <tr>\n",
              "      <th>0</th>\n",
              "      <td>0</td>\n",
              "      <td>Go until jurong point, crazy.. Available only ...</td>\n",
              "      <td>111</td>\n",
              "    </tr>\n",
              "    <tr>\n",
              "      <th>1</th>\n",
              "      <td>0</td>\n",
              "      <td>Ok lar... Joking wif u oni...</td>\n",
              "      <td>29</td>\n",
              "    </tr>\n",
              "    <tr>\n",
              "      <th>2</th>\n",
              "      <td>1</td>\n",
              "      <td>Free entry in 2 a wkly comp to win FA Cup fina...</td>\n",
              "      <td>155</td>\n",
              "    </tr>\n",
              "    <tr>\n",
              "      <th>3</th>\n",
              "      <td>0</td>\n",
              "      <td>U dun say so early hor... U c already then say...</td>\n",
              "      <td>49</td>\n",
              "    </tr>\n",
              "    <tr>\n",
              "      <th>4</th>\n",
              "      <td>0</td>\n",
              "      <td>Nah I don't think he goes to usf, he lives aro...</td>\n",
              "      <td>61</td>\n",
              "    </tr>\n",
              "  </tbody>\n",
              "</table>\n",
              "</div>\n",
              "      <button class=\"colab-df-convert\" onclick=\"convertToInteractive('df-4afa8ded-b03e-450d-978f-148d2edf6a4b')\"\n",
              "              title=\"Convert this dataframe to an interactive table.\"\n",
              "              style=\"display:none;\">\n",
              "        \n",
              "  <svg xmlns=\"http://www.w3.org/2000/svg\" height=\"24px\"viewBox=\"0 0 24 24\"\n",
              "       width=\"24px\">\n",
              "    <path d=\"M0 0h24v24H0V0z\" fill=\"none\"/>\n",
              "    <path d=\"M18.56 5.44l.94 2.06.94-2.06 2.06-.94-2.06-.94-.94-2.06-.94 2.06-2.06.94zm-11 1L8.5 8.5l.94-2.06 2.06-.94-2.06-.94L8.5 2.5l-.94 2.06-2.06.94zm10 10l.94 2.06.94-2.06 2.06-.94-2.06-.94-.94-2.06-.94 2.06-2.06.94z\"/><path d=\"M17.41 7.96l-1.37-1.37c-.4-.4-.92-.59-1.43-.59-.52 0-1.04.2-1.43.59L10.3 9.45l-7.72 7.72c-.78.78-.78 2.05 0 2.83L4 21.41c.39.39.9.59 1.41.59.51 0 1.02-.2 1.41-.59l7.78-7.78 2.81-2.81c.8-.78.8-2.07 0-2.86zM5.41 20L4 18.59l7.72-7.72 1.47 1.35L5.41 20z\"/>\n",
              "  </svg>\n",
              "      </button>\n",
              "      \n",
              "  <style>\n",
              "    .colab-df-container {\n",
              "      display:flex;\n",
              "      flex-wrap:wrap;\n",
              "      gap: 12px;\n",
              "    }\n",
              "\n",
              "    .colab-df-convert {\n",
              "      background-color: #E8F0FE;\n",
              "      border: none;\n",
              "      border-radius: 50%;\n",
              "      cursor: pointer;\n",
              "      display: none;\n",
              "      fill: #1967D2;\n",
              "      height: 32px;\n",
              "      padding: 0 0 0 0;\n",
              "      width: 32px;\n",
              "    }\n",
              "\n",
              "    .colab-df-convert:hover {\n",
              "      background-color: #E2EBFA;\n",
              "      box-shadow: 0px 1px 2px rgba(60, 64, 67, 0.3), 0px 1px 3px 1px rgba(60, 64, 67, 0.15);\n",
              "      fill: #174EA6;\n",
              "    }\n",
              "\n",
              "    [theme=dark] .colab-df-convert {\n",
              "      background-color: #3B4455;\n",
              "      fill: #D2E3FC;\n",
              "    }\n",
              "\n",
              "    [theme=dark] .colab-df-convert:hover {\n",
              "      background-color: #434B5C;\n",
              "      box-shadow: 0px 1px 3px 1px rgba(0, 0, 0, 0.15);\n",
              "      filter: drop-shadow(0px 1px 2px rgba(0, 0, 0, 0.3));\n",
              "      fill: #FFFFFF;\n",
              "    }\n",
              "  </style>\n",
              "\n",
              "      <script>\n",
              "        const buttonEl =\n",
              "          document.querySelector('#df-4afa8ded-b03e-450d-978f-148d2edf6a4b button.colab-df-convert');\n",
              "        buttonEl.style.display =\n",
              "          google.colab.kernel.accessAllowed ? 'block' : 'none';\n",
              "\n",
              "        async function convertToInteractive(key) {\n",
              "          const element = document.querySelector('#df-4afa8ded-b03e-450d-978f-148d2edf6a4b');\n",
              "          const dataTable =\n",
              "            await google.colab.kernel.invokeFunction('convertToInteractive',\n",
              "                                                     [key], {});\n",
              "          if (!dataTable) return;\n",
              "\n",
              "          const docLinkHtml = 'Like what you see? Visit the ' +\n",
              "            '<a target=\"_blank\" href=https://colab.research.google.com/notebooks/data_table.ipynb>data table notebook</a>'\n",
              "            + ' to learn more about interactive tables.';\n",
              "          element.innerHTML = '';\n",
              "          dataTable['output_type'] = 'display_data';\n",
              "          await google.colab.output.renderOutput(dataTable, element);\n",
              "          const docLink = document.createElement('div');\n",
              "          docLink.innerHTML = docLinkHtml;\n",
              "          element.appendChild(docLink);\n",
              "        }\n",
              "      </script>\n",
              "    </div>\n",
              "  </div>\n",
              "  "
            ]
          },
          "metadata": {},
          "execution_count": 16
        }
      ]
    },
    {
      "cell_type": "code",
      "metadata": {
        "id": "534muntKg_Db",
        "colab": {
          "base_uri": "https://localhost:8080/",
          "height": 297
        },
        "outputId": "84cf4d00-f7fd-4b72-baa3-c5b002692311"
      },
      "source": [
        "sns.distplot(data['message_len'])"
      ],
      "execution_count": null,
      "outputs": [
        {
          "output_type": "execute_result",
          "data": {
            "text/plain": [
              "<matplotlib.axes._subplots.AxesSubplot at 0x7ff3a32d40d0>"
            ]
          },
          "metadata": {},
          "execution_count": 17
        },
        {
          "output_type": "display_data",
          "data": {
            "text/plain": [
              "<Figure size 432x288 with 1 Axes>"
            ],
            "image/png": "[encoded data removed]"
          },
          "metadata": {
            "needs_background": "light"
          }
        }
      ]
    },
    {
      "cell_type": "code",
      "metadata": {
        "id": "oxP9qqFRguTH",
        "colab": {
          "base_uri": "https://localhost:8080/",
          "height": 297
        },
        "outputId": "d678be67-5166-4d2d-96d4-d22949632212"
      },
      "source": [
        "pd.crosstab(data['message_len'],data['Label']).plot()"
      ],
      "execution_count": null,
      "outputs": [
        {
          "output_type": "execute_result",
          "data": {
            "text/plain": [
              "<matplotlib.axes._subplots.AxesSubplot at 0x7ff3a3520b50>"
            ]
          },
          "metadata": {},
          "execution_count": 18
        },
        {
          "output_type": "display_data",
          "data": {
            "text/plain": [
              "<Figure size 432x288 with 1 Axes>"
            ],
            "image/png": "[encoded data removed]"
          },
          "metadata": {
            "needs_background": "light"
          }
        }
      ]
    },
    {
      "cell_type": "markdown",
      "metadata": {
        "id": "EgkuZstnhQo7"
      },
      "source": [
        "We can see that ham messages are relatively short and spam messages are longer in length. "
      ]
    },
    {
      "cell_type": "code",
      "metadata": {
        "id": "83g84NDghhtZ",
        "colab": {
          "base_uri": "https://localhost:8080/",
          "height": 300
        },
        "outputId": "cffc3328-de16-4324-a722-7ce0c3c110f3"
      },
      "source": [
        "data.describe()"
      ],
      "execution_count": null,
      "outputs": [
        {
          "output_type": "execute_result",
          "data": {
            "text/plain": [
              "             Label  message_len\n",
              "count 5572.0000000 5572.0000000\n",
              "mean     0.1340632   80.1188083\n",
              "std      0.3407508   59.6908408\n",
              "min      0.0000000    2.0000000\n",
              "25%      0.0000000   36.0000000\n",
              "50%      0.0000000   61.0000000\n",
              "75%      0.0000000  121.0000000\n",
              "max      1.0000000  910.0000000"
            ],
            "text/html": [
              "\n",
              "  <div id=\"df-f9ba7099-942c-4cb8-82c2-796d9bb0cd7b\">\n",
              "    <div class=\"colab-df-container\">\n",
              "      <div>\n",
              "<style scoped>\n",
              "    .dataframe tbody tr th:only-of-type {\n",
              "        vertical-align: middle;\n",
              "    }\n",
              "\n",
              "    .dataframe tbody tr th {\n",
              "        vertical-align: top;\n",
              "    }\n",
              "\n",
              "    .dataframe thead th {\n",
              "        text-align: right;\n",
              "    }\n",
              "</style>\n",
              "<table border=\"1\" class=\"dataframe\">\n",
              "  <thead>\n",
              "    <tr style=\"text-align: right;\">\n",
              "      <th></th>\n",
              "      <th>Label</th>\n",
              "      <th>message_len</th>\n",
              "    </tr>\n",
              "  </thead>\n",
              "  <tbody>\n",
              "    <tr>\n",
              "      <th>count</th>\n",
              "      <td>5572.0000000</td>\n",
              "      <td>5572.0000000</td>\n",
              "    </tr>\n",
              "    <tr>\n",
              "      <th>mean</th>\n",
              "      <td>0.1340632</td>\n",
              "      <td>80.1188083</td>\n",
              "    </tr>\n",
              "    <tr>\n",
              "      <th>std</th>\n",
              "      <td>0.3407508</td>\n",
              "      <td>59.6908408</td>\n",
              "    </tr>\n",
              "    <tr>\n",
              "      <th>min</th>\n",
              "      <td>0.0000000</td>\n",
              "      <td>2.0000000</td>\n",
              "    </tr>\n",
              "    <tr>\n",
              "      <th>25%</th>\n",
              "      <td>0.0000000</td>\n",
              "      <td>36.0000000</td>\n",
              "    </tr>\n",
              "    <tr>\n",
              "      <th>50%</th>\n",
              "      <td>0.0000000</td>\n",
              "      <td>61.0000000</td>\n",
              "    </tr>\n",
              "    <tr>\n",
              "      <th>75%</th>\n",
              "      <td>0.0000000</td>\n",
              "      <td>121.0000000</td>\n",
              "    </tr>\n",
              "    <tr>\n",
              "      <th>max</th>\n",
              "      <td>1.0000000</td>\n",
              "      <td>910.0000000</td>\n",
              "    </tr>\n",
              "  </tbody>\n",
              "</table>\n",
              "</div>\n",
              "      <button class=\"colab-df-convert\" onclick=\"convertToInteractive('df-f9ba7099-942c-4cb8-82c2-796d9bb0cd7b')\"\n",
              "              title=\"Convert this dataframe to an interactive table.\"\n",
              "              style=\"display:none;\">\n",
              "        \n",
              "  <svg xmlns=\"http://www.w3.org/2000/svg\" height=\"24px\"viewBox=\"0 0 24 24\"\n",
              "       width=\"24px\">\n",
              "    <path d=\"M0 0h24v24H0V0z\" fill=\"none\"/>\n",
              "    <path d=\"M18.56 5.44l.94 2.06.94-2.06 2.06-.94-2.06-.94-.94-2.06-.94 2.06-2.06.94zm-11 1L8.5 8.5l.94-2.06 2.06-.94-2.06-.94L8.5 2.5l-.94 2.06-2.06.94zm10 10l.94 2.06.94-2.06 2.06-.94-2.06-.94-.94-2.06-.94 2.06-2.06.94z\"/><path d=\"M17.41 7.96l-1.37-1.37c-.4-.4-.92-.59-1.43-.59-.52 0-1.04.2-1.43.59L10.3 9.45l-7.72 7.72c-.78.78-.78 2.05 0 2.83L4 21.41c.39.39.9.59 1.41.59.51 0 1.02-.2 1.41-.59l7.78-7.78 2.81-2.81c.8-.78.8-2.07 0-2.86zM5.41 20L4 18.59l7.72-7.72 1.47 1.35L5.41 20z\"/>\n",
              "  </svg>\n",
              "      </button>\n",
              "      \n",
              "  <style>\n",
              "    .colab-df-container {\n",
              "      display:flex;\n",
              "      flex-wrap:wrap;\n",
              "      gap: 12px;\n",
              "    }\n",
              "\n",
              "    .colab-df-convert {\n",
              "      background-color: #E8F0FE;\n",
              "      border: none;\n",
              "      border-radius: 50%;\n",
              "      cursor: pointer;\n",
              "      display: none;\n",
              "      fill: #1967D2;\n",
              "      height: 32px;\n",
              "      padding: 0 0 0 0;\n",
              "      width: 32px;\n",
              "    }\n",
              "\n",
              "    .colab-df-convert:hover {\n",
              "      background-color: #E2EBFA;\n",
              "      box-shadow: 0px 1px 2px rgba(60, 64, 67, 0.3), 0px 1px 3px 1px rgba(60, 64, 67, 0.15);\n",
              "      fill: #174EA6;\n",
              "    }\n",
              "\n",
              "    [theme=dark] .colab-df-convert {\n",
              "      background-color: #3B4455;\n",
              "      fill: #D2E3FC;\n",
              "    }\n",
              "\n",
              "    [theme=dark] .colab-df-convert:hover {\n",
              "      background-color: #434B5C;\n",
              "      box-shadow: 0px 1px 3px 1px rgba(0, 0, 0, 0.15);\n",
              "      filter: drop-shadow(0px 1px 2px rgba(0, 0, 0, 0.3));\n",
              "      fill: #FFFFFF;\n",
              "    }\n",
              "  </style>\n",
              "\n",
              "      <script>\n",
              "        const buttonEl =\n",
              "          document.querySelector('#df-f9ba7099-942c-4cb8-82c2-796d9bb0cd7b button.colab-df-convert');\n",
              "        buttonEl.style.display =\n",
              "          google.colab.kernel.accessAllowed ? 'block' : 'none';\n",
              "\n",
              "        async function convertToInteractive(key) {\n",
              "          const element = document.querySelector('#df-f9ba7099-942c-4cb8-82c2-796d9bb0cd7b');\n",
              "          const dataTable =\n",
              "            await google.colab.kernel.invokeFunction('convertToInteractive',\n",
              "                                                     [key], {});\n",
              "          if (!dataTable) return;\n",
              "\n",
              "          const docLinkHtml = 'Like what you see? Visit the ' +\n",
              "            '<a target=\"_blank\" href=https://colab.research.google.com/notebooks/data_table.ipynb>data table notebook</a>'\n",
              "            + ' to learn more about interactive tables.';\n",
              "          element.innerHTML = '';\n",
              "          dataTable['output_type'] = 'display_data';\n",
              "          await google.colab.output.renderOutput(dataTable, element);\n",
              "          const docLink = document.createElement('div');\n",
              "          docLink.innerHTML = docLinkHtml;\n",
              "          element.appendChild(docLink);\n",
              "        }\n",
              "      </script>\n",
              "    </div>\n",
              "  </div>\n",
              "  "
            ]
          },
          "metadata": {},
          "execution_count": 19
        }
      ]
    },
    {
      "cell_type": "code",
      "metadata": {
        "id": "NB4BNs0-i_vQ"
      },
      "source": [
        "# Convert to lower case\n",
        "data['text'] = data['Message'].apply(lambda x: x.lower())"
      ],
      "execution_count": null,
      "outputs": []
    },
    {
      "cell_type": "code",
      "metadata": {
        "id": "Y4e8pqXjKJAA",
        "colab": {
          "base_uri": "https://localhost:8080/"
        },
        "outputId": "9c5e2b8b-2cf6-41bc-b7d4-e32d1a9e6404"
      },
      "source": [
        "from nltk.corpus import stopwords\n",
        "# Removing stop words\n",
        "import string\n",
        "import nltk\n",
        "nltk.download('stopwords')\n",
        "stop = set(stopwords.words('english'))"
      ],
      "execution_count": null,
      "outputs": [
        {
          "output_type": "stream",
          "name": "stderr",
          "text": [
            "[nltk_data] Downloading package stopwords to /root/nltk_data...\n",
            "[nltk_data]   Package stopwords is already up-to-date!\n"
          ]
        }
      ]
    },
    {
      "cell_type": "code",
      "metadata": {
        "id": "jWdyo_Y7jJsL"
      },
      "source": [
        "data['text'] = data['text'].apply(lambda words: ' '.join(word for word in words.split() if word not in stop))"
      ],
      "execution_count": null,
      "outputs": []
    },
    {
      "cell_type": "code",
      "metadata": {
        "id": "eM8cK9aPiS49"
      },
      "source": [
        "# Remove punctuations\n",
        "data['text'] = data['text'].str.replace('[^\\w\\s]','')"
      ],
      "execution_count": null,
      "outputs": []
    },
    {
      "cell_type": "code",
      "metadata": {
        "id": "kvhUd0DAj8Fb",
        "colab": {
          "base_uri": "https://localhost:8080/",
          "height": 112
        },
        "outputId": "2f42160c-4377-458d-bf8b-cbf842712e86"
      },
      "source": [
        "data.head(2)"
      ],
      "execution_count": null,
      "outputs": [
        {
          "output_type": "execute_result",
          "data": {
            "text/plain": [
              "   Label                                            Message  message_len  \\\n",
              "0      0  Go until jurong point, crazy.. Available only ...          111   \n",
              "1      0                      Ok lar... Joking wif u oni...           29   \n",
              "\n",
              "                                                text  \n",
              "0  go jurong point crazy available bugis n great ...  \n",
              "1                            ok lar joking wif u oni  "
            ],
            "text/html": [
              "\n",
              "  <div id=\"df-6d1224c4-182d-450f-8885-ce95dd9ea16b\">\n",
              "    <div class=\"colab-df-container\">\n",
              "      <div>\n",
              "<style scoped>\n",
              "    .dataframe tbody tr th:only-of-type {\n",
              "        vertical-align: middle;\n",
              "    }\n",
              "\n",
              "    .dataframe tbody tr th {\n",
              "        vertical-align: top;\n",
              "    }\n",
              "\n",
              "    .dataframe thead th {\n",
              "        text-align: right;\n",
              "    }\n",
              "</style>\n",
              "<table border=\"1\" class=\"dataframe\">\n",
              "  <thead>\n",
              "    <tr style=\"text-align: right;\">\n",
              "      <th></th>\n",
              "      <th>Label</th>\n",
              "      <th>Message</th>\n",
              "      <th>message_len</th>\n",
              "      <th>text</th>\n",
              "    </tr>\n",
              "  </thead>\n",
              "  <tbody>\n",
              "    <tr>\n",
              "      <th>0</th>\n",
              "      <td>0</td>\n",
              "      <td>Go until jurong point, crazy.. Available only ...</td>\n",
              "      <td>111</td>\n",
              "      <td>go jurong point crazy available bugis n great ...</td>\n",
              "    </tr>\n",
              "    <tr>\n",
              "      <th>1</th>\n",
              "      <td>0</td>\n",
              "      <td>Ok lar... Joking wif u oni...</td>\n",
              "      <td>29</td>\n",
              "      <td>ok lar joking wif u oni</td>\n",
              "    </tr>\n",
              "  </tbody>\n",
              "</table>\n",
              "</div>\n",
              "      <button class=\"colab-df-convert\" onclick=\"convertToInteractive('df-6d1224c4-182d-450f-8885-ce95dd9ea16b')\"\n",
              "              title=\"Convert this dataframe to an interactive table.\"\n",
              "              style=\"display:none;\">\n",
              "        \n",
              "  <svg xmlns=\"http://www.w3.org/2000/svg\" height=\"24px\"viewBox=\"0 0 24 24\"\n",
              "       width=\"24px\">\n",
              "    <path d=\"M0 0h24v24H0V0z\" fill=\"none\"/>\n",
              "    <path d=\"M18.56 5.44l.94 2.06.94-2.06 2.06-.94-2.06-.94-.94-2.06-.94 2.06-2.06.94zm-11 1L8.5 8.5l.94-2.06 2.06-.94-2.06-.94L8.5 2.5l-.94 2.06-2.06.94zm10 10l.94 2.06.94-2.06 2.06-.94-2.06-.94-.94-2.06-.94 2.06-2.06.94z\"/><path d=\"M17.41 7.96l-1.37-1.37c-.4-.4-.92-.59-1.43-.59-.52 0-1.04.2-1.43.59L10.3 9.45l-7.72 7.72c-.78.78-.78 2.05 0 2.83L4 21.41c.39.39.9.59 1.41.59.51 0 1.02-.2 1.41-.59l7.78-7.78 2.81-2.81c.8-.78.8-2.07 0-2.86zM5.41 20L4 18.59l7.72-7.72 1.47 1.35L5.41 20z\"/>\n",
              "  </svg>\n",
              "      </button>\n",
              "      \n",
              "  <style>\n",
              "    .colab-df-container {\n",
              "      display:flex;\n",
              "      flex-wrap:wrap;\n",
              "      gap: 12px;\n",
              "    }\n",
              "\n",
              "    .colab-df-convert {\n",
              "      background-color: #E8F0FE;\n",
              "      border: none;\n",
              "      border-radius: 50%;\n",
              "      cursor: pointer;\n",
              "      display: none;\n",
              "      fill: #1967D2;\n",
              "      height: 32px;\n",
              "      padding: 0 0 0 0;\n",
              "      width: 32px;\n",
              "    }\n",
              "\n",
              "    .colab-df-convert:hover {\n",
              "      background-color: #E2EBFA;\n",
              "      box-shadow: 0px 1px 2px rgba(60, 64, 67, 0.3), 0px 1px 3px 1px rgba(60, 64, 67, 0.15);\n",
              "      fill: #174EA6;\n",
              "    }\n",
              "\n",
              "    [theme=dark] .colab-df-convert {\n",
              "      background-color: #3B4455;\n",
              "      fill: #D2E3FC;\n",
              "    }\n",
              "\n",
              "    [theme=dark] .colab-df-convert:hover {\n",
              "      background-color: #434B5C;\n",
              "      box-shadow: 0px 1px 3px 1px rgba(0, 0, 0, 0.15);\n",
              "      filter: drop-shadow(0px 1px 2px rgba(0, 0, 0, 0.3));\n",
              "      fill: #FFFFFF;\n",
              "    }\n",
              "  </style>\n",
              "\n",
              "      <script>\n",
              "        const buttonEl =\n",
              "          document.querySelector('#df-6d1224c4-182d-450f-8885-ce95dd9ea16b button.colab-df-convert');\n",
              "        buttonEl.style.display =\n",
              "          google.colab.kernel.accessAllowed ? 'block' : 'none';\n",
              "\n",
              "        async function convertToInteractive(key) {\n",
              "          const element = document.querySelector('#df-6d1224c4-182d-450f-8885-ce95dd9ea16b');\n",
              "          const dataTable =\n",
              "            await google.colab.kernel.invokeFunction('convertToInteractive',\n",
              "                                                     [key], {});\n",
              "          if (!dataTable) return;\n",
              "\n",
              "          const docLinkHtml = 'Like what you see? Visit the ' +\n",
              "            '<a target=\"_blank\" href=https://colab.research.google.com/notebooks/data_table.ipynb>data table notebook</a>'\n",
              "            + ' to learn more about interactive tables.';\n",
              "          element.innerHTML = '';\n",
              "          dataTable['output_type'] = 'display_data';\n",
              "          await google.colab.output.renderOutput(dataTable, element);\n",
              "          const docLink = document.createElement('div');\n",
              "          docLink.innerHTML = docLinkHtml;\n",
              "          element.appendChild(docLink);\n",
              "        }\n",
              "      </script>\n",
              "    </div>\n",
              "  </div>\n",
              "  "
            ]
          },
          "metadata": {},
          "execution_count": 25
        }
      ]
    },
    {
      "cell_type": "code",
      "metadata": {
        "id": "VP2DpnMQmePU"
      },
      "source": [
        "X = data['text']\n",
        "y = data['Label']"
      ],
      "execution_count": null,
      "outputs": []
    },
    {
      "cell_type": "markdown",
      "metadata": {
        "id": "xztigzzfITt-"
      },
      "source": [
        "## 6. Model building"
      ]
    },
    {
      "cell_type": "markdown",
      "metadata": {
        "id": "UJDUoaEj1d6e"
      },
      "source": [
        "### 6.1 LSTM Model\n",
        "Let us now build the neural network model, fit the training data, test it and provide model summary. Feel free to play around with the network and get to a better solution."
      ]
    },
    {
      "cell_type": "code",
      "metadata": {
        "id": "svqoACd05L0e"
      },
      "source": [
        "#Splitting the data into train and test set using default size\n",
        "from sklearn.model_selection import train_test_split\n",
        "X_train,X_test,Y_train,Y_test = train_test_split(data['text'],y,test_size=0.25)"
      ],
      "execution_count": null,
      "outputs": []
    },
    {
      "cell_type": "code",
      "source": [
        "max_words = 1000\n",
        "max_len = 100"
      ],
      "metadata": {
        "id": "c10BCzoe-vV5"
      },
      "execution_count": null,
      "outputs": []
    },
    {
      "cell_type": "code",
      "metadata": {
        "id": "_PTNaVNCBO4Y"
      },
      "source": [
        "from keras.preprocessing.text import Tokenizer\n",
        "from keras.preprocessing import sequence\n",
        "\n",
        "tok = Tokenizer(num_words=max_words)\n",
        "tok.fit_on_texts(X_train)\n",
        "sequences = tok.texts_to_sequences(X_train)\n",
        "sequences_matrix = sequence.pad_sequences(sequences,maxlen=max_len)"
      ],
      "execution_count": null,
      "outputs": []
    },
    {
      "cell_type": "code",
      "metadata": {
        "id": "Cmi81Gr5sqW-"
      },
      "source": [
        "# define model\n",
        "\n",
        "from tensorflow.keras import optimizers\n",
        "from tensorflow.keras.models import Sequential\n",
        "from tensorflow.keras.layers import Dense, Flatten\n",
        "\n",
        "\n",
        "def rnn_model():\n",
        "    # create model\n",
        "    inputs = Input(name='inputs',shape=[max_len])\n",
        "    layer = Embedding(max_words,50,input_length=max_len)(inputs)\n",
        "    layer = LSTM(64)(layer)\n",
        "    layer = Dense(256,name='Features')(layer)\n",
        "    layer = Activation('relu')(layer)\n",
        "    layer = Dense(1,name='Out')(layer)\n",
        "    layer = Activation('sigmoid')(layer)\n",
        "    model = Model(inputs=inputs,outputs=layer)\n",
        "    return model"
      ],
      "execution_count": null,
      "outputs": []
    },
    {
      "cell_type": "markdown",
      "metadata": {
        "id": "QbGCdivk6gM7"
      },
      "source": [
        "Let us create an object of our model"
      ]
    },
    {
      "cell_type": "code",
      "metadata": {
        "id": "geazN4wi6Y84"
      },
      "source": [
        "# build the model\n",
        "model = rnn_model()"
      ],
      "execution_count": null,
      "outputs": []
    },
    {
      "cell_type": "code",
      "metadata": {
        "id": "Mfh8tFcB7oj4",
        "colab": {
          "base_uri": "https://localhost:8080/"
        },
        "outputId": "ccd8d0c5-e34d-470f-9265-9cbecf493e53"
      },
      "source": [
        "# Compile model\n",
        "model.summary()\n",
        "model.compile(loss='binary_crossentropy',optimizer=Adam(),metrics=['accuracy']) ### Loss function = binary cross entropy"
      ],
      "execution_count": null,
      "outputs": [
        {
          "output_type": "stream",
          "name": "stdout",
          "text": [
            "Model: \"model_1\"\n",
            "_________________________________________________________________\n",
            " Layer (type)                Output Shape              Param #   \n",
            "=================================================================\n",
            " inputs (InputLayer)         [(None, 100)]             0         \n",
            "                                                                 \n",
            " embedding_1 (Embedding)     (None, 100, 50)           50000     \n",
            "                                                                 \n",
            " lstm_1 (LSTM)               (None, 64)                29440     \n",
            "                                                                 \n",
            " Features (Dense)            (None, 256)               16640     \n",
            "                                                                 \n",
            " activation_2 (Activation)   (None, 256)               0         \n",
            "                                                                 \n",
            " Out (Dense)                 (None, 1)                 257       \n",
            "                                                                 \n",
            " activation_3 (Activation)   (None, 1)                 0         \n",
            "                                                                 \n",
            "=================================================================\n",
            "Total params: 96,337\n",
            "Trainable params: 96,337\n",
            "Non-trainable params: 0\n",
            "_________________________________________________________________\n"
          ]
        }
      ]
    },
    {
      "cell_type": "markdown",
      "metadata": {
        "id": "5t90ufg46jLl"
      },
      "source": [
        "Let us fit our model on the training dataset along with it's equivalent one hot encoded labels"
      ]
    },
    {
      "cell_type": "code",
      "metadata": {
        "id": "It28yqDu6dLW",
        "colab": {
          "base_uri": "https://localhost:8080/"
        },
        "outputId": "0ec4e64a-7054-4e1b-ba5a-9f0ad9d7f893"
      },
      "source": [
        "# Fit the model\n",
        "training_history = model.fit(sequences_matrix,Y_train,batch_size=32,epochs=20,\n",
        "          validation_split=0.2)"
      ],
      "execution_count": null,
      "outputs": [
        {
          "output_type": "stream",
          "name": "stdout",
          "text": [
            "Epoch 1/20\n",
            "105/105 [==============================] - 11s 77ms/step - loss: 0.2572 - accuracy: 0.9097 - val_loss: 0.0615 - val_accuracy: 0.9821\n",
            "Epoch 2/20\n",
            "105/105 [==============================] - 7s 71ms/step - loss: 0.0604 - accuracy: 0.9812 - val_loss: 0.0500 - val_accuracy: 0.9880\n",
            "Epoch 3/20\n",
            "105/105 [==============================] - 7s 70ms/step - loss: 0.0316 - accuracy: 0.9916 - val_loss: 0.0504 - val_accuracy: 0.9880\n",
            "Epoch 4/20\n",
            "105/105 [==============================] - 7s 70ms/step - loss: 0.0193 - accuracy: 0.9943 - val_loss: 0.0544 - val_accuracy: 0.9856\n",
            "Epoch 5/20\n",
            "105/105 [==============================] - 8s 73ms/step - loss: 0.0121 - accuracy: 0.9970 - val_loss: 0.0688 - val_accuracy: 0.9833\n",
            "Epoch 6/20\n",
            "105/105 [==============================] - 7s 71ms/step - loss: 0.0360 - accuracy: 0.9910 - val_loss: 0.1122 - val_accuracy: 0.9641\n",
            "Epoch 7/20\n",
            "105/105 [==============================] - 8s 72ms/step - loss: 0.0302 - accuracy: 0.9889 - val_loss: 0.0696 - val_accuracy: 0.9844\n",
            "Epoch 8/20\n",
            "105/105 [==============================] - 8s 72ms/step - loss: 0.0083 - accuracy: 0.9979 - val_loss: 0.0739 - val_accuracy: 0.9844\n",
            "Epoch 9/20\n",
            "105/105 [==============================] - 9s 89ms/step - loss: 0.0070 - accuracy: 0.9982 - val_loss: 0.0803 - val_accuracy: 0.9833\n",
            "Epoch 10/20\n",
            "105/105 [==============================] - 9s 88ms/step - loss: 0.0053 - accuracy: 0.9991 - val_loss: 0.0894 - val_accuracy: 0.9821\n",
            "Epoch 11/20\n",
            "105/105 [==============================] - 8s 73ms/step - loss: 0.0050 - accuracy: 0.9991 - val_loss: 0.0826 - val_accuracy: 0.9844\n",
            "Epoch 12/20\n",
            "105/105 [==============================] - 8s 75ms/step - loss: 0.0046 - accuracy: 0.9991 - val_loss: 0.0857 - val_accuracy: 0.9821\n",
            "Epoch 13/20\n",
            "105/105 [==============================] - 9s 82ms/step - loss: 0.0042 - accuracy: 0.9994 - val_loss: 0.0923 - val_accuracy: 0.9797\n",
            "Epoch 14/20\n",
            "105/105 [==============================] - 7s 71ms/step - loss: 0.0041 - accuracy: 0.9994 - val_loss: 0.0886 - val_accuracy: 0.9821\n",
            "Epoch 15/20\n",
            "105/105 [==============================] - 8s 73ms/step - loss: 0.0040 - accuracy: 0.9994 - val_loss: 0.0916 - val_accuracy: 0.9821\n",
            "Epoch 16/20\n",
            "105/105 [==============================] - 8s 73ms/step - loss: 0.0042 - accuracy: 0.9994 - val_loss: 0.0903 - val_accuracy: 0.9856\n",
            "Epoch 17/20\n",
            "105/105 [==============================] - 8s 79ms/step - loss: 0.0040 - accuracy: 0.9994 - val_loss: 0.0984 - val_accuracy: 0.9809\n",
            "Epoch 18/20\n",
            "105/105 [==============================] - 11s 106ms/step - loss: 0.0035 - accuracy: 0.9994 - val_loss: 0.0934 - val_accuracy: 0.9809\n",
            "Epoch 19/20\n",
            "105/105 [==============================] - 8s 73ms/step - loss: 0.0036 - accuracy: 0.9994 - val_loss: 0.0954 - val_accuracy: 0.9809\n",
            "Epoch 20/20\n",
            "105/105 [==============================] - 8s 73ms/step - loss: 0.0039 - accuracy: 0.9994 - val_loss: 0.0966 - val_accuracy: 0.9809\n"
          ]
        }
      ]
    },
    {
      "cell_type": "code",
      "metadata": {
        "id": "beO7xjWbrErd",
        "colab": {
          "base_uri": "https://localhost:8080/"
        },
        "outputId": "423d96c8-381a-4f31-df03-29d203681d98"
      },
      "source": [
        "test_sequences = tok.texts_to_sequences(X_test)\n",
        "test_sequences_matrix = sequence.pad_sequences(test_sequences,maxlen=max_len)\n",
        "\n",
        "per = model.evaluate(test_sequences_matrix,Y_test)"
      ],
      "execution_count": null,
      "outputs": [
        {
          "output_type": "stream",
          "name": "stdout",
          "text": [
            "44/44 [==============================] - 1s 18ms/step - loss: 0.2335 - accuracy: 0.9720\n"
          ]
        }
      ]
    },
    {
      "cell_type": "code",
      "metadata": {
        "id": "iypI8IBLrRID",
        "colab": {
          "base_uri": "https://localhost:8080/"
        },
        "outputId": "8242f912-ef58-4c8b-a803-1d04943609f6"
      },
      "source": [
        "print('Test set\\n  Loss: {:0.3f}\\n  Accuracy: {:0.3f}'.format(per[0],per[1]))"
      ],
      "execution_count": null,
      "outputs": [
        {
          "output_type": "stream",
          "name": "stdout",
          "text": [
            "Test set\n",
            "  Loss: 0.234\n",
            "  Accuracy: 0.972\n"
          ]
        }
      ]
    },
    {
      "cell_type": "markdown",
      "metadata": {
        "id": "PxZ3naejpYZc"
      },
      "source": [
        "### 6.2 Naive Bayes Model"
      ]
    },
    {
      "cell_type": "code",
      "metadata": {
        "id": "4oWK-8a1pqnt"
      },
      "source": [
        "#Splitting the data into train and test set using default size\n",
        "from sklearn.model_selection import train_test_split\n",
        "X_train,X_test,Y_train,Y_test = train_test_split(data['text'],y,test_size=0.25)"
      ],
      "execution_count": null,
      "outputs": []
    },
    {
      "cell_type": "code",
      "metadata": {
        "id": "jJRoNZCNn7RC",
        "colab": {
          "base_uri": "https://localhost:8080/"
        },
        "outputId": "1999f2ad-49af-43e4-80f3-510cdc07185c"
      },
      "source": [
        "from sklearn.feature_extraction.text import CountVectorizer\n",
        "\n",
        "# instantiate the vectorizer\n",
        "vectorizer = CountVectorizer()\n",
        "vectorizer.fit(X_train)"
      ],
      "execution_count": null,
      "outputs": [
        {
          "output_type": "execute_result",
          "data": {
            "text/plain": [
              "CountVectorizer()"
            ]
          },
          "metadata": {},
          "execution_count": 41
        }
      ]
    },
    {
      "cell_type": "code",
      "metadata": {
        "id": "M_bn2x5UoEW-"
      },
      "source": [
        "# learn training data vocabulary, then use it to create a document-term matrix\n",
        "X_train_transformed = vectorizer.transform(X_train)"
      ],
      "execution_count": null,
      "outputs": []
    },
    {
      "cell_type": "code",
      "metadata": {
        "id": "IoTICSJTol21"
      },
      "source": [
        "X_test_transformed = vectorizer.transform(X_test)"
      ],
      "execution_count": null,
      "outputs": []
    },
    {
      "cell_type": "code",
      "metadata": {
        "id": "yFVbjkc3oNBr"
      },
      "source": [
        "# import and instantiate a Multinomial Naive Bayes model\n",
        "from sklearn.naive_bayes import MultinomialNB\n",
        "nb = MultinomialNB()"
      ],
      "execution_count": null,
      "outputs": []
    },
    {
      "cell_type": "code",
      "metadata": {
        "id": "tepZnIDGobMU",
        "colab": {
          "base_uri": "https://localhost:8080/"
        },
        "outputId": "b7d425d9-e053-48f0-99fb-cca54f2f7b93"
      },
      "source": [
        "nb.fit(X_train_transformed, Y_train)"
      ],
      "execution_count": null,
      "outputs": [
        {
          "output_type": "execute_result",
          "data": {
            "text/plain": [
              "MultinomialNB()"
            ]
          },
          "metadata": {},
          "execution_count": 45
        }
      ]
    },
    {
      "cell_type": "code",
      "metadata": {
        "id": "1PnOVPERogd7"
      },
      "source": [
        "# make class predictions for X_test\n",
        "y_pred_class = nb.predict(X_test_transformed)"
      ],
      "execution_count": null,
      "outputs": []
    },
    {
      "cell_type": "code",
      "metadata": {
        "id": "43m9OSgavF5K",
        "colab": {
          "base_uri": "https://localhost:8080/"
        },
        "outputId": "728bd4d0-afc6-4154-d381-f137e7327d41"
      },
      "source": [
        "from sklearn import metrics\n",
        "from sklearn.metrics import accuracy_score \n",
        "metrics.accuracy_score(Y_train, nb.predict(X_train_transformed))"
      ],
      "execution_count": null,
      "outputs": [
        {
          "output_type": "execute_result",
          "data": {
            "text/plain": [
              "0.9937784158889686"
            ]
          },
          "metadata": {},
          "execution_count": 51
        }
      ]
    },
    {
      "cell_type": "code",
      "metadata": {
        "id": "f1xPhzz5ot4I",
        "colab": {
          "base_uri": "https://localhost:8080/"
        },
        "outputId": "ff905d2c-07f3-48ed-ef04-8db80cb6da30"
      },
      "source": [
        "# calculate accuracy of class predictions\n",
        "from sklearn import metrics\n",
        "metrics.accuracy_score(Y_test, y_pred_class)"
      ],
      "execution_count": null,
      "outputs": [
        {
          "output_type": "execute_result",
          "data": {
            "text/plain": [
              "0.9842067480258435"
            ]
          },
          "metadata": {},
          "execution_count": 52
        }
      ]
    },
    {
      "cell_type": "code",
      "metadata": {
        "id": "YM2QzY-9o4Da",
        "colab": {
          "base_uri": "https://localhost:8080/"
        },
        "outputId": "9e6b528f-e01f-4f87-fccc-21250b39f4ca"
      },
      "source": [
        "# print the confusion matrix\n",
        "metrics.confusion_matrix(Y_test, y_pred_class)"
      ],
      "execution_count": null,
      "outputs": [
        {
          "output_type": "execute_result",
          "data": {
            "text/plain": [
              "array([[1201,    5],\n",
              "       [  17,  170]])"
            ]
          },
          "metadata": {},
          "execution_count": 53
        }
      ]
    },
    {
      "cell_type": "markdown",
      "metadata": {
        "id": "algw3-VGIj-N"
      },
      "source": [
        "# 7. Conclusion and Interpretation\n"
      ]
    },
    {
      "cell_type": "markdown",
      "metadata": {
        "id": "NKEwRyW9JnCd"
      },
      "source": [
        "- Both LSTM and Naive Bayes are able to perfrom very well on this data.\n",
        "- We are able to get aprox. 98% accuracy with Naive Bayes"
      ]
    },
    {
      "cell_type": "markdown",
      "metadata": {
        "id": "ez_j3KkDv0qc"
      },
      "source": [
        "##. Further Explore"
      ]
    },
    {
      "cell_type": "markdown",
      "metadata": {
        "id": "7pbYWApyv4k0"
      },
      "source": [
        "- Can you try changing a few hyperparameters such as number of layers in the network or number of units in a hidden layer or try different activation functions in the hidden layers and see if you get better results than the one in this notebook? \n",
        "- Can you analyze the false positive and false negative messages individually and figure out why the model made a mistake and how it can be improved?"
      ]
    }
  ]
}