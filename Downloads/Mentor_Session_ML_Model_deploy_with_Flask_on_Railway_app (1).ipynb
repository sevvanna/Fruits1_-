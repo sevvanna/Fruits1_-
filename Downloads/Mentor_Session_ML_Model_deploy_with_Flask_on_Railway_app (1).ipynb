{
 "cells": [
  {
   "cell_type": "markdown",
   "id": "da0cf537",
   "metadata": {
    "id": "da0cf537"
   },
   "source": [
    "# <font color=blue> Machine Learning model deployment with Flask framework on Railway.app</font>"
   ]
  },
  {
   "cell_type": "markdown",
   "id": "0674e4d7",
   "metadata": {
    "id": "0674e4d7"
   },
   "source": [
    "### Objective:\n",
    "1. To build a Machine learning classification model to classify the different species of the flowers.\n",
    "2. Deploy the machine learning model with flask framework on Railway.app."
   ]
  },
  {
   "cell_type": "markdown",
   "id": "8181aeda",
   "metadata": {
    "id": "8181aeda"
   },
   "source": [
    "### Dataset Information:\n",
    "#### Dataset source: https://www.kaggle.com/datasets/uciml/iris\n",
    "\n",
    "It includes three iris species with 50 samples each as well as some properties about each flower. One flower species is linearly separable from the other two, but the other two are not linearly separable from each other.\n",
    "\n",
    "The columns in this dataset are:\n",
    "\n",
    "- Id\n",
    "- SepalLengthCm\n",
    "- SepalWidthCm\n",
    "- PetalLengthCm\n",
    "- PetalWidthCm\n",
    "- Species"
   ]
  },
  {
   "cell_type": "markdown",
   "id": "5b9521ec",
   "metadata": {},
   "source": [
    "### Understanding API\n",
    "\n",
    "- Communication gateway between two applications (softwares)\n",
    "- Can be thought of as an access point of an application for performing specific operations.\n",
    "\n",
    "### Need of APIs\n",
    "- To serve various business specific requirements.\n",
    "- Serve as broker to provide capabilities of one system to other system/s.\n",
    "- It allows to create distributed systems.\n",
    "- It reduces retask which is already available as an API.\n",
    "\n",
    "### Virtual environment\n",
    "- A virtual environment is a tool that helps to keep dependencies required by different projects separate by creating isolated python virtual environments for them.\n",
    "- Helps to create isolation of environment needed to run python applications. \n",
    "- Each project can have its own set of dependencies regardless of the other projects.\n",
    "\n",
    "### Flask\n",
    "- Flask as micro web framework written in Python.\n",
    "- It has no database abstraction layer, form validation, or any other components where pre-existing third-party libraries provide common functions.\n",
    "\n",
    "### Some of the most important features of flask are mentioned below:\n",
    "- Development server and debugger\n",
    "- Integrated unit testing\n",
    "- Request dispatching (RESTful APIs)\n",
    "- Jinja templates\n",
    "- Secure cookies\n",
    "- Google App Engine\n",
    "\n",
    "\n",
    "### Real World applications of Flask API's\n",
    "- Development of Web Applications\n",
    "- Development of Machine Learning applications.\n",
    "- Web pages, blogs.\n",
    "- Commerical websites.\n",
    "- Netflix uses Flask API's to bind all of the previous segments together."
   ]
  },
  {
   "cell_type": "markdown",
   "id": "701afff8",
   "metadata": {},
   "source": [
    "### About Railway.app\n",
    "\n",
    "- Railway is a deployment platform where you can provision infrastructure, develop with that infrastructure locally, and then deploy to the cloud.\n",
    "\n",
    "- Railway.app is inspired by Heroku and is built with the aim of making app development tools easier to access for developers.\n",
    "\n",
    "- You can select your own choice of database, i.e., MySQL, Redis, or Postgres, whichever you think is the best for your project.\n",
    "\n",
    "- There are a ton of templates available, meaning you can either build your app from scratch or select one of the templates and build on top of that.\n",
    "\n",
    "- For deploying an app on Railway, you will need a GitHub account. The user interface is simple and allows developers to make queries and add database tables in web form.\n",
    "\n",
    "- While it is heavily inspired by Heroku, it takes its own take on PaaS deployments and offers features like bulk importing environmental variables and deploy previews, etc."
   ]
  },
  {
   "cell_type": "markdown",
   "id": "04a95db0",
   "metadata": {
    "id": "04a95db0"
   },
   "source": [
    "### Import required libraries"
   ]
  },
  {
   "cell_type": "code",
   "execution_count": 2,
   "id": "2fdbf317",
   "metadata": {
    "id": "2fdbf317"
   },
   "outputs": [],
   "source": [
    "import pandas as pd\n",
    "import numpy as np\n",
    "import seaborn as sns\n",
    "import matplotlib.pyplot as plt \n",
    "%matplotlib inline\n",
    "\n",
    "from sklearn.preprocessing import StandardScaler\n",
    "from sklearn.model_selection import train_test_split\n",
    "from sklearn.ensemble import RandomForestClassifier\n",
    "from sklearn.metrics import accuracy_score, confusion_matrix\n",
    "\n",
    "import warnings\n",
    "warnings.filterwarnings('ignore')"
   ]
  },
  {
   "cell_type": "markdown",
   "id": "0601fb19",
   "metadata": {
    "id": "0601fb19"
   },
   "source": [
    "### Load the dataset"
   ]
  },
  {
   "cell_type": "code",
   "execution_count": null,
   "id": "cb6319b2",
   "metadata": {
    "id": "cb6319b2"
   },
   "outputs": [],
   "source": [
    "# If using Google Colab\n",
    "\n",
    "#from google.colab import drive\n",
    "#drive.mount('/content/drive')\n",
    "#df = pd.read_csv('/content/drive/MyDrive/Iris.csv')\n",
    "#df.head()"
   ]
  },
  {
   "cell_type": "code",
   "execution_count": 4,
   "id": "f2f4abfd",
   "metadata": {
    "id": "f2f4abfd",
    "outputId": "90257527-879a-4b56-f15d-7fe186c67353"
   },
   "outputs": [
    {
     "data": {
      "text/html": [
       "<div>\n",
       "<style scoped>\n",
       "    .dataframe tbody tr th:only-of-type {\n",
       "        vertical-align: middle;\n",
       "    }\n",
       "\n",
       "    .dataframe tbody tr th {\n",
       "        vertical-align: top;\n",
       "    }\n",
       "\n",
       "    .dataframe thead th {\n",
       "        text-align: right;\n",
       "    }\n",
       "</style>\n",
       "<table border=\"1\" class=\"dataframe\">\n",
       "  <thead>\n",
       "    <tr style=\"text-align: right;\">\n",
       "      <th></th>\n",
       "      <th>Id</th>\n",
       "      <th>SepalLengthCm</th>\n",
       "      <th>SepalWidthCm</th>\n",
       "      <th>PetalLengthCm</th>\n",
       "      <th>PetalWidthCm</th>\n",
       "      <th>Species</th>\n",
       "    </tr>\n",
       "  </thead>\n",
       "  <tbody>\n",
       "    <tr>\n",
       "      <th>24</th>\n",
       "      <td>25</td>\n",
       "      <td>4.8</td>\n",
       "      <td>3.4</td>\n",
       "      <td>1.9</td>\n",
       "      <td>0.2</td>\n",
       "      <td>Iris-setosa</td>\n",
       "    </tr>\n",
       "    <tr>\n",
       "      <th>14</th>\n",
       "      <td>15</td>\n",
       "      <td>5.8</td>\n",
       "      <td>4.0</td>\n",
       "      <td>1.2</td>\n",
       "      <td>0.2</td>\n",
       "      <td>Iris-setosa</td>\n",
       "    </tr>\n",
       "    <tr>\n",
       "      <th>78</th>\n",
       "      <td>79</td>\n",
       "      <td>6.0</td>\n",
       "      <td>2.9</td>\n",
       "      <td>4.5</td>\n",
       "      <td>1.5</td>\n",
       "      <td>Iris-versicolor</td>\n",
       "    </tr>\n",
       "    <tr>\n",
       "      <th>8</th>\n",
       "      <td>9</td>\n",
       "      <td>4.4</td>\n",
       "      <td>2.9</td>\n",
       "      <td>1.4</td>\n",
       "      <td>0.2</td>\n",
       "      <td>Iris-setosa</td>\n",
       "    </tr>\n",
       "    <tr>\n",
       "      <th>102</th>\n",
       "      <td>103</td>\n",
       "      <td>7.1</td>\n",
       "      <td>3.0</td>\n",
       "      <td>5.9</td>\n",
       "      <td>2.1</td>\n",
       "      <td>Iris-virginica</td>\n",
       "    </tr>\n",
       "  </tbody>\n",
       "</table>\n",
       "</div>"
      ],
      "text/plain": [
       "      Id  SepalLengthCm  SepalWidthCm  PetalLengthCm  PetalWidthCm  \\\n",
       "24    25            4.8           3.4            1.9           0.2   \n",
       "14    15            5.8           4.0            1.2           0.2   \n",
       "78    79            6.0           2.9            4.5           1.5   \n",
       "8      9            4.4           2.9            1.4           0.2   \n",
       "102  103            7.1           3.0            5.9           2.1   \n",
       "\n",
       "             Species  \n",
       "24       Iris-setosa  \n",
       "14       Iris-setosa  \n",
       "78   Iris-versicolor  \n",
       "8        Iris-setosa  \n",
       "102   Iris-virginica  "
      ]
     },
     "execution_count": 4,
     "metadata": {},
     "output_type": "execute_result"
    }
   ],
   "source": [
    "df = pd.read_csv('D://Iris.csv')\n",
    "df.sample(5)"
   ]
  },
  {
   "cell_type": "code",
   "execution_count": null,
   "id": "915a40fa",
   "metadata": {
    "colab": {
     "base_uri": "https://localhost:8080/"
    },
    "id": "915a40fa",
    "outputId": "f63ff7c0-8b05-4172-da62-05b9ecad5f62"
   },
   "outputs": [
    {
     "data": {
      "text/plain": [
       "(150, 6)"
      ]
     },
     "execution_count": 3,
     "metadata": {},
     "output_type": "execute_result"
    }
   ],
   "source": [
    "## check the shape \n",
    "df.shape"
   ]
  },
  {
   "cell_type": "code",
   "execution_count": 5,
   "id": "a61f0323",
   "metadata": {
    "colab": {
     "base_uri": "https://localhost:8080/"
    },
    "id": "a61f0323",
    "outputId": "c400136b-e968-4ada-a4c1-f6a7c21b49eb"
   },
   "outputs": [
    {
     "name": "stdout",
     "output_type": "stream",
     "text": [
      "<class 'pandas.core.frame.DataFrame'>\n",
      "RangeIndex: 150 entries, 0 to 149\n",
      "Data columns (total 6 columns):\n",
      " #   Column         Non-Null Count  Dtype  \n",
      "---  ------         --------------  -----  \n",
      " 0   Id             150 non-null    int64  \n",
      " 1   SepalLengthCm  150 non-null    float64\n",
      " 2   SepalWidthCm   150 non-null    float64\n",
      " 3   PetalLengthCm  150 non-null    float64\n",
      " 4   PetalWidthCm   150 non-null    float64\n",
      " 5   Species        150 non-null    object \n",
      "dtypes: float64(4), int64(1), object(1)\n",
      "memory usage: 7.2+ KB\n"
     ]
    }
   ],
   "source": [
    "## check basic information of the dataset\n",
    "df.info()"
   ]
  },
  {
   "cell_type": "code",
   "execution_count": 6,
   "id": "Jq5UFxdqUlwY",
   "metadata": {
    "id": "Jq5UFxdqUlwY"
   },
   "outputs": [],
   "source": [
    "## dropping redundant columns\n",
    "df.drop('Id',axis=1,inplace=True)"
   ]
  },
  {
   "cell_type": "markdown",
   "id": "d1d7113c",
   "metadata": {
    "id": "d1d7113c"
   },
   "source": [
    "### Separate the target and independent features."
   ]
  },
  {
   "cell_type": "code",
   "execution_count": 7,
   "id": "222896ff",
   "metadata": {
    "id": "222896ff"
   },
   "outputs": [],
   "source": [
    "## separate target and independent variables\n",
    "X = df.drop('Species',axis=1)\n",
    "y = df['Species']"
   ]
  },
  {
   "cell_type": "markdown",
   "id": "6017f10d",
   "metadata": {
    "id": "6017f10d"
   },
   "source": [
    "### Split the data into train and test"
   ]
  },
  {
   "cell_type": "code",
   "execution_count": 11,
   "id": "6ea3a1ff",
   "metadata": {
    "id": "6ea3a1ff",
    "outputId": "3bd3b569-9642-4f88-e516-0bea8727436c"
   },
   "outputs": [
    {
     "name": "stdout",
     "output_type": "stream",
     "text": [
      "(105, 4) (45, 4)\n",
      "(105,) (45,)\n"
     ]
    }
   ],
   "source": [
    "X_train,X_test,y_train,y_test = train_test_split(X,y,test_size=0.3,random_state=0)\n",
    "\n",
    "print(X_train.shape,X_test.shape)\n",
    "print(y_train.shape,y_test.shape)"
   ]
  },
  {
   "cell_type": "markdown",
   "id": "169797c3",
   "metadata": {
    "id": "169797c3"
   },
   "source": [
    "### Model Building"
   ]
  },
  {
   "cell_type": "code",
   "execution_count": 12,
   "id": "3aecd72c",
   "metadata": {
    "id": "3aecd72c",
    "outputId": "6d33be62-3714-4ca9-d01a-3aab0e3ce1be"
   },
   "outputs": [
    {
     "data": {
      "text/plain": [
       "RandomForestClassifier()"
      ]
     },
     "execution_count": 12,
     "metadata": {},
     "output_type": "execute_result"
    }
   ],
   "source": [
    "## Let us build simple random forest classifier model\n",
    "rf = RandomForestClassifier()\n",
    "rf.fit(X_train,y_train)"
   ]
  },
  {
   "cell_type": "code",
   "execution_count": 15,
   "id": "5f361df4",
   "metadata": {
    "id": "5f361df4",
    "outputId": "bc92aa77-6dd6-402d-b54f-5edb8ea86955"
   },
   "outputs": [
    {
     "name": "stdout",
     "output_type": "stream",
     "text": [
      "accuracy train: 1.0\n",
      "accuarcy test 0.9777777777777777\n"
     ]
    }
   ],
   "source": [
    "## Let us check the accuracy to see hows our model is performing\n",
    "\n",
    "y_train_pred = rf.predict(X_train)\n",
    "y_test_pred = rf.predict(X_test)\n",
    "\n",
    "accuracy_train = accuracy_score(y_train,y_train_pred)\n",
    "accuracy_test = accuracy_score(y_test,y_test_pred)\n",
    "\n",
    "print('accuracy train:',accuracy_train)\n",
    "print('accuarcy test',accuracy_test)"
   ]
  },
  {
   "cell_type": "code",
   "execution_count": 16,
   "id": "006f3434",
   "metadata": {
    "id": "006f3434",
    "outputId": "c4be62ee-93b7-4979-a092-857352826679"
   },
   "outputs": [
    {
     "data": {
      "image/png": "[encoded data removed]",
      "text/plain": [
       "<Figure size 640x480 with 2 Axes>"
      ]
     },
     "metadata": {},
     "output_type": "display_data"
    }
   ],
   "source": [
    "## Confusion matrix using test data\n",
    "from sklearn.metrics import plot_confusion_matrix\n",
    "plot_confusion_matrix(rf, X_test, y_test)  \n",
    "plt.show()"
   ]
  },
  {
   "cell_type": "markdown",
   "id": "ddfb2969",
   "metadata": {
    "id": "ddfb2969"
   },
   "source": [
    "- As we can observe that the model is performing very good.\n",
    "- From the confusion matrix we can see that there is only one misclassification."
   ]
  },
  {
   "cell_type": "markdown",
   "id": "7a08bb49",
   "metadata": {
    "id": "7a08bb49"
   },
   "source": [
    "### Pickling - Creating a pickle file with an extension as .pkl"
   ]
  },
  {
   "cell_type": "code",
   "execution_count": null,
   "id": "a398dd56",
   "metadata": {
    "id": "a398dd56"
   },
   "outputs": [],
   "source": [
    "import pickle\n",
    "# Saving model to disk\n",
    "pickle.dump(rf, open('model.pkl','wb'))\n",
    "\n",
    "# Loading model to compare the results\n",
    "model = pickle.load(open('model.pkl','rb'))"
   ]
  },
  {
   "cell_type": "markdown",
   "id": "ee6ddb81",
   "metadata": {
    "id": "ee6ddb81"
   },
   "source": [
    "### Machine Learning Model Deployment with Flask framework on https://railway.app/"
   ]
  },
  {
   "cell_type": "markdown",
   "id": "080e344f",
   "metadata": {
    "id": "080e344f"
   },
   "source": [
    "#### Now open a `new folder/new project` in `visual studio/pycharm` that should contain the `\"Templates\"`, `\"Static\"` folder and the `\"model.pkl\"` file *make sure you are using a virutal environment and install required packages.*"
   ]
  },
  {
   "cell_type": "markdown",
   "id": "b8b9bd26",
   "metadata": {
    "id": "b8b9bd26"
   },
   "source": [
    "#### Lets create a basic HTML form for our frontend"
   ]
  },
  {
   "cell_type": "markdown",
   "id": "6ef30bdb",
   "metadata": {
    "id": "6ef30bdb"
   },
   "source": [
    "Create a file **index.html** in the templates folder and copy the following code."
   ]
  },
  {
   "cell_type": "code",
   "execution_count": null,
   "id": "RIuVH2Jo6VJ0",
   "metadata": {
    "id": "RIuVH2Jo6VJ0"
   },
   "outputs": [],
   "source": [
    "<!DOCTYPE html>\n",
    "<html >\n",
    "<head>\n",
    "  <meta charset=\"UTF-8\">\n",
    "  <title>ML Deployment</title>\n",
    "  <link href='https://fonts.googleapis.com/css?family=Pacifico' rel='stylesheet' type='text/css'>\n",
    "<link href='https://fonts.googleapis.com/css?family=Arimo' rel='stylesheet' type='text/css'>\n",
    "<link href='https://fonts.googleapis.com/css?family=Hind:300' rel='stylesheet' type='text/css'>\n",
    "<link href='https://fonts.googleapis.com/css?family=Open+Sans+Condensed:300' rel='stylesheet' type='text/css'>\n",
    "<link rel=\"stylesheet\" href=\"{{ url_for('static', filename='style.css') }}\">\n",
    "  \n",
    "</head>\n",
    "<body>\n",
    " <div class=\"login\">\n",
    "\t<h1>Iris Flower Species Classifier</h1>\n",
    "\n",
    "     <!-- Main Input For Receiving Query to our ML -->\n",
    "    <form action=\"{{ url_for('predict')}}\"method=\"post\">\n",
    "    \t \n",
    "    \t<input type=\"text\" name=\"sepal_length\" placeholder=\"Sepal Length (cm)\" required=\"required\" />\n",
    "        <input type=\"text\" name=\"sepal_width\" placeholder=\"Sepal Width (cm)\" required=\"required\" />\n",
    "\t\t<input type=\"text\" name=\"petal_length\" placeholder=\"Petal Length (cm)\" required=\"required\" />\n",
    "\t\t<input type=\"text\" name=\"petal_width\" placeholder=\"Petal Width (cm)\" required=\"required\" />\n",
    "\n",
    "        <button type=\"submit\" class=\"btn btn-primary btn-block btn-large\">Predict</button>\n",
    "    </form>\n",
    "\n",
    "   <br>\n",
    "   <br>\n",
    "   {{ prediction_text }}\n",
    " </div>\n",
    "</body>\n",
    "</html>"
   ]
  },
  {
   "cell_type": "markdown",
   "id": "823fd5bd",
   "metadata": {
    "id": "823fd5bd"
   },
   "source": [
    "#### Lets create a basic css file for our front page"
   ]
  },
  {
   "cell_type": "markdown",
   "id": "ec04df55",
   "metadata": {
    "id": "ec04df55"
   },
   "source": [
    "Create a file **style.css** in the static folder and copy the following code."
   ]
  },
  {
   "cell_type": "code",
   "execution_count": null,
   "id": "f8f42831",
   "metadata": {
    "id": "f8f42831"
   },
   "outputs": [],
   "source": [
    "@import url(https://fonts.googleapis.com/css?family=Open+Sans);\n",
    ".btn { display: inline-block; *display: inline; *zoom: 1; padding: 4px 10px 4px; margin-bottom: 0; font-size: 13px; line-height: 18px; color: #333333; text-align: center;text-shadow: 0 1px 1px rgba(255, 255, 255, 0.75); vertical-align: middle; background-color: #f5f5f5; background-image: -moz-linear-gradient(top, #ffffff, #e6e6e6); background-image: -ms-linear-gradient(top, #ffffff, #e6e6e6); background-image: -webkit-gradient(linear, 0 0, 0 100%, from(#ffffff), to(#e6e6e6)); background-image: -webkit-linear-gradient(top, #ffffff, #e6e6e6); background-image: -o-linear-gradient(top, #ffffff, #e6e6e6); background-image: linear-gradient(top, #ffffff, #e6e6e6); background-repeat: repeat-x; filter: progid:dximagetransform.microsoft.gradient(startColorstr=#ffffff, endColorstr=#e6e6e6, GradientType=0); border-color: #e6e6e6 #e6e6e6 #e6e6e6; border-color: rgba(0, 0, 0, 0.1) rgba(0, 0, 0, 0.1) rgba(0, 0, 0, 0.25); border: 1px solid #e6e6e6; -webkit-border-radius: 4px; -moz-border-radius: 4px; border-radius: 4px; -webkit-box-shadow: inset 0 1px 0 rgba(255, 255, 255, 0.2), 0 1px 2px rgba(0, 0, 0, 0.05); -moz-box-shadow: inset 0 1px 0 rgba(255, 255, 255, 0.2), 0 1px 2px rgba(0, 0, 0, 0.05); box-shadow: inset 0 1px 0 rgba(255, 255, 255, 0.2), 0 1px 2px rgba(0, 0, 0, 0.05); cursor: pointer; *margin-left: .3em; }\n",
    ".btn:hover, .btn:active, .btn.active, .btn.disabled, .btn[disabled] { background-color: #e6e6e6; }\n",
    ".btn-large { padding: 9px 14px; font-size: 15px; line-height: normal; -webkit-border-radius: 5px; -moz-border-radius: 5px; border-radius: 5px; }\n",
    ".btn:hover { color: #333333; text-decoration: none; background-color: #e6e6e6; background-position: 0 -15px; -webkit-transition: background-position 0.1s linear; -moz-transition: background-position 0.1s linear; -ms-transition: background-position 0.1s linear; -o-transition: background-position 0.1s linear; transition: background-position 0.1s linear; }\n",
    ".btn-primary, .btn-primary:hover { text-shadow: 0 -1px 0 rgba(0, 0, 0, 0.25); color: #ffffff; }\n",
    ".btn-primary.active { color: rgba(255, 255, 255, 0.75); }\n",
    ".btn-primary { background-color: #4a77d4; background-image: -moz-linear-gradient(top, #6eb6de, #4a77d4); background-image: -ms-linear-gradient(top, #6eb6de, #4a77d4); background-image: -webkit-gradient(linear, 0 0, 0 100%, from(#6eb6de), to(#4a77d4)); background-image: -webkit-linear-gradient(top, #6eb6de, #4a77d4); background-image: -o-linear-gradient(top, #6eb6de, #4a77d4); background-image: linear-gradient(top, #6eb6de, #4a77d4); background-repeat: repeat-x; filter: progid:dximagetransform.microsoft.gradient(startColorstr=#6eb6de, endColorstr=#4a77d4, GradientType=0);  border: 1px solid #3762bc; text-shadow: 1px 1px 1px rgba(0,0,0,0.4); box-shadow: inset 0 1px 0 rgba(255, 255, 255, 0.2), 0 1px 2px rgba(0, 0, 0, 0.5); }\n",
    ".btn-primary:hover, .btn-primary:active, .btn-primary.active, .btn-primary.disabled, .btn-primary[disabled] { filter: none; background-color: #4a77d4; }\n",
    ".btn-block { width: 100%; display:block; }\n",
    "\n",
    "* { -webkit-box-sizing:border-box; -moz-box-sizing:border-box; -ms-box-sizing:border-box; -o-box-sizing:border-box; box-sizing:border-box; }\n",
    "\n",
    "html { width: 100%; height:100%; overflow:hidden; }\n",
    "\n",
    "body { \n",
    "\twidth: 100%;\n",
    "\theight:100%;\n",
    "\tfont-family: 'Open Sans', sans-serif;\n",
    "\tbackground: #092756;\n",
    "\tcolor: #fff;\n",
    "\tfont-size: 18px;\n",
    "\ttext-align:center;\n",
    "\tletter-spacing:1.2px;\n",
    "\tbackground: -moz-radial-gradient(0% 100%, ellipse cover, rgba(104,128,138,.4) 10%,rgba(138,114,76,0) 40%),-moz-linear-gradient(top,  rgba(57,173,219,.25) 0%, rgba(42,60,87,.4) 100%), -moz-linear-gradient(-45deg,  #670d10 0%, #092756 100%);\n",
    "\tbackground: -webkit-radial-gradient(0% 100%, ellipse cover, rgba(104,128,138,.4) 10%,rgba(138,114,76,0) 40%), -webkit-linear-gradient(top,  rgba(57,173,219,.25) 0%,rgba(42,60,87,.4) 100%), -webkit-linear-gradient(-45deg,  #670d10 0%,#092756 100%);\n",
    "\tbackground: -o-radial-gradient(0% 100%, ellipse cover, rgba(104,128,138,.4) 10%,rgba(138,114,76,0) 40%), -o-linear-gradient(top,  rgba(57,173,219,.25) 0%,rgba(42,60,87,.4) 100%), -o-linear-gradient(-45deg,  #670d10 0%,#092756 100%);\n",
    "\tbackground: -ms-radial-gradient(0% 100%, ellipse cover, rgba(104,128,138,.4) 10%,rgba(138,114,76,0) 40%), -ms-linear-gradient(top,  rgba(57,173,219,.25) 0%,rgba(42,60,87,.4) 100%), -ms-linear-gradient(-45deg,  #670d10 0%,#092756 100%);\n",
    "\tbackground: -webkit-radial-gradient(0% 100%, ellipse cover, rgba(104,128,138,.4) 10%,rgba(138,114,76,0) 40%), linear-gradient(to bottom,  rgba(57,173,219,.25) 0%,rgba(42,60,87,.4) 100%), linear-gradient(135deg,  #670d10 0%,#092756 100%);\n",
    "\tfilter: progid:DXImageTransform.Microsoft.gradient( startColorstr='#3E1D6D', endColorstr='#092756',GradientType=1 );\n",
    "\n",
    "}\n",
    ".login { \n",
    "\tposition: absolute;\n",
    "\ttop: 40%;\n",
    "\tleft: 50%;\n",
    "\tmargin: -150px 0 0 -150px;\n",
    "\twidth:400px;\n",
    "\theight:400px;\n",
    "}\n",
    "\n",
    ".login h1 { color: #fff; text-shadow: 0 0 10px rgba(0,0,0,0.3); letter-spacing:1px; text-align:center; }\n",
    "\n",
    "input { \n",
    "\twidth: 100%; \n",
    "\tmargin-bottom: 10px; \n",
    "\tbackground: rgba(0,0,0,0.3);\n",
    "\tborder: none;\n",
    "\toutline: none;\n",
    "\tpadding: 10px;\n",
    "\tfont-size: 13px;\n",
    "\tcolor: #fff;\n",
    "\ttext-shadow: 1px 1px 1px rgba(0,0,0,0.3);\n",
    "\tborder: 1px solid rgba(0,0,0,0.3);\n",
    "\tborder-radius: 4px;\n",
    "\tbox-shadow: inset 0 -5px 45px rgba(100,100,100,0.2), 0 1px 1px rgba(255,255,255,0.2);\n",
    "\t-webkit-transition: box-shadow .5s ease;\n",
    "\t-moz-transition: box-shadow .5s ease;\n",
    "\t-o-transition: box-shadow .5s ease;\n",
    "\t-ms-transition: box-shadow .5s ease;\n",
    "\ttransition: box-shadow .5s ease;\n",
    "}\n",
    "input:focus { box-shadow: inset 0 -5px 45px rgba(100,100,100,0.4), 0 1px 1px rgba(255,255,255,0.2); }"
   ]
  },
  {
   "cell_type": "markdown",
   "id": "48829415",
   "metadata": {
    "id": "48829415"
   },
   "source": [
    "Create a file **app.py** and copy the following code"
   ]
  },
  {
   "cell_type": "code",
   "execution_count": null,
   "id": "9a0919d0",
   "metadata": {
    "id": "9a0919d0"
   },
   "outputs": [],
   "source": [
    "# importing necessary libraries and functions\n",
    "import numpy as np\n",
    "from flask import Flask, request, jsonify, render_template\n",
    "import pickle\n",
    "\n",
    "app = Flask(__name__) #Initialize the flask App\n",
    "model = pickle.load(open('model.pkl', 'rb')) # loading the trained model\n",
    "\n",
    "@app.route('/') # Homepage\n",
    "def home():\n",
    "    return render_template('index.html')\n",
    "\n",
    "@app.route('/predict',methods=['POST'])\n",
    "def predict():\n",
    "    '''\n",
    "    For rendering results on HTML GUI\n",
    "    '''\n",
    "    # retrieving values from form\n",
    "    input_features = [float(x) for x in request.form.values()]\n",
    "    final_features = [np.array(input_features)]\n",
    "    prediction = model.predict(final_features) # making prediction\n",
    "    return render_template('index.html', prediction_text='Predicted Class: {}'.format(prediction)) # rendering the predicted result\n",
    "\n",
    "if __name__ == \"__main__\":\n",
    "    app.run(debug=True)"
   ]
  },
  {
   "cell_type": "markdown",
   "id": "c8773347",
   "metadata": {
    "id": "c8773347"
   },
   "source": [
    "### Deployment of the Application on Railway.app"
   ]
  },
  {
   "cell_type": "markdown",
   "id": "c1187db4",
   "metadata": {
    "id": "c1187db4"
   },
   "source": [
    "### Setup"
   ]
  },
  {
   "cell_type": "markdown",
   "id": "8b641aeb",
   "metadata": {
    "id": "8b641aeb"
   },
   "source": [
    "### Github: \n",
    "- Create a new githib repository and upload your project into the repository."
   ]
  },
  {
   "cell_type": "markdown",
   "id": "c01e8e2d",
   "metadata": {
    "id": "c01e8e2d"
   },
   "source": [
    "### Lets deploy our application on Railway.app"
   ]
  },
  {
   "cell_type": "markdown",
   "id": "4fcd9ef5",
   "metadata": {
    "id": "4fcd9ef5"
   },
   "source": [
    "#### Above we performed the following steps:\n",
    "- Created a newfolder/new project in vscode/pycharm.\n",
    "- Created virtual environment and installed the required packages.\n",
    "- Created templates, static, app.py (once the app is running in your local machine, lets proceed with deployment)\n",
    "\n",
    "#### Some Important files needs to be created before going for the deployment steps.\n",
    "\n",
    "- Create a Procfile (Procfile is a mechanism for declaring what commands are run by your application’s dynos on the platform.)\n",
    "    - <font color=blue>**echo web: >Procfile**</font> (creates a procfile)\n",
    "    - `web: gunicorn  app:app`(paste this in the procfile)\n",
    "                         \n",
    "                  \n",
    "- Create a runtime.txt file (need to tell what type of python need to be used)\n",
    "   - `python-3.10.5` (pass your version of the python in the file)\n",
    "       \n",
    "       \n",
    "- Create a requirements.txt file\n",
    "   - <font color=blue>**pip freeze >requirements.txt**</font>\n",
    "\n",
    "\n",
    "#### Follow the below steps to deploy your application on Railway.app\n",
    "- First we need to Signup to Railway.app using you Google account/Github account and verify your account using you Github account.\n",
    "    - <font color=blue>**https://railway.app/**</font>.\n",
    "    \n",
    "    \n",
    "- Create a Railway project and deploy the application\n",
    "    - <font color=blue>**Create a project by clicking on \"Start a new project\"**</font>\n",
    "    - <font color=blue>**From the dropdown choose \"deploy from github repo\" and choose the project from Github**</font>\n",
    "    - <font color=blue>**Once the Github project is selected click on \"Deploy now\"**</font> (it will take some time to deploy the application.)\n",
    "    - <font color=blue>**Now application is deployed. Under the \"Deployments\" section a url will be created, navigate to the url and test your deployed application.**</font>\n",
    "    \n",
    "       \n",
    "- sample application's url - https://mentor-casestudy-production.up.railway.app/\n",
    "    "
   ]
  },
  {
   "cell_type": "markdown",
   "id": "39512434",
   "metadata": {
    "id": "39512434"
   },
   "source": [
    "-------\n",
    "## Happy Learning:)\n",
    "-----"
   ]
  }
 ],
 "metadata": {
  "colab": {
   "provenance": []
  },
  "kernelspec": {
   "display_name": "Python 3 (ipykernel)",
   "language": "python",
   "name": "python3"
  },
  "language_info": {
   "codemirror_mode": {
    "name": "ipython",
    "version": 3
   },
   "file_extension": ".py",
   "mimetype": "text/x-python",
   "name": "python",
   "nbconvert_exporter": "python",
   "pygments_lexer": "ipython3",
   "version": "3.9.13"
  }
 },
 "nbformat": 4,
 "nbformat_minor": 5
}
