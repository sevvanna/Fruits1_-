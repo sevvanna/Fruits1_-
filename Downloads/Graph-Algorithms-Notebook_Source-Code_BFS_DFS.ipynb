{
 "cells": [
  {
   "cell_type": "markdown",
   "metadata": {},
   "source": [
    "<img src=\"http://drive.google.com/uc?export=view&id=1JzM1Jig5KAOCvU4tIf2t66B3gd1uy1rG\" width=500px>\n",
    "\n",
    "Proprietary content. © Great Learning. All Rights Reserved. Unauthorized use or distribution prohibited."
   ]
  },
  {
   "cell_type": "markdown",
   "metadata": {},
   "source": [
    "# <font color='blue'> Table Of Contents </font>\n",
    "\n",
    "## <font color='blue'> adjacency_list_graph.py </font>\n",
    "\n",
    "## <font color='blue'> graph_traversal.py </font>\n",
    "\n",
    "## <font color='blue'> graph_client.py </font>"
   ]
  },
  {
   "cell_type": "markdown",
   "metadata": {},
   "source": [
    "# <font color='blue'> adjacency_list_graph.py </font>"
   ]
  },
  {
   "cell_type": "code",
   "execution_count": 1,
   "metadata": {},
   "outputs": [],
   "source": [
    "class AdjacencyListGraph:\n",
    "    def __init__(self, num_vertices):\n",
    "        self._num_vertices = num_vertices\n",
    "\n",
    "        self.adjacency_list = []\n",
    "\n",
    "        for vertex in range(0, self.num_vertices):\n",
    "            self.adjacency_list.append([])\n",
    "\n",
    "    def __str__(self):\n",
    "\n",
    "        adj_string = f'The Adjacency List Representation of the Graph:\\n\\n'\n",
    "\n",
    "        for vertex in range(0, self.num_vertices):\n",
    "            adj_string += f'Adjacency List for vertex {vertex} :: '\n",
    "\n",
    "            adj_list = self.adjacency_list[vertex]\n",
    "            adj_string += ' => '.join([f'{vert}' for vert in adj_list])\n",
    "\n",
    "            adj_string += '\\n\\n'\n",
    "            \n",
    "        return adj_string\n",
    "\n",
    "    @property\n",
    "    def num_vertices(self):\n",
    "        return self._num_vertices\n",
    "\n",
    "    def add_edge(self, v, w):\n",
    "        self.adjacency_list[v].append(w)\n",
    "        self.adjacency_list[w].append(v)\n",
    "\n",
    "    def adjacent_to(self, vertex):\n",
    "        return self.adjacency_list[vertex]\n",
    "\n",
    "    def num_edges(self):\n",
    "        num_edges = 0\n",
    "\n",
    "        for vertex in range(0, self.num_vertices):\n",
    "            num_edges = num_edges + len(self.adjacency_list[vertex])\n",
    "\n",
    "        return num_edges // 2\n",
    "\n",
    "    def degree(self, vertex):\n",
    "        return len(self.adjacency_list[vertex])\n"
   ]
  },
  {
   "cell_type": "markdown",
   "metadata": {},
   "source": [
    "# <font color='blue'> graph_traversal.py </font>"
   ]
  },
  {
   "cell_type": "code",
   "execution_count": 3,
   "metadata": {},
   "outputs": [
    {
     "ename": "ModuleNotFoundError",
     "evalue": "No module named 'AdjacencyListGraph'",
     "output_type": "error",
     "traceback": [
      "\u001b[1;31m---------------------------------------------------------------------------\u001b[0m",
      "\u001b[1;31mModuleNotFoundError\u001b[0m                       Traceback (most recent call last)",
      "\u001b[1;32m<ipython-input-3-8fcfa4cb4061>\u001b[0m in \u001b[0;36m<module>\u001b[1;34m\u001b[0m\n\u001b[1;32m----> 1\u001b[1;33m \u001b[1;32mfrom\u001b[0m \u001b[0mAdjacencyListGraph\u001b[0m \u001b[1;32mimport\u001b[0m \u001b[1;33m*\u001b[0m\u001b[1;33m\u001b[0m\u001b[1;33m\u001b[0m\u001b[0m\n\u001b[0m\u001b[0;32m      2\u001b[0m \u001b[1;33m\u001b[0m\u001b[0m\n\u001b[0;32m      3\u001b[0m \u001b[1;33m\u001b[0m\u001b[0m\n\u001b[0;32m      4\u001b[0m \u001b[1;32mclass\u001b[0m \u001b[0mPathTraversal\u001b[0m\u001b[1;33m:\u001b[0m\u001b[1;33m\u001b[0m\u001b[1;33m\u001b[0m\u001b[0m\n\u001b[0;32m      5\u001b[0m     \u001b[1;32mdef\u001b[0m \u001b[0m__init__\u001b[0m\u001b[1;33m(\u001b[0m\u001b[0mself\u001b[0m\u001b[1;33m,\u001b[0m \u001b[0mgraph\u001b[0m\u001b[1;33m,\u001b[0m \u001b[0msource\u001b[0m\u001b[1;33m)\u001b[0m\u001b[1;33m:\u001b[0m\u001b[1;33m\u001b[0m\u001b[1;33m\u001b[0m\u001b[0m\n",
      "\u001b[1;31mModuleNotFoundError\u001b[0m: No module named 'AdjacencyListGraph'"
     ]
    }
   ],
   "source": [
    "from adjacency_list_graph import *\n",
    "\n",
    "\n",
    "class PathTraversal:\n",
    "    def __init__(self, graph, source):\n",
    "        self.graph = graph\n",
    "        self.source = source\n",
    "\n",
    "        n = self.graph.num_vertices\n",
    "\n",
    "        self.marked = []\n",
    "        self.marked = [False for vertex in range(0, n)]\n",
    "        \n",
    "        e = n * (n-1) // 2\n",
    "        self.edge_to = []\n",
    "        self.edge_to = [-1 for edge_to in range(0, e)]\n",
    "\n",
    "    def has_path_to(self, vertex):\n",
    "        return self.marked[vertex]\n",
    "\n",
    "    def path_to(self, vertex):\n",
    "        if not self.has_path_to(vertex):\n",
    "            return None\n",
    "\n",
    "        # Use a stack to store vertices on the path\n",
    "        path_stack = []\n",
    "        vert = vertex\n",
    "\n",
    "        while vert != self.source:\n",
    "            path_stack.append(vert)\n",
    "            vert = self.edge_to[vert]\n",
    "\n",
    "        path_stack.append(self.source)\n",
    "\n",
    "        path_vertices = []\n",
    "        size = len(path_stack)\n",
    "\n",
    "        for i in range(0, size):\n",
    "            path_vertices.append(path_stack.pop())\n",
    "\n",
    "        self.print_path(vertex, path_vertices)\n",
    "\n",
    "    def print_path(self, vertex, vertex_list):\n",
    "        prefix = f'The path to vertex {vertex} from the Source {self.source} is: '\n",
    "        \n",
    "        path_string = ' -> '.join([f'{vertex}' for vertex in vertex_list])\n",
    "\n",
    "        full_string = prefix + path_string + '\\n'\n",
    "        print(full_string)\n",
    "\n",
    "\n",
    "class BreadthFirstTraversal(PathTraversal):\n",
    "    def __init__(self, graph, source):\n",
    "        super().__init__(graph, source)\n",
    "\n",
    "    def bfs(self):\n",
    "        print(f'Invoking Breadth-First Search at vertex: {self.source}\\n')\n",
    "        \n",
    "        vertex_queue = []\n",
    "        vertex_queue.append(self.source)\n",
    "        self.marked[self.source] = True\n",
    "\n",
    "        while len(vertex_queue) != 0:\n",
    "            vertex = vertex_queue.pop(0)\n",
    "            adjacent_vertices = self.graph.adjacent_to(vertex)\n",
    "\n",
    "            for adj in adjacent_vertices:\n",
    "                if not self.marked[adj]:\n",
    "                    vertex_queue.append(adj)\n",
    "                    self.marked[adj] = True\n",
    "                    self.edge_to[adj] = vertex\n",
    "\n",
    "        print('Breadth-First Search Completed!\\n')\n",
    "\n",
    "\n",
    "class DepthFirstTraversal(PathTraversal):\n",
    "    def __init__(self, graph, source):\n",
    "        super().__init__(graph, source)\n",
    "\n",
    "    def dfs(self, vertex):\n",
    "        print(f'Invoking Depth-First Search at vertex: {vertex}\\n')\n",
    "        \n",
    "        self.marked[vertex] = True\n",
    "\n",
    "        adjacent_vertices = self.graph.adjacent_to(vertex)\n",
    "\n",
    "        for adj in adjacent_vertices:\n",
    "            if not self.marked[adj]:\n",
    "                self.dfs(adj)\n",
    "                self.edge_to[adj] = vertex\n",
    "\n",
    "        if vertex == self.source:\n",
    "            print('Depth-First Search Completed!\\n')\n"
   ]
  },
  {
   "cell_type": "markdown",
   "metadata": {},
   "source": [
    "# <font color='blue'> graph_client.py </font>"
   ]
  },
  {
   "cell_type": "code",
   "execution_count": 10,
   "metadata": {},
   "outputs": [
    {
     "ename": "ModuleNotFoundError",
     "evalue": "No module named 'graph_traversal'",
     "output_type": "error",
     "traceback": [
      "\u001b[1;31m---------------------------------------------------------------------------\u001b[0m",
      "\u001b[1;31mModuleNotFoundError\u001b[0m                       Traceback (most recent call last)",
      "\u001b[1;32m<ipython-input-10-58e130b2c976>\u001b[0m in \u001b[0;36m<module>\u001b[1;34m\u001b[0m\n\u001b[1;32m----> 1\u001b[1;33m \u001b[1;32mfrom\u001b[0m \u001b[0mgraph_traversal\u001b[0m \u001b[1;32mimport\u001b[0m \u001b[1;33m*\u001b[0m\u001b[1;33m\u001b[0m\u001b[1;33m\u001b[0m\u001b[0m\n\u001b[0m\u001b[0;32m      2\u001b[0m \u001b[1;33m\u001b[0m\u001b[0m\n\u001b[0;32m      3\u001b[0m \u001b[1;33m\u001b[0m\u001b[0m\n\u001b[0;32m      4\u001b[0m \u001b[1;32mif\u001b[0m \u001b[0m__name__\u001b[0m \u001b[1;33m==\u001b[0m \u001b[1;34m'__main__'\u001b[0m\u001b[1;33m:\u001b[0m\u001b[1;33m\u001b[0m\u001b[1;33m\u001b[0m\u001b[0m\n\u001b[0;32m      5\u001b[0m     \u001b[0mnum_vertices\u001b[0m \u001b[1;33m=\u001b[0m \u001b[1;36m6\u001b[0m\u001b[1;33m\u001b[0m\u001b[1;33m\u001b[0m\u001b[0m\n",
      "\u001b[1;31mModuleNotFoundError\u001b[0m: No module named 'graph_traversal'"
     ]
    }
   ],
   "source": [
    "from graph_traversal import *\n",
    "\n",
    "\n",
    "if __name__ == '__main__':\n",
    "    num_vertices = 6\n",
    "    graph_vertices = [vertex for vertex in range(0, num_vertices)]\n",
    "    graph_edges = [(0,1), (0,3), (0,4), (1,2), (1,4), (1,5), (3,5), (4,5)]\n",
    "    source = 0\n",
    "\n",
    "    graph = AdjacencyListGraph(num_vertices)\n",
    "    for edge in graph_edges:\n",
    "        graph.add_edge(edge[0], edge[1])\n",
    "\n",
    "    print('\\n*************************************************************************************\\n')\n",
    "    print(graph)\n",
    "\n",
    "    bfs_traversal = BreadthFirstTraversal(graph, source)\n",
    "    \n",
    "    print('\\n*************************************************************************************\\n')\n",
    "    bfs_traversal.bfs()\n",
    "\n",
    "    print('*************************************************************************************\\n')\n",
    "    for vertex in graph_vertices:\n",
    "        if bfs_traversal.has_path_to(vertex):\n",
    "            bfs_traversal.path_to(vertex)\n",
    "        else:\n",
    "            print('No path from {source} to {vertex} in the graph by BFS traversal')\n",
    "\n",
    "    dfs_traversal = DepthFirstTraversal(graph, source)\n",
    "\n",
    "    print('*************************************************************************************\\n')\n",
    "    dfs_traversal.dfs(source)\n",
    "\n",
    "    print('*************************************************************************************\\n')\n",
    "    for vertex in graph_vertices:\n",
    "        if dfs_traversal.has_path_to(vertex):\n",
    "            dfs_traversal.path_to(vertex)\n",
    "        else:\n",
    "            print('No path from {source} to {vertex} in the graph by DFS traversal')\n"
   ]
  },
  {
   "cell_type": "code",
   "execution_count": null,
   "metadata": {},
   "outputs": [],
   "source": []
  }
 ],
 "metadata": {
  "kernelspec": {
   "display_name": "Python 3",
   "language": "python",
   "name": "python3"
  },
  "language_info": {
   "codemirror_mode": {
    "name": "ipython",
    "version": 3
   },
   "file_extension": ".py",
   "mimetype": "text/x-python",
   "name": "python",
   "nbconvert_exporter": "python",
   "pygments_lexer": "ipython3",
   "version": "3.8.8"
  }
 },
 "nbformat": 4,
 "nbformat_minor": 2
}
