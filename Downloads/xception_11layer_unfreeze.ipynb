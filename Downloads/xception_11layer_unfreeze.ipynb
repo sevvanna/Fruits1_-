{
  "metadata": {
    "kernelspec": {
      "language": "python",
      "display_name": "Python 3",
      "name": "python3"
    },
    "language_info": {
      "name": "python",
      "version": "3.7.12",
      "mimetype": "text/x-python",
      "codemirror_mode": {
        "name": "ipython",
        "version": 3
      },
      "pygments_lexer": "ipython3",
      "nbconvert_exporter": "python",
      "file_extension": ".py"
    },
    "colab": {
      "provenance": []
    }
  },
  "nbformat_minor": 0,
  "nbformat": 4,
  "cells": [
    {
      "cell_type": "code",
      "source": [
        "pip install pydicom"
      ],
      "metadata": {
        "colab": {
          "base_uri": "https://localhost:8080/"
        },
        "id": "Dnpe3BWVXzHd",
        "outputId": "0bb1e042-e052-4ab9-937e-50f612c3c5da"
      },
      "execution_count": 2,
      "outputs": [
        {
          "output_type": "stream",
          "name": "stdout",
          "text": [
            "Looking in indexes: https://pypi.org/simple, https://us-python.pkg.dev/colab-wheels/public/simple/\n",
            "Collecting pydicom\n",
            "  Downloading pydicom-2.3.1-py3-none-any.whl (2.0 MB)\n",
            "\u001b[2K     \u001b[90m━━━━━━━━━━━━━━━━━━━━━━━━━━━━━━━━━━━━━━━━\u001b[0m \u001b[32m2.0/2.0 MB\u001b[0m \u001b[31m15.9 MB/s\u001b[0m eta \u001b[36m0:00:00\u001b[0m\n",
            "\u001b[?25hInstalling collected packages: pydicom\n",
            "Successfully installed pydicom-2.3.1\n"
          ]
        }
      ]
    },
    {
      "cell_type": "code",
      "source": [
        "# DATA MANIPULATION\n",
        "import numpy as np  \n",
        "import pandas as pd \n",
        "\n",
        "# VISUALIZATION\n",
        "import matplotlib.pyplot as plt\n",
        "%matplotlib inline\n",
        "import seaborn as sns\n",
        "\n",
        "# MISC\n",
        "import os\n",
        "import cv2\n",
        "import warnings\n",
        "warnings.filterwarnings('ignore')\n",
        "# import dicom to read the images\n",
        "import pydicom as dicom"
      ],
      "metadata": {
        "execution": {
          "iopub.status.busy": "2023-05-11T10:41:21.957568Z",
          "iopub.execute_input": "2023-05-11T10:41:21.958642Z",
          "iopub.status.idle": "2023-05-11T10:41:21.980270Z",
          "shell.execute_reply.started": "2023-05-11T10:41:21.958601Z",
          "shell.execute_reply": "2023-05-11T10:41:21.979092Z"
        },
        "trusted": true,
        "id": "LUJhPk_eWIZL"
      },
      "execution_count": 3,
      "outputs": []
    },
    {
      "cell_type": "code",
      "source": [
        "df1 = pd.read_csv('/kaggle/input/rsna-pneumonia-detection-challenge/stage_2_detailed_class_info.csv')"
      ],
      "metadata": {
        "execution": {
          "iopub.status.busy": "2023-05-11T10:41:21.985395Z",
          "iopub.execute_input": "2023-05-11T10:41:21.986026Z",
          "iopub.status.idle": "2023-05-11T10:41:22.035164Z",
          "shell.execute_reply.started": "2023-05-11T10:41:21.985977Z",
          "shell.execute_reply": "2023-05-11T10:41:22.034158Z"
        },
        "trusted": true,
        "colab": {
          "base_uri": "https://localhost:8080/",
          "height": 372
        },
        "id": "UlD-_bElWIZO",
        "outputId": "fd8959ab-5ad9-4794-d174-6ee2a10a81d3"
      },
      "execution_count": 4,
      "outputs": [
        {
          "output_type": "error",
          "ename": "FileNotFoundError",
          "evalue": "ignored",
          "traceback": [
            "\u001b[0;31m---------------------------------------------------------------------------\u001b[0m",
            "\u001b[0;31mFileNotFoundError\u001b[0m                         Traceback (most recent call last)",
            "\u001b[0;32m<ipython-input-4-0c3b662341ce>\u001b[0m in \u001b[0;36m<cell line: 1>\u001b[0;34m()\u001b[0m\n\u001b[0;32m----> 1\u001b[0;31m \u001b[0mdf1\u001b[0m \u001b[0;34m=\u001b[0m \u001b[0mpd\u001b[0m\u001b[0;34m.\u001b[0m\u001b[0mread_csv\u001b[0m\u001b[0;34m(\u001b[0m\u001b[0;34m'/kaggle/input/rsna-pneumonia-detection-challenge/stage_2_detailed_class_info.csv'\u001b[0m\u001b[0;34m)\u001b[0m\u001b[0;34m\u001b[0m\u001b[0;34m\u001b[0m\u001b[0m\n\u001b[0m",
            "\u001b[0;32m/usr/local/lib/python3.10/dist-packages/pandas/util/_decorators.py\u001b[0m in \u001b[0;36mwrapper\u001b[0;34m(*args, **kwargs)\u001b[0m\n\u001b[1;32m    209\u001b[0m                 \u001b[0;32melse\u001b[0m\u001b[0;34m:\u001b[0m\u001b[0;34m\u001b[0m\u001b[0;34m\u001b[0m\u001b[0m\n\u001b[1;32m    210\u001b[0m                     \u001b[0mkwargs\u001b[0m\u001b[0;34m[\u001b[0m\u001b[0mnew_arg_name\u001b[0m\u001b[0;34m]\u001b[0m \u001b[0;34m=\u001b[0m \u001b[0mnew_arg_value\u001b[0m\u001b[0;34m\u001b[0m\u001b[0;34m\u001b[0m\u001b[0m\n\u001b[0;32m--> 211\u001b[0;31m             \u001b[0;32mreturn\u001b[0m \u001b[0mfunc\u001b[0m\u001b[0;34m(\u001b[0m\u001b[0;34m*\u001b[0m\u001b[0margs\u001b[0m\u001b[0;34m,\u001b[0m \u001b[0;34m**\u001b[0m\u001b[0mkwargs\u001b[0m\u001b[0;34m)\u001b[0m\u001b[0;34m\u001b[0m\u001b[0;34m\u001b[0m\u001b[0m\n\u001b[0m\u001b[1;32m    212\u001b[0m \u001b[0;34m\u001b[0m\u001b[0m\n\u001b[1;32m    213\u001b[0m         \u001b[0;32mreturn\u001b[0m \u001b[0mcast\u001b[0m\u001b[0;34m(\u001b[0m\u001b[0mF\u001b[0m\u001b[0;34m,\u001b[0m \u001b[0mwrapper\u001b[0m\u001b[0;34m)\u001b[0m\u001b[0;34m\u001b[0m\u001b[0;34m\u001b[0m\u001b[0m\n",
            "\u001b[0;32m/usr/local/lib/python3.10/dist-packages/pandas/util/_decorators.py\u001b[0m in \u001b[0;36mwrapper\u001b[0;34m(*args, **kwargs)\u001b[0m\n\u001b[1;32m    329\u001b[0m                     \u001b[0mstacklevel\u001b[0m\u001b[0;34m=\u001b[0m\u001b[0mfind_stack_level\u001b[0m\u001b[0;34m(\u001b[0m\u001b[0;34m)\u001b[0m\u001b[0;34m,\u001b[0m\u001b[0;34m\u001b[0m\u001b[0;34m\u001b[0m\u001b[0m\n\u001b[1;32m    330\u001b[0m                 )\n\u001b[0;32m--> 331\u001b[0;31m             \u001b[0;32mreturn\u001b[0m \u001b[0mfunc\u001b[0m\u001b[0;34m(\u001b[0m\u001b[0;34m*\u001b[0m\u001b[0margs\u001b[0m\u001b[0;34m,\u001b[0m \u001b[0;34m**\u001b[0m\u001b[0mkwargs\u001b[0m\u001b[0;34m)\u001b[0m\u001b[0;34m\u001b[0m\u001b[0;34m\u001b[0m\u001b[0m\n\u001b[0m\u001b[1;32m    332\u001b[0m \u001b[0;34m\u001b[0m\u001b[0m\n\u001b[1;32m    333\u001b[0m         \u001b[0;31m# error: \"Callable[[VarArg(Any), KwArg(Any)], Any]\" has no\u001b[0m\u001b[0;34m\u001b[0m\u001b[0;34m\u001b[0m\u001b[0m\n",
            "\u001b[0;32m/usr/local/lib/python3.10/dist-packages/pandas/io/parsers/readers.py\u001b[0m in \u001b[0;36mread_csv\u001b[0;34m(filepath_or_buffer, sep, delimiter, header, names, index_col, usecols, squeeze, prefix, mangle_dupe_cols, dtype, engine, converters, true_values, false_values, skipinitialspace, skiprows, skipfooter, nrows, na_values, keep_default_na, na_filter, verbose, skip_blank_lines, parse_dates, infer_datetime_format, keep_date_col, date_parser, dayfirst, cache_dates, iterator, chunksize, compression, thousands, decimal, lineterminator, quotechar, quoting, doublequote, escapechar, comment, encoding, encoding_errors, dialect, error_bad_lines, warn_bad_lines, on_bad_lines, delim_whitespace, low_memory, memory_map, float_precision, storage_options)\u001b[0m\n\u001b[1;32m    948\u001b[0m     \u001b[0mkwds\u001b[0m\u001b[0;34m.\u001b[0m\u001b[0mupdate\u001b[0m\u001b[0;34m(\u001b[0m\u001b[0mkwds_defaults\u001b[0m\u001b[0;34m)\u001b[0m\u001b[0;34m\u001b[0m\u001b[0;34m\u001b[0m\u001b[0m\n\u001b[1;32m    949\u001b[0m \u001b[0;34m\u001b[0m\u001b[0m\n\u001b[0;32m--> 950\u001b[0;31m     \u001b[0;32mreturn\u001b[0m \u001b[0m_read\u001b[0m\u001b[0;34m(\u001b[0m\u001b[0mfilepath_or_buffer\u001b[0m\u001b[0;34m,\u001b[0m \u001b[0mkwds\u001b[0m\u001b[0;34m)\u001b[0m\u001b[0;34m\u001b[0m\u001b[0;34m\u001b[0m\u001b[0m\n\u001b[0m\u001b[1;32m    951\u001b[0m \u001b[0;34m\u001b[0m\u001b[0m\n\u001b[1;32m    952\u001b[0m \u001b[0;34m\u001b[0m\u001b[0m\n",
            "\u001b[0;32m/usr/local/lib/python3.10/dist-packages/pandas/io/parsers/readers.py\u001b[0m in \u001b[0;36m_read\u001b[0;34m(filepath_or_buffer, kwds)\u001b[0m\n\u001b[1;32m    603\u001b[0m \u001b[0;34m\u001b[0m\u001b[0m\n\u001b[1;32m    604\u001b[0m     \u001b[0;31m# Create the parser.\u001b[0m\u001b[0;34m\u001b[0m\u001b[0;34m\u001b[0m\u001b[0m\n\u001b[0;32m--> 605\u001b[0;31m     \u001b[0mparser\u001b[0m \u001b[0;34m=\u001b[0m \u001b[0mTextFileReader\u001b[0m\u001b[0;34m(\u001b[0m\u001b[0mfilepath_or_buffer\u001b[0m\u001b[0;34m,\u001b[0m \u001b[0;34m**\u001b[0m\u001b[0mkwds\u001b[0m\u001b[0;34m)\u001b[0m\u001b[0;34m\u001b[0m\u001b[0;34m\u001b[0m\u001b[0m\n\u001b[0m\u001b[1;32m    606\u001b[0m \u001b[0;34m\u001b[0m\u001b[0m\n\u001b[1;32m    607\u001b[0m     \u001b[0;32mif\u001b[0m \u001b[0mchunksize\u001b[0m \u001b[0;32mor\u001b[0m \u001b[0miterator\u001b[0m\u001b[0;34m:\u001b[0m\u001b[0;34m\u001b[0m\u001b[0;34m\u001b[0m\u001b[0m\n",
            "\u001b[0;32m/usr/local/lib/python3.10/dist-packages/pandas/io/parsers/readers.py\u001b[0m in \u001b[0;36m__init__\u001b[0;34m(self, f, engine, **kwds)\u001b[0m\n\u001b[1;32m   1440\u001b[0m \u001b[0;34m\u001b[0m\u001b[0m\n\u001b[1;32m   1441\u001b[0m         \u001b[0mself\u001b[0m\u001b[0;34m.\u001b[0m\u001b[0mhandles\u001b[0m\u001b[0;34m:\u001b[0m \u001b[0mIOHandles\u001b[0m \u001b[0;34m|\u001b[0m \u001b[0;32mNone\u001b[0m \u001b[0;34m=\u001b[0m \u001b[0;32mNone\u001b[0m\u001b[0;34m\u001b[0m\u001b[0;34m\u001b[0m\u001b[0m\n\u001b[0;32m-> 1442\u001b[0;31m         \u001b[0mself\u001b[0m\u001b[0;34m.\u001b[0m\u001b[0m_engine\u001b[0m \u001b[0;34m=\u001b[0m \u001b[0mself\u001b[0m\u001b[0;34m.\u001b[0m\u001b[0m_make_engine\u001b[0m\u001b[0;34m(\u001b[0m\u001b[0mf\u001b[0m\u001b[0;34m,\u001b[0m \u001b[0mself\u001b[0m\u001b[0;34m.\u001b[0m\u001b[0mengine\u001b[0m\u001b[0;34m)\u001b[0m\u001b[0;34m\u001b[0m\u001b[0;34m\u001b[0m\u001b[0m\n\u001b[0m\u001b[1;32m   1443\u001b[0m \u001b[0;34m\u001b[0m\u001b[0m\n\u001b[1;32m   1444\u001b[0m     \u001b[0;32mdef\u001b[0m \u001b[0mclose\u001b[0m\u001b[0;34m(\u001b[0m\u001b[0mself\u001b[0m\u001b[0;34m)\u001b[0m \u001b[0;34m->\u001b[0m \u001b[0;32mNone\u001b[0m\u001b[0;34m:\u001b[0m\u001b[0;34m\u001b[0m\u001b[0;34m\u001b[0m\u001b[0m\n",
            "\u001b[0;32m/usr/local/lib/python3.10/dist-packages/pandas/io/parsers/readers.py\u001b[0m in \u001b[0;36m_make_engine\u001b[0;34m(self, f, engine)\u001b[0m\n\u001b[1;32m   1733\u001b[0m                 \u001b[0;32mif\u001b[0m \u001b[0;34m\"b\"\u001b[0m \u001b[0;32mnot\u001b[0m \u001b[0;32min\u001b[0m \u001b[0mmode\u001b[0m\u001b[0;34m:\u001b[0m\u001b[0;34m\u001b[0m\u001b[0;34m\u001b[0m\u001b[0m\n\u001b[1;32m   1734\u001b[0m                     \u001b[0mmode\u001b[0m \u001b[0;34m+=\u001b[0m \u001b[0;34m\"b\"\u001b[0m\u001b[0;34m\u001b[0m\u001b[0;34m\u001b[0m\u001b[0m\n\u001b[0;32m-> 1735\u001b[0;31m             self.handles = get_handle(\n\u001b[0m\u001b[1;32m   1736\u001b[0m                 \u001b[0mf\u001b[0m\u001b[0;34m,\u001b[0m\u001b[0;34m\u001b[0m\u001b[0;34m\u001b[0m\u001b[0m\n\u001b[1;32m   1737\u001b[0m                 \u001b[0mmode\u001b[0m\u001b[0;34m,\u001b[0m\u001b[0;34m\u001b[0m\u001b[0;34m\u001b[0m\u001b[0m\n",
            "\u001b[0;32m/usr/local/lib/python3.10/dist-packages/pandas/io/common.py\u001b[0m in \u001b[0;36mget_handle\u001b[0;34m(path_or_buf, mode, encoding, compression, memory_map, is_text, errors, storage_options)\u001b[0m\n\u001b[1;32m    854\u001b[0m         \u001b[0;32mif\u001b[0m \u001b[0mioargs\u001b[0m\u001b[0;34m.\u001b[0m\u001b[0mencoding\u001b[0m \u001b[0;32mand\u001b[0m \u001b[0;34m\"b\"\u001b[0m \u001b[0;32mnot\u001b[0m \u001b[0;32min\u001b[0m \u001b[0mioargs\u001b[0m\u001b[0;34m.\u001b[0m\u001b[0mmode\u001b[0m\u001b[0;34m:\u001b[0m\u001b[0;34m\u001b[0m\u001b[0;34m\u001b[0m\u001b[0m\n\u001b[1;32m    855\u001b[0m             \u001b[0;31m# Encoding\u001b[0m\u001b[0;34m\u001b[0m\u001b[0;34m\u001b[0m\u001b[0m\n\u001b[0;32m--> 856\u001b[0;31m             handle = open(\n\u001b[0m\u001b[1;32m    857\u001b[0m                 \u001b[0mhandle\u001b[0m\u001b[0;34m,\u001b[0m\u001b[0;34m\u001b[0m\u001b[0;34m\u001b[0m\u001b[0m\n\u001b[1;32m    858\u001b[0m                 \u001b[0mioargs\u001b[0m\u001b[0;34m.\u001b[0m\u001b[0mmode\u001b[0m\u001b[0;34m,\u001b[0m\u001b[0;34m\u001b[0m\u001b[0;34m\u001b[0m\u001b[0m\n",
            "\u001b[0;31mFileNotFoundError\u001b[0m: [Errno 2] No such file or directory: '/kaggle/input/rsna-pneumonia-detection-challenge/stage_2_detailed_class_info.csv'"
          ]
        }
      ]
    },
    {
      "cell_type": "code",
      "source": [
        "df1['class'].value_counts()"
      ],
      "metadata": {
        "execution": {
          "iopub.status.busy": "2023-05-11T10:41:22.036803Z",
          "iopub.execute_input": "2023-05-11T10:41:22.037161Z",
          "iopub.status.idle": "2023-05-11T10:41:22.049179Z",
          "shell.execute_reply.started": "2023-05-11T10:41:22.037122Z",
          "shell.execute_reply": "2023-05-11T10:41:22.048103Z"
        },
        "trusted": true,
        "id": "_im-SVAcWIZP"
      },
      "execution_count": null,
      "outputs": []
    },
    {
      "cell_type": "code",
      "source": [
        "df1.drop_duplicates(inplace=True)"
      ],
      "metadata": {
        "execution": {
          "iopub.status.busy": "2023-05-11T10:41:22.054598Z",
          "iopub.execute_input": "2023-05-11T10:41:22.055112Z",
          "iopub.status.idle": "2023-05-11T10:41:22.072681Z",
          "shell.execute_reply.started": "2023-05-11T10:41:22.055082Z",
          "shell.execute_reply": "2023-05-11T10:41:22.070994Z"
        },
        "trusted": true,
        "id": "b1rrrvR7WIZQ"
      },
      "execution_count": null,
      "outputs": []
    },
    {
      "cell_type": "code",
      "source": [
        "df1.info()"
      ],
      "metadata": {
        "execution": {
          "iopub.status.busy": "2023-05-11T10:41:22.074655Z",
          "iopub.execute_input": "2023-05-11T10:41:22.075026Z",
          "iopub.status.idle": "2023-05-11T10:41:22.092180Z",
          "shell.execute_reply.started": "2023-05-11T10:41:22.074989Z",
          "shell.execute_reply": "2023-05-11T10:41:22.091040Z"
        },
        "trusted": true,
        "id": "ZCyuMPlnWIZR"
      },
      "execution_count": null,
      "outputs": []
    },
    {
      "cell_type": "code",
      "source": [
        "df1['class'].value_counts()"
      ],
      "metadata": {
        "execution": {
          "iopub.status.busy": "2023-05-11T10:41:22.105146Z",
          "iopub.execute_input": "2023-05-11T10:41:22.105606Z",
          "iopub.status.idle": "2023-05-11T10:41:22.117234Z",
          "shell.execute_reply.started": "2023-05-11T10:41:22.105576Z",
          "shell.execute_reply": "2023-05-11T10:41:22.116122Z"
        },
        "trusted": true,
        "id": "15Eah0KhWIZR"
      },
      "execution_count": null,
      "outputs": []
    },
    {
      "cell_type": "code",
      "source": [
        "sns.countplot(x='class', data=df1)"
      ],
      "metadata": {
        "execution": {
          "iopub.status.busy": "2023-05-11T10:41:22.119056Z",
          "iopub.execute_input": "2023-05-11T10:41:22.119888Z",
          "iopub.status.idle": "2023-05-11T10:41:22.351132Z",
          "shell.execute_reply.started": "2023-05-11T10:41:22.119848Z",
          "shell.execute_reply": "2023-05-11T10:41:22.349876Z"
        },
        "trusted": true,
        "id": "H4tWlhZCWIZR"
      },
      "execution_count": null,
      "outputs": []
    },
    {
      "cell_type": "code",
      "source": [
        "classes = df1['class'].unique()\n",
        "print(classes)"
      ],
      "metadata": {
        "execution": {
          "iopub.status.busy": "2023-05-11T10:41:22.353004Z",
          "iopub.execute_input": "2023-05-11T10:41:22.356363Z",
          "iopub.status.idle": "2023-05-11T10:41:22.364676Z",
          "shell.execute_reply.started": "2023-05-11T10:41:22.356329Z",
          "shell.execute_reply": "2023-05-11T10:41:22.363531Z"
        },
        "trusted": true,
        "id": "9ynOcozTWIZS"
      },
      "execution_count": null,
      "outputs": []
    },
    {
      "cell_type": "code",
      "source": [
        "# We try to balance the dataset. Since we have many images (26.7kimages) and the length of lowest numbered class is 6012,\n",
        "# we try to reduce each class to have 5000 images.\n",
        "import random\n",
        "np.random.seed(10)\n",
        "df = pd.DataFrame(columns=['patientId','class'])\n",
        "for cl in classes:\n",
        "    df2 = df1[df1['class']==cl]\n",
        "    n_remove = len(df2)-5000\n",
        "    df2 = df2.sample(len(df2)-n_remove)\n",
        "    print(df2.shape)\n",
        "    df = df.append(df2,verify_integrity=True)\n",
        "print(df.shape)\n",
        "df = df.sort_index()\n",
        "df.head()  \n",
        "    "
      ],
      "metadata": {
        "execution": {
          "iopub.status.busy": "2023-05-11T10:41:22.367564Z",
          "iopub.execute_input": "2023-05-11T10:41:22.367860Z",
          "iopub.status.idle": "2023-05-11T10:41:22.406690Z",
          "shell.execute_reply.started": "2023-05-11T10:41:22.367831Z",
          "shell.execute_reply": "2023-05-11T10:41:22.405520Z"
        },
        "trusted": true,
        "id": "qgtfHd_5WIZS"
      },
      "execution_count": null,
      "outputs": []
    },
    {
      "cell_type": "code",
      "source": [
        "df['class'].value_counts()"
      ],
      "metadata": {
        "execution": {
          "iopub.status.busy": "2023-05-11T10:41:22.409980Z",
          "iopub.execute_input": "2023-05-11T10:41:22.410371Z",
          "iopub.status.idle": "2023-05-11T10:41:22.420426Z",
          "shell.execute_reply.started": "2023-05-11T10:41:22.410330Z",
          "shell.execute_reply": "2023-05-11T10:41:22.419307Z"
        },
        "trusted": true,
        "id": "Vo6vSoSQWIZT"
      },
      "execution_count": null,
      "outputs": []
    },
    {
      "cell_type": "code",
      "source": [
        "sns.countplot(x='class',data=df)"
      ],
      "metadata": {
        "execution": {
          "iopub.status.busy": "2023-05-11T10:41:22.421935Z",
          "iopub.execute_input": "2023-05-11T10:41:22.422974Z",
          "iopub.status.idle": "2023-05-11T10:41:22.640594Z",
          "shell.execute_reply.started": "2023-05-11T10:41:22.422927Z",
          "shell.execute_reply": "2023-05-11T10:41:22.639429Z"
        },
        "trusted": true,
        "id": "FD-BVUJ_WIZT"
      },
      "execution_count": null,
      "outputs": []
    },
    {
      "cell_type": "code",
      "source": [
        "#store rows that we removed into another dataframe that can be used for testing\n",
        "df_t = df1[~df1.isin(df)].dropna()\n",
        "df_t['class'].value_counts()"
      ],
      "metadata": {
        "execution": {
          "iopub.status.busy": "2023-05-11T10:41:22.642298Z",
          "iopub.execute_input": "2023-05-11T10:41:22.643113Z",
          "iopub.status.idle": "2023-05-11T10:41:22.673215Z",
          "shell.execute_reply.started": "2023-05-11T10:41:22.643071Z",
          "shell.execute_reply": "2023-05-11T10:41:22.672204Z"
        },
        "trusted": true,
        "id": "y6utUKUaWIZU"
      },
      "execution_count": null,
      "outputs": []
    },
    {
      "cell_type": "code",
      "source": [
        "# Now we get 1000 rows of each class and form the testing data.\n",
        "#min(df2['class'].value_counts())\n",
        "import random\n",
        "np.random.seed(10)\n",
        "df_test = pd.DataFrame(columns=['patientId','class'])\n",
        "for cl in classes:\n",
        "    df2 = df_t[df_t['class']==cl]\n",
        "    n_remove = len(df2)-1000\n",
        "    df2 = df2.sample(len(df2)-n_remove)\n",
        "    print(df2.shape)\n",
        "    df_test = df_test.append(df2,verify_integrity=True)\n",
        "print(df_test.shape)\n",
        "df_test = df_test.sort_index()\n",
        "df_test.head() "
      ],
      "metadata": {
        "execution": {
          "iopub.status.busy": "2023-05-11T10:41:22.674719Z",
          "iopub.execute_input": "2023-05-11T10:41:22.675173Z",
          "iopub.status.idle": "2023-05-11T10:41:22.704067Z",
          "shell.execute_reply.started": "2023-05-11T10:41:22.675132Z",
          "shell.execute_reply": "2023-05-11T10:41:22.703133Z"
        },
        "trusted": true,
        "id": "0v0ngWJOWIZU"
      },
      "execution_count": null,
      "outputs": []
    },
    {
      "cell_type": "code",
      "source": [
        "X = df['patientId']\n",
        "Y = df['class']\n",
        "x_test = df_test['patientId']\n",
        "y_test = df_test['class']"
      ],
      "metadata": {
        "execution": {
          "iopub.status.busy": "2023-05-11T10:41:22.705592Z",
          "iopub.execute_input": "2023-05-11T10:41:22.706295Z",
          "iopub.status.idle": "2023-05-11T10:41:22.712128Z",
          "shell.execute_reply.started": "2023-05-11T10:41:22.706255Z",
          "shell.execute_reply": "2023-05-11T10:41:22.711256Z"
        },
        "trusted": true,
        "id": "SrjfCicDWIZV"
      },
      "execution_count": null,
      "outputs": []
    },
    {
      "cell_type": "code",
      "source": [
        "# Split the dataset into 4 sets for easier loading and avoiding memory errors, maintaining the same 'class' ratios.\n",
        "# The idea is we train the model on each set separately and at the end store the weights. Load the weights back before training the next set.\n",
        "from sklearn.model_selection import train_test_split\n",
        "x_train, x_val, y_train, y_val = train_test_split(X, Y, stratify = Y, test_size = 0.5, random_state =42)\n",
        "x1, x2, y1, y2 = train_test_split(x_train, y_train, stratify = y_train, test_size = 0.5, random_state =42)\n",
        "x3, x4, y3, y4 = train_test_split(x_val, y_val, stratify = y_val, test_size = 0.5, random_state =42)"
      ],
      "metadata": {
        "execution": {
          "iopub.status.busy": "2023-05-11T10:41:22.713935Z",
          "iopub.execute_input": "2023-05-11T10:41:22.714812Z",
          "iopub.status.idle": "2023-05-11T10:41:22.757876Z",
          "shell.execute_reply.started": "2023-05-11T10:41:22.714771Z",
          "shell.execute_reply": "2023-05-11T10:41:22.756853Z"
        },
        "trusted": true,
        "id": "ctky_OvdWIZV"
      },
      "execution_count": null,
      "outputs": []
    },
    {
      "cell_type": "code",
      "source": [
        "print(x1.shape,y1.shape)\n",
        "print(x2.shape,y2.shape)\n",
        "print(x3.shape,y3.shape)\n",
        "print(x4.shape,y4.shape)"
      ],
      "metadata": {
        "execution": {
          "iopub.status.busy": "2023-05-11T10:41:22.763629Z",
          "iopub.execute_input": "2023-05-11T10:41:22.763903Z",
          "iopub.status.idle": "2023-05-11T10:41:22.771109Z",
          "shell.execute_reply.started": "2023-05-11T10:41:22.763875Z",
          "shell.execute_reply": "2023-05-11T10:41:22.769009Z"
        },
        "trusted": true,
        "id": "C_fMr5CcWIZW"
      },
      "execution_count": null,
      "outputs": []
    },
    {
      "cell_type": "code",
      "source": [
        "del X, Y\n",
        "del df1, df2, df_t, df\n",
        "del x_train, x_val, y_train, y_val"
      ],
      "metadata": {
        "execution": {
          "iopub.status.busy": "2023-05-11T10:41:22.773738Z",
          "iopub.execute_input": "2023-05-11T10:41:22.774507Z",
          "iopub.status.idle": "2023-05-11T10:41:22.781510Z",
          "shell.execute_reply.started": "2023-05-11T10:41:22.774441Z",
          "shell.execute_reply": "2023-05-11T10:41:22.780325Z"
        },
        "trusted": true,
        "id": "vcKslZREWIZW"
      },
      "execution_count": null,
      "outputs": []
    },
    {
      "cell_type": "code",
      "source": [
        "import gc\n",
        "gc.collect()"
      ],
      "metadata": {
        "execution": {
          "iopub.status.busy": "2023-05-11T10:41:22.783264Z",
          "iopub.execute_input": "2023-05-11T10:41:22.784054Z",
          "iopub.status.idle": "2023-05-11T10:41:23.135487Z",
          "shell.execute_reply.started": "2023-05-11T10:41:22.784008Z",
          "shell.execute_reply": "2023-05-11T10:41:23.134481Z"
        },
        "trusted": true,
        "id": "NqLk4hybWIZW"
      },
      "execution_count": null,
      "outputs": []
    },
    {
      "cell_type": "code",
      "source": [
        "# Now we need to replace the x? datasets that has patiendId with their corresponding actual images/pixel data. \n",
        "# We do this by defining a function\n",
        "def populate_X_images(x):\n",
        "    os.chdir('/kaggle/input/rsna-pneumonia-detection-challenge/')\n",
        "    file_path='stage_2_train_images'\n",
        "    x_img = pd.DataFrame(columns=['image'])\n",
        "    for Id in x:\n",
        "        fname = str(Id) + \".dcm\"\n",
        "        ds = dicom.dcmread(os.path.join(file_path,fname))\n",
        "        x_img = x_img.append({'image':ds.pixel_array},ignore_index=True)\n",
        "    return x_img\n",
        "\n",
        "def populate_X_test_images():\n",
        "    os.chdir('/kaggle/input/rsna-pneumonia-detection-challenge/')\n",
        "    file_path='stage_2_test_images'\n",
        "    x_img = pd.DataFrame(columns=['image'])\n",
        "    for fname in os.listdir(file_path):\n",
        "        ds = dicom.dcmread(os.path.join(file_path,fname))\n",
        "        x_img = x_img.append({'image':ds.pixel_array},ignore_index=True)\n",
        "    return x_img\n",
        "\n",
        "# Define a new function to resize and reshape according to our needs\n",
        "import cv2\n",
        "def resize_reshape_x(x, shape: tuple):\n",
        "    X_rsz = []\n",
        "    for i in (x['image']):\n",
        "        img = cv2.resize(i, shape)\n",
        "        img = np.stack((img,)*3, axis=-1)\n",
        "        X_rsz.append(img)\n",
        "    return np.array(X_rsz)\n",
        "\n",
        "# Vizualizing the images\n",
        "def plot_sample(x,y):\n",
        "    plt.figure(figsize=(20,20))\n",
        "    n=3\n",
        "    j=1\n",
        "    sample = random.sample(range(0,len(x)),3)\n",
        "    for i in sample:\n",
        "        plt.subplot(1,n,j)\n",
        "        plt.imshow(x[i])\n",
        "        plt.title(\"{}\".format(y.iloc[i]))\n",
        "        j+=1\n",
        "# pre-process data\n",
        "def pre_process(x_tr, x_val, y_tr, y_val):\n",
        "    x_tr = (x_tr/255).astype('float16')\n",
        "    y_tr = pd.get_dummies(y_tr)\n",
        "    x_val = (x_val/255).astype('float16')\n",
        "    y_val = pd.get_dummies(y_val)\n",
        "    return x_tr, x_val, y_tr, y_val\n",
        "\n",
        "def pre_process_test(x_test, y_test):\n",
        "    x_test = (x_test/255).astype('float16')\n",
        "    y_test = pd.get_dummies(y_test)\n",
        "    return x_test, y_test\n",
        "\n",
        "# Loading the images, replacing the patientIds. Also resize them to required,shape\n",
        "def load_image(x):\n",
        "    x_img = populate_X_images(x)\n",
        "    print('Populated Images\\n')\n",
        "    x_img = resize_reshape_x(x_img,(224,224))\n",
        "    return x_img"
      ],
      "metadata": {
        "execution": {
          "iopub.status.busy": "2023-05-11T10:41:23.137665Z",
          "iopub.execute_input": "2023-05-11T10:41:23.138348Z",
          "iopub.status.idle": "2023-05-11T10:41:23.156225Z",
          "shell.execute_reply.started": "2023-05-11T10:41:23.138304Z",
          "shell.execute_reply": "2023-05-11T10:41:23.154783Z"
        },
        "trusted": true,
        "id": "bZuRNufwWIZX"
      },
      "execution_count": null,
      "outputs": []
    },
    {
      "cell_type": "code",
      "source": [
        "def create_model():\n",
        "    import tensorflow as tf\n",
        "    from tensorflow.keras.applications import Xception, ResNet50V2\n",
        "    from tensorflow.keras.layers import Dense, GlobalAveragePooling2D, Dropout, Conv2D, Flatten, Activation, MaxPooling2D, concatenate, Input, BatchNormalization\n",
        "    from tensorflow.keras.models import Model, Sequential\n",
        "    input_x = tf.keras.Input(shape=(224,224,3),name='inputx')\n",
        "    base_x_model = Xception(input_tensor=input_x,input_shape=(224,224,3),\n",
        "                          weights='imagenet',\n",
        "                          #pooling='max',\n",
        "                          include_top=False) \n",
        "    for layer in base_x_model.layers[0:-11]: # has 71 layers in total\n",
        "        layer.trainable = False\n",
        "    #base_x_model.trainable = False\n",
        "    #input_r = tf.keras.Input(shape=(224,224,3),name='inputr')\n",
        "    #base_r_model = ResNet50V2(input_tensor=input_r,input_shape=(224,224,3),\n",
        "    #                      weights='imagenet',\n",
        "    #                      #pooling='max',\n",
        "     #                     include_top=False) \n",
        "    #for layer in base_r_model.layers[0:-5]:\n",
        "    #    layer.trainable = False\n",
        "    #base_r_model.trainable = False\n",
        "    #x = Sequential()\n",
        "    #x = concatenate([base_x_model.output, base_r_model.output], axis=-1)\n",
        "    x = base_x_model.output\n",
        "    #x = GlobalAveragePooling2D()(x)\n",
        "    x = MaxPooling2D()(x)\n",
        "    #x = Conv2D(filters=1024,kernel_size=(1,1),padding='valid')(x)\n",
        "    #x = Activation('relu')(x)\n",
        "    #x = MaxPooling2D(pool_size=(2,2),strides=2,padding='valid')(x)\n",
        "    x = Flatten()(x)\n",
        "    x = Dropout(rate=0.5)(x)\n",
        "    x = Dense(512, activation='relu')(x)\n",
        "    x = BatchNormalization()(x)\n",
        "    x = Dropout(rate=0.5)(x)\n",
        "    x = Dense(256, activation='relu')(x)\n",
        "    x = BatchNormalization()(x)\n",
        "    x = Dropout(rate=0.5)(x)\n",
        "    x = Dense(128, activation='relu')(x)\n",
        "    x = BatchNormalization()(x)\n",
        "    x = Dropout(rate=0.5)(x)\n",
        "    preds = Dense(3, activation='softmax')(x) #final layer with softmax activation\n",
        "\n",
        "    merged_model = Model([base_x_model.input],\n",
        "                           outputs=preds)\n",
        "\n",
        "    # Compile the model\n",
        "    opt = tf.keras.optimizers.Adam(learning_rate=0.00001) #reduce lr \n",
        "    merged_model.compile(optimizer=opt,\n",
        "                         loss='categorical_crossentropy',\n",
        "                         metrics=['accuracy'])\n",
        "\n",
        "    #merged_model.summary()\n",
        "    return merged_model"
      ],
      "metadata": {
        "execution": {
          "iopub.status.busy": "2023-05-11T10:41:23.158027Z",
          "iopub.execute_input": "2023-05-11T10:41:23.158667Z",
          "iopub.status.idle": "2023-05-11T10:41:23.174598Z",
          "shell.execute_reply.started": "2023-05-11T10:41:23.158624Z",
          "shell.execute_reply": "2023-05-11T10:41:23.173435Z"
        },
        "trusted": true,
        "id": "gCC_8wQwWIZY"
      },
      "execution_count": null,
      "outputs": []
    },
    {
      "cell_type": "code",
      "source": [
        "# function to plot Accuracy and loss plots\n",
        "def plot_hist(tr_hist):\n",
        "    accuracy = tr_hist.history['accuracy']\n",
        "    val_accuracy = tr_hist.history['val_accuracy']\n",
        "    loss = tr_hist.history['loss']\n",
        "    val_loss = tr_hist.history['val_loss']\n",
        "    epochs   = range(len(accuracy)) # Get number of epochs\n",
        "\n",
        "    plt.plot  (epochs, accuracy, label = 'training accuracy')\n",
        "    plt.plot  (epochs, val_accuracy, label = 'validation accuracy')\n",
        "    plt.title ('Training and validation accuracy')\n",
        "    plt.legend(loc = 'lower right')\n",
        "    plt.figure()\n",
        "\n",
        "    plt.plot  (epochs, loss, label = 'training loss')\n",
        "    plt.plot  (epochs, val_loss, label = 'validation loss')\n",
        "    plt.legend(loc = 'upper right')\n",
        "    plt.title ('Training and validation loss')\n",
        "\n",
        "def plot_hist_simple(tr_hist):\n",
        "    pd.DataFrame(tr_hist).plot()"
      ],
      "metadata": {
        "execution": {
          "iopub.status.busy": "2023-05-11T10:41:23.176094Z",
          "iopub.execute_input": "2023-05-11T10:41:23.176618Z",
          "iopub.status.idle": "2023-05-11T10:41:23.189420Z",
          "shell.execute_reply.started": "2023-05-11T10:41:23.176578Z",
          "shell.execute_reply": "2023-05-11T10:41:23.188433Z"
        },
        "trusted": true,
        "id": "t-Rc_CumWIZY"
      },
      "execution_count": null,
      "outputs": []
    },
    {
      "cell_type": "code",
      "source": [
        "# Saving model and training history and its weights for future use\n",
        "import pickle\n",
        "def save_model_and_hist(model, hist, model_file, model_wght_file, hist_file):\n",
        "    model.save(model_file)\n",
        "    model.save_weights(model_wght_file)\n",
        "    with open(hist_file, 'wb') as file_pi:\n",
        "        pickle.dump(hist.history, file_pi)\n",
        "\n",
        "# Load hist and plot\n",
        "def load_and_plot_hist(model_name: str, i: int):\n",
        "    hist_fname = \"/kaggle/working/\"+ model_name + \"_hist\" + str(i)\n",
        "    with open(hist_fname, 'rb') as f:\n",
        "        tr_hist = pickle.load(f)\n",
        "    pd.DataFrame(tr_hist).plot()\n",
        "\n",
        "# Load and return model\n",
        "from tensorflow.keras.models import load_model\n",
        "def load_and_return_model(modelname: str, j: int):\n",
        "    model_fname = '/kaggle/working/'+ modelname + str(j) + \".h5\"\n",
        "    model = load_model(model_fname)\n",
        "    return model"
      ],
      "metadata": {
        "execution": {
          "iopub.status.busy": "2023-05-11T10:41:23.191325Z",
          "iopub.execute_input": "2023-05-11T10:41:23.191768Z",
          "iopub.status.idle": "2023-05-11T10:41:23.202772Z",
          "shell.execute_reply.started": "2023-05-11T10:41:23.191669Z",
          "shell.execute_reply": "2023-05-11T10:41:23.201676Z"
        },
        "trusted": true,
        "id": "aJ8Q0MTeWIZZ"
      },
      "execution_count": null,
      "outputs": []
    },
    {
      "cell_type": "code",
      "source": [
        "import gc\n",
        "gc.collect()"
      ],
      "metadata": {
        "execution": {
          "iopub.status.busy": "2023-05-11T10:41:23.204428Z",
          "iopub.execute_input": "2023-05-11T10:41:23.205644Z",
          "iopub.status.idle": "2023-05-11T10:41:23.437900Z",
          "shell.execute_reply.started": "2023-05-11T10:41:23.205603Z",
          "shell.execute_reply": "2023-05-11T10:41:23.436489Z"
        },
        "trusted": true,
        "id": "HTBMvXV6WIZZ"
      },
      "execution_count": null,
      "outputs": []
    },
    {
      "cell_type": "code",
      "source": [
        "import tensorflow.keras.callbacks as cb\n",
        "def run_save_one_iteration(x_img, y, model, bsz, epo, modelname: str, j: int):\n",
        "    #plot_sample(x_img, y)\n",
        "    x_train, x_val, y_train, y_val = train_test_split(x_img, y, stratify = y, test_size = 0.2, random_state =42)\n",
        "    x_train, x_val, y_train, y_val = pre_process(x_train, x_val, y_train, y_val)\n",
        "    print(x_train.shape,y_train.shape,x_val.shape,y_val.shape)\n",
        "    callback = cb.EarlyStopping(monitor='val_loss', patience = 10,restore_best_weights=True)\n",
        "    tr_history = model.fit(x=[x_train],\n",
        "                           y=y_train,\n",
        "                           batch_size=bsz,\n",
        "                           epochs=epo, \n",
        "                           validation_data=(({'inputx': x_val}) , y_val),\n",
        "                           callbacks=callback\n",
        "                           )\n",
        "    #plot_hist_sample(tr_history)\n",
        "    model_fname = '/kaggle/working/' + modelname + str(j) + \".h5\"\n",
        "    model_wname = '/kaggle/working/' + modelname + \"_weights\" + str(j) + \".h5\"\n",
        "    model_hname= '/kaggle/working/' + modelname + \"_hist\" + str(j)\n",
        "    save_model_and_hist(model, tr_history, model_fname, model_wname, model_hname)\n",
        "    del x_train, x_val, y_train, y_val, tr_history"
      ],
      "metadata": {
        "execution": {
          "iopub.status.busy": "2023-05-11T10:41:23.439751Z",
          "iopub.execute_input": "2023-05-11T10:41:23.440246Z",
          "iopub.status.idle": "2023-05-11T10:41:23.455031Z",
          "shell.execute_reply.started": "2023-05-11T10:41:23.440204Z",
          "shell.execute_reply": "2023-05-11T10:41:23.453765Z"
        },
        "trusted": true,
        "id": "kP6HelZ5WIZZ"
      },
      "execution_count": null,
      "outputs": []
    },
    {
      "cell_type": "markdown",
      "source": [
        "    j=1\n",
        "    modelname='densenet'\n",
        "    model_fname = '/kaggle/working/' + modelname + str(j) + \".h5\"\n",
        "    model_wname = '/kaggle/working/' + modelname + \"_weights\" + str(j) + \".h5\"\n",
        "    model_hname= '/kaggle/working/' + modelname + \"_hist\" + str(j)\n",
        "    save_model_and_hist(model_densenet,tr_history1,model_fname, model_wname, model_hname)"
      ],
      "metadata": {
        "execution": {
          "iopub.status.busy": "2023-04-24T15:22:02.427471Z",
          "iopub.execute_input": "2023-04-24T15:22:02.427926Z",
          "iopub.status.idle": "2023-04-24T15:22:05.066302Z",
          "shell.execute_reply.started": "2023-04-24T15:22:02.427882Z",
          "shell.execute_reply": "2023-04-24T15:22:05.064731Z"
        },
        "id": "NQpV6QGgWIZa"
      }
    },
    {
      "cell_type": "code",
      "source": [
        "merged_model = create_model()\n",
        "merged_model.load_weights('/kaggle/working/XcepRes_weights4.h5')"
      ],
      "metadata": {
        "execution": {
          "iopub.status.busy": "2023-05-11T10:41:23.456550Z",
          "iopub.execute_input": "2023-05-11T10:41:23.456992Z",
          "iopub.status.idle": "2023-05-11T10:41:26.370224Z",
          "shell.execute_reply.started": "2023-05-11T10:41:23.456953Z",
          "shell.execute_reply": "2023-05-11T10:41:26.369102Z"
        },
        "trusted": true,
        "id": "eoLQGM7wWIZd"
      },
      "execution_count": null,
      "outputs": []
    },
    {
      "cell_type": "code",
      "source": [
        "x_img = load_image(x1)\n",
        "gc.collect()\n",
        "run_save_one_iteration(x_img, y1, merged_model, 18, 50, 'XcepRes', 1)"
      ],
      "metadata": {
        "execution": {
          "iopub.status.busy": "2023-05-11T10:41:26.371833Z",
          "iopub.execute_input": "2023-05-11T10:41:26.372227Z",
          "iopub.status.idle": "2023-05-11T10:47:54.337399Z",
          "shell.execute_reply.started": "2023-05-11T10:41:26.372182Z",
          "shell.execute_reply": "2023-05-11T10:47:54.336256Z"
        },
        "trusted": true,
        "id": "OS5m7N_GWIZd"
      },
      "execution_count": null,
      "outputs": []
    },
    {
      "cell_type": "code",
      "source": [
        "load_and_plot_hist('XcepRes',1)\n",
        "del x_img, merged_model\n",
        "gc.collect()\n",
        "model= load_and_return_model('XcepRes', 1)"
      ],
      "metadata": {
        "execution": {
          "iopub.status.busy": "2023-05-11T10:47:54.339270Z",
          "iopub.execute_input": "2023-05-11T10:47:54.339728Z",
          "iopub.status.idle": "2023-05-11T10:47:57.365188Z",
          "shell.execute_reply.started": "2023-05-11T10:47:54.339679Z",
          "shell.execute_reply": "2023-05-11T10:47:57.364116Z"
        },
        "trusted": true,
        "id": "WqD78ARyWIZd"
      },
      "execution_count": null,
      "outputs": []
    },
    {
      "cell_type": "code",
      "source": [
        "x_img = load_image(x2)\n",
        "gc.collect()\n",
        "run_save_one_iteration(x_img, y2, model, 18, 50, 'XcepRes', 2)\n",
        "load_and_plot_hist('XcepRes',2)"
      ],
      "metadata": {
        "execution": {
          "iopub.status.busy": "2023-05-11T10:47:57.367040Z",
          "iopub.execute_input": "2023-05-11T10:47:57.367739Z",
          "iopub.status.idle": "2023-05-11T10:54:24.104378Z",
          "shell.execute_reply.started": "2023-05-11T10:47:57.367694Z",
          "shell.execute_reply": "2023-05-11T10:54:24.103309Z"
        },
        "trusted": true,
        "id": "OWXEBF-iWIZe"
      },
      "execution_count": null,
      "outputs": []
    },
    {
      "cell_type": "code",
      "source": [
        "del x_img, model\n",
        "gc.collect()\n",
        "model= load_and_return_model('XcepRes', 2)"
      ],
      "metadata": {
        "execution": {
          "iopub.status.busy": "2023-05-11T10:54:24.106273Z",
          "iopub.execute_input": "2023-05-11T10:54:24.106714Z",
          "iopub.status.idle": "2023-05-11T10:54:26.877061Z",
          "shell.execute_reply.started": "2023-05-11T10:54:24.106672Z",
          "shell.execute_reply": "2023-05-11T10:54:26.875925Z"
        },
        "trusted": true,
        "id": "_eaH7Rk0WIZe"
      },
      "execution_count": null,
      "outputs": []
    },
    {
      "cell_type": "code",
      "source": [
        "gc.collect()\n",
        "x_img = load_image(x3)\n",
        "gc.collect()\n",
        "run_save_one_iteration(x_img, y3, model, 18, 50, 'XcepRes', 3)\n",
        "load_and_plot_hist('XcepRes',3)"
      ],
      "metadata": {
        "execution": {
          "iopub.status.busy": "2023-05-11T10:54:26.878580Z",
          "iopub.execute_input": "2023-05-11T10:54:26.878969Z",
          "iopub.status.idle": "2023-05-11T10:58:49.651836Z",
          "shell.execute_reply.started": "2023-05-11T10:54:26.878926Z",
          "shell.execute_reply": "2023-05-11T10:58:49.650705Z"
        },
        "trusted": true,
        "id": "--yu6S86WIZe"
      },
      "execution_count": null,
      "outputs": []
    },
    {
      "cell_type": "code",
      "source": [
        "del x_img, model\n",
        "gc.collect()\n",
        "model= load_and_return_model('XcepRes', 3)"
      ],
      "metadata": {
        "execution": {
          "iopub.status.busy": "2023-05-11T10:58:49.657198Z",
          "iopub.execute_input": "2023-05-11T10:58:49.659975Z",
          "iopub.status.idle": "2023-05-11T10:58:52.533650Z",
          "shell.execute_reply.started": "2023-05-11T10:58:49.659927Z",
          "shell.execute_reply": "2023-05-11T10:58:52.532431Z"
        },
        "trusted": true,
        "id": "VN0T-sbQWIZf"
      },
      "execution_count": null,
      "outputs": []
    },
    {
      "cell_type": "code",
      "source": [
        "gc.collect()\n",
        "x_img = load_image(x4)\n",
        "gc.collect()\n",
        "run_save_one_iteration(x_img, y4, model, 18, 50, 'XcepRes', 4)\n",
        "load_and_plot_hist('XcepRes',4)"
      ],
      "metadata": {
        "execution": {
          "iopub.status.busy": "2023-05-11T10:58:52.540654Z",
          "iopub.execute_input": "2023-05-11T10:58:52.540992Z",
          "iopub.status.idle": "2023-05-11T11:03:16.997769Z",
          "shell.execute_reply.started": "2023-05-11T10:58:52.540960Z",
          "shell.execute_reply": "2023-05-11T11:03:16.996435Z"
        },
        "trusted": true,
        "id": "zHEIyPsJWIZf"
      },
      "execution_count": null,
      "outputs": []
    },
    {
      "cell_type": "code",
      "source": [
        "del x_img, model\n",
        "gc.collect()\n",
        "model= load_and_return_model('XcepRes', 4)"
      ],
      "metadata": {
        "execution": {
          "iopub.status.busy": "2023-05-11T11:03:16.999561Z",
          "iopub.execute_input": "2023-05-11T11:03:16.999938Z",
          "iopub.status.idle": "2023-05-11T11:03:19.810064Z",
          "shell.execute_reply.started": "2023-05-11T11:03:16.999897Z",
          "shell.execute_reply": "2023-05-11T11:03:19.808975Z"
        },
        "trusted": true,
        "id": "7kpl-ePaWIZf"
      },
      "execution_count": null,
      "outputs": []
    },
    {
      "cell_type": "code",
      "source": [
        "gc.collect()\n",
        "x_img = load_image(x_test)\n",
        "gc.collect()\n",
        "classes = y_test.unique()\n",
        "x_test, y_test = pre_process_test(x_img, y_test)\n",
        "gc.collect()\n",
        "y_pred = model.predict([x_test])"
      ],
      "metadata": {
        "execution": {
          "iopub.status.busy": "2023-05-11T11:03:19.816750Z",
          "iopub.execute_input": "2023-05-11T11:03:19.817074Z",
          "iopub.status.idle": "2023-05-11T11:04:13.250096Z",
          "shell.execute_reply.started": "2023-05-11T11:03:19.817044Z",
          "shell.execute_reply": "2023-05-11T11:04:13.249011Z"
        },
        "trusted": true,
        "id": "wmaN0xkoWIZg"
      },
      "execution_count": null,
      "outputs": []
    },
    {
      "cell_type": "code",
      "source": [
        "y_pred_label = []\n",
        "for i in range(0,len(y_pred)):\n",
        "    y_pred_label.append(y_pred[i].argmax())"
      ],
      "metadata": {
        "execution": {
          "iopub.status.busy": "2023-05-11T11:04:13.251855Z",
          "iopub.execute_input": "2023-05-11T11:04:13.252189Z",
          "iopub.status.idle": "2023-05-11T11:04:13.263164Z",
          "shell.execute_reply.started": "2023-05-11T11:04:13.252158Z",
          "shell.execute_reply": "2023-05-11T11:04:13.262111Z"
        },
        "trusted": true,
        "id": "q3zK0XTeWIZg"
      },
      "execution_count": null,
      "outputs": []
    },
    {
      "cell_type": "code",
      "source": [
        "classes = list(y_test.columns)\n",
        "print(classes)"
      ],
      "metadata": {
        "execution": {
          "iopub.status.busy": "2023-05-11T11:04:13.264692Z",
          "iopub.execute_input": "2023-05-11T11:04:13.265221Z",
          "iopub.status.idle": "2023-05-11T11:04:13.274367Z",
          "shell.execute_reply.started": "2023-05-11T11:04:13.265181Z",
          "shell.execute_reply": "2023-05-11T11:04:13.273245Z"
        },
        "trusted": true,
        "id": "wScCgkBHWIZg"
      },
      "execution_count": null,
      "outputs": []
    },
    {
      "cell_type": "code",
      "source": [
        "y_test_label = []\n",
        "num_classes = 3\n",
        "for index, row in y_test.iterrows():\n",
        "    for i in range(0,num_classes):\n",
        "        if row[i] == 1:\n",
        "            y_test_label.append(i)"
      ],
      "metadata": {
        "execution": {
          "iopub.status.busy": "2023-05-11T11:04:13.276307Z",
          "iopub.execute_input": "2023-05-11T11:04:13.276689Z",
          "iopub.status.idle": "2023-05-11T11:04:13.480236Z",
          "shell.execute_reply.started": "2023-05-11T11:04:13.276652Z",
          "shell.execute_reply": "2023-05-11T11:04:13.479163Z"
        },
        "trusted": true,
        "id": "zmOsf2ihWIZh"
      },
      "execution_count": null,
      "outputs": []
    },
    {
      "cell_type": "code",
      "source": [
        "from sklearn.metrics import confusion_matrix\n",
        "cm = confusion_matrix(y_test_label, y_pred_label)"
      ],
      "metadata": {
        "execution": {
          "iopub.status.busy": "2023-05-11T11:04:13.481597Z",
          "iopub.execute_input": "2023-05-11T11:04:13.481990Z",
          "iopub.status.idle": "2023-05-11T11:04:13.493002Z",
          "shell.execute_reply.started": "2023-05-11T11:04:13.481949Z",
          "shell.execute_reply": "2023-05-11T11:04:13.491963Z"
        },
        "trusted": true,
        "id": "CIuqXvf4WIZh"
      },
      "execution_count": null,
      "outputs": []
    },
    {
      "cell_type": "code",
      "source": [
        "print(classes)\n",
        "print(cm)"
      ],
      "metadata": {
        "execution": {
          "iopub.status.busy": "2023-05-11T11:04:13.494571Z",
          "iopub.execute_input": "2023-05-11T11:04:13.495027Z",
          "iopub.status.idle": "2023-05-11T11:04:13.502568Z",
          "shell.execute_reply.started": "2023-05-11T11:04:13.494984Z",
          "shell.execute_reply": "2023-05-11T11:04:13.501280Z"
        },
        "trusted": true,
        "id": "yGVMxVWMWIZu"
      },
      "execution_count": null,
      "outputs": []
    },
    {
      "cell_type": "code",
      "source": [
        "#accuracy = (710+439+843)/3000\n",
        "#print(\"Test Accuracy: %.2f\" % (accuracy*100))\n",
        "#66.4\n",
        "#accuracy = (697+428+834)/3000\n",
        "#print(\"Test Accuracy: %.2f\" % (accuracy*100))\n",
        "accuracy = (695+454+865)/3000\n",
        "print(\"Test Accuracy: %.2f\" % (accuracy*100))"
      ],
      "metadata": {
        "execution": {
          "iopub.status.busy": "2023-05-11T11:05:23.546698Z",
          "iopub.execute_input": "2023-05-11T11:05:23.547672Z",
          "iopub.status.idle": "2023-05-11T11:05:23.554552Z",
          "shell.execute_reply.started": "2023-05-11T11:05:23.547630Z",
          "shell.execute_reply": "2023-05-11T11:05:23.553225Z"
        },
        "trusted": true,
        "id": "iYr35ZzBWIZu"
      },
      "execution_count": null,
      "outputs": []
    },
    {
      "cell_type": "code",
      "source": [
        "import os\n",
        "os.listdir('/kaggle/working/')"
      ],
      "metadata": {
        "execution": {
          "iopub.status.busy": "2023-05-11T10:32:27.774926Z",
          "iopub.execute_input": "2023-05-11T10:32:27.775348Z",
          "iopub.status.idle": "2023-05-11T10:32:27.784038Z",
          "shell.execute_reply.started": "2023-05-11T10:32:27.775309Z",
          "shell.execute_reply": "2023-05-11T10:32:27.782866Z"
        },
        "trusted": true,
        "id": "X6v1rSL3WIZv"
      },
      "execution_count": null,
      "outputs": []
    },
    {
      "cell_type": "code",
      "source": [
        "os.chdir('/kaggle/working/')\n",
        "!zip -r file1.zip /kaggle/working/Xcep*"
      ],
      "metadata": {
        "execution": {
          "iopub.status.busy": "2023-05-11T08:23:50.208030Z",
          "iopub.status.idle": "2023-05-11T08:23:50.208891Z",
          "shell.execute_reply.started": "2023-05-11T08:23:50.208536Z",
          "shell.execute_reply": "2023-05-11T08:23:50.208562Z"
        },
        "trusted": true,
        "id": "ZB1adpdbWIZv"
      },
      "execution_count": null,
      "outputs": []
    },
    {
      "cell_type": "code",
      "source": [
        "from IPython.display import FileLink\n",
        "FileLink(r'file1.zip')"
      ],
      "metadata": {
        "execution": {
          "iopub.status.busy": "2023-05-11T08:23:50.210583Z",
          "iopub.status.idle": "2023-05-11T08:23:50.211764Z",
          "shell.execute_reply.started": "2023-05-11T08:23:50.211479Z",
          "shell.execute_reply": "2023-05-11T08:23:50.211507Z"
        },
        "trusted": true,
        "id": "6G9XpIEoWIZv"
      },
      "execution_count": null,
      "outputs": []
    },
    {
      "cell_type": "markdown",
      "source": [
        "j=1\n",
        "modelname='XcepRes'\n",
        "tr_history1=[]\n",
        "model_fname = '/kaggle/working/' + modelname + str(j) + \".h5\"\n",
        "model_wname = '/kaggle/working/' + modelname + \"_weights\" + str(j) + \".h5\"\n",
        "model_hname= '/kaggle/working/' + modelname + \"_hist\" + str(j)\n",
        "save_model_and_hist(model,tr_history1,model_fname, model_wname, model_hname)"
      ],
      "metadata": {
        "execution": {
          "iopub.status.busy": "2023-04-29T17:17:24.935054Z",
          "iopub.execute_input": "2023-04-29T17:17:24.936264Z",
          "iopub.status.idle": "2023-04-29T17:17:25.920067Z",
          "shell.execute_reply.started": "2023-04-29T17:17:24.936129Z",
          "shell.execute_reply": "2023-04-29T17:17:25.917431Z"
        },
        "id": "GS9t8sgQWIZv"
      }
    }
  ]
}