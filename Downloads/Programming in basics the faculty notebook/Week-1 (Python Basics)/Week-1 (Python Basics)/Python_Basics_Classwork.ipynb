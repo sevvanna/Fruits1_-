{
 "cells": [
  {
   "cell_type": "code",
   "execution_count": null,
   "id": "7110b0be",
   "metadata": {},
   "outputs": [],
   "source": [
    "### To create a new cell  Alt  + enter\n",
    "\n",
    "### to execute a line of code in jupyter Ctrl + Enter"
   ]
  },
  {
   "cell_type": "code",
   "execution_count": 1,
   "id": "19a8d222",
   "metadata": {},
   "outputs": [
    {
     "name": "stdout",
     "output_type": "stream",
     "text": [
      "hello world\n"
     ]
    }
   ],
   "source": [
    "print('hello world')"
   ]
  },
  {
   "cell_type": "code",
   "execution_count": 2,
   "id": "58e9b7fd",
   "metadata": {},
   "outputs": [
    {
     "name": "stdout",
     "output_type": "stream",
     "text": [
      "hello world\n"
     ]
    }
   ],
   "source": [
    "### cell to copy\n",
    "print('hello world')"
   ]
  },
  {
   "cell_type": "code",
   "execution_count": null,
   "id": "5f77f6fb",
   "metadata": {},
   "outputs": [],
   "source": [
    "### to copy one cell /block \n",
    "## select the cell you want to copy and hit ctrl + c"
   ]
  },
  {
   "cell_type": "markdown",
   "id": "57e164ce",
   "metadata": {},
   "source": [
    "This is a markdown -\n",
    "more like a comment - but can be used as a heading\n",
    "this is not executable "
   ]
  },
  {
   "cell_type": "code",
   "execution_count": null,
   "id": "1bd7dd70",
   "metadata": {},
   "outputs": [],
   "source": []
  },
  {
   "cell_type": "code",
   "execution_count": null,
   "id": "1d3c1f66",
   "metadata": {},
   "outputs": [],
   "source": []
  },
  {
   "cell_type": "markdown",
   "id": "62f17a6d",
   "metadata": {},
   "source": [
    "print('this is markdown')"
   ]
  },
  {
   "cell_type": "code",
   "execution_count": 3,
   "id": "6563344d",
   "metadata": {},
   "outputs": [
    {
     "name": "stdout",
     "output_type": "stream",
     "text": [
      "this is where i type my code\n"
     ]
    }
   ],
   "source": [
    "print('this is where i type my code')"
   ]
  },
  {
   "cell_type": "markdown",
   "id": "bf2250ff",
   "metadata": {},
   "source": [
    "---"
   ]
  },
  {
   "cell_type": "code",
   "execution_count": null,
   "id": "c47e1d63",
   "metadata": {},
   "outputs": [],
   "source": [
    "## Python Basics"
   ]
  },
  {
   "cell_type": "markdown",
   "id": "c1db95bd",
   "metadata": {},
   "source": [
    "### 1.0 Comments"
   ]
  },
  {
   "cell_type": "code",
   "execution_count": 13,
   "id": "6e4f01ea",
   "metadata": {},
   "outputs": [],
   "source": [
    "# this is an example of a comment"
   ]
  },
  {
   "cell_type": "code",
   "execution_count": 15,
   "id": "24135908",
   "metadata": {},
   "outputs": [
    {
     "name": "stdout",
     "output_type": "stream",
     "text": [
      "hello world\n",
      "this is my 2nd statement\n"
     ]
    }
   ],
   "source": [
    "print('hello world')   ## this is hello world\n",
    "\n",
    "print('this is my 2nd statement')   ## this is also an example of a comment"
   ]
  },
  {
   "cell_type": "code",
   "execution_count": 16,
   "id": "44319e58",
   "metadata": {},
   "outputs": [
    {
     "name": "stdout",
     "output_type": "stream",
     "text": [
      "hello world-python basics\n"
     ]
    }
   ],
   "source": [
    "print('hello world-python basics')"
   ]
  },
  {
   "cell_type": "code",
   "execution_count": 18,
   "id": "22346a75",
   "metadata": {},
   "outputs": [
    {
     "name": "stdout",
     "output_type": "stream",
     "text": [
      "hello world-python basics\n"
     ]
    }
   ],
   "source": [
    "print(\"hello world-python basics\")"
   ]
  },
  {
   "cell_type": "code",
   "execution_count": 19,
   "id": "e44ef93b",
   "metadata": {},
   "outputs": [
    {
     "name": "stdout",
     "output_type": "stream",
     "text": [
      "\n",
      "this is an example of printing multiple lines\n",
      "this is 2nd line\n",
      "this is the 3rd line\n",
      "\n"
     ]
    }
   ],
   "source": [
    "print(\n",
    "'''\n",
    "this is an example of printing multiple lines\n",
    "this is 2nd line\n",
    "this is the 3rd line\n",
    "'''\n",
    ")"
   ]
  },
  {
   "cell_type": "code",
   "execution_count": 20,
   "id": "ef4d30e7",
   "metadata": {},
   "outputs": [
    {
     "name": "stdout",
     "output_type": "stream",
     "text": [
      "\n",
      "this is an example of printing multiple lines\n",
      "this is 2nd line\n",
      "this is the 3rd line\n",
      "\n"
     ]
    }
   ],
   "source": [
    "print(\n",
    "\"\"\"\n",
    "this is an example of printing multiple lines\n",
    "this is 2nd line\n",
    "this is the 3rd line\n",
    "\"\"\"\n",
    ")"
   ]
  },
  {
   "cell_type": "code",
   "execution_count": 21,
   "id": "4d1f647f",
   "metadata": {},
   "outputs": [
    {
     "data": {
      "text/plain": [
       "'this is a string'"
      ]
     },
     "execution_count": 21,
     "metadata": {},
     "output_type": "execute_result"
    }
   ],
   "source": [
    "'this is a string'"
   ]
  },
  {
   "cell_type": "code",
   "execution_count": 23,
   "id": "329cb1b8",
   "metadata": {},
   "outputs": [
    {
     "name": "stdout",
     "output_type": "stream",
     "text": [
      "109.32\n"
     ]
    }
   ],
   "source": [
    "print(109.32)"
   ]
  },
  {
   "cell_type": "markdown",
   "id": "8ebcc1a3",
   "metadata": {},
   "source": [
    "## Basic Data Types in Python\n",
    "- strings\n",
    "- integers\n",
    "- float\n",
    "- boolean"
   ]
  },
  {
   "cell_type": "code",
   "execution_count": 24,
   "id": "da64cf4f",
   "metadata": {},
   "outputs": [],
   "source": [
    "var1 = ' python is easy to learn, difficult to master'"
   ]
  },
  {
   "cell_type": "code",
   "execution_count": 26,
   "id": "da882e7e",
   "metadata": {},
   "outputs": [
    {
     "data": {
      "text/plain": [
       "str"
      ]
     },
     "execution_count": 26,
     "metadata": {},
     "output_type": "execute_result"
    }
   ],
   "source": [
    "## to understand the type of variable, we use type\n",
    "type(var1)"
   ]
  },
  {
   "cell_type": "code",
   "execution_count": 28,
   "id": "4939444d",
   "metadata": {},
   "outputs": [
    {
     "name": "stdout",
     "output_type": "stream",
     "text": [
      " python is easy to learn, difficult to master\n"
     ]
    }
   ],
   "source": [
    "print(var1)"
   ]
  },
  {
   "cell_type": "markdown",
   "id": "c1aaa1e9",
   "metadata": {},
   "source": [
    "####  what is a variable\n",
    "- a variable is more like a container that holds the value \n",
    "- a variable is create to be reused many times in the program\n",
    "- a variable can be of any datatype supported by python, like integer, float, boolen, string, lists, tuples, dictionary etc"
   ]
  },
  {
   "cell_type": "code",
   "execution_count": 29,
   "id": "6d5c6386",
   "metadata": {},
   "outputs": [
    {
     "name": "stdout",
     "output_type": "stream",
     "text": [
      "type of var2 : <class 'int'>\n",
      "120\n"
     ]
    }
   ],
   "source": [
    "var2 = 120\n",
    "print( 'type of var2 :', type(var2))\n",
    "print(var2)"
   ]
  },
  {
   "cell_type": "code",
   "execution_count": 30,
   "id": "b7995bf6",
   "metadata": {},
   "outputs": [
    {
     "name": "stdout",
     "output_type": "stream",
     "text": [
      "type of var2 : <class 'float'>\n",
      "120.99\n"
     ]
    }
   ],
   "source": [
    "var3 = 120.99\n",
    "print( 'type of var2 :', type(var3))\n",
    "print(var3)"
   ]
  },
  {
   "cell_type": "code",
   "execution_count": 31,
   "id": "8e94b684",
   "metadata": {},
   "outputs": [
    {
     "name": "stdout",
     "output_type": "stream",
     "text": [
      "type of var2 : <class 'bool'>\n",
      "True\n"
     ]
    }
   ],
   "source": [
    "var4 = True\n",
    "print( 'type of var2 :', type(var4))\n",
    "print(var4)"
   ]
  },
  {
   "cell_type": "markdown",
   "id": "e867aab2",
   "metadata": {},
   "source": [
    "## Additional Datatypes in Python \n",
    "\n",
    "Mutable/ Immutable data types\n",
    "\n",
    "Mutable types = List, dictionary\n",
    "Immutable types = strings, int, float, tuples"
   ]
  },
  {
   "cell_type": "code",
   "execution_count": 35,
   "id": "4c17f5be",
   "metadata": {},
   "outputs": [
    {
     "name": "stdout",
     "output_type": "stream",
     "text": [
      "type of var10 : <class 'list'>\n",
      "[1, 'i am a list', 3.2, [1, 2], (1, 2), {1: ('A', 'B')}]\n"
     ]
    }
   ],
   "source": [
    "var10 = [1,'i am a list',3.2,[1,2],(1,2),{1:('A','B')}]\n",
    "print( 'type of var10 :', type(var10))\n",
    "print(var10)"
   ]
  },
  {
   "cell_type": "code",
   "execution_count": 41,
   "id": "077a424b",
   "metadata": {},
   "outputs": [
    {
     "name": "stdout",
     "output_type": "stream",
     "text": [
      "type of var20 : <class 'tuple'>  var20 : (1, 'i am a list', 3.2, [1, 2], (1, 2), {1: ('A', 'B')})\n"
     ]
    }
   ],
   "source": [
    "var20 = (1,'i am a list',3.2,[1,2],(1,2),{1:('A','B')})\n",
    "print('type of var20 :',type(var20),' var20 :',var20)\n"
   ]
  },
  {
   "cell_type": "code",
   "execution_count": 37,
   "id": "fa22da64",
   "metadata": {},
   "outputs": [
    {
     "ename": "SyntaxError",
     "evalue": "invalid syntax (Temp/ipykernel_11568/3505782434.py, line 2)",
     "output_type": "error",
     "traceback": [
      "\u001b[1;36m  File \u001b[1;32m\"C:\\Users\\anand\\AppData\\Local\\Temp/ipykernel_11568/3505782434.py\"\u001b[1;36m, line \u001b[1;32m2\u001b[0m\n\u001b[1;33m    1var1 = 10\u001b[0m\n\u001b[1;37m     ^\u001b[0m\n\u001b[1;31mSyntaxError\u001b[0m\u001b[1;31m:\u001b[0m invalid syntax\n"
     ]
    }
   ],
   "source": [
    "##vaiable rules\n",
    "1var1 = 10"
   ]
  },
  {
   "cell_type": "code",
   "execution_count": 40,
   "id": "17df8630",
   "metadata": {},
   "outputs": [
    {
     "name": "stdout",
     "output_type": "stream",
     "text": [
      "10\n"
     ]
    }
   ],
   "source": [
    "Var11 = 10\n",
    "print(Var11)"
   ]
  },
  {
   "cell_type": "code",
   "execution_count": 42,
   "id": "bdc6b8e3",
   "metadata": {},
   "outputs": [],
   "source": [
    "### RE ASSIGNMENT OF variables"
   ]
  },
  {
   "cell_type": "code",
   "execution_count": 44,
   "id": "58d70138",
   "metadata": {},
   "outputs": [],
   "source": [
    "my_var2 = 200"
   ]
  },
  {
   "cell_type": "code",
   "execution_count": 45,
   "id": "aa64b6cf",
   "metadata": {},
   "outputs": [],
   "source": [
    "my_var2 = my_var2 + 300"
   ]
  },
  {
   "cell_type": "code",
   "execution_count": 47,
   "id": "01db4ac9",
   "metadata": {},
   "outputs": [
    {
     "name": "stdout",
     "output_type": "stream",
     "text": [
      "500\n"
     ]
    }
   ],
   "source": [
    "print(my_var2)"
   ]
  },
  {
   "cell_type": "code",
   "execution_count": 48,
   "id": "ab0e6c43",
   "metadata": {},
   "outputs": [],
   "source": [
    "### Arithmetic operations with variables"
   ]
  },
  {
   "cell_type": "code",
   "execution_count": 50,
   "id": "632cf623",
   "metadata": {},
   "outputs": [
    {
     "name": "stdout",
     "output_type": "stream",
     "text": [
      "300\n"
     ]
    }
   ],
   "source": [
    "my_var2 = my_var2 - 100\n",
    "print(my_var2)"
   ]
  },
  {
   "cell_type": "code",
   "execution_count": 54,
   "id": "fb46d008",
   "metadata": {},
   "outputs": [
    {
     "name": "stdout",
     "output_type": "stream",
     "text": [
      "16588800000.0\n",
      "2.7518828544e+20\n",
      "2.7518828544e+17\n"
     ]
    }
   ],
   "source": [
    "my_var2 = my_var2 * 2\n",
    "print(my_var2)\n",
    "\n",
    "my_var2=my_var2**2\n",
    "print(my_var2)\n",
    "\n",
    "my_var2 = my_var2/1000\n",
    "print(my_var2)"
   ]
  },
  {
   "cell_type": "code",
   "execution_count": 55,
   "id": "8017bd29",
   "metadata": {},
   "outputs": [
    {
     "name": "stdout",
     "output_type": "stream",
     "text": [
      "this is helloworld\n"
     ]
    }
   ],
   "source": [
    "print(\"this is helloworld\")"
   ]
  },
  {
   "cell_type": "code",
   "execution_count": null,
   "id": "d19b38de",
   "metadata": {},
   "outputs": [],
   "source": [
    "### mutable data types - lists and dictionaries\n"
   ]
  },
  {
   "cell_type": "code",
   "execution_count": 58,
   "id": "03b92580",
   "metadata": {},
   "outputs": [
    {
     "name": "stdout",
     "output_type": "stream",
     "text": [
      "the 2nd item in the list is :  i am a list\n"
     ]
    }
   ],
   "source": [
    "### how to access data from lists \n",
    "var10 = [1,'i am a list',3.2,[1,2],(1,2),{1:('A','B')}]\n",
    "### to access the 2nd item in the list \n",
    "print( 'the 2nd item in the list is : ', var10[1])"
   ]
  },
  {
   "cell_type": "code",
   "execution_count": 59,
   "id": "f1bd0b26",
   "metadata": {},
   "outputs": [
    {
     "data": {
      "text/plain": [
       "3.2"
      ]
     },
     "execution_count": 59,
     "metadata": {},
     "output_type": "execute_result"
    }
   ],
   "source": [
    "var10[2]"
   ]
  },
  {
   "cell_type": "code",
   "execution_count": 60,
   "id": "d55d3ff6",
   "metadata": {},
   "outputs": [
    {
     "data": {
      "text/plain": [
       "{1: ('A', 'B')}"
      ]
     },
     "execution_count": 60,
     "metadata": {},
     "output_type": "execute_result"
    }
   ],
   "source": [
    "## to access the last item\n",
    "var10[5]"
   ]
  },
  {
   "cell_type": "code",
   "execution_count": 61,
   "id": "a12753b2",
   "metadata": {},
   "outputs": [
    {
     "data": {
      "text/plain": [
       "{1: ('A', 'B')}"
      ]
     },
     "execution_count": 61,
     "metadata": {},
     "output_type": "execute_result"
    }
   ],
   "source": [
    "var10[-1]"
   ]
  },
  {
   "cell_type": "code",
   "execution_count": 62,
   "id": "5910326b",
   "metadata": {},
   "outputs": [],
   "source": [
    "### to update an item in a list using a index\n",
    "###  let us say we want to update \"i am a list\" ==> \"updated\"\n",
    "\n",
    "var10[1] = \"updated\""
   ]
  },
  {
   "cell_type": "code",
   "execution_count": 63,
   "id": "2d39adfa",
   "metadata": {},
   "outputs": [
    {
     "data": {
      "text/plain": [
       "[1, 'updated', 3.2, [1, 2], (1, 2), {1: ('A', 'B')}]"
      ]
     },
     "execution_count": 63,
     "metadata": {},
     "output_type": "execute_result"
    }
   ],
   "source": [
    "var10"
   ]
  },
  {
   "cell_type": "code",
   "execution_count": 70,
   "id": "0314738b",
   "metadata": {},
   "outputs": [
    {
     "ename": "TypeError",
     "evalue": "'tuple' object does not support item assignment",
     "output_type": "error",
     "traceback": [
      "\u001b[1;31m---------------------------------------------------------------------------\u001b[0m",
      "\u001b[1;31mTypeError\u001b[0m                                 Traceback (most recent call last)",
      "\u001b[1;32m~\\AppData\\Local\\Temp/ipykernel_11568/1333617408.py\u001b[0m in \u001b[0;36m<module>\u001b[1;34m\u001b[0m\n\u001b[0;32m      5\u001b[0m \u001b[0mvar10\u001b[0m\u001b[1;33m[\u001b[0m\u001b[1;36m4\u001b[0m\u001b[1;33m]\u001b[0m\u001b[1;33m\u001b[0m\u001b[1;33m\u001b[0m\u001b[0m\n\u001b[0;32m      6\u001b[0m \u001b[1;31m## to update a tuple - update 3.2 to 198.1\u001b[0m\u001b[1;33m\u001b[0m\u001b[1;33m\u001b[0m\u001b[0m\n\u001b[1;32m----> 7\u001b[1;33m \u001b[0mvar10\u001b[0m\u001b[1;33m[\u001b[0m\u001b[1;36m2\u001b[0m\u001b[1;33m]\u001b[0m \u001b[1;33m=\u001b[0m \u001b[1;36m198.1\u001b[0m\u001b[1;33m\u001b[0m\u001b[1;33m\u001b[0m\u001b[0m\n\u001b[0m",
      "\u001b[1;31mTypeError\u001b[0m: 'tuple' object does not support item assignment"
     ]
    }
   ],
   "source": [
    "\n",
    "## tuples are immutable\n",
    "var10 = (199,'i am a list',3.2,[1,2],(1,2),{1:('A','B')})\n",
    "\n",
    "### to access an item in the tuple\n",
    "var10[4]\n",
    "## to update a tuple - update 3.2 to 198.1\n",
    "var10[2] = 198.1 ### we get an error because tuples are immutablity"
   ]
  },
  {
   "cell_type": "code",
   "execution_count": 71,
   "id": "36a2fa71",
   "metadata": {},
   "outputs": [
    {
     "data": {
      "text/plain": [
       "tuple"
      ]
     },
     "execution_count": 71,
     "metadata": {},
     "output_type": "execute_result"
    }
   ],
   "source": [
    "var10 = (199,'i am a list',3.2,[1,2],(1,2),{1:('A','B')})\n",
    "type(var10)"
   ]
  },
  {
   "cell_type": "code",
   "execution_count": 74,
   "id": "7c79aaa9",
   "metadata": {},
   "outputs": [
    {
     "name": "stdout",
     "output_type": "stream",
     "text": [
      " python is a great programming language\n"
     ]
    }
   ],
   "source": [
    "mystr0 =  ' python is'\n",
    "mystr1 = ' a great '\n",
    "mystr2 = 'programming language'\n",
    "\n",
    "### to join or concatente strings == + \"sign\"\n",
    "print( mystr0 + mystr1 + mystr2)"
   ]
  },
  {
   "cell_type": "markdown",
   "id": "19313711",
   "metadata": {},
   "source": [
    "## Operators"
   ]
  },
  {
   "cell_type": "code",
   "execution_count": 76,
   "id": "a5ab52b5",
   "metadata": {},
   "outputs": [
    {
     "name": "stdout",
     "output_type": "stream",
     "text": [
      "120\n"
     ]
    }
   ],
   "source": [
    "varx = 20\n",
    "vary = 100\n",
    "print( varx + vary)  ## + is the operator which sums varx and vary"
   ]
  },
  {
   "cell_type": "code",
   "execution_count": 77,
   "id": "fc17b611",
   "metadata": {},
   "outputs": [
    {
     "name": "stdout",
     "output_type": "stream",
     "text": [
      "-80\n"
     ]
    }
   ],
   "source": [
    "print( varx - vary)  ## - is the operator which subtracts varx and vary"
   ]
  },
  {
   "cell_type": "code",
   "execution_count": 78,
   "id": "c4ddb92d",
   "metadata": {},
   "outputs": [
    {
     "name": "stdout",
     "output_type": "stream",
     "text": [
      "5.0\n"
     ]
    }
   ],
   "source": [
    "print( vary/ varx) ### * is the operator"
   ]
  },
  {
   "cell_type": "code",
   "execution_count": 82,
   "id": "b39909c6",
   "metadata": {},
   "outputs": [
    {
     "name": "stdout",
     "output_type": "stream",
     "text": [
      "this is division : 2.3222222222222224\n",
      "this is floor division : 2\n"
     ]
    }
   ],
   "source": [
    "varx = 209\n",
    "vary = 90\n",
    "\n",
    "print('this is division :', varx/vary)\n",
    "print( 'this is floor division :' , varx // vary)"
   ]
  },
  {
   "cell_type": "code",
   "execution_count": 159,
   "id": "d5407314",
   "metadata": {},
   "outputs": [
    {
     "name": "stdout",
     "output_type": "stream",
     "text": [
      "<class 'dict'>\n",
      "{'k1': [100, 200, 300], 'k2': (199, 288, 'abc')}\n"
     ]
    }
   ],
   "source": [
    "### dictionary\n",
    "var21 = {'k1':[100,200,300], 'k2':(199,288,'abc')}\n",
    "print(type(var21))\n",
    "print(var21)"
   ]
  },
  {
   "cell_type": "code",
   "execution_count": 164,
   "id": "6166cda0",
   "metadata": {},
   "outputs": [
    {
     "data": {
      "text/plain": [
       "dict_items([('k1', [100, 200, 300]), ('k2', (199, 288, 'abc'))])"
      ]
     },
     "execution_count": 164,
     "metadata": {},
     "output_type": "execute_result"
    }
   ],
   "source": [
    "var21.items()"
   ]
  },
  {
   "cell_type": "code",
   "execution_count": 165,
   "id": "adc92d85",
   "metadata": {},
   "outputs": [
    {
     "data": {
      "text/plain": [
       "dict_keys(['k1', 'k2'])"
      ]
     },
     "execution_count": 165,
     "metadata": {},
     "output_type": "execute_result"
    }
   ],
   "source": [
    "var21.keys()"
   ]
  },
  {
   "cell_type": "code",
   "execution_count": 163,
   "id": "cc977c3a",
   "metadata": {},
   "outputs": [
    {
     "data": {
      "text/plain": [
       "(199, 288, 'abc')"
      ]
     },
     "execution_count": 163,
     "metadata": {},
     "output_type": "execute_result"
    }
   ],
   "source": [
    "var21['k2']"
   ]
  },
  {
   "cell_type": "code",
   "execution_count": 166,
   "id": "131fb849",
   "metadata": {},
   "outputs": [
    {
     "name": "stdout",
     "output_type": "stream",
     "text": [
      "123\n"
     ]
    }
   ],
   "source": [
    "### \n",
    "varw = 123\n",
    "varz = 200.30\n",
    "print(varw)"
   ]
  },
  {
   "cell_type": "code",
   "execution_count": 168,
   "id": "71d63fc2",
   "metadata": {},
   "outputs": [
    {
     "name": "stdout",
     "output_type": "stream",
     "text": [
      "500\n"
     ]
    }
   ],
   "source": [
    "varw =  500\n",
    "print(varw)"
   ]
  },
  {
   "cell_type": "code",
   "execution_count": 89,
   "id": "2567823d",
   "metadata": {},
   "outputs": [
    {
     "name": "stdout",
     "output_type": "stream",
     "text": [
      "[100, 200, 300]\n"
     ]
    }
   ],
   "source": [
    "### to access the values/items in the dictionary\n",
    "print(var21['k1'])"
   ]
  },
  {
   "cell_type": "code",
   "execution_count": 91,
   "id": "55bfb54c",
   "metadata": {},
   "outputs": [
    {
     "name": "stdout",
     "output_type": "stream",
     "text": [
      "(199, 288, 'abc')\n"
     ]
    }
   ],
   "source": [
    "print(var21['k2'])"
   ]
  },
  {
   "cell_type": "code",
   "execution_count": 95,
   "id": "d13da636",
   "metadata": {},
   "outputs": [
    {
     "data": {
      "text/plain": [
       "'this'"
      ]
     },
     "execution_count": 95,
     "metadata": {},
     "output_type": "execute_result"
    }
   ],
   "source": [
    "### accessing strings through index\n",
    "\n",
    "var15 = 'this is a string'\n",
    "\n",
    "### to access the letter \"t\" in string\n",
    "var15[0]\n",
    "\n",
    "### to access the word \"this\" in string - we use a slice notation\n",
    "\n",
    "var15[0:4]"
   ]
  },
  {
   "cell_type": "code",
   "execution_count": 100,
   "id": "8c185ecb",
   "metadata": {},
   "outputs": [
    {
     "name": "stdout",
     "output_type": "stream",
     "text": [
      "<class 'list'>\n"
     ]
    },
    {
     "data": {
      "text/plain": [
       "'i am a list'"
      ]
     },
     "execution_count": 100,
     "metadata": {},
     "output_type": "execute_result"
    }
   ],
   "source": [
    "## slice notation in list\n",
    "var10 = [199,'i am a list',3.2,[1,2],(1,2),{1:('A','B')}]\n",
    "print(type(var10))\n",
    "\n",
    "## extract the string \"i am a list\" from this list \n",
    "var10[1]"
   ]
  },
  {
   "cell_type": "code",
   "execution_count": 102,
   "id": "f7206315",
   "metadata": {},
   "outputs": [
    {
     "data": {
      "text/plain": [
       "[199, 'i am a list', 3.2]"
      ]
     },
     "execution_count": 102,
     "metadata": {},
     "output_type": "execute_result"
    }
   ],
   "source": [
    "### to extract the 1st 3 items of list \n",
    "var10[0:3]"
   ]
  },
  {
   "cell_type": "code",
   "execution_count": null,
   "id": "e656ad71",
   "metadata": {},
   "outputs": [],
   "source": []
  },
  {
   "cell_type": "code",
   "execution_count": 104,
   "id": "e9f9ba21",
   "metadata": {},
   "outputs": [
    {
     "name": "stdout",
     "output_type": "stream",
     "text": [
      "abcdef\n"
     ]
    }
   ],
   "source": [
    "### concatenation vs addition\n",
    "\n",
    "### when both iterables are strings, + sign acts as a concatenator\n",
    "### when both iterables are numbers/int/floats + sign adds the numbers\n",
    "\n",
    "print ( 'abc'+ 'def')"
   ]
  },
  {
   "cell_type": "code",
   "execution_count": 106,
   "id": "1a64c9e6",
   "metadata": {},
   "outputs": [
    {
     "name": "stdout",
     "output_type": "stream",
     "text": [
      "579\n"
     ]
    }
   ],
   "source": [
    "print(123 + 456)"
   ]
  },
  {
   "cell_type": "code",
   "execution_count": 108,
   "id": "520fdf7b",
   "metadata": {},
   "outputs": [
    {
     "ename": "TypeError",
     "evalue": "unsupported operand type(s) for +: 'int' and 'str'",
     "output_type": "error",
     "traceback": [
      "\u001b[1;31m---------------------------------------------------------------------------\u001b[0m",
      "\u001b[1;31mTypeError\u001b[0m                                 Traceback (most recent call last)",
      "\u001b[1;32m~\\AppData\\Local\\Temp/ipykernel_11568/493428131.py\u001b[0m in \u001b[0;36m<module>\u001b[1;34m\u001b[0m\n\u001b[1;32m----> 1\u001b[1;33m \u001b[0mprint\u001b[0m\u001b[1;33m(\u001b[0m\u001b[1;36m123\u001b[0m \u001b[1;33m+\u001b[0m \u001b[1;34m'abc'\u001b[0m\u001b[1;33m)\u001b[0m\u001b[1;33m\u001b[0m\u001b[1;33m\u001b[0m\u001b[0m\n\u001b[0m",
      "\u001b[1;31mTypeError\u001b[0m: unsupported operand type(s) for +: 'int' and 'str'"
     ]
    }
   ],
   "source": [
    "print(123 + 'abc')"
   ]
  },
  {
   "cell_type": "code",
   "execution_count": 110,
   "id": "0f28d6ac",
   "metadata": {},
   "outputs": [
    {
     "name": "stdout",
     "output_type": "stream",
     "text": [
      "269.3\n"
     ]
    }
   ],
   "source": [
    "print ( 129.8 + 139.5)"
   ]
  },
  {
   "cell_type": "code",
   "execution_count": 111,
   "id": "c9e3b086",
   "metadata": {},
   "outputs": [
    {
     "name": "stdout",
     "output_type": "stream",
     "text": [
      "300\n"
     ]
    }
   ],
   "source": [
    "### variable assignments \n",
    "\n",
    "### variable reassignment \n",
    "var1 = 100\n",
    "var2 = 200\n",
    "\n",
    "var1 = var1 + var2\n",
    "print(var1)"
   ]
  },
  {
   "cell_type": "code",
   "execution_count": 112,
   "id": "7239c201",
   "metadata": {},
   "outputs": [],
   "source": [
    "var3,var4 = 300,500"
   ]
  },
  {
   "cell_type": "code",
   "execution_count": 114,
   "id": "5f7802e1",
   "metadata": {},
   "outputs": [
    {
     "name": "stdout",
     "output_type": "stream",
     "text": [
      "300\n"
     ]
    }
   ],
   "source": [
    "print(var3)"
   ]
  },
  {
   "cell_type": "code",
   "execution_count": 116,
   "id": "994a1197",
   "metadata": {},
   "outputs": [
    {
     "name": "stdout",
     "output_type": "stream",
     "text": [
      "500\n"
     ]
    }
   ],
   "source": [
    "print(var4)"
   ]
  },
  {
   "cell_type": "code",
   "execution_count": 120,
   "id": "bb18f426",
   "metadata": {},
   "outputs": [
    {
     "name": "stdout",
     "output_type": "stream",
     "text": [
      "299\n",
      "299\n"
     ]
    }
   ],
   "source": [
    "var5 = var6 = 299\n",
    "\n",
    "print(var5)\n",
    "print(var6)"
   ]
  },
  {
   "cell_type": "code",
   "execution_count": 122,
   "id": "7b028257",
   "metadata": {},
   "outputs": [
    {
     "name": "stdout",
     "output_type": "stream",
     "text": [
      "135\n"
     ]
    }
   ],
   "source": [
    "### \n",
    "var20 = 100\n",
    "## add 35 to var20\n",
    "var20 = var20 + 35\n",
    "print(var20)"
   ]
  },
  {
   "cell_type": "code",
   "execution_count": 125,
   "id": "4a848f5a",
   "metadata": {},
   "outputs": [
    {
     "name": "stdout",
     "output_type": "stream",
     "text": [
      "235\n"
     ]
    }
   ],
   "source": [
    "var20 = 200\n",
    "var20 += 35\n",
    "print(var20)"
   ]
  },
  {
   "cell_type": "code",
   "execution_count": 127,
   "id": "5cf95e66",
   "metadata": {},
   "outputs": [
    {
     "name": "stdout",
     "output_type": "stream",
     "text": [
      "165\n"
     ]
    }
   ],
   "source": [
    "var20 = 200\n",
    "var20 -= 35\n",
    "print(var20)"
   ]
  },
  {
   "cell_type": "code",
   "execution_count": null,
   "id": "57b20a18",
   "metadata": {},
   "outputs": [],
   "source": [
    "### Relational Operator"
   ]
  },
  {
   "cell_type": "code",
   "execution_count": 134,
   "id": "3e0892df",
   "metadata": {},
   "outputs": [
    {
     "name": "stdout",
     "output_type": "stream",
     "text": [
      "True\n"
     ]
    }
   ],
   "source": [
    "var99 = 100\n",
    "var97 = 100\n",
    "\n",
    "print(var99 <= var97)"
   ]
  },
  {
   "cell_type": "code",
   "execution_count": 131,
   "id": "01bdffe9",
   "metadata": {},
   "outputs": [
    {
     "name": "stdout",
     "output_type": "stream",
     "text": [
      "True\n"
     ]
    }
   ],
   "source": [
    "print(var99 > var97)"
   ]
  },
  {
   "cell_type": "code",
   "execution_count": 139,
   "id": "a269692c",
   "metadata": {},
   "outputs": [
    {
     "name": "stdout",
     "output_type": "stream",
     "text": [
      "False\n"
     ]
    }
   ],
   "source": [
    "vara = 'johnson'\n",
    "varb = 'john'\n",
    "print(vara == varb)"
   ]
  },
  {
   "cell_type": "code",
   "execution_count": null,
   "id": "715cbb8e",
   "metadata": {},
   "outputs": [],
   "source": [
    "## Logical Operators"
   ]
  },
  {
   "cell_type": "code",
   "execution_count": 141,
   "id": "49df7572",
   "metadata": {},
   "outputs": [
    {
     "name": "stdout",
     "output_type": "stream",
     "text": [
      "True\n"
     ]
    }
   ],
   "source": [
    "var3 = 10\n",
    "var4 = 10\n",
    "\n",
    "print(var3>=var4 or var43> var4)"
   ]
  },
  {
   "cell_type": "code",
   "execution_count": 145,
   "id": "5ee3dd1a",
   "metadata": {},
   "outputs": [
    {
     "name": "stdout",
     "output_type": "stream",
     "text": [
      "False\n"
     ]
    }
   ],
   "source": [
    "var3 = 10\n",
    "var4 = 10\n",
    "\n",
    "print(not var4)"
   ]
  },
  {
   "cell_type": "code",
   "execution_count": 152,
   "id": "0e7c5ead",
   "metadata": {},
   "outputs": [
    {
     "name": "stdout",
     "output_type": "stream",
     "text": [
      "True\n"
     ]
    }
   ],
   "source": [
    "var = 0\n",
    "var3 = 1\n",
    "if not var:\n",
    "    print('True')"
   ]
  },
  {
   "cell_type": "code",
   "execution_count": 154,
   "id": "47c646b4",
   "metadata": {},
   "outputs": [
    {
     "name": "stdout",
     "output_type": "stream",
     "text": [
      "false\n"
     ]
    }
   ],
   "source": [
    "if  var:\n",
    "    print('True')\n",
    "else:\n",
    "    print('false')"
   ]
  },
  {
   "cell_type": "code",
   "execution_count": null,
   "id": "bb1e151e",
   "metadata": {},
   "outputs": [],
   "source": []
  },
  {
   "cell_type": "code",
   "execution_count": null,
   "id": "3cb57bf2",
   "metadata": {},
   "outputs": [],
   "source": []
  },
  {
   "cell_type": "code",
   "execution_count": null,
   "id": "505bdf6a",
   "metadata": {},
   "outputs": [],
   "source": [
    "var5 = 10\n",
    "var6 = 10\n",
    "\n",
    "print(var3>=var4 or var43> var4)"
   ]
  },
  {
   "cell_type": "code",
   "execution_count": null,
   "id": "f115bdea",
   "metadata": {},
   "outputs": [],
   "source": []
  },
  {
   "cell_type": "code",
   "execution_count": null,
   "id": "e72ca65a",
   "metadata": {},
   "outputs": [],
   "source": [
    "### identiity and membership operators\n",
    "## is and is not\n",
    "## in and not in"
   ]
  },
  {
   "cell_type": "code",
   "execution_count": 149,
   "id": "10712fa4",
   "metadata": {},
   "outputs": [
    {
     "name": "stdout",
     "output_type": "stream",
     "text": [
      "True\n"
     ]
    }
   ],
   "source": [
    "varx = 5\n",
    "print( type(varx) is int)"
   ]
  },
  {
   "cell_type": "code",
   "execution_count": 150,
   "id": "495d99d4",
   "metadata": {},
   "outputs": [
    {
     "name": "stdout",
     "output_type": "stream",
     "text": [
      "False\n"
     ]
    }
   ],
   "source": [
    "print( type(varx) is not int)"
   ]
  },
  {
   "cell_type": "code",
   "execution_count": 151,
   "id": "afe22b80",
   "metadata": {},
   "outputs": [
    {
     "name": "stdout",
     "output_type": "stream",
     "text": [
      "True\n",
      "False\n"
     ]
    }
   ],
   "source": [
    "varc =  [ 1,2,3,4]\n",
    "print(1 in varc)\n",
    "print(10 in varc)"
   ]
  },
  {
   "cell_type": "code",
   "execution_count": 155,
   "id": "7c04f91c",
   "metadata": {},
   "outputs": [
    {
     "name": "stdout",
     "output_type": "stream",
     "text": [
      "False\n"
     ]
    }
   ],
   "source": [
    "varc =  (1,2,3,4)\n",
    "print(10 in varc)\n"
   ]
  },
  {
   "cell_type": "code",
   "execution_count": 157,
   "id": "a74989d5",
   "metadata": {},
   "outputs": [
    {
     "name": "stdout",
     "output_type": "stream",
     "text": [
      "True\n"
     ]
    }
   ],
   "source": [
    "vare = 'this is a string'\n",
    "print( 'this' in vare)"
   ]
  },
  {
   "cell_type": "code",
   "execution_count": 158,
   "id": "c5d3c02e",
   "metadata": {},
   "outputs": [],
   "source": [
    "import numpy\n",
    "import pandas \n",
    "import seaborn \n",
    "import matplotlib"
   ]
  },
  {
   "cell_type": "code",
   "execution_count": null,
   "id": "902937d0",
   "metadata": {},
   "outputs": [],
   "source": []
  },
  {
   "cell_type": "code",
   "execution_count": null,
   "id": "36d3d6e0",
   "metadata": {},
   "outputs": [],
   "source": [
    "### dynamic typing"
   ]
  },
  {
   "cell_type": "code",
   "execution_count": 169,
   "id": "89fc4756",
   "metadata": {},
   "outputs": [
    {
     "name": "stdout",
     "output_type": "stream",
     "text": [
      "<class 'int'>\n"
     ]
    }
   ],
   "source": [
    "varu = 100\n",
    "print(type(varu))"
   ]
  },
  {
   "cell_type": "code",
   "execution_count": 170,
   "id": "f3641ac2",
   "metadata": {},
   "outputs": [
    {
     "name": "stdout",
     "output_type": "stream",
     "text": [
      "<class 'str'>\n"
     ]
    }
   ],
   "source": [
    "varu = 'abc'\n",
    "print(type(varu))"
   ]
  },
  {
   "cell_type": "code",
   "execution_count": 171,
   "id": "aa10b9a0",
   "metadata": {},
   "outputs": [
    {
     "name": "stdout",
     "output_type": "stream",
     "text": [
      "<class 'float'>\n"
     ]
    }
   ],
   "source": [
    "varu = 128.88\n",
    "print(type(varu))"
   ]
  },
  {
   "cell_type": "code",
   "execution_count": null,
   "id": "72284334",
   "metadata": {},
   "outputs": [],
   "source": []
  },
  {
   "cell_type": "code",
   "execution_count": null,
   "id": "9e6504f8",
   "metadata": {},
   "outputs": [],
   "source": []
  },
  {
   "cell_type": "code",
   "execution_count": null,
   "id": "30627a0e",
   "metadata": {},
   "outputs": [],
   "source": []
  },
  {
   "cell_type": "code",
   "execution_count": null,
   "id": "235aac12",
   "metadata": {},
   "outputs": [],
   "source": []
  }
 ],
 "metadata": {
  "kernelspec": {
   "display_name": "Python 3 (ipykernel)",
   "language": "python",
   "name": "python3"
  },
  "language_info": {
   "codemirror_mode": {
    "name": "ipython",
    "version": 3
   },
   "file_extension": ".py",
   "mimetype": "text/x-python",
   "name": "python",
   "nbconvert_exporter": "python",
   "pygments_lexer": "ipython3",
   "version": "3.9.7"
  }
 },
 "nbformat": 4,
 "nbformat_minor": 5
}
