{
 "cells": [
  {
   "cell_type": "markdown",
   "metadata": {
    "id": "Z2WqmnG9NtX1"
   },
   "source": [
    "# Python for Programming\n",
    "# Agenda\n",
    "- Jupyter Refresher\n",
    "- Jupyter shortcuts\n",
    "- Python Basics :- Comments, Variables, Data Types\n",
    "- Operators:- Arithmetic, assigment, logical, relational\n",
    "- Common Packages\n"
   ]
  },
  {
   "cell_type": "markdown",
   "metadata": {
    "id": "-vzSA08inJZJ"
   },
   "source": [
    "# 1. Jupyter   Refresher\n",
    "- Jupyter information available at      https://jupyter.org\n",
    "\n",
    "- Jupyter is an IDE(Integrated  Development Environment)\n",
    "- Open source application that allows us to create and share documents that contain live code, \n",
    "  equations,visualizations, narrative text \n",
    "- can be used for data cleaning, transformation,simulation,statistical modelling,data viz,machine learning and more!!!!\n",
    "- python code written in Jupyter environment has .ipynb extn\n",
    "  \n",
    "- Used for coding Python, R scripts ,Scala and packages like numpy,scipy,pandas,matplotlib,seaborn,plotly etc\n",
    "\n",
    "- note books can be shared with others using email,dropbox,github and the jupyter notebook viewer\n",
    "\n",
    "- interative output- code can produce html images,videos, etc\n",
    "\n",
    "- integration with big data tools like apache spar, from python, r and scale.\n",
    "\n",
    "- explore of data using pandas, scikit learn, ggplot, tensorflow etc\n"
   ]
  },
  {
   "cell_type": "markdown",
   "metadata": {
    "id": "AJ1LDgCdnJZO"
   },
   "source": [
    "## Jupyter Features\n",
    "\n",
    "  - Auto indentation \n",
    "  - press tab Auto filling\n",
    "  - Press shift + tab for help/manuals"
   ]
  },
  {
   "cell_type": "markdown",
   "metadata": {
    "id": "fh-SPrrSnJZL"
   },
   "source": [
    "# 2. Key Strokes in Jupyter (Shortcuts)\n",
    "    -to add a new cell press alt + enter\n",
    "    \n",
    "    -to execute/run a cell press ctrl + enter \n",
    "    \n",
    "    -to delete a cell press esc , then press ctrl + d\n",
    "    \n",
    "    -to copy a group of cells and paste in another cell\n",
    "        go to the particular cell\n",
    "        press Esc key\n",
    "        press shift key + use upward or downward arrow keys to select the number of cells\n",
    "        ctrl + c to copy\n",
    "        go to a new cell\n",
    "        press ctrl + v to paste\n",
    "    \n",
    "     - Cell Notations\n",
    "         - Markdown - allows us to write comments about code without using \"#\"\n",
    "         - code  - allows us to write code and run the code\n",
    "         - rawnbconvert - allows to convert the notebook to another format like html etc\n",
    "      \n",
    "     - to create whitespace between 1 cell and another cell\n",
    "        - change the characteristic of the cell to Markdown                                 \n",
    "                                      \n",
    "        - enter 3 dashes in the cell and press alt + enter"
   ]
  },
  {
   "cell_type": "code",
   "execution_count": null,
   "metadata": {
    "id": "MxJ6K3ATnJZl"
   },
   "outputs": [],
   "source": [
    "### jupyter trick - type half of the word \"my\" and press \"TAB\" key. we will see list of words that start with word \"my\" "
   ]
  },
  {
   "cell_type": "code",
   "execution_count": null,
   "metadata": {
    "id": "quNvG-WWnJZo"
   },
   "outputs": [],
   "source": [
    "## jupyter trick- if we want to know what a particular function does. we can call python help in jupytre by pressing\n",
    "##  shift + tab key"
   ]
  },
  {
   "cell_type": "markdown",
   "metadata": {
    "id": "bkoBDUDdHXpC"
   },
   "source": [
    "# 3. Basic Python - Comments, Variables, and Data types"
   ]
  },
  {
   "cell_type": "markdown",
   "metadata": {
    "id": "fvWmlcY6ORhR"
   },
   "source": [
    "## Comments"
   ]
  },
  {
   "cell_type": "code",
   "execution_count": null,
   "metadata": {
    "colab": {
     "base_uri": "https://localhost:8080/"
    },
    "executionInfo": {
     "elapsed": 539,
     "status": "ok",
     "timestamp": 1637325356323,
     "user": {
      "displayName": "Garima Rahangdale",
      "photoUrl": "https://lh3.googleusercontent.com/a/default-user=s64",
      "userId": "12135158262547382026"
     },
     "user_tz": -330
    },
    "id": "DyBNHNlvHbIA",
    "outputId": "23467430-be41-41c7-cb3b-3f16cf1e56cf"
   },
   "outputs": [
    {
     "name": "stdout",
     "output_type": "stream",
     "text": [
      "1\n"
     ]
    }
   ],
   "source": [
    "# This is a comment\n",
    "print(1)"
   ]
  },
  {
   "cell_type": "code",
   "execution_count": null,
   "metadata": {
    "colab": {
     "base_uri": "https://localhost:8080/"
    },
    "executionInfo": {
     "elapsed": 650,
     "status": "ok",
     "timestamp": 1637325350750,
     "user": {
      "displayName": "Garima Rahangdale",
      "photoUrl": "https://lh3.googleusercontent.com/a/default-user=s64",
      "userId": "12135158262547382026"
     },
     "user_tz": -330
    },
    "id": "f4pDbo2XMTko",
    "outputId": "79c1b3d2-93cb-43d2-b6fb-af3fa32f98c5"
   },
   "outputs": [
    {
     "name": "stdout",
     "output_type": "stream",
     "text": [
      "1\n"
     ]
    }
   ],
   "source": [
    "\"\"\"\n",
    "This is comment\n",
    "in multiple lines\n",
    "\"\"\"\n",
    "print(1)"
   ]
  },
  {
   "cell_type": "markdown",
   "metadata": {
    "id": "bnY5JiZkOTJU"
   },
   "source": [
    "## Datatypes"
   ]
  },
  {
   "cell_type": "code",
   "execution_count": null,
   "metadata": {
    "id": "SAacYH17OWVL"
   },
   "outputs": [],
   "source": [
    "var1 = 2 # int type\n",
    "var2 = 'Learning is fun' #string type\n",
    "var3 = 2.3 #float type\n",
    "var4 = '23' #string type\n",
    "var5 = True #bool type"
   ]
  },
  {
   "cell_type": "code",
   "execution_count": null,
   "metadata": {
    "colab": {
     "base_uri": "https://localhost:8080/"
    },
    "executionInfo": {
     "elapsed": 634,
     "status": "ok",
     "timestamp": 1637327393301,
     "user": {
      "displayName": "Garima Rahangdale",
      "photoUrl": "https://lh3.googleusercontent.com/a/default-user=s64",
      "userId": "12135158262547382026"
     },
     "user_tz": -330
    },
    "id": "y8TfwkkeOWXo",
    "outputId": "705a4fc5-9b78-4c7b-c301-7c8be184c9a8"
   },
   "outputs": [
    {
     "name": "stdout",
     "output_type": "stream",
     "text": [
      "<class 'int'>\n",
      "<class 'str'>\n",
      "<class 'float'>\n",
      "<class 'str'>\n",
      "<class 'bool'>\n"
     ]
    }
   ],
   "source": [
    "print(type(var1))\n",
    "print(type(var2))\n",
    "print(type(var3))\n",
    "print(type(var4))\n",
    "print(type(var5))"
   ]
  },
  {
   "cell_type": "markdown",
   "metadata": {
    "id": "Wi9RLtz4OWtC"
   },
   "source": [
    "## Variables"
   ]
  },
  {
   "cell_type": "markdown",
   "metadata": {
    "id": "XshCEuStnJZj"
   },
   "source": [
    "\n",
    "\n",
    "Variables are objects that hold a value \n",
    "\n",
    "eg - var1 = 100   --> 100 is assigned to the variable \"var1\" \n",
    "\n",
    "##### internally what happens\n",
    "var1 is assigned an address in the memory and the value of 100 is assigned to var1\n",
    "\n",
    "\n",
    "Rules in Python for variable names\n",
    "The names you use when creating these labels need to follow a few rules:\n",
    "\n",
    "1. Names can not start with a number.\n",
    "2. There can be no spaces in the name, use _ instead.  WRONG - VAR 1  RIGHT - VAR_1\n",
    "3. Can't use any of these symbols :'\",<>/?|\\()!@#$%^&*~-+\n",
    "4. It's considered best practice (PEP8) that names are lowercase.\n",
    "5. Avoid using the characters 'l' (lowercase letter el), 'O' (uppercase letter oh), \n",
    "   or 'I' (uppercase letter eye) as single character variable names.\n",
    "6. Avoid using words that have special meaning in Python like \"list\" and \"str\""
   ]
  },
  {
   "cell_type": "code",
   "execution_count": null,
   "metadata": {
    "colab": {
     "base_uri": "https://localhost:8080/"
    },
    "executionInfo": {
     "elapsed": 644,
     "status": "ok",
     "timestamp": 1637325392068,
     "user": {
      "displayName": "Garima Rahangdale",
      "photoUrl": "https://lh3.googleusercontent.com/a/default-user=s64",
      "userId": "12135158262547382026"
     },
     "user_tz": -330
    },
    "id": "kVUbenkCnJZj",
    "outputId": "3768bd53-d00d-4446-8915-6e9f58a0a068"
   },
   "outputs": [
    {
     "name": "stdout",
     "output_type": "stream",
     "text": [
      "5\n"
     ]
    }
   ],
   "source": [
    "### let us create an object called myvar0 and assign number 5 to it\n",
    "myvar0 = 5\n",
    "print(myvar0)"
   ]
  },
  {
   "cell_type": "code",
   "execution_count": 1,
   "metadata": {
    "colab": {
     "base_uri": "https://localhost:8080/",
     "height": 187
    },
    "executionInfo": {
     "elapsed": 1647,
     "status": "error",
     "timestamp": 1651034910977,
     "user": {
      "displayName": "Garima Rahangdale",
      "userId": "12135158262547382026"
     },
     "user_tz": -330
    },
    "id": "R1v8UbWXnJZk",
    "outputId": "6c8633d8-629f-4268-ddec-a5aadc3c4d31"
   },
   "outputs": [
    {
     "ename": "NameError",
     "evalue": "ignored",
     "output_type": "error",
     "traceback": [
      "\u001b[0;31m---------------------------------------------------------------------------\u001b[0m",
      "\u001b[0;31mNameError\u001b[0m                                 Traceback (most recent call last)",
      "\u001b[0;32m<ipython-input-1-971ba456d82a>\u001b[0m in \u001b[0;36m<module>\u001b[0;34m()\u001b[0m\n\u001b[1;32m      1\u001b[0m \u001b[0mmyVar02\u001b[0m\u001b[0;34m=\u001b[0m\u001b[0;36m3000\u001b[0m\u001b[0;34m\u001b[0m\u001b[0;34m\u001b[0m\u001b[0m\n\u001b[0;32m----> 2\u001b[0;31m \u001b[0mprint\u001b[0m\u001b[0;34m(\u001b[0m\u001b[0mmyvar02\u001b[0m\u001b[0;34m)\u001b[0m  \u001b[0;31m### case sensitive..hence error\u001b[0m\u001b[0;34m\u001b[0m\u001b[0;34m\u001b[0m\u001b[0m\n\u001b[0m",
      "\u001b[0;31mNameError\u001b[0m: name 'myvar02' is not defined"
     ]
    }
   ],
   "source": [
    "myVar02=3000\n",
    "print(myvar02)  ### case sensitive..hence error"
   ]
  },
  {
   "cell_type": "markdown",
   "metadata": {
    "id": "tB1STf1EnJZp"
   },
   "source": [
    "### Concept of Dynamic Typing in Python\n",
    "type of the variable will change based on the value assigned to the variable\n",
    "very powerful, but can be abused if the programmer does not take enough precautions"
   ]
  },
  {
   "cell_type": "code",
   "execution_count": null,
   "metadata": {
    "id": "EzXxy6mbnJZp",
    "outputId": "5d7aeb47-cc30-4384-93a1-2a1c9b90c505"
   },
   "outputs": [
    {
     "data": {
      "text/plain": [
       "int"
      ]
     },
     "execution_count": 48,
     "metadata": {},
     "output_type": "execute_result"
    }
   ],
   "source": [
    "my_new_var0 = 100\n",
    "type(my_new_var0)"
   ]
  },
  {
   "cell_type": "code",
   "execution_count": null,
   "metadata": {
    "id": "oF6j6U8wnJZq",
    "outputId": "cb1d1e9a-86e5-472b-87d6-5f3221380dcf"
   },
   "outputs": [
    {
     "data": {
      "text/plain": [
       "float"
      ]
     },
     "execution_count": 50,
     "metadata": {},
     "output_type": "execute_result"
    }
   ],
   "source": [
    "my_new_var0 = 199.99\n",
    "type(my_new_var0)"
   ]
  },
  {
   "cell_type": "code",
   "execution_count": null,
   "metadata": {
    "id": "FqBH6rsdnJZq",
    "outputId": "d4b7ad54-bd45-49c2-df58-7d68389f8341"
   },
   "outputs": [
    {
     "data": {
      "text/plain": [
       "str"
      ]
     },
     "execution_count": 51,
     "metadata": {},
     "output_type": "execute_result"
    }
   ],
   "source": [
    "my_new_var0 = 'this is a string'\n",
    "type(my_new_var0)"
   ]
  },
  {
   "cell_type": "code",
   "execution_count": null,
   "metadata": {
    "id": "pU8I1f_tnJZr",
    "outputId": "6f399706-0e31-41f4-a9cc-d8a35868ffa5"
   },
   "outputs": [
    {
     "data": {
      "text/plain": [
       "list"
      ]
     },
     "execution_count": 52,
     "metadata": {},
     "output_type": "execute_result"
    }
   ],
   "source": [
    "my_new_var0 = [1,2,3]\n",
    "type(my_new_var0)"
   ]
  },
  {
   "cell_type": "markdown",
   "metadata": {
    "id": "91p3pUGHnJZr"
   },
   "source": [
    "### Re assignment of variables \n",
    " concept of operating with a variable and assigning the output of operation to the same variable"
   ]
  },
  {
   "cell_type": "code",
   "execution_count": null,
   "metadata": {
    "id": "N8OHzt4DnJZs",
    "outputId": "138aacb7-3d88-4626-e671-e572d6eada47"
   },
   "outputs": [
    {
     "name": "stdout",
     "output_type": "stream",
     "text": [
      "20\n"
     ]
    }
   ],
   "source": [
    "### reassignment\n",
    "my_var2 = 10\n",
    "my_var2 = my_var2 + my_var2\n",
    "print(my_var2)"
   ]
  },
  {
   "cell_type": "code",
   "execution_count": null,
   "metadata": {
    "id": "Y_whd11qnJZs",
    "outputId": "2dd9f6b8-8636-402f-a169-0493481dee31"
   },
   "outputs": [
    {
     "name": "stdout",
     "output_type": "stream",
     "text": [
      "20000\n"
     ]
    }
   ],
   "source": [
    "print(my_var2*1000)"
   ]
  },
  {
   "cell_type": "code",
   "execution_count": null,
   "metadata": {
    "id": "IOFLhOePnJZt",
    "outputId": "0ff3fabe-caef-4b66-c6e9-4a23cc82ac46"
   },
   "outputs": [
    {
     "name": "stdout",
     "output_type": "stream",
     "text": [
      "<class 'int'>\n"
     ]
    }
   ],
   "source": [
    "### to know the data type of a variable use type function\n",
    "print(type(my_var0))"
   ]
  },
  {
   "cell_type": "code",
   "execution_count": null,
   "metadata": {
    "id": "iTqnWVN5nJZt",
    "outputId": "ac6e5b2e-a33c-4992-dd42-fd4edda79f21"
   },
   "outputs": [
    {
     "name": "stdout",
     "output_type": "stream",
     "text": [
      "10000\n",
      "<class 'int'>\n"
     ]
    }
   ],
   "source": [
    "### python follows what is called as \"dynamic typing\" \n",
    "### based on the data assigned the type of the variable can change\n",
    "my_var4 = 10000\n",
    "print(my_var4)\n",
    "print(type(my_var4))"
   ]
  },
  {
   "cell_type": "code",
   "execution_count": null,
   "metadata": {
    "id": "uJU8XQN6nJZu",
    "outputId": "84260773-df3e-4782-8e50-1bef9561294f"
   },
   "outputs": [
    {
     "name": "stdout",
     "output_type": "stream",
     "text": [
      " first string \n",
      "<class 'str'>\n"
     ]
    }
   ],
   "source": [
    "my_var4 = \" first string \"\n",
    "print(my_var4)\n",
    "print(type(my_var4))"
   ]
  },
  {
   "cell_type": "code",
   "execution_count": null,
   "metadata": {
    "id": "uaBnYhoKnJZv"
   },
   "outputs": [],
   "source": [
    "my_var5 = ' second string '"
   ]
  },
  {
   "cell_type": "code",
   "execution_count": null,
   "metadata": {
    "id": "7Pz5of87nJZv",
    "outputId": "31d2a153-fe63-4918-ecac-fb1aab26b16a"
   },
   "outputs": [
    {
     "name": "stdout",
     "output_type": "stream",
     "text": [
      " first string  second string \n",
      "<class 'str'>\n"
     ]
    }
   ],
   "source": [
    "### string concatenation - two strings are added\n",
    "my_var6 = my_var4 + my_var5\n",
    "print(my_var6)\n",
    "print(type(my_var6))"
   ]
  },
  {
   "cell_type": "code",
   "execution_count": null,
   "metadata": {
    "id": "CyXWK4ywnJZv",
    "outputId": "37f3d77f-862a-48c9-9235-bd413fb36922"
   },
   "outputs": [
    {
     "ename": "TypeError",
     "evalue": "must be str, not int",
     "output_type": "error",
     "traceback": [
      "\u001b[1;31m---------------------------------------------------------------------------\u001b[0m",
      "\u001b[1;31mTypeError\u001b[0m                                 Traceback (most recent call last)",
      "\u001b[1;32m<ipython-input-86-9b4015fd829c>\u001b[0m in \u001b[0;36m<module>\u001b[1;34m()\u001b[0m\n\u001b[0;32m      1\u001b[0m \u001b[0mmy_var7\u001b[0m \u001b[1;33m=\u001b[0m \u001b[1;36m100\u001b[0m\u001b[1;33m\u001b[0m\u001b[0m\n\u001b[1;32m----> 2\u001b[1;33m \u001b[0mmy_var8\u001b[0m \u001b[1;33m=\u001b[0m \u001b[0mmy_var6\u001b[0m \u001b[1;33m+\u001b[0m \u001b[0mmy_var7\u001b[0m\u001b[1;33m\u001b[0m\u001b[0m\n\u001b[0m\u001b[0;32m      3\u001b[0m \u001b[0mprint\u001b[0m\u001b[1;33m(\u001b[0m\u001b[0mmy_var8\u001b[0m\u001b[1;33m)\u001b[0m\u001b[1;33m\u001b[0m\u001b[0m\n\u001b[0;32m      4\u001b[0m \u001b[1;33m\u001b[0m\u001b[0m\n\u001b[0;32m      5\u001b[0m \u001b[1;31m### gives an error as below\u001b[0m\u001b[1;33m\u001b[0m\u001b[1;33m\u001b[0m\u001b[0m\n",
      "\u001b[1;31mTypeError\u001b[0m: must be str, not int"
     ]
    }
   ],
   "source": [
    "my_var7 = 100\n",
    "my_var8 = my_var6 + my_var7\n",
    "print(my_var8)\n",
    "\n",
    "### gives an error as below            \n"
   ]
  },
  {
   "cell_type": "code",
   "execution_count": null,
   "metadata": {
    "id": "GUGhLWfJnJZw",
    "outputId": "24a3f1dc-537c-4fe2-a67e-df702d25e5c8"
   },
   "outputs": [
    {
     "name": "stdout",
     "output_type": "stream",
     "text": [
      " first string  second string  100\n"
     ]
    }
   ],
   "source": [
    "print(my_var6,my_var7)"
   ]
  },
  {
   "cell_type": "markdown",
   "metadata": {
    "id": "FkUALxVeHql4"
   },
   "source": [
    "# 4. Operators\n",
    "The operator can be defined as a symbol which is responsible for a particular operation between two operands. Operators are the pillars of a program on which the logic is built in a specific programming language. Python provides a variety of operators, which are described as follows.\n",
    "\n",
    "- Arithmetic operators\n",
    "- Comparison operators\n",
    "- Assignment Operators\n",
    "- Logical Operators"
   ]
  },
  {
   "cell_type": "markdown",
   "metadata": {
    "id": "MNEvv9JAnJZS"
   },
   "source": [
    "## Arithmetic"
   ]
  },
  {
   "cell_type": "markdown",
   "metadata": {
    "id": "Xs-R6SwfnJZT"
   },
   "source": [
    "Basic Arithmetic In Python\n",
    "-  Numbers in Python - INTEGERS (both +ve and -ve numbers), Floating point number (decimal numbers)\n",
    "-  Basic Arithmetic Operations\n",
    "\n"
   ]
  },
  {
   "cell_type": "code",
   "execution_count": null,
   "metadata": {
    "id": "xOaFkTFJnJZV",
    "outputId": "6431f48c-7009-4c4b-85ce-a73194dc8f9f"
   },
   "outputs": [
    {
     "name": "stdout",
     "output_type": "stream",
     "text": [
      "this is arithmetic add\n",
      "3\n",
      "7\n"
     ]
    }
   ],
   "source": [
    "## TO PRINT IN PYTHON\n",
    "## \n",
    "print(\"this is arithmetic add\")\n",
    "print(1+2)\n",
    "print(3+4)"
   ]
  },
  {
   "cell_type": "code",
   "execution_count": null,
   "metadata": {
    "id": "I_9dWy9ynJZX",
    "outputId": "cbd25e6b-8ce7-402a-8152-10331824aeeb"
   },
   "outputs": [
    {
     "name": "stdout",
     "output_type": "stream",
     "text": [
      "3\n",
      "7\n"
     ]
    }
   ],
   "source": [
    "## Addition \n",
    "### recommend a print statement\n",
    "print(1 + 2)\n",
    "print(3 + 4)\n",
    "\n",
    "### the output of 3+4 overrides the output of 1+2\n"
   ]
  },
  {
   "cell_type": "code",
   "execution_count": null,
   "metadata": {
    "id": "hKOkRDGbnJZY",
    "outputId": "9ed50393-bd30-44e8-b095-3581aebaaedf"
   },
   "outputs": [
    {
     "name": "stdout",
     "output_type": "stream",
     "text": [
      "80\n",
      "-120\n"
     ]
    }
   ],
   "source": [
    "### subraction\n",
    "print(100-20)\n",
    "print(-100-20)"
   ]
  },
  {
   "cell_type": "code",
   "execution_count": null,
   "metadata": {
    "id": "d4OaWwB7nJZY",
    "outputId": "23e55b2b-e3bd-403c-b8f4-a31fdc54c33b"
   },
   "outputs": [
    {
     "name": "stdout",
     "output_type": "stream",
     "text": [
      "2000\n",
      "-2161.465\n"
     ]
    }
   ],
   "source": [
    "###multiplication\n",
    "print(100*20)\n",
    "print(-100.30  * 21.55)"
   ]
  },
  {
   "cell_type": "code",
   "execution_count": null,
   "metadata": {
    "id": "aKFC3P_NnJZZ",
    "outputId": "aaa4f6d9-377b-4c44-bc69-f02d358024fb"
   },
   "outputs": [
    {
     "name": "stdout",
     "output_type": "stream",
     "text": [
      "15.0\n",
      "1.5\n",
      "-10.526315789473685\n",
      "10.0\n"
     ]
    }
   ],
   "source": [
    "#division\n",
    "print(300/20)\n",
    "print(3/2)\n",
    "print(-200/19)\n",
    "print(-100/-10)"
   ]
  },
  {
   "cell_type": "code",
   "execution_count": null,
   "metadata": {
    "id": "kzK8I-9bnJZa",
    "outputId": "acc62af3-2e6d-42a7-e83e-e8aeba3efeba"
   },
   "outputs": [
    {
     "name": "stdout",
     "output_type": "stream",
     "text": [
      "1.0\n"
     ]
    }
   ],
   "source": [
    "### floor division ### quotient\n",
    "### the // operator it truncates the decimal without rounding and returns only the integer result\n",
    "print(7.0//4)"
   ]
  },
  {
   "cell_type": "code",
   "execution_count": null,
   "metadata": {
    "id": "fq6iuIz3nJZb",
    "outputId": "a884b0c8-7cfd-429a-a079-c5b6b3eb3ff2"
   },
   "outputs": [
    {
     "name": "stdout",
     "output_type": "stream",
     "text": [
      "3.0\n"
     ]
    }
   ],
   "source": [
    "### Module \n",
    "print(7.0 % 4)"
   ]
  },
  {
   "cell_type": "code",
   "execution_count": null,
   "metadata": {
    "id": "IQzyz-ujnJZd",
    "outputId": "5bd38e02-900d-47df-bd80-7d3f5b9973b9"
   },
   "outputs": [
    {
     "name": "stdout",
     "output_type": "stream",
     "text": [
      "8\n"
     ]
    }
   ],
   "source": [
    "### powers\n",
    "print(2**3)"
   ]
  },
  {
   "cell_type": "code",
   "execution_count": null,
   "metadata": {
    "id": "csKXmFf_nJZd",
    "outputId": "fd62c42e-4570-4e65-c221-8c930a26bbee"
   },
   "outputs": [
    {
     "name": "stdout",
     "output_type": "stream",
     "text": [
      "0.125\n"
     ]
    }
   ],
   "source": [
    "print(2**-3)"
   ]
  },
  {
   "cell_type": "code",
   "execution_count": null,
   "metadata": {
    "id": "G4L3wdQGnJZe",
    "outputId": "6361fe59-55ec-434c-e7d2-ee947927355d"
   },
   "outputs": [
    {
     "name": "stdout",
     "output_type": "stream",
     "text": [
      "1.4142135623730951\n"
     ]
    }
   ],
   "source": [
    "print(2**0.5)"
   ]
  },
  {
   "cell_type": "markdown",
   "metadata": {
    "id": "s8-Z17p1nJZf"
   },
   "source": [
    "### BODMAS (Bracket, Off, Division, Multiplication, Addition, Subtraction)\n"
   ]
  },
  {
   "cell_type": "code",
   "execution_count": null,
   "metadata": {
    "id": "4tYM-fsfnJZf",
    "outputId": "af41572e-c5a7-44fc-abc7-0f7693177bb9"
   },
   "outputs": [
    {
     "name": "stdout",
     "output_type": "stream",
     "text": [
      "105\n"
     ]
    }
   ],
   "source": [
    "print(2 + 10 * 10 + 3)"
   ]
  },
  {
   "cell_type": "code",
   "execution_count": null,
   "metadata": {
    "id": "KRVKeBQGnJZf",
    "outputId": "4bd54e23-4a73-4efd-9589-1b392f57b91a"
   },
   "outputs": [
    {
     "name": "stdout",
     "output_type": "stream",
     "text": [
      "156\n"
     ]
    }
   ],
   "source": [
    "print((2+10) * (10+3))"
   ]
  },
  {
   "cell_type": "code",
   "execution_count": null,
   "metadata": {
    "id": "1JGmrfuGnJZg",
    "outputId": "c23d3a1c-4cfe-4e50-f044-5483a298a82d"
   },
   "outputs": [
    {
     "name": "stdout",
     "output_type": "stream",
     "text": [
      "5.551115123125783e-17\n"
     ]
    }
   ],
   "source": [
    "print((0.1+0.2)-(0.3))\n",
    "\n",
    "### ideally we should get a zero.\n",
    "### python and our computers follows what is called as \"floating point accuracy\"\n",
    "### even though for the naked eye, the answer is zero , python returns a number which extremely closer to zero, \n",
    "#### but not exactly zero\n",
    "#### 5.551115123125783e-17 can be translated as = 1/5.551115123125783 e**17\n",
    "\n",
    " "
   ]
  },
  {
   "cell_type": "markdown",
   "metadata": {
    "id": "0KHyQv7RJYz3"
   },
   "source": [
    "## Assignment Operator\n",
    "\n",
    "= It asssigns value of right side of expression to left side operand\n",
    "\n",
    "Combined operators:- +=, -=, *=, /=, %=, //=, **=    "
   ]
  },
  {
   "cell_type": "code",
   "execution_count": null,
   "metadata": {
    "id": "TXyFAfyvJvm5"
   },
   "outputs": [],
   "source": [
    "var1 = 21\n",
    "var2 = 'great learning'\n",
    "var3 = '21'"
   ]
  },
  {
   "cell_type": "code",
   "execution_count": null,
   "metadata": {
    "colab": {
     "base_uri": "https://localhost:8080/"
    },
    "executionInfo": {
     "elapsed": 7,
     "status": "ok",
     "timestamp": 1637327533184,
     "user": {
      "displayName": "Garima Rahangdale",
      "photoUrl": "https://lh3.googleusercontent.com/a/default-user=s64",
      "userId": "12135158262547382026"
     },
     "user_tz": -330
    },
    "id": "xw3JhBZ3JYPx",
    "outputId": "eb208fec-44f2-4455-9934-f14b8a36f5d0"
   },
   "outputs": [
    {
     "name": "stdout",
     "output_type": "stream",
     "text": [
      "5\n",
      "6\n",
      "7\n"
     ]
    }
   ],
   "source": [
    "# Multiple assignment\n",
    "a, b, c = 5, 6, 7\n",
    "print(a)\n",
    "print(b)\n",
    "print(c)"
   ]
  },
  {
   "cell_type": "code",
   "execution_count": null,
   "metadata": {
    "colab": {
     "base_uri": "https://localhost:8080/"
    },
    "executionInfo": {
     "elapsed": 11,
     "status": "ok",
     "timestamp": 1637327533984,
     "user": {
      "displayName": "Garima Rahangdale",
      "photoUrl": "https://lh3.googleusercontent.com/a/default-user=s64",
      "userId": "12135158262547382026"
     },
     "user_tz": -330
    },
    "id": "GEF0vrkUJddh",
    "outputId": "d502ea77-0d6f-497b-84b6-96cbb276284f"
   },
   "outputs": [
    {
     "name": "stdout",
     "output_type": "stream",
     "text": [
      "99\n",
      "99\n",
      "99\n"
     ]
    }
   ],
   "source": [
    "# Multiple assignment\n",
    "x = y = z = 99\n",
    "print(x)\n",
    "print(y)\n",
    "print(z)"
   ]
  },
  {
   "cell_type": "code",
   "execution_count": null,
   "metadata": {
    "colab": {
     "base_uri": "https://localhost:8080/"
    },
    "executionInfo": {
     "elapsed": 1100,
     "status": "ok",
     "timestamp": 1637327569943,
     "user": {
      "displayName": "Garima Rahangdale",
      "photoUrl": "https://lh3.googleusercontent.com/a/default-user=s64",
      "userId": "12135158262547382026"
     },
     "user_tz": -330
    },
    "id": "-W981NBYJgFA",
    "outputId": "a32de6db-93f6-488f-ba4a-a33ad051eb92"
   },
   "outputs": [
    {
     "name": "stdout",
     "output_type": "stream",
     "text": [
      "2 before executing\n",
      "4 after executing +=\n"
     ]
    }
   ],
   "source": [
    "var1 = 2\n",
    "print(var1, 'before executing')\n",
    "var1 +=2\n",
    "print(var1, 'after executing +=')"
   ]
  },
  {
   "cell_type": "code",
   "execution_count": null,
   "metadata": {
    "colab": {
     "base_uri": "https://localhost:8080/"
    },
    "executionInfo": {
     "elapsed": 468,
     "status": "ok",
     "timestamp": 1637327615365,
     "user": {
      "displayName": "Garima Rahangdale",
      "photoUrl": "https://lh3.googleusercontent.com/a/default-user=s64",
      "userId": "12135158262547382026"
     },
     "user_tz": -330
    },
    "id": "RWNIyy5_VCCK",
    "outputId": "50ee6437-3bd6-46be-b21e-3a3842572e7d"
   },
   "outputs": [
    {
     "name": "stdout",
     "output_type": "stream",
     "text": [
      "2 before executing\n",
      "0 after executing -=\n"
     ]
    }
   ],
   "source": [
    "var1 = 2\n",
    "print(var1, 'before executing')\n",
    "var1 -=2\n",
    "print(var1, 'after executing -=')"
   ]
  },
  {
   "cell_type": "code",
   "execution_count": null,
   "metadata": {
    "colab": {
     "base_uri": "https://localhost:8080/"
    },
    "executionInfo": {
     "elapsed": 738,
     "status": "ok",
     "timestamp": 1637327745266,
     "user": {
      "displayName": "Garima Rahangdale",
      "photoUrl": "https://lh3.googleusercontent.com/a/default-user=s64",
      "userId": "12135158262547382026"
     },
     "user_tz": -330
    },
    "id": "cqDkHwvpVnH8",
    "outputId": "4ea79768-8b8a-4b8e-86ff-e328ae659584"
   },
   "outputs": [
    {
     "name": "stdout",
     "output_type": "stream",
     "text": [
      "20 before executing\n",
      "10 after executing //=\n"
     ]
    }
   ],
   "source": [
    "var1 = 20\n",
    "print(var1, 'before executing')\n",
    "var1 //=2\n",
    "print(var1, 'after executing //=')"
   ]
  },
  {
   "cell_type": "markdown",
   "metadata": {
    "id": "3shdMWN5VTj-"
   },
   "source": [
    "Similarly we can do this for other operators as well"
   ]
  },
  {
   "cell_type": "markdown",
   "metadata": {
    "id": "_ga6qSKLPB2a"
   },
   "source": [
    "## Relational Operator"
   ]
  },
  {
   "cell_type": "markdown",
   "metadata": {
    "id": "kYL6l4zuXM-g"
   },
   "source": [
    "*   '<' Less than\n",
    "*   '>' Greater than\n",
    "*   '==' Equal to\n",
    "*   '!=' Not equal to\n",
    "*   '>=' Greater than or equal to\n",
    "*   '<=' Less than or equal to"
   ]
  },
  {
   "cell_type": "code",
   "execution_count": null,
   "metadata": {
    "colab": {
     "base_uri": "https://localhost:8080/"
    },
    "executionInfo": {
     "elapsed": 591,
     "status": "ok",
     "timestamp": 1637328359886,
     "user": {
      "displayName": "Garima Rahangdale",
      "photoUrl": "https://lh3.googleusercontent.com/a/default-user=s64",
      "userId": "12135158262547382026"
     },
     "user_tz": -330
    },
    "id": "x-h1IeETPD-z",
    "outputId": "52c272d9-9799-4081-9eac-e346e64a01e7"
   },
   "outputs": [
    {
     "data": {
      "text/plain": [
       "True"
      ]
     },
     "execution_count": 31,
     "metadata": {},
     "output_type": "execute_result"
    }
   ],
   "source": [
    "4<5"
   ]
  },
  {
   "cell_type": "code",
   "execution_count": null,
   "metadata": {
    "colab": {
     "base_uri": "https://localhost:8080/"
    },
    "executionInfo": {
     "elapsed": 458,
     "status": "ok",
     "timestamp": 1637328401906,
     "user": {
      "displayName": "Garima Rahangdale",
      "photoUrl": "https://lh3.googleusercontent.com/a/default-user=s64",
      "userId": "12135158262547382026"
     },
     "user_tz": -330
    },
    "id": "rlvqOTdEPEBE",
    "outputId": "af27902c-c358-4d23-f25b-f825a3fe3b15"
   },
   "outputs": [
    {
     "data": {
      "text/plain": [
       "True"
      ]
     },
     "execution_count": 32,
     "metadata": {},
     "output_type": "execute_result"
    }
   ],
   "source": [
    "var1 = 10\n",
    "var2 = 20\n",
    "var2>var1"
   ]
  },
  {
   "cell_type": "code",
   "execution_count": null,
   "metadata": {
    "colab": {
     "base_uri": "https://localhost:8080/"
    },
    "executionInfo": {
     "elapsed": 492,
     "status": "ok",
     "timestamp": 1637328423071,
     "user": {
      "displayName": "Garima Rahangdale",
      "photoUrl": "https://lh3.googleusercontent.com/a/default-user=s64",
      "userId": "12135158262547382026"
     },
     "user_tz": -330
    },
    "id": "RXPJUkPPYMz3",
    "outputId": "bb7b82f1-974b-4f98-9294-b3f6967de270"
   },
   "outputs": [
    {
     "data": {
      "text/plain": [
       "False"
      ]
     },
     "execution_count": 34,
     "metadata": {},
     "output_type": "execute_result"
    }
   ],
   "source": [
    "var1 = 10\n",
    "var2 = 20\n",
    "var2==var1"
   ]
  },
  {
   "cell_type": "code",
   "execution_count": null,
   "metadata": {
    "colab": {
     "base_uri": "https://localhost:8080/"
    },
    "executionInfo": {
     "elapsed": 447,
     "status": "ok",
     "timestamp": 1637328431516,
     "user": {
      "displayName": "Garima Rahangdale",
      "photoUrl": "https://lh3.googleusercontent.com/a/default-user=s64",
      "userId": "12135158262547382026"
     },
     "user_tz": -330
    },
    "id": "Ekxyi9s2YRSo",
    "outputId": "ccbc731c-980b-48a9-e356-3be3bc7b0262"
   },
   "outputs": [
    {
     "data": {
      "text/plain": [
       "False"
      ]
     },
     "execution_count": 35,
     "metadata": {},
     "output_type": "execute_result"
    }
   ],
   "source": [
    "var1 = 10\n",
    "var2 = 20\n",
    "var2<=var1"
   ]
  },
  {
   "cell_type": "markdown",
   "metadata": {
    "id": "y9iYG92RnJZx"
   },
   "source": [
    "---"
   ]
  },
  {
   "cell_type": "markdown",
   "metadata": {
    "id": "AzlK0NxZO9jb"
   },
   "source": [
    "## Logical Operator"
   ]
  },
  {
   "cell_type": "markdown",
   "metadata": {
    "id": "R2H80SkmXCnk"
   },
   "source": [
    "- Logical AND: True if both the operands are true\tx and y\n",
    "- Logical OR: True if either of the operands is true\tx or y\n",
    "- \tLogical NOT: True if operand is false"
   ]
  },
  {
   "cell_type": "code",
   "execution_count": null,
   "metadata": {
    "colab": {
     "base_uri": "https://localhost:8080/"
    },
    "executionInfo": {
     "elapsed": 709,
     "status": "ok",
     "timestamp": 1637328522424,
     "user": {
      "displayName": "Garima Rahangdale",
      "photoUrl": "https://lh3.googleusercontent.com/a/default-user=s64",
      "userId": "12135158262547382026"
     },
     "user_tz": -330
    },
    "id": "8hE661XWO_Bi",
    "outputId": "da481b45-6561-4c66-c14a-e9d401a36b48"
   },
   "outputs": [
    {
     "name": "stdout",
     "output_type": "stream",
     "text": [
      "True\n"
     ]
    }
   ],
   "source": [
    "var1 = 10\n",
    "var2 = 20\n",
    "print(var2>=var1 or var2>var1)"
   ]
  },
  {
   "cell_type": "code",
   "execution_count": null,
   "metadata": {
    "colab": {
     "base_uri": "https://localhost:8080/"
    },
    "executionInfo": {
     "elapsed": 429,
     "status": "ok",
     "timestamp": 1637328536125,
     "user": {
      "displayName": "Garima Rahangdale",
      "photoUrl": "https://lh3.googleusercontent.com/a/default-user=s64",
      "userId": "12135158262547382026"
     },
     "user_tz": -330
    },
    "id": "mNzOSmrYO_VA",
    "outputId": "cf1b0bb0-23c2-426c-c0cf-a0f38ca31df1"
   },
   "outputs": [
    {
     "name": "stdout",
     "output_type": "stream",
     "text": [
      "False\n"
     ]
    }
   ],
   "source": [
    "var1 = 10\n",
    "var2 = 10\n",
    "print(var2>=var1 and var2>var1)"
   ]
  },
  {
   "cell_type": "code",
   "execution_count": null,
   "metadata": {
    "colab": {
     "base_uri": "https://localhost:8080/"
    },
    "executionInfo": {
     "elapsed": 924,
     "status": "ok",
     "timestamp": 1637328704842,
     "user": {
      "displayName": "Garima Rahangdale",
      "photoUrl": "https://lh3.googleusercontent.com/a/default-user=s64",
      "userId": "12135158262547382026"
     },
     "user_tz": -330
    },
    "id": "sK5PuK0WZNcF",
    "outputId": "2b52b39c-b712-4ac6-f01b-b2900dcc797b"
   },
   "outputs": [
    {
     "data": {
      "text/plain": [
       "False"
      ]
     },
     "execution_count": 47,
     "metadata": {},
     "output_type": "execute_result"
    }
   ],
   "source": [
    "var = 0\n",
    "var1 = 10\n",
    "not var1"
   ]
  },
  {
   "cell_type": "code",
   "execution_count": null,
   "metadata": {
    "colab": {
     "base_uri": "https://localhost:8080/"
    },
    "executionInfo": {
     "elapsed": 543,
     "status": "ok",
     "timestamp": 1637328670437,
     "user": {
      "displayName": "Garima Rahangdale",
      "photoUrl": "https://lh3.googleusercontent.com/a/default-user=s64",
      "userId": "12135158262547382026"
     },
     "user_tz": -330
    },
    "id": "is-IHU3-O_XV",
    "outputId": "2d127ecd-7e17-4d65-cb62-6f79841b8116"
   },
   "outputs": [
    {
     "name": "stdout",
     "output_type": "stream",
     "text": [
      "True\n"
     ]
    }
   ],
   "source": [
    "var = 0\n",
    "var1 = 1\n",
    "if not var:\n",
    "    print(\"True\")"
   ]
  },
  {
   "cell_type": "markdown",
   "metadata": {
    "id": "fUV6RuAybPBK"
   },
   "source": [
    "## Identity & Membership operators"
   ]
  },
  {
   "cell_type": "markdown",
   "metadata": {
    "id": "t2Jv6VupbugO"
   },
   "source": [
    "- is and is not\n",
    "- in and Not in"
   ]
  },
  {
   "cell_type": "code",
   "execution_count": null,
   "metadata": {
    "colab": {
     "base_uri": "https://localhost:8080/"
    },
    "executionInfo": {
     "elapsed": 844,
     "status": "ok",
     "timestamp": 1637329445026,
     "user": {
      "displayName": "Garima Rahangdale",
      "photoUrl": "https://lh3.googleusercontent.com/a/default-user=s64",
      "userId": "12135158262547382026"
     },
     "user_tz": -330
    },
    "id": "qbogDpGvcEvj",
    "outputId": "fff15330-9f00-412f-fb90-39a18ac34158"
   },
   "outputs": [
    {
     "name": "stdout",
     "output_type": "stream",
     "text": [
      "True\n"
     ]
    }
   ],
   "source": [
    "var1= 5\n",
    "print(type(x) is int)"
   ]
  },
  {
   "cell_type": "code",
   "execution_count": null,
   "metadata": {
    "colab": {
     "base_uri": "https://localhost:8080/"
    },
    "executionInfo": {
     "elapsed": 749,
     "status": "ok",
     "timestamp": 1637329457724,
     "user": {
      "displayName": "Garima Rahangdale",
      "photoUrl": "https://lh3.googleusercontent.com/a/default-user=s64",
      "userId": "12135158262547382026"
     },
     "user_tz": -330
    },
    "id": "ojBNBESjcLpm",
    "outputId": "0dd2ac88-b24c-40e8-c8dc-18b1df52d8b8"
   },
   "outputs": [
    {
     "name": "stdout",
     "output_type": "stream",
     "text": [
      "False\n"
     ]
    }
   ],
   "source": [
    "var1= 5\n",
    "print(type(x) is not int)"
   ]
  },
  {
   "cell_type": "code",
   "execution_count": null,
   "metadata": {
    "colab": {
     "base_uri": "https://localhost:8080/"
    },
    "executionInfo": {
     "elapsed": 445,
     "status": "ok",
     "timestamp": 1637329398011,
     "user": {
      "displayName": "Garima Rahangdale",
      "photoUrl": "https://lh3.googleusercontent.com/a/default-user=s64",
      "userId": "12135158262547382026"
     },
     "user_tz": -330
    },
    "id": "Oq3P7PFDbhkM",
    "outputId": "9cf27933-7bc7-49e5-ebb7-ff938fe922d0"
   },
   "outputs": [
    {
     "name": "stdout",
     "output_type": "stream",
     "text": [
      "True\n",
      "False\n"
     ]
    }
   ],
   "source": [
    "list1=[1,2,3,4,5]\n",
    "\n",
    "print(1 in list1)\n",
    "print(10 in list1)"
   ]
  },
  {
   "cell_type": "code",
   "execution_count": null,
   "metadata": {
    "colab": {
     "base_uri": "https://localhost:8080/"
    },
    "executionInfo": {
     "elapsed": 608,
     "status": "ok",
     "timestamp": 1637329419629,
     "user": {
      "displayName": "Garima Rahangdale",
      "photoUrl": "https://lh3.googleusercontent.com/a/default-user=s64",
      "userId": "12135158262547382026"
     },
     "user_tz": -330
    },
    "id": "4lIlKiuPb_Zb",
    "outputId": "1a979728-c851-449b-da80-5eb4a82ba756"
   },
   "outputs": [
    {
     "name": "stdout",
     "output_type": "stream",
     "text": [
      "False\n",
      "True\n"
     ]
    }
   ],
   "source": [
    "list1=[1,2,3,4,5]\n",
    "\n",
    "print(1 not in list1)\n",
    "print(10 not in list1)"
   ]
  },
  {
   "cell_type": "markdown",
   "metadata": {
    "id": "ZwDPoycFnJZx"
   },
   "source": [
    "# 5. Strings in Python"
   ]
  },
  {
   "cell_type": "code",
   "execution_count": null,
   "metadata": {
    "id": "pIHP2LeAnJZy",
    "outputId": "ab5a219a-c295-463b-feb2-8a7cfe30d59e"
   },
   "outputs": [
    {
     "name": "stdout",
     "output_type": "stream",
     "text": [
      "hello\n",
      "hello i am a string\n"
     ]
    }
   ],
   "source": [
    "'hello'\n",
    "print('hello')\n",
    "print(\"hello i am a string\")"
   ]
  },
  {
   "cell_type": "code",
   "execution_count": null,
   "metadata": {
    "id": "ljLiiZEOnJZy",
    "outputId": "c4b93e0e-cd71-4157-8ec9-ef66193d04d0"
   },
   "outputs": [
    {
     "name": "stdout",
     "output_type": "stream",
     "text": [
      "hello, i am Kevin O'Spacey\n"
     ]
    }
   ],
   "source": [
    "print(\"hello, i am Kevin O'Spacey\")\n",
    "\n",
    "### use of double quotes is imperative when we have strings with characters like apostrophe"
   ]
  },
  {
   "cell_type": "code",
   "execution_count": null,
   "metadata": {
    "id": "np2qlYGPnJZz",
    "outputId": "a5a788cf-e419-4a8a-b347-3a4ba72be2aa"
   },
   "outputs": [
    {
     "name": "stdout",
     "output_type": "stream",
     "text": [
      "12305\n",
      "<class 'str'>\n"
     ]
    }
   ],
   "source": [
    "mystr1= \"12305\"\n",
    "print(mystr1)\n",
    "print(type(mystr1))\n",
    "\n"
   ]
  },
  {
   "cell_type": "markdown",
   "metadata": {
    "id": "nhoAjvQKnJZz"
   },
   "source": [
    "## STRING INDEXING\n",
    "if we want to find specific characters in the string or do operations with every or all character in a string, indexing is used\n",
    "index in python starts at 0"
   ]
  },
  {
   "cell_type": "code",
   "execution_count": null,
   "metadata": {
    "id": "yyLcoZ_XnJZz",
    "outputId": "19ea22f0-3c41-4059-e5fd-6bc015f5659f"
   },
   "outputs": [
    {
     "name": "stdout",
     "output_type": "stream",
     "text": [
      "hello world\n"
     ]
    }
   ],
   "source": [
    "mystr1 = 'hello world'\n",
    "print(mystr1)"
   ]
  },
  {
   "cell_type": "code",
   "execution_count": null,
   "metadata": {
    "id": "aOeFvawGnJZ0",
    "outputId": "cd44b00e-8c10-49d6-f440-10dab96433dd"
   },
   "outputs": [
    {
     "data": {
      "text/plain": [
       "11"
      ]
     },
     "execution_count": 93,
     "metadata": {},
     "output_type": "execute_result"
    }
   ],
   "source": [
    "### to find the length of string mystr1. length is inclusive of space\n",
    "len(mystr1)"
   ]
  },
  {
   "cell_type": "markdown",
   "metadata": {
    "id": "D43wSNLrnJZ0"
   },
   "source": [
    "letter                index     reverse index\n",
    "h                      0        -11\n",
    "e                      1        -10\n",
    "l                      2        -9\n",
    "l                      3        -8\n",
    "o                      4        -7\n",
    "                       5        -6\n",
    "w                      6        -5 \n",
    "o                      7        -4\n",
    "r                      8        -3\n",
    "l                      9        -2 \n",
    "d                      10       -1 \n"
   ]
  },
  {
   "cell_type": "code",
   "execution_count": null,
   "metadata": {
    "colab": {
     "base_uri": "https://localhost:8080/",
     "height": 37
    },
    "executionInfo": {
     "elapsed": 812,
     "status": "ok",
     "timestamp": 1639219493638,
     "user": {
      "displayName": "Garima Rahangdale",
      "photoUrl": "https://lh3.googleusercontent.com/a/default-user=s64",
      "userId": "12135158262547382026"
     },
     "user_tz": -330
    },
    "id": "dD8okuFfnJZ0",
    "outputId": "d220d5e7-8666-4cd9-93d1-c4e8e74ee077"
   },
   "outputs": [
    {
     "data": {
      "application/vnd.google.colaboratory.intrinsic+json": {
       "type": "string"
      },
      "text/plain": [
       "'tssyo'"
      ]
     },
     "execution_count": 5,
     "metadata": {},
     "output_type": "execute_result"
    }
   ],
   "source": [
    "  var = \"this is python\"\n",
    "  var[0:14:3]"
   ]
  },
  {
   "cell_type": "code",
   "execution_count": null,
   "metadata": {
    "colab": {
     "base_uri": "https://localhost:8080/",
     "height": 37
    },
    "executionInfo": {
     "elapsed": 468,
     "status": "ok",
     "timestamp": 1639219914208,
     "user": {
      "displayName": "Garima Rahangdale",
      "photoUrl": "https://lh3.googleusercontent.com/a/default-user=s64",
      "userId": "12135158262547382026"
     },
     "user_tz": -330
    },
    "id": "rWZNlHgDHsq9",
    "outputId": "862a1e6e-7484-43df-f762-9491f2d7db5a"
   },
   "outputs": [
    {
     "data": {
      "application/vnd.google.colaboratory.intrinsic+json": {
       "type": "string"
      },
      "text/plain": [
       "'ti spto'"
      ]
     },
     "execution_count": 6,
     "metadata": {},
     "output_type": "execute_result"
    }
   ],
   "source": [
    "var = \"this is python\"\n",
    "var[0:14:2]"
   ]
  },
  {
   "cell_type": "code",
   "execution_count": null,
   "metadata": {
    "colab": {
     "base_uri": "https://localhost:8080/"
    },
    "executionInfo": {
     "elapsed": 513,
     "status": "ok",
     "timestamp": 1639220952982,
     "user": {
      "displayName": "Garima Rahangdale",
      "photoUrl": "https://lh3.googleusercontent.com/a/default-user=s64",
      "userId": "12135158262547382026"
     },
     "user_tz": -330
    },
    "id": "qmU_vpf1Lqik",
    "outputId": "3910d7cb-9e7d-42d7-902f-61d0bf9b7c60"
   },
   "outputs": [
    {
     "data": {
      "text/plain": [
       "['this', 'is', 'python']"
      ]
     },
     "execution_count": 7,
     "metadata": {},
     "output_type": "execute_result"
    }
   ],
   "source": [
    "var.split()"
   ]
  },
  {
   "cell_type": "code",
   "execution_count": null,
   "metadata": {
    "id": "aqjJU0gnnJZ1",
    "outputId": "56f8a8b3-5539-4e48-cb6b-b4e405c3a6b8"
   },
   "outputs": [
    {
     "name": "stdout",
     "output_type": "stream",
     "text": [
      "h\n"
     ]
    }
   ],
   "source": [
    "### to get the first character of a string\n",
    "print(mystr1[0])\n"
   ]
  },
  {
   "cell_type": "code",
   "execution_count": null,
   "metadata": {
    "id": "HShDZzvgnJZ7",
    "outputId": "faa2f50d-061c-4a90-fd92-3a4b868dcc7f"
   },
   "outputs": [
    {
     "name": "stdout",
     "output_type": "stream",
     "text": [
      "h\n"
     ]
    }
   ],
   "source": [
    "print(mystr1[-11])"
   ]
  },
  {
   "cell_type": "code",
   "execution_count": null,
   "metadata": {
    "id": "s9F9DK6znJZ7",
    "outputId": "8e709f0c-2d22-4812-c284-bde93800dc90"
   },
   "outputs": [
    {
     "name": "stdout",
     "output_type": "stream",
     "text": [
      "w\n",
      "w\n"
     ]
    }
   ],
   "source": [
    "### to extract w \n",
    "print(mystr1[6])\n",
    "print(mystr1[-5])"
   ]
  },
  {
   "cell_type": "code",
   "execution_count": null,
   "metadata": {
    "id": "QMiYI7oWnJZ8",
    "outputId": "5b1f595b-9391-404c-9622-3f67f4a51a20"
   },
   "outputs": [
    {
     "name": "stdout",
     "output_type": "stream",
     "text": [
      "o\n",
      "o\n",
      "o\n",
      "o\n"
     ]
    }
   ],
   "source": [
    "## to extract o\n",
    "print(mystr1[4])  ##--- index\n",
    "print(mystr1[-7]) ## -- reverse index\n",
    "print(mystr1[7])  ## --index \n",
    "print(mystr1[-4]) ## -- reverse index"
   ]
  },
  {
   "cell_type": "code",
   "execution_count": null,
   "metadata": {
    "id": "qCC7MbcEnJZ_"
   },
   "outputs": [],
   "source": [
    "### to get the 4th character of a string\n",
    "print(mystr1[3])\n"
   ]
  },
  {
   "cell_type": "code",
   "execution_count": null,
   "metadata": {
    "id": "s7bTY1aDnJZ_"
   },
   "outputs": [],
   "source": [
    "### to get the last character of a string\n",
    "print(mystr1[10])\n",
    "print(mystr1[-1])\n"
   ]
  },
  {
   "cell_type": "markdown",
   "metadata": {
    "id": "LSGgQibCnJaA"
   },
   "source": [
    "###### STRING SLICING\n",
    " slicing captures a slice of a string\n",
    " Format of slicing - stringname[start:stop:step]\n",
    " start - index from where the slicing should start\n",
    " stop  - the index we will go up to but does not include\n",
    " step  - is the size of \"jump\" we take while slicing"
   ]
  },
  {
   "cell_type": "code",
   "execution_count": null,
   "metadata": {
    "id": "pMryk4psnJaA"
   },
   "outputs": [],
   "source": [
    "mystr2 = 'abcdestring'"
   ]
  },
  {
   "cell_type": "code",
   "execution_count": null,
   "metadata": {
    "id": "RkOQ9CKUnJaC"
   },
   "outputs": [],
   "source": []
  },
  {
   "cell_type": "markdown",
   "metadata": {
    "id": "XYee-cvVnJaC"
   },
   "source": [
    "index notation\n",
    "  letter         index          reverse index\n",
    "   a               0              -11\n",
    "   b               1              -10\n",
    "   c               2              -9\n",
    "   d               3              -8  \n",
    "   e               4              -7\n",
    "   s               5              -6\n",
    "   t               6              -5\n",
    "   r               7              -4\n",
    "   i               8              -3\n",
    "   n               9              -2 \n",
    "   g               10             -1"
   ]
  },
  {
   "cell_type": "code",
   "execution_count": null,
   "metadata": {
    "id": "4RUPT-B7nJaD",
    "outputId": "9d80c55a-66e1-4941-fa25-349f821424f6"
   },
   "outputs": [
    {
     "name": "stdout",
     "output_type": "stream",
     "text": [
      "destrin\n"
     ]
    }
   ],
   "source": [
    "### grab the portion of string representing \"destrin\"\n",
    "### start = 3, stop = 10\n",
    "print(mystr2[3:10])"
   ]
  },
  {
   "cell_type": "code",
   "execution_count": null,
   "metadata": {
    "id": "zyoGtN5jnJaE",
    "outputId": "d95fbfaf-04ba-4b1a-f272-c4062d562a0d"
   },
   "outputs": [
    {
     "name": "stdout",
     "output_type": "stream",
     "text": [
      "cde\n"
     ]
    }
   ],
   "source": [
    "### grab the portion of string representing \"cde\"\n",
    "print(mystr2[2:5])"
   ]
  },
  {
   "cell_type": "code",
   "execution_count": null,
   "metadata": {
    "id": "LKOQRcghnJaF",
    "outputId": "7e666d1e-7a75-48c5-d668-e9100e0d4564"
   },
   "outputs": [
    {
     "name": "stdout",
     "output_type": "stream",
     "text": [
      "abcdes\n",
      "abcdes\n"
     ]
    }
   ],
   "source": [
    "### to grab - abcdes\n",
    "print(mystr2[0:6])\n",
    "print(mystr2[:6])"
   ]
  },
  {
   "cell_type": "code",
   "execution_count": null,
   "metadata": {
    "id": "nY_WFxBunJaG"
   },
   "outputs": [],
   "source": [
    "### to grab - cdestring\n",
    "print(mystr2[2:11])\n",
    "print(mystr2[2:])\n"
   ]
  },
  {
   "cell_type": "code",
   "execution_count": null,
   "metadata": {
    "id": "l-ZB58BlnJaH",
    "outputId": "a9672168-dc1f-4e13-ba82-5e84442fc325"
   },
   "outputs": [
    {
     "name": "stdout",
     "output_type": "stream",
     "text": [
      "abcdestring\n"
     ]
    }
   ],
   "source": [
    "### step example  - abcdestring\n",
    "\n",
    "print(mystr2[0:11:1])\n"
   ]
  },
  {
   "cell_type": "code",
   "execution_count": null,
   "metadata": {
    "id": "jM-CpTT9nJaI",
    "outputId": "54b272ce-32e4-4b30-a740-077f0dd23fa4"
   },
   "outputs": [
    {
     "name": "stdout",
     "output_type": "stream",
     "text": [
      "acetig\n"
     ]
    }
   ],
   "source": [
    "### step example  - abcdestring\n",
    "\n",
    "print(mystr2[0:11:2])"
   ]
  },
  {
   "cell_type": "code",
   "execution_count": null,
   "metadata": {
    "id": "uwqEBrR8nJaJ",
    "outputId": "c4f38bd3-0208-4299-fd10-e5ee9a2a0ae6"
   },
   "outputs": [
    {
     "name": "stdout",
     "output_type": "stream",
     "text": [
      "string\n"
     ]
    }
   ],
   "source": [
    "### step example  -string\n",
    "print(mystr2[5:11])"
   ]
  },
  {
   "cell_type": "code",
   "execution_count": null,
   "metadata": {
    "id": "Bg5Q1AXfnJaK",
    "outputId": "e05cd7ed-bf7e-476b-ce60-f55856c99c3a"
   },
   "outputs": [
    {
     "data": {
      "text/plain": [
       "'abcdestrin'"
      ]
     },
     "execution_count": 113,
     "metadata": {},
     "output_type": "execute_result"
    }
   ],
   "source": [
    "###reverse index \n",
    "mystr2[0:-1]\n",
    "\n"
   ]
  },
  {
   "cell_type": "markdown",
   "metadata": {
    "id": "EnGq2zXnnJaN"
   },
   "source": [
    "## Mutability and Immutability\n",
    "\n",
    "Mutable types - lists, dictionary\n",
    "immutable types - strings, tuple"
   ]
  },
  {
   "cell_type": "code",
   "execution_count": null,
   "metadata": {
    "id": "nMIC9OlgnJaN",
    "outputId": "01f6d94b-8538-4d44-f59e-4818f1802922"
   },
   "outputs": [
    {
     "name": "stdout",
     "output_type": "stream",
     "text": [
      "xyzwk588\n"
     ]
    }
   ],
   "source": [
    "### STRING IMMUTABILITY\n",
    "\n",
    "mystr3 = \"xyzwk588\"\n",
    "print(mystr3)"
   ]
  },
  {
   "cell_type": "code",
   "execution_count": null,
   "metadata": {
    "id": "4YU9a04ynJaP",
    "outputId": "154fa005-511d-4771-9fb0-22a782f54276"
   },
   "outputs": [
    {
     "data": {
      "text/plain": [
       "'z'"
      ]
     },
     "execution_count": 117,
     "metadata": {},
     "output_type": "execute_result"
    }
   ],
   "source": [
    "## to get the letter in index 2\n",
    "mystr3[2]"
   ]
  },
  {
   "cell_type": "code",
   "execution_count": null,
   "metadata": {
    "id": "-3wkJ7wHnJaP",
    "outputId": "53e314c1-6a58-43f6-e3a1-05c21ec114c2"
   },
   "outputs": [
    {
     "ename": "TypeError",
     "evalue": "'str' object does not support item assignment",
     "output_type": "error",
     "traceback": [
      "\u001b[1;31m---------------------------------------------------------------------------\u001b[0m",
      "\u001b[1;31mTypeError\u001b[0m                                 Traceback (most recent call last)",
      "\u001b[1;32m<ipython-input-118-4af13a1e1eab>\u001b[0m in \u001b[0;36m<module>\u001b[1;34m()\u001b[0m\n\u001b[0;32m      1\u001b[0m \u001b[1;31m## if we try to change or update the 2nd index value from z to A\u001b[0m\u001b[1;33m\u001b[0m\u001b[1;33m\u001b[0m\u001b[0m\n\u001b[0;32m      2\u001b[0m \u001b[1;33m\u001b[0m\u001b[0m\n\u001b[1;32m----> 3\u001b[1;33m \u001b[0mmystr3\u001b[0m\u001b[1;33m[\u001b[0m\u001b[1;36m2\u001b[0m\u001b[1;33m]\u001b[0m \u001b[1;33m=\u001b[0m \u001b[1;34m'A'\u001b[0m\u001b[1;33m\u001b[0m\u001b[0m\n\u001b[0m\u001b[0;32m      4\u001b[0m \u001b[1;31m### strings are immutable as a resut..it cannot be changed\u001b[0m\u001b[1;33m\u001b[0m\u001b[1;33m\u001b[0m\u001b[0m\n",
      "\u001b[1;31mTypeError\u001b[0m: 'str' object does not support item assignment"
     ]
    }
   ],
   "source": [
    "## if we try to change or update the 2nd index value from z to A\n",
    "\n",
    "mystr3[2] = 'A'\n",
    "\n",
    "### strings are immutable as a resut..it cannot be changed"
   ]
  },
  {
   "cell_type": "markdown",
   "metadata": {
    "id": "SF-_PGgnnJaQ"
   },
   "source": [
    "### Built in Functions in Strings"
   ]
  },
  {
   "cell_type": "code",
   "execution_count": null,
   "metadata": {
    "id": "Cqyt-wIhnJaS",
    "outputId": "2691afff-1c14-4c52-f6a3-5b18edb22ff0"
   },
   "outputs": [
    {
     "name": "stdout",
     "output_type": "stream",
     "text": [
      "xyzwk588\n",
      "8\n"
     ]
    }
   ],
   "source": [
    "### length of a string\n",
    "print(mystr2)\n",
    "print(len(mystr2))\n"
   ]
  },
  {
   "cell_type": "code",
   "execution_count": null,
   "metadata": {
    "id": "7awbmcfInJaT",
    "outputId": "8b5ddaf7-6e10-4e3d-a3b9-ec61dcf704d2"
   },
   "outputs": [
    {
     "name": "stdout",
     "output_type": "stream",
     "text": [
      "xyzwk588\n",
      "XYZWK588\n"
     ]
    }
   ],
   "source": [
    "### to convert a string from lower case to upper case\n",
    "print(mystr2)\n",
    "print(mystr2.upper())\n",
    " "
   ]
  },
  {
   "cell_type": "code",
   "execution_count": null,
   "metadata": {
    "id": "p0ZDa4vEnJaT"
   },
   "outputs": [],
   "source": [
    "### jupyter trick\n",
    "### to know about all the method() that can be used with strings,place the cursor after string and . \n",
    "### press tab key\n",
    "# mystr2."
   ]
  },
  {
   "cell_type": "code",
   "execution_count": null,
   "metadata": {
    "id": "B3pAj_K5nJaZ",
    "outputId": "29fbcd22-2cf0-43b5-a8d8-08f1bd75997f"
   },
   "outputs": [
    {
     "data": {
      "text/plain": [
       "['SPLIT', 'ME', 'PLEASE']"
      ]
     },
     "execution_count": 127,
     "metadata": {},
     "output_type": "execute_result"
    }
   ],
   "source": [
    "###SPLIT  - splits the string\n",
    "mystr5 = \"SPLIT ME PLEASE\"\n",
    "mystr5.split()\n"
   ]
  },
  {
   "cell_type": "code",
   "execution_count": null,
   "metadata": {
    "id": "cad6WO3tnJaa"
   },
   "outputs": [],
   "source": [
    "###SPLIT  - splits the string based on ; as delimiter\n",
    "mystr6 = \"SPLIT;ME;PLEASE\"\n",
    "mystr6.split(sep=';')"
   ]
  },
  {
   "cell_type": "code",
   "execution_count": null,
   "metadata": {
    "colab": {
     "base_uri": "https://localhost:8080/"
    },
    "executionInfo": {
     "elapsed": 471,
     "status": "ok",
     "timestamp": 1639218659650,
     "user": {
      "displayName": "Garima Rahangdale",
      "photoUrl": "https://lh3.googleusercontent.com/a/default-user=s64",
      "userId": "12135158262547382026"
     },
     "user_tz": -330
    },
    "id": "dCDAkgmWC6Q9",
    "outputId": "eb5a5a94-a539-47d6-bef0-f187f59d2bdf"
   },
   "outputs": [
    {
     "data": {
      "text/plain": [
       "['SPLIT', 'ME', 'PLEASE']"
      ]
     },
     "execution_count": 2,
     "metadata": {},
     "output_type": "execute_result"
    }
   ],
   "source": [
    "mystr6 = \"SPLIT;ME;PLEASE\"\n",
    "mystr6.split(';')"
   ]
  },
  {
   "cell_type": "code",
   "execution_count": null,
   "metadata": {
    "id": "1y5c-MjcnJab"
   },
   "outputs": [],
   "source": [
    "### To split by a specific element , splits the string based on the iterable giving within paranthesis\n",
    "### but removes the iterable from the output \n",
    "\n",
    "mystr7= \"split by a specific item in the string\"\n",
    "mystr7.split('it')"
   ]
  },
  {
   "cell_type": "markdown",
   "metadata": {
    "id": "04kVs3gWnJac"
   },
   "source": [
    "###### FIND and REPLACE in a STRING"
   ]
  },
  {
   "cell_type": "code",
   "execution_count": null,
   "metadata": {
    "id": "7cHQwYiFnJad",
    "outputId": "33743d02-8313-4e4a-da30-96d431647602"
   },
   "outputs": [
    {
     "data": {
      "text/plain": [
       "3"
      ]
     },
     "execution_count": 128,
     "metadata": {},
     "output_type": "execute_result"
    }
   ],
   "source": [
    "### count gives the occrences of a given word or character in paranthesis\n",
    "\"find the occurrences of the word the\".count('the')"
   ]
  },
  {
   "cell_type": "code",
   "execution_count": null,
   "metadata": {
    "id": "NxxNVza-nJae",
    "outputId": "1c3fcb67-6159-489b-98cd-9bf2e84b9aef"
   },
   "outputs": [
    {
     "name": "stdout",
     "output_type": "stream",
     "text": [
      "1\n"
     ]
    }
   ],
   "source": [
    "### count gives the occrences of a given word or character in paranthesis and in the first 10 characters of the string \n",
    "\n",
    "print(\"find the occurrences of the word the\".count('the',0,10))\n"
   ]
  },
  {
   "cell_type": "code",
   "execution_count": null,
   "metadata": {
    "id": "9FUB1doQnJaf",
    "outputId": "9a1ba09e-00df-46c7-81e8-6e7599b2702c"
   },
   "outputs": [
    {
     "name": "stdout",
     "output_type": "stream",
     "text": [
      "3\n"
     ]
    }
   ],
   "source": [
    "### count gives the occrences of a given  character in paranthesis and in the first 20 characters of the string \n",
    "\n",
    "print(\"find the occurrences of the word the\".count('c',0,20))"
   ]
  },
  {
   "cell_type": "code",
   "execution_count": null,
   "metadata": {
    "id": "fbWF_5HDnJai",
    "outputId": "1bf5f460-baa3-4386-ca71-2ac8d27f9aef"
   },
   "outputs": [
    {
     "name": "stdout",
     "output_type": "stream",
     "text": [
      "True\n"
     ]
    }
   ],
   "source": [
    "### determine whether the target string ends with a given substring\n",
    "\n",
    "print('checks the target string ends with a given substring,like,end'.endswith('end'))\n"
   ]
  },
  {
   "cell_type": "code",
   "execution_count": null,
   "metadata": {
    "id": "r6x8GI1UnJaj",
    "outputId": "92ad99a9-a5ee-48e1-8d04-a53a5def4dd4"
   },
   "outputs": [
    {
     "name": "stdout",
     "output_type": "stream",
     "text": [
      "False\n"
     ]
    }
   ],
   "source": [
    "print('checks the target string ends with a given substring,like,end'.endswith('like'))"
   ]
  },
  {
   "cell_type": "markdown",
   "metadata": {
    "id": "S_njtaRTnJak"
   },
   "source": [
    "### to learn about built in functions\n",
    "\n",
    "python.org"
   ]
  },
  {
   "cell_type": "markdown",
   "metadata": {
    "id": "i5VzSNxnQScp"
   },
   "source": [
    "# Common packages for data science"
   ]
  },
  {
   "cell_type": "markdown",
   "metadata": {
    "id": "nGtFgk11Q-TV"
   },
   "source": [
    "- Input Data:- CSV, EXCEL, Json, SQL, MongoDB, Images, Text Data, etc\n",
    "\n",
    "- When you install Jupyter via anaconda distribution, most of the packages come in by default\n",
    "\n",
    "- When installing Jupyter outside anaconda distribution, you will need to use the following install commands\n",
    "- Libraries that need to be installed with pip or conda\n",
    " - conda install sqlalchemy\n",
    " - conda install lxml\n",
    " - conda install html5lib\n",
    " - conda install BeautifulSoup4"
   ]
  },
  {
   "cell_type": "markdown",
   "metadata": {
    "id": "pmKyC4lhRdFb"
   },
   "source": [
    "1. Numpy and Pandas:- working with numpy arrays and pandas data frames\n",
    "  - DFs are 2d data structures.\n",
    "  - Data is aligned in a tabular format consists of rows and columns\n",
    "  - DataFrames can hold multiple data types\n",
    "2. Matplotlib and Seaborn\n",
    "  Various plots we will see in upcoming weeks\n",
    "3. Sklearn\n",
    "  - Used for machine learning lagorithms\n",
    "4. Tensorflow and Keras\n",
    "  - Used for deep learning\n",
    "\n"
   ]
  },
  {
   "cell_type": "code",
   "execution_count": null,
   "metadata": {
    "id": "0TPqZvU9QVqW"
   },
   "outputs": [],
   "source": [
    "import numpy as np\n",
    "import pandas as pd\n",
    "import matplotlib.pyplot as plt\n",
    "import seaborn as sns\n",
    "import scipy\n",
    "import math"
   ]
  },
  {
   "cell_type": "markdown",
   "metadata": {
    "id": "woT-VqwQnJap"
   },
   "source": [
    "---"
   ]
  }
 ],
 "metadata": {
  "colab": {
   "collapsed_sections": [
    "-vzSA08inJZJ",
    "s8-Z17p1nJZf",
    "0KHyQv7RJYz3",
    "_ga6qSKLPB2a",
    "AzlK0NxZO9jb"
   ],
   "name": "Python Basics.ipynb",
   "provenance": []
  },
  "kernelspec": {
   "display_name": "Python 3",
   "language": "python",
   "name": "python3"
  },
  "language_info": {
   "codemirror_mode": {
    "name": "ipython",
    "version": 3
   },
   "file_extension": ".py",
   "mimetype": "text/x-python",
   "name": "python",
   "nbconvert_exporter": "python",
   "pygments_lexer": "ipython3",
   "version": "3.8.8"
  }
 },
 "nbformat": 4,
 "nbformat_minor": 1
}
