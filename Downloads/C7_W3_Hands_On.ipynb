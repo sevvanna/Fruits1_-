{
  "cells": [
    {
      "cell_type": "markdown",
      "metadata": {
        "id": "MIEJmFuYXFOa"
      },
      "source": [
        "![GL logo.jfif](data:image/jpeg;base64,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)"
      ]
    },
    {
      "cell_type": "markdown",
      "metadata": {
        "id": "dwJCZsuiXh_S"
      },
      "source": [
        "# Agenda\n",
        "\n",
        "1. Problem Statement\n",
        "2. Import Necessary Libraries\n",
        "3. Load the Data\n",
        "4. Data Preparation\n",
        "5. Building Neural Network Model\n",
        "  - Base Neural Network Model\n",
        "  - Model Building with Dropout\n",
        "  - Model Building with BatchNormalization & Weight initialization methods\n",
        "6. Summary"
      ]
    },
    {
      "cell_type": "markdown",
      "metadata": {
        "id": "SComX3lx7PX5"
      },
      "source": [
        "## 1. Problem Statement\n",
        "\n",
        "Given a hand written numbers dataset with training data of 60,000 images and test data of 10,000 images in a csv format. We are required to build a model which classifies these images correctly by making use of the Neural Network Concepts we have learnt.\n",
        "\n",
        "The dataset is available [here](https://www.kaggle.com/datasets/oddrationale/mnist-in-csv?)"
      ]
    },
    {
      "cell_type": "markdown",
      "metadata": {
        "id": "s3YLe97J4RFH"
      },
      "source": [
        "## 2. Import Necessary Libraries"
      ]
    },
    {
      "cell_type": "code",
      "execution_count": null,
      "metadata": {
        "id": "M1PN_I5hYI0c"
      },
      "outputs": [],
      "source": [
        "import numpy as np # linear algebra\n",
        "import pandas as pd # data processing, CSV file I/O (e.g. pd.read_csv)\n",
        "import matplotlib.pyplot as plt #data visualization\n",
        "from sklearn.model_selection import train_test_split # Split data to train and test data(after merging in this case)\n",
        "from sklearn.metrics import accuracy_score,classification_report, confusion_matrix \n",
        "import warnings\n",
        "warnings.filterwarnings('ignore')\n",
        "\n",
        "\n",
        "# import libraries from tensorflow\n",
        "from tensorflow import keras\n",
        "import tensorflow as tf\n",
        "from keras import backend as K\n",
        "from tensorflow.keras.models import Sequential\n",
        "from tensorflow.keras.layers import Flatten, Dense, Dropout,Input, BatchNormalization, LeakyReLU, ReLU\n",
        "from tensorflow.keras import layers\n",
        "from tensorflow.keras import optimizers\n",
        "from keras.utils.vis_utils import plot_model\n",
        "from tensorflow.keras.optimizers import Adam, SGD\n",
        "from tensorflow.keras.callbacks import ModelCheckpoint\n",
        "from tensorflow.keras.initializers import HeUniform"
      ]
    },
    {
      "cell_type": "markdown",
      "metadata": {
        "id": "aa-UNe-o4f-E"
      },
      "source": [
        "## 3. Load the data"
      ]
    },
    {
      "cell_type": "code",
      "execution_count": null,
      "metadata": {
        "id": "dCcZ_DzmAYl4"
      },
      "outputs": [],
      "source": [
        "(x_train, y_train), (x_test, y_test) = tf.keras.datasets.mnist.load_data()"
      ]
    },
    {
      "cell_type": "code",
      "execution_count": null,
      "metadata": {
        "colab": {
          "base_uri": "https://localhost:8080/"
        },
        "id": "nqlamKP5UIL9",
        "outputId": "9b751b05-dfc8-4449-91c6-bb6e34a237b5"
      },
      "outputs": [
        {
          "name": "stdout",
          "output_type": "stream",
          "text": [
            "(60000, 28, 28)\n",
            "(60000,)\n",
            "(10000, 28, 28)\n",
            "(10000,)\n"
          ]
        }
      ],
      "source": [
        "print(x_train.shape)\n",
        "print(y_train.shape)\n",
        "print(x_test.shape)\n",
        "print(y_test.shape)"
      ]
    },
    {
      "cell_type": "code",
      "execution_count": null,
      "metadata": {
        "colab": {
          "base_uri": "https://localhost:8080/"
        },
        "id": "V5Rsnr3Mo9gA",
        "outputId": "b7658aba-3773-49fc-b420-651db4ba32f5"
      },
      "outputs": [
        {
          "data": {
            "text/plain": [
              "array([  0,   0,  24, 209, 254, 254, 254, 171,   0], dtype=uint8)"
            ]
          },
          "execution_count": 78,
          "metadata": {},
          "output_type": "execute_result"
        }
      ],
      "source": [
        "x_train[10][10][11:20]"
      ]
    },
    {
      "cell_type": "code",
      "execution_count": null,
      "metadata": {
        "colab": {
          "base_uri": "https://localhost:8080/"
        },
        "id": "C2tt61PGpom8",
        "outputId": "e53502d2-cb81-4a6c-f48f-28beb2923ac4"
      },
      "outputs": [
        {
          "data": {
            "text/plain": [
              "array([5, 0, 4, 1, 9], dtype=uint8)"
            ]
          },
          "execution_count": 79,
          "metadata": {},
          "output_type": "execute_result"
        }
      ],
      "source": [
        "y_train[0:5]"
      ]
    },
    {
      "cell_type": "code",
      "execution_count": null,
      "metadata": {
        "colab": {
          "base_uri": "https://localhost:8080/"
        },
        "id": "-4oAvhLgz5I0",
        "outputId": "84f89fc5-738b-47ae-87cf-fa50eb2435ac"
      },
      "outputs": [
        {
          "data": {
            "text/plain": [
              "array([7, 2, 1, 0, 4], dtype=uint8)"
            ]
          },
          "execution_count": 80,
          "metadata": {},
          "output_type": "execute_result"
        }
      ],
      "source": [
        "y_test[0:5]"
      ]
    },
    {
      "cell_type": "markdown",
      "metadata": {
        "id": "q1rmElv8vPm4"
      },
      "source": [
        "## 4. Data Preparation"
      ]
    },
    {
      "cell_type": "code",
      "execution_count": null,
      "metadata": {
        "id": "dAq4l94DWaXI"
      },
      "outputs": [],
      "source": [
        "# Split the train data into train and val set\n",
        "X_train,X_val,Y_train,Y_val = train_test_split(x_train,y_train, test_size=0.2,random_state=28)"
      ]
    },
    {
      "cell_type": "code",
      "execution_count": null,
      "metadata": {
        "colab": {
          "base_uri": "https://localhost:8080/"
        },
        "id": "Y1MLmfI7AYl5",
        "outputId": "71aa1b02-e2fe-47c2-8850-d48d7ef07666"
      },
      "outputs": [
        {
          "data": {
            "text/plain": [
              "((48000, 28, 28), (12000, 28, 28), (48000,), (12000,))"
            ]
          },
          "execution_count": 82,
          "metadata": {},
          "output_type": "execute_result"
        }
      ],
      "source": [
        "# Checking the shape of data\n",
        "X_train.shape,X_val.shape, Y_train.shape,Y_val.shape"
      ]
    },
    {
      "cell_type": "code",
      "execution_count": null,
      "metadata": {
        "colab": {
          "base_uri": "https://localhost:8080/"
        },
        "id": "tJMWc8rkAmot",
        "outputId": "ba6b7e53-a28f-4e3b-fe16-ab382c64d516"
      },
      "outputs": [
        {
          "data": {
            "text/plain": [
              "(28, 28)"
            ]
          },
          "execution_count": 83,
          "metadata": {},
          "output_type": "execute_result"
        }
      ],
      "source": [
        "X_train[0].shape"
      ]
    },
    {
      "cell_type": "code",
      "execution_count": null,
      "metadata": {
        "colab": {
          "base_uri": "https://localhost:8080/",
          "height": 282
        },
        "id": "ZBYli9nhAYl5",
        "outputId": "eab04198-dd37-467c-9564-44cc4566546f"
      },
      "outputs": [
        {
          "data": {
            "text/plain": [
              "<matplotlib.image.AxesImage at 0x7fcd2a38a110>"
            ]
          },
          "execution_count": 85,
          "metadata": {},
          "output_type": "execute_result"
        },
        {
          "data": {
            "image/png": "[encoded data removed]",
            "text/plain": [
              "<Figure size 432x288 with 1 Axes>"
            ]
          },
          "metadata": {
            "needs_background": "light"
          },
          "output_type": "display_data"
        }
      ],
      "source": [
        "plt.imshow(X_train[1000]) ## cmap='gray'"
      ]
    },
    {
      "cell_type": "code",
      "execution_count": null,
      "metadata": {
        "colab": {
          "base_uri": "https://localhost:8080/"
        },
        "id": "t6zENKZXAYl5",
        "outputId": "838310f9-caad-48fa-f8fb-0e5a8ebd3975"
      },
      "outputs": [
        {
          "data": {
            "text/plain": [
              "3"
            ]
          },
          "execution_count": 86,
          "metadata": {},
          "output_type": "execute_result"
        }
      ],
      "source": [
        "Y_train[1000] ##Verify the label"
      ]
    },
    {
      "cell_type": "code",
      "execution_count": null,
      "metadata": {
        "id": "L5gdFEQlAYl5"
      },
      "outputs": [],
      "source": [
        "X_train_std= X_train.astype('float32') #Modifying the datatype\n",
        "X_val_std= X_val.astype('float32')\n",
        "X_train_std /= 255 # Scaling X_train and X_test\n",
        "X_val_std /=255"
      ]
    },
    {
      "cell_type": "code",
      "execution_count": null,
      "metadata": {
        "id": "fjlWIkzqx5xl"
      },
      "outputs": [],
      "source": [
        "X_test_std= x_test.astype('float32')\n",
        "X_test_std = x_test/255"
      ]
    },
    {
      "cell_type": "code",
      "execution_count": null,
      "metadata": {
        "colab": {
          "base_uri": "https://localhost:8080/"
        },
        "id": "gMJJBM3lqp9F",
        "outputId": "6ee1264a-5fed-4f3a-e70a-7313f1bf87e1"
      },
      "outputs": [
        {
          "data": {
            "text/plain": [
              "array([0.        , 0.        , 0.        , 0.        , 0.        ,\n",
              "       0.        , 0.        , 0.        , 0.60784316, 0.99215686,\n",
              "       0.8862745 , 0.11372549, 0.        , 0.        , 0.        ,\n",
              "       0.        , 0.39215687, 0.99215686, 0.9411765 , 0.2784314 ,\n",
              "       0.        , 0.        , 0.        , 0.        , 0.        ,\n",
              "       0.        , 0.        , 0.        ], dtype=float32)"
            ]
          },
          "execution_count": 89,
          "metadata": {},
          "output_type": "execute_result"
        }
      ],
      "source": [
        "X_train_std[10][10]"
      ]
    },
    {
      "cell_type": "code",
      "execution_count": null,
      "metadata": {
        "id": "4G5RLhzuqnCO"
      },
      "outputs": [],
      "source": [
        "## One hot encoding of the target columns\n",
        "Y_train_cat=tf.keras.utils.to_categorical(Y_train)\n",
        "Y_val_cat=tf.keras.utils.to_categorical(Y_val)"
      ]
    },
    {
      "cell_type": "code",
      "execution_count": null,
      "metadata": {
        "id": "84AE3sUYyC72"
      },
      "outputs": [],
      "source": [
        "Y_test_cat=tf.keras.utils.to_categorical(y_test)"
      ]
    },
    {
      "cell_type": "code",
      "execution_count": null,
      "metadata": {
        "id": "Ev96Gz912FhG"
      },
      "outputs": [],
      "source": []
    },
    {
      "cell_type": "markdown",
      "metadata": {
        "id": "wgazil5n0lqy"
      },
      "source": [
        "## 5. Building the Neural Network Model"
      ]
    },
    {
      "cell_type": "markdown",
      "metadata": {
        "id": "TqAqzL49EBF-"
      },
      "source": [
        "### 5.1 Base Neural Network Model "
      ]
    },
    {
      "cell_type": "markdown",
      "metadata": {
        "id": "2MXfBQ-owPUz"
      },
      "source": [
        "#### Create a Deep Neural Network Model for Classification\n",
        "- Initialize a Sequential model\n",
        "- Reshape the 28X28 images into 1d array with 784 features\n",
        "- Add a hidden layer\n",
        "- Add a Dense layer with 10 neuron as output, use activation softmax\n",
        "\n",
        "The output layer has **number of neurons = number of classes** if activation is softmax.\n",
        "\n",
        "Softmax is used for multi-class classification"
      ]
    },
    {
      "cell_type": "code",
      "execution_count": null,
      "metadata": {
        "id": "43jgSJV8wN9e"
      },
      "outputs": [],
      "source": [
        "#Intialize the model\n",
        "model = tf.keras.models.Sequential()\n",
        "model.add(tf.keras.layers.Reshape((784,),input_shape=(28,28,)))"
      ]
    },
    {
      "cell_type": "code",
      "execution_count": null,
      "metadata": {
        "id": "GHI3S1towZZD"
      },
      "outputs": [],
      "source": [
        "#Hidden layers\n",
        "model.add(tf.keras.layers.Dense(32, activation='sigmoid'))\n",
        "\n",
        "#model.add(tf.keras.layers.Dense(64, activation=tf.keras.layers.ReLU()))"
      ]
    },
    {
      "cell_type": "code",
      "execution_count": null,
      "metadata": {
        "id": "tpKo1cSAwi6-"
      },
      "outputs": [],
      "source": [
        "#Output layer\n",
        "model.add(tf.keras.layers.Dense(10, activation='softmax'))"
      ]
    },
    {
      "cell_type": "code",
      "execution_count": null,
      "metadata": {
        "colab": {
          "base_uri": "https://localhost:8080/"
        },
        "id": "ieW45zdwjnrA",
        "outputId": "d8cdb7b4-9fc4-4822-ae8b-034d273ae09d"
      },
      "outputs": [
        {
          "name": "stdout",
          "output_type": "stream",
          "text": [
            "Model: \"sequential_5\"\n",
            "_________________________________________________________________\n",
            " Layer (type)                Output Shape              Param #   \n",
            "=================================================================\n",
            " reshape_5 (Reshape)         (None, 784)               0         \n",
            "                                                                 \n",
            " dense_22 (Dense)            (None, 32)                25120     \n",
            "                                                                 \n",
            " dense_23 (Dense)            (None, 10)                330       \n",
            "                                                                 \n",
            "=================================================================\n",
            "Total params: 25,450\n",
            "Trainable params: 25,450\n",
            "Non-trainable params: 0\n",
            "_________________________________________________________________\n"
          ]
        }
      ],
      "source": [
        "# Model Summary\n",
        "model.summary()"
      ]
    },
    {
      "cell_type": "markdown",
      "metadata": {
        "id": "hlCXLetYw-L1"
      },
      "source": [
        "#### Compile the model\n",
        "- Use `categorical_crossentropy` loss \n",
        "- Use `adam` optimizer with learning rate = 0.002 and train the network. \n",
        "\n",
        "#### Also add callback, \n",
        "- such that if validation loss doesn't decreases consecutively 2 times, stop the training"
      ]
    },
    {
      "cell_type": "code",
      "execution_count": null,
      "metadata": {
        "id": "MIDQoYi-mPAG"
      },
      "outputs": [],
      "source": [
        "callback = tf.keras.callbacks.EarlyStopping(monitor='val_loss', patience = 2,restore_best_weights=True)\n",
        "model.compile(optimizer=tf.keras.optimizers.Adam(learning_rate=0.002), \n",
        "              loss='categorical_crossentropy', metrics=['accuracy'])"
      ]
    },
    {
      "cell_type": "markdown",
      "metadata": {
        "id": "L0JsJz56xRqu"
      },
      "source": [
        "#### Train your model, use test data as validation set\n",
        "- epochs = 20\n",
        "- batch size = 32"
      ]
    },
    {
      "cell_type": "code",
      "execution_count": null,
      "metadata": {
        "colab": {
          "base_uri": "https://localhost:8080/"
        },
        "id": "YhJspKgFmnbb",
        "outputId": "2b40d08e-71f7-44c9-8d7f-21efb0d7c5b1"
      },
      "outputs": [
        {
          "name": "stdout",
          "output_type": "stream",
          "text": [
            "Epoch 1/20\n",
            "1500/1500 [==============================] - 4s 3ms/step - loss: 0.4852 - accuracy: 0.8826 - val_loss: 0.2709 - val_accuracy: 0.9248\n",
            "Epoch 2/20\n",
            "1500/1500 [==============================] - 4s 3ms/step - loss: 0.2275 - accuracy: 0.9359 - val_loss: 0.2154 - val_accuracy: 0.9372\n",
            "Epoch 3/20\n",
            "1500/1500 [==============================] - 4s 2ms/step - loss: 0.1802 - accuracy: 0.9482 - val_loss: 0.1858 - val_accuracy: 0.9439\n",
            "Epoch 4/20\n",
            "1500/1500 [==============================] - 4s 3ms/step - loss: 0.1527 - accuracy: 0.9564 - val_loss: 0.1656 - val_accuracy: 0.9518\n",
            "Epoch 5/20\n",
            "1500/1500 [==============================] - 4s 3ms/step - loss: 0.1321 - accuracy: 0.9622 - val_loss: 0.1552 - val_accuracy: 0.9545\n",
            "Epoch 6/20\n",
            "1500/1500 [==============================] - 4s 3ms/step - loss: 0.1162 - accuracy: 0.9660 - val_loss: 0.1466 - val_accuracy: 0.9567\n",
            "Epoch 7/20\n",
            "1500/1500 [==============================] - 4s 3ms/step - loss: 0.1042 - accuracy: 0.9699 - val_loss: 0.1389 - val_accuracy: 0.9596\n",
            "Epoch 8/20\n",
            "1500/1500 [==============================] - 4s 3ms/step - loss: 0.0943 - accuracy: 0.9723 - val_loss: 0.1323 - val_accuracy: 0.9609\n",
            "Epoch 9/20\n",
            "1500/1500 [==============================] - 4s 2ms/step - loss: 0.0864 - accuracy: 0.9751 - val_loss: 0.1348 - val_accuracy: 0.9613\n",
            "Epoch 10/20\n",
            "1500/1500 [==============================] - 4s 2ms/step - loss: 0.0796 - accuracy: 0.9773 - val_loss: 0.1364 - val_accuracy: 0.9588\n"
          ]
        }
      ],
      "source": [
        "# Fitting the model\n",
        "train = model.fit(X_train_std, Y_train_cat, \n",
        "                  validation_data=(X_val_std,Y_val_cat), \n",
        "                  epochs=20,batch_size=32,\n",
        "                  callbacks=callback)"
      ]
    },
    {
      "cell_type": "code",
      "execution_count": null,
      "metadata": {
        "colab": {
          "base_uri": "https://localhost:8080/"
        },
        "id": "7JXcuzGSuMVP",
        "outputId": "e92e58d2-0b4f-42e2-c4d1-31eecc2746d5"
      },
      "outputs": [
        {
          "data": {
            "text/plain": [
              "array([7, 2, 1, ..., 4, 5, 6])"
            ]
          },
          "execution_count": 99,
          "metadata": {},
          "output_type": "execute_result"
        }
      ],
      "source": [
        "# Predicting X_test basis the built model\n",
        "y_pred = np.argmax(model.predict(X_test_std), axis=1)\n",
        "y_pred"
      ]
    },
    {
      "cell_type": "code",
      "execution_count": null,
      "metadata": {
        "colab": {
          "base_uri": "https://localhost:8080/"
        },
        "id": "4HdeIWgs0SqD",
        "outputId": "d00fbe20-d1eb-4ed6-e917-3f4b995f6399"
      },
      "outputs": [
        {
          "data": {
            "text/plain": [
              "array([[ 966,    0,    0,    2,    1,    4,    3,    1,    2,    1],\n",
              "       [   0, 1121,    3,    2,    0,    1,    2,    1,    5,    0],\n",
              "       [   9,    1,  984,    6,    8,    2,    2,    8,   11,    1],\n",
              "       [   0,    0,   10,  965,    2,    7,    0,    8,   14,    4],\n",
              "       [   0,    0,    2,    0,  943,    0,   11,    1,    1,   24],\n",
              "       [   4,    2,    1,   17,    3,  836,   15,    1,    9,    4],\n",
              "       [   9,    3,    5,    0,    3,    3,  933,    0,    2,    0],\n",
              "       [   1,    3,   12,    8,    4,    1,    0,  986,    2,   11],\n",
              "       [   7,    2,    4,    9,    4,    4,    7,    6,  928,    3],\n",
              "       [   5,    5,    0,   10,   18,    4,    1,    6,    4,  956]])"
            ]
          },
          "execution_count": 100,
          "metadata": {},
          "output_type": "execute_result"
        }
      ],
      "source": [
        "from sklearn.metrics import confusion_matrix\n",
        "confusion_matrix(y_test,y_pred)"
      ]
    },
    {
      "cell_type": "code",
      "execution_count": null,
      "metadata": {
        "colab": {
          "base_uri": "https://localhost:8080/",
          "height": 987
        },
        "id": "rs2iD79N55ox",
        "outputId": "1fe11631-e98c-40e6-f6a6-1634861d6abb"
      },
      "outputs": [
        {
          "data": {
            "image/png": "[encoded data removed]",
            "text/plain": [
              "<Figure size 144x144 with 1 Axes>"
            ]
          },
          "metadata": {
            "needs_background": "light"
          },
          "output_type": "display_data"
        },
        {
          "name": "stdout",
          "output_type": "stream",
          "text": [
            "Actual Label: 7\n",
            "Predicted Label: 7\n",
            "-----------X--------------\n"
          ]
        },
        {
          "data": {
            "image/png": "[encoded data removed]",
            "text/plain": [
              "<Figure size 144x144 with 1 Axes>"
            ]
          },
          "metadata": {
            "needs_background": "light"
          },
          "output_type": "display_data"
        },
        {
          "name": "stdout",
          "output_type": "stream",
          "text": [
            "Actual Label: 2\n",
            "Predicted Label: 2\n",
            "-----------X--------------\n"
          ]
        },
        {
          "data": {
            "image/png": "[encoded data removed]",
            "text/plain": [
              "<Figure size 144x144 with 1 Axes>"
            ]
          },
          "metadata": {
            "needs_background": "light"
          },
          "output_type": "display_data"
        },
        {
          "name": "stdout",
          "output_type": "stream",
          "text": [
            "Actual Label: 1\n",
            "Predicted Label: 1\n",
            "-----------X--------------\n"
          ]
        },
        {
          "data": {
            "image/png": "[encoded data removed]",
            "text/plain": [
              "<Figure size 144x144 with 1 Axes>"
            ]
          },
          "metadata": {
            "needs_background": "light"
          },
          "output_type": "display_data"
        },
        {
          "name": "stdout",
          "output_type": "stream",
          "text": [
            "Actual Label: 0\n",
            "Predicted Label: 0\n",
            "-----------X--------------\n"
          ]
        },
        {
          "data": {
            "image/png": "[encoded data removed]",
            "text/plain": [
              "<Figure size 144x144 with 1 Axes>"
            ]
          },
          "metadata": {
            "needs_background": "light"
          },
          "output_type": "display_data"
        },
        {
          "name": "stdout",
          "output_type": "stream",
          "text": [
            "Actual Label: 4\n",
            "Predicted Label: 4\n",
            "-----------X--------------\n"
          ]
        }
      ],
      "source": [
        "# validaitng the prediction that is run on X-test after model building with the actual values in X_test\n",
        "for i in range(5): \n",
        "  plt.figure(figsize=(2,2))\n",
        "  plt.imshow(X_test_std[i], cmap='gray')\n",
        "  plt.show()\n",
        "  print('Actual Label:',y_test[i])\n",
        "  \n",
        "  print('Predicted Label:',y_pred[i])\n",
        "  print('-----------X--------------')"
      ]
    },
    {
      "cell_type": "code",
      "execution_count": null,
      "metadata": {
        "colab": {
          "base_uri": "https://localhost:8080/",
          "height": 573
        },
        "id": "X8zmi-CC0_Sb",
        "outputId": "43401bdb-7790-426d-fa17-d7b05ac258ab"
      },
      "outputs": [
        {
          "data": {
            "image/png": "[encoded data removed]",
            "text/plain": [
              "<Figure size 432x288 with 1 Axes>"
            ]
          },
          "metadata": {
            "needs_background": "light"
          },
          "output_type": "display_data"
        },
        {
          "data": {
            "image/png": "[encoded data removed]",
            "text/plain": [
              "<Figure size 432x288 with 1 Axes>"
            ]
          },
          "metadata": {
            "needs_background": "light"
          },
          "output_type": "display_data"
        }
      ],
      "source": [
        "import matplotlib.pyplot as plt\n",
        "\n",
        "plt.plot(train.history['accuracy'])\n",
        "plt.plot(train.history['val_accuracy'])\n",
        "plt.title('model accuracy')\n",
        "plt.ylabel('accuracy')\n",
        "plt.xlabel('epoch')\n",
        "plt.legend(['train', 'Val'], loc='upper left')\n",
        "plt.show()\n",
        "# summarize history for loss\n",
        "plt.plot(train.history['loss'])\n",
        "plt.plot(train.history['val_loss'])\n",
        "plt.title('model loss')\n",
        "plt.ylabel('loss')\n",
        "plt.xlabel('epoch')\n",
        "plt.legend(['train', 'val'], loc='upper left')\n",
        "plt.show()"
      ]
    },
    {
      "cell_type": "markdown",
      "metadata": {
        "id": "xVcZbFq1D6xW"
      },
      "source": [
        "### 5.2 Model Building with dropout"
      ]
    },
    {
      "cell_type": "code",
      "execution_count": null,
      "metadata": {
        "id": "sWDUuAlKuz6M"
      },
      "outputs": [],
      "source": [
        "#Intialize the model\n",
        "model2 = tf.keras.models.Sequential()\n",
        "model2.add(tf.keras.layers.Reshape((784,),input_shape=(28,28,)))\n",
        "\n",
        "#Hidden layers\n",
        "model2.add(tf.keras.layers.Dense(128, activation=LeakyReLU()))\n",
        "\n",
        "#Dropout layer\n",
        "model2.add(tf.keras.layers.Dropout(0.15))\n",
        "\n",
        "model2.add(tf.keras.layers.Dense(256, activation=LeakyReLU()))\n",
        "model2.add(tf.keras.layers.Dropout(0.15))\n",
        "\n",
        "model2.add(tf.keras.layers.Dense(128, activation=LeakyReLU()))\n",
        "model2.add(tf.keras.layers.Dropout(0.15))\n",
        "\n",
        "model2.add(tf.keras.layers.Dense(64, activation=LeakyReLU()))\n",
        "model2.add(tf.keras.layers.Dropout(0.15))\n",
        "\n",
        "#Output layer\n",
        "model2.add(tf.keras.layers.Dense(10, activation='softmax'))"
      ]
    },
    {
      "cell_type": "code",
      "execution_count": null,
      "metadata": {
        "colab": {
          "base_uri": "https://localhost:8080/"
        },
        "id": "drBXe39Puz3s",
        "outputId": "1f17c84e-f654-49e9-c3bd-265ae4cdf48d"
      },
      "outputs": [
        {
          "name": "stdout",
          "output_type": "stream",
          "text": [
            "Model: \"sequential_6\"\n",
            "_________________________________________________________________\n",
            " Layer (type)                Output Shape              Param #   \n",
            "=================================================================\n",
            " reshape_6 (Reshape)         (None, 784)               0         \n",
            "                                                                 \n",
            " dense_24 (Dense)            (None, 128)               100480    \n",
            "                                                                 \n",
            " dropout_8 (Dropout)         (None, 128)               0         \n",
            "                                                                 \n",
            " dense_25 (Dense)            (None, 256)               33024     \n",
            "                                                                 \n",
            " dropout_9 (Dropout)         (None, 256)               0         \n",
            "                                                                 \n",
            " dense_26 (Dense)            (None, 128)               32896     \n",
            "                                                                 \n",
            " dropout_10 (Dropout)        (None, 128)               0         \n",
            "                                                                 \n",
            " dense_27 (Dense)            (None, 64)                8256      \n",
            "                                                                 \n",
            " dropout_11 (Dropout)        (None, 64)                0         \n",
            "                                                                 \n",
            " dense_28 (Dense)            (None, 10)                650       \n",
            "                                                                 \n",
            "=================================================================\n",
            "Total params: 175,306\n",
            "Trainable params: 175,306\n",
            "Non-trainable params: 0\n",
            "_________________________________________________________________\n"
          ]
        }
      ],
      "source": [
        "model2.summary()"
      ]
    },
    {
      "cell_type": "code",
      "execution_count": null,
      "metadata": {
        "id": "AFHmMh2O1f3M"
      },
      "outputs": [],
      "source": [
        "model2.compile(optimizer='adam', loss='categorical_crossentropy', metrics=['accuracy'])\n",
        "\n",
        "\n",
        "chkpt = ModelCheckpoint('/content/checkpoint', monitor='val_loss', save_best_only=True,save_freq='epoch')\n",
        "callback = tf.keras.callbacks.EarlyStopping(monitor='val_loss', patience = 5,restore_best_weights=True)"
      ]
    },
    {
      "cell_type": "code",
      "execution_count": null,
      "metadata": {
        "colab": {
          "base_uri": "https://localhost:8080/"
        },
        "id": "WJzkaetnuzqP",
        "outputId": "4a544b80-11ac-45df-e329-08070e88b5b8"
      },
      "outputs": [
        {
          "name": "stdout",
          "output_type": "stream",
          "text": [
            "Epoch 1/10\n",
            "1500/1500 [==============================] - 5s 3ms/step - loss: 0.3436 - accuracy: 0.8923 - val_loss: 0.2000 - val_accuracy: 0.9373\n",
            "Epoch 2/10\n",
            "1500/1500 [==============================] - 5s 4ms/step - loss: 0.1985 - accuracy: 0.9402 - val_loss: 0.1477 - val_accuracy: 0.9573\n",
            "Epoch 3/10\n",
            "1500/1500 [==============================] - 5s 3ms/step - loss: 0.1678 - accuracy: 0.9481 - val_loss: 0.1352 - val_accuracy: 0.9602\n",
            "Epoch 4/10\n",
            "1500/1500 [==============================] - 5s 3ms/step - loss: 0.1478 - accuracy: 0.9549 - val_loss: 0.1314 - val_accuracy: 0.9622\n",
            "Epoch 5/10\n",
            "1500/1500 [==============================] - 5s 3ms/step - loss: 0.1361 - accuracy: 0.9581 - val_loss: 0.1244 - val_accuracy: 0.9647\n",
            "Epoch 6/10\n",
            "1500/1500 [==============================] - 5s 4ms/step - loss: 0.1240 - accuracy: 0.9617 - val_loss: 0.1250 - val_accuracy: 0.9621\n",
            "Epoch 7/10\n",
            "1500/1500 [==============================] - 5s 3ms/step - loss: 0.1172 - accuracy: 0.9637 - val_loss: 0.1018 - val_accuracy: 0.9722\n",
            "Epoch 8/10\n",
            "1500/1500 [==============================] - 5s 3ms/step - loss: 0.1097 - accuracy: 0.9652 - val_loss: 0.1165 - val_accuracy: 0.9671\n",
            "Epoch 9/10\n",
            "1500/1500 [==============================] - 5s 3ms/step - loss: 0.1051 - accuracy: 0.9683 - val_loss: 0.0960 - val_accuracy: 0.9728\n",
            "Epoch 10/10\n",
            "1500/1500 [==============================] - 5s 3ms/step - loss: 0.1011 - accuracy: 0.9693 - val_loss: 0.1129 - val_accuracy: 0.9690\n"
          ]
        }
      ],
      "source": [
        "# Fitting the model\n",
        "train2 = model2.fit(X_train_std, Y_train_cat, \n",
        "                  validation_data=(X_val_std,Y_val_cat), \n",
        "                  epochs=10,batch_size=32,\n",
        "                  callbacks=callback)"
      ]
    },
    {
      "cell_type": "code",
      "execution_count": null,
      "metadata": {
        "colab": {
          "base_uri": "https://localhost:8080/"
        },
        "id": "yT8mQKT3vzBR",
        "outputId": "3f55665f-c849-4574-f506-244cd2bb56fb"
      },
      "outputs": [
        {
          "data": {
            "text/plain": [
              "array([7, 2, 1, ..., 4, 5, 6])"
            ]
          },
          "execution_count": 108,
          "metadata": {},
          "output_type": "execute_result"
        }
      ],
      "source": [
        "y_pred_dropout = np.argmax(model2.predict(X_test_std), axis=1)\n",
        "y_pred_dropout"
      ]
    },
    {
      "cell_type": "code",
      "execution_count": null,
      "metadata": {
        "colab": {
          "base_uri": "https://localhost:8080/"
        },
        "id": "jYH5T8tq2bsa",
        "outputId": "1d40a556-73a1-4cb2-d7c1-19b437d68895"
      },
      "outputs": [
        {
          "data": {
            "text/plain": [
              "array([[ 964,    1,    1,    1,    1,    0,    3,    3,    1,    5],\n",
              "       [   0, 1123,    4,    0,    0,    1,    2,    1,    4,    0],\n",
              "       [   3,    1, 1015,    1,    2,    0,    3,    5,    2,    0],\n",
              "       [   0,    0,   16,  981,    1,    6,    0,    1,    3,    2],\n",
              "       [   1,    3,    2,    0,  943,    0,   14,    2,    3,   14],\n",
              "       [   3,    0,    1,   19,    2,  846,   11,    4,    3,    3],\n",
              "       [   7,    3,    0,    0,    2,    2,  943,    0,    1,    0],\n",
              "       [   2,    6,   11,    4,    1,    0,    0,  998,    2,    4],\n",
              "       [  11,    3,    4,   12,    3,    5,    7,    3,  924,    2],\n",
              "       [   3,    5,    0,   12,    7,    1,    2,    8,    9,  962]])"
            ]
          },
          "execution_count": 109,
          "metadata": {},
          "output_type": "execute_result"
        }
      ],
      "source": [
        "from sklearn.metrics import confusion_matrix\n",
        "confusion_matrix(y_test,y_pred_dropout)"
      ]
    },
    {
      "cell_type": "code",
      "execution_count": null,
      "metadata": {
        "colab": {
          "base_uri": "https://localhost:8080/",
          "height": 573
        },
        "id": "XX7GluaC2dV6",
        "outputId": "f8ddbdd0-2eda-48f8-b22d-998ae33b96d0"
      },
      "outputs": [
        {
          "data": {
            "image/png": "[encoded data removed]",
            "text/plain": [
              "<Figure size 432x288 with 1 Axes>"
            ]
          },
          "metadata": {
            "needs_background": "light"
          },
          "output_type": "display_data"
        },
        {
          "data": {
            "image/png": "[encoded data removed]",
            "text/plain": [
              "<Figure size 432x288 with 1 Axes>"
            ]
          },
          "metadata": {
            "needs_background": "light"
          },
          "output_type": "display_data"
        }
      ],
      "source": [
        "import matplotlib.pyplot as plt\n",
        "\n",
        "plt.plot(train2.history['accuracy'])\n",
        "plt.plot(train2.history['val_accuracy'])\n",
        "plt.title('model accuracy')\n",
        "plt.ylabel('accuracy')\n",
        "plt.xlabel('epoch')\n",
        "plt.legend(['train', 'Val'], loc='upper left')\n",
        "plt.show()\n",
        "# summarize history for loss\n",
        "plt.plot(train2.history['loss'])\n",
        "plt.plot(train2.history['val_loss'])\n",
        "plt.title('model loss')\n",
        "plt.ylabel('loss')\n",
        "plt.xlabel('epoch')\n",
        "plt.legend(['train', 'val'], loc='upper left')\n",
        "plt.show()"
      ]
    },
    {
      "cell_type": "markdown",
      "metadata": {
        "id": "ebNiMXEXOHpg"
      },
      "source": [
        "- In the above, after implementing dropout to our model,  the test accuracy is around 0.97. \n",
        "- The model is better in this case."
      ]
    },
    {
      "cell_type": "markdown",
      "metadata": {
        "id": "CkzaL5rREiGC"
      },
      "source": [
        "### 5.3 Model Building with Batch Normalization and other hyperparameters\n",
        "\n"
      ]
    },
    {
      "cell_type": "markdown",
      "metadata": {
        "id": "L_704sg73V4r"
      },
      "source": [
        "#### Create another Deep Neural Network Model for classsification to experiment with other hyper-parameters.\n",
        "- Initialize a Sequential model\n",
        "- Intialize weights using HeUniform with seed = 7\n",
        "- Add 4 hidden layer with activation relu (Number of neurons = 256,128,64,32 respectively)\n",
        "- Add dropout layer after each hidden layer except the last hidden layer,  p=0.15,0.10,0.05, 0 respectively"
      ]
    },
    {
      "cell_type": "code",
      "execution_count": null,
      "metadata": {
        "id": "FVJv1_SC3eQC"
      },
      "outputs": [],
      "source": [
        "#Intialize the model\n",
        "model_3 = tf.keras.models.Sequential()\n",
        "model_3.add(tf.keras.layers.Reshape((784,),input_shape=(28,28,)))\n",
        "\n",
        "#add new layer\n",
        "model_3.add(Dense(256,activation='relu', kernel_initializer=HeUniform(seed=7)))\n",
        "# BN for regularization to prevent overefitting\n",
        "model_3.add(BatchNormalization(momentum=0.6))\n",
        "\n",
        "model_3.add(Dense(128, activation='relu',kernel_initializer=HeUniform(seed=7)))\n",
        "model_3.add(BatchNormalization(momentum=0.6))\n",
        "\n",
        "model_3.add(Dense(64, activation='relu',kernel_initializer=HeUniform(seed=7)))\n",
        "model_3.add(BatchNormalization(momentum=0.6))\n",
        "\n",
        "model_3.add(Dense(32, activation='relu',kernel_initializer=HeUniform(seed=7)))\n",
        "\n",
        "#Output layer\n",
        "model_3.add(tf.keras.layers.Dense(10, activation='softmax'))"
      ]
    },
    {
      "cell_type": "code",
      "execution_count": null,
      "metadata": {
        "colab": {
          "base_uri": "https://localhost:8080/"
        },
        "id": "3vVW94t-vy5z",
        "outputId": "b1e81ecb-52f2-497c-af39-ce745edd6470"
      },
      "outputs": [
        {
          "name": "stdout",
          "output_type": "stream",
          "text": [
            "Model: \"sequential_8\"\n",
            "_________________________________________________________________\n",
            " Layer (type)                Output Shape              Param #   \n",
            "=================================================================\n",
            " reshape_8 (Reshape)         (None, 784)               0         \n",
            "                                                                 \n",
            " dense_34 (Dense)            (None, 256)               200960    \n",
            "                                                                 \n",
            " batch_normalization_9 (Batc  (None, 256)              1024      \n",
            " hNormalization)                                                 \n",
            "                                                                 \n",
            " dense_35 (Dense)            (None, 128)               32896     \n",
            "                                                                 \n",
            " batch_normalization_10 (Bat  (None, 128)              512       \n",
            " chNormalization)                                                \n",
            "                                                                 \n",
            " dense_36 (Dense)            (None, 64)                8256      \n",
            "                                                                 \n",
            " batch_normalization_11 (Bat  (None, 64)               256       \n",
            " chNormalization)                                                \n",
            "                                                                 \n",
            " dense_37 (Dense)            (None, 32)                2080      \n",
            "                                                                 \n",
            " dense_38 (Dense)            (None, 10)                330       \n",
            "                                                                 \n",
            "=================================================================\n",
            "Total params: 246,314\n",
            "Trainable params: 245,418\n",
            "Non-trainable params: 896\n",
            "_________________________________________________________________\n"
          ]
        }
      ],
      "source": [
        "model_3.summary()"
      ]
    },
    {
      "cell_type": "code",
      "execution_count": null,
      "metadata": {
        "id": "dj5Z8F8ivy2p"
      },
      "outputs": [],
      "source": [
        "chkpt = ModelCheckpoint('/content/checkpoint', monitor='val_loss', save_best_only=True,save_freq='epoch')\n",
        "\n",
        "callback = tf.keras.callbacks.EarlyStopping(monitor='val_loss', patience = 5,restore_best_weights=True)\n",
        "\n",
        "model_3.compile(optimizer=tf.keras.optimizers.Adam(learning_rate=0.0005), \n",
        "              loss='categorical_crossentropy', metrics=['accuracy'])"
      ]
    },
    {
      "cell_type": "code",
      "execution_count": null,
      "metadata": {
        "colab": {
          "base_uri": "https://localhost:8080/"
        },
        "id": "VMni4TYnvyyy",
        "outputId": "3dfe358b-728b-4f25-b423-787ce6f9b319"
      },
      "outputs": [
        {
          "name": "stdout",
          "output_type": "stream",
          "text": [
            "Epoch 1/40\n",
            "1500/1500 [==============================] - 9s 6ms/step - loss: 0.3533 - accuracy: 0.8973 - val_loss: 0.1416 - val_accuracy: 0.9578\n",
            "Epoch 2/40\n",
            "1500/1500 [==============================] - 7s 5ms/step - loss: 0.1426 - accuracy: 0.9566 - val_loss: 0.1077 - val_accuracy: 0.9662\n",
            "Epoch 3/40\n",
            "1500/1500 [==============================] - 7s 5ms/step - loss: 0.1010 - accuracy: 0.9693 - val_loss: 0.1044 - val_accuracy: 0.9679\n",
            "Epoch 4/40\n",
            "1500/1500 [==============================] - 7s 5ms/step - loss: 0.0811 - accuracy: 0.9742 - val_loss: 0.0874 - val_accuracy: 0.9737\n",
            "Epoch 5/40\n",
            "1500/1500 [==============================] - 6s 4ms/step - loss: 0.0719 - accuracy: 0.9762 - val_loss: 0.0895 - val_accuracy: 0.9756\n",
            "Epoch 6/40\n",
            "1500/1500 [==============================] - 6s 4ms/step - loss: 0.0593 - accuracy: 0.9809 - val_loss: 0.0886 - val_accuracy: 0.9760\n",
            "Epoch 7/40\n",
            "1500/1500 [==============================] - 8s 5ms/step - loss: 0.0519 - accuracy: 0.9827 - val_loss: 0.0860 - val_accuracy: 0.9753\n",
            "Epoch 8/40\n",
            "1500/1500 [==============================] - 6s 4ms/step - loss: 0.0457 - accuracy: 0.9847 - val_loss: 0.0913 - val_accuracy: 0.9744\n",
            "Epoch 9/40\n",
            "1500/1500 [==============================] - 6s 4ms/step - loss: 0.0448 - accuracy: 0.9847 - val_loss: 0.1018 - val_accuracy: 0.9748\n",
            "Epoch 10/40\n",
            "1500/1500 [==============================] - 6s 4ms/step - loss: 0.0350 - accuracy: 0.9882 - val_loss: 0.0929 - val_accuracy: 0.9761\n",
            "Epoch 11/40\n",
            "1500/1500 [==============================] - 6s 4ms/step - loss: 0.0347 - accuracy: 0.9881 - val_loss: 0.0954 - val_accuracy: 0.9765\n",
            "Epoch 12/40\n",
            "1500/1500 [==============================] - 7s 4ms/step - loss: 0.0326 - accuracy: 0.9888 - val_loss: 0.0867 - val_accuracy: 0.9772\n"
          ]
        }
      ],
      "source": [
        "#Train the model\n",
        "train_3 = model_3.fit(X_train_std,Y_train_cat,          \n",
        "          validation_data=(X_val_std,Y_val_cat),\n",
        "          epochs=40, batch_size=32, callbacks=[callback,chkpt])"
      ]
    },
    {
      "cell_type": "code",
      "execution_count": null,
      "metadata": {
        "id": "ag_kMbkNvyw2"
      },
      "outputs": [],
      "source": [
        "y_pred_BN = model_3.predict(X_test_std)"
      ]
    },
    {
      "cell_type": "code",
      "execution_count": null,
      "metadata": {
        "colab": {
          "base_uri": "https://localhost:8080/"
        },
        "id": "tJ_h5lex48Vj",
        "outputId": "d9d8b2af-faec-48ce-f32c-4de2facbc6dd"
      },
      "outputs": [
        {
          "data": {
            "text/plain": [
              "array([[ 966,    0,    0,    2,    1,    4,    3,    1,    2,    1],\n",
              "       [   0, 1121,    3,    2,    0,    1,    2,    1,    5,    0],\n",
              "       [   9,    1,  984,    6,    8,    2,    2,    8,   11,    1],\n",
              "       [   0,    0,   10,  965,    2,    7,    0,    8,   14,    4],\n",
              "       [   0,    0,    2,    0,  943,    0,   11,    1,    1,   24],\n",
              "       [   4,    2,    1,   17,    3,  836,   15,    1,    9,    4],\n",
              "       [   9,    3,    5,    0,    3,    3,  933,    0,    2,    0],\n",
              "       [   1,    3,   12,    8,    4,    1,    0,  986,    2,   11],\n",
              "       [   7,    2,    4,    9,    4,    4,    7,    6,  928,    3],\n",
              "       [   5,    5,    0,   10,   18,    4,    1,    6,    4,  956]])"
            ]
          },
          "execution_count": 118,
          "metadata": {},
          "output_type": "execute_result"
        }
      ],
      "source": [
        "from sklearn.metrics import confusion_matrix\n",
        "confusion_matrix(y_test,y_pred)"
      ]
    },
    {
      "cell_type": "markdown",
      "metadata": {
        "id": "abh3uxVyPJUN"
      },
      "source": [
        "- In the above model built with Batch Normalization we see that the training accuracy is 0.99 and the test accuracy is 0.98. \n",
        "- With batch normalization we see that both the train and test accuracy is better than the previous 2 models."
      ]
    },
    {
      "cell_type": "code",
      "execution_count": null,
      "metadata": {
        "colab": {
          "base_uri": "https://localhost:8080/",
          "height": 562
        },
        "id": "odE0TYX57tM9",
        "outputId": "57f8fa7a-3939-4694-9733-006c65399635"
      },
      "outputs": [
        {
          "data": {
            "text/plain": [
              "Text(0.5, 1.0, 'Training and validation loss')"
            ]
          },
          "execution_count": 120,
          "metadata": {},
          "output_type": "execute_result"
        },
        {
          "data": {
            "image/png": "[encoded data removed]",
            "text/plain": [
              "<Figure size 432x288 with 1 Axes>"
            ]
          },
          "metadata": {
            "needs_background": "light"
          },
          "output_type": "display_data"
        },
        {
          "data": {
            "image/png": "[encoded data removed]",
            "text/plain": [
              "<Figure size 432x288 with 1 Axes>"
            ]
          },
          "metadata": {
            "needs_background": "light"
          },
          "output_type": "display_data"
        }
      ],
      "source": [
        "accuracy = train_3.history['accuracy']\n",
        "val_accuracy = train_3.history['val_accuracy']\n",
        "loss = train_3.history['loss']\n",
        "val_loss = train_3.history['val_loss']\n",
        "\n",
        "epochs = range(len(accuracy)) # Get number of epochs\n",
        "\n",
        "plt.plot(epochs, accuracy, label = 'training accuracy' )\n",
        "plt.plot(epochs, val_accuracy, label = 'validation accuracy')\n",
        "plt.title('Training and validation accuracy')\n",
        "plt.legend(loc = 'lower right')\n",
        "plt.figure()\n",
        "\n",
        "plt.plot(epochs, loss, label = 'training loss' )\n",
        "plt.plot(epochs, val_loss, label = 'validation loss')\n",
        "plt.legend(loc = 'upper right')\n",
        "plt.title('Training and validation loss')"
      ]
    },
    {
      "cell_type": "markdown",
      "metadata": {
        "id": "RDbRn27XJer3"
      },
      "source": [
        "## 6. Summary\n",
        "\n",
        "- In this notebook we have seen the different parameters and hyperparamters we use while building a model (Base model, model with dropout and model with batch normalization).\n",
        "\n",
        "- Amongst all the models we built we have seen that model with batch normalization and weight initialization methods shows better results than the rest."
      ]
    },
    {
      "cell_type": "code",
      "execution_count": null,
      "metadata": {
        "id": "O_7-RwRd6xFz"
      },
      "outputs": [],
      "source": []
    }
  ],
  "metadata": {
    "accelerator": "GPU",
    "colab": {
      "collapsed_sections": [
        "SComX3lx7PX5",
        "s3YLe97J4RFH",
        "aa-UNe-o4f-E",
        "q1rmElv8vPm4",
        "TqAqzL49EBF-"
      ],
      "provenance": []
    },
    "gpuClass": "standard",
    "kernelspec": {
      "display_name": "base",
      "language": "python",
      "name": "python3"
    },
    "language_info": {
      "name": "python",
      "version": "3.8.8"
    },
    "vscode": {
      "interpreter": {
        "hash": "39ac83c075303fbbc6721f2ceb34b2baa5f89f41c4ede0f39f638cc7cb1fddc4"
      }
    }
  },
  "nbformat": 4,
  "nbformat_minor": 0
}
