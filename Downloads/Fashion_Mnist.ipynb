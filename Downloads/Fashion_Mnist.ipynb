{
  "cells": [
    {
      "cell_type": "markdown",
      "metadata": {
        "id": "IqlibgjZKWaL"
      },
      "source": [
        "![GL logo.png](data:image/png;base64,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)"
      ]
    },
    {
      "cell_type": "markdown",
      "metadata": {
        "id": "dwJCZsuiXh_S"
      },
      "source": [
        "# Agenda\n",
        "\n",
        "1. Case Study Details\n",
        "\n",
        "2. Import Libraries\n",
        "\n",
        "3. Load and Explore Data\n",
        "\n",
        "4. Data Analysis and Preparation\n",
        "\n",
        "5. Building Neural Network Model\n",
        "\n",
        "6. Conclusion"
      ]
    },
    {
      "cell_type": "markdown",
      "metadata": {
        "id": "R67m5RsRvYwe"
      },
      "source": [
        "## 1. Case Study Details"
      ]
    },
    {
      "cell_type": "markdown",
      "metadata": {
        "id": "bGyHWbOM70HN"
      },
      "source": [
        "### Fashion MNIST Image Classification\n",
        "\n",
        "#### Domain\n",
        "Retail, Marketing, Fashion\n",
        "\n",
        "#### Business Context\n",
        "\n",
        "Image classification is one of the important use cases in our daily life. Automotive, e-commerce, retail, manufacturing industries, security, surveillance, healthcare, farming etc., can have a wide application of image classification.\n",
        "\n",
        "\n",
        "####Objective: \n",
        "\n",
        "In this notebook, we will build a neural network to classifiy the image based on the object present in the image.\n",
        "\n",
        "#### Data Description\n",
        "\n",
        "- The dataset can be found [here](https://www.kaggle.com/datasets/zalando-research/fashionmnist?select=fashion-mnist_train.csv)\n",
        "\n",
        "- Fashion-MNIST is a dataset of Zalando's article images—consisting of a training set of 60,000\n",
        "examples and a test set of 10,000 examples.\n",
        "\n",
        "- Each image is 28 pixels in height and 28 pixels in width, for a total of 784 pixels in total. Each pixel has a single pixel-value associated with it, indicating the lightness or darkness of that pixel, with higher numbers meaning darker. This pixel-value is an integer between 0 and 255. The training and test data sets have 785 columns. The first column consists of the class labels (see above), and represents the article of clothing. The rest of the columns contain the pixel-values of the associated image.\n",
        "\n",
        "#### Labels\n",
        "\n",
        "Each training and test example is assigned to one of the following labels:\n",
        "\n",
        "0. T-shirt/top\n",
        "\n",
        "1. Trouser\n",
        "\n",
        "2. Pullover\n",
        "\n",
        "3. Dress\n",
        "\n",
        "4. Coat\n",
        "\n",
        "5. Sandal\n",
        "\n",
        "6. Shirt\n",
        "\n",
        "7. Sneaker\n",
        "\n",
        "8. Bag\n",
        "\n",
        "9. Ankle boot\n"
      ]
    },
    {
      "cell_type": "markdown",
      "metadata": {
        "id": "lrnMpQHElrLo"
      },
      "source": [
        "## 2. Import Libraries"
      ]
    },
    {
      "cell_type": "code",
      "execution_count": 1,
      "metadata": {
        "colab": {
          "base_uri": "https://localhost:8080/"
        },
        "id": "yeUlXwljJF8x",
        "outputId": "700be9e7-4f00-4d23-afe8-3b0a3e0c7232"
      },
      "outputs": [
        {
          "name": "stdout",
          "output_type": "stream",
          "text": [
            "Colab only includes TensorFlow 2.x; %tensorflow_version has no effect.\n"
          ]
        }
      ],
      "source": [
        "%tensorflow_version 2.x"
      ]
    },
    {
      "cell_type": "code",
      "execution_count": 1,
      "metadata": {
        "id": "3m64izx05_VU"
      },
      "outputs": [],
      "source": [
        "import matplotlib.pyplot as plt\n",
        "\n",
        "from sklearn.model_selection import train_test_split\n",
        "import tensorflow as tf\n",
        "from tensorflow.keras.datasets import fashion_mnist\n",
        "from tensorflow.keras.models import Sequential\n",
        "from tensorflow.keras.utils import to_categorical"
      ]
    },
    {
      "cell_type": "markdown",
      "metadata": {
        "id": "VoDsK-5WmUMv"
      },
      "source": [
        "## 3. Load and Explore Data"
      ]
    },
    {
      "cell_type": "code",
      "execution_count": 2,
      "metadata": {
        "colab": {
          "base_uri": "https://localhost:8080/"
        },
        "id": "eAkQmLqP6I2W",
        "outputId": "b926d732-5809-4a9c-f1ab-1e9e8be4bffe"
      },
      "outputs": [
        {
          "name": "stdout",
          "output_type": "stream",
          "text": [
            "Downloading data from https://storage.googleapis.com/tensorflow/tf-keras-datasets/train-labels-idx1-ubyte.gz\n",
            "29515/29515 [==============================] - 0s 0us/step\n",
            "Downloading data from https://storage.googleapis.com/tensorflow/tf-keras-datasets/train-images-idx3-ubyte.gz\n",
            "26421880/26421880 [==============================] - 4s 0us/step\n",
            "Downloading data from https://storage.googleapis.com/tensorflow/tf-keras-datasets/t10k-labels-idx1-ubyte.gz\n",
            "5148/5148 [==============================] - 0s 0us/step\n",
            "Downloading data from https://storage.googleapis.com/tensorflow/tf-keras-datasets/t10k-images-idx3-ubyte.gz\n",
            "4422102/4422102 [==============================] - 1s 0us/step\n"
          ]
        }
      ],
      "source": [
        "(X_train, y_train), (X_test, y_test) = fashion_mnist.load_data()"
      ]
    },
    {
      "cell_type": "markdown",
      "metadata": {
        "id": "kxn_evCN1btR"
      },
      "source": [
        "## 4.  Data Analysis and Preparation"
      ]
    },
    {
      "cell_type": "code",
      "execution_count": 3,
      "metadata": {
        "id": "eBQAJiW_uBPT"
      },
      "outputs": [],
      "source": [
        "# Split the train data into train and val set\n",
        "X_train,X_val,y_train,y_val = train_test_split(X_train,y_train, test_size=0.2,random_state=28)"
      ]
    },
    {
      "cell_type": "code",
      "execution_count": 4,
      "metadata": {
        "colab": {
          "base_uri": "https://localhost:8080/"
        },
        "id": "K4xgJrGJk5yF",
        "outputId": "b223243a-978a-4ce0-ec7b-2185376b86ac"
      },
      "outputs": [
        {
          "data": {
            "text/plain": [
              "((48000, 28, 28),\n",
              " (10000, 28, 28),\n",
              " (48000,),\n",
              " (10000,),\n",
              " (12000, 28, 28),\n",
              " (12000,))"
            ]
          },
          "execution_count": 4,
          "metadata": {},
          "output_type": "execute_result"
        }
      ],
      "source": [
        "X_train.shape, X_test.shape, y_train.shape, y_test.shape,X_val.shape,y_val.shape"
      ]
    },
    {
      "cell_type": "code",
      "execution_count": 5,
      "metadata": {
        "colab": {
          "base_uri": "https://localhost:8080/",
          "height": 283
        },
        "id": "SPuC2xT2-FdE",
        "outputId": "f2967901-fad6-44ed-d6cd-5434592e2535"
      },
      "outputs": [
        {
          "data": {
            "text/plain": [
              "<matplotlib.image.AxesImage at 0x7ff5f89a7550>"
            ]
          },
          "execution_count": 5,
          "metadata": {},
          "output_type": "execute_result"
        },
        {
          "data": {
            "image/png": "[encoded data removed]",
            "text/plain": [
              "<Figure size 432x288 with 1 Axes>"
            ]
          },
          "metadata": {
            "needs_background": "light"
          },
          "output_type": "display_data"
        }
      ],
      "source": [
        "plt.imshow(X_train[1001]) ## cmap='gray'"
      ]
    },
    {
      "cell_type": "code",
      "execution_count": 6,
      "metadata": {
        "colab": {
          "base_uri": "https://localhost:8080/"
        },
        "id": "I0C8IV7v-LAW",
        "outputId": "8fa5b714-ccfc-4608-f26c-72bf15547bae"
      },
      "outputs": [
        {
          "data": {
            "text/plain": [
              "7"
            ]
          },
          "execution_count": 6,
          "metadata": {},
          "output_type": "execute_result"
        }
      ],
      "source": [
        "y_train[1001] ##Verify the label"
      ]
    },
    {
      "cell_type": "code",
      "execution_count": 7,
      "metadata": {
        "id": "mail1vqhGXar"
      },
      "outputs": [],
      "source": [
        "# Normalizing the dataset\n",
        "X_train_std= X_train.astype('float32') #Modifying the datatype\n",
        "X_val_std= X_val.astype('float32')\n",
        "X_train_std /= 255 # Scaling X_train and X_test\n",
        "X_val_std /=255"
      ]
    },
    {
      "cell_type": "code",
      "execution_count": 8,
      "metadata": {
        "id": "V3F-RspLuZPt"
      },
      "outputs": [],
      "source": [
        "X_test_std= X_test.astype('float32')\n",
        "X_test_std = X_test/255"
      ]
    },
    {
      "cell_type": "code",
      "execution_count": 9,
      "metadata": {
        "id": "mVTx02xh0hdO"
      },
      "outputs": [],
      "source": [
        "## One hot encoding of the target columns\n",
        "Y_train_cat=tf.keras.utils.to_categorical(y_train)\n",
        "Y_val_cat=tf.keras.utils.to_categorical(y_val)"
      ]
    },
    {
      "cell_type": "code",
      "execution_count": 10,
      "metadata": {
        "id": "CUmqH5EvvLKd"
      },
      "outputs": [],
      "source": [
        "Y_test_cat=tf.keras.utils.to_categorical(y_test)"
      ]
    },
    {
      "cell_type": "markdown",
      "metadata": {
        "id": "wgazil5n0lqy"
      },
      "source": [
        "## 5. Building the Neural Network Model\n",
        "\n",
        "We have built the following Neural Network Models in this notebook to understand how the changes in parameters during model building affect the performance of the model\n",
        "\n",
        "1. Basic NN model\n",
        "2. Building a model with Weight Initialization\n",
        "3. Model building by changing Nonlinearity / Activation function from Sigmoid to ReLU\n",
        "4. Model Building with Batch Normalization\n",
        "5. Model Building with Batch Normalization and Dropout"
      ]
    },
    {
      "cell_type": "markdown",
      "metadata": {
        "id": "yb0Kx_ME6plD"
      },
      "source": [
        "### 5.1 Basic NN model\n",
        "\n",
        "Naive MLP model without any alterations"
      ]
    },
    {
      "cell_type": "code",
      "execution_count": 20,
      "metadata": {
        "id": "weHT53gF6aFY"
      },
      "outputs": [],
      "source": [
        "from tensorflow.keras.models import Sequential\n",
        "from tensorflow.keras.layers import Activation, Dense\n",
        "from tensorflow.keras import optimizers"
      ]
    },
    {
      "cell_type": "code",
      "execution_count": 21,
      "metadata": {
        "id": "izZlXqJu6sdo"
      },
      "outputs": [],
      "source": [
        "model = tf.keras.models.Sequential()\n",
        "model.add(tf.keras.layers.Reshape((784,),input_shape=(28,28,)))\n",
        "model.add(Dense(32))\n",
        "model.add(Activation('sigmoid'))\n",
        "model.add(Dense(64))\n",
        "model.add(Activation('sigmoid'))\n",
        "model.add(Dense(32))\n",
        "model.add(Activation('sigmoid'))\n",
        "model.add(Dense(10))\n",
        "model.add(Activation('softmax'))"
      ]
    },
    {
      "cell_type": "code",
      "execution_count": 22,
      "metadata": {
        "colab": {
          "base_uri": "https://localhost:8080/"
        },
        "id": "4rOAXCsH1VIW",
        "outputId": "5716040d-bfc8-43fd-b8e2-e546e77c0d7c"
      },
      "outputs": [
        {
          "name": "stdout",
          "output_type": "stream",
          "text": [
            "Model: \"sequential_2\"\n",
            "_________________________________________________________________\n",
            " Layer (type)                Output Shape              Param #   \n",
            "=================================================================\n",
            " reshape_2 (Reshape)         (None, 784)               0         \n",
            "                                                                 \n",
            " dense_8 (Dense)             (None, 32)                25120     \n",
            "                                                                 \n",
            " activation_8 (Activation)   (None, 32)                0         \n",
            "                                                                 \n",
            " dense_9 (Dense)             (None, 64)                2112      \n",
            "                                                                 \n",
            " activation_9 (Activation)   (None, 64)                0         \n",
            "                                                                 \n",
            " dense_10 (Dense)            (None, 32)                2080      \n",
            "                                                                 \n",
            " activation_10 (Activation)  (None, 32)                0         \n",
            "                                                                 \n",
            " dense_11 (Dense)            (None, 10)                330       \n",
            "                                                                 \n",
            " activation_11 (Activation)  (None, 10)                0         \n",
            "                                                                 \n",
            "=================================================================\n",
            "Total params: 29,642\n",
            "Trainable params: 29,642\n",
            "Non-trainable params: 0\n",
            "_________________________________________________________________\n"
          ]
        }
      ],
      "source": [
        "model.summary()"
      ]
    },
    {
      "cell_type": "code",
      "execution_count": 23,
      "metadata": {
        "id": "PJ5FUE916x2b"
      },
      "outputs": [],
      "source": [
        "model.compile(optimizer = tf.keras.optimizers.SGD(), loss = 'categorical_crossentropy', metrics = ['accuracy'])"
      ]
    },
    {
      "cell_type": "code",
      "execution_count": 24,
      "metadata": {
        "colab": {
          "base_uri": "https://localhost:8080/"
        },
        "id": "Zl34l0jR6zH-",
        "outputId": "c283a64a-fe76-4b77-d5a0-929337402982"
      },
      "outputs": [
        {
          "name": "stdout",
          "output_type": "stream",
          "text": [
            "Epoch 1/50\n",
            "1500/1500 [==============================] - 4s 2ms/step - loss: 2.3014 - accuracy: 0.1278 - val_loss: 2.2902 - val_accuracy: 0.1002\n",
            "Epoch 2/50\n",
            "1500/1500 [==============================] - 3s 2ms/step - loss: 2.2782 - accuracy: 0.2082 - val_loss: 2.2607 - val_accuracy: 0.3333\n",
            "Epoch 3/50\n",
            "1500/1500 [==============================] - 3s 2ms/step - loss: 2.2135 - accuracy: 0.2636 - val_loss: 2.1314 - val_accuracy: 0.2867\n",
            "Epoch 4/50\n",
            "1500/1500 [==============================] - 3s 2ms/step - loss: 1.9706 - accuracy: 0.2711 - val_loss: 1.8120 - val_accuracy: 0.3170\n",
            "Epoch 5/50\n",
            "1500/1500 [==============================] - 3s 2ms/step - loss: 1.7197 - accuracy: 0.3425 - val_loss: 1.6486 - val_accuracy: 0.4356\n",
            "Epoch 6/50\n",
            "1500/1500 [==============================] - 3s 2ms/step - loss: 1.5815 - accuracy: 0.4268 - val_loss: 1.5146 - val_accuracy: 0.4980\n",
            "Epoch 7/50\n",
            "1500/1500 [==============================] - 3s 2ms/step - loss: 1.4482 - accuracy: 0.4833 - val_loss: 1.3880 - val_accuracy: 0.4597\n",
            "Epoch 8/50\n",
            "1500/1500 [==============================] - 3s 2ms/step - loss: 1.3352 - accuracy: 0.5313 - val_loss: 1.2905 - val_accuracy: 0.4807\n",
            "Epoch 9/50\n",
            "1500/1500 [==============================] - 3s 2ms/step - loss: 1.2483 - accuracy: 0.5576 - val_loss: 1.2125 - val_accuracy: 0.5915\n",
            "Epoch 10/50\n",
            "1500/1500 [==============================] - 3s 2ms/step - loss: 1.1770 - accuracy: 0.5883 - val_loss: 1.1456 - val_accuracy: 0.5979\n",
            "Epoch 11/50\n",
            "1500/1500 [==============================] - 3s 2ms/step - loss: 1.1109 - accuracy: 0.6103 - val_loss: 1.0783 - val_accuracy: 0.6174\n",
            "Epoch 12/50\n",
            "1500/1500 [==============================] - 3s 2ms/step - loss: 1.0405 - accuracy: 0.6232 - val_loss: 1.0063 - val_accuracy: 0.6285\n",
            "Epoch 13/50\n",
            "1500/1500 [==============================] - 3s 2ms/step - loss: 0.9744 - accuracy: 0.6411 - val_loss: 0.9470 - val_accuracy: 0.6507\n",
            "Epoch 14/50\n",
            "1500/1500 [==============================] - 3s 2ms/step - loss: 0.9211 - accuracy: 0.6581 - val_loss: 0.8996 - val_accuracy: 0.6562\n",
            "Epoch 15/50\n",
            "1500/1500 [==============================] - 3s 2ms/step - loss: 0.8776 - accuracy: 0.6750 - val_loss: 0.8607 - val_accuracy: 0.6933\n",
            "Epoch 16/50\n",
            "1500/1500 [==============================] - 3s 2ms/step - loss: 0.8404 - accuracy: 0.6942 - val_loss: 0.8265 - val_accuracy: 0.7017\n",
            "Epoch 17/50\n",
            "1500/1500 [==============================] - 3s 2ms/step - loss: 0.8088 - accuracy: 0.7065 - val_loss: 0.7985 - val_accuracy: 0.6997\n",
            "Epoch 18/50\n",
            "1500/1500 [==============================] - 3s 2ms/step - loss: 0.7820 - accuracy: 0.7165 - val_loss: 0.7749 - val_accuracy: 0.7103\n",
            "Epoch 19/50\n",
            "1500/1500 [==============================] - 4s 3ms/step - loss: 0.7587 - accuracy: 0.7250 - val_loss: 0.7548 - val_accuracy: 0.7381\n",
            "Epoch 20/50\n",
            "1500/1500 [==============================] - 5s 4ms/step - loss: 0.7387 - accuracy: 0.7351 - val_loss: 0.7352 - val_accuracy: 0.7337\n",
            "Epoch 21/50\n",
            "1500/1500 [==============================] - 6s 4ms/step - loss: 0.7207 - accuracy: 0.7424 - val_loss: 0.7191 - val_accuracy: 0.7406\n",
            "Epoch 22/50\n",
            "1500/1500 [==============================] - 5s 4ms/step - loss: 0.7040 - accuracy: 0.7486 - val_loss: 0.7047 - val_accuracy: 0.7479\n",
            "Epoch 23/50\n",
            "1500/1500 [==============================] - 4s 3ms/step - loss: 0.6892 - accuracy: 0.7545 - val_loss: 0.6908 - val_accuracy: 0.7529\n",
            "Epoch 24/50\n",
            "1500/1500 [==============================] - 4s 2ms/step - loss: 0.6753 - accuracy: 0.7602 - val_loss: 0.6790 - val_accuracy: 0.7613\n",
            "Epoch 25/50\n",
            "1500/1500 [==============================] - 3s 2ms/step - loss: 0.6618 - accuracy: 0.7667 - val_loss: 0.6657 - val_accuracy: 0.7594\n",
            "Epoch 26/50\n",
            "1500/1500 [==============================] - 3s 2ms/step - loss: 0.6495 - accuracy: 0.7707 - val_loss: 0.6541 - val_accuracy: 0.7663\n",
            "Epoch 27/50\n",
            "1500/1500 [==============================] - 3s 2ms/step - loss: 0.6371 - accuracy: 0.7739 - val_loss: 0.6434 - val_accuracy: 0.7697\n",
            "Epoch 28/50\n",
            "1500/1500 [==============================] - 3s 2ms/step - loss: 0.6258 - accuracy: 0.7775 - val_loss: 0.6330 - val_accuracy: 0.7738\n",
            "Epoch 29/50\n",
            "1500/1500 [==============================] - 3s 2ms/step - loss: 0.6146 - accuracy: 0.7824 - val_loss: 0.6226 - val_accuracy: 0.7728\n",
            "Epoch 30/50\n",
            "1500/1500 [==============================] - 3s 2ms/step - loss: 0.6039 - accuracy: 0.7851 - val_loss: 0.6130 - val_accuracy: 0.7782\n",
            "Epoch 31/50\n",
            "1500/1500 [==============================] - 4s 3ms/step - loss: 0.5935 - accuracy: 0.7881 - val_loss: 0.6039 - val_accuracy: 0.7814\n",
            "Epoch 32/50\n",
            "1500/1500 [==============================] - 4s 3ms/step - loss: 0.5836 - accuracy: 0.7920 - val_loss: 0.5963 - val_accuracy: 0.7829\n",
            "Epoch 33/50\n",
            "1500/1500 [==============================] - 4s 3ms/step - loss: 0.5740 - accuracy: 0.7945 - val_loss: 0.5862 - val_accuracy: 0.7858\n",
            "Epoch 34/50\n",
            "1500/1500 [==============================] - 4s 3ms/step - loss: 0.5647 - accuracy: 0.7977 - val_loss: 0.5780 - val_accuracy: 0.7863\n",
            "Epoch 35/50\n",
            "1500/1500 [==============================] - 4s 3ms/step - loss: 0.5552 - accuracy: 0.8006 - val_loss: 0.5712 - val_accuracy: 0.7879\n",
            "Epoch 36/50\n",
            "1500/1500 [==============================] - 4s 3ms/step - loss: 0.5464 - accuracy: 0.8037 - val_loss: 0.5613 - val_accuracy: 0.7952\n",
            "Epoch 37/50\n",
            "1500/1500 [==============================] - 4s 2ms/step - loss: 0.5378 - accuracy: 0.8073 - val_loss: 0.5517 - val_accuracy: 0.7968\n",
            "Epoch 38/50\n",
            "1500/1500 [==============================] - 4s 2ms/step - loss: 0.5297 - accuracy: 0.8118 - val_loss: 0.5440 - val_accuracy: 0.8007\n",
            "Epoch 39/50\n",
            "1500/1500 [==============================] - 4s 2ms/step - loss: 0.5218 - accuracy: 0.8159 - val_loss: 0.5379 - val_accuracy: 0.8023\n",
            "Epoch 40/50\n",
            "1500/1500 [==============================] - 3s 2ms/step - loss: 0.5144 - accuracy: 0.8190 - val_loss: 0.5316 - val_accuracy: 0.8095\n",
            "Epoch 41/50\n",
            "1500/1500 [==============================] - 4s 2ms/step - loss: 0.5068 - accuracy: 0.8226 - val_loss: 0.5244 - val_accuracy: 0.8105\n",
            "Epoch 42/50\n",
            "1500/1500 [==============================] - 4s 2ms/step - loss: 0.4999 - accuracy: 0.8259 - val_loss: 0.5240 - val_accuracy: 0.8110\n",
            "Epoch 43/50\n",
            "1500/1500 [==============================] - 4s 3ms/step - loss: 0.4934 - accuracy: 0.8290 - val_loss: 0.5121 - val_accuracy: 0.8120\n",
            "Epoch 44/50\n",
            "1500/1500 [==============================] - 4s 3ms/step - loss: 0.4869 - accuracy: 0.8318 - val_loss: 0.5060 - val_accuracy: 0.8175\n",
            "Epoch 45/50\n",
            "1500/1500 [==============================] - 4s 3ms/step - loss: 0.4811 - accuracy: 0.8347 - val_loss: 0.5005 - val_accuracy: 0.8219\n",
            "Epoch 46/50\n",
            "1500/1500 [==============================] - 4s 3ms/step - loss: 0.4749 - accuracy: 0.8364 - val_loss: 0.4940 - val_accuracy: 0.8246\n",
            "Epoch 47/50\n",
            "1500/1500 [==============================] - 4s 3ms/step - loss: 0.4698 - accuracy: 0.8387 - val_loss: 0.4909 - val_accuracy: 0.8252\n",
            "Epoch 48/50\n",
            "1500/1500 [==============================] - 4s 3ms/step - loss: 0.4646 - accuracy: 0.8411 - val_loss: 0.4881 - val_accuracy: 0.8264\n",
            "Epoch 49/50\n",
            "1500/1500 [==============================] - 4s 3ms/step - loss: 0.4596 - accuracy: 0.8431 - val_loss: 0.4802 - val_accuracy: 0.8321\n",
            "Epoch 50/50\n",
            "1500/1500 [==============================] - 4s 3ms/step - loss: 0.4548 - accuracy: 0.8446 - val_loss: 0.4761 - val_accuracy: 0.8344\n"
          ]
        }
      ],
      "source": [
        "history_1 = model.fit(X_train_std,Y_train_cat,validation_data=(X_val_std,Y_val_cat),batch_size = 32, epochs = 50, verbose = 1)"
      ]
    },
    {
      "cell_type": "code",
      "execution_count": 25,
      "metadata": {
        "colab": {
          "base_uri": "https://localhost:8080/"
        },
        "id": "VjPfPYcSk454",
        "outputId": "c50f2c43-8328-4623-f132-36a35f3fc1c6"
      },
      "outputs": [
        {
          "name": "stdout",
          "output_type": "stream",
          "text": [
            "313/313 [==============================] - 1s 1ms/step\n"
          ]
        },
        {
          "data": {
            "text/plain": [
              "array([9, 2, 1, ..., 8, 1, 5])"
            ]
          },
          "execution_count": 25,
          "metadata": {},
          "output_type": "execute_result"
        }
      ],
      "source": [
        "# Predicting X_test basis the built model\n",
        "import numpy as np\n",
        "y_pred = np.argmax(model.predict(X_test_std), axis=1)\n",
        "y_pred"
      ]
    },
    {
      "cell_type": "code",
      "execution_count": 26,
      "metadata": {
        "colab": {
          "base_uri": "https://localhost:8080/"
        },
        "id": "fZYpcoVL7gPI",
        "outputId": "3df9219f-12b3-4b0f-e986-6975333592ec"
      },
      "outputs": [
        {
          "name": "stdout",
          "output_type": "stream",
          "text": [
            "313/313 [==============================] - 1s 2ms/step - loss: 0.4913 - accuracy: 0.8310\n"
          ]
        }
      ],
      "source": [
        "results = model.evaluate(X_test_std, Y_test_cat)"
      ]
    },
    {
      "cell_type": "code",
      "execution_count": 28,
      "metadata": {
        "colab": {
          "base_uri": "https://localhost:8080/"
        },
        "id": "Rhl0xqgR62ei",
        "outputId": "05810cb9-f26a-4f33-8bd5-956d3f2670e6"
      },
      "outputs": [
        {
          "data": {
            "text/plain": [
              "array([[812,   1,   7,  56,   4,   2, 107,   0,  11,   0],\n",
              "       [ 12, 934,   2,  39,   3,   0,  10,   0,   0,   0],\n",
              "       [ 14,   0, 664,  10, 151,   0, 155,   0,   6,   0],\n",
              "       [ 35,   8,   1, 854,  44,   1,  52,   0,   5,   0],\n",
              "       [  0,   0,  84,  36, 792,   0,  85,   0,   3,   0],\n",
              "       [  0,   0,   0,   0,   0, 914,   0,  50,   5,  31],\n",
              "       [176,   2, 133,  47, 119,   0, 505,   0,  18,   0],\n",
              "       [  0,   0,   0,   0,   0,  30,   0, 931,   0,  39],\n",
              "       [  1,   0,   1,   4,   5,   9,  19,   3, 957,   1],\n",
              "       [  0,   0,   0,   0,   0,  11,   0,  41,   1, 947]])"
            ]
          },
          "execution_count": 28,
          "metadata": {},
          "output_type": "execute_result"
        }
      ],
      "source": [
        "from sklearn.metrics import confusion_matrix\n",
        "confusion_matrix(y_test,y_pred)"
      ]
    },
    {
      "cell_type": "code",
      "execution_count": 29,
      "metadata": {
        "colab": {
          "base_uri": "https://localhost:8080/",
          "height": 573
        },
        "id": "dS4u6ajolI86",
        "outputId": "9f484315-ac74-41e9-9142-7f47f0016a23"
      },
      "outputs": [
        {
          "data": {
            "image/png": "[encoded data removed]",
            "text/plain": [
              "<Figure size 432x288 with 1 Axes>"
            ]
          },
          "metadata": {
            "needs_background": "light"
          },
          "output_type": "display_data"
        },
        {
          "data": {
            "image/png": "[encoded data removed]",
            "text/plain": [
              "<Figure size 432x288 with 1 Axes>"
            ]
          },
          "metadata": {
            "needs_background": "light"
          },
          "output_type": "display_data"
        }
      ],
      "source": [
        "import matplotlib.pyplot as plt\n",
        "\n",
        "plt.plot(history_1.history['accuracy'])\n",
        "plt.plot(history_1.history['val_accuracy'])\n",
        "plt.title('model accuracy')\n",
        "plt.ylabel('accuracy')\n",
        "plt.xlabel('epoch')\n",
        "plt.legend(['train', 'Val'], loc='upper left')\n",
        "plt.show()\n",
        "# summarize history for loss\n",
        "plt.plot(history_1.history['loss'])\n",
        "plt.plot(history_1.history['val_loss'])\n",
        "plt.title('model loss')\n",
        "plt.ylabel('loss')\n",
        "plt.xlabel('epoch')\n",
        "plt.legend(['train', 'val'], loc='upper left')\n",
        "plt.show()"
      ]
    },
    {
      "cell_type": "markdown",
      "metadata": {
        "id": "HoEMbwRw6HFE"
      },
      "source": [
        "#### The basic model is still learning with the increase in the number of epochs. The model is steady to learn with increasing epochs. Let us try to add few more parameters like weights to see if the model learning is faster."
      ]
    },
    {
      "cell_type": "markdown",
      "metadata": {
        "id": "3V7kN5-f7IHv"
      },
      "source": [
        "### 5.2 Building a model with Weight Initialization\n",
        "\n",
        "Changing weight initialization scheme can significantly improve training of the model by preventing vanishing gradient problem up to some degree\n",
        "\n",
        "Ref: https://keras.io/initializers/\n",
        "\n",
        "In Keras, there are a number of inbuilt initializers available as listed below:\n",
        "\n",
        "- RandomNormal\n",
        "- RandomUniform\n",
        "- Truncated Normal\n",
        "- Zeros\n",
        "- Ones\n",
        "- GlorotNormal\n",
        "- GlorotUniform\n",
        "- HeNormal\n",
        "- HeUniform\n",
        "- identity\n",
        "- Orthogonal\n",
        "- Constant\n",
        "- VarianceScaling\n"
      ]
    },
    {
      "cell_type": "markdown",
      "metadata": {
        "id": "vKERCfa5VaSQ"
      },
      "source": [
        "Of all the available initializers we have tried the implementation using HeNormal initializer to check how the NN model performs."
      ]
    },
    {
      "cell_type": "code",
      "execution_count": 30,
      "metadata": {
        "id": "hfwiWW7PoKEP"
      },
      "outputs": [],
      "source": [
        "model_1 = tf.keras.models.Sequential()\n",
        "model_1.add(tf.keras.layers.Reshape((784,),input_shape=(28,28,)))\n",
        "model_1.add(Dense(32, kernel_initializer='he_normal'))                            # use he_normal initializer\n",
        "model_1.add(Activation('sigmoid'))    \n",
        "model_1.add(Dense(64, kernel_initializer='he_normal'))                            # use he_normal initializer\n",
        "model_1.add(Activation('sigmoid'))    \n",
        "model_1.add(Dense(32, kernel_initializer='he_normal'))                            # use he_normal initializer\n",
        "model_1.add(Activation('sigmoid'))    \n",
        "model_1.add(Dense(10, kernel_initializer='he_normal'))                            # use he_normal initializer\n",
        "model_1.add(Activation('softmax'))"
      ]
    },
    {
      "cell_type": "code",
      "execution_count": 31,
      "metadata": {
        "colab": {
          "base_uri": "https://localhost:8080/"
        },
        "id": "tz7o8YhooZSw",
        "outputId": "767a7548-4750-48c4-8c7f-a92434dfe27b"
      },
      "outputs": [
        {
          "name": "stdout",
          "output_type": "stream",
          "text": [
            "Model: \"sequential_3\"\n",
            "_________________________________________________________________\n",
            " Layer (type)                Output Shape              Param #   \n",
            "=================================================================\n",
            " reshape_3 (Reshape)         (None, 784)               0         \n",
            "                                                                 \n",
            " dense_12 (Dense)            (None, 32)                25120     \n",
            "                                                                 \n",
            " activation_12 (Activation)  (None, 32)                0         \n",
            "                                                                 \n",
            " dense_13 (Dense)            (None, 64)                2112      \n",
            "                                                                 \n",
            " activation_13 (Activation)  (None, 64)                0         \n",
            "                                                                 \n",
            " dense_14 (Dense)            (None, 32)                2080      \n",
            "                                                                 \n",
            " activation_14 (Activation)  (None, 32)                0         \n",
            "                                                                 \n",
            " dense_15 (Dense)            (None, 10)                330       \n",
            "                                                                 \n",
            " activation_15 (Activation)  (None, 10)                0         \n",
            "                                                                 \n",
            "=================================================================\n",
            "Total params: 29,642\n",
            "Trainable params: 29,642\n",
            "Non-trainable params: 0\n",
            "_________________________________________________________________\n"
          ]
        }
      ],
      "source": [
        "model_1.summary()"
      ]
    },
    {
      "cell_type": "code",
      "execution_count": 33,
      "metadata": {
        "id": "381PN93YquuG"
      },
      "outputs": [],
      "source": [
        "model_1.compile(optimizer = tf.keras.optimizers.SGD(), loss = 'categorical_crossentropy', metrics = ['accuracy'])"
      ]
    },
    {
      "cell_type": "code",
      "execution_count": 34,
      "metadata": {
        "colab": {
          "base_uri": "https://localhost:8080/"
        },
        "id": "5ENDp8a-quuJ",
        "outputId": "b43aa9ae-d757-4d7f-f30e-5f4d27bab2b7"
      },
      "outputs": [
        {
          "name": "stdout",
          "output_type": "stream",
          "text": [
            "Epoch 1/50\n",
            "1500/1500 [==============================] - 3s 2ms/step - loss: 2.2708 - accuracy: 0.2274 - val_loss: 2.2224 - val_accuracy: 0.4300\n",
            "Epoch 2/50\n",
            "1500/1500 [==============================] - 3s 2ms/step - loss: 2.1070 - accuracy: 0.3914 - val_loss: 1.9393 - val_accuracy: 0.3637\n",
            "Epoch 3/50\n",
            "1500/1500 [==============================] - 3s 2ms/step - loss: 1.7784 - accuracy: 0.4882 - val_loss: 1.6595 - val_accuracy: 0.5717\n",
            "Epoch 4/50\n",
            "1500/1500 [==============================] - 3s 2ms/step - loss: 1.5669 - accuracy: 0.5831 - val_loss: 1.4676 - val_accuracy: 0.6286\n",
            "Epoch 5/50\n",
            "1500/1500 [==============================] - 3s 2ms/step - loss: 1.3618 - accuracy: 0.6257 - val_loss: 1.2627 - val_accuracy: 0.6152\n",
            "Epoch 6/50\n",
            "1500/1500 [==============================] - 3s 2ms/step - loss: 1.1828 - accuracy: 0.6401 - val_loss: 1.1122 - val_accuracy: 0.6378\n",
            "Epoch 7/50\n",
            "1500/1500 [==============================] - 3s 2ms/step - loss: 1.0517 - accuracy: 0.6596 - val_loss: 0.9968 - val_accuracy: 0.6485\n",
            "Epoch 8/50\n",
            "1500/1500 [==============================] - 3s 2ms/step - loss: 0.9478 - accuracy: 0.6778 - val_loss: 0.9039 - val_accuracy: 0.6852\n",
            "Epoch 9/50\n",
            "1500/1500 [==============================] - 3s 2ms/step - loss: 0.8685 - accuracy: 0.6944 - val_loss: 0.8358 - val_accuracy: 0.7024\n",
            "Epoch 10/50\n",
            "1500/1500 [==============================] - 3s 2ms/step - loss: 0.8099 - accuracy: 0.7107 - val_loss: 0.7875 - val_accuracy: 0.7088\n",
            "Epoch 11/50\n",
            "1500/1500 [==============================] - 3s 2ms/step - loss: 0.7661 - accuracy: 0.7231 - val_loss: 0.7487 - val_accuracy: 0.7303\n",
            "Epoch 12/50\n",
            "1500/1500 [==============================] - 3s 2ms/step - loss: 0.7309 - accuracy: 0.7361 - val_loss: 0.7156 - val_accuracy: 0.7419\n",
            "Epoch 13/50\n",
            "1500/1500 [==============================] - 3s 2ms/step - loss: 0.7004 - accuracy: 0.7462 - val_loss: 0.6880 - val_accuracy: 0.7527\n",
            "Epoch 14/50\n",
            "1500/1500 [==============================] - 3s 2ms/step - loss: 0.6732 - accuracy: 0.7577 - val_loss: 0.6629 - val_accuracy: 0.7593\n",
            "Epoch 15/50\n",
            "1500/1500 [==============================] - 3s 2ms/step - loss: 0.6487 - accuracy: 0.7686 - val_loss: 0.6412 - val_accuracy: 0.7717\n",
            "Epoch 16/50\n",
            "1500/1500 [==============================] - 3s 2ms/step - loss: 0.6265 - accuracy: 0.7776 - val_loss: 0.6211 - val_accuracy: 0.7807\n",
            "Epoch 17/50\n",
            "1500/1500 [==============================] - 3s 2ms/step - loss: 0.6071 - accuracy: 0.7856 - val_loss: 0.6020 - val_accuracy: 0.7886\n",
            "Epoch 18/50\n",
            "1500/1500 [==============================] - 3s 2ms/step - loss: 0.5892 - accuracy: 0.7936 - val_loss: 0.5873 - val_accuracy: 0.7938\n",
            "Epoch 19/50\n",
            "1500/1500 [==============================] - 3s 2ms/step - loss: 0.5733 - accuracy: 0.8014 - val_loss: 0.5726 - val_accuracy: 0.7977\n",
            "Epoch 20/50\n",
            "1500/1500 [==============================] - 3s 2ms/step - loss: 0.5593 - accuracy: 0.8067 - val_loss: 0.5595 - val_accuracy: 0.8027\n",
            "Epoch 21/50\n",
            "1500/1500 [==============================] - 3s 2ms/step - loss: 0.5466 - accuracy: 0.8115 - val_loss: 0.5489 - val_accuracy: 0.8061\n",
            "Epoch 22/50\n",
            "1500/1500 [==============================] - 3s 2ms/step - loss: 0.5353 - accuracy: 0.8150 - val_loss: 0.5396 - val_accuracy: 0.8094\n",
            "Epoch 23/50\n",
            "1500/1500 [==============================] - 3s 2ms/step - loss: 0.5248 - accuracy: 0.8196 - val_loss: 0.5294 - val_accuracy: 0.8140\n",
            "Epoch 24/50\n",
            "1500/1500 [==============================] - 3s 2ms/step - loss: 0.5154 - accuracy: 0.8230 - val_loss: 0.5211 - val_accuracy: 0.8196\n",
            "Epoch 25/50\n",
            "1500/1500 [==============================] - 3s 2ms/step - loss: 0.5066 - accuracy: 0.8268 - val_loss: 0.5133 - val_accuracy: 0.8221\n",
            "Epoch 26/50\n",
            "1500/1500 [==============================] - 3s 2ms/step - loss: 0.4986 - accuracy: 0.8291 - val_loss: 0.5053 - val_accuracy: 0.8245\n",
            "Epoch 27/50\n",
            "1500/1500 [==============================] - 3s 2ms/step - loss: 0.4908 - accuracy: 0.8316 - val_loss: 0.5016 - val_accuracy: 0.8276\n",
            "Epoch 28/50\n",
            "1500/1500 [==============================] - 3s 2ms/step - loss: 0.4837 - accuracy: 0.8341 - val_loss: 0.4925 - val_accuracy: 0.8286\n",
            "Epoch 29/50\n",
            "1500/1500 [==============================] - 3s 2ms/step - loss: 0.4773 - accuracy: 0.8367 - val_loss: 0.4872 - val_accuracy: 0.8320\n",
            "Epoch 30/50\n",
            "1500/1500 [==============================] - 3s 2ms/step - loss: 0.4712 - accuracy: 0.8381 - val_loss: 0.4815 - val_accuracy: 0.8337\n",
            "Epoch 31/50\n",
            "1500/1500 [==============================] - 3s 2ms/step - loss: 0.4651 - accuracy: 0.8399 - val_loss: 0.4756 - val_accuracy: 0.8367\n",
            "Epoch 32/50\n",
            "1500/1500 [==============================] - 3s 2ms/step - loss: 0.4596 - accuracy: 0.8426 - val_loss: 0.4711 - val_accuracy: 0.8369\n",
            "Epoch 33/50\n",
            "1500/1500 [==============================] - 3s 2ms/step - loss: 0.4539 - accuracy: 0.8443 - val_loss: 0.4671 - val_accuracy: 0.8387\n",
            "Epoch 34/50\n",
            "1500/1500 [==============================] - 3s 2ms/step - loss: 0.4490 - accuracy: 0.8464 - val_loss: 0.4647 - val_accuracy: 0.8378\n",
            "Epoch 35/50\n",
            "1500/1500 [==============================] - 3s 2ms/step - loss: 0.4441 - accuracy: 0.8471 - val_loss: 0.4588 - val_accuracy: 0.8422\n",
            "Epoch 36/50\n",
            "1500/1500 [==============================] - 3s 2ms/step - loss: 0.4395 - accuracy: 0.8496 - val_loss: 0.4553 - val_accuracy: 0.8409\n",
            "Epoch 37/50\n",
            "1500/1500 [==============================] - 3s 2ms/step - loss: 0.4351 - accuracy: 0.8503 - val_loss: 0.4503 - val_accuracy: 0.8442\n",
            "Epoch 38/50\n",
            "1500/1500 [==============================] - 3s 2ms/step - loss: 0.4306 - accuracy: 0.8525 - val_loss: 0.4469 - val_accuracy: 0.8453\n",
            "Epoch 39/50\n",
            "1500/1500 [==============================] - 3s 2ms/step - loss: 0.4263 - accuracy: 0.8539 - val_loss: 0.4434 - val_accuracy: 0.8447\n",
            "Epoch 40/50\n",
            "1500/1500 [==============================] - 3s 2ms/step - loss: 0.4226 - accuracy: 0.8542 - val_loss: 0.4439 - val_accuracy: 0.8443\n",
            "Epoch 41/50\n",
            "1500/1500 [==============================] - 3s 2ms/step - loss: 0.4187 - accuracy: 0.8569 - val_loss: 0.4401 - val_accuracy: 0.8466\n",
            "Epoch 42/50\n",
            "1500/1500 [==============================] - 3s 2ms/step - loss: 0.4150 - accuracy: 0.8579 - val_loss: 0.4380 - val_accuracy: 0.8466\n",
            "Epoch 43/50\n",
            "1500/1500 [==============================] - 3s 2ms/step - loss: 0.4114 - accuracy: 0.8585 - val_loss: 0.4351 - val_accuracy: 0.8491\n",
            "Epoch 44/50\n",
            "1500/1500 [==============================] - 3s 2ms/step - loss: 0.4080 - accuracy: 0.8590 - val_loss: 0.4282 - val_accuracy: 0.8517\n",
            "Epoch 45/50\n",
            "1500/1500 [==============================] - 3s 2ms/step - loss: 0.4046 - accuracy: 0.8608 - val_loss: 0.4272 - val_accuracy: 0.8513\n",
            "Epoch 46/50\n",
            "1500/1500 [==============================] - 3s 2ms/step - loss: 0.4014 - accuracy: 0.8613 - val_loss: 0.4257 - val_accuracy: 0.8501\n",
            "Epoch 47/50\n",
            "1500/1500 [==============================] - 3s 2ms/step - loss: 0.3981 - accuracy: 0.8629 - val_loss: 0.4248 - val_accuracy: 0.8522\n",
            "Epoch 48/50\n",
            "1500/1500 [==============================] - 3s 2ms/step - loss: 0.3952 - accuracy: 0.8632 - val_loss: 0.4184 - val_accuracy: 0.8539\n",
            "Epoch 49/50\n",
            "1500/1500 [==============================] - 3s 2ms/step - loss: 0.3925 - accuracy: 0.8642 - val_loss: 0.4199 - val_accuracy: 0.8516\n",
            "Epoch 50/50\n",
            "1500/1500 [==============================] - 3s 2ms/step - loss: 0.3897 - accuracy: 0.8655 - val_loss: 0.4153 - val_accuracy: 0.8520\n"
          ]
        }
      ],
      "source": [
        "history_2 = model_1.fit(X_train_std,Y_train_cat,validation_data=(X_val_std,Y_val_cat),batch_size = 32, epochs = 50, verbose = 1)"
      ]
    },
    {
      "cell_type": "code",
      "execution_count": 35,
      "metadata": {
        "colab": {
          "base_uri": "https://localhost:8080/"
        },
        "id": "YVIOOkYtrMNr",
        "outputId": "b29c1be8-a012-4bc9-8c8c-4861ec9970af"
      },
      "outputs": [
        {
          "name": "stdout",
          "output_type": "stream",
          "text": [
            "313/313 [==============================] - 1s 1ms/step\n"
          ]
        },
        {
          "data": {
            "text/plain": [
              "array([9, 2, 1, ..., 8, 1, 5])"
            ]
          },
          "execution_count": 35,
          "metadata": {},
          "output_type": "execute_result"
        }
      ],
      "source": [
        "# Predicting X_test basis the built model\n",
        "import numpy as np\n",
        "y_pred = np.argmax(model_1.predict(X_test_std), axis=1)\n",
        "y_pred"
      ]
    },
    {
      "cell_type": "code",
      "execution_count": 36,
      "metadata": {
        "colab": {
          "base_uri": "https://localhost:8080/"
        },
        "id": "KBoOp-hyBN1N",
        "outputId": "1893e83d-28a8-4d93-b890-753979f506ad"
      },
      "outputs": [
        {
          "name": "stdout",
          "output_type": "stream",
          "text": [
            "313/313 [==============================] - 1s 1ms/step - loss: 0.4367 - accuracy: 0.8467\n"
          ]
        }
      ],
      "source": [
        "results = model_1.evaluate(X_test_std, Y_test_cat)"
      ]
    },
    {
      "cell_type": "code",
      "execution_count": 37,
      "metadata": {
        "colab": {
          "base_uri": "https://localhost:8080/"
        },
        "id": "QXfZX3gQrMNr",
        "outputId": "57455233-4b5b-448b-d6c9-2cd7acaae0b3"
      },
      "outputs": [
        {
          "data": {
            "text/plain": [
              "array([[827,   0,   9,  52,   4,   2,  96,   0,  10,   0],\n",
              "       [  0, 952,   5,  34,   6,   0,   2,   0,   1,   0],\n",
              "       [ 17,   1, 728,  12, 141,   0,  97,   0,   4,   0],\n",
              "       [ 30,  15,   4, 866,  44,   1,  36,   0,   3,   1],\n",
              "       [  0,   1,  81,  32, 799,   0,  83,   0,   4,   0],\n",
              "       [  0,   0,   0,   1,   0, 902,   0,  63,   7,  27],\n",
              "       [173,   1,  97,  39,  92,   1, 574,   0,  23,   0],\n",
              "       [  0,   0,   0,   0,   0,  25,   0, 928,   0,  47],\n",
              "       [  0,   1,   4,  11,   5,  11,  20,   3, 943,   2],\n",
              "       [  0,   0,   0,   1,   0,  10,   0,  40,   1, 948]])"
            ]
          },
          "execution_count": 37,
          "metadata": {},
          "output_type": "execute_result"
        }
      ],
      "source": [
        "from sklearn.metrics import confusion_matrix\n",
        "confusion_matrix(y_test,y_pred)"
      ]
    },
    {
      "cell_type": "code",
      "execution_count": 38,
      "metadata": {
        "colab": {
          "base_uri": "https://localhost:8080/",
          "height": 573
        },
        "id": "zNKCx6pzrMNs",
        "outputId": "d6c6a6ee-f90f-476c-ec4e-7a0009d34824"
      },
      "outputs": [
        {
          "data": {
            "image/png": "[encoded data removed]",
            "text/plain": [
              "<Figure size 432x288 with 1 Axes>"
            ]
          },
          "metadata": {
            "needs_background": "light"
          },
          "output_type": "display_data"
        },
        {
          "data": {
            "image/png": "[encoded data removed]",
            "text/plain": [
              "<Figure size 432x288 with 1 Axes>"
            ]
          },
          "metadata": {
            "needs_background": "light"
          },
          "output_type": "display_data"
        }
      ],
      "source": [
        "import matplotlib.pyplot as plt\n",
        "\n",
        "plt.plot(history_2.history['accuracy'])\n",
        "plt.plot(history_2.history['val_accuracy'])\n",
        "plt.title('model accuracy')\n",
        "plt.ylabel('accuracy')\n",
        "plt.xlabel('epoch')\n",
        "plt.legend(['train', 'Val'], loc='upper left')\n",
        "plt.show()\n",
        "# summarize history for loss\n",
        "plt.plot(history_2.history['loss'])\n",
        "plt.plot(history_2.history['val_loss'])\n",
        "plt.title('model loss')\n",
        "plt.ylabel('loss')\n",
        "plt.xlabel('epoch')\n",
        "plt.legend(['train', 'val'], loc='upper left')\n",
        "plt.show()"
      ]
    },
    {
      "cell_type": "markdown",
      "metadata": {
        "id": "1HieSfM7VuSx"
      },
      "source": [
        "### With the addition of weights, for the same number of epochs, the learning has been slightly faster compared the previous model. The performance is similar to the previous model, except the learning is faster here."
      ]
    },
    {
      "cell_type": "markdown",
      "metadata": {
        "id": "c5M6EHv17YUV"
      },
      "source": [
        "### 5.3 Model building by changing Nonlinearity / Activation function from Sigmoid to ReLU\n",
        "\n",
        "- As Sigmoid functions suffer from Vanishing Gradient problem - it is making training slower\n",
        "\n",
        "- 'relu' (rectified linear unit) is helps to avoid Vanishing Gradient problem. Trying with it for model building\n",
        "\n",
        "Ref: https://keras.io/activations/"
      ]
    },
    {
      "cell_type": "code",
      "execution_count": 39,
      "metadata": {
        "id": "EZKtDNMnsCyE"
      },
      "outputs": [],
      "source": [
        "model_2 = tf.keras.models.Sequential()\n",
        "model_2.add(tf.keras.layers.Reshape((784,),input_shape=(28,28,)))\n",
        "model_2.add(Dense(32, kernel_initializer='he_normal'))                            # use he_normal initializer\n",
        "model_2.add(Activation('relu'))    \n",
        "model_2.add(Dense(64, kernel_initializer='he_normal'))                            # use he_normal initializer\n",
        "model_2.add(Activation('relu'))    \n",
        "model_2.add(Dense(32, kernel_initializer='he_normal'))                            # use he_normal initializer\n",
        "model_2.add(Activation('relu'))    \n",
        "model_2.add(Dense(10, kernel_initializer='he_normal'))                            # use he_normal initializer\n",
        "model_2.add(Activation('Softmax'))"
      ]
    },
    {
      "cell_type": "code",
      "execution_count": 40,
      "metadata": {
        "colab": {
          "base_uri": "https://localhost:8080/"
        },
        "id": "5NIKd4OlsCyF",
        "outputId": "ca0f8212-1b26-4d6a-e42b-d9ce10295239"
      },
      "outputs": [
        {
          "name": "stdout",
          "output_type": "stream",
          "text": [
            "Model: \"sequential_4\"\n",
            "_________________________________________________________________\n",
            " Layer (type)                Output Shape              Param #   \n",
            "=================================================================\n",
            " reshape_4 (Reshape)         (None, 784)               0         \n",
            "                                                                 \n",
            " dense_16 (Dense)            (None, 32)                25120     \n",
            "                                                                 \n",
            " activation_16 (Activation)  (None, 32)                0         \n",
            "                                                                 \n",
            " dense_17 (Dense)            (None, 64)                2112      \n",
            "                                                                 \n",
            " activation_17 (Activation)  (None, 64)                0         \n",
            "                                                                 \n",
            " dense_18 (Dense)            (None, 32)                2080      \n",
            "                                                                 \n",
            " activation_18 (Activation)  (None, 32)                0         \n",
            "                                                                 \n",
            " dense_19 (Dense)            (None, 10)                330       \n",
            "                                                                 \n",
            " activation_19 (Activation)  (None, 10)                0         \n",
            "                                                                 \n",
            "=================================================================\n",
            "Total params: 29,642\n",
            "Trainable params: 29,642\n",
            "Non-trainable params: 0\n",
            "_________________________________________________________________\n"
          ]
        }
      ],
      "source": [
        "model_2.summary()"
      ]
    },
    {
      "cell_type": "code",
      "execution_count": 41,
      "metadata": {
        "id": "NehMVjLosCyG"
      },
      "outputs": [],
      "source": [
        "model_2.compile(optimizer = tf.keras.optimizers.SGD(), loss = 'categorical_crossentropy', metrics = ['accuracy'])"
      ]
    },
    {
      "cell_type": "code",
      "execution_count": 42,
      "metadata": {
        "colab": {
          "base_uri": "https://localhost:8080/"
        },
        "id": "HZJjrWxhsCyG",
        "outputId": "8b0f10d0-2986-4dcc-9394-74a257bf6d44"
      },
      "outputs": [
        {
          "name": "stdout",
          "output_type": "stream",
          "text": [
            "Epoch 1/50\n",
            "1500/1500 [==============================] - 3s 2ms/step - loss: 0.7934 - accuracy: 0.7268 - val_loss: 0.5496 - val_accuracy: 0.8103\n",
            "Epoch 2/50\n",
            "1500/1500 [==============================] - 3s 2ms/step - loss: 0.5207 - accuracy: 0.8205 - val_loss: 0.4907 - val_accuracy: 0.8239\n",
            "Epoch 3/50\n",
            "1500/1500 [==============================] - 3s 2ms/step - loss: 0.4670 - accuracy: 0.8375 - val_loss: 0.4540 - val_accuracy: 0.8404\n",
            "Epoch 4/50\n",
            "1500/1500 [==============================] - 3s 2ms/step - loss: 0.4339 - accuracy: 0.8487 - val_loss: 0.4210 - val_accuracy: 0.8503\n",
            "Epoch 5/50\n",
            "1500/1500 [==============================] - 3s 2ms/step - loss: 0.4150 - accuracy: 0.8544 - val_loss: 0.4104 - val_accuracy: 0.8551\n",
            "Epoch 6/50\n",
            "1500/1500 [==============================] - 3s 2ms/step - loss: 0.3970 - accuracy: 0.8597 - val_loss: 0.3996 - val_accuracy: 0.8588\n",
            "Epoch 7/50\n",
            "1500/1500 [==============================] - 3s 2ms/step - loss: 0.3835 - accuracy: 0.8637 - val_loss: 0.3937 - val_accuracy: 0.8619\n",
            "Epoch 8/50\n",
            "1500/1500 [==============================] - 3s 2ms/step - loss: 0.3723 - accuracy: 0.8668 - val_loss: 0.3941 - val_accuracy: 0.8576\n",
            "Epoch 9/50\n",
            "1500/1500 [==============================] - 4s 3ms/step - loss: 0.3630 - accuracy: 0.8699 - val_loss: 0.3842 - val_accuracy: 0.8601\n",
            "Epoch 10/50\n",
            "1500/1500 [==============================] - 4s 3ms/step - loss: 0.3550 - accuracy: 0.8724 - val_loss: 0.3773 - val_accuracy: 0.8633\n",
            "Epoch 11/50\n",
            "1500/1500 [==============================] - 3s 2ms/step - loss: 0.3475 - accuracy: 0.8746 - val_loss: 0.3802 - val_accuracy: 0.8635\n",
            "Epoch 12/50\n",
            "1500/1500 [==============================] - 3s 2ms/step - loss: 0.3410 - accuracy: 0.8772 - val_loss: 0.3630 - val_accuracy: 0.8701\n",
            "Epoch 13/50\n",
            "1500/1500 [==============================] - 3s 2ms/step - loss: 0.3346 - accuracy: 0.8792 - val_loss: 0.3604 - val_accuracy: 0.8702\n",
            "Epoch 14/50\n",
            "1500/1500 [==============================] - 3s 2ms/step - loss: 0.3293 - accuracy: 0.8798 - val_loss: 0.3585 - val_accuracy: 0.8695\n",
            "Epoch 15/50\n",
            "1500/1500 [==============================] - 3s 2ms/step - loss: 0.3237 - accuracy: 0.8823 - val_loss: 0.3770 - val_accuracy: 0.8662\n",
            "Epoch 16/50\n",
            "1500/1500 [==============================] - 3s 2ms/step - loss: 0.3168 - accuracy: 0.8849 - val_loss: 0.3542 - val_accuracy: 0.8738\n",
            "Epoch 17/50\n",
            "1500/1500 [==============================] - 3s 2ms/step - loss: 0.3140 - accuracy: 0.8846 - val_loss: 0.3624 - val_accuracy: 0.8721\n",
            "Epoch 18/50\n",
            "1500/1500 [==============================] - 3s 2ms/step - loss: 0.3078 - accuracy: 0.8876 - val_loss: 0.3669 - val_accuracy: 0.8671\n",
            "Epoch 19/50\n",
            "1500/1500 [==============================] - 3s 2ms/step - loss: 0.3048 - accuracy: 0.8882 - val_loss: 0.3569 - val_accuracy: 0.8709\n",
            "Epoch 20/50\n",
            "1500/1500 [==============================] - 3s 2ms/step - loss: 0.3008 - accuracy: 0.8903 - val_loss: 0.3387 - val_accuracy: 0.8777\n",
            "Epoch 21/50\n",
            "1500/1500 [==============================] - 3s 2ms/step - loss: 0.2977 - accuracy: 0.8914 - val_loss: 0.3728 - val_accuracy: 0.8672\n",
            "Epoch 22/50\n",
            "1500/1500 [==============================] - 3s 2ms/step - loss: 0.2925 - accuracy: 0.8922 - val_loss: 0.3678 - val_accuracy: 0.8698\n",
            "Epoch 23/50\n",
            "1500/1500 [==============================] - 3s 2ms/step - loss: 0.2900 - accuracy: 0.8939 - val_loss: 0.3562 - val_accuracy: 0.8725\n",
            "Epoch 24/50\n",
            "1500/1500 [==============================] - 3s 2ms/step - loss: 0.2871 - accuracy: 0.8946 - val_loss: 0.3376 - val_accuracy: 0.8799\n",
            "Epoch 25/50\n",
            "1500/1500 [==============================] - 3s 2ms/step - loss: 0.2835 - accuracy: 0.8970 - val_loss: 0.3524 - val_accuracy: 0.8740\n",
            "Epoch 26/50\n",
            "1500/1500 [==============================] - 3s 2ms/step - loss: 0.2812 - accuracy: 0.8965 - val_loss: 0.3524 - val_accuracy: 0.8734\n",
            "Epoch 27/50\n",
            "1500/1500 [==============================] - 3s 2ms/step - loss: 0.2786 - accuracy: 0.8975 - val_loss: 0.3535 - val_accuracy: 0.8745\n",
            "Epoch 28/50\n",
            "1500/1500 [==============================] - 3s 2ms/step - loss: 0.2758 - accuracy: 0.8975 - val_loss: 0.3513 - val_accuracy: 0.8752\n",
            "Epoch 29/50\n",
            "1500/1500 [==============================] - 3s 2ms/step - loss: 0.2724 - accuracy: 0.9004 - val_loss: 0.3464 - val_accuracy: 0.8742\n",
            "Epoch 30/50\n",
            "1500/1500 [==============================] - 3s 2ms/step - loss: 0.2691 - accuracy: 0.9000 - val_loss: 0.3380 - val_accuracy: 0.8792\n",
            "Epoch 31/50\n",
            "1500/1500 [==============================] - 3s 2ms/step - loss: 0.2671 - accuracy: 0.9024 - val_loss: 0.3478 - val_accuracy: 0.8747\n",
            "Epoch 32/50\n",
            "1500/1500 [==============================] - 3s 2ms/step - loss: 0.2645 - accuracy: 0.9018 - val_loss: 0.3565 - val_accuracy: 0.8720\n",
            "Epoch 33/50\n",
            "1500/1500 [==============================] - 3s 2ms/step - loss: 0.2625 - accuracy: 0.9034 - val_loss: 0.3553 - val_accuracy: 0.8727\n",
            "Epoch 34/50\n",
            "1500/1500 [==============================] - 3s 2ms/step - loss: 0.2605 - accuracy: 0.9039 - val_loss: 0.3478 - val_accuracy: 0.8777\n",
            "Epoch 35/50\n",
            "1500/1500 [==============================] - 3s 2ms/step - loss: 0.2584 - accuracy: 0.9046 - val_loss: 0.3477 - val_accuracy: 0.8768\n",
            "Epoch 36/50\n",
            "1500/1500 [==============================] - 3s 2ms/step - loss: 0.2548 - accuracy: 0.9066 - val_loss: 0.3405 - val_accuracy: 0.8783\n",
            "Epoch 37/50\n",
            "1500/1500 [==============================] - 3s 2ms/step - loss: 0.2544 - accuracy: 0.9066 - val_loss: 0.3465 - val_accuracy: 0.8764\n",
            "Epoch 38/50\n",
            "1500/1500 [==============================] - 3s 2ms/step - loss: 0.2524 - accuracy: 0.9062 - val_loss: 0.3447 - val_accuracy: 0.8798\n",
            "Epoch 39/50\n",
            "1500/1500 [==============================] - 3s 2ms/step - loss: 0.2498 - accuracy: 0.9079 - val_loss: 0.3525 - val_accuracy: 0.8771\n",
            "Epoch 40/50\n",
            "1500/1500 [==============================] - 3s 2ms/step - loss: 0.2477 - accuracy: 0.9095 - val_loss: 0.3530 - val_accuracy: 0.8783\n",
            "Epoch 41/50\n",
            "1500/1500 [==============================] - 3s 2ms/step - loss: 0.2457 - accuracy: 0.9093 - val_loss: 0.3547 - val_accuracy: 0.8753\n",
            "Epoch 42/50\n",
            "1500/1500 [==============================] - 3s 2ms/step - loss: 0.2431 - accuracy: 0.9110 - val_loss: 0.3521 - val_accuracy: 0.8759\n",
            "Epoch 43/50\n",
            "1500/1500 [==============================] - 3s 2ms/step - loss: 0.2410 - accuracy: 0.9113 - val_loss: 0.3573 - val_accuracy: 0.8750\n",
            "Epoch 44/50\n",
            "1500/1500 [==============================] - 3s 2ms/step - loss: 0.2396 - accuracy: 0.9117 - val_loss: 0.3464 - val_accuracy: 0.8788\n",
            "Epoch 45/50\n",
            "1500/1500 [==============================] - 3s 2ms/step - loss: 0.2381 - accuracy: 0.9122 - val_loss: 0.3641 - val_accuracy: 0.8758\n",
            "Epoch 46/50\n",
            "1500/1500 [==============================] - 3s 2ms/step - loss: 0.2359 - accuracy: 0.9124 - val_loss: 0.3448 - val_accuracy: 0.8798\n",
            "Epoch 47/50\n",
            "1500/1500 [==============================] - 3s 2ms/step - loss: 0.2361 - accuracy: 0.9136 - val_loss: 0.3534 - val_accuracy: 0.8742\n",
            "Epoch 48/50\n",
            "1500/1500 [==============================] - 3s 2ms/step - loss: 0.2322 - accuracy: 0.9143 - val_loss: 0.3468 - val_accuracy: 0.8783\n",
            "Epoch 49/50\n",
            "1500/1500 [==============================] - 3s 2ms/step - loss: 0.2316 - accuracy: 0.9149 - val_loss: 0.3663 - val_accuracy: 0.8729\n",
            "Epoch 50/50\n",
            "1500/1500 [==============================] - 3s 2ms/step - loss: 0.2307 - accuracy: 0.9160 - val_loss: 0.4331 - val_accuracy: 0.8537\n"
          ]
        }
      ],
      "source": [
        "history_3 = model_2.fit(X_train_std,Y_train_cat,validation_data=(X_val_std,Y_val_cat),batch_size = 32, epochs = 50, verbose = 1)"
      ]
    },
    {
      "cell_type": "code",
      "execution_count": 43,
      "metadata": {
        "colab": {
          "base_uri": "https://localhost:8080/"
        },
        "id": "Fnh0mJZXsCyM",
        "outputId": "c2c2d173-039c-4cb6-e440-f681a714261b"
      },
      "outputs": [
        {
          "name": "stdout",
          "output_type": "stream",
          "text": [
            "313/313 [==============================] - 0s 1ms/step\n"
          ]
        },
        {
          "data": {
            "text/plain": [
              "array([9, 2, 1, ..., 8, 1, 5])"
            ]
          },
          "execution_count": 43,
          "metadata": {},
          "output_type": "execute_result"
        }
      ],
      "source": [
        "# Predicting X_test basis the built model\n",
        "import numpy as np\n",
        "y_pred = np.argmax(model_2.predict(X_test_std), axis=1)\n",
        "y_pred"
      ]
    },
    {
      "cell_type": "code",
      "execution_count": 44,
      "metadata": {
        "colab": {
          "base_uri": "https://localhost:8080/"
        },
        "id": "Sm2E--e1C-yb",
        "outputId": "873cf64e-8288-42e8-9e49-fd5da997ab1a"
      },
      "outputs": [
        {
          "name": "stdout",
          "output_type": "stream",
          "text": [
            "313/313 [==============================] - 1s 1ms/step - loss: 0.4693 - accuracy: 0.8407\n"
          ]
        }
      ],
      "source": [
        "results = model_2.evaluate(X_test_std, Y_test_cat)"
      ]
    },
    {
      "cell_type": "code",
      "execution_count": 45,
      "metadata": {
        "colab": {
          "base_uri": "https://localhost:8080/"
        },
        "id": "hnqvCXomsCyM",
        "outputId": "f621588a-fa28-4b23-8e8f-45aa6dce3010"
      },
      "outputs": [
        {
          "data": {
            "text/plain": [
              "array([[811,   3,   8,  31,   0,   1, 137,   0,   9,   0],\n",
              "       [  6, 964,   2,  21,   2,   0,   4,   0,   1,   0],\n",
              "       [ 16,   3, 772,  14,  24,   0, 164,   1,   6,   0],\n",
              "       [ 37,  10,   8, 892,   9,   0,  40,   0,   4,   0],\n",
              "       [  1,   1, 166,  66, 469,   1, 292,   0,   4,   0],\n",
              "       [  1,   0,   0,   1,   0, 922,   0,  45,   5,  26],\n",
              "       [132,   0,  63,  30,  15,   0, 752,   0,   8,   0],\n",
              "       [  0,   0,   0,   0,   0,  16,   0, 971,   0,  13],\n",
              "       [  4,   0,   7,   5,   1,   2,  23,   8, 950,   0],\n",
              "       [  0,   0,   0,   2,   0,   6,   1,  87,   0, 904]])"
            ]
          },
          "execution_count": 45,
          "metadata": {},
          "output_type": "execute_result"
        }
      ],
      "source": [
        "from sklearn.metrics import confusion_matrix\n",
        "confusion_matrix(y_test,y_pred)"
      ]
    },
    {
      "cell_type": "code",
      "execution_count": 46,
      "metadata": {
        "colab": {
          "base_uri": "https://localhost:8080/",
          "height": 573
        },
        "id": "MzJXrALTsCyM",
        "outputId": "335057ca-440a-4bc2-d0ae-5b27e0e455cf"
      },
      "outputs": [
        {
          "data": {
            "image/png": "[encoded data removed]",
            "text/plain": [
              "<Figure size 432x288 with 1 Axes>"
            ]
          },
          "metadata": {
            "needs_background": "light"
          },
          "output_type": "display_data"
        },
        {
          "data": {
            "image/png": "[encoded data removed]",
            "text/plain": [
              "<Figure size 432x288 with 1 Axes>"
            ]
          },
          "metadata": {
            "needs_background": "light"
          },
          "output_type": "display_data"
        }
      ],
      "source": [
        "import matplotlib.pyplot as plt\n",
        "\n",
        "plt.plot(history_3.history['accuracy'])\n",
        "plt.plot(history_3.history['val_accuracy'])\n",
        "plt.title('model accuracy')\n",
        "plt.ylabel('accuracy')\n",
        "plt.xlabel('epoch')\n",
        "plt.legend(['train', 'Val'], loc='upper left')\n",
        "plt.show()\n",
        "# summarize history for loss\n",
        "plt.plot(history_3.history['loss'])\n",
        "plt.plot(history_3.history['val_loss'])\n",
        "plt.title('model loss')\n",
        "plt.ylabel('loss')\n",
        "plt.xlabel('epoch')\n",
        "plt.legend(['train', 'val'], loc='upper left')\n",
        "plt.show()"
      ]
    },
    {
      "cell_type": "markdown",
      "metadata": {},
      "source": [
        "### As mentioned the model learning has been very fast. It reaches the maximum accuracy within 30 epochs and then slowly decreases on reaching the 50 epoch. Even the previous models could have dipped after few more number of epochs, but with the addition of relu, potraied the performace with fewer epochs. "
      ]
    },
    {
      "cell_type": "markdown",
      "metadata": {
        "id": "lp_-o2ug70fF"
      },
      "source": [
        "### 5.4 Model Building with Batch Normalization\n",
        "\n",
        "Batch Normalization, one of the methods to prevent the \"internal covariance shift\" problem, has proven to be highly effective\n",
        "\n",
        "Normalize each mini-batch before nonlinearity\n",
        "\n",
        "Ref: https://keras.io/optimizers/"
      ]
    },
    {
      "cell_type": "code",
      "execution_count": 47,
      "metadata": {
        "id": "buhn2kOY7yg8"
      },
      "outputs": [],
      "source": [
        "from tensorflow.keras.layers import BatchNormalization, Dropout"
      ]
    },
    {
      "cell_type": "markdown",
      "metadata": {
        "id": "8YrSd0LT78Yi"
      },
      "source": [
        "Batch normalization layer is usually inserted after dense/convolution and before nonlinearity\n",
        "\n"
      ]
    },
    {
      "cell_type": "code",
      "execution_count": 48,
      "metadata": {
        "id": "iS7_tuO7tRL9"
      },
      "outputs": [],
      "source": [
        "model_3 = tf.keras.models.Sequential()\n",
        "model_3.add(tf.keras.layers.Reshape((784,),input_shape=(28,28,)))\n",
        "model_3.add(Dense(32))\n",
        "model_3.add(BatchNormalization())\n",
        "model_3.add(Activation('relu'))\n",
        "model_3.add(Dense(64))\n",
        "model_3.add(BatchNormalization())\n",
        "model_3.add(Activation('relu'))\n",
        "model_3.add(Dense(32))\n",
        "model_3.add(BatchNormalization())\n",
        "model_3.add(Activation('relu'))\n",
        "model_3.add(Dense(10))\n",
        "model_3.add(Activation('Softmax'))"
      ]
    },
    {
      "cell_type": "code",
      "execution_count": 49,
      "metadata": {
        "colab": {
          "base_uri": "https://localhost:8080/"
        },
        "id": "86UsFEsztRL9",
        "outputId": "70b30b4f-d9c6-4f58-9e22-d3d2ef87f53e"
      },
      "outputs": [
        {
          "name": "stdout",
          "output_type": "stream",
          "text": [
            "Model: \"sequential_5\"\n",
            "_________________________________________________________________\n",
            " Layer (type)                Output Shape              Param #   \n",
            "=================================================================\n",
            " reshape_5 (Reshape)         (None, 784)               0         \n",
            "                                                                 \n",
            " dense_20 (Dense)            (None, 32)                25120     \n",
            "                                                                 \n",
            " batch_normalization (BatchN  (None, 32)               128       \n",
            " ormalization)                                                   \n",
            "                                                                 \n",
            " activation_20 (Activation)  (None, 32)                0         \n",
            "                                                                 \n",
            " dense_21 (Dense)            (None, 64)                2112      \n",
            "                                                                 \n",
            " batch_normalization_1 (Batc  (None, 64)               256       \n",
            " hNormalization)                                                 \n",
            "                                                                 \n",
            " activation_21 (Activation)  (None, 64)                0         \n",
            "                                                                 \n",
            " dense_22 (Dense)            (None, 32)                2080      \n",
            "                                                                 \n",
            " batch_normalization_2 (Batc  (None, 32)               128       \n",
            " hNormalization)                                                 \n",
            "                                                                 \n",
            " activation_22 (Activation)  (None, 32)                0         \n",
            "                                                                 \n",
            " dense_23 (Dense)            (None, 10)                330       \n",
            "                                                                 \n",
            " activation_23 (Activation)  (None, 10)                0         \n",
            "                                                                 \n",
            "=================================================================\n",
            "Total params: 30,154\n",
            "Trainable params: 29,898\n",
            "Non-trainable params: 256\n",
            "_________________________________________________________________\n"
          ]
        }
      ],
      "source": [
        "model_3.summary()"
      ]
    },
    {
      "cell_type": "code",
      "execution_count": 51,
      "metadata": {
        "id": "zDGvwJP7tRL-"
      },
      "outputs": [],
      "source": [
        "model_3.compile(optimizer = tf.keras.optimizers.SGD(), loss = 'categorical_crossentropy', metrics = ['accuracy'])"
      ]
    },
    {
      "cell_type": "code",
      "execution_count": 52,
      "metadata": {
        "colab": {
          "base_uri": "https://localhost:8080/"
        },
        "id": "Ci4hd4W-tRL-",
        "outputId": "00ba7ebb-37fa-4f9f-ce99-0592c5adb05c"
      },
      "outputs": [
        {
          "name": "stdout",
          "output_type": "stream",
          "text": [
            "Epoch 1/50\n",
            "1500/1500 [==============================] - 5s 2ms/step - loss: 0.7858 - accuracy: 0.7569 - val_loss: 0.5290 - val_accuracy: 0.8183\n",
            "Epoch 2/50\n",
            "1500/1500 [==============================] - 3s 2ms/step - loss: 0.5109 - accuracy: 0.8256 - val_loss: 0.4492 - val_accuracy: 0.8405\n",
            "Epoch 3/50\n",
            "1500/1500 [==============================] - 3s 2ms/step - loss: 0.4540 - accuracy: 0.8425 - val_loss: 0.4146 - val_accuracy: 0.8493\n",
            "Epoch 4/50\n",
            "1500/1500 [==============================] - 3s 2ms/step - loss: 0.4176 - accuracy: 0.8541 - val_loss: 0.4137 - val_accuracy: 0.8478\n",
            "Epoch 5/50\n",
            "1500/1500 [==============================] - 3s 2ms/step - loss: 0.3981 - accuracy: 0.8605 - val_loss: 0.3741 - val_accuracy: 0.8648\n",
            "Epoch 6/50\n",
            "1500/1500 [==============================] - 3s 2ms/step - loss: 0.3842 - accuracy: 0.8625 - val_loss: 0.3658 - val_accuracy: 0.8671\n",
            "Epoch 7/50\n",
            "1500/1500 [==============================] - 3s 2ms/step - loss: 0.3651 - accuracy: 0.8685 - val_loss: 0.3700 - val_accuracy: 0.8642\n",
            "Epoch 8/50\n",
            "1500/1500 [==============================] - 3s 2ms/step - loss: 0.3543 - accuracy: 0.8729 - val_loss: 0.3664 - val_accuracy: 0.8654\n",
            "Epoch 9/50\n",
            "1500/1500 [==============================] - 4s 2ms/step - loss: 0.3446 - accuracy: 0.8769 - val_loss: 0.3704 - val_accuracy: 0.8670\n",
            "Epoch 10/50\n",
            "1500/1500 [==============================] - 3s 2ms/step - loss: 0.3352 - accuracy: 0.8791 - val_loss: 0.3555 - val_accuracy: 0.8703\n",
            "Epoch 11/50\n",
            "1500/1500 [==============================] - 3s 2ms/step - loss: 0.3340 - accuracy: 0.8793 - val_loss: 0.3461 - val_accuracy: 0.8761\n",
            "Epoch 12/50\n",
            "1500/1500 [==============================] - 3s 2ms/step - loss: 0.3249 - accuracy: 0.8831 - val_loss: 0.3477 - val_accuracy: 0.8765\n",
            "Epoch 13/50\n",
            "1500/1500 [==============================] - 3s 2ms/step - loss: 0.3164 - accuracy: 0.8846 - val_loss: 0.3351 - val_accuracy: 0.8798\n",
            "Epoch 14/50\n",
            "1500/1500 [==============================] - 3s 2ms/step - loss: 0.3147 - accuracy: 0.8854 - val_loss: 0.3639 - val_accuracy: 0.8682\n",
            "Epoch 15/50\n",
            "1500/1500 [==============================] - 4s 2ms/step - loss: 0.3082 - accuracy: 0.8888 - val_loss: 0.3386 - val_accuracy: 0.8784\n",
            "Epoch 16/50\n",
            "1500/1500 [==============================] - 3s 2ms/step - loss: 0.3046 - accuracy: 0.8898 - val_loss: 0.3429 - val_accuracy: 0.8756\n",
            "Epoch 17/50\n",
            "1500/1500 [==============================] - 3s 2ms/step - loss: 0.2972 - accuracy: 0.8932 - val_loss: 0.3426 - val_accuracy: 0.8766\n",
            "Epoch 18/50\n",
            "1500/1500 [==============================] - 3s 2ms/step - loss: 0.2946 - accuracy: 0.8922 - val_loss: 0.3446 - val_accuracy: 0.8763\n",
            "Epoch 19/50\n",
            "1500/1500 [==============================] - 3s 2ms/step - loss: 0.2893 - accuracy: 0.8942 - val_loss: 0.3576 - val_accuracy: 0.8724\n",
            "Epoch 20/50\n",
            "1500/1500 [==============================] - 3s 2ms/step - loss: 0.2851 - accuracy: 0.8967 - val_loss: 0.3709 - val_accuracy: 0.8639\n",
            "Epoch 21/50\n",
            "1500/1500 [==============================] - 4s 3ms/step - loss: 0.2813 - accuracy: 0.8959 - val_loss: 0.3282 - val_accuracy: 0.8831\n",
            "Epoch 22/50\n",
            "1500/1500 [==============================] - 6s 4ms/step - loss: 0.2783 - accuracy: 0.8984 - val_loss: 0.3297 - val_accuracy: 0.8832\n",
            "Epoch 23/50\n",
            "1500/1500 [==============================] - 4s 3ms/step - loss: 0.2760 - accuracy: 0.8985 - val_loss: 0.3501 - val_accuracy: 0.8786\n",
            "Epoch 24/50\n",
            "1500/1500 [==============================] - 4s 2ms/step - loss: 0.2696 - accuracy: 0.9011 - val_loss: 0.3361 - val_accuracy: 0.8807\n",
            "Epoch 25/50\n",
            "1500/1500 [==============================] - 4s 3ms/step - loss: 0.2685 - accuracy: 0.9005 - val_loss: 0.3366 - val_accuracy: 0.8792\n",
            "Epoch 26/50\n",
            "1500/1500 [==============================] - 4s 2ms/step - loss: 0.2654 - accuracy: 0.9015 - val_loss: 0.3325 - val_accuracy: 0.8836\n",
            "Epoch 27/50\n",
            "1500/1500 [==============================] - 4s 2ms/step - loss: 0.2634 - accuracy: 0.9033 - val_loss: 0.3402 - val_accuracy: 0.8798\n",
            "Epoch 28/50\n",
            "1500/1500 [==============================] - 4s 2ms/step - loss: 0.2605 - accuracy: 0.9045 - val_loss: 0.3407 - val_accuracy: 0.8794\n",
            "Epoch 29/50\n",
            "1500/1500 [==============================] - 4s 2ms/step - loss: 0.2578 - accuracy: 0.9053 - val_loss: 0.3330 - val_accuracy: 0.8823\n",
            "Epoch 30/50\n",
            "1500/1500 [==============================] - 4s 2ms/step - loss: 0.2573 - accuracy: 0.9049 - val_loss: 0.3509 - val_accuracy: 0.8752\n",
            "Epoch 31/50\n",
            "1500/1500 [==============================] - 4s 2ms/step - loss: 0.2542 - accuracy: 0.9072 - val_loss: 0.3365 - val_accuracy: 0.8808\n",
            "Epoch 32/50\n",
            "1500/1500 [==============================] - 4s 2ms/step - loss: 0.2519 - accuracy: 0.9064 - val_loss: 0.3594 - val_accuracy: 0.8733\n",
            "Epoch 33/50\n",
            "1500/1500 [==============================] - 3s 2ms/step - loss: 0.2503 - accuracy: 0.9080 - val_loss: 0.3570 - val_accuracy: 0.8727\n",
            "Epoch 34/50\n",
            "1500/1500 [==============================] - 4s 2ms/step - loss: 0.2466 - accuracy: 0.9093 - val_loss: 0.3650 - val_accuracy: 0.8735\n",
            "Epoch 35/50\n",
            "1500/1500 [==============================] - 4s 2ms/step - loss: 0.2440 - accuracy: 0.9097 - val_loss: 0.3553 - val_accuracy: 0.8760\n",
            "Epoch 36/50\n",
            "1500/1500 [==============================] - 4s 2ms/step - loss: 0.2446 - accuracy: 0.9095 - val_loss: 0.3454 - val_accuracy: 0.8801\n",
            "Epoch 37/50\n",
            "1500/1500 [==============================] - 4s 2ms/step - loss: 0.2408 - accuracy: 0.9101 - val_loss: 0.3502 - val_accuracy: 0.8762\n",
            "Epoch 38/50\n",
            "1500/1500 [==============================] - 4s 3ms/step - loss: 0.2393 - accuracy: 0.9109 - val_loss: 0.3906 - val_accuracy: 0.8627\n",
            "Epoch 39/50\n",
            "1500/1500 [==============================] - 5s 3ms/step - loss: 0.2411 - accuracy: 0.9104 - val_loss: 0.3553 - val_accuracy: 0.8749\n",
            "Epoch 40/50\n",
            "1500/1500 [==============================] - 5s 3ms/step - loss: 0.2358 - accuracy: 0.9125 - val_loss: 0.3649 - val_accuracy: 0.8723\n",
            "Epoch 41/50\n",
            "1500/1500 [==============================] - 4s 3ms/step - loss: 0.2348 - accuracy: 0.9138 - val_loss: 0.3401 - val_accuracy: 0.8815\n",
            "Epoch 42/50\n",
            "1500/1500 [==============================] - 4s 3ms/step - loss: 0.2304 - accuracy: 0.9143 - val_loss: 0.3378 - val_accuracy: 0.8827\n",
            "Epoch 43/50\n",
            "1500/1500 [==============================] - 4s 2ms/step - loss: 0.2299 - accuracy: 0.9151 - val_loss: 0.3541 - val_accuracy: 0.8769\n",
            "Epoch 44/50\n",
            "1500/1500 [==============================] - 4s 2ms/step - loss: 0.2268 - accuracy: 0.9174 - val_loss: 0.3753 - val_accuracy: 0.8735\n",
            "Epoch 45/50\n",
            "1500/1500 [==============================] - 4s 2ms/step - loss: 0.2261 - accuracy: 0.9164 - val_loss: 0.3443 - val_accuracy: 0.8819\n",
            "Epoch 46/50\n",
            "1500/1500 [==============================] - 4s 2ms/step - loss: 0.2258 - accuracy: 0.9162 - val_loss: 0.3576 - val_accuracy: 0.8777\n",
            "Epoch 47/50\n",
            "1500/1500 [==============================] - 4s 2ms/step - loss: 0.2229 - accuracy: 0.9175 - val_loss: 0.3720 - val_accuracy: 0.8727\n",
            "Epoch 48/50\n",
            "1500/1500 [==============================] - 4s 3ms/step - loss: 0.2226 - accuracy: 0.9169 - val_loss: 0.3500 - val_accuracy: 0.8799\n",
            "Epoch 49/50\n",
            "1500/1500 [==============================] - 4s 3ms/step - loss: 0.2176 - accuracy: 0.9189 - val_loss: 0.3547 - val_accuracy: 0.8790\n",
            "Epoch 50/50\n",
            "1500/1500 [==============================] - 4s 3ms/step - loss: 0.2191 - accuracy: 0.9184 - val_loss: 0.3430 - val_accuracy: 0.8831\n"
          ]
        }
      ],
      "source": [
        "history_4 = model_3.fit(X_train_std,Y_train_cat,validation_data=(X_val_std,Y_val_cat),batch_size = 32, epochs = 50, verbose = 1)"
      ]
    },
    {
      "cell_type": "code",
      "execution_count": 53,
      "metadata": {
        "colab": {
          "base_uri": "https://localhost:8080/"
        },
        "id": "9zR-R36MtRL-",
        "outputId": "6ce2b6fd-e2bd-44b7-b10d-0c6125b45434"
      },
      "outputs": [
        {
          "name": "stdout",
          "output_type": "stream",
          "text": [
            "313/313 [==============================] - 1s 2ms/step\n"
          ]
        },
        {
          "data": {
            "text/plain": [
              "array([9, 2, 1, ..., 8, 1, 5])"
            ]
          },
          "execution_count": 53,
          "metadata": {},
          "output_type": "execute_result"
        }
      ],
      "source": [
        "# Predicting X_test basis the built model\n",
        "import numpy as np\n",
        "y_pred = np.argmax(model_3.predict(X_test_std), axis=1)\n",
        "y_pred"
      ]
    },
    {
      "cell_type": "code",
      "execution_count": 54,
      "metadata": {
        "colab": {
          "base_uri": "https://localhost:8080/"
        },
        "id": "g3swZv6sEDVg",
        "outputId": "a64c416c-8868-4144-ea3c-2ee5e22403a7"
      },
      "outputs": [
        {
          "name": "stdout",
          "output_type": "stream",
          "text": [
            "313/313 [==============================] - 1s 2ms/step - loss: 0.3634 - accuracy: 0.8774\n"
          ]
        }
      ],
      "source": [
        "results = model_3.evaluate(X_test_std, Y_test_cat)"
      ]
    },
    {
      "cell_type": "code",
      "execution_count": 55,
      "metadata": {
        "colab": {
          "base_uri": "https://localhost:8080/"
        },
        "id": "G9vH0fxItRL-",
        "outputId": "2777d3ac-d7cb-46da-fcef-9ccf7205b8ad"
      },
      "outputs": [
        {
          "data": {
            "text/plain": [
              "array([[864,   2,  18,  20,   6,   1,  78,   0,  11,   0],\n",
              "       [  6, 969,   0,  18,   3,   0,   2,   0,   2,   0],\n",
              "       [ 18,   1, 799,  13, 104,   0,  59,   0,   6,   0],\n",
              "       [ 26,   6,  17, 896,  30,   0,  19,   0,   6,   0],\n",
              "       [  7,   1,  97,  33, 804,   0,  54,   0,   4,   0],\n",
              "       [  0,   0,   0,   0,   0, 943,   0,  42,   4,  11],\n",
              "       [160,   1, 102,  30,  72,   1, 618,   0,  16,   0],\n",
              "       [  0,   0,   0,   0,   0,  11,   0, 954,   1,  34],\n",
              "       [  9,   0,   2,   2,   3,   1,   6,   4, 973,   0],\n",
              "       [  0,   0,   0,   0,   0,  12,   1,  32,   1, 954]])"
            ]
          },
          "execution_count": 55,
          "metadata": {},
          "output_type": "execute_result"
        }
      ],
      "source": [
        "from sklearn.metrics import confusion_matrix\n",
        "confusion_matrix(y_test,y_pred)"
      ]
    },
    {
      "cell_type": "code",
      "execution_count": 56,
      "metadata": {
        "colab": {
          "base_uri": "https://localhost:8080/",
          "height": 573
        },
        "id": "X87Sdc34tRMA",
        "outputId": "c6d4075b-cc99-4a0c-b3c4-0d467d8da02a"
      },
      "outputs": [
        {
          "data": {
            "image/png": "[encoded data removed]",
            "text/plain": [
              "<Figure size 432x288 with 1 Axes>"
            ]
          },
          "metadata": {
            "needs_background": "light"
          },
          "output_type": "display_data"
        },
        {
          "data": {
            "image/png": "[encoded data removed]",
            "text/plain": [
              "<Figure size 432x288 with 1 Axes>"
            ]
          },
          "metadata": {
            "needs_background": "light"
          },
          "output_type": "display_data"
        }
      ],
      "source": [
        "import matplotlib.pyplot as plt\n",
        "\n",
        "plt.plot(history_4.history['accuracy'])\n",
        "plt.plot(history_4.history['val_accuracy'])\n",
        "plt.title('model accuracy')\n",
        "plt.ylabel('accuracy')\n",
        "plt.xlabel('epoch')\n",
        "plt.legend(['train', 'Val'], loc='upper left')\n",
        "plt.show()\n",
        "# summarize history for loss\n",
        "plt.plot(history_4.history['loss'])\n",
        "plt.plot(history_4.history['val_loss'])\n",
        "plt.title('model loss')\n",
        "plt.ylabel('loss')\n",
        "plt.xlabel('epoch')\n",
        "plt.legend(['train', 'val'], loc='upper left')\n",
        "plt.show()"
      ]
    },
    {
      "cell_type": "markdown",
      "metadata": {},
      "source": [
        "### With the addition of Batch Normalisation there is a slight increase in the performance but still the model is slightly overfitting."
      ]
    },
    {
      "cell_type": "markdown",
      "metadata": {
        "id": "ElSuYRBH8yim"
      },
      "source": [
        "### 5.5 Model Building with Batch Normalization and Dropout"
      ]
    },
    {
      "cell_type": "code",
      "execution_count": 61,
      "metadata": {
        "id": "KLIJgSjKuvmX"
      },
      "outputs": [],
      "source": [
        "model_4 = tf.keras.models.Sequential()\n",
        "model_4.add(tf.keras.layers.Reshape((784,),input_shape=(28,28,)))\n",
        "\n",
        "model_4.add(Dense(32))\n",
        "model_4.add(BatchNormalization())\n",
        "#model_4.add(Dropout(0.2))\n",
        "model_4.add(Activation('relu'))\n",
        "model_4.add(Dense(64))\n",
        "model_4.add(BatchNormalization())\n",
        "model_4.add(Dropout(0.2))\n",
        "model_4.add(Activation('relu'))\n",
        "model_4.add(Dense(32))\n",
        "model_4.add(BatchNormalization())\n",
        "model_4.add(Dropout(0.2))\n",
        "model_4.add(Activation('relu'))\n",
        "model_4.add(Dense(10))\n",
        "model_4.add(Activation('softmax'))"
      ]
    },
    {
      "cell_type": "code",
      "execution_count": 62,
      "metadata": {
        "colab": {
          "base_uri": "https://localhost:8080/"
        },
        "id": "qba4wD0zuvmX",
        "outputId": "60515371-5d8d-48bd-8f98-301ba42dcbf5"
      },
      "outputs": [
        {
          "name": "stdout",
          "output_type": "stream",
          "text": [
            "Model: \"sequential_7\"\n",
            "_________________________________________________________________\n",
            " Layer (type)                Output Shape              Param #   \n",
            "=================================================================\n",
            " reshape_7 (Reshape)         (None, 784)               0         \n",
            "                                                                 \n",
            " dense_28 (Dense)            (None, 32)                25120     \n",
            "                                                                 \n",
            " batch_normalization_6 (Batc  (None, 32)               128       \n",
            " hNormalization)                                                 \n",
            "                                                                 \n",
            " activation_28 (Activation)  (None, 32)                0         \n",
            "                                                                 \n",
            " dense_29 (Dense)            (None, 64)                2112      \n",
            "                                                                 \n",
            " batch_normalization_7 (Batc  (None, 64)               256       \n",
            " hNormalization)                                                 \n",
            "                                                                 \n",
            " dropout_1 (Dropout)         (None, 64)                0         \n",
            "                                                                 \n",
            " activation_29 (Activation)  (None, 64)                0         \n",
            "                                                                 \n",
            " dense_30 (Dense)            (None, 32)                2080      \n",
            "                                                                 \n",
            " batch_normalization_8 (Batc  (None, 32)               128       \n",
            " hNormalization)                                                 \n",
            "                                                                 \n",
            " dropout_2 (Dropout)         (None, 32)                0         \n",
            "                                                                 \n",
            " activation_30 (Activation)  (None, 32)                0         \n",
            "                                                                 \n",
            " dense_31 (Dense)            (None, 10)                330       \n",
            "                                                                 \n",
            " activation_31 (Activation)  (None, 10)                0         \n",
            "                                                                 \n",
            "=================================================================\n",
            "Total params: 30,154\n",
            "Trainable params: 29,898\n",
            "Non-trainable params: 256\n",
            "_________________________________________________________________\n"
          ]
        }
      ],
      "source": [
        "model_4.summary()"
      ]
    },
    {
      "cell_type": "code",
      "execution_count": 63,
      "metadata": {
        "id": "4iASs-8VuvmX"
      },
      "outputs": [],
      "source": [
        "model_4.compile(optimizer = tf.keras.optimizers.SGD(), loss = 'categorical_crossentropy', metrics = ['accuracy'])"
      ]
    },
    {
      "cell_type": "code",
      "execution_count": 64,
      "metadata": {
        "colab": {
          "base_uri": "https://localhost:8080/"
        },
        "id": "jU8dgBo5uvmX",
        "outputId": "30faa1a6-f3ac-4af4-aa46-c40ef1d006c4"
      },
      "outputs": [
        {
          "name": "stdout",
          "output_type": "stream",
          "text": [
            "Epoch 1/50\n",
            "1500/1500 [==============================] - 4s 2ms/step - loss: 0.9572 - accuracy: 0.7005 - val_loss: 0.5308 - val_accuracy: 0.8214\n",
            "Epoch 2/50\n",
            "1500/1500 [==============================] - 3s 2ms/step - loss: 0.6436 - accuracy: 0.7934 - val_loss: 0.4691 - val_accuracy: 0.8330\n",
            "Epoch 3/50\n",
            "1500/1500 [==============================] - 3s 2ms/step - loss: 0.5778 - accuracy: 0.8092 - val_loss: 0.4278 - val_accuracy: 0.8482\n",
            "Epoch 4/50\n",
            "1500/1500 [==============================] - 3s 2ms/step - loss: 0.5420 - accuracy: 0.8210 - val_loss: 0.4269 - val_accuracy: 0.8503\n",
            "Epoch 5/50\n",
            "1500/1500 [==============================] - 3s 2ms/step - loss: 0.5151 - accuracy: 0.8284 - val_loss: 0.4069 - val_accuracy: 0.8534\n",
            "Epoch 6/50\n",
            "1500/1500 [==============================] - 3s 2ms/step - loss: 0.4962 - accuracy: 0.8353 - val_loss: 0.3992 - val_accuracy: 0.8593\n",
            "Epoch 7/50\n",
            "1500/1500 [==============================] - 3s 2ms/step - loss: 0.4800 - accuracy: 0.8386 - val_loss: 0.3763 - val_accuracy: 0.8653\n",
            "Epoch 8/50\n",
            "1500/1500 [==============================] - 3s 2ms/step - loss: 0.4689 - accuracy: 0.8418 - val_loss: 0.3753 - val_accuracy: 0.8640\n",
            "Epoch 9/50\n",
            "1500/1500 [==============================] - 4s 2ms/step - loss: 0.4560 - accuracy: 0.8451 - val_loss: 0.3661 - val_accuracy: 0.8687\n",
            "Epoch 10/50\n",
            "1500/1500 [==============================] - 4s 2ms/step - loss: 0.4513 - accuracy: 0.8460 - val_loss: 0.4078 - val_accuracy: 0.8493\n",
            "Epoch 11/50\n",
            "1500/1500 [==============================] - 3s 2ms/step - loss: 0.4334 - accuracy: 0.8526 - val_loss: 0.3863 - val_accuracy: 0.8595\n",
            "Epoch 12/50\n",
            "1500/1500 [==============================] - 4s 3ms/step - loss: 0.4285 - accuracy: 0.8535 - val_loss: 0.3647 - val_accuracy: 0.8696\n",
            "Epoch 13/50\n",
            "1500/1500 [==============================] - 3s 2ms/step - loss: 0.4198 - accuracy: 0.8571 - val_loss: 0.3867 - val_accuracy: 0.8610\n",
            "Epoch 14/50\n",
            "1500/1500 [==============================] - 3s 2ms/step - loss: 0.4175 - accuracy: 0.8564 - val_loss: 0.3481 - val_accuracy: 0.8733\n",
            "Epoch 15/50\n",
            "1500/1500 [==============================] - 4s 2ms/step - loss: 0.4085 - accuracy: 0.8572 - val_loss: 0.3592 - val_accuracy: 0.8698\n",
            "Epoch 16/50\n",
            "1500/1500 [==============================] - 3s 2ms/step - loss: 0.4041 - accuracy: 0.8620 - val_loss: 0.3522 - val_accuracy: 0.8702\n",
            "Epoch 17/50\n",
            "1500/1500 [==============================] - 3s 2ms/step - loss: 0.3995 - accuracy: 0.8640 - val_loss: 0.3578 - val_accuracy: 0.8740\n",
            "Epoch 18/50\n",
            "1500/1500 [==============================] - 3s 2ms/step - loss: 0.3935 - accuracy: 0.8629 - val_loss: 0.3597 - val_accuracy: 0.8723\n",
            "Epoch 19/50\n",
            "1500/1500 [==============================] - 3s 2ms/step - loss: 0.3877 - accuracy: 0.8660 - val_loss: 0.3620 - val_accuracy: 0.8687\n",
            "Epoch 20/50\n",
            "1500/1500 [==============================] - 4s 2ms/step - loss: 0.3898 - accuracy: 0.8658 - val_loss: 0.3603 - val_accuracy: 0.8694\n",
            "Epoch 21/50\n",
            "1500/1500 [==============================] - 3s 2ms/step - loss: 0.3816 - accuracy: 0.8673 - val_loss: 0.3559 - val_accuracy: 0.8721\n",
            "Epoch 22/50\n",
            "1500/1500 [==============================] - 4s 2ms/step - loss: 0.3805 - accuracy: 0.8688 - val_loss: 0.3472 - val_accuracy: 0.8741\n",
            "Epoch 23/50\n",
            "1500/1500 [==============================] - 4s 3ms/step - loss: 0.3775 - accuracy: 0.8689 - val_loss: 0.3429 - val_accuracy: 0.8750\n",
            "Epoch 24/50\n",
            "1500/1500 [==============================] - 4s 3ms/step - loss: 0.3701 - accuracy: 0.8723 - val_loss: 0.3497 - val_accuracy: 0.8730\n",
            "Epoch 25/50\n",
            "1500/1500 [==============================] - 5s 3ms/step - loss: 0.3661 - accuracy: 0.8724 - val_loss: 0.3480 - val_accuracy: 0.8728\n",
            "Epoch 26/50\n",
            "1500/1500 [==============================] - 5s 3ms/step - loss: 0.3650 - accuracy: 0.8732 - val_loss: 0.3480 - val_accuracy: 0.8753\n",
            "Epoch 27/50\n",
            "1500/1500 [==============================] - 5s 4ms/step - loss: 0.3622 - accuracy: 0.8743 - val_loss: 0.3452 - val_accuracy: 0.8741\n",
            "Epoch 28/50\n",
            "1500/1500 [==============================] - 5s 3ms/step - loss: 0.3587 - accuracy: 0.8749 - val_loss: 0.3434 - val_accuracy: 0.8762\n",
            "Epoch 29/50\n",
            "1500/1500 [==============================] - 4s 3ms/step - loss: 0.3610 - accuracy: 0.8749 - val_loss: 0.3459 - val_accuracy: 0.8750\n",
            "Epoch 30/50\n",
            "1500/1500 [==============================] - 4s 2ms/step - loss: 0.3554 - accuracy: 0.8758 - val_loss: 0.3376 - val_accuracy: 0.8795\n",
            "Epoch 31/50\n",
            "1500/1500 [==============================] - 4s 3ms/step - loss: 0.3529 - accuracy: 0.8751 - val_loss: 0.3503 - val_accuracy: 0.8737\n",
            "Epoch 32/50\n",
            "1500/1500 [==============================] - 4s 2ms/step - loss: 0.3523 - accuracy: 0.8774 - val_loss: 0.3585 - val_accuracy: 0.8683\n",
            "Epoch 33/50\n",
            "1500/1500 [==============================] - 4s 2ms/step - loss: 0.3473 - accuracy: 0.8789 - val_loss: 0.3453 - val_accuracy: 0.8752\n",
            "Epoch 34/50\n",
            "1500/1500 [==============================] - 4s 3ms/step - loss: 0.3461 - accuracy: 0.8805 - val_loss: 0.3597 - val_accuracy: 0.8706\n",
            "Epoch 35/50\n",
            "1500/1500 [==============================] - 4s 3ms/step - loss: 0.3434 - accuracy: 0.8805 - val_loss: 0.3328 - val_accuracy: 0.8813\n",
            "Epoch 36/50\n",
            "1500/1500 [==============================] - 4s 3ms/step - loss: 0.3380 - accuracy: 0.8823 - val_loss: 0.3390 - val_accuracy: 0.8802\n",
            "Epoch 37/50\n",
            "1500/1500 [==============================] - 4s 3ms/step - loss: 0.3360 - accuracy: 0.8811 - val_loss: 0.3406 - val_accuracy: 0.8798\n",
            "Epoch 38/50\n",
            "1500/1500 [==============================] - 4s 3ms/step - loss: 0.3377 - accuracy: 0.8826 - val_loss: 0.3393 - val_accuracy: 0.8768\n",
            "Epoch 39/50\n",
            "1500/1500 [==============================] - 5s 3ms/step - loss: 0.3358 - accuracy: 0.8836 - val_loss: 0.3388 - val_accuracy: 0.8777\n",
            "Epoch 40/50\n",
            "1500/1500 [==============================] - 4s 3ms/step - loss: 0.3296 - accuracy: 0.8838 - val_loss: 0.3375 - val_accuracy: 0.8794\n",
            "Epoch 41/50\n",
            "1500/1500 [==============================] - 5s 3ms/step - loss: 0.3336 - accuracy: 0.8838 - val_loss: 0.3479 - val_accuracy: 0.8774\n",
            "Epoch 42/50\n",
            "1500/1500 [==============================] - 4s 3ms/step - loss: 0.3290 - accuracy: 0.8842 - val_loss: 0.3544 - val_accuracy: 0.8723\n",
            "Epoch 43/50\n",
            "1500/1500 [==============================] - 4s 3ms/step - loss: 0.3268 - accuracy: 0.8866 - val_loss: 0.3457 - val_accuracy: 0.8769\n",
            "Epoch 44/50\n",
            "1500/1500 [==============================] - 4s 3ms/step - loss: 0.3263 - accuracy: 0.8856 - val_loss: 0.3435 - val_accuracy: 0.8774\n",
            "Epoch 45/50\n",
            "1500/1500 [==============================] - 4s 3ms/step - loss: 0.3227 - accuracy: 0.8874 - val_loss: 0.3608 - val_accuracy: 0.8717\n",
            "Epoch 46/50\n",
            "1500/1500 [==============================] - 5s 3ms/step - loss: 0.3239 - accuracy: 0.8865 - val_loss: 0.3383 - val_accuracy: 0.8765\n",
            "Epoch 47/50\n",
            "1500/1500 [==============================] - 5s 3ms/step - loss: 0.3206 - accuracy: 0.8871 - val_loss: 0.3361 - val_accuracy: 0.8803\n",
            "Epoch 48/50\n",
            "1500/1500 [==============================] - 5s 3ms/step - loss: 0.3176 - accuracy: 0.8881 - val_loss: 0.3394 - val_accuracy: 0.8795\n",
            "Epoch 49/50\n",
            "1500/1500 [==============================] - 4s 3ms/step - loss: 0.3191 - accuracy: 0.8874 - val_loss: 0.3360 - val_accuracy: 0.8778\n",
            "Epoch 50/50\n",
            "1500/1500 [==============================] - 4s 3ms/step - loss: 0.3157 - accuracy: 0.8884 - val_loss: 0.3346 - val_accuracy: 0.8827\n"
          ]
        }
      ],
      "source": [
        "history_5 = model_4.fit(X_train_std,Y_train_cat,validation_data=(X_val_std,Y_val_cat),batch_size = 32, epochs = 50, verbose = 1)"
      ]
    },
    {
      "cell_type": "code",
      "execution_count": 65,
      "metadata": {
        "colab": {
          "base_uri": "https://localhost:8080/"
        },
        "id": "GkGtrthj8xAV",
        "outputId": "5b857ce2-86b9-4459-9d3c-171c31e89e90"
      },
      "outputs": [
        {
          "name": "stdout",
          "output_type": "stream",
          "text": [
            "313/313 [==============================] - 1s 2ms/step - loss: 0.3677 - accuracy: 0.8713\n"
          ]
        }
      ],
      "source": [
        "results = model_4.evaluate(X_test_std, Y_test_cat)"
      ]
    },
    {
      "cell_type": "code",
      "execution_count": 67,
      "metadata": {},
      "outputs": [
        {
          "name": "stdout",
          "output_type": "stream",
          "text": [
            "313/313 [==============================] - 1s 1ms/step\n"
          ]
        },
        {
          "data": {
            "text/plain": [
              "array([9, 2, 1, ..., 8, 1, 5])"
            ]
          },
          "execution_count": 67,
          "metadata": {},
          "output_type": "execute_result"
        }
      ],
      "source": [
        "# Predicting X_test basis the built model\n",
        "import numpy as np\n",
        "y_pred_4 = np.argmax(model_4.predict(X_test_std), axis=1)\n",
        "y_pred_4"
      ]
    },
    {
      "cell_type": "code",
      "execution_count": 66,
      "metadata": {
        "colab": {
          "base_uri": "https://localhost:8080/",
          "height": 573
        },
        "id": "2d-2WS9puvmY",
        "outputId": "ee933def-c8c0-40e1-b51a-c8c5954f91bf"
      },
      "outputs": [
        {
          "data": {
            "image/png": "[encoded data removed]",
            "text/plain": [
              "<Figure size 432x288 with 1 Axes>"
            ]
          },
          "metadata": {
            "needs_background": "light"
          },
          "output_type": "display_data"
        },
        {
          "data": {
            "image/png": "[encoded data removed]",
            "text/plain": [
              "<Figure size 432x288 with 1 Axes>"
            ]
          },
          "metadata": {
            "needs_background": "light"
          },
          "output_type": "display_data"
        }
      ],
      "source": [
        "import matplotlib.pyplot as plt\n",
        "\n",
        "plt.plot(history_5.history['accuracy'])\n",
        "plt.plot(history_5.history['val_accuracy'])\n",
        "plt.title('model accuracy')\n",
        "plt.ylabel('accuracy')\n",
        "plt.xlabel('epoch')\n",
        "plt.legend(['train', 'Val'], loc='upper left')\n",
        "plt.show()\n",
        "# summarize history for loss\n",
        "plt.plot(history_5.history['loss'])\n",
        "plt.plot(history_5.history['val_loss'])\n",
        "plt.title('model loss')\n",
        "plt.ylabel('loss')\n",
        "plt.xlabel('epoch')\n",
        "plt.legend(['train', 'val'], loc='upper left')\n",
        "plt.show()"
      ]
    },
    {
      "cell_type": "markdown",
      "metadata": {
        "id": "60wrqaAVSiot"
      },
      "source": [
        "#### With the addition of 2 dropout layers, overfittin has reduced. But still to imporve the model performance, we can try varying optimizers and learning rate and see how the model performance changes."
      ]
    },
    {
      "cell_type": "markdown",
      "metadata": {},
      "source": [
        "## Model 5 - Changing the optimizer to Adam and adding some learning rate"
      ]
    },
    {
      "cell_type": "code",
      "execution_count": 73,
      "metadata": {
        "colab": {
          "base_uri": "https://localhost:8080/"
        },
        "id": "EajxpebnuvmX",
        "outputId": "96886901-a1e4-4e6c-f38b-87a9a8dd3ad6"
      },
      "outputs": [],
      "source": [
        "model_5 = tf.keras.models.Sequential()\n",
        "model_5.add(tf.keras.layers.Reshape((784,),input_shape=(28,28,)))\n",
        "\n",
        "model_5.add(Dense(32))\n",
        "model_5.add(BatchNormalization())\n",
        "model_5.add(Activation('relu'))\n",
        "model_5.add(Dense(64))\n",
        "model_5.add(BatchNormalization())\n",
        "model_5.add(Dropout(0.2))\n",
        "model_5.add(Activation('relu'))\n",
        "model_5.add(Dense(32))\n",
        "model_5.add(BatchNormalization())\n",
        "model_5.add(Dropout(0.2))\n",
        "model_5.add(Activation('relu'))\n",
        "model_5.add(Dense(10))\n",
        "model_5.add(Activation('softmax'))"
      ]
    },
    {
      "cell_type": "code",
      "execution_count": 74,
      "metadata": {},
      "outputs": [
        {
          "name": "stdout",
          "output_type": "stream",
          "text": [
            "Model: \"sequential_9\"\n",
            "_________________________________________________________________\n",
            " Layer (type)                Output Shape              Param #   \n",
            "=================================================================\n",
            " reshape_9 (Reshape)         (None, 784)               0         \n",
            "                                                                 \n",
            " dense_36 (Dense)            (None, 32)                25120     \n",
            "                                                                 \n",
            " batch_normalization_12 (Bat  (None, 32)               128       \n",
            " chNormalization)                                                \n",
            "                                                                 \n",
            " activation_36 (Activation)  (None, 32)                0         \n",
            "                                                                 \n",
            " dense_37 (Dense)            (None, 64)                2112      \n",
            "                                                                 \n",
            " batch_normalization_13 (Bat  (None, 64)               256       \n",
            " chNormalization)                                                \n",
            "                                                                 \n",
            " dropout_5 (Dropout)         (None, 64)                0         \n",
            "                                                                 \n",
            " activation_37 (Activation)  (None, 64)                0         \n",
            "                                                                 \n",
            " dense_38 (Dense)            (None, 32)                2080      \n",
            "                                                                 \n",
            " batch_normalization_14 (Bat  (None, 32)               128       \n",
            " chNormalization)                                                \n",
            "                                                                 \n",
            " dropout_6 (Dropout)         (None, 32)                0         \n",
            "                                                                 \n",
            " activation_38 (Activation)  (None, 32)                0         \n",
            "                                                                 \n",
            " dense_39 (Dense)            (None, 10)                330       \n",
            "                                                                 \n",
            " activation_39 (Activation)  (None, 10)                0         \n",
            "                                                                 \n",
            "=================================================================\n",
            "Total params: 30,154\n",
            "Trainable params: 29,898\n",
            "Non-trainable params: 256\n",
            "_________________________________________________________________\n"
          ]
        }
      ],
      "source": [
        "model_5.summary()"
      ]
    },
    {
      "cell_type": "code",
      "execution_count": 75,
      "metadata": {},
      "outputs": [
        {
          "name": "stderr",
          "output_type": "stream",
          "text": [
            "/Users/gowthamswaminathan/opt/anaconda3/lib/python3.7/site-packages/keras/optimizers/optimizer_v2/adam.py:110: UserWarning: The `lr` argument is deprecated, use `learning_rate` instead.\n",
            "  super(Adam, self).__init__(name, **kwargs)\n"
          ]
        }
      ],
      "source": [
        "model_5.compile(optimizer = tf.keras.optimizers.Adam(lr=0.01), loss = 'categorical_crossentropy', metrics = ['accuracy'])"
      ]
    },
    {
      "cell_type": "code",
      "execution_count": 76,
      "metadata": {},
      "outputs": [
        {
          "name": "stdout",
          "output_type": "stream",
          "text": [
            "Epoch 1/50\n",
            "3000/3000 [==============================] - 8s 2ms/step - loss: 0.7042 - accuracy: 0.7589 - val_loss: 0.4775 - val_accuracy: 0.8263\n",
            "Epoch 2/50\n",
            "3000/3000 [==============================] - 7s 2ms/step - loss: 0.5682 - accuracy: 0.8035 - val_loss: 0.4754 - val_accuracy: 0.8378\n",
            "Epoch 3/50\n",
            "3000/3000 [==============================] - 7s 2ms/step - loss: 0.5323 - accuracy: 0.8175 - val_loss: 0.4515 - val_accuracy: 0.8284\n",
            "Epoch 4/50\n",
            "3000/3000 [==============================] - 7s 2ms/step - loss: 0.4970 - accuracy: 0.8279 - val_loss: 0.4001 - val_accuracy: 0.8558\n",
            "Epoch 5/50\n",
            "3000/3000 [==============================] - 7s 2ms/step - loss: 0.4794 - accuracy: 0.8321 - val_loss: 0.4018 - val_accuracy: 0.8520\n",
            "Epoch 6/50\n",
            "3000/3000 [==============================] - 7s 2ms/step - loss: 0.4671 - accuracy: 0.8384 - val_loss: 0.4203 - val_accuracy: 0.8470\n",
            "Epoch 7/50\n",
            "3000/3000 [==============================] - 7s 2ms/step - loss: 0.4587 - accuracy: 0.8384 - val_loss: 0.4157 - val_accuracy: 0.8551\n",
            "Epoch 8/50\n",
            "3000/3000 [==============================] - 7s 2ms/step - loss: 0.4492 - accuracy: 0.8426 - val_loss: 0.3959 - val_accuracy: 0.8579\n",
            "Epoch 9/50\n",
            "3000/3000 [==============================] - 8s 3ms/step - loss: 0.4400 - accuracy: 0.8440 - val_loss: 0.4208 - val_accuracy: 0.8478\n",
            "Epoch 10/50\n",
            "3000/3000 [==============================] - 7s 2ms/step - loss: 0.4319 - accuracy: 0.8480 - val_loss: 0.3836 - val_accuracy: 0.8630\n",
            "Epoch 11/50\n",
            "3000/3000 [==============================] - 7s 2ms/step - loss: 0.4254 - accuracy: 0.8487 - val_loss: 0.3624 - val_accuracy: 0.8667\n",
            "Epoch 12/50\n",
            "3000/3000 [==============================] - 7s 2ms/step - loss: 0.4243 - accuracy: 0.8501 - val_loss: 0.3812 - val_accuracy: 0.8618\n",
            "Epoch 13/50\n",
            "3000/3000 [==============================] - 8s 3ms/step - loss: 0.4112 - accuracy: 0.8539 - val_loss: 0.3628 - val_accuracy: 0.8649\n",
            "Epoch 14/50\n",
            "3000/3000 [==============================] - 8s 3ms/step - loss: 0.4112 - accuracy: 0.8530 - val_loss: 0.3686 - val_accuracy: 0.8666\n",
            "Epoch 15/50\n",
            "3000/3000 [==============================] - 8s 3ms/step - loss: 0.4036 - accuracy: 0.8590 - val_loss: 0.3596 - val_accuracy: 0.8687\n",
            "Epoch 16/50\n",
            "3000/3000 [==============================] - 7s 2ms/step - loss: 0.4078 - accuracy: 0.8565 - val_loss: 0.3685 - val_accuracy: 0.8683\n",
            "Epoch 17/50\n",
            "3000/3000 [==============================] - 8s 3ms/step - loss: 0.4019 - accuracy: 0.8605 - val_loss: 0.3587 - val_accuracy: 0.8680\n",
            "Epoch 18/50\n",
            "3000/3000 [==============================] - 8s 3ms/step - loss: 0.3990 - accuracy: 0.8593 - val_loss: 0.3614 - val_accuracy: 0.8666\n",
            "Epoch 19/50\n",
            "3000/3000 [==============================] - 7s 2ms/step - loss: 0.4016 - accuracy: 0.8573 - val_loss: 0.3423 - val_accuracy: 0.8721\n",
            "Epoch 20/50\n",
            "3000/3000 [==============================] - 7s 2ms/step - loss: 0.3952 - accuracy: 0.8601 - val_loss: 0.3416 - val_accuracy: 0.8795\n",
            "Epoch 21/50\n",
            "3000/3000 [==============================] - 7s 2ms/step - loss: 0.3913 - accuracy: 0.8610 - val_loss: 0.3657 - val_accuracy: 0.8664\n",
            "Epoch 22/50\n",
            "3000/3000 [==============================] - 7s 2ms/step - loss: 0.3924 - accuracy: 0.8620 - val_loss: 0.3631 - val_accuracy: 0.8676\n",
            "Epoch 23/50\n",
            "3000/3000 [==============================] - 7s 2ms/step - loss: 0.3855 - accuracy: 0.8635 - val_loss: 0.3442 - val_accuracy: 0.8743\n",
            "Epoch 24/50\n",
            "3000/3000 [==============================] - 7s 2ms/step - loss: 0.3886 - accuracy: 0.8631 - val_loss: 0.3420 - val_accuracy: 0.8786\n",
            "Epoch 25/50\n",
            "3000/3000 [==============================] - 7s 2ms/step - loss: 0.3808 - accuracy: 0.8644 - val_loss: 0.3403 - val_accuracy: 0.8750\n",
            "Epoch 26/50\n",
            "3000/3000 [==============================] - 7s 2ms/step - loss: 0.3830 - accuracy: 0.8636 - val_loss: 0.3432 - val_accuracy: 0.8765\n",
            "Epoch 27/50\n",
            "3000/3000 [==============================] - 7s 2ms/step - loss: 0.3816 - accuracy: 0.8640 - val_loss: 0.3501 - val_accuracy: 0.8743\n",
            "Epoch 28/50\n",
            "3000/3000 [==============================] - 7s 2ms/step - loss: 0.3755 - accuracy: 0.8654 - val_loss: 0.3653 - val_accuracy: 0.8702\n",
            "Epoch 29/50\n",
            "3000/3000 [==============================] - 7s 2ms/step - loss: 0.3721 - accuracy: 0.8665 - val_loss: 0.3383 - val_accuracy: 0.8733\n",
            "Epoch 30/50\n",
            "3000/3000 [==============================] - 7s 2ms/step - loss: 0.3753 - accuracy: 0.8655 - val_loss: 0.3488 - val_accuracy: 0.8763\n",
            "Epoch 31/50\n",
            "3000/3000 [==============================] - 7s 2ms/step - loss: 0.3719 - accuracy: 0.8674 - val_loss: 0.3458 - val_accuracy: 0.8759\n",
            "Epoch 32/50\n",
            "3000/3000 [==============================] - 7s 2ms/step - loss: 0.3700 - accuracy: 0.8686 - val_loss: 0.3799 - val_accuracy: 0.8601\n",
            "Epoch 33/50\n",
            "3000/3000 [==============================] - 7s 2ms/step - loss: 0.3711 - accuracy: 0.8659 - val_loss: 0.3388 - val_accuracy: 0.8799\n",
            "Epoch 34/50\n",
            "3000/3000 [==============================] - 7s 2ms/step - loss: 0.3661 - accuracy: 0.8688 - val_loss: 0.3505 - val_accuracy: 0.8737\n",
            "Epoch 35/50\n",
            "3000/3000 [==============================] - 7s 2ms/step - loss: 0.3654 - accuracy: 0.8697 - val_loss: 0.3600 - val_accuracy: 0.8680\n",
            "Epoch 36/50\n",
            "3000/3000 [==============================] - 8s 3ms/step - loss: 0.3670 - accuracy: 0.8687 - val_loss: 0.3532 - val_accuracy: 0.8769\n",
            "Epoch 37/50\n",
            "3000/3000 [==============================] - 11s 4ms/step - loss: 0.3654 - accuracy: 0.8693 - val_loss: 0.3419 - val_accuracy: 0.8801\n",
            "Epoch 38/50\n",
            "3000/3000 [==============================] - 7s 2ms/step - loss: 0.3645 - accuracy: 0.8696 - val_loss: 0.3371 - val_accuracy: 0.8776\n",
            "Epoch 39/50\n",
            "3000/3000 [==============================] - 7s 2ms/step - loss: 0.3612 - accuracy: 0.8703 - val_loss: 0.3606 - val_accuracy: 0.8708\n",
            "Epoch 40/50\n",
            "3000/3000 [==============================] - 7s 2ms/step - loss: 0.3598 - accuracy: 0.8727 - val_loss: 0.3363 - val_accuracy: 0.8797\n",
            "Epoch 41/50\n",
            "3000/3000 [==============================] - 7s 2ms/step - loss: 0.3581 - accuracy: 0.8723 - val_loss: 0.3371 - val_accuracy: 0.8804\n",
            "Epoch 42/50\n",
            "3000/3000 [==============================] - 7s 2ms/step - loss: 0.3577 - accuracy: 0.8707 - val_loss: 0.3449 - val_accuracy: 0.8775\n",
            "Epoch 43/50\n",
            "3000/3000 [==============================] - 7s 2ms/step - loss: 0.3614 - accuracy: 0.8720 - val_loss: 0.3483 - val_accuracy: 0.8758\n",
            "Epoch 44/50\n",
            "3000/3000 [==============================] - 7s 2ms/step - loss: 0.3575 - accuracy: 0.8723 - val_loss: 0.3373 - val_accuracy: 0.8770\n",
            "Epoch 45/50\n",
            "3000/3000 [==============================] - 7s 2ms/step - loss: 0.3550 - accuracy: 0.8722 - val_loss: 0.3357 - val_accuracy: 0.8754\n",
            "Epoch 46/50\n",
            "3000/3000 [==============================] - 7s 2ms/step - loss: 0.3486 - accuracy: 0.8767 - val_loss: 0.3437 - val_accuracy: 0.8763\n",
            "Epoch 47/50\n",
            "3000/3000 [==============================] - 7s 2ms/step - loss: 0.3509 - accuracy: 0.8740 - val_loss: 0.3498 - val_accuracy: 0.8761\n",
            "Epoch 48/50\n",
            "3000/3000 [==============================] - 7s 2ms/step - loss: 0.3515 - accuracy: 0.8743 - val_loss: 0.3429 - val_accuracy: 0.8763\n",
            "Epoch 49/50\n",
            "3000/3000 [==============================] - 7s 2ms/step - loss: 0.3551 - accuracy: 0.8745 - val_loss: 0.3603 - val_accuracy: 0.8756\n",
            "Epoch 50/50\n",
            "3000/3000 [==============================] - 8s 3ms/step - loss: 0.3502 - accuracy: 0.8733 - val_loss: 0.3371 - val_accuracy: 0.8798\n"
          ]
        }
      ],
      "source": [
        "history_6 = model_5.fit(X_train_std,Y_train_cat,validation_data=(X_val_std,Y_val_cat),batch_size = 16, epochs = 50, verbose = 1)"
      ]
    },
    {
      "cell_type": "code",
      "execution_count": 78,
      "metadata": {},
      "outputs": [
        {
          "name": "stdout",
          "output_type": "stream",
          "text": [
            "313/313 [==============================] - 1s 2ms/step - loss: 0.3681 - accuracy: 0.8711\n"
          ]
        }
      ],
      "source": [
        "results = model_5.evaluate(X_test_std, Y_test_cat)"
      ]
    },
    {
      "cell_type": "code",
      "execution_count": 79,
      "metadata": {},
      "outputs": [
        {
          "name": "stdout",
          "output_type": "stream",
          "text": [
            "313/313 [==============================] - 1s 2ms/step\n"
          ]
        },
        {
          "data": {
            "text/plain": [
              "array([9, 2, 1, ..., 8, 1, 5])"
            ]
          },
          "execution_count": 79,
          "metadata": {},
          "output_type": "execute_result"
        }
      ],
      "source": [
        "# Predicting X_test basis the built model\n",
        "import numpy as np\n",
        "y_pred_5 = np.argmax(model_5.predict(X_test_std), axis=1)\n",
        "y_pred_5"
      ]
    },
    {
      "cell_type": "code",
      "execution_count": 80,
      "metadata": {},
      "outputs": [
        {
          "data": {
            "image/png": "[encoded data removed]",
            "text/plain": [
              "<Figure size 432x288 with 1 Axes>"
            ]
          },
          "metadata": {
            "needs_background": "light"
          },
          "output_type": "display_data"
        },
        {
          "data": {
            "image/png": "[encoded data removed]",
            "text/plain": [
              "<Figure size 432x288 with 1 Axes>"
            ]
          },
          "metadata": {
            "needs_background": "light"
          },
          "output_type": "display_data"
        }
      ],
      "source": [
        "import matplotlib.pyplot as plt\n",
        "\n",
        "plt.plot(history_6.history['accuracy'])\n",
        "plt.plot(history_6.history['val_accuracy'])\n",
        "plt.title('model accuracy')\n",
        "plt.ylabel('accuracy')\n",
        "plt.xlabel('epoch')\n",
        "plt.legend(['train', 'Val'], loc='upper left')\n",
        "plt.show()\n",
        "# summarize history for loss\n",
        "plt.plot(history_6.history['loss'])\n",
        "plt.plot(history_6.history['val_loss'])\n",
        "plt.title('model loss')\n",
        "plt.ylabel('loss')\n",
        "plt.xlabel('epoch')\n",
        "plt.legend(['train', 'val'], loc='upper left')\n",
        "plt.show()"
      ]
    },
    {
      "cell_type": "markdown",
      "metadata": {},
      "source": [
        "### Even with the addition of adam optimizer there is not a big change in the model performance. So conitnuing with the above model as the final model and then saving it for future use."
      ]
    },
    {
      "cell_type": "markdown",
      "metadata": {
        "id": "Ov6eeqHhle_t"
      },
      "source": [
        "# Saving the model for future use"
      ]
    },
    {
      "cell_type": "code",
      "execution_count": 81,
      "metadata": {
        "id": "mVVntdWlWUjl"
      },
      "outputs": [],
      "source": [
        "# Saving the model\n",
        "model_5.save('nn.h5')\n",
        "model_5.save_weights('nn_weights.h5')"
      ]
    },
    {
      "cell_type": "code",
      "execution_count": 82,
      "metadata": {
        "id": "IJq3fL5guo_T"
      },
      "outputs": [],
      "source": [
        "from tensorflow.keras.models import load_model\n",
        "model_nn = load_model('nn.h5')\n",
        "model_nn.load_weights('nn_weights.h5')"
      ]
    },
    {
      "cell_type": "code",
      "execution_count": 87,
      "metadata": {},
      "outputs": [
        {
          "data": {
            "text/plain": [
              "(10000, 28, 28)"
            ]
          },
          "execution_count": 87,
          "metadata": {},
          "output_type": "execute_result"
        }
      ],
      "source": [
        "X_test.shape"
      ]
    },
    {
      "cell_type": "code",
      "execution_count": 96,
      "metadata": {},
      "outputs": [
        {
          "name": "stdout",
          "output_type": "stream",
          "text": [
            "[320 728 845 839 944]\n"
          ]
        },
        {
          "data": {
            "image/png": "[encoded data removed]",
            "text/plain": [
              "<Figure size 144x144 with 1 Axes>"
            ]
          },
          "metadata": {
            "needs_background": "light"
          },
          "output_type": "display_data"
        },
        {
          "name": "stdout",
          "output_type": "stream",
          "text": [
            "Actual Label: 8\n",
            "1/1 [==============================] - 0s 37ms/step\n",
            "Predicted Label: 0\n",
            "-----------X--------------\n"
          ]
        },
        {
          "data": {
            "image/png": "[encoded data removed]",
            "text/plain": [
              "<Figure size 144x144 with 1 Axes>"
            ]
          },
          "metadata": {
            "needs_background": "light"
          },
          "output_type": "display_data"
        },
        {
          "name": "stdout",
          "output_type": "stream",
          "text": [
            "Actual Label: 1\n",
            "1/1 [==============================] - 0s 17ms/step\n",
            "Predicted Label: 1\n",
            "-----------X--------------\n"
          ]
        },
        {
          "data": {
            "image/png": "[encoded data removed]",
            "text/plain": [
              "<Figure size 144x144 with 1 Axes>"
            ]
          },
          "metadata": {
            "needs_background": "light"
          },
          "output_type": "display_data"
        },
        {
          "name": "stdout",
          "output_type": "stream",
          "text": [
            "Actual Label: 7\n",
            "1/1 [==============================] - 0s 19ms/step\n",
            "Predicted Label: 7\n",
            "-----------X--------------\n"
          ]
        },
        {
          "data": {
            "image/png": "[encoded data removed]",
            "text/plain": [
              "<Figure size 144x144 with 1 Axes>"
            ]
          },
          "metadata": {
            "needs_background": "light"
          },
          "output_type": "display_data"
        },
        {
          "name": "stdout",
          "output_type": "stream",
          "text": [
            "Actual Label: 9\n",
            "1/1 [==============================] - 0s 19ms/step\n",
            "Predicted Label: 9\n",
            "-----------X--------------\n"
          ]
        },
        {
          "data": {
            "image/png": "[encoded data removed]",
            "text/plain": [
              "<Figure size 144x144 with 1 Axes>"
            ]
          },
          "metadata": {
            "needs_background": "light"
          },
          "output_type": "display_data"
        },
        {
          "name": "stdout",
          "output_type": "stream",
          "text": [
            "Actual Label: 7\n",
            "1/1 [==============================] - 0s 22ms/step\n",
            "Predicted Label: 7\n",
            "-----------X--------------\n"
          ]
        }
      ],
      "source": [
        "# validaitng the prediction that is run on X-test after model building with the actual values in X_test\n",
        "var = np.random.randint(0, 1000, 5)\n",
        "print(var)\n",
        "for i in var: \n",
        "  plt.figure(figsize=(2,2))\n",
        "  plt.imshow(X_test_std[i])\n",
        "  plt.show()\n",
        "  print('Actual Label:',y_test[i])\n",
        "  y_pred_final = np.argmax(model_nn.predict(X_test[i].reshape(1, 28, 28)))\n",
        "  print('Predicted Label:',y_pred_final)\n",
        "  print('-----------X--------------')"
      ]
    },
    {
      "cell_type": "markdown",
      "metadata": {},
      "source": [
        "### Labels for reference\n",
        "\n",
        "0. T-shirt/top\n",
        "\n",
        "1. Trouser\n",
        "\n",
        "2. Pullover\n",
        "\n",
        "3. Dress\n",
        "\n",
        "4. Coat\n",
        "\n",
        "5. Sandal\n",
        "\n",
        "6. Shirt\n",
        "\n",
        "7. Sneaker\n",
        "\n",
        "8. Bag\n",
        "\n",
        "9. Ankle boot"
      ]
    },
    {
      "cell_type": "markdown",
      "metadata": {
        "id": "eYGXwUwJ8BQP"
      },
      "source": [
        "##6. Conclusion\n",
        "\n",
        "- To summarize this notebook, we do some basic data preprocessing, make a model with sigmoid function as our activation functions and get an accuracy of 87.7 % and we observe over fitting in this model.\n",
        "\n",
        "- Using 'he_normal' comparatively there is a slight improvement after using weight intializer such that the overfitting in the model has reduced fairly.\n",
        "\n",
        "- By changing the activation function to relu for the hidden layers we see that there is continuous variation between the train and validation accuracy and losses and as the epoch increases this again results in an increased overfitting.\n",
        "\n",
        "- On implementing batch normalization we see that the variation has decreased and the accuracy of the model has comparatively improved from the previous model.\n",
        "\n",
        "- And finally we try to implement dropout along with batch normalization and see that we the overfitting is the least amongst the models we have built, making this as the preferred model over the rest.\n",
        "\n",
        "- Here we also can try different combinations while building a model apart from the models that are built in this notebook and try to get a model with better performance."
      ]
    },
    {
      "cell_type": "code",
      "execution_count": null,
      "metadata": {
        "id": "6YxVjwbVR41Z"
      },
      "outputs": [],
      "source": []
    }
  ],
  "metadata": {
    "accelerator": "GPU",
    "colab": {
      "collapsed_sections": [],
      "provenance": []
    },
    "kernelspec": {
      "display_name": "Python 3.7.11 ('base')",
      "language": "python",
      "name": "python3"
    },
    "language_info": {
      "codemirror_mode": {
        "name": "ipython",
        "version": 3
      },
      "file_extension": ".py",
      "mimetype": "text/x-python",
      "name": "python",
      "nbconvert_exporter": "python",
      "pygments_lexer": "ipython3",
      "version": "3.7.11"
    },
    "vscode": {
      "interpreter": {
        "hash": "1bcaa234541af14269647e78a58ff1e2c97283aefba8e8df69f3d751152a4c75"
      }
    }
  },
  "nbformat": 4,
  "nbformat_minor": 0
}
