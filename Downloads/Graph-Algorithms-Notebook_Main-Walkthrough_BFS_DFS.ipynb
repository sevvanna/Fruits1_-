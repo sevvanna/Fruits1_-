{
 "cells": [
  {
   "cell_type": "markdown",
   "metadata": {},
   "source": [
    "<img src=\"http://drive.google.com/uc?export=view&id=1JzM1Jig5KAOCvU4tIf2t66B3gd1uy1rG\" width=500px>\n",
    "\n",
    "Proprietary content. © Great Learning. All Rights Reserved. Unauthorized use or distribution prohibited."
   ]
  },
  {
   "cell_type": "markdown",
   "metadata": {
    "id": "oYU7THkG45Of"
   },
   "source": [
    "# <font color='blue'> Table Of Contents </font>\n",
    "\n",
    "## <font color='blue'> Artifacts: Week 5 Mentoring Content </font>\n",
    "\n",
    "## <font color='blue'> Graph Traversal </font>\n",
    "\n",
    "### <font color='blue'> The Candidate Graph </font>\n",
    "\n",
    "### <font color='blue'> Graph Data Structure: Adjacency List </font>\n",
    "\n",
    "## <font color='blue'> An Abstraction For Path Traversal </font>\n",
    "\n",
    "## <font color='blue'> Breadth First Search (BFS) Implementation </font>\n",
    "\n",
    "### <font color='blue'> BFS Application: Shortest Paths (By Edge Count) </font>\n",
    "\n",
    "## <font color='blue'> Depth First Search (DFS) Implementation </font>\n",
    "\n",
    "## <font color='blue'> The Client Code </font>\n",
    "\n",
    "### <font color='blue'> Execution Trace: Breadth First Search </font>\n",
    "\n",
    "### <font color='blue'> BFS: Path From Source To Each Vertex </font>\n",
    "\n",
    "### <font color='blue'> Execution Trace: Depth First Search </font>\n",
    "\n",
    "### <font color='blue'> DFS: Path From Source To Each Vertex </font>"
   ]
  },
  {
   "cell_type": "markdown",
   "metadata": {
    "id": "N2b0Q_NH45Ok"
   },
   "source": [
    "# <font color='blue'> Artifacts: Week 5 Mentoring Content </font>\n",
    "\n",
    "**NOTE**: The artifacts for this week's mentoring content are as follows:\n",
    "\n",
    "* The source code files:\n",
    "    * **```adjacency_list_graph.py```**\n",
    "    * **```graph_traversal.py```**\n",
    "    * **```graph_client.py```**\n",
    "    \n",
    "* The Jupyter Notebooks:\n",
    "    * The current notebook: **```Graph-Algorithms-Notebook_Main-Walkthrough_BFS_DFS.ipynb```**\n",
    "    * the source code notebook: **```Graph-Algorithms-Notebook_Source-Code_BFS_DFS.ipynb```**\n",
    "    \n",
    "Note that the source code is split across three Python code files.\n",
    "\n",
    "The file to be run to execute the entire program is **```graph_client.py```**, and since it is dependent on the code in the other two files, all three files need to be in the same folder location.\n",
    "\n",
    "Note that you will not get any output if you try to turn the other two source files independently.\n",
    "\n",
    "Also, the source source code is provided file-wise in the source code Jupyter Notebook for ease of reading, and the files cannot be executed independently there either."
   ]
  },
  {
   "cell_type": "markdown",
   "metadata": {
    "id": "kbgLYdKg45Ol"
   },
   "source": [
    "# <font color='blue'> Graph Traversal </font>\n",
    "\n",
    "The traveral of a graph involves starting at a particular initial vertex - known as the **source** - and visiting every other vertex in turn.\n",
    "\n",
    "The two most popular graph traversal algorithms are:\n",
    "\n",
    "* **Breadth-First Search**, or **BFS**\n",
    "* **Depth-First Search**, or **DFS**\n",
    "\n",
    "We will take a candidate graph, represented in an appropriate format, select an arbitrary source vertex, and demostrate the running of the above traversal algorithms."
   ]
  },
  {
   "cell_type": "markdown",
   "metadata": {
    "id": "k29bdtBC45On"
   },
   "source": [
    "## <font color='blue'> The Candidate Graph </font>\n",
    "\n",
    "We have chosen the below undirected graph to demonstrate the BFS and DFS traversal algorithms.\n",
    "\n",
    "We assume thew following, and make sure of them as well:\n",
    "\n",
    "* The candidate graph is an undirected graph\n",
    "* There are no self-edges in this graph\n",
    "* Between any two vertices, there can be at most one edge\n",
    "\n",
    "For both the traversals, we arbitrarily choose vertex **```0```** as the source. "
   ]
  },
  {
   "cell_type": "markdown",
   "metadata": {
    "id": "ngc_5rg445Oo"
   },
   "source": [
    "<img src=\"http://drive.google.com/uc?export=view&id=1o883FUxvZj4VRBCKvFYDcMLiUfkaqVV_\" width=400px>"
   ]
  },
  {
   "cell_type": "markdown",
   "metadata": {
    "id": "fZ-dOqUO45Op"
   },
   "source": [
    "## <font color='blue'> Graph Data Structure: Adjacency List </font>\n",
    "\n",
    "To represent the candidate graph in a computer program, we need a suitable data structure to store the details of the graph, mainly - information about its vertices and edges.\n",
    "\n",
    "For our purpose, we choose to represent it in the form of an adjacency list. The data structure below is our representation of the candidate graph we have chosen:\n",
    "\n",
    "<img src=\"http://drive.google.com/uc?export=view&id=1ZAL7vUaOAHyA-btSW1gI17lno6gzXYSk\" width=500px>\n",
    "\n",
    "The Python code implementation of this adjacency list data structure is available in source file ``````, also present in the companion Jupyter Notebook titled **```C03W05-02-Notebook_Source-Code_Graph-Algorithms_BFS_DFS.ipynb```**.\n",
    "\n",
    "Let us take a look at that code, bit-by-bit."
   ]
  },
  {
   "cell_type": "markdown",
   "metadata": {
    "id": "EgDCFEfW45Or"
   },
   "source": [
    "### <font color='blue'> ```AdjacencyListGraph``` </font>\n",
    "\n",
    "The class ```AdjacencyListGraph``` represents our adjacency list data structure, and the constructor initializes its parameters.\n",
    "\n",
    "The ```self.adjacency_list``` attribute is designed to moel the adjacency list structure, as seen in the diagram above. It is designed to be a list of lists, with a list to represent the adjacent vertices of each vertex in the graph.\n",
    "\n",
    "Initially, this data structure is empty, and we initialize it to be as such. \n",
    "\n",
    "Note that we are representing each vertex in the graph as an integer between ```0``` and ```num_vertices``` - which is provided to the constructor as input:"
   ]
  },
  {
   "cell_type": "code",
   "execution_count": 10,
   "metadata": {
    "id": "JU16ba6t45Os"
   },
   "outputs": [],
   "source": [
    "# Warning! Code may not compile!\n",
    "\n",
    "\n",
    "class AdjacencyListGraph:\n",
    "    def __init__(self, num_vertices):\n",
    "        self._num_vertices = num_vertices\n",
    "\n",
    "        self.adjacency_list = []\n",
    "\n",
    "        for vertex in range(0, self.num_vertices):\n",
    "            self.adjacency_list.append([])\n",
    "        \n",
    "    # More code follows!\n",
    "    "
   ]
  },
  {
   "cell_type": "markdown",
   "metadata": {
    "id": "tZozSrOF45Ou"
   },
   "source": [
    "This function is used to print out the contents of the adjacency list data structure in a partivcular format. It involves traversing the outer list of the data structure, and for each vertex in this outer list, also print out the vertices adjacent to it - that are present in its adjacent list."
   ]
  },
  {
   "cell_type": "code",
   "execution_count": 9,
   "metadata": {
    "id": "c_Xz7uQX45Ov"
   },
   "outputs": [
    {
     "ename": "IndentationError",
     "evalue": "unexpected indent (<ipython-input-9-dcc89a8ab602>, line 3)",
     "output_type": "error",
     "traceback": [
      "\u001b[1;36m  File \u001b[1;32m\"<ipython-input-9-dcc89a8ab602>\"\u001b[1;36m, line \u001b[1;32m3\u001b[0m\n\u001b[1;33m    def __str__(self):\u001b[0m\n\u001b[1;37m    ^\u001b[0m\n\u001b[1;31mIndentationError\u001b[0m\u001b[1;31m:\u001b[0m unexpected indent\n"
     ]
    }
   ],
   "source": [
    "# Warning! Code may not compile!    \n",
    "    \n",
    "     def __str__(self):\n",
    "\n",
    "            adj_string = f'The Adjacency List Representation of the Graph:\\n\\n'\n",
    "\n",
    "            for vertex in range(0, self.num_vertices):\n",
    "                adj_string += f'Adjacency List for vertex {vertex} :: '\n",
    "\n",
    "                adj_list = self.adjacency_list[vertex]\n",
    "                adj_string += ' => '.join([f'{vert}' for vert in adj_list])\n",
    "\n",
    "                adj_string += '\\n\\n'\n",
    "            \n",
    "            return adj_string"
   ]
  },
  {
   "cell_type": "markdown",
   "metadata": {
    "id": "2lq55J_E45Ov"
   },
   "source": [
    "Next, it is our turn to populate this data structure. For this, we need to have information about the edges in the graph too.\n",
    "\n",
    "We accomplish this by calling the ```add_edge()``` function - which takes edge information in the form of the end points of each edge - vertices ```v``` and ```w``` here. We then make entries in the adjacency list data structure.\n",
    "\n",
    "The information about the edges is provided as part of the code in the ```graph_client.py``` source file, and it is input as a list of tuples - with each element in very tuple represnets the end points of an edge.\n",
    "\n",
    "Note that when we add an edge entry, we add an entry for each of the end point vertices of that edge.\n",
    "\n",
    "That is because we have considered an undirected graph as out candidate to run traversals. This means every edge can be traversed in both directions: from ```v``` to ```w```, and from ```w``` to ```v```.\n",
    "\n",
    "You can see this fact in the code below:"
   ]
  },
  {
   "cell_type": "code",
   "execution_count": null,
   "metadata": {
    "id": "7UxZ0zkZ45Ow"
   },
   "outputs": [],
   "source": [
    "# Warning! Code may not compile!   \n",
    "    \n",
    "    \n",
    "    def add_edge(self, v, w):\n",
    "        self.adjacency_list[v].append(w)\n",
    "        self.adjacency_list[w].append(v)"
   ]
  },
  {
   "cell_type": "markdown",
   "metadata": {
    "id": "9dk0c5_o45Ow"
   },
   "source": [
    "Another useful functionality is to to determine the list of vertices that are adjacent to a given vertex - that is, the list of other vertices that are separated by a single edge, from our given vertex:"
   ]
  },
  {
   "cell_type": "code",
   "execution_count": null,
   "metadata": {
    "id": "RQeBkvYH45Ox"
   },
   "outputs": [],
   "source": [
    "# Warning! Code may not compile!\n",
    "\n",
    "\n",
    "    def adjacent_to(self, vertex):\n",
    "        return self.adjacency_list[vertex]"
   ]
  },
  {
   "cell_type": "markdown",
   "metadata": {
    "id": "T6nuvFeN45Oy"
   },
   "source": [
    "Another useful computed metric is to determine the number of edges in the graph. \n",
    "\n",
    "We have already constructed the adjacency list data structure at this point in time, and all the edge information is present in the code. \n",
    "\n",
    "We are also aware that there are two entries for every edge in our data structrure. \n",
    "\n",
    "Therefore, we simply count the total number of entries in the adjacency list - which is the number of elements in all internal lists taken together. We exclude the elements in the outer list in this calculation, since there are no self-edges in our candidate graph.\n",
    "\n",
    "We then take this computed number, and divide that by ```2``` - to get the actual number of edges in our graph."
   ]
  },
  {
   "cell_type": "code",
   "execution_count": null,
   "metadata": {
    "id": "SprP5J4e45O0"
   },
   "outputs": [],
   "source": [
    "# Warning! Code may not compile!    \n",
    "    \n",
    "    \n",
    "    def num_edges(self):\n",
    "        num_edges = 0\n",
    "\n",
    "        for vertex in range(0, self.num_vertices):\n",
    "            num_edges = num_edges + len(self.adjacency_list[vertex])\n",
    "\n",
    "        return num_edges // 2"
   ]
  },
  {
   "cell_type": "markdown",
   "metadata": {
    "id": "XlNTDLtn45O1"
   },
   "source": [
    "Finally, we are aware that the degree of any given vertex in a graph is the number of vertices adjacent to it.\n",
    "\n",
    "Therefore, for the given vertex, we can simply return the length of the internal list maintained at that vertex."
   ]
  },
  {
   "cell_type": "code",
   "execution_count": null,
   "metadata": {
    "id": "DFyVS8Yl45O1"
   },
   "outputs": [],
   "source": [
    "# Warning! Code may not compile!\n",
    "\n",
    "\n",
    "    def degree(self, vertex):\n",
    "        return len(self.adjacency_list[vertex])"
   ]
  },
  {
   "cell_type": "markdown",
   "metadata": {
    "id": "1Z0ixga845O2"
   },
   "source": [
    "# <font color='blue'> An Abstraction For Path Traversal </font>\n",
    "\n",
    "We have already seen that BFS and DFS are the two most popular graph traversal algorithms.\n",
    "\n",
    "The focus is on the name \"path traversal\", and this includes computing and recording exactly one path from the source vertex, to every other vertex in the graph.\n",
    "\n",
    "Since this concept of a path is common to both BFS and DFS, it makes sense to define an independent entity that stores a way to compute and output these paths.\n",
    "\n",
    "It so turns out that the data structure and the additional information used to compute and store these path data - are identical for both BFS and DFS.\n",
    "\n",
    "Therefore, we can easily encapsulate some common functions in a class named ```PathTraversal``` - and make them available to both BFS and DFS traversal implementations.\n",
    "\n",
    "In fact, ```PathTraversal``` defines a base class for a class hierarchy of traversal algorithms, with ```BreadthFirstTraversal``` and ```DepthFirstTraversal``` being its derived classes.\n",
    "\n",
    "First, the constructor of the ```PathTraversal``` class.\n",
    "\n",
    "Our class is designed to take a graph as input - here, it is in the form of an ```AdjacencyListGrpah``` object.\n",
    "\n",
    "We also identify the source vertex as the ```source``` parameter, and in our case, it is ```0```.\n",
    "\n",
    "In the actual code, the ```PathTraversal``` object is a part of the derived object - either ```BreadthFirstTraversal``` or ```DepthFirstTraversal``` - and you can see the parameters being passed to their constructors in the ```graph_client.py``` code.\n",
    "\n",
    "We define two additional data structures:\n",
    "\n",
    "* ```self.marked```: It identifies whether a particular vertex has been visited once by the traversal algorithm in question - it is initialized to all ```False```\n",
    "\n",
    "* ```self.edge_to```: This list is useful in constructing a path in reverse from a destination edge, back to the source vertex. it is initialized to all ```-1```, since the vertices are identified by integers starting at ```0```.\n",
    "    * The number ```n * (n-1) // 2``` represents the maximum number of edges in this graph, assuming:\n",
    "        * There are no self edges\n",
    "        * There is at most a single edge between two given vertices"
   ]
  },
  {
   "cell_type": "code",
   "execution_count": null,
   "metadata": {
    "id": "NQPM9JsG45O2"
   },
   "outputs": [],
   "source": [
    "# Warning! Code may not compile!\n",
    "\n",
    "\n",
    "class PathTraversal:\n",
    "    def __init__(self, graph, source):\n",
    "        self.graph = graph\n",
    "        self.source = source\n",
    "\n",
    "        n = self.graph.num_vertices\n",
    "\n",
    "        self.marked = []\n",
    "        self.marked = [False for vertex in range(0, n)]\n",
    "        \n",
    "        e = n * (n-1) // 2\n",
    "        self.edge_to = []\n",
    "        self.edge_to = [-1 for edge_to in range(0, e)]\n",
    "        \n",
    "    # More code follows"
   ]
  },
  {
   "cell_type": "markdown",
   "metadata": {
    "id": "PIq0viZ745O3"
   },
   "source": [
    "The function ```has_path_to()``` returns whether there exists a path from the source to the given vertex.\n",
    "\n",
    "Note that if another vertex is visited during a BFS or DFS traversal from the source, its entry can be found in the ```self.marked``` list. Therefore, it is a good indicator of that vertex's reachability from the source.\n",
    "\n",
    "Since the chosen candidiate graph is fully connected, every vertex will find an entry for itself in ```self.marked```."
   ]
  },
  {
   "cell_type": "code",
   "execution_count": null,
   "metadata": {
    "id": "ZKmAAj-d45O4"
   },
   "outputs": [],
   "source": [
    "# Warning! Code may not compile!\n",
    "\n",
    "\n",
    "    def has_path_to(self, vertex):\n",
    "        return self.marked[vertex]"
   ]
  },
  {
   "cell_type": "markdown",
   "metadata": {
    "id": "uyDF7jW145O5"
   },
   "source": [
    "The ```path_to()``` function is responsible for constructing a path from the source to a given vertex, by uisng information present in:\n",
    "\n",
    "* The ```self.marked``` list\n",
    "* The ```self.edge_to``` list\n",
    "\n",
    "First it checks whether such a path exists, using the ```has_path_to()``` function call.\n",
    "\n",
    "Next, it goes about constructing a list of vertices on the path.\n",
    "\n",
    "We already mentioned that the ```self.edge_to``` list helps us construct the path from the source to our given vertex, in **reverse order**.\n",
    "\n",
    "Therefore, we will need to ultimately need to reverse our order of vetrtices we access by using this data structure. \n",
    "\n",
    "For this purpose, we push each successive vertex we get, into a **stack** - so that finally, we can pop these vertices out in reverse order.\n",
    "\n",
    "Finally, we print out these vertices in a visually pleasing manner:"
   ]
  },
  {
   "cell_type": "code",
   "execution_count": null,
   "metadata": {
    "id": "vduQaUgP45O6"
   },
   "outputs": [],
   "source": [
    "# Warning! Code may not compile!\n",
    "\n",
    "\n",
    "    def path_to(self, vertex):\n",
    "        if not self.has_path_to(vertex):\n",
    "            return None\n",
    "\n",
    "        # Use a stack to store vertices on the path\n",
    "        path_stack = []\n",
    "        vert = vertex\n",
    "\n",
    "        while vert != self.source:\n",
    "            path_stack.append(vert)\n",
    "            vert = self.edge_to[vert]\n",
    "\n",
    "        path_stack.append(self.source)\n",
    "\n",
    "        path_vertices = []\n",
    "        size = len(path_stack)\n",
    "\n",
    "        for i in range(0, size):\n",
    "            path_vertices.append(path_stack.pop())\n",
    "\n",
    "        self.print_path(vertex, path_vertices)"
   ]
  },
  {
   "cell_type": "markdown",
   "metadata": {
    "id": "xO_hlwlb45O6"
   },
   "source": [
    "The function used to print out the vertices in a path is ```print_path()```, and it is invoked wihtin ```path_to()```:"
   ]
  },
  {
   "cell_type": "code",
   "execution_count": null,
   "metadata": {
    "id": "WnqJVhYe45O6"
   },
   "outputs": [],
   "source": [
    "# Warning! Code may not compile!\n",
    "\n",
    "\n",
    "    def print_path(self, vertex, vertex_list):\n",
    "        prefix = f'The path to vertex {vertex} from the Source {self.source} is: '\n",
    "        \n",
    "        path_string = ' -> '.join([f'{vertex}' for vertex in vertex_list])\n",
    "\n",
    "        full_string = prefix + path_string + '\\n'\n",
    "        print(full_string)"
   ]
  },
  {
   "cell_type": "markdown",
   "metadata": {
    "id": "hrZAQEqi45O7"
   },
   "source": [
    "# <font color='blue'> Breadth First Search Implementation </font>\n",
    "\n",
    "Breadth-Frist Search, or BFS, is a very popular graph traversal algorithm, as we saw earlier.\n",
    "\n",
    "In the lecture videos, we have explored the working of the algorithm, by looking at its pseudocode, which is shown below:\n",
    "\n",
    "<img src=\"http://drive.google.com/uc?export=view&id=1v-U7mKSZzeoZfRj2CxG-WC4M-efmo552\" width=500px>\n",
    "\n",
    "Let us now implement this logic in Python code.\n",
    "\n",
    "The class ```BreadthFirstTraversal``` derives from the ```PathTraversal``` base class, and thus inherits the following function implementations:\n",
    "\n",
    "* ```has_path_to()```\n",
    "* ```path_to()```\n",
    "* ```print_path()```\n",
    "\n",
    "In addition, it also implements the core BFS traversal algorithm, via the function ```bfs()``` shown below.\n",
    "\n",
    "It is a fairly simple algorithm, and what it does - is quite apparent from the pseudocode. we have already explorefd it in detail in the lecture videos, so we will just go with the flow here.\n",
    "\n",
    "We will demonstrate the exact workings of this algorithm at run-time, when we get to execute the client code in ```graph_client.py```."
   ]
  },
  {
   "cell_type": "code",
   "execution_count": null,
   "metadata": {
    "id": "MqAEfimy45O7"
   },
   "outputs": [],
   "source": [
    "# Warning! Code may not compile!\n",
    "\n",
    "\n",
    "class BreadthFirstTraversal(PathTraversal):\n",
    "    def __init__(self, graph, source):\n",
    "        super().__init__(graph, source)\n",
    "\n",
    "    def bfs(self):\n",
    "        print(f'Invoking Breadth-First Search at vertex: {self.source}\\n')\n",
    "        \n",
    "        vertex_queue = []\n",
    "        vertex_queue.append(self.source)\n",
    "        self.marked[self.source] = True\n",
    "\n",
    "        while len(vertex_queue) != 0:\n",
    "            vertex = vertex_queue.pop(0)\n",
    "            adjacent_vertices = self.graph.adjacent_to(vertex)\n",
    "\n",
    "            for adj in adjacent_vertices:\n",
    "                if not self.marked[adj]:\n",
    "                    vertex_queue.append(adj)\n",
    "                    self.marked[adj] = True\n",
    "                    self.edge_to[adj] = vertex\n",
    "\n",
    "        print('Breadth-First Search Completed!\\n')"
   ]
  },
  {
   "cell_type": "markdown",
   "metadata": {
    "id": "QdlZSV7k45O7"
   },
   "source": [
    "## <font color='blue'> BFS Application: Shortest Paths (By Edge Count) </font>\n",
    "\n",
    "We already mentioned that the ```BreadthFirstTraversal``` class inherits the path computation functionality from its base class - the ```PathTraversal``` class.\n",
    "\n",
    "Note that, in case of BFS, the path that we compute for a given vertex from the source, is also the shortest path (by edge count) - from the source to that vertex.\n",
    "\n",
    "This means that if we ignore the weights of individyual edges in the graph, and focus on only the number of edges in  a BFS path from the source to the vertex - this path is guaranteed to be the shortest!"
   ]
  },
  {
   "cell_type": "code",
   "execution_count": null,
   "metadata": {
    "id": "FKL_QpAV45O7"
   },
   "outputs": [],
   "source": [
    "# Warning! Code may not compile!\n",
    "\n",
    "\n",
    "    def has_path_to(self, vertex):\n",
    "        return self.marked[vertex]\n",
    "\n",
    "    def path_to(self, vertex):\n",
    "        if not self.has_path_to(vertex):\n",
    "            return None\n",
    "\n",
    "        # Use a stack to store vertices on the path\n",
    "        path_stack = []\n",
    "        vert = vertex\n",
    "\n",
    "        while vert != self.source:\n",
    "            path_stack.append(vert)\n",
    "            vert = self.edge_to[vert]\n",
    "\n",
    "        path_stack.append(self.source)\n",
    "\n",
    "        path_vertices = []\n",
    "        size = len(path_stack)\n",
    "\n",
    "        for i in range(0, size):\n",
    "            path_vertices.append(path_stack.pop())\n",
    "\n",
    "        self.print_path(vertex, path_vertices)\n",
    "\n",
    "    def print_path(self, vertex, vertex_list):\n",
    "        prefix = f'The path to vertex {vertex} from the Source {self.source} is: '\n",
    "        \n",
    "        path_string = ' -> '.join([f'{vertex}' for vertex in vertex_list])\n",
    "\n",
    "        full_string = prefix + path_string + '\\n'\n",
    "        print(full_string)"
   ]
  },
  {
   "cell_type": "markdown",
   "metadata": {
    "id": "FMqWGScb45O8"
   },
   "source": [
    "# <font color='blue'> Depth First Search Implementation </font>\n",
    "\n",
    "Depth-Frist Search, or DFS, is a very popular graph traversal algorithm, as we saw earlier.\n",
    "\n",
    "In the lecture videos, we have explored the working of the algorithm, by looking at its pseudocode, which is shown below:\n",
    "\n",
    "<img src=\"http://drive.google.com/uc?export=view&id=1C1v5dSvLuUt8eHNKquI3T4R7bY2vMQvT\" width=500px>\n",
    "\n",
    "Let us now implement this logic in Python code.\n",
    "\n",
    "The class ```DepthFirstTraversal``` derives from the ```PathTraversal``` base class, and thus inherits the following function implementations:\n",
    "\n",
    "* ```has_path_to()```\n",
    "* ```path_to()```\n",
    "* ```print_path()```\n",
    "\n",
    "In addition, it also implements the core DFS traversal algorithm, via the function ```dfs()``` shown below.\n",
    "\n",
    "It is a fairly simple algorithm, ands what it does - is quite apparent from the pseudocode. we have already explored it in detail in the lecture videos, so we will just go with the flow here."
   ]
  },
  {
   "cell_type": "code",
   "execution_count": null,
   "metadata": {
    "id": "Lyl1vgOS45O8"
   },
   "outputs": [],
   "source": [
    "# Warning! Code may not compile!\n",
    "\n",
    "\n",
    "class DepthFirstTraversal(PathTraversal):\n",
    "    def __init__(self, graph, source):\n",
    "        super().__init__(graph, source)\n",
    "\n",
    "    def dfs(self, vertex):\n",
    "        print(f'Invoking Depth-First Search at vertex: {vertex}\\n')\n",
    "        \n",
    "        self.marked[vertex] = True\n",
    "\n",
    "        adjacent_vertices = self.graph.adjacent_to(vertex)\n",
    "\n",
    "        for adj in adjacent_vertices:\n",
    "            if not self.marked[adj]:\n",
    "                self.dfs(adj)\n",
    "                self.edge_to[adj] = vertex\n",
    "\n",
    "        if vertex == self.source:\n",
    "            print('Depth-First Search Completed!\\n')"
   ]
  },
  {
   "cell_type": "markdown",
   "metadata": {
    "id": "ds_LdTYx45O8"
   },
   "source": [
    "## <font color='blue'> DFS Traversal: Vertex Paths </font>\n",
    "\n",
    "As usual, the ```DepthFirstTraversal``` class inherits the path computation functionality from its base class - ```PathTraversal```."
   ]
  },
  {
   "cell_type": "code",
   "execution_count": null,
   "metadata": {
    "id": "5oU9CNbW45O8"
   },
   "outputs": [],
   "source": [
    "# Warning! Code may not compile!\n",
    "\n",
    "\n",
    "    def has_path_to(self, vertex):\n",
    "        return self.marked[vertex]\n",
    "\n",
    "    def path_to(self, vertex):\n",
    "        if not self.has_path_to(vertex):\n",
    "            return None\n",
    "\n",
    "        # Use a stack to store vertices on the path\n",
    "        path_stack = []\n",
    "        vert = vertex\n",
    "\n",
    "        while vert != self.source:\n",
    "            path_stack.append(vert)\n",
    "            vert = self.edge_to[vert]\n",
    "\n",
    "        path_stack.append(self.source)\n",
    "\n",
    "        path_vertices = []\n",
    "        size = len(path_stack)\n",
    "\n",
    "        for i in range(0, size):\n",
    "            path_vertices.append(path_stack.pop())\n",
    "\n",
    "        self.print_path(vertex, path_vertices)\n",
    "\n",
    "    def print_path(self, vertex, vertex_list):\n",
    "        prefix = f'The path to vertex {vertex} from the Source {self.source} is: '\n",
    "        \n",
    "        path_string = ' -> '.join([f'{vertex}' for vertex in vertex_list])\n",
    "\n",
    "        full_string = prefix + path_string + '\\n'\n",
    "        print(full_string)"
   ]
  },
  {
   "cell_type": "markdown",
   "metadata": {
    "id": "lcE3ojha45O9"
   },
   "source": [
    "## <font color='blue'> The Client Code </font>\n",
    "\n",
    "Finally,we get to the client code, which when run, can demonstrate the following points:\n",
    "\n",
    "* The structure of the candidate graph - in the adjacency list data structure\n",
    "* The various stages in the BFS algorithm\n",
    "* The individual computed BFS paths from the source\n",
    "* The various stages in the DFS algorithm\n",
    "* The individual computed DFS paths from the source\n",
    "\n",
    "First, we already know that we represent each vertex in our candidate graph with an integer - between ```0``` and ```num_vertices```. Here, we set ```num_vertices``` to be ```6```.\n",
    "\n",
    "We also specify the edge information by  a list of tuples - the value pair in each tuple being the end points of that edge. Note that our graph is undirected.\n",
    "\n",
    "This client code is configurable, and you can replace the graph used here, with a different candidate graph of your own. Just make sure to keep the vertex info in ```num_vertices``` and ```graph_vertices```, and the edge infomation in ```graph_edges``` - consistent with each other.\n",
    "\n",
    "Next, we construct the actual graph, in the form of an adjacency list data structure.\n",
    "\n",
    "Finally, we perform the two traversals - BFS and DFS.\n",
    "\n",
    "For each, we pass in the graph and identify the source vertex - as parameters to the concrete traversal object - either ```BreadthFirstTraversal``` or ```DepthFirstTraversal```.\n",
    "\n",
    "As part of each traversal - BFS and DFS - we print out the vertices visited, and indicate when the algorithm terminates.\n",
    "\n",
    "Finally, for each of BFS and DFS, we also compute and display the paths from source to each of the remaining vertices.\n",
    "\n",
    "### <font color='blue'> Running The Client Code </font>\n",
    "\n",
    "You can verify these facts by running the command\n",
    "\n",
    "**```python graph_client.py```** \n",
    "\n",
    "on your computer.\n",
    "\n",
    "You can even redirect the output of this program to a text file with  acommand such as:\n",
    "\n",
    "**```python graph_client.py > out.txt 2>&1```**\n",
    "\n",
    "You can them examine the contents of ```out.txt``` at leisure. \n",
    "\n",
    "This command will works on any of the popular desktop computing platforms, incluiding:\n",
    "\n",
    "* Windows\n",
    "* Linux (including both Fedora and Debian flavours)\n",
    "* Mac\n",
    "\n",
    "Note again, that you will need to run this as a source file (in a IDE, or on the terminal), along with the other files present in the same folder.\n",
    "\n",
    "You may not be able to directly run the code present in this Jupyter Notebook, or in the companion Jupyter Notebook, ```C03W05-02-Notebook_Source-Code_Graph-Algorithms_BFS_DFS.ipynb```."
   ]
  },
  {
   "cell_type": "code",
   "execution_count": null,
   "metadata": {
    "id": "E6BU0U8045O9"
   },
   "outputs": [],
   "source": [
    "from graph_traversal import *\n",
    "\n",
    "\n",
    "if __name__ == '__main__':\n",
    "    num_vertices = 6\n",
    "    graph_vertices = [vertex for vertex in range(0, num_vertices)]\n",
    "    graph_edges = [(0,1), (0,3), (0,4), (1,2), (1,4), (1,5), (3,5), (4,5)]\n",
    "    source = 0\n",
    "\n",
    "    graph = AdjacencyListGraph(num_vertices)\n",
    "    for edge in graph_edges:\n",
    "        graph.add_edge(edge[0], edge[1])\n",
    "\n",
    "    print('\\n*************************************************************************************\\n')\n",
    "    print(graph)\n",
    "\n",
    "    bfs_traversal = BreadthFirstTraversal(graph, source)\n",
    "    \n",
    "    print('\\n*************************************************************************************\\n')\n",
    "    bfs_traversal.bfs()\n",
    "\n",
    "    print('*************************************************************************************\\n')\n",
    "    for vertex in graph_vertices:\n",
    "        if bfs_traversal.has_path_to(vertex):\n",
    "            bfs_traversal.path_to(vertex)\n",
    "        else:\n",
    "            print('No path from {source} to {vertex} in the graph by BFS traversal')\n",
    "\n",
    "    dfs_traversal = DepthFirstTraversal(graph, source)\n",
    "\n",
    "    print('*************************************************************************************\\n')\n",
    "    dfs_traversal.dfs(source)\n",
    "\n",
    "    print('*************************************************************************************\\n')\n",
    "    for vertex in graph_vertices:\n",
    "        if dfs_traversal.has_path_to(vertex):\n",
    "            dfs_traversal.path_to(vertex)\n",
    "        else:\n",
    "            print('No path from {source} to {vertex} in the graph by DFS traversal')\n"
   ]
  },
  {
   "cell_type": "markdown",
   "metadata": {
    "id": "c4NY0XOp45O9"
   },
   "source": [
    "## <font color='blue'> Execution Trace: Breadth First Search </font>\n",
    "\n",
    "The image below demonstrates the various stages the BFS algorithm goes through while visiting each vertex in sequence:\n",
    "\n",
    "<img src=\"http://drive.google.com/uc?export=view&id=1AUQC1lg9_3Do3VypFJJgrCEMLdRhHA3M\" width=800px>"
   ]
  },
  {
   "cell_type": "markdown",
   "metadata": {
    "id": "E89mn00g45O-"
   },
   "source": [
    "<img src=\"http://drive.google.com/uc?export=view&id=1sY54X9PcER4NxGZwC_HzKL8yQm-pOxRs\" width=800px>"
   ]
  },
  {
   "cell_type": "markdown",
   "metadata": {
    "id": "H5foT8Ui45O-"
   },
   "source": [
    "<img src=\"http://drive.google.com/uc?export=view&id=1cHYsJgvIS5ceJJP1YTV_BDMHjUmDTLY2\" width=800px>"
   ]
  },
  {
   "cell_type": "markdown",
   "metadata": {
    "id": "5jCb3hxi45O-"
   },
   "source": [
    "<img src=\"http://drive.google.com/uc?export=view&id=1Erx1DLE2Kfj4-WaN-wwrqV_UjDynRcUe\" width=800px>"
   ]
  },
  {
   "cell_type": "markdown",
   "metadata": {
    "id": "zhv5seqN45O-"
   },
   "source": [
    "## <font color='blue'> BFS: Path From Source To Each Vertex </font>\n",
    "\n",
    "The image below displays the paths computed by the BFS algorithm, as it goes about traversing our graph starting at the source vertex.\n",
    "\n",
    "The source vertex is highlighted in GREEN colour.\n",
    "\n",
    "Each destination vertex is highlighted in RED colour.\n",
    "\n",
    "The BFS path from the source to the vertex being considered as the destination, is highlighed in BLUE colour.\n",
    "\n",
    "Note that in the first illustration on the top left, vertex ```0``` is both the source and destination.\n",
    "\n",
    "<img src=\"http://drive.google.com/uc?export=view&id=1_OQbTy4wNAqFvYFuLqJ04WP5erk9WYZu\" width=800px>"
   ]
  },
  {
   "cell_type": "markdown",
   "metadata": {
    "id": "qps5LnzV45O-"
   },
   "source": [
    "<img src=\"http://drive.google.com/uc?export=view&id=1GlFPk4XM80KHLBleV3a5YIFG8yz0EF6E\" width=800px>"
   ]
  },
  {
   "cell_type": "markdown",
   "metadata": {
    "id": "emWd2Lx345O-"
   },
   "source": [
    "## <font color='blue'> Execution Trace: Depth First Search </font>\n",
    "\n",
    "The image below demonstrates the various stages the DFS algorithm goes through while visiting each vertex in sequence:\n",
    "\n",
    "<img src=\"http://drive.google.com/uc?export=view&id=1AktDZq-SGb3ZTLhYXDKp2mpdKP0cU2aY\" width=800px>"
   ]
  },
  {
   "cell_type": "markdown",
   "metadata": {
    "id": "d9IfAqkr45O_"
   },
   "source": [
    "<img src=\"http://drive.google.com/uc?export=view&id=1yu6lmp3UrhnhY4v10u16nqphaJROBdsZ\" width=800px>"
   ]
  },
  {
   "cell_type": "markdown",
   "metadata": {
    "id": "rtrv6Z3V45O_"
   },
   "source": [
    "<img src=\"http://drive.google.com/uc?export=view&id=13KV9Ii2arxMhmPdF29O9KrLhomU0YosF\" width=800px>"
   ]
  },
  {
   "cell_type": "markdown",
   "metadata": {
    "id": "eXuH0LGy45O_"
   },
   "source": [
    "## <font color='blue'> DFS: Path From Source To Each Vertex </font>\n",
    "\n",
    "The image below displays the paths computed by the DFS algorithm, as it goes about traversing our graph starting at the source vertex.\n",
    "\n",
    "The source vertex is highlighted in GREEN colour.\n",
    "\n",
    "Each destination vertex is highlighted in RED colour.\n",
    "\n",
    "The BFS path from the source to the vertex being considered as the destination, is highlighed in VIOLET colour.\n",
    "\n",
    "Note that in the first illustration on the top left, vertex ```0``` is both the source and destination.\n",
    "\n",
    "<img src=\"http://drive.google.com/uc?export=view&id=1Zv1H1SBr3sz_-jFizXzEFbNRrx4-2ET_\" width=800px>"
   ]
  },
  {
   "cell_type": "markdown",
   "metadata": {
    "id": "0mTkNKSF45O_"
   },
   "source": [
    "<img src=\"http://drive.google.com/uc?export=view&id=1eAWL1ec6jueINnMhuuVDcpOBRDnaysOQ\" width=800px>"
   ]
  },
  {
   "cell_type": "markdown",
   "metadata": {
    "id": "5UPCKOhg45O_"
   },
   "source": [
    "# <font color='blue'> Running breadth-first search on the world wide web </font>\n",
    "\n",
    "Here's a short diagram of what a crawler does. This program traverses the web in order to visit as many parts of it as possible.\n",
    "\n",
    "<img src=\"http://drive.google.com/uc?export=view&id=1i9T4PBOAQkYTcjbQSy5fpXiY6jPPIVmp\" width=600px>"
   ]
  },
  {
   "cell_type": "markdown",
   "metadata": {
    "id": "pNWrerQP45PA"
   },
   "source": [
    "The web is a complex network of infinite links connected with each other in numerous ways - it possibly can be called as the earliest and most evolved 'social network' of computers. In fact the nomenclature was derived the other way round.\n",
    "\n",
    "<img src=\"http://drive.google.com/uc?export=view&id=13hGF1nKFTwJlMhRBMBeJuV3YiAGO7QHY\" width=600px>"
   ]
  },
  {
   "cell_type": "markdown",
   "metadata": {
    "id": "75DRcqxw45PA"
   },
   "source": [
    "Here's how a simple web crawler would look like:\n",
    "\n",
    "<img src=\"http://drive.google.com/uc?export=view&id=1_HIk5N0YJOUmorU2X9hamLz409wbDuOI\" width=800px>"
   ]
  },
  {
   "cell_type": "markdown",
   "metadata": {
    "id": "9mCKahgP45PA"
   },
   "source": [
    "Web is a huge graph. So if we try to traverse it, we would be able to visit nodes present on the web. For traversal, we can use BFS as we want to cover the width of the graph and go as wide as possible. \n",
    "\n",
    "A BFS implementation includes a queue which stores all the child nodes of a particular visited node and the crawler logic keeps running until the queue becomes empty.\n",
    "\n",
    "A basic implementation of the crawler would include an in-memory array for the crawl queue. But if you can imagine, the size of this array can increase very rapidly and we might soon reach the heap limit. \n",
    "\n",
    "Another reason not to maintain it in memory is the restriction it puts while using multiple threads for crawling. At scale, you wouldn't run a single instance of the crawler as it will take a large amount of time to traverse even a tiny portion of the web. \n",
    "\n",
    "Since crawling is something that can be done parallely, given we maintain a track of visited links, we can easily deploy multiple instances of crawler visiting links and using a shared queue (Redis or RabbitMQ is recommended).\n",
    "\n",
    "Once we visit a link, we will also store the contents of the link to be processed later. Before saving it, we will pull out all the links present on the page - these are the neighbouring nodes of the link in the web graph. \n",
    "\n",
    "We'll push them to the queue given we haven't visited them earlier and then the crawler will take care of the rest. \n",
    "\n",
    "To save the link content, we'll use MongoDB - a good place to dump unstructured data. Later, we can think of using this data to build an index for us to be able to search over the content.\n",
    "\n",
    "Internally, the queue uses the shared queue to store the URLs.\n",
    "\n",
    "In a famous paper by Andrei Broder and others (2001), the web graph is described to have a bowtie structure. \n",
    "\n",
    "This means that it is made up of a single strongly connected component which has a group of incoming links and another group of outgoing links - forming a shape similar to a bowtie. \n",
    "\n",
    "There are also a few smaller SCCs that are disconnected from the main component.\n",
    "\n",
    "<img src=\"http://drive.google.com/uc?export=view&id=1Erk8Qe3EkNDxPmPzRX-TlFjGhyuB-VUK\" width=800px>"
   ]
  },
  {
   "cell_type": "markdown",
   "metadata": {
    "id": "PsTdhTnV45PA"
   },
   "source": [
    "Here is a sketch of the overall Web Crawler architecture:\n",
    "\n",
    "<img src=\"http://drive.google.com/uc?export=view&id=1wNDgOcCuCpwx4Ijzn8J4YFtp5fvT4CN3\" width=800px>"
   ]
  },
  {
   "cell_type": "markdown",
   "metadata": {
    "id": "N9vfZcDy45PA"
   },
   "source": [
    "The crawling and processing steps are decoupled as they can happen asynchronously. We maintain a separate queue for URLs that have been crawled and need to be processed. \n",
    "\n",
    "The 'Processor' service picks these up and saves them to MongoDB and also adds them to an Elasticsearch instance which would later support searching.\n",
    "\n",
    "To beautify things, we also kept a track of the parent-child relationship for each link and then built a visualization which turned out to be beautiful!\n",
    "\n",
    "<img src=\"http://drive.google.com/uc?export=view&id=1d5xex0UfmpDPDhCJLpDWDzQi_giYOHTy\" width=600px>\n",
    "\n",
    "This is a circular layout in Cytoscape. The dense area on the top denote the links that have several links going outwards. This set of links do not contain nodes that have several links coming inwards."
   ]
  },
  {
   "cell_type": "markdown",
   "metadata": {
    "id": "ey5-pWyb45PA"
   },
   "source": [
    "## <font color='blue'> References </font>\n",
    "\n",
    "1. Running breadth-first search on the world wide web: Mohit Kaerkar's Blog - [https://mohitkarekar.com/posts/2021/bfs-on-the-web/](https://mohitkarekar.com/posts/2021/bfs-on-the-web/)\n",
    "\n",
    "2. All images taken from [https://mohitkarekar.com/posts/2021/bfs-on-the-web/](https://mohitkarekar.com/posts/2021/bfs-on-the-web/)"
   ]
  },
  {
   "cell_type": "markdown",
   "metadata": {
    "id": "pc1tnzt545PB"
   },
   "source": [
    "# <font color='blue'> Maze generation algorithm </font>\n",
    "\n",
    "Maze generation algorithms are automated methods for the creation of mazes.\n",
    "\n",
    "A maze can be generated by starting with a predetermined arrangement of cells (most commonly a rectangular grid but other arrangements are possible) with wall sites between them. \n",
    "\n",
    "This predetermined arrangement can be considered as a connected graph with the edges representing possible wall sites and the nodes representing cells. \n",
    "\n",
    "The purpose of the maze generation algorithm can then be considered to be making a subgraph in which it is challenging to find a route between two particular nodes.\n",
    "\n",
    "If the subgraph is not connected, then there are regions of the graph that are wasted because they do not contribute to the search space. \n",
    "\n",
    "If the graph contains loops, then there may be multiple paths between the chosen nodes. \n",
    "\n",
    "Because of this, maze generation is often approached as generating a random spanning tree.\n",
    "\n",
    "\n",
    "## <font color='blue'> Randomized depth-first search </font>\n",
    "\n",
    "This algorithm, also known as the \"recursive backtracker\" algorithm, is a randomized version of the depth-first search algorithm.\n",
    "\n",
    "Frequently implemented with a stack, this approach is one of the simplest ways to generate a maze using a computer. \n",
    "\n",
    "Consider the space for a maze being a large grid of cells (like a large chess board), each cell starting with four walls. Starting from a random cell, the computer then selects a random neighbouring cell that has not yet been visited. \n",
    "\n",
    "The computer removes the wall between the two cells and marks the new cell as visited, and adds it to the stack to facilitate backtracking. The computer continues this process, with a cell that has no unvisited neighbours being considered a dead-end. \n",
    "\n",
    "When at a dead-end it backtracks through the path until it reaches a cell with an unvisited neighbour, continuing the path generation by visiting this new, unvisited cell (creating a new junction). \n",
    "\n",
    "This process continues until every cell has been visited, causing the computer to backtrack all the way back to the beginning cell. We can be sure every cell is visited.\n",
    "\n",
    "The algorithm can be rearranged into a loop by storing backtracking information in the maze itself. This also provides a quick way to display a solution, by starting at any given point and backtracking to the beginning.\n",
    "\n",
    "<img src=\"http://drive.google.com/uc?export=view&id=1NvCuvFbUQ-x4KzJFbq5tfZC7pmMZgUCz\" width=600px>\n",
    "\n",
    "Mazes generated with a depth-first search have a low branching factor and contain many long corridors, because the algorithm explores as far as possible along each branch before backtracking.\n",
    "\n",
    "The depth-first search algorithm of maze generation is frequently implemented using backtracking. This can be described with a following recursive routine:\n",
    "\n",
    "1. Given a current cell as a parameter\n",
    "\n",
    "2. Mark the current cell as visited\n",
    "\n",
    "3. While the current cell has any unvisited neighbour cells\n",
    "      \n",
    "      a. Choose one of the unvisited neighbours\n",
    "      \n",
    "      b. Remove the wall between the current cell and the chosen cell\n",
    "      \n",
    "      c. Invoke the routine recursively for a chosen cell\n",
    "      \n",
    "      d. which is invoked once for any initial cell in the area."
   ]
  }
 ],
 "metadata": {
  "colab": {
   "name": "C03W05-01-Notebook_Main-Walkthrough_Graph-Algorithms_BFS_DFS.ipynb",
   "provenance": []
  },
  "kernelspec": {
   "display_name": "Python 3",
   "language": "python",
   "name": "python3"
  },
  "language_info": {
   "codemirror_mode": {
    "name": "ipython",
    "version": 3
   },
   "file_extension": ".py",
   "mimetype": "text/x-python",
   "name": "python",
   "nbconvert_exporter": "python",
   "pygments_lexer": "ipython3",
   "version": "3.8.8"
  }
 },
 "nbformat": 4,
 "nbformat_minor": 1
}
