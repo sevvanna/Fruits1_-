{
 "cells": [
  {
   "cell_type": "code",
   "execution_count": 1,
   "metadata": {},
   "outputs": [
    {
     "name": "stdout",
     "output_type": "stream",
     "text": [
      "thenmohi is working on NLP\n"
     ]
    }
   ],
   "source": [
    "# how to create the class\n",
    "class Employee:\n",
    "\n",
    "    def __init__(self,name,age,salary,project):\n",
    "        self.name=name\n",
    "        self.age=age\n",
    "        self.salary=salary\n",
    "        self.project=project\n",
    "    def work(self):\n",
    "        print(self.name ,\"is working on\", self.project)\n",
    "emp = Employee('thenmohi',28,24000,'NLP')\n",
    "emp.work()"
   ]
  },
  {
   "cell_type": "code",
   "execution_count": 6,
   "metadata": {},
   "outputs": [
    {
     "name": "stdout",
     "output_type": "stream",
     "text": [
      "lilly is working on nlp\n",
      "thenmozhi is working on django\n"
     ]
    }
   ],
   "source": [
    "#how we just achieve public members\n",
    "class Employee:\n",
    "    # constructor\n",
    "    def __init__(self, name, salary, project):\n",
    "        # data members\n",
    "        self.name = name\n",
    "        self.salary = salary\n",
    "        self.project = project\n",
    "\n",
    "    # method\n",
    "    # to display employee's details\n",
    "    def show(self):\n",
    "        # accessing public data member\n",
    "        print(\"Name: \", self.name, 'Salary:', self.salary)\n",
    "\n",
    "    # method\n",
    "    def work(self):\n",
    "        print(self.name, 'is working on', self.project)\n",
    "emp=Employee('lilly',15000,'nlp')\n",
    "emp1=Employee('thenmozhi',20000,'django')\n",
    "emp.work()\n",
    "\n",
    "\n"
   ]
  },
  {
   "cell_type": "code",
   "execution_count": 5,
   "metadata": {},
   "outputs": [
    {
     "data": {
      "text/plain": [
       "'malik'"
      ]
     },
     "execution_count": 5,
     "metadata": {},
     "output_type": "execute_result"
    }
   ],
   "source": [
    "class Teacher:\n",
    "    def __init__(self,name):\n",
    "        self.name=name\n",
    "    def getname(self):\n",
    "        return self.name\n",
    "\n",
    "class Student(Teacher):\n",
    "    teac=Teacher(\"lilly\")\n",
    "    teac.getname()\n",
    "stud=Student(\"malik\")\n",
    "stud.getname()"
   ]
  },
  {
   "cell_type": "code",
   "execution_count": 11,
   "metadata": {},
   "outputs": [
    {
     "name": "stdout",
     "output_type": "stream",
     "text": [
      "John Doe\n"
     ]
    }
   ],
   "source": [
    "class Person:\n",
    "  def __init__(self, fname, lname):\n",
    "    self.firstname = fname\n",
    "    self.lastname = lname\n",
    "\n",
    "  def printname(self):\n",
    "    print(self.firstname, self.lastname)\n",
    "  def getname(self):\n",
    "    print(self.firstname)\n",
    "    \n",
    "\n",
    "#Use the Person class to create an object, and then execute the printname method:\n",
    "\n",
    "x = Person(\"John\", \"Doe\")\n",
    "x.printname()"
   ]
  },
  {
   "cell_type": "code",
   "execution_count": 12,
   "metadata": {},
   "outputs": [],
   "source": [
    "class Student(Person):\n",
    "    pass"
   ]
  },
  {
   "cell_type": "code",
   "execution_count": 13,
   "metadata": {},
   "outputs": [
    {
     "name": "stdout",
     "output_type": "stream",
     "text": [
      "Mike Olsen\n",
      "Mike\n"
     ]
    }
   ],
   "source": [
    "x = Student(\"Mike\", \"Olsen\")\n",
    "x.printname()\n",
    "x.getname()"
   ]
  },
  {
   "cell_type": "code",
   "execution_count": null,
   "metadata": {},
   "outputs": [],
   "source": []
  },
  {
   "cell_type": "code",
   "execution_count": 13,
   "metadata": {},
   "outputs": [
    {
     "name": "stdout",
     "output_type": "stream",
     "text": [
      "7th standard\n",
      "I am a girl. My name is Lily. I am 13 years old.\n",
      "7th standard\n",
      "9th standard\n",
      "I am a boy. My name is Jaxon. I am 4 years old.\n",
      "9th standard\n"
     ]
    }
   ],
   "source": [
    "class Girl:\n",
    "    def __init__(self, name, age):\n",
    "        self.name = name\n",
    "        self.age = age\n",
    "\n",
    "    def info(self):\n",
    "        print(f\"I am a girl. My name is {self.name}. I am {self.age} years old.\")\n",
    "\n",
    "    def std(self):\n",
    "        print(\"7th standard\")\n",
    "class Boy:\n",
    "    def __init__(self, name, age):\n",
    "        self.name = name\n",
    "        self.age = age\n",
    "\n",
    "    def info(self):\n",
    "        print(f\"I am a boy. My name is {self.name}. I am {self.age} years old.\")\n",
    "\n",
    "    def std(self):\n",
    "        print(\"9th standard\")\n",
    "girl1 = Girl(\"Lily\", 13)\n",
    "boy1 = Boy(\"Jaxon\", 4)\n",
    "\n",
    "for student in (girl1, boy1):\n",
    "    student.std()\n",
    "    student.info()\n",
    "    student.std()"
   ]
  },
  {
   "cell_type": "code",
   "execution_count": 32,
   "metadata": {},
   "outputs": [
    {
     "name": "stdout",
     "output_type": "stream",
     "text": [
      "I have 3 sides\n",
      "I have 4 sides\n",
      "I have 5 sides\n",
      "I have 6 sides\n"
     ]
    }
   ],
   "source": [
    "# Python program showing\n",
    "# abstract base class work\n",
    "\n",
    "from abc import ABC, abstractmethod\n",
    "\n",
    "class Polygon(ABC):\n",
    "\n",
    "\t@abstractmethod\n",
    "\tdef noofsides(self):\n",
    "\t\tpass\n",
    "\t\n",
    "\tdef area(self):\n",
    "\t\tpass\n",
    "\n",
    "class Triangle(Polygon):\n",
    "\n",
    "\t# overriding abstract method\n",
    "\tdef noofsides(self):\n",
    "\t\tprint(\"I have 3 sides\")\n",
    "\t\n",
    "\n",
    "class Pentagon(Polygon):\n",
    "\n",
    "\t# overriding abstract method\n",
    "\tdef noofsides(self):\n",
    "\t\tprint(\"I have 5 sides\")\n",
    "\tdef area(self):\n",
    "\t\tprint(\"Iam in area of pentagon\")\n",
    "\n",
    "class Hexagon(Polygon):\n",
    "\n",
    "\t# overriding abstract method\n",
    "\tdef noofsides(self):\n",
    "\t\tprint(\"I have 6 sides\")\n",
    "\tdef area(self):\n",
    "\t\tprint(\"Iam in area of hexagon\")\n",
    "\n",
    "class Quadrilateral(Polygon):\n",
    "\n",
    "\t# overriding abstract method\n",
    "\tdef noofsides(self):\n",
    "\t\tprint(\"I have 4 sides\")\n",
    "\tdef area(self):\n",
    "\t\tprint(\"Iam in area of quadrilateral\")\n",
    "\n",
    "# Driver code\n",
    "R = Triangle()\n",
    "R.noofsides()\n",
    "R.area()\n",
    "\n",
    "K = Quadrilateral()\n",
    "K.noofsides()\n",
    "\n",
    "R = Pentagon()\n",
    "R.noofsides()\n",
    "\n",
    "K = Hexagon()\n",
    "K.noofsides()\n"
   ]
  },
  {
   "cell_type": "code",
   "execution_count": 15,
   "metadata": {},
   "outputs": [
    {
     "name": "stdout",
     "output_type": "stream",
     "text": [
      "5\n",
      "3\n"
     ]
    }
   ],
   "source": [
    "# Python program to demonstrate in-built poly-\n",
    "# morphic functions\n",
    " \n",
    "# len() being used for a string\n",
    "print(len(\"geeks\"))\n",
    " \n",
    "# len() being used for a list\n",
    "print(len([10, 20, 30]))\n"
   ]
  },
  {
   "cell_type": "code",
   "execution_count": 33,
   "metadata": {},
   "outputs": [],
   "source": [
    "class animal:\n",
    "    def __init__(self):\n",
    "        pass\n",
    "          \n",
    "    def animalsound(self):\n",
    "        print (\"i sound like an animal\")\n",
    "      "
   ]
  },
  {
   "cell_type": "code",
   "execution_count": 34,
   "metadata": {},
   "outputs": [],
   "source": [
    "class pig(animal):\n",
    "    def __init__(self):\n",
    "        pass\n",
    "    def animalsound(self):\n",
    "        print (\"i sound like an animal\")  \n",
    "     "
   ]
  },
  {
   "cell_type": "code",
   "execution_count": 35,
   "metadata": {},
   "outputs": [],
   "source": [
    "class dog(animal):\n",
    "    def __init__(self):\n",
    "        pass\n",
    "    def animalsound():\n",
    "        print( \"i sound like an animal\")\n"
   ]
  },
  {
   "cell_type": "code",
   "execution_count": 36,
   "metadata": {},
   "outputs": [
    {
     "name": "stdout",
     "output_type": "stream",
     "text": [
      "i sound like an animal\n"
     ]
    }
   ],
   "source": [
    "R=animal()  \n",
    "R.animalsound()\n"
   ]
  },
  {
   "cell_type": "code",
   "execution_count": 23,
   "metadata": {},
   "outputs": [
    {
     "name": "stdout",
     "output_type": "stream",
     "text": [
      "I can eat\n",
      "My name is  Rohu\n"
     ]
    }
   ],
   "source": [
    "class Animal:\n",
    "\n",
    "    # attribute and method of the parent class\n",
    "    name = \"\"\n",
    "    \n",
    "    def eat(self):\n",
    "        print(\"I can eat\")\n",
    "    def display(self):\n",
    "        print(\"sound like an animal\")\n",
    "\n",
    "# inherit from Animal\n",
    "class Dog(Animal):\n",
    "\n",
    "    # new method in subclass\n",
    "    def display(self):\n",
    "        # access name attribute of superclass using self\n",
    "        print(\"My name is \", self.name)\n",
    "\n",
    "# create an object of the subclass\n",
    "labrador = Dog()\n",
    "\n",
    "# access superclass attribute and method \n",
    "labrador.name = \"Rohu\"\n",
    "labrador.eat()\n",
    "\n",
    "# call subclass method \n",
    "labrador.display()\n",
    "\n"
   ]
  },
  {
   "cell_type": "code",
   "execution_count": 20,
   "metadata": {},
   "outputs": [
    {
     "ename": "TypeError",
     "evalue": "animal.animalsound() takes 0 positional arguments but 1 was given",
     "output_type": "error",
     "traceback": [
      "\u001b[1;31m---------------------------------------------------------------------------\u001b[0m",
      "\u001b[1;31mTypeError\u001b[0m                                 Traceback (most recent call last)",
      "Cell \u001b[1;32mIn[20], line 1\u001b[0m\n\u001b[1;32m----> 1\u001b[0m R\u001b[39m.\u001b[39;49manimalsound()\n",
      "\u001b[1;31mTypeError\u001b[0m: animal.animalsound() takes 0 positional arguments but 1 was given"
     ]
    }
   ],
   "source": [
    "R.a"
   ]
  }
 ],
 "metadata": {
  "kernelspec": {
   "display_name": "Python 3",
   "language": "python",
   "name": "python3"
  },
  "language_info": {
   "codemirror_mode": {
    "name": "ipython",
    "version": 3
   },
   "file_extension": ".py",
   "mimetype": "text/x-python",
   "name": "python",
   "nbconvert_exporter": "python",
   "pygments_lexer": "ipython3",
   "version": "3.11.2"
  },
  "orig_nbformat": 4
 },
 "nbformat": 4,
 "nbformat_minor": 2
}
