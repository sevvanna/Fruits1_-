{
 "cells": [
  {
   "cell_type": "code",
   "execution_count": 3,
   "metadata": {},
   "outputs": [],
   "source": [
    "f = open(\"C:\\\\Users\\\\thenu\\\\OneDrive\\\\Desktop\\\\demofile.txt\", \"rt\")"
   ]
  },
  {
   "cell_type": "code",
   "execution_count": 7,
   "metadata": {},
   "outputs": [
    {
     "name": "stdout",
     "output_type": "stream",
     "text": [
      "Tamilselvan\n"
     ]
    }
   ],
   "source": [
    "f = open(\"C:\\\\Users\\\\thenu\\\\OneDrive\\\\Desktop\\\\demofile.txt\", \"r\")\n",
    "print(f.read(14))"
   ]
  },
  {
   "cell_type": "code",
   "execution_count": 23,
   "metadata": {},
   "outputs": [
    {
     "data": {
      "text/plain": [
       "33"
      ]
     },
     "execution_count": 23,
     "metadata": {},
     "output_type": "execute_result"
    }
   ],
   "source": [
    "f1 = open(\"C:\\\\Users\\\\thenu\\\\OneDrive\\\\Desktop\\\\demofile2.txt\", \"w\")\n",
    "f1.write(\"friend in need is a friend indeed\")\n"
   ]
  },
  {
   "cell_type": "code",
   "execution_count": 25,
   "metadata": {},
   "outputs": [
    {
     "name": "stdout",
     "output_type": "stream",
     "text": [
      "friend in need is a \n"
     ]
    }
   ],
   "source": [
    "f3 = open(\"C:\\\\Users\\\\thenu\\\\OneDrive\\\\Desktop\\\\demofile2.txt\", \"r\")\n",
    "print(f3.read(20))"
   ]
  },
  {
   "cell_type": "code",
   "execution_count": 1,
   "metadata": {},
   "outputs": [],
   "source": [
    "import pickle\n",
    "\n"
   ]
  },
  {
   "cell_type": "code",
   "execution_count": 3,
   "metadata": {},
   "outputs": [],
   "source": [
    "import pickle\n",
    "\n",
    "def write():\n",
    "    file = open(\"C:\\\\Users\\\\thenu\\\\OneDrive\\\\Desktop\\\\demofile1.txt\",'wb')\n",
    "    x = [1,2,3,4,5]    #data we wrote in file\n",
    "    pickle.dump(x,file)\n",
    "    file.close()\n",
    "\n",
    "write()"
   ]
  },
  {
   "cell_type": "code",
   "execution_count": 4,
   "metadata": {},
   "outputs": [
    {
     "name": "stdout",
     "output_type": "stream",
     "text": [
      "[1, 2, 3, 4, 5]\n"
     ]
    }
   ],
   "source": [
    "import pickle\n",
    "\n",
    "def read():\n",
    "    file = open(\"C:\\\\Users\\\\thenu\\\\OneDrive\\\\Desktop\\\\demofile1.txt\",'rb')\n",
    "    data = pickle.load(file)\n",
    "    file.close()\n",
    "    print(data)\n",
    "\n",
    "read()"
   ]
  },
  {
   "cell_type": "code",
   "execution_count": null,
   "metadata": {},
   "outputs": [],
   "source": []
  }
 ],
 "metadata": {
  "kernelspec": {
   "display_name": "Python 3",
   "language": "python",
   "name": "python3"
  },
  "language_info": {
   "codemirror_mode": {
    "name": "ipython",
    "version": 3
   },
   "file_extension": ".py",
   "mimetype": "text/x-python",
   "name": "python",
   "nbconvert_exporter": "python",
   "pygments_lexer": "ipython3",
   "version": "3.10.10"
  },
  "orig_nbformat": 4
 },
 "nbformat": 4,
 "nbformat_minor": 2
}
