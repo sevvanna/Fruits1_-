{
 "cells": [
  {
   "cell_type": "markdown",
   "id": "e618baff",
   "metadata": {
    "id": "e618baff"
   },
   "source": [
    "![GL logo.png](data:image/png;base64,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)"
   ]
  },
  {
   "cell_type": "markdown",
   "id": "ba50ca28",
   "metadata": {
    "id": "ba50ca28"
   },
   "source": [
    "# Brain Stroke Prediction"
   ]
  },
  {
   "cell_type": "markdown",
   "id": "a9937ece",
   "metadata": {
    "id": "a9937ece"
   },
   "source": [
    "### Context:\n",
    "\n",
    "A stroke is a medical condition in which poor blood flow to the brain causes cell death. There are two main types of stroke: ischemic, due to lack of blood flow, and hemorrhagic, due to bleeding. Both cause parts of the brain to stop functioning properly. Signs and symptoms of a stroke may include an inability to move or feel on one side of the body, problems understanding or speaking, dizziness, or loss of vision to one side. Signs and symptoms often appear soon after the stroke has occurred. If symptoms last less than one or two hours, the stroke is a transient ischemic attack (TIA), also called a mini-stroke. A hemorrhagic stroke may also be associated with a severe headache. The symptoms of a stroke can be permanent. Long-term complications may include pneumonia and loss of bladder control.\n",
    "\n",
    "The main risk factor for stroke is high blood pressure. Other risk factors include high blood cholesterol, tobacco smoking, obesity, diabetes mellitus, a previous TIA, end-stage kidney disease, and atrial fibrillation. An ischemic stroke is typically caused by blockage of a blood vessel, though there are also less common causes. A hemorrhagic stroke is caused by either bleeding directly into the brain or into the space between the brain's membranes. Bleeding may occur due to a ruptured brain aneurysm. Diagnosis is typically based on a physical exam and is supported by medical imaging such as a CT scan or MRI scan. A CT scan can rule out bleeding, but may not necessarily rule out ischemia, which early on typically does not show up on a CT scan. Other tests such as an electrocardiogram (ECG) and blood tests are done to determine risk factors and rule out other possible causes. Low blood sugar may cause similar symptoms.\n",
    "\n",
    "Prevention includes decreasing risk factors, surgery to open up the arteries to the brain in those with problematic carotid narrowing, and warfarin in people with atrial fibrillation. Aspirin or statins may be recommended by physicians for prevention. A stroke or TIA often requires emergency care. An ischemic stroke, if detected within three to four and half hours, may be treatable with a medication that can break down the clot. Some hemorrhagic strokes benefit from surgery. Treatment to attempt recovery of lost function is called stroke rehabilitation, and ideally takes place in a stroke unit; however, these are not available in much of the world."
   ]
  },
  {
   "cell_type": "markdown",
   "id": "73245002",
   "metadata": {
    "id": "73245002"
   },
   "source": [
    "### Objective:\n",
    "- Build a machine learning model to predict if a person will suffer from Brain Stroke or not by using feature engineering and ensemble methods."
   ]
  },
  {
   "cell_type": "markdown",
   "id": "43d79c94",
   "metadata": {
    "id": "43d79c94"
   },
   "source": [
    "### Dataset Information:\n",
    "Dataset has around 4981 instances and 11 features and includes target column as stroke.(1 = had a stroke or 0 = hasn't suffered from stroke )\n",
    "\n",
    "#### Attribute Information:\n",
    "- **Gender:** Gender of the individual.\n",
    "- **Age:** Age of the individual.\n",
    "- **Hyper Tension:**  0 if the patient doesn't have hypertension, 1 if the patient has hypertension.\n",
    "- **Heart Disease:** 0 if the patient doesn't have any heart diseases, 1 if the patient has a heart disease.\n",
    "- **ever-married:** \"No\" or \"Yes\".\n",
    "- **worktype:** Type of work(\"children\", \"Govtjob\", \"Neverworked\", \"Private\" or \"Self-employed\").\n",
    "- **Residencetype:** \"Rural\" or \"Urban\" residence.\n",
    "- **avgglucoselevel:** average glucose level in blood.\n",
    "- **bmi:** body mass index.\n",
    "- **smoking_status:**  \"formerly smoked\", \"never smoked\", \"smokes\" or \"Unknown\"*.\n",
    "- **stroke:** 1 if the patient had a stroke or 0 if not\n",
    "\n",
    "**Dataset Source: https://www.kaggle.com/datasets/jillanisofttech/brain-stroke-dataset?datasetId=2387714**"
   ]
  },
  {
   "cell_type": "markdown",
   "id": "ef912046",
   "metadata": {
    "id": "ef912046"
   },
   "source": [
    "### 1. Import required Libraries and read the dataset."
   ]
  },
  {
   "cell_type": "code",
   "execution_count": null,
   "id": "1d673164",
   "metadata": {},
   "outputs": [],
   "source": []
  },
  {
   "cell_type": "code",
   "execution_count": 183,
   "id": "44926193",
   "metadata": {
    "executionInfo": {
     "elapsed": 1372,
     "status": "ok",
     "timestamp": 1660294831336,
     "user": {
      "displayName": "V. Arun Kumar",
      "userId": "02991517788843717529"
     },
     "user_tz": -330
    },
    "id": "44926193"
   },
   "outputs": [],
   "source": [
    "import pandas as pd\n",
    "import numpy as np\n",
    "import seaborn as sns\n",
    "import matplotlib.pyplot  as plt   \n",
    "%matplotlib inline\n",
    "import warnings\n",
    "warnings.filterwarnings('ignore')\n",
    "\n",
    "# splitting, scaling, and encoding\n",
    "from sklearn.model_selection import train_test_split\n",
    "from sklearn.preprocessing import StandardScaler\n",
    "\n",
    "# evaluation metrics\n",
    "from sklearn import metrics\n",
    "from sklearn.metrics import recall_score\n",
    "\n",
    "# Models\n",
    "from sklearn.ensemble import RandomForestClassifier\n",
    "from sklearn.tree import DecisionTreeClassifier\n",
    "\n",
    "# Package for handling imbalance data\n",
    "#!pip install imblear\n",
    "from imblearn.over_sampling import SMOTE\n",
    "from imblearn.under_sampling import RandomUnderSampler\n",
    "\n",
    "# Pipeline and transformer\n",
    "from sklearn.pipeline import Pipeline\n",
    "from sklearn.compose import ColumnTransformer\n",
    "\n",
    "#!pip install mlxtend\n",
    "import joblib\n",
    "import sys\n",
    "sys.modules['sklearn.externals.joblib'] = joblib\n",
    "from mlxtend.feature_selection import SequentialFeatureSelector as sfs\n",
    "from mlxtend.plotting import plot_sequential_feature_selection as plot_sfs\n",
    "\n",
    "\n",
    "# Hyperparameter tuning\n",
    "from sklearn.model_selection import RandomizedSearchCV\n",
    "from sklearn.model_selection import GridSearchCV\n",
    "\n",
    "# To view all the columns\n",
    "pd.set_option('display.max_columns', None)"
   ]
  },
  {
   "cell_type": "code",
   "execution_count": 184,
   "id": "3329fc5b",
   "metadata": {
    "executionInfo": {
     "elapsed": 2,
     "status": "ok",
     "timestamp": 1660294834072,
     "user": {
      "displayName": "V. Arun Kumar",
      "userId": "02991517788843717529"
     },
     "user_tz": -330
    },
    "id": "3329fc5b"
   },
   "outputs": [],
   "source": [
    "df = pd.read_csv('brain_stroke.csv')"
   ]
  },
  {
   "cell_type": "markdown",
   "id": "718a1cb3",
   "metadata": {
    "id": "718a1cb3"
   },
   "source": [
    "### 2. Check the first few samples, shape, info of the data and try to familiarize yourself with different features"
   ]
  },
  {
   "cell_type": "code",
   "execution_count": 185,
   "id": "6f9bd502",
   "metadata": {
    "colab": {
     "base_uri": "https://localhost:8080/",
     "height": 206
    },
    "executionInfo": {
     "elapsed": 10,
     "status": "ok",
     "timestamp": 1660294834614,
     "user": {
      "displayName": "V. Arun Kumar",
      "userId": "02991517788843717529"
     },
     "user_tz": -330
    },
    "id": "6f9bd502",
    "outputId": "fbeb1b63-46c7-45ce-d4b3-7aa2deff4db1"
   },
   "outputs": [
    {
     "data": {
      "text/html": [
       "<div>\n",
       "<style scoped>\n",
       "    .dataframe tbody tr th:only-of-type {\n",
       "        vertical-align: middle;\n",
       "    }\n",
       "\n",
       "    .dataframe tbody tr th {\n",
       "        vertical-align: top;\n",
       "    }\n",
       "\n",
       "    .dataframe thead th {\n",
       "        text-align: right;\n",
       "    }\n",
       "</style>\n",
       "<table border=\"1\" class=\"dataframe\">\n",
       "  <thead>\n",
       "    <tr style=\"text-align: right;\">\n",
       "      <th></th>\n",
       "      <th>gender</th>\n",
       "      <th>age</th>\n",
       "      <th>hypertension</th>\n",
       "      <th>heart_disease</th>\n",
       "      <th>ever_married</th>\n",
       "      <th>work_type</th>\n",
       "      <th>Residence_type</th>\n",
       "      <th>avg_glucose_level</th>\n",
       "      <th>bmi</th>\n",
       "      <th>smoking_status</th>\n",
       "      <th>stroke</th>\n",
       "    </tr>\n",
       "  </thead>\n",
       "  <tbody>\n",
       "    <tr>\n",
       "      <th>0</th>\n",
       "      <td>Male</td>\n",
       "      <td>67.0</td>\n",
       "      <td>0</td>\n",
       "      <td>1</td>\n",
       "      <td>Yes</td>\n",
       "      <td>Private</td>\n",
       "      <td>Urban</td>\n",
       "      <td>228.69</td>\n",
       "      <td>36.6</td>\n",
       "      <td>formerly smoked</td>\n",
       "      <td>1</td>\n",
       "    </tr>\n",
       "    <tr>\n",
       "      <th>1</th>\n",
       "      <td>Male</td>\n",
       "      <td>80.0</td>\n",
       "      <td>0</td>\n",
       "      <td>1</td>\n",
       "      <td>Yes</td>\n",
       "      <td>Private</td>\n",
       "      <td>Rural</td>\n",
       "      <td>105.92</td>\n",
       "      <td>32.5</td>\n",
       "      <td>never smoked</td>\n",
       "      <td>1</td>\n",
       "    </tr>\n",
       "    <tr>\n",
       "      <th>2</th>\n",
       "      <td>Female</td>\n",
       "      <td>49.0</td>\n",
       "      <td>0</td>\n",
       "      <td>0</td>\n",
       "      <td>Yes</td>\n",
       "      <td>Private</td>\n",
       "      <td>Urban</td>\n",
       "      <td>171.23</td>\n",
       "      <td>34.4</td>\n",
       "      <td>smokes</td>\n",
       "      <td>1</td>\n",
       "    </tr>\n",
       "    <tr>\n",
       "      <th>3</th>\n",
       "      <td>Female</td>\n",
       "      <td>79.0</td>\n",
       "      <td>1</td>\n",
       "      <td>0</td>\n",
       "      <td>Yes</td>\n",
       "      <td>Self-employed</td>\n",
       "      <td>Rural</td>\n",
       "      <td>174.12</td>\n",
       "      <td>24.0</td>\n",
       "      <td>never smoked</td>\n",
       "      <td>1</td>\n",
       "    </tr>\n",
       "    <tr>\n",
       "      <th>4</th>\n",
       "      <td>Male</td>\n",
       "      <td>81.0</td>\n",
       "      <td>0</td>\n",
       "      <td>0</td>\n",
       "      <td>Yes</td>\n",
       "      <td>Private</td>\n",
       "      <td>Urban</td>\n",
       "      <td>186.21</td>\n",
       "      <td>29.0</td>\n",
       "      <td>formerly smoked</td>\n",
       "      <td>1</td>\n",
       "    </tr>\n",
       "  </tbody>\n",
       "</table>\n",
       "</div>"
      ],
      "text/plain": [
       "   gender   age  hypertension  heart_disease ever_married      work_type  \\\n",
       "0    Male  67.0             0              1          Yes        Private   \n",
       "1    Male  80.0             0              1          Yes        Private   \n",
       "2  Female  49.0             0              0          Yes        Private   \n",
       "3  Female  79.0             1              0          Yes  Self-employed   \n",
       "4    Male  81.0             0              0          Yes        Private   \n",
       "\n",
       "  Residence_type  avg_glucose_level   bmi   smoking_status  stroke  \n",
       "0          Urban             228.69  36.6  formerly smoked       1  \n",
       "1          Rural             105.92  32.5     never smoked       1  \n",
       "2          Urban             171.23  34.4           smokes       1  \n",
       "3          Rural             174.12  24.0     never smoked       1  \n",
       "4          Urban             186.21  29.0  formerly smoked       1  "
      ]
     },
     "execution_count": 185,
     "metadata": {},
     "output_type": "execute_result"
    }
   ],
   "source": [
    "## lets check first few samples\n",
    "df.head()"
   ]
  },
  {
   "cell_type": "code",
   "execution_count": 186,
   "id": "f7ca24d5",
   "metadata": {},
   "outputs": [
    {
     "data": {
      "text/html": [
       "<div>\n",
       "<style scoped>\n",
       "    .dataframe tbody tr th:only-of-type {\n",
       "        vertical-align: middle;\n",
       "    }\n",
       "\n",
       "    .dataframe tbody tr th {\n",
       "        vertical-align: top;\n",
       "    }\n",
       "\n",
       "    .dataframe thead th {\n",
       "        text-align: right;\n",
       "    }\n",
       "</style>\n",
       "<table border=\"1\" class=\"dataframe\">\n",
       "  <thead>\n",
       "    <tr style=\"text-align: right;\">\n",
       "      <th></th>\n",
       "      <th>gender</th>\n",
       "      <th>age</th>\n",
       "      <th>hypertension</th>\n",
       "      <th>heart_disease</th>\n",
       "      <th>ever_married</th>\n",
       "      <th>work_type</th>\n",
       "      <th>Residence_type</th>\n",
       "      <th>avg_glucose_level</th>\n",
       "      <th>bmi</th>\n",
       "      <th>smoking_status</th>\n",
       "      <th>stroke</th>\n",
       "    </tr>\n",
       "  </thead>\n",
       "  <tbody>\n",
       "    <tr>\n",
       "      <th>1169</th>\n",
       "      <td>Female</td>\n",
       "      <td>60.0</td>\n",
       "      <td>0</td>\n",
       "      <td>0</td>\n",
       "      <td>Yes</td>\n",
       "      <td>Private</td>\n",
       "      <td>Urban</td>\n",
       "      <td>57.89</td>\n",
       "      <td>30.9</td>\n",
       "      <td>formerly smoked</td>\n",
       "      <td>0</td>\n",
       "    </tr>\n",
       "    <tr>\n",
       "      <th>4259</th>\n",
       "      <td>Female</td>\n",
       "      <td>52.0</td>\n",
       "      <td>0</td>\n",
       "      <td>0</td>\n",
       "      <td>Yes</td>\n",
       "      <td>Private</td>\n",
       "      <td>Urban</td>\n",
       "      <td>83.84</td>\n",
       "      <td>35.0</td>\n",
       "      <td>Unknown</td>\n",
       "      <td>0</td>\n",
       "    </tr>\n",
       "    <tr>\n",
       "      <th>919</th>\n",
       "      <td>Female</td>\n",
       "      <td>41.0</td>\n",
       "      <td>0</td>\n",
       "      <td>0</td>\n",
       "      <td>Yes</td>\n",
       "      <td>Private</td>\n",
       "      <td>Rural</td>\n",
       "      <td>79.85</td>\n",
       "      <td>45.0</td>\n",
       "      <td>Unknown</td>\n",
       "      <td>0</td>\n",
       "    </tr>\n",
       "    <tr>\n",
       "      <th>3814</th>\n",
       "      <td>Male</td>\n",
       "      <td>51.0</td>\n",
       "      <td>0</td>\n",
       "      <td>0</td>\n",
       "      <td>Yes</td>\n",
       "      <td>Private</td>\n",
       "      <td>Rural</td>\n",
       "      <td>77.07</td>\n",
       "      <td>32.1</td>\n",
       "      <td>formerly smoked</td>\n",
       "      <td>0</td>\n",
       "    </tr>\n",
       "    <tr>\n",
       "      <th>4371</th>\n",
       "      <td>Female</td>\n",
       "      <td>47.0</td>\n",
       "      <td>0</td>\n",
       "      <td>0</td>\n",
       "      <td>Yes</td>\n",
       "      <td>Private</td>\n",
       "      <td>Urban</td>\n",
       "      <td>122.43</td>\n",
       "      <td>23.9</td>\n",
       "      <td>never smoked</td>\n",
       "      <td>0</td>\n",
       "    </tr>\n",
       "    <tr>\n",
       "      <th>3004</th>\n",
       "      <td>Female</td>\n",
       "      <td>76.0</td>\n",
       "      <td>0</td>\n",
       "      <td>0</td>\n",
       "      <td>Yes</td>\n",
       "      <td>Self-employed</td>\n",
       "      <td>Rural</td>\n",
       "      <td>70.29</td>\n",
       "      <td>33.4</td>\n",
       "      <td>formerly smoked</td>\n",
       "      <td>0</td>\n",
       "    </tr>\n",
       "    <tr>\n",
       "      <th>1476</th>\n",
       "      <td>Female</td>\n",
       "      <td>62.0</td>\n",
       "      <td>0</td>\n",
       "      <td>0</td>\n",
       "      <td>Yes</td>\n",
       "      <td>Govt_job</td>\n",
       "      <td>Rural</td>\n",
       "      <td>73.44</td>\n",
       "      <td>23.4</td>\n",
       "      <td>Unknown</td>\n",
       "      <td>0</td>\n",
       "    </tr>\n",
       "    <tr>\n",
       "      <th>4320</th>\n",
       "      <td>Male</td>\n",
       "      <td>65.0</td>\n",
       "      <td>0</td>\n",
       "      <td>0</td>\n",
       "      <td>Yes</td>\n",
       "      <td>Private</td>\n",
       "      <td>Rural</td>\n",
       "      <td>172.86</td>\n",
       "      <td>34.4</td>\n",
       "      <td>never smoked</td>\n",
       "      <td>0</td>\n",
       "    </tr>\n",
       "    <tr>\n",
       "      <th>2804</th>\n",
       "      <td>Male</td>\n",
       "      <td>79.0</td>\n",
       "      <td>0</td>\n",
       "      <td>0</td>\n",
       "      <td>Yes</td>\n",
       "      <td>Self-employed</td>\n",
       "      <td>Rural</td>\n",
       "      <td>103.21</td>\n",
       "      <td>22.9</td>\n",
       "      <td>formerly smoked</td>\n",
       "      <td>0</td>\n",
       "    </tr>\n",
       "    <tr>\n",
       "      <th>4207</th>\n",
       "      <td>Female</td>\n",
       "      <td>2.0</td>\n",
       "      <td>0</td>\n",
       "      <td>0</td>\n",
       "      <td>No</td>\n",
       "      <td>children</td>\n",
       "      <td>Urban</td>\n",
       "      <td>112.75</td>\n",
       "      <td>25.1</td>\n",
       "      <td>Unknown</td>\n",
       "      <td>0</td>\n",
       "    </tr>\n",
       "  </tbody>\n",
       "</table>\n",
       "</div>"
      ],
      "text/plain": [
       "      gender   age  hypertension  heart_disease ever_married      work_type  \\\n",
       "1169  Female  60.0             0              0          Yes        Private   \n",
       "4259  Female  52.0             0              0          Yes        Private   \n",
       "919   Female  41.0             0              0          Yes        Private   \n",
       "3814    Male  51.0             0              0          Yes        Private   \n",
       "4371  Female  47.0             0              0          Yes        Private   \n",
       "3004  Female  76.0             0              0          Yes  Self-employed   \n",
       "1476  Female  62.0             0              0          Yes       Govt_job   \n",
       "4320    Male  65.0             0              0          Yes        Private   \n",
       "2804    Male  79.0             0              0          Yes  Self-employed   \n",
       "4207  Female   2.0             0              0           No       children   \n",
       "\n",
       "     Residence_type  avg_glucose_level   bmi   smoking_status  stroke  \n",
       "1169          Urban              57.89  30.9  formerly smoked       0  \n",
       "4259          Urban              83.84  35.0          Unknown       0  \n",
       "919           Rural              79.85  45.0          Unknown       0  \n",
       "3814          Rural              77.07  32.1  formerly smoked       0  \n",
       "4371          Urban             122.43  23.9     never smoked       0  \n",
       "3004          Rural              70.29  33.4  formerly smoked       0  \n",
       "1476          Rural              73.44  23.4          Unknown       0  \n",
       "4320          Rural             172.86  34.4     never smoked       0  \n",
       "2804          Rural             103.21  22.9  formerly smoked       0  \n",
       "4207          Urban             112.75  25.1          Unknown       0  "
      ]
     },
     "execution_count": 186,
     "metadata": {},
     "output_type": "execute_result"
    }
   ],
   "source": [
    "df.sample(10)"
   ]
  },
  {
   "cell_type": "code",
   "execution_count": 187,
   "id": "4972ee2c",
   "metadata": {
    "colab": {
     "base_uri": "https://localhost:8080/"
    },
    "executionInfo": {
     "elapsed": 7,
     "status": "ok",
     "timestamp": 1660294834615,
     "user": {
      "displayName": "V. Arun Kumar",
      "userId": "02991517788843717529"
     },
     "user_tz": -330
    },
    "id": "4972ee2c",
    "outputId": "2ad34448-ecaa-4856-fa17-c1b8b5b1a110"
   },
   "outputs": [
    {
     "data": {
      "text/plain": [
       "(4981, 11)"
      ]
     },
     "execution_count": 187,
     "metadata": {},
     "output_type": "execute_result"
    }
   ],
   "source": [
    "## Lets check shape of the dataset\n",
    "df.shape"
   ]
  },
  {
   "cell_type": "code",
   "execution_count": 188,
   "id": "216a8d6b",
   "metadata": {
    "colab": {
     "base_uri": "https://localhost:8080/"
    },
    "executionInfo": {
     "elapsed": 6,
     "status": "ok",
     "timestamp": 1660294834615,
     "user": {
      "displayName": "V. Arun Kumar",
      "userId": "02991517788843717529"
     },
     "user_tz": -330
    },
    "id": "216a8d6b",
    "outputId": "d6e2860a-d387-4f68-cdb1-ac8da8885900"
   },
   "outputs": [
    {
     "name": "stdout",
     "output_type": "stream",
     "text": [
      "<class 'pandas.core.frame.DataFrame'>\n",
      "RangeIndex: 4981 entries, 0 to 4980\n",
      "Data columns (total 11 columns):\n",
      " #   Column             Non-Null Count  Dtype  \n",
      "---  ------             --------------  -----  \n",
      " 0   gender             4981 non-null   object \n",
      " 1   age                4981 non-null   float64\n",
      " 2   hypertension       4981 non-null   int64  \n",
      " 3   heart_disease      4981 non-null   int64  \n",
      " 4   ever_married       4981 non-null   object \n",
      " 5   work_type          4981 non-null   object \n",
      " 6   Residence_type     4981 non-null   object \n",
      " 7   avg_glucose_level  4981 non-null   float64\n",
      " 8   bmi                4981 non-null   float64\n",
      " 9   smoking_status     4981 non-null   object \n",
      " 10  stroke             4981 non-null   int64  \n",
      "dtypes: float64(3), int64(3), object(5)\n",
      "memory usage: 428.2+ KB\n"
     ]
    }
   ],
   "source": [
    "## Lets check basic information of the dataset.\n",
    "df.info()"
   ]
  },
  {
   "cell_type": "markdown",
   "id": "80568faf",
   "metadata": {
    "id": "80568faf"
   },
   "source": [
    "- We have around 5K instances and 11 features.\n",
    "- There seems to be no missing values in the dataset.\n",
    "- We have a mix of categorical data as well as numerical data."
   ]
  },
  {
   "cell_type": "markdown",
   "id": "4af0e5f6",
   "metadata": {
    "id": "4af0e5f6"
   },
   "source": [
    "## Data Cleansing and Exploratory data analysis."
   ]
  },
  {
   "cell_type": "markdown",
   "id": "ca3d19cb",
   "metadata": {
    "id": "ca3d19cb"
   },
   "source": [
    "### 3. Check if there are any duplicate records in the dataset? if any drop them, and check the percentage of missing values, if any? treat them with appropriate methods."
   ]
  },
  {
   "cell_type": "code",
   "execution_count": 189,
   "id": "8c361c8c",
   "metadata": {
    "colab": {
     "base_uri": "https://localhost:8080/"
    },
    "executionInfo": {
     "elapsed": 3,
     "status": "ok",
     "timestamp": 1660294837377,
     "user": {
      "displayName": "V. Arun Kumar",
      "userId": "02991517788843717529"
     },
     "user_tz": -330
    },
    "id": "8c361c8c",
    "outputId": "1cf33565-0dda-4423-9d91-245db43376f5"
   },
   "outputs": [
    {
     "data": {
      "text/plain": [
       "0"
      ]
     },
     "execution_count": 189,
     "metadata": {},
     "output_type": "execute_result"
    }
   ],
   "source": [
    "## let us check if there are any duplicated entries\n",
    "len(df[df.duplicated()])"
   ]
  },
  {
   "cell_type": "markdown",
   "id": "30f1e9b7",
   "metadata": {
    "id": "30f1e9b7"
   },
   "source": [
    "- There are no duplicate records in the dataset."
   ]
  },
  {
   "cell_type": "code",
   "execution_count": 190,
   "id": "f778ce94",
   "metadata": {
    "colab": {
     "base_uri": "https://localhost:8080/"
    },
    "executionInfo": {
     "elapsed": 3,
     "status": "ok",
     "timestamp": 1660294838760,
     "user": {
      "displayName": "V. Arun Kumar",
      "userId": "02991517788843717529"
     },
     "user_tz": -330
    },
    "id": "f778ce94",
    "outputId": "29f7feab-8ecf-4afe-fe0c-61192b860efd"
   },
   "outputs": [
    {
     "data": {
      "text/plain": [
       "gender               0.0\n",
       "age                  0.0\n",
       "hypertension         0.0\n",
       "heart_disease        0.0\n",
       "ever_married         0.0\n",
       "work_type            0.0\n",
       "Residence_type       0.0\n",
       "avg_glucose_level    0.0\n",
       "bmi                  0.0\n",
       "smoking_status       0.0\n",
       "stroke               0.0\n",
       "dtype: float64"
      ]
     },
     "execution_count": 190,
     "metadata": {},
     "output_type": "execute_result"
    }
   ],
   "source": [
    "## Let us check for the percentage of missing values.\n",
    "df.isnull().sum()/len(df)*100"
   ]
  },
  {
   "cell_type": "markdown",
   "id": "ea65c0b4",
   "metadata": {
    "id": "ea65c0b4"
   },
   "source": [
    "### 4. Check summary statistics of the dataset, and write your key observations."
   ]
  },
  {
   "cell_type": "code",
   "execution_count": 191,
   "id": "db4e17cf",
   "metadata": {
    "colab": {
     "base_uri": "https://localhost:8080/",
     "height": 300
    },
    "executionInfo": {
     "elapsed": 4201,
     "status": "ok",
     "timestamp": 1660294849133,
     "user": {
      "displayName": "V. Arun Kumar",
      "userId": "02991517788843717529"
     },
     "user_tz": -330
    },
    "id": "db4e17cf",
    "outputId": "1d3ee08e-f52c-4ef3-9dd7-0a023ed81c08"
   },
   "outputs": [
    {
     "data": {
      "text/html": [
       "<div>\n",
       "<style scoped>\n",
       "    .dataframe tbody tr th:only-of-type {\n",
       "        vertical-align: middle;\n",
       "    }\n",
       "\n",
       "    .dataframe tbody tr th {\n",
       "        vertical-align: top;\n",
       "    }\n",
       "\n",
       "    .dataframe thead th {\n",
       "        text-align: right;\n",
       "    }\n",
       "</style>\n",
       "<table border=\"1\" class=\"dataframe\">\n",
       "  <thead>\n",
       "    <tr style=\"text-align: right;\">\n",
       "      <th></th>\n",
       "      <th>age</th>\n",
       "      <th>hypertension</th>\n",
       "      <th>heart_disease</th>\n",
       "      <th>avg_glucose_level</th>\n",
       "      <th>bmi</th>\n",
       "      <th>stroke</th>\n",
       "    </tr>\n",
       "  </thead>\n",
       "  <tbody>\n",
       "    <tr>\n",
       "      <th>count</th>\n",
       "      <td>4981.000000</td>\n",
       "      <td>4981.000000</td>\n",
       "      <td>4981.000000</td>\n",
       "      <td>4981.000000</td>\n",
       "      <td>4981.000000</td>\n",
       "      <td>4981.000000</td>\n",
       "    </tr>\n",
       "    <tr>\n",
       "      <th>mean</th>\n",
       "      <td>43.419859</td>\n",
       "      <td>0.096165</td>\n",
       "      <td>0.055210</td>\n",
       "      <td>105.943562</td>\n",
       "      <td>28.498173</td>\n",
       "      <td>0.049789</td>\n",
       "    </tr>\n",
       "    <tr>\n",
       "      <th>std</th>\n",
       "      <td>22.662755</td>\n",
       "      <td>0.294848</td>\n",
       "      <td>0.228412</td>\n",
       "      <td>45.075373</td>\n",
       "      <td>6.790464</td>\n",
       "      <td>0.217531</td>\n",
       "    </tr>\n",
       "    <tr>\n",
       "      <th>min</th>\n",
       "      <td>0.080000</td>\n",
       "      <td>0.000000</td>\n",
       "      <td>0.000000</td>\n",
       "      <td>55.120000</td>\n",
       "      <td>14.000000</td>\n",
       "      <td>0.000000</td>\n",
       "    </tr>\n",
       "    <tr>\n",
       "      <th>25%</th>\n",
       "      <td>25.000000</td>\n",
       "      <td>0.000000</td>\n",
       "      <td>0.000000</td>\n",
       "      <td>77.230000</td>\n",
       "      <td>23.700000</td>\n",
       "      <td>0.000000</td>\n",
       "    </tr>\n",
       "    <tr>\n",
       "      <th>50%</th>\n",
       "      <td>45.000000</td>\n",
       "      <td>0.000000</td>\n",
       "      <td>0.000000</td>\n",
       "      <td>91.850000</td>\n",
       "      <td>28.100000</td>\n",
       "      <td>0.000000</td>\n",
       "    </tr>\n",
       "    <tr>\n",
       "      <th>75%</th>\n",
       "      <td>61.000000</td>\n",
       "      <td>0.000000</td>\n",
       "      <td>0.000000</td>\n",
       "      <td>113.860000</td>\n",
       "      <td>32.600000</td>\n",
       "      <td>0.000000</td>\n",
       "    </tr>\n",
       "    <tr>\n",
       "      <th>max</th>\n",
       "      <td>82.000000</td>\n",
       "      <td>1.000000</td>\n",
       "      <td>1.000000</td>\n",
       "      <td>271.740000</td>\n",
       "      <td>48.900000</td>\n",
       "      <td>1.000000</td>\n",
       "    </tr>\n",
       "  </tbody>\n",
       "</table>\n",
       "</div>"
      ],
      "text/plain": [
       "               age  hypertension  heart_disease  avg_glucose_level  \\\n",
       "count  4981.000000   4981.000000    4981.000000        4981.000000   \n",
       "mean     43.419859      0.096165       0.055210         105.943562   \n",
       "std      22.662755      0.294848       0.228412          45.075373   \n",
       "min       0.080000      0.000000       0.000000          55.120000   \n",
       "25%      25.000000      0.000000       0.000000          77.230000   \n",
       "50%      45.000000      0.000000       0.000000          91.850000   \n",
       "75%      61.000000      0.000000       0.000000         113.860000   \n",
       "max      82.000000      1.000000       1.000000         271.740000   \n",
       "\n",
       "               bmi       stroke  \n",
       "count  4981.000000  4981.000000  \n",
       "mean     28.498173     0.049789  \n",
       "std       6.790464     0.217531  \n",
       "min      14.000000     0.000000  \n",
       "25%      23.700000     0.000000  \n",
       "50%      28.100000     0.000000  \n",
       "75%      32.600000     0.000000  \n",
       "max      48.900000     1.000000  "
      ]
     },
     "execution_count": 191,
     "metadata": {},
     "output_type": "execute_result"
    }
   ],
   "source": [
    "df.describe() ## summay for numerical columns"
   ]
  },
  {
   "cell_type": "markdown",
   "id": "7f243c92",
   "metadata": {
    "id": "7f243c92"
   },
   "source": [
    "- The maximum applied loan amount is 35000 dollars and minimum is 1014 dollars.\n",
    "- The average term of loan is 58 months.\n",
    "- The maximum Interest rate of the loan is 27%.\n",
    "- The average Total received interest is around 2000 dollars.\n",
    "- The maximum Total received late fee charges is around 42 dollars."
   ]
  },
  {
   "cell_type": "code",
   "execution_count": 192,
   "id": "bc454d6f",
   "metadata": {
    "colab": {
     "base_uri": "https://localhost:8080/",
     "height": 175
    },
    "executionInfo": {
     "elapsed": 16,
     "status": "ok",
     "timestamp": 1660294850680,
     "user": {
      "displayName": "V. Arun Kumar",
      "userId": "02991517788843717529"
     },
     "user_tz": -330
    },
    "id": "bc454d6f",
    "outputId": "114985ea-e705-4f49-fe4b-4ed026f04639"
   },
   "outputs": [
    {
     "data": {
      "text/html": [
       "<div>\n",
       "<style scoped>\n",
       "    .dataframe tbody tr th:only-of-type {\n",
       "        vertical-align: middle;\n",
       "    }\n",
       "\n",
       "    .dataframe tbody tr th {\n",
       "        vertical-align: top;\n",
       "    }\n",
       "\n",
       "    .dataframe thead th {\n",
       "        text-align: right;\n",
       "    }\n",
       "</style>\n",
       "<table border=\"1\" class=\"dataframe\">\n",
       "  <thead>\n",
       "    <tr style=\"text-align: right;\">\n",
       "      <th></th>\n",
       "      <th>gender</th>\n",
       "      <th>ever_married</th>\n",
       "      <th>work_type</th>\n",
       "      <th>Residence_type</th>\n",
       "      <th>smoking_status</th>\n",
       "    </tr>\n",
       "  </thead>\n",
       "  <tbody>\n",
       "    <tr>\n",
       "      <th>count</th>\n",
       "      <td>4981</td>\n",
       "      <td>4981</td>\n",
       "      <td>4981</td>\n",
       "      <td>4981</td>\n",
       "      <td>4981</td>\n",
       "    </tr>\n",
       "    <tr>\n",
       "      <th>unique</th>\n",
       "      <td>2</td>\n",
       "      <td>2</td>\n",
       "      <td>4</td>\n",
       "      <td>2</td>\n",
       "      <td>4</td>\n",
       "    </tr>\n",
       "    <tr>\n",
       "      <th>top</th>\n",
       "      <td>Female</td>\n",
       "      <td>Yes</td>\n",
       "      <td>Private</td>\n",
       "      <td>Urban</td>\n",
       "      <td>never smoked</td>\n",
       "    </tr>\n",
       "    <tr>\n",
       "      <th>freq</th>\n",
       "      <td>2907</td>\n",
       "      <td>3280</td>\n",
       "      <td>2860</td>\n",
       "      <td>2532</td>\n",
       "      <td>1838</td>\n",
       "    </tr>\n",
       "  </tbody>\n",
       "</table>\n",
       "</div>"
      ],
      "text/plain": [
       "        gender ever_married work_type Residence_type smoking_status\n",
       "count     4981         4981      4981           4981           4981\n",
       "unique       2            2         4              2              4\n",
       "top     Female          Yes   Private          Urban   never smoked\n",
       "freq      2907         3280      2860           2532           1838"
      ]
     },
     "execution_count": 192,
     "metadata": {},
     "output_type": "execute_result"
    }
   ],
   "source": [
    "df.describe(include='O') ## summary for categorical columns"
   ]
  },
  {
   "cell_type": "markdown",
   "id": "007d34bd",
   "metadata": {
    "id": "007d34bd"
   },
   "source": [
    "- Employment Duration, Verification Status features has 3 unique categories.\n",
    "- Initial List status, Application Type has 2 unique categories.\n",
    "- Batch Enrolled has 41, and Subgrade has 35, Loan Title has 109 unique categories. (need to drop, since there are many subcategories, also redundant for our analyis)"
   ]
  },
  {
   "cell_type": "markdown",
   "id": "7d72fd96",
   "metadata": {
    "id": "7d72fd96"
   },
   "source": [
    "### 5. Drop the columns which you think redundant for the analysis."
   ]
  },
  {
   "cell_type": "markdown",
   "id": "BZ_f9YebEpdk",
   "metadata": {
    "id": "BZ_f9YebEpdk"
   },
   "source": [
    " As of now we don't see any redundant features in the dataset. Hence, no features would be dropped"
   ]
  },
  {
   "cell_type": "markdown",
   "id": "acae40f5",
   "metadata": {
    "id": "acae40f5"
   },
   "source": [
    "### 6. Plot a pairplot to see how the features interact with one another"
   ]
  },
  {
   "cell_type": "code",
   "execution_count": 193,
   "id": "38312c28",
   "metadata": {
    "colab": {
     "base_uri": "https://localhost:8080/",
     "height": 1000
    },
    "executionInfo": {
     "elapsed": 15533,
     "status": "ok",
     "timestamp": 1660294871195,
     "user": {
      "displayName": "V. Arun Kumar",
      "userId": "02991517788843717529"
     },
     "user_tz": -330
    },
    "id": "38312c28",
    "outputId": "39fe1311-093e-45ad-e92b-82310242b33b"
   },
   "outputs": [
    {
     "data": {
      "image/png": "[encoded data removed]",
      "text/plain": [
       "<Figure size 1080x1080 with 42 Axes>"
      ]
     },
     "metadata": {
      "needs_background": "light"
     },
     "output_type": "display_data"
    }
   ],
   "source": [
    "## perform necessary univariate and multivariate analaysis.\n",
    "sns.pairplot(df)\n",
    "plt.show()"
   ]
  },
  {
   "cell_type": "markdown",
   "id": "evUrqxqzJ9-O",
   "metadata": {
    "id": "evUrqxqzJ9-O"
   },
   "source": [
    "From the above pairplot we can observe that:\n",
    "- Most of the individuals whose age is in the range of 0 to 40 don't suffer from any heart diseases exceot in few cases.\n",
    "\n",
    "- Similarly individuals in the age group of 0 to 20 dont' suffer from Hypertension but the population in the remaining age groups are suffering from HyperTension.\n",
    "\n",
    "- As age increases the avgglucose level is increasing which is and few exceptional cases the values are very high at a very young age.\n",
    "\n",
    "- Again wrt age we see that most of the individuals aren't having the desired BMI index as per their age but more than it in more than 80% of the cases.\n",
    "\n",
    "- Glucose level of a person help in indicating whether or not the person would suffer from brain stroke.\n",
    "\n"
   ]
  },
  {
   "cell_type": "code",
   "execution_count": 194,
   "id": "E7apJZqUNoWr",
   "metadata": {
    "colab": {
     "base_uri": "https://localhost:8080/",
     "height": 237
    },
    "executionInfo": {
     "elapsed": 21,
     "status": "ok",
     "timestamp": 1660294871196,
     "user": {
      "displayName": "V. Arun Kumar",
      "userId": "02991517788843717529"
     },
     "user_tz": -330
    },
    "id": "E7apJZqUNoWr",
    "outputId": "f2846da5-5aaa-45ff-e44c-ffdd346b9c60"
   },
   "outputs": [
    {
     "data": {
      "text/html": [
       "<div>\n",
       "<style scoped>\n",
       "    .dataframe tbody tr th:only-of-type {\n",
       "        vertical-align: middle;\n",
       "    }\n",
       "\n",
       "    .dataframe tbody tr th {\n",
       "        vertical-align: top;\n",
       "    }\n",
       "\n",
       "    .dataframe thead th {\n",
       "        text-align: right;\n",
       "    }\n",
       "</style>\n",
       "<table border=\"1\" class=\"dataframe\">\n",
       "  <thead>\n",
       "    <tr style=\"text-align: right;\">\n",
       "      <th></th>\n",
       "      <th>age</th>\n",
       "      <th>hypertension</th>\n",
       "      <th>heart_disease</th>\n",
       "      <th>avg_glucose_level</th>\n",
       "      <th>bmi</th>\n",
       "      <th>stroke</th>\n",
       "    </tr>\n",
       "  </thead>\n",
       "  <tbody>\n",
       "    <tr>\n",
       "      <th>age</th>\n",
       "      <td>1.000000</td>\n",
       "      <td>0.278120</td>\n",
       "      <td>0.264852</td>\n",
       "      <td>0.236763</td>\n",
       "      <td>0.373703</td>\n",
       "      <td>0.246478</td>\n",
       "    </tr>\n",
       "    <tr>\n",
       "      <th>hypertension</th>\n",
       "      <td>0.278120</td>\n",
       "      <td>1.000000</td>\n",
       "      <td>0.111974</td>\n",
       "      <td>0.170028</td>\n",
       "      <td>0.158762</td>\n",
       "      <td>0.131965</td>\n",
       "    </tr>\n",
       "    <tr>\n",
       "      <th>heart_disease</th>\n",
       "      <td>0.264852</td>\n",
       "      <td>0.111974</td>\n",
       "      <td>1.000000</td>\n",
       "      <td>0.166847</td>\n",
       "      <td>0.060926</td>\n",
       "      <td>0.134610</td>\n",
       "    </tr>\n",
       "    <tr>\n",
       "      <th>avg_glucose_level</th>\n",
       "      <td>0.236763</td>\n",
       "      <td>0.170028</td>\n",
       "      <td>0.166847</td>\n",
       "      <td>1.000000</td>\n",
       "      <td>0.186348</td>\n",
       "      <td>0.133227</td>\n",
       "    </tr>\n",
       "    <tr>\n",
       "      <th>bmi</th>\n",
       "      <td>0.373703</td>\n",
       "      <td>0.158762</td>\n",
       "      <td>0.060926</td>\n",
       "      <td>0.186348</td>\n",
       "      <td>1.000000</td>\n",
       "      <td>0.056926</td>\n",
       "    </tr>\n",
       "    <tr>\n",
       "      <th>stroke</th>\n",
       "      <td>0.246478</td>\n",
       "      <td>0.131965</td>\n",
       "      <td>0.134610</td>\n",
       "      <td>0.133227</td>\n",
       "      <td>0.056926</td>\n",
       "      <td>1.000000</td>\n",
       "    </tr>\n",
       "  </tbody>\n",
       "</table>\n",
       "</div>"
      ],
      "text/plain": [
       "                        age  hypertension  heart_disease  avg_glucose_level  \\\n",
       "age                1.000000      0.278120       0.264852           0.236763   \n",
       "hypertension       0.278120      1.000000       0.111974           0.170028   \n",
       "heart_disease      0.264852      0.111974       1.000000           0.166847   \n",
       "avg_glucose_level  0.236763      0.170028       0.166847           1.000000   \n",
       "bmi                0.373703      0.158762       0.060926           0.186348   \n",
       "stroke             0.246478      0.131965       0.134610           0.133227   \n",
       "\n",
       "                        bmi    stroke  \n",
       "age                0.373703  0.246478  \n",
       "hypertension       0.158762  0.131965  \n",
       "heart_disease      0.060926  0.134610  \n",
       "avg_glucose_level  0.186348  0.133227  \n",
       "bmi                1.000000  0.056926  \n",
       "stroke             0.056926  1.000000  "
      ]
     },
     "execution_count": 194,
     "metadata": {},
     "output_type": "execute_result"
    }
   ],
   "source": [
    "# To check the correlation \n",
    "df.corr()"
   ]
  },
  {
   "cell_type": "markdown",
   "id": "nOAUxW-JSXpd",
   "metadata": {
    "id": "nOAUxW-JSXpd"
   },
   "source": [
    "- From the above correlation table we can see that age has a high correlation with all the other features in the dataset as compared to correlation of other individual features with the remaining features of the dataset.\n",
    "\n",
    "- The correlation between glucose level and hypertension is at 0.170028, similarly hypertension has correlation with bmi and the target variable stroke.\n",
    "\n",
    "- The heart disease is also fairly correlated with glucose level and in predicting stroke.\n",
    "\n",
    "- BMI has a very less correlation with heart_disease and stroke."
   ]
  },
  {
   "cell_type": "markdown",
   "id": "93d78405",
   "metadata": {
    "id": "93d78405"
   },
   "source": [
    "### 7. Check the distribution of the target column 'stroke', and comment on the class distribution"
   ]
  },
  {
   "cell_type": "code",
   "execution_count": 195,
   "id": "o0nyjGZ5vRhh",
   "metadata": {
    "colab": {
     "base_uri": "https://localhost:8080/"
    },
    "executionInfo": {
     "elapsed": 553,
     "status": "ok",
     "timestamp": 1660296007826,
     "user": {
      "displayName": "V. Arun Kumar",
      "userId": "02991517788843717529"
     },
     "user_tz": -330
    },
    "id": "o0nyjGZ5vRhh",
    "outputId": "4bc62400-3cfd-4230-f90d-bfed56055304"
   },
   "outputs": [
    {
     "data": {
      "text/plain": [
       "array([1, 0])"
      ]
     },
     "execution_count": 195,
     "metadata": {},
     "output_type": "execute_result"
    }
   ],
   "source": [
    "df['stroke'].unique()"
   ]
  },
  {
   "cell_type": "code",
   "execution_count": 196,
   "id": "_S-S-DO9vlo7",
   "metadata": {
    "colab": {
     "base_uri": "https://localhost:8080/"
    },
    "executionInfo": {
     "elapsed": 20,
     "status": "ok",
     "timestamp": 1660296009361,
     "user": {
      "displayName": "V. Arun Kumar",
      "userId": "02991517788843717529"
     },
     "user_tz": -330
    },
    "id": "_S-S-DO9vlo7",
    "outputId": "273f6eea-2038-446f-d5d6-d460e1ae8286"
   },
   "outputs": [
    {
     "data": {
      "text/plain": [
       "0    4733\n",
       "1     248\n",
       "Name: stroke, dtype: int64"
      ]
     },
     "execution_count": 196,
     "metadata": {},
     "output_type": "execute_result"
    }
   ],
   "source": [
    "df['stroke'].value_counts()"
   ]
  },
  {
   "cell_type": "code",
   "execution_count": 197,
   "id": "31dd7f4c",
   "metadata": {
    "colab": {
     "base_uri": "https://localhost:8080/",
     "height": 279
    },
    "executionInfo": {
     "elapsed": 17,
     "status": "ok",
     "timestamp": 1660296009361,
     "user": {
      "displayName": "V. Arun Kumar",
      "userId": "02991517788843717529"
     },
     "user_tz": -330
    },
    "id": "31dd7f4c",
    "outputId": "8bf45720-db14-44d5-9a27-49c4c79b595b"
   },
   "outputs": [
    {
     "data": {
      "image/png": "[encoded data removed]",
      "text/plain": [
       "<Figure size 432x288 with 1 Axes>"
      ]
     },
     "metadata": {
      "needs_background": "light"
     },
     "output_type": "display_data"
    }
   ],
   "source": [
    "sns.countplot(df['stroke'])\n",
    "plt.show()"
   ]
  },
  {
   "cell_type": "markdown",
   "id": "e5a08672",
   "metadata": {
    "id": "e5a08672"
   },
   "source": [
    "- The target class is highly imbalanced. \n",
    "- In this case the classifier will always predicts the most common class without performing any analysis of the features and it will have a high accuracy rate, where the accuray is not good metric in such cases.\n",
    "- In such cases we need to go for handling the imbalance dataset using oversampling or downsampling approaches."
   ]
  },
  {
   "cell_type": "markdown",
   "id": "f4b285c1",
   "metadata": {
    "id": "f4b285c1"
   },
   "source": [
    "## Data Preparation for the Model building"
   ]
  },
  {
   "cell_type": "markdown",
   "id": "5dcb977d",
   "metadata": {
    "id": "5dcb977d"
   },
   "source": [
    "### 8. Segregate the target and independent features."
   ]
  },
  {
   "cell_type": "code",
   "execution_count": 198,
   "id": "4796fa2b",
   "metadata": {
    "executionInfo": {
     "elapsed": 16,
     "status": "ok",
     "timestamp": 1660296009362,
     "user": {
      "displayName": "V. Arun Kumar",
      "userId": "02991517788843717529"
     },
     "user_tz": -330
    },
    "id": "4796fa2b"
   },
   "outputs": [],
   "source": [
    "X = df.drop('stroke',axis=1)\n",
    "y = df['stroke']"
   ]
  },
  {
   "cell_type": "code",
   "execution_count": 199,
   "id": "bWd_j4O8822q",
   "metadata": {
    "colab": {
     "base_uri": "https://localhost:8080/",
     "height": 206
    },
    "executionInfo": {
     "elapsed": 16,
     "status": "ok",
     "timestamp": 1660296009362,
     "user": {
      "displayName": "V. Arun Kumar",
      "userId": "02991517788843717529"
     },
     "user_tz": -330
    },
    "id": "bWd_j4O8822q",
    "outputId": "ccee1536-19e6-49b7-be8c-dd10ed4c2302"
   },
   "outputs": [
    {
     "data": {
      "text/html": [
       "<div>\n",
       "<style scoped>\n",
       "    .dataframe tbody tr th:only-of-type {\n",
       "        vertical-align: middle;\n",
       "    }\n",
       "\n",
       "    .dataframe tbody tr th {\n",
       "        vertical-align: top;\n",
       "    }\n",
       "\n",
       "    .dataframe thead th {\n",
       "        text-align: right;\n",
       "    }\n",
       "</style>\n",
       "<table border=\"1\" class=\"dataframe\">\n",
       "  <thead>\n",
       "    <tr style=\"text-align: right;\">\n",
       "      <th></th>\n",
       "      <th>gender</th>\n",
       "      <th>age</th>\n",
       "      <th>hypertension</th>\n",
       "      <th>heart_disease</th>\n",
       "      <th>ever_married</th>\n",
       "      <th>work_type</th>\n",
       "      <th>Residence_type</th>\n",
       "      <th>avg_glucose_level</th>\n",
       "      <th>bmi</th>\n",
       "      <th>smoking_status</th>\n",
       "    </tr>\n",
       "  </thead>\n",
       "  <tbody>\n",
       "    <tr>\n",
       "      <th>0</th>\n",
       "      <td>Male</td>\n",
       "      <td>67.0</td>\n",
       "      <td>0</td>\n",
       "      <td>1</td>\n",
       "      <td>Yes</td>\n",
       "      <td>Private</td>\n",
       "      <td>Urban</td>\n",
       "      <td>228.69</td>\n",
       "      <td>36.6</td>\n",
       "      <td>formerly smoked</td>\n",
       "    </tr>\n",
       "    <tr>\n",
       "      <th>1</th>\n",
       "      <td>Male</td>\n",
       "      <td>80.0</td>\n",
       "      <td>0</td>\n",
       "      <td>1</td>\n",
       "      <td>Yes</td>\n",
       "      <td>Private</td>\n",
       "      <td>Rural</td>\n",
       "      <td>105.92</td>\n",
       "      <td>32.5</td>\n",
       "      <td>never smoked</td>\n",
       "    </tr>\n",
       "    <tr>\n",
       "      <th>2</th>\n",
       "      <td>Female</td>\n",
       "      <td>49.0</td>\n",
       "      <td>0</td>\n",
       "      <td>0</td>\n",
       "      <td>Yes</td>\n",
       "      <td>Private</td>\n",
       "      <td>Urban</td>\n",
       "      <td>171.23</td>\n",
       "      <td>34.4</td>\n",
       "      <td>smokes</td>\n",
       "    </tr>\n",
       "    <tr>\n",
       "      <th>3</th>\n",
       "      <td>Female</td>\n",
       "      <td>79.0</td>\n",
       "      <td>1</td>\n",
       "      <td>0</td>\n",
       "      <td>Yes</td>\n",
       "      <td>Self-employed</td>\n",
       "      <td>Rural</td>\n",
       "      <td>174.12</td>\n",
       "      <td>24.0</td>\n",
       "      <td>never smoked</td>\n",
       "    </tr>\n",
       "    <tr>\n",
       "      <th>4</th>\n",
       "      <td>Male</td>\n",
       "      <td>81.0</td>\n",
       "      <td>0</td>\n",
       "      <td>0</td>\n",
       "      <td>Yes</td>\n",
       "      <td>Private</td>\n",
       "      <td>Urban</td>\n",
       "      <td>186.21</td>\n",
       "      <td>29.0</td>\n",
       "      <td>formerly smoked</td>\n",
       "    </tr>\n",
       "  </tbody>\n",
       "</table>\n",
       "</div>"
      ],
      "text/plain": [
       "   gender   age  hypertension  heart_disease ever_married      work_type  \\\n",
       "0    Male  67.0             0              1          Yes        Private   \n",
       "1    Male  80.0             0              1          Yes        Private   \n",
       "2  Female  49.0             0              0          Yes        Private   \n",
       "3  Female  79.0             1              0          Yes  Self-employed   \n",
       "4    Male  81.0             0              0          Yes        Private   \n",
       "\n",
       "  Residence_type  avg_glucose_level   bmi   smoking_status  \n",
       "0          Urban             228.69  36.6  formerly smoked  \n",
       "1          Rural             105.92  32.5     never smoked  \n",
       "2          Urban             171.23  34.4           smokes  \n",
       "3          Rural             174.12  24.0     never smoked  \n",
       "4          Urban             186.21  29.0  formerly smoked  "
      ]
     },
     "execution_count": 199,
     "metadata": {},
     "output_type": "execute_result"
    }
   ],
   "source": [
    "X.head()"
   ]
  },
  {
   "cell_type": "markdown",
   "id": "dc0e3086",
   "metadata": {
    "id": "dc0e3086"
   },
   "source": [
    "### 9. Encode the categorical data."
   ]
  },
  {
   "cell_type": "code",
   "execution_count": 200,
   "id": "e468b316",
   "metadata": {
    "colab": {
     "base_uri": "https://localhost:8080/",
     "height": 193
    },
    "executionInfo": {
     "elapsed": 15,
     "status": "ok",
     "timestamp": 1660296009362,
     "user": {
      "displayName": "V. Arun Kumar",
      "userId": "02991517788843717529"
     },
     "user_tz": -330
    },
    "id": "e468b316",
    "outputId": "778880c0-621e-4f35-dfce-e4e2de06eaa8"
   },
   "outputs": [
    {
     "data": {
      "text/html": [
       "<div>\n",
       "<style scoped>\n",
       "    .dataframe tbody tr th:only-of-type {\n",
       "        vertical-align: middle;\n",
       "    }\n",
       "\n",
       "    .dataframe tbody tr th {\n",
       "        vertical-align: top;\n",
       "    }\n",
       "\n",
       "    .dataframe thead th {\n",
       "        text-align: right;\n",
       "    }\n",
       "</style>\n",
       "<table border=\"1\" class=\"dataframe\">\n",
       "  <thead>\n",
       "    <tr style=\"text-align: right;\">\n",
       "      <th></th>\n",
       "      <th>age</th>\n",
       "      <th>hypertension</th>\n",
       "      <th>heart_disease</th>\n",
       "      <th>avg_glucose_level</th>\n",
       "      <th>bmi</th>\n",
       "      <th>gender_Male</th>\n",
       "      <th>ever_married_Yes</th>\n",
       "      <th>work_type_Private</th>\n",
       "      <th>work_type_Self-employed</th>\n",
       "      <th>work_type_children</th>\n",
       "      <th>Residence_type_Urban</th>\n",
       "      <th>smoking_status_formerly smoked</th>\n",
       "      <th>smoking_status_never smoked</th>\n",
       "      <th>smoking_status_smokes</th>\n",
       "    </tr>\n",
       "  </thead>\n",
       "  <tbody>\n",
       "    <tr>\n",
       "      <th>0</th>\n",
       "      <td>67.0</td>\n",
       "      <td>0</td>\n",
       "      <td>1</td>\n",
       "      <td>228.69</td>\n",
       "      <td>36.6</td>\n",
       "      <td>1</td>\n",
       "      <td>1</td>\n",
       "      <td>1</td>\n",
       "      <td>0</td>\n",
       "      <td>0</td>\n",
       "      <td>1</td>\n",
       "      <td>1</td>\n",
       "      <td>0</td>\n",
       "      <td>0</td>\n",
       "    </tr>\n",
       "    <tr>\n",
       "      <th>1</th>\n",
       "      <td>80.0</td>\n",
       "      <td>0</td>\n",
       "      <td>1</td>\n",
       "      <td>105.92</td>\n",
       "      <td>32.5</td>\n",
       "      <td>1</td>\n",
       "      <td>1</td>\n",
       "      <td>1</td>\n",
       "      <td>0</td>\n",
       "      <td>0</td>\n",
       "      <td>0</td>\n",
       "      <td>0</td>\n",
       "      <td>1</td>\n",
       "      <td>0</td>\n",
       "    </tr>\n",
       "  </tbody>\n",
       "</table>\n",
       "</div>"
      ],
      "text/plain": [
       "    age  hypertension  heart_disease  avg_glucose_level   bmi  gender_Male  \\\n",
       "0  67.0             0              1             228.69  36.6            1   \n",
       "1  80.0             0              1             105.92  32.5            1   \n",
       "\n",
       "   ever_married_Yes  work_type_Private  work_type_Self-employed  \\\n",
       "0                 1                  1                        0   \n",
       "1                 1                  1                        0   \n",
       "\n",
       "   work_type_children  Residence_type_Urban  smoking_status_formerly smoked  \\\n",
       "0                   0                     1                               1   \n",
       "1                   0                     0                               0   \n",
       "\n",
       "   smoking_status_never smoked  smoking_status_smokes  \n",
       "0                            0                      0  \n",
       "1                            1                      0  "
      ]
     },
     "execution_count": 200,
     "metadata": {},
     "output_type": "execute_result"
    }
   ],
   "source": [
    "X = pd.get_dummies(X,drop_first=True)\n",
    "X.head(2)"
   ]
  },
  {
   "cell_type": "markdown",
   "id": "759bacc4",
   "metadata": {
    "id": "759bacc4"
   },
   "source": [
    "### 10. Handle the imbalanced data using oversampling or undersampling approach, and check the distribution of the resampled target class."
   ]
  },
  {
   "cell_type": "code",
   "execution_count": 201,
   "id": "afb6e2f4",
   "metadata": {
    "executionInfo": {
     "elapsed": 16,
     "status": "ok",
     "timestamp": 1660296009363,
     "user": {
      "displayName": "V. Arun Kumar",
      "userId": "02991517788843717529"
     },
     "user_tz": -330
    },
    "id": "afb6e2f4"
   },
   "outputs": [],
   "source": [
    "## Here, we are balancing the imbalanced data using Oversampling approach."
   ]
  },
  {
   "cell_type": "code",
   "execution_count": 202,
   "id": "7723b868",
   "metadata": {
    "executionInfo": {
     "elapsed": 15,
     "status": "ok",
     "timestamp": 1660296009363,
     "user": {
      "displayName": "V. Arun Kumar",
      "userId": "02991517788843717529"
     },
     "user_tz": -330
    },
    "id": "7723b868"
   },
   "outputs": [],
   "source": [
    "from imblearn.over_sampling import SMOTE\n",
    "\n",
    "smote = SMOTE(sampling_strategy=0.65)\n",
    "X_res,y_res = smote.fit_resample(X,y)"
   ]
  },
  {
   "cell_type": "code",
   "execution_count": 203,
   "id": "yAI4f60y3UlO",
   "metadata": {
    "colab": {
     "base_uri": "https://localhost:8080/"
    },
    "executionInfo": {
     "elapsed": 15,
     "status": "ok",
     "timestamp": 1660296009363,
     "user": {
      "displayName": "V. Arun Kumar",
      "userId": "02991517788843717529"
     },
     "user_tz": -330
    },
    "id": "yAI4f60y3UlO",
    "outputId": "b7977f13-b34d-4eac-fceb-41c05e358a49"
   },
   "outputs": [
    {
     "data": {
      "text/plain": [
       "((7809, 14), (7809,))"
      ]
     },
     "execution_count": 203,
     "metadata": {},
     "output_type": "execute_result"
    }
   ],
   "source": [
    "X_res.shape,y_res.shape"
   ]
  },
  {
   "cell_type": "code",
   "execution_count": 204,
   "id": "cd45ab85",
   "metadata": {
    "colab": {
     "base_uri": "https://localhost:8080/"
    },
    "executionInfo": {
     "elapsed": 13,
     "status": "ok",
     "timestamp": 1660296009363,
     "user": {
      "displayName": "V. Arun Kumar",
      "userId": "02991517788843717529"
     },
     "user_tz": -330
    },
    "id": "cd45ab85",
    "outputId": "e90d2b5c-b74e-4534-ba3f-3de70328b9b7"
   },
   "outputs": [
    {
     "data": {
      "text/plain": [
       "stroke\n",
       "0         60.609553\n",
       "1         39.390447\n",
       "dtype: float64"
      ]
     },
     "execution_count": 204,
     "metadata": {},
     "output_type": "execute_result"
    }
   ],
   "source": [
    "## Checking the distribution of the resampled target class\n",
    "pd.DataFrame(y_res).value_counts(normalize=True)*100"
   ]
  },
  {
   "cell_type": "markdown",
   "id": "227fb2ed",
   "metadata": {
    "id": "227fb2ed"
   },
   "source": [
    "- We can observe, we have successfully oversampled the minority class, and the distribution of the target class is balanced 60%-40%."
   ]
  },
  {
   "cell_type": "markdown",
   "id": "71de76aa",
   "metadata": {
    "id": "71de76aa"
   },
   "source": [
    "### 11. Split the dataset into train and test."
   ]
  },
  {
   "cell_type": "code",
   "execution_count": 205,
   "id": "6bc31c88",
   "metadata": {
    "colab": {
     "base_uri": "https://localhost:8080/"
    },
    "executionInfo": {
     "elapsed": 12,
     "status": "ok",
     "timestamp": 1660296009363,
     "user": {
      "displayName": "V. Arun Kumar",
      "userId": "02991517788843717529"
     },
     "user_tz": -330
    },
    "id": "6bc31c88",
    "outputId": "ac534531-2017-41e9-f9a6-9ddfc16269e3"
   },
   "outputs": [
    {
     "name": "stdout",
     "output_type": "stream",
     "text": [
      "(6247, 14) (1562, 14)\n",
      "(6247,) (1562,)\n"
     ]
    }
   ],
   "source": [
    "## Splitting the balanced data into train and test.\n",
    "X_train, X_test, y_train, y_test = train_test_split(X_res,y_res, test_size=0.20, random_state=42)\n",
    "\n",
    "print(X_train.shape,X_test.shape)\n",
    "print(y_train.shape,y_test.shape)"
   ]
  },
  {
   "cell_type": "markdown",
   "id": "ed7adeca",
   "metadata": {
    "id": "ed7adeca"
   },
   "source": [
    "## Model Building and Evaluation"
   ]
  },
  {
   "cell_type": "markdown",
   "id": "37ffe664",
   "metadata": {
    "id": "37ffe664"
   },
   "source": [
    "### 13. Build a base model using the Original Imbalanced data."
   ]
  },
  {
   "cell_type": "code",
   "execution_count": 206,
   "id": "1ae753ea",
   "metadata": {
    "colab": {
     "base_uri": "https://localhost:8080/"
    },
    "executionInfo": {
     "elapsed": 11,
     "status": "ok",
     "timestamp": 1660296009364,
     "user": {
      "displayName": "V. Arun Kumar",
      "userId": "02991517788843717529"
     },
     "user_tz": -330
    },
    "id": "1ae753ea",
    "outputId": "754e636b-f9a5-4792-d130-099c31449d0e"
   },
   "outputs": [
    {
     "name": "stdout",
     "output_type": "stream",
     "text": [
      "(3984, 14) (997, 14)\n",
      "(3984,) (997,)\n"
     ]
    }
   ],
   "source": [
    "## Splitting the original dataset into train and test\n",
    "\n",
    "X_train_base, X_test_base, y_train_base, y_test_base = train_test_split(X,y, test_size=0.20, random_state=42)\n",
    "\n",
    "print(X_train_base.shape,X_test_base.shape)\n",
    "print(y_train_base.shape,y_test_base.shape)"
   ]
  },
  {
   "cell_type": "code",
   "execution_count": 207,
   "id": "689a427f",
   "metadata": {
    "colab": {
     "base_uri": "https://localhost:8080/"
    },
    "executionInfo": {
     "elapsed": 812,
     "status": "ok",
     "timestamp": 1660296010166,
     "user": {
      "displayName": "V. Arun Kumar",
      "userId": "02991517788843717529"
     },
     "user_tz": -330
    },
    "id": "689a427f",
    "outputId": "27a9b571-4326-4f4f-fee6-4170702e90b9"
   },
   "outputs": [
    {
     "name": "stdout",
     "output_type": "stream",
     "text": [
      "Accuracy: 0.9428284854563691\n",
      "Recall: 0.0\n",
      "Confusion Matrix:\n",
      "               precision    recall  f1-score   support\n",
      "\n",
      "           0       1.00      0.95      0.97       994\n",
      "           1       0.00      0.00      0.00         3\n",
      "\n",
      "    accuracy                           0.94       997\n",
      "   macro avg       0.50      0.47      0.49       997\n",
      "weighted avg       0.99      0.94      0.97       997\n",
      "\n"
     ]
    }
   ],
   "source": [
    "## Building a simple random forest classifier as a base model using original data.\n",
    "rf = RandomForestClassifier()\n",
    "rf.fit(X_train_base,y_train_base)\n",
    "\n",
    "## Prediction on original test data\n",
    "og_prediction = rf.predict(X_test_base)\n",
    "\n",
    "## Computing Accuracy, Recall, and Confusion matrix for test data\n",
    "print(\"Accuracy:\",metrics.accuracy_score(og_prediction,y_test_base))\n",
    "print(\"Recall:\",metrics.recall_score(og_prediction,y_test_base))\n",
    "print(\"Confusion Matrix:\\n\",metrics.classification_report(og_prediction,y_test_base))"
   ]
  },
  {
   "cell_type": "markdown",
   "id": "b352f19e",
   "metadata": {
    "id": "b352f19e"
   },
   "source": [
    "- We can observe that we have a very good accuracy score, `Please note:` we have target which is highly imbalanced and accuracy will be biased and it is not a suitable metric to evaluate the model performance.\n",
    "- Precision, recall score, and f1-score is good for class 0 (majority class), where as precision, recall, and f1-score is zero for 1(minority class), due to the imbalance dataset.\n",
    "- So, need to consider Recall score to evaluate the performance of the model. Here we have recall score has 0. (too bad)\n",
    "- In order to increase our model performance, we need to use the balanced data."
   ]
  },
  {
   "cell_type": "markdown",
   "id": "XlwGslJH1aya",
   "metadata": {
    "id": "XlwGslJH1aya"
   },
   "source": [
    "### 13. Model building using the Balanced data."
   ]
  },
  {
   "cell_type": "markdown",
   "id": "ITv36sSGuQwX",
   "metadata": {
    "id": "ITv36sSGuQwX"
   },
   "source": [
    "#### For all the models built below we will follow the below flow:\n",
    "- Build a base model using the balanced data\n",
    "- Select K features using Wrapper or Embedded Methods\n",
    "- Perform hyperparameter tuning on all the models to tune the hyperparameters and find the best hyperparameters.\n",
    "- Build a pipeline for all the model using the K selected feature and the hyperparameters and build a full model and compute it's accuracy and Recall.\n",
    "- Once all the above steps are completed, we collectively compare the performance of all the models and find the best performing model."
   ]
  },
  {
   "cell_type": "markdown",
   "id": "ywaIYyxIoXTH",
   "metadata": {
    "id": "ywaIYyxIoXTH"
   },
   "source": [
    "#### Using RandomForestClassifier "
   ]
  },
  {
   "cell_type": "code",
   "execution_count": 208,
   "id": "K95krd_i1GAH",
   "metadata": {
    "colab": {
     "base_uri": "https://localhost:8080/"
    },
    "executionInfo": {
     "elapsed": 537,
     "status": "ok",
     "timestamp": 1660296010700,
     "user": {
      "displayName": "V. Arun Kumar",
      "userId": "02991517788843717529"
     },
     "user_tz": -330
    },
    "id": "K95krd_i1GAH",
    "outputId": "e00f0cb0-0b00-4405-9f9b-274a392d06b5"
   },
   "outputs": [
    {
     "name": "stdout",
     "output_type": "stream",
     "text": [
      "Accuracy: 0.9391805377720871\n",
      "Recall: 0.9258675078864353\n",
      "Confusion Matrix:\n",
      "               precision    recall  f1-score   support\n",
      "\n",
      "           0       0.95      0.95      0.95       928\n",
      "           1       0.92      0.93      0.93       634\n",
      "\n",
      "    accuracy                           0.94      1562\n",
      "   macro avg       0.94      0.94      0.94      1562\n",
      "weighted avg       0.94      0.94      0.94      1562\n",
      "\n"
     ]
    }
   ],
   "source": [
    "## Building a simple random forest classifier as a base model using balanced data.\n",
    "rf1 = RandomForestClassifier()\n",
    "rf1.fit(X_train,y_train)\n",
    "\n",
    "## Prediction on original test data\n",
    "rf1_base = rf1.predict(X_test)\n",
    "\n",
    "## Computing Accuracy, Recall, and Confusion matrix for test data\n",
    "print(\"Accuracy:\",metrics.accuracy_score(rf1_base,y_test))\n",
    "print(\"Recall:\",metrics.recall_score(rf1_base,y_test))\n",
    "print(\"Confusion Matrix:\\n\",metrics.classification_report(rf1_base,y_test))"
   ]
  },
  {
   "cell_type": "markdown",
   "id": "xHnFgcR5nuws",
   "metadata": {
    "id": "xHnFgcR5nuws"
   },
   "source": [
    "- On building a base model using the balanced data we see that the performance of the model has increased and the recall for both the classes(0 and 1) are equal to 0.95 and 0.94 which is a good value."
   ]
  },
  {
   "cell_type": "code",
   "execution_count": null,
   "id": "1f3bcd5f",
   "metadata": {},
   "outputs": [],
   "source": []
  },
  {
   "cell_type": "code",
   "execution_count": 209,
   "id": "9fd1fe5b",
   "metadata": {},
   "outputs": [],
   "source": [
    "# recall = TP / TP + FN\n",
    "\n",
    "# lower FN \n",
    "# highr TP\n",
    "\n",
    "# higher recall\n"
   ]
  },
  {
   "cell_type": "code",
   "execution_count": 210,
   "id": "c6a9e71b",
   "metadata": {},
   "outputs": [],
   "source": [
    "#from sklearn.preprocessing import PolynomialFeatures"
   ]
  },
  {
   "cell_type": "code",
   "execution_count": 211,
   "id": "69dcf3b2",
   "metadata": {},
   "outputs": [],
   "source": [
    "#poly = PolynomialFeatures(interaction_only=True)"
   ]
  },
  {
   "cell_type": "code",
   "execution_count": 212,
   "id": "aadd52b1",
   "metadata": {},
   "outputs": [],
   "source": [
    "#X_poly = poly.fit_transform(X_res)"
   ]
  },
  {
   "cell_type": "code",
   "execution_count": 213,
   "id": "3419f859",
   "metadata": {},
   "outputs": [],
   "source": [
    "## Splitting the balanced data into train and test.\n",
    "# X_train_poly, X_test_poly, y_train_poly, y_test_poly = train_test_split(X_poly,y_res, test_size=0.20, random_state=42)\n",
    "\n",
    "# print(X_train_poly.shape,X_test_poly.shape)\n",
    "# print(y_train_poly.shape,y_test_poly.shape)"
   ]
  },
  {
   "cell_type": "code",
   "execution_count": null,
   "id": "01b3eb95",
   "metadata": {},
   "outputs": [],
   "source": []
  },
  {
   "cell_type": "code",
   "execution_count": null,
   "id": "364a145b",
   "metadata": {},
   "outputs": [],
   "source": []
  },
  {
   "cell_type": "code",
   "execution_count": 214,
   "id": "2XfDfSbGbwmV",
   "metadata": {
    "colab": {
     "base_uri": "https://localhost:8080/",
     "height": 295
    },
    "executionInfo": {
     "elapsed": 247916,
     "status": "ok",
     "timestamp": 1660296824535,
     "user": {
      "displayName": "V. Arun Kumar",
      "userId": "02991517788843717529"
     },
     "user_tz": -330
    },
    "id": "2XfDfSbGbwmV",
    "outputId": "034973e2-16a7-4266-f379-ac3975fe727a"
   },
   "outputs": [
    {
     "data": {
      "image/png": "[encoded data removed]",
      "text/plain": [
       "<Figure size 432x288 with 1 Axes>"
      ]
     },
     "metadata": {
      "needs_background": "light"
     },
     "output_type": "display_data"
    }
   ],
   "source": [
    "# Build step forward feature selection\n",
    "sfs1 = sfs(rf1, k_features=14, forward=True, cv=5, scoring=\"recall\")\n",
    "# Perform SFFSa\n",
    "sfs1 = sfs1.fit(X_train, y_train)\n",
    "sfs2=sfs1.get_metric_dict()\n",
    "sfs2 = pd.DataFrame.from_dict(sfs2)\n",
    "\n",
    "fig = plot_sfs(sfs2)\n",
    "\n",
    "plt.title('Sequential Forward Selection')\n",
    "plt.grid()\n",
    "plt.show()"
   ]
  },
  {
   "cell_type": "code",
   "execution_count": 215,
   "id": "b57f224f",
   "metadata": {},
   "outputs": [
    {
     "data": {
      "text/plain": [
       "SequentialFeatureSelector(estimator=RandomForestClassifier(),\n",
       "                          k_features=(14, 14), scoring='recall')"
      ]
     },
     "execution_count": 215,
     "metadata": {},
     "output_type": "execute_result"
    }
   ],
   "source": [
    "sfs1"
   ]
  },
  {
   "cell_type": "code",
   "execution_count": 216,
   "id": "41acd698",
   "metadata": {},
   "outputs": [
    {
     "data": {
      "text/html": [
       "<div>\n",
       "<style scoped>\n",
       "    .dataframe tbody tr th:only-of-type {\n",
       "        vertical-align: middle;\n",
       "    }\n",
       "\n",
       "    .dataframe tbody tr th {\n",
       "        vertical-align: top;\n",
       "    }\n",
       "\n",
       "    .dataframe thead th {\n",
       "        text-align: right;\n",
       "    }\n",
       "</style>\n",
       "<table border=\"1\" class=\"dataframe\">\n",
       "  <thead>\n",
       "    <tr style=\"text-align: right;\">\n",
       "      <th></th>\n",
       "      <th>1</th>\n",
       "      <th>2</th>\n",
       "      <th>3</th>\n",
       "      <th>4</th>\n",
       "      <th>5</th>\n",
       "      <th>6</th>\n",
       "      <th>7</th>\n",
       "      <th>8</th>\n",
       "      <th>9</th>\n",
       "      <th>10</th>\n",
       "      <th>11</th>\n",
       "      <th>12</th>\n",
       "      <th>13</th>\n",
       "      <th>14</th>\n",
       "    </tr>\n",
       "  </thead>\n",
       "  <tbody>\n",
       "    <tr>\n",
       "      <th>feature_idx</th>\n",
       "      <td>(0,)</td>\n",
       "      <td>(0, 6)</td>\n",
       "      <td>(0, 3, 6)</td>\n",
       "      <td>(0, 3, 4, 6)</td>\n",
       "      <td>(0, 3, 4, 6, 12)</td>\n",
       "      <td>(0, 3, 4, 6, 11, 12)</td>\n",
       "      <td>(0, 3, 4, 6, 7, 11, 12)</td>\n",
       "      <td>(0, 3, 4, 6, 7, 11, 12, 13)</td>\n",
       "      <td>(0, 3, 4, 6, 7, 9, 11, 12, 13)</td>\n",
       "      <td>(0, 3, 4, 5, 6, 7, 9, 11, 12, 13)</td>\n",
       "      <td>(0, 2, 3, 4, 5, 6, 7, 9, 11, 12, 13)</td>\n",
       "      <td>(0, 2, 3, 4, 5, 6, 7, 8, 9, 11, 12, 13)</td>\n",
       "      <td>(0, 1, 2, 3, 4, 5, 6, 7, 8, 9, 11, 12, 13)</td>\n",
       "      <td>(0, 1, 2, 3, 4, 5, 6, 7, 8, 9, 10, 11, 12, 13)</td>\n",
       "    </tr>\n",
       "    <tr>\n",
       "      <th>cv_scores</th>\n",
       "      <td>[0.7991803278688525, 0.7955010224948875, 0.858...</td>\n",
       "      <td>[0.8299180327868853, 0.8445807770961146, 0.875...</td>\n",
       "      <td>[0.8381147540983607, 0.8343558282208589, 0.864...</td>\n",
       "      <td>[0.9016393442622951, 0.8895705521472392, 0.905...</td>\n",
       "      <td>[0.8954918032786885, 0.901840490797546, 0.9282...</td>\n",
       "      <td>[0.8995901639344263, 0.9038854805725971, 0.928...</td>\n",
       "      <td>[0.9077868852459017, 0.885480572597137, 0.9323...</td>\n",
       "      <td>[0.9241803278688525, 0.8773006134969326, 0.930...</td>\n",
       "      <td>[0.9344262295081968, 0.885480572597137, 0.9385...</td>\n",
       "      <td>[0.9323770491803278, 0.8834355828220859, 0.936...</td>\n",
       "      <td>[0.9139344262295082, 0.8936605316973415, 0.938...</td>\n",
       "      <td>[0.9200819672131147, 0.9100204498977505, 0.942...</td>\n",
       "      <td>[0.9159836065573771, 0.901840490797546, 0.9405...</td>\n",
       "      <td>[0.9118852459016393, 0.8957055214723927, 0.930...</td>\n",
       "    </tr>\n",
       "    <tr>\n",
       "      <th>avg_score</th>\n",
       "      <td>0.819346</td>\n",
       "      <td>0.848015</td>\n",
       "      <td>0.849658</td>\n",
       "      <td>0.899226</td>\n",
       "      <td>0.908237</td>\n",
       "      <td>0.907826</td>\n",
       "      <td>0.911522</td>\n",
       "      <td>0.912755</td>\n",
       "      <td>0.91849</td>\n",
       "      <td>0.916441</td>\n",
       "      <td>0.915617</td>\n",
       "      <td>0.919299</td>\n",
       "      <td>0.916024</td>\n",
       "      <td>0.909469</td>\n",
       "    </tr>\n",
       "    <tr>\n",
       "      <th>feature_names</th>\n",
       "      <td>(age,)</td>\n",
       "      <td>(age, ever_married_Yes)</td>\n",
       "      <td>(age, avg_glucose_level, ever_married_Yes)</td>\n",
       "      <td>(age, avg_glucose_level, bmi, ever_married_Yes)</td>\n",
       "      <td>(age, avg_glucose_level, bmi, ever_married_Yes...</td>\n",
       "      <td>(age, avg_glucose_level, bmi, ever_married_Yes...</td>\n",
       "      <td>(age, avg_glucose_level, bmi, ever_married_Yes...</td>\n",
       "      <td>(age, avg_glucose_level, bmi, ever_married_Yes...</td>\n",
       "      <td>(age, avg_glucose_level, bmi, ever_married_Yes...</td>\n",
       "      <td>(age, avg_glucose_level, bmi, gender_Male, eve...</td>\n",
       "      <td>(age, heart_disease, avg_glucose_level, bmi, g...</td>\n",
       "      <td>(age, heart_disease, avg_glucose_level, bmi, g...</td>\n",
       "      <td>(age, hypertension, heart_disease, avg_glucose...</td>\n",
       "      <td>(age, hypertension, heart_disease, avg_glucose...</td>\n",
       "    </tr>\n",
       "    <tr>\n",
       "      <th>ci_bound</th>\n",
       "      <td>0.029658</td>\n",
       "      <td>0.018929</td>\n",
       "      <td>0.022922</td>\n",
       "      <td>0.018008</td>\n",
       "      <td>0.017318</td>\n",
       "      <td>0.016642</td>\n",
       "      <td>0.019915</td>\n",
       "      <td>0.025233</td>\n",
       "      <td>0.024056</td>\n",
       "      <td>0.024169</td>\n",
       "      <td>0.019444</td>\n",
       "      <td>0.017003</td>\n",
       "      <td>0.017336</td>\n",
       "      <td>0.021763</td>\n",
       "    </tr>\n",
       "    <tr>\n",
       "      <th>std_dev</th>\n",
       "      <td>0.023075</td>\n",
       "      <td>0.014727</td>\n",
       "      <td>0.017834</td>\n",
       "      <td>0.014011</td>\n",
       "      <td>0.013474</td>\n",
       "      <td>0.012948</td>\n",
       "      <td>0.015495</td>\n",
       "      <td>0.019632</td>\n",
       "      <td>0.018716</td>\n",
       "      <td>0.018804</td>\n",
       "      <td>0.015128</td>\n",
       "      <td>0.013229</td>\n",
       "      <td>0.013488</td>\n",
       "      <td>0.016932</td>\n",
       "    </tr>\n",
       "    <tr>\n",
       "      <th>std_err</th>\n",
       "      <td>0.011538</td>\n",
       "      <td>0.007364</td>\n",
       "      <td>0.008917</td>\n",
       "      <td>0.007006</td>\n",
       "      <td>0.006737</td>\n",
       "      <td>0.006474</td>\n",
       "      <td>0.007747</td>\n",
       "      <td>0.009816</td>\n",
       "      <td>0.009358</td>\n",
       "      <td>0.009402</td>\n",
       "      <td>0.007564</td>\n",
       "      <td>0.006614</td>\n",
       "      <td>0.006744</td>\n",
       "      <td>0.008466</td>\n",
       "    </tr>\n",
       "  </tbody>\n",
       "</table>\n",
       "</div>"
      ],
      "text/plain": [
       "                                                              1   \\\n",
       "feature_idx                                                 (0,)   \n",
       "cv_scores      [0.7991803278688525, 0.7955010224948875, 0.858...   \n",
       "avg_score                                               0.819346   \n",
       "feature_names                                             (age,)   \n",
       "ci_bound                                                0.029658   \n",
       "std_dev                                                 0.023075   \n",
       "std_err                                                 0.011538   \n",
       "\n",
       "                                                              2   \\\n",
       "feature_idx                                               (0, 6)   \n",
       "cv_scores      [0.8299180327868853, 0.8445807770961146, 0.875...   \n",
       "avg_score                                               0.848015   \n",
       "feature_names                            (age, ever_married_Yes)   \n",
       "ci_bound                                                0.018929   \n",
       "std_dev                                                 0.014727   \n",
       "std_err                                                 0.007364   \n",
       "\n",
       "                                                              3   \\\n",
       "feature_idx                                            (0, 3, 6)   \n",
       "cv_scores      [0.8381147540983607, 0.8343558282208589, 0.864...   \n",
       "avg_score                                               0.849658   \n",
       "feature_names         (age, avg_glucose_level, ever_married_Yes)   \n",
       "ci_bound                                                0.022922   \n",
       "std_dev                                                 0.017834   \n",
       "std_err                                                 0.008917   \n",
       "\n",
       "                                                              4   \\\n",
       "feature_idx                                         (0, 3, 4, 6)   \n",
       "cv_scores      [0.9016393442622951, 0.8895705521472392, 0.905...   \n",
       "avg_score                                               0.899226   \n",
       "feature_names    (age, avg_glucose_level, bmi, ever_married_Yes)   \n",
       "ci_bound                                                0.018008   \n",
       "std_dev                                                 0.014011   \n",
       "std_err                                                 0.007006   \n",
       "\n",
       "                                                              5   \\\n",
       "feature_idx                                     (0, 3, 4, 6, 12)   \n",
       "cv_scores      [0.8954918032786885, 0.901840490797546, 0.9282...   \n",
       "avg_score                                               0.908237   \n",
       "feature_names  (age, avg_glucose_level, bmi, ever_married_Yes...   \n",
       "ci_bound                                                0.017318   \n",
       "std_dev                                                 0.013474   \n",
       "std_err                                                 0.006737   \n",
       "\n",
       "                                                              6   \\\n",
       "feature_idx                                 (0, 3, 4, 6, 11, 12)   \n",
       "cv_scores      [0.8995901639344263, 0.9038854805725971, 0.928...   \n",
       "avg_score                                               0.907826   \n",
       "feature_names  (age, avg_glucose_level, bmi, ever_married_Yes...   \n",
       "ci_bound                                                0.016642   \n",
       "std_dev                                                 0.012948   \n",
       "std_err                                                 0.006474   \n",
       "\n",
       "                                                              7   \\\n",
       "feature_idx                              (0, 3, 4, 6, 7, 11, 12)   \n",
       "cv_scores      [0.9077868852459017, 0.885480572597137, 0.9323...   \n",
       "avg_score                                               0.911522   \n",
       "feature_names  (age, avg_glucose_level, bmi, ever_married_Yes...   \n",
       "ci_bound                                                0.019915   \n",
       "std_dev                                                 0.015495   \n",
       "std_err                                                 0.007747   \n",
       "\n",
       "                                                              8   \\\n",
       "feature_idx                          (0, 3, 4, 6, 7, 11, 12, 13)   \n",
       "cv_scores      [0.9241803278688525, 0.8773006134969326, 0.930...   \n",
       "avg_score                                               0.912755   \n",
       "feature_names  (age, avg_glucose_level, bmi, ever_married_Yes...   \n",
       "ci_bound                                                0.025233   \n",
       "std_dev                                                 0.019632   \n",
       "std_err                                                 0.009816   \n",
       "\n",
       "                                                              9   \\\n",
       "feature_idx                       (0, 3, 4, 6, 7, 9, 11, 12, 13)   \n",
       "cv_scores      [0.9344262295081968, 0.885480572597137, 0.9385...   \n",
       "avg_score                                                0.91849   \n",
       "feature_names  (age, avg_glucose_level, bmi, ever_married_Yes...   \n",
       "ci_bound                                                0.024056   \n",
       "std_dev                                                 0.018716   \n",
       "std_err                                                 0.009358   \n",
       "\n",
       "                                                              10  \\\n",
       "feature_idx                    (0, 3, 4, 5, 6, 7, 9, 11, 12, 13)   \n",
       "cv_scores      [0.9323770491803278, 0.8834355828220859, 0.936...   \n",
       "avg_score                                               0.916441   \n",
       "feature_names  (age, avg_glucose_level, bmi, gender_Male, eve...   \n",
       "ci_bound                                                0.024169   \n",
       "std_dev                                                 0.018804   \n",
       "std_err                                                 0.009402   \n",
       "\n",
       "                                                              11  \\\n",
       "feature_idx                 (0, 2, 3, 4, 5, 6, 7, 9, 11, 12, 13)   \n",
       "cv_scores      [0.9139344262295082, 0.8936605316973415, 0.938...   \n",
       "avg_score                                               0.915617   \n",
       "feature_names  (age, heart_disease, avg_glucose_level, bmi, g...   \n",
       "ci_bound                                                0.019444   \n",
       "std_dev                                                 0.015128   \n",
       "std_err                                                 0.007564   \n",
       "\n",
       "                                                              12  \\\n",
       "feature_idx              (0, 2, 3, 4, 5, 6, 7, 8, 9, 11, 12, 13)   \n",
       "cv_scores      [0.9200819672131147, 0.9100204498977505, 0.942...   \n",
       "avg_score                                               0.919299   \n",
       "feature_names  (age, heart_disease, avg_glucose_level, bmi, g...   \n",
       "ci_bound                                                0.017003   \n",
       "std_dev                                                 0.013229   \n",
       "std_err                                                 0.006614   \n",
       "\n",
       "                                                              13  \\\n",
       "feature_idx           (0, 1, 2, 3, 4, 5, 6, 7, 8, 9, 11, 12, 13)   \n",
       "cv_scores      [0.9159836065573771, 0.901840490797546, 0.9405...   \n",
       "avg_score                                               0.916024   \n",
       "feature_names  (age, hypertension, heart_disease, avg_glucose...   \n",
       "ci_bound                                                0.017336   \n",
       "std_dev                                                 0.013488   \n",
       "std_err                                                 0.006744   \n",
       "\n",
       "                                                              14  \n",
       "feature_idx       (0, 1, 2, 3, 4, 5, 6, 7, 8, 9, 10, 11, 12, 13)  \n",
       "cv_scores      [0.9118852459016393, 0.8957055214723927, 0.930...  \n",
       "avg_score                                               0.909469  \n",
       "feature_names  (age, hypertension, heart_disease, avg_glucose...  \n",
       "ci_bound                                                0.021763  \n",
       "std_dev                                                 0.016932  \n",
       "std_err                                                 0.008466  "
      ]
     },
     "execution_count": 216,
     "metadata": {},
     "output_type": "execute_result"
    }
   ],
   "source": [
    "sfs2"
   ]
  },
  {
   "cell_type": "code",
   "execution_count": 217,
   "id": "51ab13b5",
   "metadata": {},
   "outputs": [
    {
     "data": {
      "text/plain": [
       "(0, 1, 2, 3, 4, 5, 6, 7, 8, 9, 10, 11, 12, 13)"
      ]
     },
     "execution_count": 217,
     "metadata": {},
     "output_type": "execute_result"
    }
   ],
   "source": [
    "sfs1.k_feature_idx_"
   ]
  },
  {
   "cell_type": "code",
   "execution_count": 218,
   "id": "bmjK0NebeNH4",
   "metadata": {
    "colab": {
     "base_uri": "https://localhost:8080/"
    },
    "executionInfo": {
     "elapsed": 510,
     "status": "ok",
     "timestamp": 1660297562003,
     "user": {
      "displayName": "V. Arun Kumar",
      "userId": "02991517788843717529"
     },
     "user_tz": -330
    },
    "id": "bmjK0NebeNH4",
    "outputId": "db216916-7c00-470c-fe3d-80461a19cc7b"
   },
   "outputs": [
    {
     "name": "stdout",
     "output_type": "stream",
     "text": [
      "[0, 1, 2, 3, 4, 5, 6, 7, 8, 9, 10, 11, 12, 13]\n"
     ]
    }
   ],
   "source": [
    "# Which features?\n",
    "columnList = list(X)\n",
    "feat_cols = list(sfs1.k_feature_idx_)\n",
    "print(feat_cols)"
   ]
  },
  {
   "cell_type": "code",
   "execution_count": 219,
   "id": "kyEApQWQeNFd",
   "metadata": {
    "colab": {
     "base_uri": "https://localhost:8080/"
    },
    "executionInfo": {
     "elapsed": 33,
     "status": "ok",
     "timestamp": 1660297563337,
     "user": {
      "displayName": "V. Arun Kumar",
      "userId": "02991517788843717529"
     },
     "user_tz": -330
    },
    "id": "kyEApQWQeNFd",
    "outputId": "fe114274-d89b-46b6-9562-ec716fc47530"
   },
   "outputs": [
    {
     "name": "stdout",
     "output_type": "stream",
     "text": [
      "['age', 'hypertension', 'heart_disease', 'avg_glucose_level', 'bmi', 'gender_Male', 'ever_married_Yes', 'work_type_Private', 'work_type_Self-employed', 'work_type_children', 'Residence_type_Urban', 'smoking_status_formerly smoked', 'smoking_status_never smoked', 'smoking_status_smokes']\n"
     ]
    }
   ],
   "source": [
    "# to fetch the names of the columns using the index\n",
    "subsetColumnList = [columnList[i] for i in feat_cols] \n",
    "print(subsetColumnList)"
   ]
  },
  {
   "cell_type": "code",
   "execution_count": null,
   "id": "455edd50",
   "metadata": {
    "executionInfo": {
     "elapsed": 30,
     "status": "ok",
     "timestamp": 1660297563338,
     "user": {
      "displayName": "V. Arun Kumar",
      "userId": "02991517788843717529"
     },
     "user_tz": -330
    },
    "id": "455edd50"
   },
   "outputs": [],
   "source": [
    "\n",
    "## Here we are going to build Random Forest Classification model and Tune the hyperparameters for the same using \"GridSearchCV\""
   ]
  },
  {
   "cell_type": "code",
   "execution_count": 221,
   "id": "dc206540",
   "metadata": {},
   "outputs": [],
   "source": [
    "subsetColumnList = subsetColumnList[:-2]"
   ]
  },
  {
   "cell_type": "code",
   "execution_count": null,
   "id": "9c30a9fa",
   "metadata": {},
   "outputs": [],
   "source": []
  },
  {
   "cell_type": "code",
   "execution_count": null,
   "id": "6a119a76",
   "metadata": {},
   "outputs": [],
   "source": []
  },
  {
   "cell_type": "code",
   "execution_count": 222,
   "id": "ZWyxV9qAZU8U",
   "metadata": {
    "colab": {
     "base_uri": "https://localhost:8080/",
     "height": 287
    },
    "executionInfo": {
     "elapsed": 28,
     "status": "ok",
     "timestamp": 1660297563338,
     "user": {
      "displayName": "V. Arun Kumar",
      "userId": "02991517788843717529"
     },
     "user_tz": -330
    },
    "id": "ZWyxV9qAZU8U",
    "outputId": "d27aa5f9-8cd9-4042-fcf7-df6fb71ac6c4"
   },
   "outputs": [
    {
     "data": {
      "text/html": [
       "<div>\n",
       "<style scoped>\n",
       "    .dataframe tbody tr th:only-of-type {\n",
       "        vertical-align: middle;\n",
       "    }\n",
       "\n",
       "    .dataframe tbody tr th {\n",
       "        vertical-align: top;\n",
       "    }\n",
       "\n",
       "    .dataframe thead th {\n",
       "        text-align: right;\n",
       "    }\n",
       "</style>\n",
       "<table border=\"1\" class=\"dataframe\">\n",
       "  <thead>\n",
       "    <tr style=\"text-align: right;\">\n",
       "      <th></th>\n",
       "      <th>age</th>\n",
       "      <th>hypertension</th>\n",
       "      <th>heart_disease</th>\n",
       "      <th>avg_glucose_level</th>\n",
       "      <th>bmi</th>\n",
       "      <th>gender_Male</th>\n",
       "      <th>ever_married_Yes</th>\n",
       "      <th>work_type_Private</th>\n",
       "      <th>work_type_Self-employed</th>\n",
       "      <th>work_type_children</th>\n",
       "      <th>Residence_type_Urban</th>\n",
       "      <th>smoking_status_formerly smoked</th>\n",
       "      <th>smoking_status_never smoked</th>\n",
       "      <th>smoking_status_smokes</th>\n",
       "    </tr>\n",
       "  </thead>\n",
       "  <tbody>\n",
       "    <tr>\n",
       "      <th>4677</th>\n",
       "      <td>70.000000</td>\n",
       "      <td>0</td>\n",
       "      <td>0</td>\n",
       "      <td>212.870000</td>\n",
       "      <td>34.800000</td>\n",
       "      <td>0</td>\n",
       "      <td>1</td>\n",
       "      <td>1</td>\n",
       "      <td>0</td>\n",
       "      <td>0</td>\n",
       "      <td>0</td>\n",
       "      <td>0</td>\n",
       "      <td>1</td>\n",
       "      <td>0</td>\n",
       "    </tr>\n",
       "    <tr>\n",
       "      <th>3728</th>\n",
       "      <td>0.720000</td>\n",
       "      <td>0</td>\n",
       "      <td>0</td>\n",
       "      <td>159.790000</td>\n",
       "      <td>19.900000</td>\n",
       "      <td>1</td>\n",
       "      <td>0</td>\n",
       "      <td>0</td>\n",
       "      <td>0</td>\n",
       "      <td>1</td>\n",
       "      <td>0</td>\n",
       "      <td>0</td>\n",
       "      <td>0</td>\n",
       "      <td>0</td>\n",
       "    </tr>\n",
       "    <tr>\n",
       "      <th>6137</th>\n",
       "      <td>76.547787</td>\n",
       "      <td>0</td>\n",
       "      <td>0</td>\n",
       "      <td>107.248114</td>\n",
       "      <td>28.912123</td>\n",
       "      <td>0</td>\n",
       "      <td>1</td>\n",
       "      <td>0</td>\n",
       "      <td>1</td>\n",
       "      <td>0</td>\n",
       "      <td>0</td>\n",
       "      <td>0</td>\n",
       "      <td>0</td>\n",
       "      <td>0</td>\n",
       "    </tr>\n",
       "    <tr>\n",
       "      <th>6200</th>\n",
       "      <td>55.755426</td>\n",
       "      <td>0</td>\n",
       "      <td>0</td>\n",
       "      <td>97.104583</td>\n",
       "      <td>28.310058</td>\n",
       "      <td>0</td>\n",
       "      <td>1</td>\n",
       "      <td>1</td>\n",
       "      <td>0</td>\n",
       "      <td>0</td>\n",
       "      <td>0</td>\n",
       "      <td>0</td>\n",
       "      <td>0</td>\n",
       "      <td>1</td>\n",
       "    </tr>\n",
       "    <tr>\n",
       "      <th>4991</th>\n",
       "      <td>58.324112</td>\n",
       "      <td>0</td>\n",
       "      <td>0</td>\n",
       "      <td>75.483574</td>\n",
       "      <td>29.970198</td>\n",
       "      <td>0</td>\n",
       "      <td>1</td>\n",
       "      <td>1</td>\n",
       "      <td>0</td>\n",
       "      <td>0</td>\n",
       "      <td>0</td>\n",
       "      <td>0</td>\n",
       "      <td>0</td>\n",
       "      <td>0</td>\n",
       "    </tr>\n",
       "  </tbody>\n",
       "</table>\n",
       "</div>"
      ],
      "text/plain": [
       "            age  hypertension  heart_disease  avg_glucose_level        bmi  \\\n",
       "4677  70.000000             0              0         212.870000  34.800000   \n",
       "3728   0.720000             0              0         159.790000  19.900000   \n",
       "6137  76.547787             0              0         107.248114  28.912123   \n",
       "6200  55.755426             0              0          97.104583  28.310058   \n",
       "4991  58.324112             0              0          75.483574  29.970198   \n",
       "\n",
       "      gender_Male  ever_married_Yes  work_type_Private  \\\n",
       "4677            0                 1                  1   \n",
       "3728            1                 0                  0   \n",
       "6137            0                 1                  0   \n",
       "6200            0                 1                  1   \n",
       "4991            0                 1                  1   \n",
       "\n",
       "      work_type_Self-employed  work_type_children  Residence_type_Urban  \\\n",
       "4677                        0                   0                     0   \n",
       "3728                        0                   1                     0   \n",
       "6137                        1                   0                     0   \n",
       "6200                        0                   0                     0   \n",
       "4991                        0                   0                     0   \n",
       "\n",
       "      smoking_status_formerly smoked  smoking_status_never smoked  \\\n",
       "4677                               0                            1   \n",
       "3728                               0                            0   \n",
       "6137                               0                            0   \n",
       "6200                               0                            0   \n",
       "4991                               0                            0   \n",
       "\n",
       "      smoking_status_smokes  \n",
       "4677                      0  \n",
       "3728                      0  \n",
       "6137                      0  \n",
       "6200                      1  \n",
       "4991                      0  "
      ]
     },
     "execution_count": 222,
     "metadata": {},
     "output_type": "execute_result"
    }
   ],
   "source": [
    "X_train.head()"
   ]
  },
  {
   "cell_type": "code",
   "execution_count": 223,
   "id": "pCSlAlNeHSgc",
   "metadata": {
    "executionInfo": {
     "elapsed": 26,
     "status": "ok",
     "timestamp": 1660297563339,
     "user": {
      "displayName": "V. Arun Kumar",
      "userId": "02991517788843717529"
     },
     "user_tz": -330
    },
    "id": "pCSlAlNeHSgc"
   },
   "outputs": [],
   "source": [
    "X_train_new=pd.DataFrame(X_train[subsetColumnList])\n",
    "X_test_new=pd.DataFrame(X_test[subsetColumnList])"
   ]
  },
  {
   "cell_type": "code",
   "execution_count": 224,
   "id": "JECAD5bWHYwY",
   "metadata": {
    "colab": {
     "base_uri": "https://localhost:8080/"
    },
    "executionInfo": {
     "elapsed": 25,
     "status": "ok",
     "timestamp": 1660297563339,
     "user": {
      "displayName": "V. Arun Kumar",
      "userId": "02991517788843717529"
     },
     "user_tz": -330
    },
    "id": "JECAD5bWHYwY",
    "outputId": "9855395e-d6e0-4e38-e0ca-a7ea582fc532"
   },
   "outputs": [
    {
     "data": {
      "text/plain": [
       "(6247, 12)"
      ]
     },
     "execution_count": 224,
     "metadata": {},
     "output_type": "execute_result"
    }
   ],
   "source": [
    "X_train_new.shape"
   ]
  },
  {
   "cell_type": "code",
   "execution_count": 225,
   "id": "VzGgZDEpH34X",
   "metadata": {
    "executionInfo": {
     "elapsed": 19,
     "status": "ok",
     "timestamp": 1660297563339,
     "user": {
      "displayName": "V. Arun Kumar",
      "userId": "02991517788843717529"
     },
     "user_tz": -330
    },
    "id": "VzGgZDEpH34X"
   },
   "outputs": [],
   "source": [
    "col_trans = ColumnTransformer([\n",
    "    ('ss', StandardScaler(), X_train_new.columns)])"
   ]
  },
  {
   "cell_type": "code",
   "execution_count": 226,
   "id": "DCDJU47M_tug",
   "metadata": {
    "executionInfo": {
     "elapsed": 20,
     "status": "ok",
     "timestamp": 1660297563340,
     "user": {
      "displayName": "V. Arun Kumar",
      "userId": "02991517788843717529"
     },
     "user_tz": -330
    },
    "id": "DCDJU47M_tug"
   },
   "outputs": [],
   "source": [
    "# Building a pipeline\n",
    "pipeline = Pipeline([ ('preprocessor',col_trans),  # Scaling the data\n",
    "    ('algo',RandomForestClassifier(random_state=0, n_jobs=-1))\n",
    "])"
   ]
  },
  {
   "cell_type": "code",
   "execution_count": 227,
   "id": "nAgmettVE6Bw",
   "metadata": {
    "colab": {
     "base_uri": "https://localhost:8080/"
    },
    "executionInfo": {
     "elapsed": 19,
     "status": "ok",
     "timestamp": 1660297563340,
     "user": {
      "displayName": "V. Arun Kumar",
      "userId": "02991517788843717529"
     },
     "user_tz": -330
    },
    "id": "nAgmettVE6Bw",
    "outputId": "007c3c87-5d22-421a-a86c-8df415b86963"
   },
   "outputs": [
    {
     "data": {
      "text/plain": [
       "ColumnTransformer(transformers=[('ss', StandardScaler(),\n",
       "                                 Index(['age', 'hypertension', 'heart_disease', 'avg_glucose_level', 'bmi',\n",
       "       'gender_Male', 'ever_married_Yes', 'work_type_Private',\n",
       "       'work_type_Self-employed', 'work_type_children', 'Residence_type_Urban',\n",
       "       'smoking_status_formerly smoked'],\n",
       "      dtype='object'))])"
      ]
     },
     "execution_count": 227,
     "metadata": {},
     "output_type": "execute_result"
    }
   ],
   "source": [
    "col_trans.fit(X_train_new)"
   ]
  },
  {
   "cell_type": "code",
   "execution_count": 228,
   "id": "db1eaee7",
   "metadata": {
    "executionInfo": {
     "elapsed": 15,
     "status": "ok",
     "timestamp": 1660297563340,
     "user": {
      "displayName": "V. Arun Kumar",
      "userId": "02991517788843717529"
     },
     "user_tz": -330
    },
    "id": "db1eaee7"
   },
   "outputs": [],
   "source": [
    "### Parameters to tune.\n",
    "param_rf = [{'algo__n_estimators':[100, 200, 500, 1000],\n",
    "            'algo__max_depth':[7,9, 13,15,19,23,25]}]"
   ]
  },
  {
   "cell_type": "code",
   "execution_count": 229,
   "id": "U0ZSXV-LArp_",
   "metadata": {
    "colab": {
     "base_uri": "https://localhost:8080/"
    },
    "executionInfo": {
     "elapsed": 299611,
     "status": "ok",
     "timestamp": 1660297990983,
     "user": {
      "displayName": "V. Arun Kumar",
      "userId": "02991517788843717529"
     },
     "user_tz": -330
    },
    "id": "U0ZSXV-LArp_",
    "outputId": "5216db9c-5650-4222-8221-1ae43edcd60d"
   },
   "outputs": [
    {
     "name": "stdout",
     "output_type": "stream",
     "text": [
      "Fitting 5 folds for each of 28 candidates, totalling 140 fits\n",
      "Best Hyper Parameters:\n",
      " {'algo__max_depth': 19, 'algo__n_estimators': 1000}\n"
     ]
    }
   ],
   "source": [
    "# Create an instance of GridSearchCV as model\n",
    "grid_cv = GridSearchCV(pipeline,param_rf,cv=5,n_jobs=-1,verbose=1)\n",
    "\n",
    "#learning\n",
    "grid_cv.fit(X_train_new,y_train)\n",
    "\n",
    "# print best hyperparameters from shared set of parameters\n",
    "print(\"Best Hyper Parameters:\\n\",grid_cv.best_params_)"
   ]
  },
  {
   "cell_type": "code",
   "execution_count": 239,
   "id": "eHumv865EXXt",
   "metadata": {
    "colab": {
     "base_uri": "https://localhost:8080/"
    },
    "executionInfo": {
     "elapsed": 758,
     "status": "ok",
     "timestamp": 1660298081964,
     "user": {
      "displayName": "V. Arun Kumar",
      "userId": "02991517788843717529"
     },
     "user_tz": -330
    },
    "id": "eHumv865EXXt",
    "outputId": "ca91ce30-137f-45dd-9897-7b2357c4e2c9"
   },
   "outputs": [
    {
     "name": "stdout",
     "output_type": "stream",
     "text": [
      "Confusion Matrix:\n",
      " [[880  54]\n",
      " [ 47 581]]\n"
     ]
    }
   ],
   "source": [
    "#evaluation(Confusion Matrix)\n",
    "prediction_GS = grid_cv.predict(X_test_new)\n",
    "print(\"Confusion Matrix:\\n\",metrics.confusion_matrix(prediction_GS,y_test))"
   ]
  },
  {
   "cell_type": "code",
   "execution_count": 240,
   "id": "73704bdd",
   "metadata": {
    "executionInfo": {
     "elapsed": 5,
     "status": "ok",
     "timestamp": 1660298082500,
     "user": {
      "displayName": "V. Arun Kumar",
      "userId": "02991517788843717529"
     },
     "user_tz": -330
    },
    "id": "73704bdd"
   },
   "outputs": [],
   "source": [
    "from sklearn.ensemble import RandomForestClassifier\n",
    "# Building a pipeline and passing the transformer and the classfier\n",
    "# Building a pipeline\n",
    "pipeline_rf = Pipeline([\n",
    "    ('preprocessor',col_trans),\n",
    "    ('algo',RandomForestClassifier(max_depth= 19, n_estimators= 1000,random_state=0, n_jobs=-1))\n",
    "])"
   ]
  },
  {
   "cell_type": "code",
   "execution_count": 241,
   "id": "8e47f211",
   "metadata": {
    "colab": {
     "base_uri": "https://localhost:8080/"
    },
    "executionInfo": {
     "elapsed": 5971,
     "status": "ok",
     "timestamp": 1660298088467,
     "user": {
      "displayName": "V. Arun Kumar",
      "userId": "02991517788843717529"
     },
     "user_tz": -330
    },
    "id": "8e47f211",
    "outputId": "124a2920-7101-42ff-9142-ec610996c8f7"
   },
   "outputs": [
    {
     "data": {
      "text/plain": [
       "Pipeline(steps=[('preprocessor',\n",
       "                 ColumnTransformer(transformers=[('ss', StandardScaler(),\n",
       "                                                  Index(['age', 'hypertension', 'heart_disease', 'avg_glucose_level', 'bmi',\n",
       "       'gender_Male', 'ever_married_Yes', 'work_type_Private',\n",
       "       'work_type_Self-employed', 'work_type_children', 'Residence_type_Urban',\n",
       "       'smoking_status_formerly smoked'],\n",
       "      dtype='object'))])),\n",
       "                ('algo',\n",
       "                 RandomForestClassifier(max_depth=19, n_estimators=1000,\n",
       "                                        n_jobs=-1, random_state=0))])"
      ]
     },
     "execution_count": 241,
     "metadata": {},
     "output_type": "execute_result"
    }
   ],
   "source": [
    "## Fitting the pipeline on the train data.\n",
    "pipeline_rf.fit(X_train_new,y_train)"
   ]
  },
  {
   "cell_type": "code",
   "execution_count": 242,
   "id": "56eda9d4",
   "metadata": {
    "colab": {
     "base_uri": "https://localhost:8080/"
    },
    "executionInfo": {
     "elapsed": 779,
     "status": "ok",
     "timestamp": 1660298089235,
     "user": {
      "displayName": "V. Arun Kumar",
      "userId": "02991517788843717529"
     },
     "user_tz": -330
    },
    "id": "56eda9d4",
    "outputId": "8ff99670-4d7e-42a3-e8c9-23516b8a55ae"
   },
   "outputs": [
    {
     "name": "stdout",
     "output_type": "stream",
     "text": [
      "Accuracy: 0.9353393085787451\n",
      "Recall: 0.9251592356687898\n",
      "Confusion Matrix:\n",
      "               precision    recall  f1-score   support\n",
      "\n",
      "           0       0.95      0.94      0.95       934\n",
      "           1       0.91      0.93      0.92       628\n",
      "\n",
      "    accuracy                           0.94      1562\n",
      "   macro avg       0.93      0.93      0.93      1562\n",
      "weighted avg       0.94      0.94      0.94      1562\n",
      "\n"
     ]
    }
   ],
   "source": [
    "## Prediction on test data\n",
    "prediction_rf = pipeline_rf.predict(X_test_new)\n",
    "\n",
    "## Computing Accuracy, Recall, and Confusion matrix for test data\n",
    "print(\"Accuracy:\",metrics.accuracy_score(prediction_rf,y_test))\n",
    "print(\"Recall:\",metrics.recall_score(prediction_rf,y_test))\n",
    "print(\"Confusion Matrix:\\n\",metrics.classification_report(prediction_rf,y_test))"
   ]
  },
  {
   "cell_type": "markdown",
   "id": "Nsu2xtshpXX-",
   "metadata": {
    "id": "Nsu2xtshpXX-"
   },
   "source": [
    "#### Using DecisionTreeRegressor "
   ]
  },
  {
   "cell_type": "code",
   "execution_count": 234,
   "id": "v0PYykDXpXX-",
   "metadata": {
    "colab": {
     "base_uri": "https://localhost:8080/"
    },
    "executionInfo": {
     "elapsed": 11,
     "status": "ok",
     "timestamp": 1660298089236,
     "user": {
      "displayName": "V. Arun Kumar",
      "userId": "02991517788843717529"
     },
     "user_tz": -330
    },
    "id": "v0PYykDXpXX-",
    "outputId": "0cbe7984-ca31-4e10-c8bc-dd223494f471"
   },
   "outputs": [
    {
     "name": "stdout",
     "output_type": "stream",
     "text": [
      "Accuracy: 0.8962868117797695\n",
      "Recall: 0.8632872503840245\n",
      "Confusion Matrix:\n",
      "               precision    recall  f1-score   support\n",
      "\n",
      "           0       0.90      0.92      0.91       911\n",
      "           1       0.89      0.86      0.87       651\n",
      "\n",
      "    accuracy                           0.90      1562\n",
      "   macro avg       0.89      0.89      0.89      1562\n",
      "weighted avg       0.90      0.90      0.90      1562\n",
      "\n"
     ]
    }
   ],
   "source": [
    "## Building a simple random forest classifier as a base model using original data.\n",
    "dt = DecisionTreeClassifier()\n",
    "dt.fit(X_train,y_train)\n",
    "\n",
    "## Prediction on original test data\n",
    "og_prediction_dt = dt.predict(X_test)\n",
    "\n",
    "## Computing Accuracy, Recall, and Confusion matrix for test data\n",
    "print(\"Accuracy:\",metrics.accuracy_score(og_prediction_dt,y_test))\n",
    "print(\"Recall:\",metrics.recall_score(og_prediction_dt,y_test))\n",
    "print(\"Confusion Matrix:\\n\",metrics.classification_report(og_prediction_dt,y_test))"
   ]
  },
  {
   "cell_type": "code",
   "execution_count": null,
   "id": "-_Bx2ur3to-e",
   "metadata": {
    "executionInfo": {
     "elapsed": 6,
     "status": "ok",
     "timestamp": 1660298089236,
     "user": {
      "displayName": "V. Arun Kumar",
      "userId": "02991517788843717529"
     },
     "user_tz": -330
    },
    "id": "-_Bx2ur3to-e"
   },
   "outputs": [],
   "source": []
  },
  {
   "cell_type": "code",
   "execution_count": 235,
   "id": "K30K1bd4to-f",
   "metadata": {
    "colab": {
     "base_uri": "https://localhost:8080/",
     "height": 295
    },
    "executionInfo": {
     "elapsed": 4287,
     "status": "ok",
     "timestamp": 1660298093518,
     "user": {
      "displayName": "V. Arun Kumar",
      "userId": "02991517788843717529"
     },
     "user_tz": -330
    },
    "id": "K30K1bd4to-f",
    "outputId": "daac2bf9-baf3-4a2e-8a33-409045588b8c"
   },
   "outputs": [
    {
     "data": {
      "image/png": "[encoded data removed]",
      "text/plain": [
       "<Figure size 432x288 with 1 Axes>"
      ]
     },
     "metadata": {
      "needs_background": "light"
     },
     "output_type": "display_data"
    }
   ],
   "source": [
    "# Build step forward feature selection\n",
    "sfs1 = sfs(dt, k_features=14, forward=True, cv=5, scoring=\"recall\")\n",
    "# Perform SFFS\n",
    "sfs1 = sfs1.fit(X_train.values, y_train)\n",
    "sfs2=sfs1.get_metric_dict()\n",
    "sfs2 = pd.DataFrame.from_dict(sfs2)\n",
    "\n",
    "fig = plot_sfs(sfs2)\n",
    "\n",
    "plt.title('Backward Feature Elimination')\n",
    "plt.grid()\n",
    "plt.show()"
   ]
  },
  {
   "cell_type": "code",
   "execution_count": 243,
   "id": "jjKOKpveto-f",
   "metadata": {
    "colab": {
     "base_uri": "https://localhost:8080/"
    },
    "executionInfo": {
     "elapsed": 30,
     "status": "ok",
     "timestamp": 1660298093518,
     "user": {
      "displayName": "V. Arun Kumar",
      "userId": "02991517788843717529"
     },
     "user_tz": -330
    },
    "id": "jjKOKpveto-f",
    "outputId": "a6082640-51ae-4eef-e59d-6b1363322d7d"
   },
   "outputs": [
    {
     "name": "stdout",
     "output_type": "stream",
     "text": [
      "[0, 1, 2, 3, 4, 5, 6, 7, 8, 9, 10, 11, 12, 13]\n"
     ]
    }
   ],
   "source": [
    "# Which features?\n",
    "columnList = list(X_train)\n",
    "feat_cols = list(sfs1.k_feature_idx_)\n",
    "print(feat_cols)"
   ]
  },
  {
   "cell_type": "code",
   "execution_count": 244,
   "id": "VBvVUXg2to-g",
   "metadata": {
    "colab": {
     "base_uri": "https://localhost:8080/"
    },
    "executionInfo": {
     "elapsed": 26,
     "status": "ok",
     "timestamp": 1660298093519,
     "user": {
      "displayName": "V. Arun Kumar",
      "userId": "02991517788843717529"
     },
     "user_tz": -330
    },
    "id": "VBvVUXg2to-g",
    "outputId": "b73bc308-88d2-4f88-9943-52efc7a1fc66"
   },
   "outputs": [
    {
     "name": "stdout",
     "output_type": "stream",
     "text": [
      "['age', 'hypertension', 'heart_disease', 'avg_glucose_level', 'bmi', 'gender_Male', 'ever_married_Yes', 'work_type_Private', 'work_type_Self-employed', 'work_type_children', 'Residence_type_Urban', 'smoking_status_formerly smoked', 'smoking_status_never smoked', 'smoking_status_smokes']\n"
     ]
    }
   ],
   "source": [
    "# to fetch the names of the columns using the index\n",
    "subsetColumnList = [columnList[i] for i in feat_cols] \n",
    "print(subsetColumnList)"
   ]
  },
  {
   "cell_type": "code",
   "execution_count": 245,
   "id": "MggswpqRto-g",
   "metadata": {
    "executionInfo": {
     "elapsed": 24,
     "status": "ok",
     "timestamp": 1660298093519,
     "user": {
      "displayName": "V. Arun Kumar",
      "userId": "02991517788843717529"
     },
     "user_tz": -330
    },
    "id": "MggswpqRto-g"
   },
   "outputs": [],
   "source": [
    "subsetColumnList = subsetColumnList[:-1]"
   ]
  },
  {
   "cell_type": "code",
   "execution_count": 246,
   "id": "7NAj454Qto-h",
   "metadata": {
    "executionInfo": {
     "elapsed": 23,
     "status": "ok",
     "timestamp": 1660298093519,
     "user": {
      "displayName": "V. Arun Kumar",
      "userId": "02991517788843717529"
     },
     "user_tz": -330
    },
    "id": "7NAj454Qto-h"
   },
   "outputs": [],
   "source": [
    "## Here we are going to build Random Forest Classification model and Tune the hyperparameters for the same using \"GridSearchCV\""
   ]
  },
  {
   "cell_type": "code",
   "execution_count": 247,
   "id": "jd96hSfVto-h",
   "metadata": {
    "colab": {
     "base_uri": "https://localhost:8080/",
     "height": 287
    },
    "executionInfo": {
     "elapsed": 24,
     "status": "ok",
     "timestamp": 1660298093520,
     "user": {
      "displayName": "V. Arun Kumar",
      "userId": "02991517788843717529"
     },
     "user_tz": -330
    },
    "id": "jd96hSfVto-h",
    "outputId": "a93d9ab0-c9df-41ef-e00b-d578e4257ffe"
   },
   "outputs": [
    {
     "data": {
      "text/html": [
       "<div>\n",
       "<style scoped>\n",
       "    .dataframe tbody tr th:only-of-type {\n",
       "        vertical-align: middle;\n",
       "    }\n",
       "\n",
       "    .dataframe tbody tr th {\n",
       "        vertical-align: top;\n",
       "    }\n",
       "\n",
       "    .dataframe thead th {\n",
       "        text-align: right;\n",
       "    }\n",
       "</style>\n",
       "<table border=\"1\" class=\"dataframe\">\n",
       "  <thead>\n",
       "    <tr style=\"text-align: right;\">\n",
       "      <th></th>\n",
       "      <th>age</th>\n",
       "      <th>hypertension</th>\n",
       "      <th>heart_disease</th>\n",
       "      <th>avg_glucose_level</th>\n",
       "      <th>bmi</th>\n",
       "      <th>gender_Male</th>\n",
       "      <th>ever_married_Yes</th>\n",
       "      <th>work_type_Private</th>\n",
       "      <th>work_type_Self-employed</th>\n",
       "      <th>work_type_children</th>\n",
       "      <th>Residence_type_Urban</th>\n",
       "      <th>smoking_status_formerly smoked</th>\n",
       "      <th>smoking_status_never smoked</th>\n",
       "      <th>smoking_status_smokes</th>\n",
       "    </tr>\n",
       "  </thead>\n",
       "  <tbody>\n",
       "    <tr>\n",
       "      <th>4677</th>\n",
       "      <td>70.000000</td>\n",
       "      <td>0</td>\n",
       "      <td>0</td>\n",
       "      <td>212.870000</td>\n",
       "      <td>34.800000</td>\n",
       "      <td>0</td>\n",
       "      <td>1</td>\n",
       "      <td>1</td>\n",
       "      <td>0</td>\n",
       "      <td>0</td>\n",
       "      <td>0</td>\n",
       "      <td>0</td>\n",
       "      <td>1</td>\n",
       "      <td>0</td>\n",
       "    </tr>\n",
       "    <tr>\n",
       "      <th>3728</th>\n",
       "      <td>0.720000</td>\n",
       "      <td>0</td>\n",
       "      <td>0</td>\n",
       "      <td>159.790000</td>\n",
       "      <td>19.900000</td>\n",
       "      <td>1</td>\n",
       "      <td>0</td>\n",
       "      <td>0</td>\n",
       "      <td>0</td>\n",
       "      <td>1</td>\n",
       "      <td>0</td>\n",
       "      <td>0</td>\n",
       "      <td>0</td>\n",
       "      <td>0</td>\n",
       "    </tr>\n",
       "    <tr>\n",
       "      <th>6137</th>\n",
       "      <td>76.547787</td>\n",
       "      <td>0</td>\n",
       "      <td>0</td>\n",
       "      <td>107.248114</td>\n",
       "      <td>28.912123</td>\n",
       "      <td>0</td>\n",
       "      <td>1</td>\n",
       "      <td>0</td>\n",
       "      <td>1</td>\n",
       "      <td>0</td>\n",
       "      <td>0</td>\n",
       "      <td>0</td>\n",
       "      <td>0</td>\n",
       "      <td>0</td>\n",
       "    </tr>\n",
       "    <tr>\n",
       "      <th>6200</th>\n",
       "      <td>55.755426</td>\n",
       "      <td>0</td>\n",
       "      <td>0</td>\n",
       "      <td>97.104583</td>\n",
       "      <td>28.310058</td>\n",
       "      <td>0</td>\n",
       "      <td>1</td>\n",
       "      <td>1</td>\n",
       "      <td>0</td>\n",
       "      <td>0</td>\n",
       "      <td>0</td>\n",
       "      <td>0</td>\n",
       "      <td>0</td>\n",
       "      <td>1</td>\n",
       "    </tr>\n",
       "    <tr>\n",
       "      <th>4991</th>\n",
       "      <td>58.324112</td>\n",
       "      <td>0</td>\n",
       "      <td>0</td>\n",
       "      <td>75.483574</td>\n",
       "      <td>29.970198</td>\n",
       "      <td>0</td>\n",
       "      <td>1</td>\n",
       "      <td>1</td>\n",
       "      <td>0</td>\n",
       "      <td>0</td>\n",
       "      <td>0</td>\n",
       "      <td>0</td>\n",
       "      <td>0</td>\n",
       "      <td>0</td>\n",
       "    </tr>\n",
       "  </tbody>\n",
       "</table>\n",
       "</div>"
      ],
      "text/plain": [
       "            age  hypertension  heart_disease  avg_glucose_level        bmi  \\\n",
       "4677  70.000000             0              0         212.870000  34.800000   \n",
       "3728   0.720000             0              0         159.790000  19.900000   \n",
       "6137  76.547787             0              0         107.248114  28.912123   \n",
       "6200  55.755426             0              0          97.104583  28.310058   \n",
       "4991  58.324112             0              0          75.483574  29.970198   \n",
       "\n",
       "      gender_Male  ever_married_Yes  work_type_Private  \\\n",
       "4677            0                 1                  1   \n",
       "3728            1                 0                  0   \n",
       "6137            0                 1                  0   \n",
       "6200            0                 1                  1   \n",
       "4991            0                 1                  1   \n",
       "\n",
       "      work_type_Self-employed  work_type_children  Residence_type_Urban  \\\n",
       "4677                        0                   0                     0   \n",
       "3728                        0                   1                     0   \n",
       "6137                        1                   0                     0   \n",
       "6200                        0                   0                     0   \n",
       "4991                        0                   0                     0   \n",
       "\n",
       "      smoking_status_formerly smoked  smoking_status_never smoked  \\\n",
       "4677                               0                            1   \n",
       "3728                               0                            0   \n",
       "6137                               0                            0   \n",
       "6200                               0                            0   \n",
       "4991                               0                            0   \n",
       "\n",
       "      smoking_status_smokes  \n",
       "4677                      0  \n",
       "3728                      0  \n",
       "6137                      0  \n",
       "6200                      1  \n",
       "4991                      0  "
      ]
     },
     "execution_count": 247,
     "metadata": {},
     "output_type": "execute_result"
    }
   ],
   "source": [
    "X_train.head()"
   ]
  },
  {
   "cell_type": "code",
   "execution_count": 248,
   "id": "9oV5RSBjto-i",
   "metadata": {
    "executionInfo": {
     "elapsed": 23,
     "status": "ok",
     "timestamp": 1660298093520,
     "user": {
      "displayName": "V. Arun Kumar",
      "userId": "02991517788843717529"
     },
     "user_tz": -330
    },
    "id": "9oV5RSBjto-i"
   },
   "outputs": [],
   "source": [
    "X_train_new=pd.DataFrame(X_train[subsetColumnList])\n",
    "X_test_new=pd.DataFrame(X_test[subsetColumnList])"
   ]
  },
  {
   "cell_type": "code",
   "execution_count": 249,
   "id": "XGwLJGfVto-i",
   "metadata": {
    "colab": {
     "base_uri": "https://localhost:8080/"
    },
    "executionInfo": {
     "elapsed": 23,
     "status": "ok",
     "timestamp": 1660298093520,
     "user": {
      "displayName": "V. Arun Kumar",
      "userId": "02991517788843717529"
     },
     "user_tz": -330
    },
    "id": "XGwLJGfVto-i",
    "outputId": "0d0d8683-235b-42da-83a4-7b773290dfc1"
   },
   "outputs": [
    {
     "data": {
      "text/plain": [
       "(6247, 13)"
      ]
     },
     "execution_count": 249,
     "metadata": {},
     "output_type": "execute_result"
    }
   ],
   "source": [
    "X_train_new.shape"
   ]
  },
  {
   "cell_type": "code",
   "execution_count": 250,
   "id": "mzCpQ1Keto-j",
   "metadata": {
    "executionInfo": {
     "elapsed": 20,
     "status": "ok",
     "timestamp": 1660298093520,
     "user": {
      "displayName": "V. Arun Kumar",
      "userId": "02991517788843717529"
     },
     "user_tz": -330
    },
    "id": "mzCpQ1Keto-j"
   },
   "outputs": [],
   "source": [
    "col_trans = ColumnTransformer([\n",
    "    ('ss', StandardScaler(), X_train_new.columns)])"
   ]
  },
  {
   "cell_type": "code",
   "execution_count": 251,
   "id": "-j4VVrQuto-k",
   "metadata": {
    "executionInfo": {
     "elapsed": 20,
     "status": "ok",
     "timestamp": 1660298093521,
     "user": {
      "displayName": "V. Arun Kumar",
      "userId": "02991517788843717529"
     },
     "user_tz": -330
    },
    "id": "-j4VVrQuto-k"
   },
   "outputs": [],
   "source": [
    "# Building a pipeline\n",
    "pipeline = Pipeline([ ('preprocessor',col_trans),  # Scaling the data\n",
    "    ('algo',DecisionTreeClassifier())\n",
    "])"
   ]
  },
  {
   "cell_type": "code",
   "execution_count": 252,
   "id": "Puws2DgBto-l",
   "metadata": {
    "colab": {
     "base_uri": "https://localhost:8080/"
    },
    "executionInfo": {
     "elapsed": 20,
     "status": "ok",
     "timestamp": 1660298093521,
     "user": {
      "displayName": "V. Arun Kumar",
      "userId": "02991517788843717529"
     },
     "user_tz": -330
    },
    "id": "Puws2DgBto-l",
    "outputId": "d0528d43-fecd-44c7-9823-aa53c6a74bf4"
   },
   "outputs": [
    {
     "data": {
      "text/plain": [
       "ColumnTransformer(transformers=[('ss', StandardScaler(),\n",
       "                                 Index(['age', 'hypertension', 'heart_disease', 'avg_glucose_level', 'bmi',\n",
       "       'gender_Male', 'ever_married_Yes', 'work_type_Private',\n",
       "       'work_type_Self-employed', 'work_type_children', 'Residence_type_Urban',\n",
       "       'smoking_status_formerly smoked', 'smoking_status_never smoked'],\n",
       "      dtype='object'))])"
      ]
     },
     "execution_count": 252,
     "metadata": {},
     "output_type": "execute_result"
    }
   ],
   "source": [
    "col_trans.fit(X_train_new)"
   ]
  },
  {
   "cell_type": "code",
   "execution_count": 253,
   "id": "cRay5kYkto-l",
   "metadata": {
    "executionInfo": {
     "elapsed": 18,
     "status": "ok",
     "timestamp": 1660298093521,
     "user": {
      "displayName": "V. Arun Kumar",
      "userId": "02991517788843717529"
     },
     "user_tz": -330
    },
    "id": "cRay5kYkto-l"
   },
   "outputs": [],
   "source": [
    "### Parameters to tune.\n",
    "param_rf = [{'algo__criterion':['gini', 'entropy'],\n",
    "            'algo__max_depth':(7,25)}]"
   ]
  },
  {
   "cell_type": "code",
   "execution_count": 254,
   "id": "qI4HTiNMto-l",
   "metadata": {
    "colab": {
     "base_uri": "https://localhost:8080/"
    },
    "executionInfo": {
     "elapsed": 807,
     "status": "ok",
     "timestamp": 1660298094310,
     "user": {
      "displayName": "V. Arun Kumar",
      "userId": "02991517788843717529"
     },
     "user_tz": -330
    },
    "id": "qI4HTiNMto-l",
    "outputId": "c63b989b-90a7-4085-9a55-cb9f5f275a80"
   },
   "outputs": [
    {
     "name": "stdout",
     "output_type": "stream",
     "text": [
      "Fitting 5 folds for each of 4 candidates, totalling 20 fits\n",
      "Best Hyper Parameters:\n",
      " {'algo__max_depth': 25, 'algo__criterion': 'entropy'}\n"
     ]
    }
   ],
   "source": [
    "# Create an instance of RandomizedSearchCV as model\n",
    "random_cv = RandomizedSearchCV(pipeline,param_rf,cv=5,n_jobs=-1,verbose=1)\n",
    "\n",
    "#learning\n",
    "random_cv.fit(X_train_new,y_train)\n",
    "\n",
    "# print best hyperparameters from shared set of parameters\n",
    "print(\"Best Hyper Parameters:\\n\",random_cv.best_params_)"
   ]
  },
  {
   "cell_type": "code",
   "execution_count": 255,
   "id": "zVawIwCPto-n",
   "metadata": {
    "colab": {
     "base_uri": "https://localhost:8080/"
    },
    "executionInfo": {
     "elapsed": 13,
     "status": "ok",
     "timestamp": 1660298094311,
     "user": {
      "displayName": "V. Arun Kumar",
      "userId": "02991517788843717529"
     },
     "user_tz": -330
    },
    "id": "zVawIwCPto-n",
    "outputId": "b33f443e-bb24-48c4-fdfd-6e0acaa0459e"
   },
   "outputs": [
    {
     "name": "stdout",
     "output_type": "stream",
     "text": [
      "Confusion Matrix:\n",
      " [[823  62]\n",
      " [104 573]]\n"
     ]
    }
   ],
   "source": [
    "#evaluation(Confusion Matrix)\n",
    "prediction_RS = random_cv.predict(X_test_new)\n",
    "print(\"Confusion Matrix:\\n\",metrics.confusion_matrix(prediction_RS,y_test))"
   ]
  },
  {
   "cell_type": "code",
   "execution_count": 256,
   "id": "1KifeGphto-n",
   "metadata": {
    "executionInfo": {
     "elapsed": 9,
     "status": "ok",
     "timestamp": 1660298094311,
     "user": {
      "displayName": "V. Arun Kumar",
      "userId": "02991517788843717529"
     },
     "user_tz": -330
    },
    "id": "1KifeGphto-n"
   },
   "outputs": [],
   "source": [
    "from sklearn.ensemble import RandomForestClassifier\n",
    "# Building a pipeline and passing the transformer and the classfier\n",
    "# Building a pipeline\n",
    "pipeline_dt = Pipeline([\n",
    "    ('preprocessor',col_trans),\n",
    "    ('algo',DecisionTreeClassifier(max_depth= 23, criterion= 'gini',random_state=0))\n",
    "])"
   ]
  },
  {
   "cell_type": "code",
   "execution_count": 257,
   "id": "WDn620Trto-n",
   "metadata": {
    "colab": {
     "base_uri": "https://localhost:8080/"
    },
    "executionInfo": {
     "elapsed": 9,
     "status": "ok",
     "timestamp": 1660298094311,
     "user": {
      "displayName": "V. Arun Kumar",
      "userId": "02991517788843717529"
     },
     "user_tz": -330
    },
    "id": "WDn620Trto-n",
    "outputId": "ee6dc829-2ea3-45de-c218-1da2bd138c5d"
   },
   "outputs": [
    {
     "data": {
      "text/plain": [
       "Pipeline(steps=[('preprocessor',\n",
       "                 ColumnTransformer(transformers=[('ss', StandardScaler(),\n",
       "                                                  Index(['age', 'hypertension', 'heart_disease', 'avg_glucose_level', 'bmi',\n",
       "       'gender_Male', 'ever_married_Yes', 'work_type_Private',\n",
       "       'work_type_Self-employed', 'work_type_children', 'Residence_type_Urban',\n",
       "       'smoking_status_formerly smoked', 'smoking_status_never smoked'],\n",
       "      dtype='object'))])),\n",
       "                ('algo', DecisionTreeClassifier(max_depth=23, random_state=0))])"
      ]
     },
     "execution_count": 257,
     "metadata": {},
     "output_type": "execute_result"
    }
   ],
   "source": [
    "## Fitting the pipeline on the train data.\n",
    "pipeline_dt.fit(X_train_new,y_train)"
   ]
  },
  {
   "cell_type": "code",
   "execution_count": 258,
   "id": "bvACMA91to-o",
   "metadata": {
    "colab": {
     "base_uri": "https://localhost:8080/"
    },
    "executionInfo": {
     "elapsed": 7,
     "status": "ok",
     "timestamp": 1660298094311,
     "user": {
      "displayName": "V. Arun Kumar",
      "userId": "02991517788843717529"
     },
     "user_tz": -330
    },
    "id": "bvACMA91to-o",
    "outputId": "20ab645f-cd00-48e5-9dd1-45bc1aca63da"
   },
   "outputs": [
    {
     "name": "stdout",
     "output_type": "stream",
     "text": [
      "Accuracy: 0.9014084507042254\n",
      "Recall: 0.8660578386605784\n",
      "Confusion Matrix:\n",
      "               precision    recall  f1-score   support\n",
      "\n",
      "           0       0.91      0.93      0.92       905\n",
      "           1       0.90      0.87      0.88       657\n",
      "\n",
      "    accuracy                           0.90      1562\n",
      "   macro avg       0.90      0.90      0.90      1562\n",
      "weighted avg       0.90      0.90      0.90      1562\n",
      "\n"
     ]
    }
   ],
   "source": [
    "## Prediction on test data\n",
    "prediction_dt = pipeline_dt.predict(X_test_new)\n",
    "\n",
    "## Computing Accuracy, Recall, and Confusion matrix for test data\n",
    "print(\"Accuracy:\",metrics.accuracy_score(prediction_dt,y_test))\n",
    "print(\"Recall:\",metrics.recall_score(prediction_dt,y_test))\n",
    "print(\"Confusion Matrix:\\n\",metrics.classification_report(prediction_dt,y_test))"
   ]
  },
  {
   "cell_type": "markdown",
   "id": "533863f6",
   "metadata": {
    "id": "533863f6"
   },
   "source": [
    "## Conclusions:"
   ]
  },
  {
   "cell_type": "markdown",
   "id": "09323969",
   "metadata": {
    "id": "09323969"
   },
   "source": [
    "### 16. Compare the evaluation metrics of the base model with imbalanced data, and the best performing model with balanced data, and write your conclusion. Mention the steps taken to improve the performance of the model."
   ]
  },
  {
   "cell_type": "code",
   "execution_count": null,
   "id": "019c5b89",
   "metadata": {
    "colab": {
     "base_uri": "https://localhost:8080/"
    },
    "executionInfo": {
     "elapsed": 5,
     "status": "ok",
     "timestamp": 1660298094311,
     "user": {
      "displayName": "V. Arun Kumar",
      "userId": "02991517788843717529"
     },
     "user_tz": -330
    },
    "id": "019c5b89",
    "outputId": "6007eb1e-a02d-4d55-a870-9d160ed7fecf",
    "scrolled": true
   },
   "outputs": [],
   "source": [
    "print('\\033[1;46;13m Performance of Base model on Imbalanced Data:\\033[0;0m')\n",
    "print(\"Accuracy:\",metrics.accuracy_score(og_prediction,y_test_base))\n",
    "print(\"Recall:\",metrics.recall_score(og_prediction,y_test_base))\n",
    "print(\"Confusion Matrix:\\n\",metrics.classification_report(og_prediction,y_test_base))\n",
    "print('--'*50)\n",
    "\n",
    "print('\\033[1;46;13m Performance of Random Forest Algorithm with tuned hyperparameters, on Balanced Data:\\033[0;0m')\n",
    "print(\"Accuracy:\",metrics.accuracy_score(prediction_rf,y_test))\n",
    "print(\"Recall:\",metrics.recall_score(prediction_rf,y_test))\n",
    "print(\"Confusion Matrix:\\n\",metrics.classification_report(prediction_rf,y_test))\n",
    "print('--'*50)"
   ]
  },
  {
   "cell_type": "markdown",
   "id": "8697d352",
   "metadata": {
    "id": "8697d352"
   },
   "source": [
    "To conclude:\n",
    "- We can observe from the above results comparison of base model and the tuned model, we can clearly see the impact of handling imbalanced data, feature selection and hyperparameter tuning, we had a recall score of zero where we used original imbalanced data, after we handled imbalanced data and selected best K features and tuned hyperparameters, we have a recall score greater than 80% for random forest classifier model and the decision tree classifier model.\n",
    "- First we have balanced our imbalanced data using Oversampling approach.\n",
    "- We had around 14 features in the balanced dataset. Out of 14 features we selected K=11 as the best features based on the feature importance.\n",
    "- Then we have tuned the hyperparameters for the Random Forest Classifier using the GridSearchCV with 5folds on the K best features.(the best combination of hyperparameters were 'max_depth': 23, 'n_estimators': 500}).\n",
    "- We have also tuned the hyperparameters for the Decision Tree Classifier using the RandomozedSearchCV with 5folds on the K best features.(the best combination of hyperparameters were 'max_depth': 25, 'criterion': 'gini'}).\n",
    "- Then we have built a pipeline, where when we pass the train data with best features, it will first scale the data, and then fit the RF and DT model with tuned parameters.\n",
    "- From the both models that we have built we would prefer Random Forest algorithm over the Decision Tree Classifier based on the algorithm performance on the data. \n",
    "- In this notebook, we have tried only a single approch when comes to balancing the data, two methods of feature selection, and have implemented two models for model selection and performed respective hyperparameter tuning. Further, we can try out different data balancing approach, feature selection, and different models and hyperparameters to get best results."
   ]
  },
  {
   "cell_type": "markdown",
   "id": "0df4b6e9",
   "metadata": {
    "id": "0df4b6e9"
   },
   "source": [
    "### Happy Learning:)"
   ]
  },
  {
   "cell_type": "code",
   "execution_count": null,
   "id": "00575d91",
   "metadata": {},
   "outputs": [],
   "source": []
  },
  {
   "cell_type": "code",
   "execution_count": null,
   "id": "d60d1f9d",
   "metadata": {},
   "outputs": [],
   "source": []
  },
  {
   "cell_type": "code",
   "execution_count": null,
   "id": "ecbaf99a",
   "metadata": {},
   "outputs": [],
   "source": []
  }
 ],
 "metadata": {
  "colab": {
   "collapsed_sections": [
    "718a1cb3",
    "0df4b6e9"
   ],
   "name": "Brain Stroke.ipynb",
   "provenance": [
    {
     "file_id": "1vAvRGkqDlw-RN3HFECrlR9DFAemoRAB2",
     "timestamp": 1660278392798
    }
   ]
  },
  "kernelspec": {
   "display_name": "Python 3 (ipykernel)",
   "language": "python",
   "name": "python3"
  },
  "language_info": {
   "codemirror_mode": {
    "name": "ipython",
    "version": 3
   },
   "file_extension": ".py",
   "mimetype": "text/x-python",
   "name": "python",
   "nbconvert_exporter": "python",
   "pygments_lexer": "ipython3",
   "version": "3.9.12"
  }
 },
 "nbformat": 4,
 "nbformat_minor": 5
}
