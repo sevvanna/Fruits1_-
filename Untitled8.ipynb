{
 "cells": [
  {
   "cell_type": "code",
   "execution_count": 2,
   "id": "44e33c7e",
   "metadata": {},
   "outputs": [
    {
     "name": "stdout",
     "output_type": "stream",
     "text": [
      "Enter the  main number\n",
      "3\n",
      "enter the number\n",
      "1\n",
      "enter the number\n",
      "2\n",
      "enter the number\n",
      "3\n"
     ]
    }
   ],
   "source": [
    "print(\"Enter the  main number\")\n",
    "lst=[]\n",
    "x=int(input())\n",
    "for i in range(0,x):\n",
    "    print(\"enter the number\")\n",
    "    y=int(input())\n",
    "    lst.append(y)"
   ]
  },
  {
   "cell_type": "code",
   "execution_count": 3,
   "id": "6c9d08c5",
   "metadata": {},
   "outputs": [
    {
     "data": {
      "text/plain": [
       "[1, 2, 3]"
      ]
     },
     "execution_count": 3,
     "metadata": {},
     "output_type": "execute_result"
    }
   ],
   "source": [
    "lst"
   ]
  },
  {
   "cell_type": "code",
   "execution_count": 5,
   "id": "f05dc77f",
   "metadata": {},
   "outputs": [
    {
     "name": "stdout",
     "output_type": "stream",
     "text": [
      "Enter the number of element\n",
      "3\n",
      "Enter the number\n",
      "1\n",
      "Enter the number\n",
      "2\n",
      "Enter the number\n",
      "3\n"
     ]
    }
   ],
   "source": [
    "import sys\n",
    "import random\n",
    "\n",
    "# write your answer here\n",
    "print(\"Enter the number of element\")\n",
    "x=int(input())\n",
    "lst=[]\n",
    "for i in range(0,x):\n",
    "    print(\"Enter the number\")\n",
    "    y=int(input())\n",
    "    lst.append(y)\n",
    "    \n",
    "\n"
   ]
  },
  {
   "cell_type": "code",
   "execution_count": 79,
   "id": "ceedfb16",
   "metadata": {},
   "outputs": [
    {
     "name": "stdout",
     "output_type": "stream",
     "text": [
      "2\n",
      "3\n",
      "2\n",
      "2\n",
      "2\n",
      "2\n"
     ]
    }
   ],
   "source": [
    "A=[1,2,3]\n",
    "B=[1,2,3]\n",
    "\n",
    "for i in range(0,3):\n",
    "    output=[]\n",
    "    Arand=random.choice(A)\n",
    "    print( Arand)\n",
    "    Brand=random.choice(B)\n",
    "    print( Brand)\n",
    "if(Arand == Brand):\n",
    "    output.append(0)\n",
    "\n",
    "    A.remove(Arand)\n",
    "    B.remove(Brand)\n",
    "    print(A)\n",
    "    print()\n",
    "elif(Brand > Arand): \n",
    "    output.append(2)\n",
    "    \n",
    "    A.remove(Arand)\n",
    "elif(Arand > Brand):\n",
    "    output.append(1)\n",
    "   \n",
    "    B.remove(Brand)\n",
    "    \n",
    "    "
   ]
  },
  {
   "cell_type": "code",
   "execution_count": 85,
   "id": "29e0f62e",
   "metadata": {},
   "outputs": [
    {
     "data": {
      "text/plain": [
       "[1, 3]"
      ]
     },
     "execution_count": 85,
     "metadata": {},
     "output_type": "execute_result"
    }
   ],
   "source": [
    "A"
   ]
  },
  {
   "cell_type": "code",
   "execution_count": 86,
   "id": "afdcbcf4",
   "metadata": {},
   "outputs": [
    {
     "data": {
      "text/plain": [
       "[1, 3]"
      ]
     },
     "execution_count": 86,
     "metadata": {},
     "output_type": "execute_result"
    }
   ],
   "source": [
    "B"
   ]
  },
  {
   "cell_type": "code",
   "execution_count": 80,
   "id": "c7adf362",
   "metadata": {},
   "outputs": [
    {
     "data": {
      "text/plain": [
       "[0]"
      ]
     },
     "execution_count": 80,
     "metadata": {},
     "output_type": "execute_result"
    }
   ],
   "source": [
    "output"
   ]
  },
  {
   "cell_type": "code",
   "execution_count": 82,
   "id": "7e8ab6d1",
   "metadata": {},
   "outputs": [],
   "source": [
    "a=[2]\n",
    "b=[1]\n",
    "output1=[]\n",
    "if(a > b):\n",
    "    output1.append(1)\n",
    "    a.pop(0)\n",
    "    b.pop(0)"
   ]
  },
  {
   "cell_type": "code",
   "execution_count": 83,
   "id": "ef47588b",
   "metadata": {},
   "outputs": [
    {
     "data": {
      "text/plain": [
       "[0]"
      ]
     },
     "execution_count": 83,
     "metadata": {},
     "output_type": "execute_result"
    }
   ],
   "source": [
    "output"
   ]
  },
  {
   "cell_type": "code",
   "execution_count": 84,
   "id": "78c9d313",
   "metadata": {},
   "outputs": [
    {
     "data": {
      "text/plain": [
       "[]"
      ]
     },
     "execution_count": 84,
     "metadata": {},
     "output_type": "execute_result"
    }
   ],
   "source": [
    "a"
   ]
  },
  {
   "cell_type": "code",
   "execution_count": 66,
   "id": "1576f51f",
   "metadata": {},
   "outputs": [
    {
     "data": {
      "text/plain": [
       "[]"
      ]
     },
     "execution_count": 66,
     "metadata": {},
     "output_type": "execute_result"
    }
   ],
   "source": [
    "b"
   ]
  },
  {
   "cell_type": "code",
   "execution_count": null,
   "id": "a6aa431c",
   "metadata": {},
   "outputs": [],
   "source": []
  },
  {
   "cell_type": "code",
   "execution_count": null,
   "id": "999430b5",
   "metadata": {},
   "outputs": [],
   "source": []
  }
 ],
 "metadata": {
  "kernelspec": {
   "display_name": "Python 3",
   "language": "python",
   "name": "python3"
  },
  "language_info": {
   "codemirror_mode": {
    "name": "ipython",
    "version": 3
   },
   "file_extension": ".py",
   "mimetype": "text/x-python",
   "name": "python",
   "nbconvert_exporter": "python",
   "pygments_lexer": "ipython3",
   "version": "3.8.8"
  }
 },
 "nbformat": 4,
 "nbformat_minor": 5
}
