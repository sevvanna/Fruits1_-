{
 "cells": [
  {
   "cell_type": "code",
   "execution_count": null,
   "id": "c4a45400-fea1-4898-b6c3-2a1f556712df",
   "metadata": {},
   "outputs": [],
   "source": [
    "LIMIT = 100\n",
    "n,total = 1,0\n",
    "while n <LIMIT:\n",
    "    if n%3 == 0 or n%5 == 0:\n",
    "        total += n\n",
    "    n += 1\n",
    "        print(total)"
   ]
  },
  {
   "cell_type": "code",
   "execution_count": 51,
   "id": "31eec396-a3f6-44b1-820e-322b72655108",
   "metadata": {},
   "outputs": [
    {
     "name": "stdout",
     "output_type": "stream",
     "text": [
      "* \n",
      "\n",
      "* * \n",
      "\n",
      "* * * \n",
      "\n",
      "* * * * \n",
      "\n",
      "* * * * * \n",
      "\n"
     ]
    }
   ],
   "source": [
    "for i in range(0,5):\n",
    "    for k in range(0,i+1): \n",
    "        print('*',end=' ')  \n",
    "    print('\\n')    \n",
    "           "
   ]
  },
  {
   "cell_type": "code",
   "execution_count": null,
   "id": "b5f164a7-446e-4b02-9829-3f2ae2728a51",
   "metadata": {},
   "outputs": [],
   "source": []
  },
  {
   "cell_type": "code",
   "execution_count": null,
   "id": "25d73dc2-9aab-429b-bcc5-44faa986af8c",
   "metadata": {},
   "outputs": [],
   "source": []
  },
  {
   "cell_type": "code",
   "execution_count": null,
   "id": "9217de8a-b91c-46bf-b8fb-d214d01bb2e7",
   "metadata": {},
   "outputs": [],
   "source": []
  }
 ],
 "metadata": {
  "kernelspec": {
   "display_name": "Python 3",
   "language": "python",
   "name": "python3"
  },
  "language_info": {
   "codemirror_mode": {
    "name": "ipython",
    "version": 3
   },
   "file_extension": ".py",
   "mimetype": "text/x-python",
   "name": "python",
   "nbconvert_exporter": "python",
   "pygments_lexer": "ipython3",
   "version": "3.8.8"
  }
 },
 "nbformat": 4,
 "nbformat_minor": 5
}
