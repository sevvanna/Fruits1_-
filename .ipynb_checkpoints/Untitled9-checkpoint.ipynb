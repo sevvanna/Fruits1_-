{
 "cells": [
  {
   "cell_type": "code",
   "execution_count": 70,
   "id": "a6f625be",
   "metadata": {},
   "outputs": [],
   "source": [
    "import sys\n",
    "import math\n",
    "# write your answer here\n",
    "#print (\"Enter the number integers\")\n",
    "#p=int(input())\n",
    "#lst=[]\n",
    "\n",
    "#for i in range(0 p)\n",
    "   # q =int(input())\n",
    "    #lst.append(q)\n",
    "lst1=[]\n",
    "def PrintIndexes(arr, N):\n",
    "  \n",
    "  \n",
    "   \n",
    "    for i in range(N):\n",
    "  \n",
    "        # Stores the current\n",
    "        # subarray sum\n",
    "        currSubSum = 0\n",
    "     \n",
    "  \n",
    "        for j in range(i, N):\n",
    "            arr1=arr[i:j+1]\n",
    "\n",
    "\n",
    "            currSubSum=sum(arr1)\n",
    "            lst1.append(currSubSum)\n",
    "\n",
    "        return(lst1)\n",
    "\n",
    "\n",
    "            \n",
    "            \n",
    "\n",
    "\n",
    "           "
   ]
  },
  {
   "cell_type": "code",
   "execution_count": 54,
   "id": "faa24076",
   "metadata": {},
   "outputs": [],
   "source": [
    "def squareofele(N):\n",
    "    sqrlst=[]\n",
    "    for i in range(1,N+1):\n",
    "        square=i*i\n",
    "        sqrlst.append(square)\n",
    "    return(sqrlst)\n",
    "        \n",
    "        \n",
    "        \n",
    "\n",
    "        \n",
    "        "
   ]
  },
  {
   "cell_type": "code",
   "execution_count": 50,
   "id": "7a4721b3",
   "metadata": {},
   "outputs": [],
   "source": [
    "arr =[1,4,2,3]\n",
    "count=0\n",
    "\n",
    "lst=[]\n",
    "N=len(arr)"
   ]
  },
  {
   "cell_type": "code",
   "execution_count": 71,
   "id": "1356556a",
   "metadata": {},
   "outputs": [
    {
     "data": {
      "text/plain": [
       "[1, 5, 7, 10]"
      ]
     },
     "execution_count": 71,
     "metadata": {},
     "output_type": "execute_result"
    }
   ],
   "source": [
    " PrintIndexes(arr,N)"
   ]
  },
  {
   "cell_type": "code",
   "execution_count": 42,
   "id": "ab561e09",
   "metadata": {},
   "outputs": [
    {
     "data": {
      "text/plain": [
       "[1, 4, 9, 16]"
      ]
     },
     "execution_count": 42,
     "metadata": {},
     "output_type": "execute_result"
    }
   ],
   "source": [
    "squareofele(4)"
   ]
  },
  {
   "cell_type": "code",
   "execution_count": null,
   "id": "4b8e61bb",
   "metadata": {},
   "outputs": [],
   "source": []
  }
 ],
 "metadata": {
  "kernelspec": {
   "display_name": "Python 3",
   "language": "python",
   "name": "python3"
  },
  "language_info": {
   "codemirror_mode": {
    "name": "ipython",
    "version": 3
   },
   "file_extension": ".py",
   "mimetype": "text/x-python",
   "name": "python",
   "nbconvert_exporter": "python",
   "pygments_lexer": "ipython3",
   "version": "3.8.8"
  }
 },
 "nbformat": 4,
 "nbformat_minor": 5
}
