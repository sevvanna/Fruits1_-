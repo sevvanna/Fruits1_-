{
 "cells": [
  {
   "cell_type": "code",
   "execution_count": 1,
   "id": "d39dae84",
   "metadata": {},
   "outputs": [
    {
     "name": "stdout",
     "output_type": "stream",
     "text": [
      "Enter the number\n",
      "3\n",
      "0\n",
      "1\n",
      "4\n"
     ]
    }
   ],
   "source": [
    "print(\"Enter the number\")\n",
    "\n",
    "x=int(input())\n",
    "for i in range(0,x):\n",
    "    print(i*i)"
   ]
  },
  {
   "cell_type": "code",
   "execution_count": null,
   "id": "75e30347",
   "metadata": {},
   "outputs": [],
   "source": [
    "def is_leap(year):     leap = False \n",
    "     \n",
    "    # Write your logic here     \n",
    "    if (year % 400 == 0): \n",
    "        return True     \n",
    "    if (year % 100 == 0): \n",
    "        return leap     \n",
    "    if (year % 4 == 0):         \n",
    "        return True    \n",
    "    else: \n",
    "        return False   \n",
    "     \n",
    "    return leap \n",
    " year = int(input()) print(is_leap(year)) \n",
    " \n"
   ]
  },
  {
   "cell_type": "code",
   "execution_count": 9,
   "id": "537b78af",
   "metadata": {},
   "outputs": [],
   "source": [
    "def leapyear(year):\n",
    "    \n",
    "    leap = False \n",
    "    \n",
    "    if(year%400==0):\n",
    "        return True\n",
    "    if(year%100==0):\n",
    "        return leap\n",
    "    if(year%4==0):\n",
    "         return True    \n",
    "    else: \n",
    "        return False \n",
    "    \n",
    "    return leap \n",
    "       "
   ]
  },
  {
   "cell_type": "code",
   "execution_count": 10,
   "id": "1f1cef36",
   "metadata": {},
   "outputs": [],
   "source": [
    "x=leapyear(2000)"
   ]
  },
  {
   "cell_type": "code",
   "execution_count": 11,
   "id": "9669b98c",
   "metadata": {},
   "outputs": [
    {
     "data": {
      "text/plain": [
       "True"
      ]
     },
     "execution_count": 11,
     "metadata": {},
     "output_type": "execute_result"
    }
   ],
   "source": [
    "x"
   ]
  },
  {
   "cell_type": "code",
   "execution_count": 14,
   "id": "eb0d2ecb",
   "metadata": {},
   "outputs": [],
   "source": [
    "x=leapyear(2002)"
   ]
  },
  {
   "cell_type": "code",
   "execution_count": 15,
   "id": "e7b61d17",
   "metadata": {},
   "outputs": [
    {
     "data": {
      "text/plain": [
       "False"
      ]
     },
     "execution_count": 15,
     "metadata": {},
     "output_type": "execute_result"
    }
   ],
   "source": [
    "x"
   ]
  },
  {
   "cell_type": "code",
   "execution_count": null,
   "id": "1a189cb7",
   "metadata": {},
   "outputs": [],
   "source": [
    "  def count_substring(string, sub_string): \n",
    "    count=0    \n",
    "    for i in range(0, len(string)-len(sub_string)+1): \n",
    "        if string[i] == sub_string[0]: \n",
    "            flag=1            \n",
    "            for j in range (0, len(sub_string)):                \n",
    "                if string[i+j] != sub_string[j]: \n",
    "                    flag=0                    \n",
    "                    break            \n",
    "                    if flag==1:                \n",
    "                        count += 1     \n",
    "                        return count \n",
    " \n",
    "if __name__ == '__main__':     string = input().strip()     sub_string = input().strip() \n",
    "     \n",
    "    count = count_substring(string, sub_string)     print(count) \n"
   ]
  }
 ],
 "metadata": {
  "kernelspec": {
   "display_name": "Python 3",
   "language": "python",
   "name": "python3"
  },
  "language_info": {
   "codemirror_mode": {
    "name": "ipython",
    "version": 3
   },
   "file_extension": ".py",
   "mimetype": "text/x-python",
   "name": "python",
   "nbconvert_exporter": "python",
   "pygments_lexer": "ipython3",
   "version": "3.8.8"
  }
 },
 "nbformat": 4,
 "nbformat_minor": 5
}
