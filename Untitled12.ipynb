{
 "cells": [
  {
   "cell_type": "code",
   "execution_count": 1,
   "id": "5197e213",
   "metadata": {},
   "outputs": [
    {
     "name": "stdout",
     "output_type": "stream",
     "text": [
      "Enter the number1\n",
      "Enter the number2\n",
      "Enter the number2\n",
      "Enter the number3\n",
      "Enter the number4\n",
      "Enter the number5\n",
      "Enter the number6\n",
      "Enter the number7\n",
      "Enter the number8\n",
      "Enter the number8\n",
      "Enter the number9\n",
      "Enter the number10\n",
      "Enter the number12\n",
      "Enter the number14\n",
      "Enter the number111111117\n",
      "Enter the number12\n",
      "Enter the number17\n",
      "Enter the number18\n",
      "Enter the number19\n",
      "Enter the number2\n",
      "Enter the number20\n",
      "Enter the number21\n",
      "Enter the number25\n",
      "Enter the number26\n",
      "Enter the number27\n",
      "[['1', '2', '2', '3', '4'], ['5', '6', '7', '8', '8'], ['9', '10', '12', '14', '111111117'], ['12', '17', '18', '19', '2'], ['20', '21', '25', '26', '27']]\n"
     ]
    }
   ],
   "source": [
    "rows, cols = (5, 5)\n",
    "arr = [[input(\"Enter the number\") for i in range(cols)] for j in range(rows)]\n",
    "print(arr)\n"
   ]
  },
  {
   "cell_type": "markdown",
   "id": "62281878",
   "metadata": {},
   "source": [
    "np.array(arr)"
   ]
  },
  {
   "cell_type": "code",
   "execution_count": 2,
   "id": "313c4446",
   "metadata": {},
   "outputs": [],
   "source": [
    "import numpy as np"
   ]
  },
  {
   "cell_type": "code",
   "execution_count": 3,
   "id": "642d75c6",
   "metadata": {},
   "outputs": [
    {
     "data": {
      "text/plain": [
       "array([['1', '2', '2', '3', '4'],\n",
       "       ['5', '6', '7', '8', '8'],\n",
       "       ['9', '10', '12', '14', '111111117'],\n",
       "       ['12', '17', '18', '19', '2'],\n",
       "       ['20', '21', '25', '26', '27']], dtype='<U9')"
      ]
     },
     "execution_count": 3,
     "metadata": {},
     "output_type": "execute_result"
    }
   ],
   "source": [
    "np.array(arr)"
   ]
  },
  {
   "cell_type": "code",
   "execution_count": null,
   "id": "696079a0",
   "metadata": {},
   "outputs": [],
   "source": []
  }
 ],
 "metadata": {
  "kernelspec": {
   "display_name": "Python 3",
   "language": "python",
   "name": "python3"
  },
  "language_info": {
   "codemirror_mode": {
    "name": "ipython",
    "version": 3
   },
   "file_extension": ".py",
   "mimetype": "text/x-python",
   "name": "python",
   "nbconvert_exporter": "python",
   "pygments_lexer": "ipython3",
   "version": "3.8.8"
  }
 },
 "nbformat": 4,
 "nbformat_minor": 5
}
