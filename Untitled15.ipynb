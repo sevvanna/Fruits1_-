{
 "cells": [
  {
   "cell_type": "code",
   "execution_count": 1,
   "id": "b5dfc09d",
   "metadata": {},
   "outputs": [
    {
     "name": "stdout",
     "output_type": "stream",
     "text": [
      "70\n"
     ]
    }
   ],
   "source": [
    "a=30\n",
    "b=40\n",
    "c=a+b\n",
    "print(c)"
   ]
  },
  {
   "cell_type": "code",
   "execution_count": null,
   "id": "7ccaffd6",
   "metadata": {},
   "outputs": [],
   "source": [
    "a=30"
   ]
  },
  {
   "cell_type": "code",
   "execution_count": 2,
   "id": "426f1c1c",
   "metadata": {},
   "outputs": [
    {
     "data": {
      "text/plain": [
       "int"
      ]
     },
     "execution_count": 2,
     "metadata": {},
     "output_type": "execute_result"
    }
   ],
   "source": [
    "type(a)"
   ]
  },
  {
   "cell_type": "code",
   "execution_count": 3,
   "id": "27740eb2",
   "metadata": {},
   "outputs": [],
   "source": [
    "b=71.22"
   ]
  },
  {
   "cell_type": "code",
   "execution_count": 4,
   "id": "5fce68b8",
   "metadata": {},
   "outputs": [
    {
     "data": {
      "text/plain": [
       "float"
      ]
     },
     "execution_count": 4,
     "metadata": {},
     "output_type": "execute_result"
    }
   ],
   "source": [
    "type(b)"
   ]
  },
  {
   "cell_type": "code",
   "execution_count": 5,
   "id": "28c18343",
   "metadata": {},
   "outputs": [],
   "source": [
    "c='hello'"
   ]
  },
  {
   "cell_type": "code",
   "execution_count": 6,
   "id": "9eb1eb9c",
   "metadata": {},
   "outputs": [
    {
     "data": {
      "text/plain": [
       "str"
      ]
     },
     "execution_count": 6,
     "metadata": {},
     "output_type": "execute_result"
    }
   ],
   "source": [
    "type(c)"
   ]
  },
  {
   "cell_type": "code",
   "execution_count": 7,
   "id": "b9695aa3",
   "metadata": {},
   "outputs": [],
   "source": [
    "a1_=30"
   ]
  },
  {
   "cell_type": "code",
   "execution_count": 8,
   "id": "d8c1523e",
   "metadata": {},
   "outputs": [
    {
     "ename": "NameError",
     "evalue": "name 'al' is not defined",
     "output_type": "error",
     "traceback": [
      "\u001b[1;31m---------------------------------------------------------------------------\u001b[0m",
      "\u001b[1;31mNameError\u001b[0m                                 Traceback (most recent call last)",
      "\u001b[1;32m~\\AppData\\Local\\Temp\\ipykernel_41564\\1764412770.py\u001b[0m in \u001b[0;36m<module>\u001b[1;34m\u001b[0m\n\u001b[1;32m----> 1\u001b[1;33m \u001b[0mal\u001b[0m\u001b[1;33m@=\u001b[0m\u001b[1;36m20\u001b[0m\u001b[1;33m\u001b[0m\u001b[1;33m\u001b[0m\u001b[0m\n\u001b[0m",
      "\u001b[1;31mNameError\u001b[0m: name 'al' is not defined"
     ]
    }
   ],
   "source": [
    "al@=20"
   ]
  },
  {
   "cell_type": "code",
   "execution_count": 9,
   "id": "cb947d2a",
   "metadata": {},
   "outputs": [],
   "source": [
    "a=30"
   ]
  },
  {
   "cell_type": "code",
   "execution_count": 10,
   "id": "4a9ac98b",
   "metadata": {},
   "outputs": [
    {
     "ename": "SyntaxError",
     "evalue": "invalid syntax (3233142308.py, line 1)",
     "output_type": "error",
     "traceback": [
      "\u001b[1;36m  File \u001b[1;32m\"C:\\Users\\thenu\\AppData\\Local\\Temp\\ipykernel_41564\\3233142308.py\"\u001b[1;36m, line \u001b[1;32m1\u001b[0m\n\u001b[1;33m    1a\u001b[0m\n\u001b[1;37m     ^\u001b[0m\n\u001b[1;31mSyntaxError\u001b[0m\u001b[1;31m:\u001b[0m invalid syntax\n"
     ]
    }
   ],
   "source": [
    "1a"
   ]
  },
  {
   "cell_type": "code",
   "execution_count": 13,
   "id": "3af6ca6f",
   "metadata": {},
   "outputs": [],
   "source": [
    "_a=30"
   ]
  },
  {
   "cell_type": "code",
   "execution_count": 14,
   "id": "2d2d9f9e",
   "metadata": {},
   "outputs": [
    {
     "ename": "SyntaxError",
     "evalue": "invalid syntax (2464643345.py, line 1)",
     "output_type": "error",
     "traceback": [
      "\u001b[1;36m  File \u001b[1;32m\"C:\\Users\\thenu\\AppData\\Local\\Temp\\ipykernel_41564\\2464643345.py\"\u001b[1;36m, line \u001b[1;32m1\u001b[0m\n\u001b[1;33m    hello partner\u001b[0m\n\u001b[1;37m          ^\u001b[0m\n\u001b[1;31mSyntaxError\u001b[0m\u001b[1;31m:\u001b[0m invalid syntax\n"
     ]
    }
   ],
   "source": [
    "hello partner"
   ]
  },
  {
   "cell_type": "code",
   "execution_count": null,
   "id": "4a082991",
   "metadata": {},
   "outputs": [],
   "source": [
    "harry"
   ]
  },
  {
   "cell_type": "code",
   "execution_count": null,
   "id": "eea422df",
   "metadata": {},
   "outputs": [],
   "source": [
    "seven_"
   ]
  },
  {
   "cell_type": "code",
   "execution_count": null,
   "id": "08f24b34",
   "metadata": {},
   "outputs": [],
   "source": [
    "_seven"
   ]
  },
  {
   "cell_type": "code",
   "execution_count": null,
   "id": "c74f8371",
   "metadata": {},
   "outputs": [],
   "source": [
    "krish"
   ]
  },
  {
   "cell_type": "code",
   "execution_count": null,
   "id": "e08c08ad",
   "metadata": {},
   "outputs": [],
   "source": [
    "shriyan"
   ]
  },
  {
   "cell_type": "code",
   "execution_count": null,
   "id": "b9ddbef6",
   "metadata": {},
   "outputs": [],
   "source": [
    "one8"
   ]
  },
  {
   "cell_type": "code",
   "execution_count": null,
   "id": "099f462c",
   "metadata": {},
   "outputs": [],
   "source": [
    "_digit"
   ]
  },
  {
   "cell_type": "code",
   "execution_count": null,
   "id": "e880f8dc",
   "metadata": {},
   "outputs": [],
   "source": [
    "seven"
   ]
  },
  {
   "cell_type": "code",
   "execution_count": null,
   "id": "36289f4c",
   "metadata": {},
   "outputs": [],
   "source": [
    "#nine"
   ]
  },
  {
   "cell_type": "code",
   "execution_count": 15,
   "id": "052cc0d0",
   "metadata": {},
   "outputs": [],
   "source": [
    "#arithmetic operators +-% /"
   ]
  },
  {
   "cell_type": "code",
   "execution_count": 16,
   "id": "60a8762c",
   "metadata": {},
   "outputs": [
    {
     "name": "stdout",
     "output_type": "stream",
     "text": [
      "70\n",
      "-10\n"
     ]
    }
   ],
   "source": [
    "a=30\n",
    "b=40\n",
    "c=a+b\n",
    "d=a-b\n",
    "e=a%b\n",
    "f=a/b\n",
    "\n",
    "\n",
    "print(c)\n",
    "print(d)\n"
   ]
  },
  {
   "cell_type": "code",
   "execution_count": 20,
   "id": "478c95c7",
   "metadata": {},
   "outputs": [
    {
     "name": "stdout",
     "output_type": "stream",
     "text": [
      "0.75\n"
     ]
    }
   ],
   "source": [
    "f=a/b\n",
    "print(f)"
   ]
  },
  {
   "cell_type": "code",
   "execution_count": 19,
   "id": "ae89b275",
   "metadata": {},
   "outputs": [
    {
     "name": "stdout",
     "output_type": "stream",
     "text": [
      "-10\n"
     ]
    }
   ],
   "source": [
    "d=a-b\n",
    "print(d)"
   ]
  },
  {
   "cell_type": "code",
   "execution_count": 18,
   "id": "7fc59a20",
   "metadata": {},
   "outputs": [
    {
     "name": "stdout",
     "output_type": "stream",
     "text": [
      "30\n"
     ]
    }
   ],
   "source": [
    "e=a%b\n",
    "print(e)"
   ]
  },
  {
   "cell_type": "code",
   "execution_count": 17,
   "id": "bc662638",
   "metadata": {},
   "outputs": [
    {
     "name": "stdout",
     "output_type": "stream",
     "text": [
      "70\n"
     ]
    }
   ],
   "source": [
    "c=a+b\n",
    "print(c)"
   ]
  },
  {
   "cell_type": "code",
   "execution_count": 21,
   "id": "09ed6321",
   "metadata": {},
   "outputs": [],
   "source": [
    "s=set()"
   ]
  },
  {
   "cell_type": "code",
   "execution_count": 22,
   "id": "7a8217c9",
   "metadata": {},
   "outputs": [],
   "source": [
    "s.add(1)"
   ]
  },
  {
   "cell_type": "code",
   "execution_count": 23,
   "id": "f47b3e8f",
   "metadata": {},
   "outputs": [
    {
     "name": "stdout",
     "output_type": "stream",
     "text": [
      "{1}\n"
     ]
    }
   ],
   "source": [
    "print(s)"
   ]
  },
  {
   "cell_type": "code",
   "execution_count": 24,
   "id": "8f7b8b11",
   "metadata": {},
   "outputs": [],
   "source": [
    "s.add(2)"
   ]
  },
  {
   "cell_type": "code",
   "execution_count": 25,
   "id": "d6556448",
   "metadata": {},
   "outputs": [],
   "source": [
    "s.add(4)"
   ]
  },
  {
   "cell_type": "code",
   "execution_count": 26,
   "id": "3147ebfc",
   "metadata": {},
   "outputs": [],
   "source": [
    "s.add(2)"
   ]
  },
  {
   "cell_type": "code",
   "execution_count": 27,
   "id": "f46ccf40",
   "metadata": {},
   "outputs": [
    {
     "name": "stdout",
     "output_type": "stream",
     "text": [
      "{1, 2, 4}\n"
     ]
    }
   ],
   "source": [
    "print(s)"
   ]
  },
  {
   "cell_type": "code",
   "execution_count": null,
   "id": "b334f660",
   "metadata": {},
   "outputs": [],
   "source": []
  }
 ],
 "metadata": {
  "kernelspec": {
   "display_name": "Python 3 (ipykernel)",
   "language": "python",
   "name": "python3"
  },
  "language_info": {
   "codemirror_mode": {
    "name": "ipython",
    "version": 3
   },
   "file_extension": ".py",
   "mimetype": "text/x-python",
   "name": "python",
   "nbconvert_exporter": "python",
   "pygments_lexer": "ipython3",
   "version": "3.9.13"
  }
 },
 "nbformat": 4,
 "nbformat_minor": 5
}
